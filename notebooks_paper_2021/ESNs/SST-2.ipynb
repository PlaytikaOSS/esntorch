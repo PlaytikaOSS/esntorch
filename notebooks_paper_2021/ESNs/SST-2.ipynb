{
 "cells": [
  {
   "cell_type": "markdown",
   "metadata": {},
   "source": [
    "# SST-2: TEXT Classification + BERT + Ax"
   ]
  },
  {
   "cell_type": "markdown",
   "metadata": {},
   "source": [
    "## Librairies"
   ]
  },
  {
   "cell_type": "code",
   "execution_count": null,
   "metadata": {},
   "outputs": [],
   "source": [
    "# !pip install transformers==4.8.2\n",
    "# !pip install datasets==1.7.0\n",
    "# !pip install ax-platform==0.1.20\n",
    "# !pip install ipywidgets\n",
    "# !jupyter nbextension enable --py widgetsnbextension"
   ]
  },
  {
   "cell_type": "code",
   "execution_count": 2,
   "metadata": {},
   "outputs": [],
   "source": [
    "import os\n",
    "import sys"
   ]
  },
  {
   "cell_type": "code",
   "execution_count": 5,
   "metadata": {},
   "outputs": [],
   "source": [
    "import io\n",
    "import re\n",
    "import pickle\n",
    "from timeit import default_timer as timer\n",
    "\n",
    "import numpy as np\n",
    "\n",
    "import torch\n",
    "import torch.nn as nn\n",
    "import torch.optim as optim\n",
    "\n",
    "from datasets import load_dataset, Dataset, concatenate_datasets\n",
    "from transformers import AutoTokenizer\n",
    "from transformers import BertModel\n",
    "from transformers.data.data_collator import DataCollatorWithPadding\n",
    "\n",
    "from ax import optimize\n",
    "from ax.plot.contour import plot_contour\n",
    "from ax.plot.trace import optimization_trace_single_method\n",
    "from ax.service.managed_loop import optimize\n",
    "from ax.utils.notebook.plotting import render, init_notebook_plotting\n",
    "\n",
    "import esntorch.core.reservoir as res\n",
    "import esntorch.core.learning_algo as la\n",
    "import esntorch.core.merging_strategy as ms\n",
    "import esntorch.core.esn as esn"
   ]
  },
  {
   "cell_type": "code",
   "execution_count": 6,
   "metadata": {},
   "outputs": [],
   "source": [
    "%config Completer.use_jedi = False\n",
    "%load_ext autoreload\n",
    "%autoreload 2"
   ]
  },
  {
   "cell_type": "code",
   "execution_count": 7,
   "metadata": {},
   "outputs": [
    {
     "data": {
      "text/plain": [
       "device(type='cpu')"
      ]
     },
     "execution_count": 7,
     "metadata": {},
     "output_type": "execute_result"
    }
   ],
   "source": [
    "device = torch.device('cuda' if torch.cuda.is_available() else 'cpu')\n",
    "device"
   ]
  },
  {
   "cell_type": "code",
   "execution_count": 8,
   "metadata": {},
   "outputs": [],
   "source": [
    "SEED = 42"
   ]
  },
  {
   "cell_type": "code",
   "execution_count": null,
   "metadata": {},
   "outputs": [],
   "source": []
  },
  {
   "cell_type": "markdown",
   "metadata": {},
   "source": [
    "## Global variables"
   ]
  },
  {
   "cell_type": "code",
   "execution_count": 8,
   "metadata": {},
   "outputs": [],
   "source": [
    "RESULTS_PATH = '~/Results/Ax_results/ESN' # path of your result folder\n",
    "CACHE_DIR = '~/Data/huggignface/'         # path of your  folder\n",
    "\n",
    "PARAMS_FILE = 'sst-2_params.pkl'\n",
    "RESULTS_FILE = 'sst-2_results.pkl' # add bidirectional if necessary"
   ]
  },
  {
   "cell_type": "code",
   "execution_count": null,
   "metadata": {},
   "outputs": [],
   "source": []
  },
  {
   "cell_type": "markdown",
   "metadata": {},
   "source": [
    "## Dataset"
   ]
  },
  {
   "cell_type": "code",
   "execution_count": 22,
   "metadata": {},
   "outputs": [],
   "source": [
    "# rename correct column as 'labels': depends on the dataset you load\n",
    "\n",
    "def load_and_enrich_dataset(*dataset_name, split, cache_dir):\n",
    "    \n",
    "    dataset = load_dataset(*dataset_name, split=split, cache_dir=CACHE_DIR)\n",
    "    \n",
    "    def clean(example):\n",
    "        example['text'] = example['text'].replace('-LRB-', '(').replace('-RRB-', ')').replace(r'\\/', r'/')\n",
    "        return example\n",
    "        \n",
    "    if 'sentence' in dataset.column_names:\n",
    "        dataset = dataset.rename_column('sentence', 'text')\n",
    "        \n",
    "    dataset = dataset.map(clean)\n",
    "    dataset = dataset.rename_column('label', 'labels')\n",
    "    \n",
    "    dataset = dataset.map(lambda e: tokenizer(e['text'], truncation=True, padding=False), batched=True)\n",
    "    \n",
    "    dataset.set_format(type='torch', columns=['input_ids', 'attention_mask', 'labels'])\n",
    "\n",
    "    def add_lengths(sample):\n",
    "        sample[\"lengths\"] = sum(sample[\"input_ids\"] != 0)\n",
    "        return sample\n",
    "    \n",
    "    dataset = dataset.map(add_lengths, batched=False)\n",
    "    \n",
    "    return dataset"
   ]
  },
  {
   "cell_type": "code",
   "execution_count": null,
   "metadata": {
    "scrolled": true
   },
   "outputs": [],
   "source": [
    "tokenizer = AutoTokenizer.from_pretrained('bert-base-uncased')\n",
    "\n",
    "train_dataset = load_and_enrich_dataset('glue', 'sst2', split='train', cache_dir=CACHE_DIR).sort(\"lengths\")\n",
    "val_dataset = load_and_enrich_dataset('glue', 'sst2', split='validation', cache_dir=CACHE_DIR).sort(\"lengths\")\n",
    "test_dataset = load_and_enrich_dataset('gpt3mix/sst2', split='test', cache_dir=CACHE_DIR).sort(\"lengths\")\n",
    "def revert(example):\n",
    "    example['labels'] = np.abs(example['labels'] - 1) # revert labels of test set\n",
    "    return example\n",
    "test_dataset = test_dataset.map(revert) # revert labels of test set\n",
    "\n",
    "\n",
    "dataset_d = {\n",
    "    'full_train': train_dataset,\n",
    "    'train': train_dataset,\n",
    "    'val': val_dataset,\n",
    "    'test': test_dataset\n",
    "    }\n",
    "\n",
    "dataloader_d = {}\n",
    "for k, v in dataset_d.items():\n",
    "    dataloader_d[k] = torch.utils.data.DataLoader(v, batch_size=256, collate_fn=DataCollatorWithPadding(tokenizer))"
   ]
  },
  {
   "cell_type": "code",
   "execution_count": 24,
   "metadata": {},
   "outputs": [
    {
     "data": {
      "text/plain": [
       "{'full_train': Dataset({\n",
       "     features: ['attention_mask', 'idx', 'input_ids', 'labels', 'lengths', 'text', 'token_type_ids'],\n",
       "     num_rows: 67349\n",
       " }),\n",
       " 'train': Dataset({\n",
       "     features: ['attention_mask', 'idx', 'input_ids', 'labels', 'lengths', 'text', 'token_type_ids'],\n",
       "     num_rows: 67349\n",
       " }),\n",
       " 'val': Dataset({\n",
       "     features: ['attention_mask', 'idx', 'input_ids', 'labels', 'lengths', 'text', 'token_type_ids'],\n",
       "     num_rows: 872\n",
       " }),\n",
       " 'test': Dataset({\n",
       "     features: ['attention_mask', 'input_ids', 'labels', 'lengths', 'text', 'token_type_ids'],\n",
       "     num_rows: 1821\n",
       " })}"
      ]
     },
     "execution_count": 24,
     "metadata": {},
     "output_type": "execute_result"
    }
   ],
   "source": [
    "dataset_d"
   ]
  },
  {
   "cell_type": "code",
   "execution_count": null,
   "metadata": {},
   "outputs": [],
   "source": []
  },
  {
   "cell_type": "markdown",
   "metadata": {},
   "source": [
    "## Optimization"
   ]
  },
  {
   "cell_type": "code",
   "execution_count": 11,
   "metadata": {},
   "outputs": [],
   "source": [
    "def fitness(leaking_rate, \n",
    "            spectral_radius, \n",
    "            input_scaling, \n",
    "            bias_scaling, \n",
    "            alpha, \n",
    "            reservoir_dim, \n",
    "            dataset_d, \n",
    "            dataloader_d, \n",
    "            seed_l=[1991, 420, 666, 1979, 7], # 5 seeds\n",
    "            return_test_acc=False):\n",
    "    \n",
    "    acc_l = []\n",
    "    time_l = []\n",
    "    \n",
    "    for seed in seed_l:\n",
    "    \n",
    "        # parameters\n",
    "        esn_params = {\n",
    "                    'embedding_weights': 'bert-base-uncased', # TEXT.vocab.vectors,\n",
    "                    'distribution' : 'uniform',               # uniform, gaussian\n",
    "                    'input_dim' : 768,                        # dim of encoding!\n",
    "                    'reservoir_dim' : reservoir_dim,\n",
    "                    'bias_scaling' : bias_scaling,\n",
    "                    'sparsity' : 0.99,\n",
    "                    'spectral_radius' : spectral_radius,\n",
    "                    'leaking_rate': leaking_rate,\n",
    "                    'activation_function' : 'tanh',\n",
    "                    'input_scaling' : input_scaling,\n",
    "                    'mean' : 0.0,\n",
    "                    'std' : 1.0,\n",
    "                    'learning_algo' : None,\n",
    "                    'criterion' : None,\n",
    "                    'optimizer' : None,\n",
    "                    'merging_strategy' : 'mean',\n",
    "                    'lexicon' : None,\n",
    "                    'bidirectional' : True, # True\n",
    "                    'device' : device,\n",
    "                    'seed' : seed\n",
    "                     }\n",
    "\n",
    "        # model\n",
    "        ESN = esn.EchoStateNetwork(**esn_params)\n",
    "\n",
    "        ESN.learning_algo = la.RidgeRegression(alpha = alpha)# , mode='normalize')\n",
    "\n",
    "        ESN = ESN.to(device)\n",
    "\n",
    "        # warm up (new)\n",
    "        nb_sentences = 3\n",
    "        for i in range(nb_sentences): \n",
    "\n",
    "            sentence = dataset_d[\"train\"].select([i])\n",
    "            dataloader_tmp = torch.utils.data.DataLoader(sentence, \n",
    "                                                         batch_size=1, \n",
    "                                                         collate_fn=DataCollatorWithPadding(tokenizer))  \n",
    "\n",
    "            for sentence in dataloader_tmp:\n",
    "                ESN.warm_up(sentence)\n",
    "        \n",
    "        # predict\n",
    "        if return_test_acc:\n",
    "            t0 = timer()\n",
    "            LOSS = ESN.fit(dataloader_d[\"full_train\"])\n",
    "            t1 = timer()\n",
    "            time_l.append(t1 - t0)\n",
    "            acc = ESN.predict(dataloader_d[\"test\"], verbose=False)[1].item()\n",
    "        else:\n",
    "            LOSS = ESN.fit(dataloader_d[\"train\"])\n",
    "            acc = ESN.predict(dataloader_d[\"val\"], verbose=False)[1].item()\n",
    "\n",
    "        acc_l.append(acc)\n",
    "        \n",
    "        # clean objects\n",
    "        del ESN.learning_algo\n",
    "        del ESN.criterion\n",
    "        del ESN.merging_strategy\n",
    "        del ESN\n",
    "        torch.cuda.empty_cache()\n",
    "    \n",
    "    if return_test_acc:\n",
    "        return np.mean(acc_l), np.std(acc_l), np.mean(time_l), np.std(time_l)\n",
    "    else:\n",
    "        return np.mean(acc_l)"
   ]
  },
  {
   "cell_type": "code",
   "execution_count": 12,
   "metadata": {},
   "outputs": [],
   "source": [
    "# %%time\n",
    "\n",
    "# fitness(leaking_rate=0.2, spectral_radius=1.1, input_scaling=0.8, bias_scaling=1.0, alpha=10, reservoir_dim=500, dataset_d=dataset_d, dataloader_d=dataloader_d)"
   ]
  },
  {
   "cell_type": "code",
   "execution_count": 13,
   "metadata": {},
   "outputs": [],
   "source": [
    "def wrapped_fitness(d, return_test_acc=False):\n",
    "    \n",
    "    return fitness(leaking_rate=d['leaking_rate'],\n",
    "                   spectral_radius=d['spectral_radius'],\n",
    "                   input_scaling=d['input_scaling'],\n",
    "                   bias_scaling=d['bias_scaling'],\n",
    "                   alpha=d['alpha'],\n",
    "                   reservoir_dim=d['reservoir_dim'], # will be in the loop\n",
    "                   dataset_d=dataset_d,\n",
    "                   dataloader_d=dataloader_d,\n",
    "                   return_test_acc=return_test_acc)"
   ]
  },
  {
   "cell_type": "code",
   "execution_count": 14,
   "metadata": {},
   "outputs": [],
   "source": [
    "# *** WARNING *** DO NO EXECUTE NEXT CELLS IF BIDIRECTIONAL MODE (OPTIM ALREADY DONE)"
   ]
  },
  {
   "cell_type": "code",
   "execution_count": null,
   "metadata": {
    "scrolled": true
   },
   "outputs": [
    {
     "name": "stderr",
     "output_type": "stream",
     "text": [
      "[INFO 06-13 21:02:37] ax.modelbridge.dispatch_utils: Using Bayesian Optimization generation strategy: GenerationStrategy(name='Sobol+GPEI', steps=[Sobol for 6 trials, GPEI for subsequent trials]). Iterations after 6 will take longer to generate due to  model-fitting.\n",
      "[INFO 06-13 21:02:37] ax.service.managed_loop: Started full optimization with 40 steps.\n",
      "[INFO 06-13 21:02:37] ax.service.managed_loop: Running optimization trial 1...\n",
      "[INFO 06-13 21:12:51] ax.service.managed_loop: Running optimization trial 2...\n",
      "[INFO 06-13 21:23:06] ax.service.managed_loop: Running optimization trial 3...\n",
      "[INFO 06-13 21:33:20] ax.service.managed_loop: Running optimization trial 4...\n",
      "[INFO 06-13 21:43:32] ax.service.managed_loop: Running optimization trial 5...\n",
      "[INFO 06-13 21:53:43] ax.service.managed_loop: Running optimization trial 6...\n",
      "[INFO 06-13 22:03:52] ax.service.managed_loop: Running optimization trial 7...\n",
      "[INFO 06-13 22:13:59] ax.service.managed_loop: Running optimization trial 8...\n"
     ]
    }
   ],
   "source": [
    "best_params_d = {}\n",
    "\n",
    "for res_dim in [500, 1000, 3000, 5000]:\n",
    "\n",
    "    best_parameters, best_values, experiment, model = optimize(\n",
    "            parameters=[\n",
    "              {\n",
    "                \"name\": \"leaking_rate\",\n",
    "                \"value_type\": \"float\",\n",
    "                \"type\": \"range\",\n",
    "                \"bounds\": [0.0, 0.999],\n",
    "              },\n",
    "              {\n",
    "                \"name\": \"spectral_radius\",\n",
    "                \"value_type\": \"float\",\n",
    "                \"type\": \"range\",\n",
    "                \"bounds\": [0.2, 1.7],\n",
    "              },\n",
    "              {\n",
    "                \"name\": \"input_scaling\",\n",
    "                \"value_type\": \"float\",\n",
    "                \"type\": \"range\",\n",
    "                \"bounds\": [0.1, 3.0],\n",
    "              },\n",
    "              {\n",
    "                \"name\": \"bias_scaling\",\n",
    "                \"value_type\": \"float\",\n",
    "                \"type\": \"range\",\n",
    "                \"bounds\": [0.1, 3.0],\n",
    "              },\n",
    "              {\n",
    "                \"name\": \"alpha\",\n",
    "                \"value_type\": \"float\",\n",
    "                \"type\": \"range\",\n",
    "                \"log_scale\": True,\n",
    "                \"bounds\": [1e-3, 1e3],\n",
    "              },\n",
    "              {\n",
    "                \"name\": \"reservoir_dim\",\n",
    "                \"value_type\": \"int\",\n",
    "                \"type\": \"fixed\",\n",
    "                \"value\": res_dim,\n",
    "              }\n",
    "            ],\n",
    "            # Booth function\n",
    "            evaluation_function = wrapped_fitness,\n",
    "            minimize = False,\n",
    "            objective_name = 'val_accuracy',\n",
    "            total_trials = 40\n",
    "        )\n",
    "    \n",
    "    # results\n",
    "    best_params_d[res_dim] = {}\n",
    "    best_params_d[res_dim]['best_parameters'] = best_parameters\n",
    "    best_params_d[res_dim]['best_values'] = best_values\n",
    "    best_params_d[res_dim]['experiment'] = experiment\n",
    "    # best_params_d[res_dim]['model'] = model"
   ]
  },
  {
   "cell_type": "code",
   "execution_count": null,
   "metadata": {},
   "outputs": [],
   "source": []
  },
  {
   "cell_type": "markdown",
   "metadata": {},
   "source": [
    "## Results"
   ]
  },
  {
   "cell_type": "code",
   "execution_count": 25,
   "metadata": {},
   "outputs": [],
   "source": [
    "# best parameters\n",
    "\n",
    "with open(os.path.join(RESULTS_PATH, PARAMS_FILE), 'wb') as fh:\n",
    "    pickle.dump(best_params_d, fh)"
   ]
  },
  {
   "cell_type": "code",
   "execution_count": 14,
   "metadata": {},
   "outputs": [],
   "source": [
    "# # load results\n",
    "#\n",
    "# with open(os.path.join(RESULTS_PATH, PARAMS_FILE), 'rb') as fh:\n",
    "#     best_params_d = pickle.load(fh)"
   ]
  },
  {
   "cell_type": "code",
   "execution_count": 15,
   "metadata": {},
   "outputs": [
    {
     "data": {
      "text/plain": [
       "{500: {'best_parameters': {'leaking_rate': 0.47695718066691795,\n",
       "   'spectral_radius': 0.9806841635334129,\n",
       "   'input_scaling': 0.39442745732230466,\n",
       "   'bias_scaling': 2.9913935509428167,\n",
       "   'alpha': 187.24443736915234,\n",
       "   'reservoir_dim': 500},\n",
       "  'best_values': ({'val_accuracy': 85.42499653051203},\n",
       "   {'val_accuracy': {'val_accuracy': 0.0002917334367039788}}),\n",
       "  'experiment': SimpleExperiment(None)},\n",
       " 1000: {'best_parameters': {'leaking_rate': 0.999,\n",
       "   'spectral_radius': 1.4065436383676726,\n",
       "   'input_scaling': 3.0,\n",
       "   'bias_scaling': 1.204768167389038,\n",
       "   'alpha': 368.1204122844207,\n",
       "   'reservoir_dim': 1000},\n",
       "  'best_values': ({'val_accuracy': 85.91037417355504},\n",
       "   {'val_accuracy': {'val_accuracy': 0.002372900082448123}}),\n",
       "  'experiment': SimpleExperiment(None)},\n",
       " 3000: {'best_parameters': {'leaking_rate': 0.21235683692622584,\n",
       "   'spectral_radius': 0.974603168832477,\n",
       "   'input_scaling': 0.45175238088928504,\n",
       "   'bias_scaling': 1.4961239017801158,\n",
       "   'alpha': 163.07251835798152,\n",
       "   'reservoir_dim': 3000},\n",
       "  'best_values': ({'val_accuracy': 86.47166709547247},\n",
       "   {'val_accuracy': {'val_accuracy': 0.16403330992405837}}),\n",
       "  'experiment': SimpleExperiment(None)},\n",
       " 5000: {'best_parameters': {'leaking_rate': 0.747837775232408,\n",
       "   'spectral_radius': 1.4067287057291542,\n",
       "   'input_scaling': 2.9999999999999996,\n",
       "   'bias_scaling': 1.096076631629273,\n",
       "   'alpha': 684.6981621465045,\n",
       "   'reservoir_dim': 5000},\n",
       "  'best_values': ({'val_accuracy': 86.71004570766495},\n",
       "   {'val_accuracy': {'val_accuracy': 0.0032099177520948253}}),\n",
       "  'experiment': SimpleExperiment(None)}}"
      ]
     },
     "execution_count": 15,
     "metadata": {},
     "output_type": "execute_result"
    }
   ],
   "source": [
    "best_params_d"
   ]
  },
  {
   "cell_type": "code",
   "execution_count": 16,
   "metadata": {},
   "outputs": [
    {
     "name": "stdout",
     "output_type": "stream",
     "text": [
      "Experiment finished.\n",
      "Experiment finished.\n",
      "Experiment finished.\n",
      "Experiment finished.\n"
     ]
    }
   ],
   "source": [
    "# results\n",
    "\n",
    "results_d = {}\n",
    "\n",
    "for res_dim in [500, 1000, 3000, 5000]:\n",
    "    \n",
    "    best_parameters = best_params_d[res_dim]['best_parameters']\n",
    "    acc, acc_std, time, time_std = wrapped_fitness(best_parameters, return_test_acc=True)\n",
    "    results_d[res_dim] = acc, acc_std, time, time_std\n",
    "    print(\"Experiment finished.\")"
   ]
  },
  {
   "cell_type": "code",
   "execution_count": 17,
   "metadata": {},
   "outputs": [
    {
     "data": {
      "text/plain": [
       "{500: (84.15156555175781,\n",
       "  0.3782338275805986,\n",
       "  136.6237069355324,\n",
       "  0.9166563086117541),\n",
       " 1000: (84.84349365234375,\n",
       "  0.3331292053011683,\n",
       "  136.48797907084227,\n",
       "  0.5450728294595891),\n",
       " 3000: (85.48050537109376,\n",
       "  0.13270701340725286,\n",
       "  149.14078205926344,\n",
       "  0.4957212838617135),\n",
       " 5000: (85.80999450683593,\n",
       "  0.4059257223968821,\n",
       "  205.13034001868218,\n",
       "  1.0576259955703051)}"
      ]
     },
     "execution_count": 17,
     "metadata": {},
     "output_type": "execute_result"
    }
   ],
   "source": [
    "results_d"
   ]
  },
  {
   "cell_type": "code",
   "execution_count": 18,
   "metadata": {},
   "outputs": [],
   "source": [
    "# with open(os.path.join(RESULTS_PATH, RESULTS_FILE), 'wb') as fh:\n",
    "#     pickle.dump(results_d, fh)"
   ]
  },
  {
   "cell_type": "code",
   "execution_count": null,
   "metadata": {},
   "outputs": [],
   "source": []
  },
  {
   "cell_type": "code",
   "execution_count": 17,
   "metadata": {},
   "outputs": [],
   "source": [
    "# load results\n",
    "with open(os.path.join(RESULTS_PATH, 'sst-2_bidirectional_results.pkl'), 'rb') as fh:\n",
    "    results = pickle.load(fh)"
   ]
  },
  {
   "cell_type": "code",
   "execution_count": 18,
   "metadata": {},
   "outputs": [
    {
     "data": {
      "text/plain": [
       "{500: (84.15156555175781,\n",
       "  0.3782338275805986,\n",
       "  136.6237069355324,\n",
       "  0.9166563086117541),\n",
       " 1000: (84.84349365234375,\n",
       "  0.3331292053011683,\n",
       "  136.48797907084227,\n",
       "  0.5450728294595891),\n",
       " 3000: (85.48050537109376,\n",
       "  0.13270701340725286,\n",
       "  149.14078205926344,\n",
       "  0.4957212838617135),\n",
       " 5000: (85.80999450683593,\n",
       "  0.4059257223968821,\n",
       "  205.13034001868218,\n",
       "  1.0576259955703051)}"
      ]
     },
     "execution_count": 18,
     "metadata": {},
     "output_type": "execute_result"
    }
   ],
   "source": [
    "results"
   ]
  },
  {
   "cell_type": "code",
   "execution_count": null,
   "metadata": {},
   "outputs": [],
   "source": []
  }
 ],
 "metadata": {
  "kernelspec": {
   "display_name": "Python 3",
   "language": "python",
   "name": "python3"
  },
  "language_info": {
   "codemirror_mode": {
    "name": "ipython",
    "version": 3
   },
   "file_extension": ".py",
   "mimetype": "text/x-python",
   "name": "python",
   "nbconvert_exporter": "python",
   "pygments_lexer": "ipython3",
   "version": "3.7.9"
  }
 },
 "nbformat": 4,
 "nbformat_minor": 4
}
