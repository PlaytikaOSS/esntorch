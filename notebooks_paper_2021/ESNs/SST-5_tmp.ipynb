{
 "cells": [
  {
   "cell_type": "markdown",
   "metadata": {},
   "source": [
    "# SST-5: TEXT Classification + BERT + Ax"
   ]
  },
  {
   "cell_type": "markdown",
   "metadata": {},
   "source": [
    "## Librairies"
   ]
  },
  {
   "cell_type": "code",
   "execution_count": 2,
   "metadata": {},
   "outputs": [],
   "source": [
    "import os\n",
    "import sys"
   ]
  },
  {
   "cell_type": "code",
   "execution_count": 5,
   "metadata": {},
   "outputs": [],
   "source": [
    "import io\n",
    "import re\n",
    "import pickle\n",
    "from timeit import default_timer as timer\n",
    "\n",
    "import numpy as np\n",
    "\n",
    "import torch\n",
    "import torch.nn as nn\n",
    "import torch.optim as optim\n",
    "\n",
    "from datasets import load_dataset, Dataset, concatenate_datasets\n",
    "from transformers import AutoTokenizer\n",
    "from transformers import BertModel\n",
    "from transformers.data.data_collator import DataCollatorWithPadding\n",
    "\n",
    "from ax import optimize\n",
    "from ax.plot.contour import plot_contour\n",
    "from ax.plot.trace import optimization_trace_single_method\n",
    "from ax.service.managed_loop import optimize\n",
    "from ax.utils.notebook.plotting import render, init_notebook_plotting\n",
    "\n",
    "import esntorch.core.reservoir as res\n",
    "import esntorch.core.learning_algo as la\n",
    "import esntorch.core.merging_strategy as ms\n",
    "import esntorch.core.esn as esn"
   ]
  },
  {
   "cell_type": "code",
   "execution_count": 6,
   "metadata": {},
   "outputs": [],
   "source": [
    "%config Completer.use_jedi = False\n",
    "%load_ext autoreload\n",
    "%autoreload 2"
   ]
  },
  {
   "cell_type": "code",
   "execution_count": 7,
   "metadata": {},
   "outputs": [
    {
     "data": {
      "text/plain": [
       "device(type='cpu')"
      ]
     },
     "execution_count": 7,
     "metadata": {},
     "output_type": "execute_result"
    }
   ],
   "source": [
    "device = torch.device('cuda' if torch.cuda.is_available() else 'cpu')\n",
    "device"
   ]
  },
  {
   "cell_type": "code",
   "execution_count": 8,
   "metadata": {},
   "outputs": [],
   "source": [
    "SEED = 42"
   ]
  },
  {
   "cell_type": "code",
   "execution_count": null,
   "metadata": {},
   "outputs": [],
   "source": []
  },
  {
   "cell_type": "markdown",
   "metadata": {},
   "source": [
    "## Global variables"
   ]
  },
  {
   "cell_type": "code",
   "execution_count": 1,
   "metadata": {},
   "outputs": [],
   "source": [
    "RESULTS_PATH = '~/Results/Ax_results/ESN' # path of your result folder\n",
    "CACHE_DIR = '~/Data/huggignface/'         # path of your  folder\n",
    "\n",
    "PARAMS_FILE = 'sst-5_params.pkl'\n",
    "RESULTS_FILE = 'sst-5_results.pkl'"
   ]
  },
  {
   "cell_type": "code",
   "execution_count": null,
   "metadata": {},
   "outputs": [],
   "source": []
  },
  {
   "cell_type": "markdown",
   "metadata": {},
   "source": [
    "## Dataset"
   ]
  },
  {
   "cell_type": "code",
   "execution_count": 8,
   "metadata": {},
   "outputs": [],
   "source": [
    "# rename correct column as 'labels': depends on the dataset you load\n",
    "\n",
    "def load_and_enrich_dataset(dataset_name, split, cache_dir):\n",
    "    \n",
    "    dataset = load_dataset(dataset_name, split=split, cache_dir=CACHE_DIR)\n",
    "    \n",
    "    # dataset = dataset.rename_column('label', 'labels')\n",
    "    \n",
    "    def update_label(sample):\n",
    "        sample[\"labels\"] = int(sample[\"label\"] * 10 // 2)\n",
    "        return sample\n",
    "    \n",
    "    dataset = dataset.map(update_label, batched=False)\n",
    "    \n",
    "    dataset = dataset.map(lambda e: tokenizer(e['sentence'], truncation=True, padding=False), batched=True) # here 'text' is called 'sentence'\n",
    "    dataset.set_format(type='torch', columns=['input_ids', 'attention_mask', 'labels'])\n",
    "\n",
    "    def add_lengths(sample):\n",
    "        sample[\"lengths\"] = sum(sample[\"input_ids\"] != 0)\n",
    "        return sample\n",
    "    \n",
    "    dataset = dataset.map(add_lengths, batched=False)\n",
    "    \n",
    "    return dataset"
   ]
  },
  {
   "cell_type": "code",
   "execution_count": 9,
   "metadata": {},
   "outputs": [
    {
     "name": "stderr",
     "output_type": "stream",
     "text": [
      "No config specified, defaulting to: sst/default\n",
      "Reusing dataset sst (/raid/home/jeremiec/huggingface_datasets/sst/default/1.0.0/b8a7889ef01c5d3ae8c379b84cc4080f8aad3ac2bc538701cbe0ac6416fb76ff)\n"
     ]
    },
    {
     "data": {
      "application/vnd.jupyter.widget-view+json": {
       "model_id": "f36c258b122443bdb4231be4c30b92f4",
       "version_major": 2,
       "version_minor": 0
      },
      "text/plain": [
       "HBox(children=(FloatProgress(value=0.0, max=8544.0), HTML(value='')))"
      ]
     },
     "metadata": {},
     "output_type": "display_data"
    },
    {
     "name": "stdout",
     "output_type": "stream",
     "text": [
      "\n"
     ]
    },
    {
     "data": {
      "application/vnd.jupyter.widget-view+json": {
       "model_id": "a3ad68bfe96d4dbbaefd20da49301b7f",
       "version_major": 2,
       "version_minor": 0
      },
      "text/plain": [
       "HBox(children=(FloatProgress(value=0.0, max=9.0), HTML(value='')))"
      ]
     },
     "metadata": {},
     "output_type": "display_data"
    },
    {
     "name": "stdout",
     "output_type": "stream",
     "text": [
      "\n"
     ]
    },
    {
     "data": {
      "application/vnd.jupyter.widget-view+json": {
       "model_id": "7a2c4db947fb4d0e854fdbe87f5d5714",
       "version_major": 2,
       "version_minor": 0
      },
      "text/plain": [
       "HBox(children=(FloatProgress(value=0.0, max=8544.0), HTML(value='')))"
      ]
     },
     "metadata": {},
     "output_type": "display_data"
    },
    {
     "name": "stderr",
     "output_type": "stream",
     "text": [
      "No config specified, defaulting to: sst/default\n",
      "Reusing dataset sst (/raid/home/jeremiec/huggingface_datasets/sst/default/1.0.0/b8a7889ef01c5d3ae8c379b84cc4080f8aad3ac2bc538701cbe0ac6416fb76ff)\n"
     ]
    },
    {
     "name": "stdout",
     "output_type": "stream",
     "text": [
      "\n"
     ]
    },
    {
     "data": {
      "application/vnd.jupyter.widget-view+json": {
       "model_id": "7e3bf2fa485f4f4180745f25f2f58b4d",
       "version_major": 2,
       "version_minor": 0
      },
      "text/plain": [
       "HBox(children=(FloatProgress(value=0.0, max=2210.0), HTML(value='')))"
      ]
     },
     "metadata": {},
     "output_type": "display_data"
    },
    {
     "name": "stdout",
     "output_type": "stream",
     "text": [
      "\n"
     ]
    },
    {
     "data": {
      "application/vnd.jupyter.widget-view+json": {
       "model_id": "fe59f145c2d44205b101208857df35ff",
       "version_major": 2,
       "version_minor": 0
      },
      "text/plain": [
       "HBox(children=(FloatProgress(value=0.0, max=3.0), HTML(value='')))"
      ]
     },
     "metadata": {},
     "output_type": "display_data"
    },
    {
     "name": "stdout",
     "output_type": "stream",
     "text": [
      "\n"
     ]
    },
    {
     "data": {
      "application/vnd.jupyter.widget-view+json": {
       "model_id": "9c543cf8fb0849c0bfde7a7a5a93d4a5",
       "version_major": 2,
       "version_minor": 0
      },
      "text/plain": [
       "HBox(children=(FloatProgress(value=0.0, max=2210.0), HTML(value='')))"
      ]
     },
     "metadata": {},
     "output_type": "display_data"
    },
    {
     "name": "stdout",
     "output_type": "stream",
     "text": [
      "\n"
     ]
    }
   ],
   "source": [
    "tokenizer = AutoTokenizer.from_pretrained('bert-base-uncased')\n",
    "\n",
    "full_train_dataset = load_and_enrich_dataset('sst', split='train', cache_dir=CACHE_DIR).sort(\"lengths\") # toriving/sst5\n",
    "train_val_datasets = full_train_dataset.train_test_split(train_size=0.8, shuffle=True)\n",
    "train_dataset = train_val_datasets['train'].sort(\"lengths\")\n",
    "val_dataset = train_val_datasets['test'].sort(\"lengths\")\n",
    "\n",
    "test_dataset = load_and_enrich_dataset('sst', split='test', cache_dir=CACHE_DIR).sort(\"lengths\")\n",
    "\n",
    "dataset_d = {\n",
    "    'full_train': full_train_dataset,\n",
    "    'train': train_dataset,\n",
    "    'val': val_dataset,\n",
    "    'test': test_dataset\n",
    "    }\n",
    "\n",
    "dataloader_d = {}\n",
    "for k, v in dataset_d.items():\n",
    "    dataloader_d[k] = torch.utils.data.DataLoader(v, batch_size=256, collate_fn=DataCollatorWithPadding(tokenizer))"
   ]
  },
  {
   "cell_type": "code",
   "execution_count": 10,
   "metadata": {},
   "outputs": [
    {
     "data": {
      "text/plain": [
       "{'full_train': Dataset({\n",
       "     features: ['attention_mask', 'input_ids', 'label', 'labels', 'lengths', 'sentence', 'token_type_ids', 'tokens', 'tree'],\n",
       "     num_rows: 8544\n",
       " }),\n",
       " 'train': Dataset({\n",
       "     features: ['attention_mask', 'input_ids', 'label', 'labels', 'lengths', 'sentence', 'token_type_ids', 'tokens', 'tree'],\n",
       "     num_rows: 6835\n",
       " }),\n",
       " 'val': Dataset({\n",
       "     features: ['attention_mask', 'input_ids', 'label', 'labels', 'lengths', 'sentence', 'token_type_ids', 'tokens', 'tree'],\n",
       "     num_rows: 1709\n",
       " }),\n",
       " 'test': Dataset({\n",
       "     features: ['attention_mask', 'input_ids', 'label', 'labels', 'lengths', 'sentence', 'token_type_ids', 'tokens', 'tree'],\n",
       "     num_rows: 2210\n",
       " })}"
      ]
     },
     "execution_count": 10,
     "metadata": {},
     "output_type": "execute_result"
    }
   ],
   "source": [
    "dataset_d"
   ]
  },
  {
   "cell_type": "code",
   "execution_count": null,
   "metadata": {},
   "outputs": [],
   "source": []
  },
  {
   "cell_type": "markdown",
   "metadata": {},
   "source": [
    "## Optimization"
   ]
  },
  {
   "cell_type": "code",
   "execution_count": 12,
   "metadata": {},
   "outputs": [],
   "source": [
    "def fitness(leaking_rate, \n",
    "            spectral_radius, \n",
    "            input_scaling, \n",
    "            bias_scaling, \n",
    "            alpha, \n",
    "            reservoir_dim, \n",
    "            dataset_d, \n",
    "            dataloader_d, \n",
    "            seed_l=[1991, 420, 666, 1979, 7], # 5 seeds\n",
    "            return_test_acc=False):\n",
    "    \n",
    "    acc_l = []\n",
    "    time_l = []\n",
    "    \n",
    "    for seed in seed_l:\n",
    "    \n",
    "        # parameters\n",
    "        esn_params = {\n",
    "                    'embedding_weights': 'bert-base-uncased', # TEXT.vocab.vectors,\n",
    "                    'distribution' : 'gaussian',              # uniform, gaussian\n",
    "                    'input_dim' : 768,                        # dim of encoding!\n",
    "                    'reservoir_dim' : reservoir_dim,\n",
    "                    'bias_scaling' : bias_scaling,\n",
    "                    'sparsity' : 0.99,\n",
    "                    'spectral_radius' : spectral_radius,\n",
    "                    'leaking_rate': leaking_rate,\n",
    "                    'activation_function' : 'tanh',\n",
    "                    'input_scaling' : input_scaling,\n",
    "                    'mean' : 0.0,\n",
    "                    'std' : 1.0,\n",
    "                    'learning_algo' : None,\n",
    "                    'criterion' : None,\n",
    "                    'optimizer' : None,\n",
    "                    'merging_strategy' : 'mean',\n",
    "                    'lexicon' : None,\n",
    "                    'bidirectional' : False,\n",
    "                    'device' : device,\n",
    "                    'seed' : seed\n",
    "                     }\n",
    "\n",
    "        # model\n",
    "        ESN = esn.EchoStateNetwork(**esn_params)\n",
    "\n",
    "        ESN.learning_algo = la.RidgeRegression(alpha = alpha)# , mode='normalize')\n",
    "\n",
    "        ESN = ESN.to(device)\n",
    "\n",
    "        # warm up (new)\n",
    "        nb_sentences = 3\n",
    "        for i in range(nb_sentences): \n",
    "\n",
    "            sentence = dataset_d[\"train\"].select([i])\n",
    "            dataloader_tmp = torch.utils.data.DataLoader(sentence, \n",
    "                                                         batch_size=1, \n",
    "                                                         collate_fn=DataCollatorWithPadding(tokenizer))  \n",
    "\n",
    "            for sentence in dataloader_tmp:\n",
    "                ESN.warm_up(sentence)\n",
    "        \n",
    "        # predict\n",
    "        if return_test_acc:\n",
    "            t0 = timer()\n",
    "            LOSS = ESN.fit(dataloader_d[\"full_train\"])\n",
    "            t1 = timer()\n",
    "            time_l.append(t1 - t0)\n",
    "            acc = ESN.predict(dataloader_d[\"test\"], verbose=False)[1].item()\n",
    "        else:\n",
    "            LOSS = ESN.fit(dataloader_d[\"train\"])\n",
    "            acc = ESN.predict(dataloader_d[\"val\"], verbose=False)[1].item()\n",
    "\n",
    "        acc_l.append(acc)\n",
    "        \n",
    "        # clean objects\n",
    "        del ESN.learning_algo\n",
    "        del ESN.criterion\n",
    "        del ESN.merging_strategy\n",
    "        del ESN\n",
    "        torch.cuda.empty_cache()\n",
    "    \n",
    "    if return_test_acc:\n",
    "        return np.mean(acc_l), np.std(acc_l), np.mean(time_l), np.std(time_l)\n",
    "    else:\n",
    "        return np.mean(acc_l)"
   ]
  },
  {
   "cell_type": "code",
   "execution_count": 13,
   "metadata": {},
   "outputs": [],
   "source": [
    "# %%time\n",
    "\n",
    "# fitness(leaking_rate=0.2, spectral_radius=1.1, input_scaling=0.8, bias_scaling=1.0, alpha=10, reservoir_dim=500, dataset_d=dataset_d, dataloader_d=dataloader_d)"
   ]
  },
  {
   "cell_type": "code",
   "execution_count": 14,
   "metadata": {},
   "outputs": [],
   "source": [
    "def wrapped_fitness(d, return_test_acc=False):\n",
    "    \n",
    "    return fitness(leaking_rate=d['leaking_rate'],\n",
    "                   spectral_radius=d['spectral_radius'],\n",
    "                   input_scaling=d['input_scaling'],\n",
    "                   bias_scaling=d['bias_scaling'],\n",
    "                   alpha=d['alpha'],\n",
    "                   reservoir_dim=d['reservoir_dim'], # will be in the loop\n",
    "                   dataset_d=dataset_d,\n",
    "                   dataloader_d=dataloader_d,\n",
    "                   return_test_acc=return_test_acc)"
   ]
  },
  {
   "cell_type": "code",
   "execution_count": null,
   "metadata": {
    "scrolled": true
   },
   "outputs": [
    {
     "name": "stderr",
     "output_type": "stream",
     "text": [
      "[INFO 05-20 15:49:54] ax.modelbridge.dispatch_utils: Using Bayesian Optimization generation strategy: GenerationStrategy(name='Sobol+GPEI', steps=[Sobol for 6 trials, GPEI for subsequent trials]). Iterations after 6 will take longer to generate due to  model-fitting.\n",
      "[INFO 05-20 15:49:54] ax.service.managed_loop: Started full optimization with 30 steps.\n",
      "[INFO 05-20 15:49:54] ax.service.managed_loop: Running optimization trial 1...\n",
      "[INFO 05-20 15:51:36] ax.service.managed_loop: Running optimization trial 2...\n",
      "[INFO 05-20 15:53:16] ax.service.managed_loop: Running optimization trial 3...\n",
      "[INFO 05-20 15:54:55] ax.service.managed_loop: Running optimization trial 4...\n",
      "[INFO 05-20 15:56:34] ax.service.managed_loop: Running optimization trial 5...\n"
     ]
    }
   ],
   "source": [
    "best_params_d = {}\n",
    "\n",
    "for res_dim in [500, 1000, 2000, 3000, 5000]:\n",
    "\n",
    "    best_parameters, best_values, experiment, model = optimize(\n",
    "            parameters=[\n",
    "              {\n",
    "                \"name\": \"leaking_rate\",\n",
    "                \"value_type\": \"float\",\n",
    "                \"type\": \"range\",\n",
    "                \"bounds\": [0.0, 0.999],\n",
    "              },\n",
    "              {\n",
    "                \"name\": \"spectral_radius\",\n",
    "                \"value_type\": \"float\",\n",
    "                \"type\": \"range\",\n",
    "                \"bounds\": [0.2, 1.7],\n",
    "              },\n",
    "              {\n",
    "                \"name\": \"input_scaling\",\n",
    "                \"value_type\": \"float\",\n",
    "                \"type\": \"range\",\n",
    "                \"bounds\": [0.1, 3.0],\n",
    "              },\n",
    "              {\n",
    "                \"name\": \"bias_scaling\",\n",
    "                \"value_type\": \"float\",\n",
    "                \"type\": \"range\",\n",
    "                \"bounds\": [0.1, 3.0],\n",
    "              },\n",
    "              {\n",
    "                \"name\": \"alpha\",\n",
    "                \"value_type\": \"float\",\n",
    "                \"type\": \"range\",\n",
    "                \"log_scale\": True,\n",
    "                \"bounds\": [1e-3, 1e3],\n",
    "              },\n",
    "              {\n",
    "                \"name\": \"reservoir_dim\",\n",
    "                \"value_type\": \"int\",\n",
    "                \"type\": \"fixed\",\n",
    "                \"value\": res_dim,\n",
    "              }\n",
    "            ],\n",
    "            # Booth function\n",
    "            evaluation_function = wrapped_fitness,\n",
    "            minimize = False,\n",
    "            objective_name = 'val_accuracy',\n",
    "            total_trials = 30\n",
    "        )\n",
    "    \n",
    "    # results\n",
    "    best_params_d[res_dim] = {}\n",
    "    best_params_d[res_dim]['best_parameters'] = best_parameters\n",
    "    best_params_d[res_dim]['best_values'] = best_values\n",
    "    best_params_d[res_dim]['experiment'] = experiment\n",
    "    # best_params_d[res_dim]['model'] = model"
   ]
  },
  {
   "cell_type": "code",
   "execution_count": null,
   "metadata": {},
   "outputs": [],
   "source": []
  },
  {
   "cell_type": "markdown",
   "metadata": {},
   "source": [
    "## Results"
   ]
  },
  {
   "cell_type": "code",
   "execution_count": null,
   "metadata": {},
   "outputs": [],
   "source": [
    "# best parameters\n",
    "\n",
    "with open(os.path.join(RESULTS_PATH, PARAMS_FILE), 'wb') as fh:\n",
    "    pickle.dump(best_params_d, fh)"
   ]
  },
  {
   "cell_type": "code",
   "execution_count": null,
   "metadata": {},
   "outputs": [],
   "source": [
    "# # load results\n",
    "# with open(os.path.join(RESULTS_PATH, PARAMS_FILE), 'rb') as fh:\n",
    "#     best_params_d = pickle.load(fh)"
   ]
  },
  {
   "cell_type": "code",
   "execution_count": null,
   "metadata": {},
   "outputs": [],
   "source": [
    "best_params_d"
   ]
  },
  {
   "cell_type": "code",
   "execution_count": null,
   "metadata": {},
   "outputs": [],
   "source": [
    "# results\n",
    "\n",
    "results_d = {}\n",
    "\n",
    "for res_dim in [500, 1000, 2000, 3000, 5000]:\n",
    "    \n",
    "    best_parameters = best_params_d[res_dim]['best_parameters']\n",
    "    acc, acc_std, time, time_std = wrapped_fitness(best_parameters, return_test_acc=True)\n",
    "    results_d[res_dim] = acc, acc_std, time, time_std\n",
    "    print(\"Experiment finished.\")"
   ]
  },
  {
   "cell_type": "code",
   "execution_count": null,
   "metadata": {},
   "outputs": [],
   "source": [
    "results_d"
   ]
  },
  {
   "cell_type": "code",
   "execution_count": null,
   "metadata": {},
   "outputs": [],
   "source": [
    "with open(os.path.join(RESULTS_PATH, RESULTS_FILE), 'wb') as fh:\n",
    "    pickle.dump(results_d, fh)"
   ]
  },
  {
   "cell_type": "code",
   "execution_count": 24,
   "metadata": {},
   "outputs": [],
   "source": [
    "# # load results\n",
    "# with open(os.path.join(RESULTS_PATH, PARAMS_FILE), 'rb') as fh:\n",
    "#     results_d = pickle.load(fh)"
   ]
  },
  {
   "cell_type": "code",
   "execution_count": 25,
   "metadata": {},
   "outputs": [
    {
     "data": {
      "text/plain": [
       "{500: {'best_parameters': {'leaking_rate': 0.999,\n",
       "   'spectral_radius': 0.27674338131663206,\n",
       "   'input_scaling': 1.8210240728005092,\n",
       "   'bias_scaling': 2.9753017004325115,\n",
       "   'alpha': 999.9999999995317,\n",
       "   'reservoir_dim': 500},\n",
       "  'best_values': ({'val_accuracy': 45.76865555148736},\n",
       "   {'val_accuracy': {'val_accuracy': 0.0004233825293638899}}),\n",
       "  'experiment': SimpleExperiment(None)},\n",
       " 1000: {'best_parameters': {'leaking_rate': 0.28903720188652193,\n",
       "   'spectral_radius': 0.2000000000506923,\n",
       "   'input_scaling': 1.3797263557182773,\n",
       "   'bias_scaling': 2.7036067121229217,\n",
       "   'alpha': 999.999998190359,\n",
       "   'reservoir_dim': 1000},\n",
       "  'best_values': ({'val_accuracy': 45.58933193297141},\n",
       "   {'val_accuracy': {'val_accuracy': 0.019043477688240135}}),\n",
       "  'experiment': SimpleExperiment(None)},\n",
       " 2000: {'best_parameters': {'leaking_rate': 0.4445926069873061,\n",
       "   'spectral_radius': 0.2,\n",
       "   'input_scaling': 2.236177918889967,\n",
       "   'bias_scaling': 2.213347976203966,\n",
       "   'alpha': 999.9999999938606,\n",
       "   'reservoir_dim': 2000},\n",
       "  'best_values': ({'val_accuracy': 46.22234390199084},\n",
       "   {'val_accuracy': {'val_accuracy': 0.0011333989589659658}}),\n",
       "  'experiment': SimpleExperiment(None)},\n",
       " 3000: {'best_parameters': {'leaking_rate': 0.3126725711596287,\n",
       "   'spectral_radius': 0.9565281868659654,\n",
       "   'input_scaling': 1.1507730865668764,\n",
       "   'bias_scaling': 1.4241634866346322,\n",
       "   'alpha': 1000.0,\n",
       "   'reservoir_dim': 3000},\n",
       "  'best_values': ({'val_accuracy': 46.23532345360624},\n",
       "   {'val_accuracy': {'val_accuracy': 0.0735326010166305}}),\n",
       "  'experiment': SimpleExperiment(None)},\n",
       " 5000: {'best_parameters': {'leaking_rate': 0.19574471975967253,\n",
       "   'spectral_radius': 0.9012477128432885,\n",
       "   'input_scaling': 2.6247673076085056,\n",
       "   'bias_scaling': 0.5306199134048828,\n",
       "   'alpha': 1000.0,\n",
       "   'reservoir_dim': 5000},\n",
       "  'best_values': ({'val_accuracy': 46.20700034265835},\n",
       "   {'val_accuracy': {'val_accuracy': 0.022785929041137933}}),\n",
       "  'experiment': SimpleExperiment(None)}}"
      ]
     },
     "execution_count": 25,
     "metadata": {},
     "output_type": "execute_result"
    }
   ],
   "source": [
    "results_d"
   ]
  },
  {
   "cell_type": "code",
   "execution_count": 27,
   "metadata": {},
   "outputs": [],
   "source": [
    "# Didn't work that well...\n",
    "# Perhaps the label creation form [0,1] (continuous) to {0, 1, 2, 3, 4} (discrete) is problematic"
   ]
  },
  {
   "cell_type": "code",
   "execution_count": null,
   "metadata": {},
   "outputs": [],
   "source": []
  }
 ],
 "metadata": {
  "kernelspec": {
   "display_name": "Python 3",
   "language": "python",
   "name": "python3"
  },
  "language_info": {
   "codemirror_mode": {
    "name": "ipython",
    "version": 3
   },
   "file_extension": ".py",
   "mimetype": "text/x-python",
   "name": "python",
   "nbconvert_exporter": "python",
   "pygments_lexer": "ipython3",
   "version": "3.7.9"
  }
 },
 "nbformat": 4,
 "nbformat_minor": 4
}
