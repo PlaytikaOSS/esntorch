{
 "cells": [
  {
   "cell_type": "markdown",
   "metadata": {},
   "source": [
    "# IMDB: TEXT Classification + BERT + Ax"
   ]
  },
  {
   "cell_type": "markdown",
   "metadata": {},
   "source": [
    "## Librairies"
   ]
  },
  {
   "cell_type": "code",
   "execution_count": 2,
   "metadata": {},
   "outputs": [],
   "source": [
    "import os\n",
    "import sys"
   ]
  },
  {
   "cell_type": "code",
   "execution_count": 5,
   "metadata": {},
   "outputs": [],
   "source": [
    "import io\n",
    "import re\n",
    "import pickle\n",
    "from timeit import default_timer as timer\n",
    "\n",
    "import numpy as np\n",
    "\n",
    "import torch\n",
    "import torch.nn as nn\n",
    "import torch.optim as optim\n",
    "\n",
    "from datasets import load_dataset, Dataset, concatenate_datasets\n",
    "from transformers import AutoTokenizer\n",
    "from transformers import BertModel\n",
    "from transformers.data.data_collator import DataCollatorWithPadding\n",
    "\n",
    "from ax import optimize\n",
    "from ax.plot.contour import plot_contour\n",
    "from ax.plot.trace import optimization_trace_single_method\n",
    "from ax.service.managed_loop import optimize\n",
    "from ax.utils.notebook.plotting import render, init_notebook_plotting\n",
    "\n",
    "import esntorch.core.reservoir as res\n",
    "import esntorch.core.learning_algo as la\n",
    "import esntorch.core.merging_strategy as ms\n",
    "import esntorch.core.esn as esn"
   ]
  },
  {
   "cell_type": "code",
   "execution_count": 6,
   "metadata": {},
   "outputs": [],
   "source": [
    "%config Completer.use_jedi = False\n",
    "%load_ext autoreload\n",
    "%autoreload 2"
   ]
  },
  {
   "cell_type": "code",
   "execution_count": 7,
   "metadata": {},
   "outputs": [
    {
     "data": {
      "text/plain": [
       "device(type='cpu')"
      ]
     },
     "execution_count": 7,
     "metadata": {},
     "output_type": "execute_result"
    }
   ],
   "source": [
    "device = torch.device('cuda' if torch.cuda.is_available() else 'cpu')\n",
    "device"
   ]
  },
  {
   "cell_type": "code",
   "execution_count": 8,
   "metadata": {},
   "outputs": [],
   "source": [
    "SEED = 42"
   ]
  },
  {
   "cell_type": "code",
   "execution_count": null,
   "metadata": {},
   "outputs": [],
   "source": []
  },
  {
   "cell_type": "markdown",
   "metadata": {},
   "source": [
    "## Load params"
   ]
  },
  {
   "cell_type": "code",
   "execution_count": 7,
   "metadata": {},
   "outputs": [],
   "source": [
    "def wrapped_fitness(d, return_test_acc=False):\n",
    "    \n",
    "    return fitness(leaking_rate=d['leaking_rate'],\n",
    "                   spectral_radius=d['spectral_radius'],\n",
    "                   input_scaling=d['input_scaling'],\n",
    "                   bias_scaling=d['bias_scaling'],\n",
    "                   alpha=d['alpha'],\n",
    "                   reservoir_dim=d['reservoir_dim'], # will be in the loop\n",
    "                   dataset_d=dataset_d,\n",
    "                   dataloader_d=dataloader_d,\n",
    "                   return_test_acc=return_test_acc)"
   ]
  },
  {
   "cell_type": "code",
   "execution_count": 8,
   "metadata": {},
   "outputs": [],
   "source": [
    "with open(\"~/Results/Ax_results/ESN/imdb_params_1.pkl\", \"rb\") as fh:\n",
    "    imdb_params = pickle.load(fh)"
   ]
  },
  {
   "cell_type": "code",
   "execution_count": 9,
   "metadata": {
    "scrolled": true
   },
   "outputs": [
    {
     "data": {
      "text/plain": [
       "{500: {'best_parameters': {'leaking_rate': 0.999,\n",
       "   'spectral_radius': 0.5727747785131674,\n",
       "   'input_scaling': 2.2779062575285725,\n",
       "   'bias_scaling': 0.343925600580577,\n",
       "   'alpha': 47.689935194630536,\n",
       "   'reservoir_dim': 500},\n",
       "  'best_values': ({'val_accuracy': 88.40578001236312},\n",
       "   {'val_accuracy': {'val_accuracy': 0.00010199969003581719}}),\n",
       "  'experiment': SimpleExperiment(None)},\n",
       " 1000: {'best_parameters': {'leaking_rate': 0.4987849139827162,\n",
       "   'spectral_radius': 1.6999999999999982,\n",
       "   'input_scaling': 1.4110756942379619,\n",
       "   'bias_scaling': 0.35271864878994974,\n",
       "   'alpha': 103.97613075779954,\n",
       "   'reservoir_dim': 1000},\n",
       "  'best_values': ({'val_accuracy': 89.1698804001885},\n",
       "   {'val_accuracy': {'val_accuracy': 0.0001586215379122042}}),\n",
       "  'experiment': SimpleExperiment(None)},\n",
       " 2000: {'best_parameters': {'leaking_rate': 0.3965251182814235,\n",
       "   'spectral_radius': 1.0298126353747301,\n",
       "   'input_scaling': 0.4442265453597545,\n",
       "   'bias_scaling': 3.0,\n",
       "   'alpha': 107.19441242615346,\n",
       "   'reservoir_dim': 2000},\n",
       "  'best_values': ({'val_accuracy': 89.58264730282428},\n",
       "   {'val_accuracy': {'val_accuracy': 7.956668170559619e-05}}),\n",
       "  'experiment': SimpleExperiment(None)},\n",
       " 3000: {'best_parameters': {'leaking_rate': 0.683064344845724,\n",
       "   'spectral_radius': 1.228961903726664,\n",
       "   'input_scaling': 0.42614603001627893,\n",
       "   'bias_scaling': 0.5405104358050462,\n",
       "   'alpha': 75.01659762893523,\n",
       "   'reservoir_dim': 3000},\n",
       "  'best_values': ({'val_accuracy': 89.72358321870318},\n",
       "   {'val_accuracy': {'val_accuracy': 2.4368995641319435e-05}}),\n",
       "  'experiment': SimpleExperiment(None)},\n",
       " 5000: {'best_parameters': {'leaking_rate': 0.6294520531957551,\n",
       "   'spectral_radius': 1.1160467944441839,\n",
       "   'input_scaling': 2.9999999999946443,\n",
       "   'bias_scaling': 2.748920999418071,\n",
       "   'alpha': 153.95302665906888,\n",
       "   'reservoir_dim': 5000},\n",
       "  'best_values': ({'val_accuracy': 89.99974480382032},\n",
       "   {'val_accuracy': {'val_accuracy': 8.666017627843431e-05}}),\n",
       "  'experiment': SimpleExperiment(None)}}"
      ]
     },
     "execution_count": 9,
     "metadata": {},
     "output_type": "execute_result"
    }
   ],
   "source": [
    "imdb_params"
   ]
  },
  {
   "cell_type": "markdown",
   "metadata": {},
   "source": [
    "## Define model"
   ]
  },
  {
   "cell_type": "code",
   "execution_count": 12,
   "metadata": {},
   "outputs": [],
   "source": [
    "tokenizer = AutoTokenizer.from_pretrained('bert-base-uncased')"
   ]
  },
  {
   "cell_type": "code",
   "execution_count": 13,
   "metadata": {},
   "outputs": [],
   "source": [
    "def compute_mse_diff(ESN, return_distances=False):\n",
    "    \n",
    "    input_w = ESN.reservoir.input_w\n",
    "    \n",
    "    with open(\"random_words.csv\", \"rt\") as fh:\n",
    "        random_words = [x[:-1] for x in fh.readlines()]\n",
    "        \n",
    "    tokenized_random_words = tokenizer.batch_encode_plus(random_words, add_special_tokens=False, padding=False)\n",
    "    \n",
    "    simple_words = []\n",
    "    for i,ids in enumerate(tokenized_random_words[\"input_ids\"]):\n",
    "        if len(ids) == 1:\n",
    "            simple_words.append(random_words[i])\n",
    "            \n",
    "    tokenized_simple_random_words = tokenizer.batch_encode_plus(simple_words, add_special_tokens=False, return_tensors=\"pt\")\n",
    "    \n",
    "    # Get BERT embeddings\n",
    "    bert_embedded_words = ESN.reservoir.embedding(tokenized_simple_random_words).squeeze()\n",
    "    \n",
    "    # Get distances $d_{i,j}$\n",
    "    distances_BERT = cosine_distances(bert_embedded_words.cpu().numpy())\n",
    "\n",
    "    # Get transformed BERT embeddings\n",
    "    bert_embedded_words_transformed = torch.mm(bert_embedded_words, input_w.T)\n",
    "\n",
    "    # Get distances $d'_{i,j}$\n",
    "    distances_transformed = cosine_distances(bert_embedded_words_transformed.cpu().numpy())\n",
    "    \n",
    "    # $\\frac{\\sum{|d_{i,j} - d'_{i,j}|}^2}{2*n} $\n",
    "    mse_transformation = ((distances_BERT - distances_transformed) ** 2).mean()/2\n",
    "    \n",
    "    # $\\frac{\\sum{|d_{i,j} - d'_{k,l}|}^2}{2*n}   k,l \\in [1...n]\\text{ randomly}$\n",
    "    random_distances = distances_transformed.flatten()\n",
    "    random_distances = random_distances[random_distances != 0]\n",
    "    random_distances = np.random.choice(random_distances, size=(len(distances_transformed), len(distances_transformed)), replace=True)\n",
    "    np.fill_diagonal(random_distances, 0)\n",
    "    \n",
    "    mse_random = ((distances_BERT - random_distances) ** 2).mean()/2\n",
    "\n",
    "    if return_distances:\n",
    "        return mse_transformation, mse_random, distances_BERT, distances_transformed, random_distances\n",
    "    else:\n",
    "        return mse_transformation, mse_random"
   ]
  },
  {
   "cell_type": "code",
   "execution_count": null,
   "metadata": {},
   "outputs": [],
   "source": []
  },
  {
   "cell_type": "code",
   "execution_count": 14,
   "metadata": {
    "scrolled": true
   },
   "outputs": [
    {
     "name": "stdout",
     "output_type": "stream",
     "text": [
      "testing size 500\n",
      "\ttesting seed 42\n"
     ]
    },
    {
     "name": "stderr",
     "output_type": "stream",
     "text": [
      "Some weights of the model checkpoint at bert-base-uncased were not used when initializing BertModel: ['cls.predictions.bias', 'cls.predictions.transform.dense.bias', 'cls.predictions.transform.LayerNorm.weight', 'cls.seq_relationship.bias', 'cls.predictions.decoder.weight', 'cls.seq_relationship.weight', 'cls.predictions.transform.LayerNorm.bias', 'cls.predictions.transform.dense.weight']\n",
      "- This IS expected if you are initializing BertModel from the checkpoint of a model trained on another task or with another architecture (e.g. initializing a BertForSequenceClassification model from a BertForPreTraining model).\n",
      "- This IS NOT expected if you are initializing BertModel from the checkpoint of a model that you expect to be exactly identical (initializing a BertForSequenceClassification model from a BertForSequenceClassification model).\n"
     ]
    },
    {
     "name": "stdout",
     "output_type": "stream",
     "text": [
      "\t\tmse of the normal transformation : 0.0006021367153152823\n",
      "\t\tmse of the random transformation : 0.016327379271388054\n",
      "\ttesting seed 1024\n"
     ]
    },
    {
     "name": "stderr",
     "output_type": "stream",
     "text": [
      "Some weights of the model checkpoint at bert-base-uncased were not used when initializing BertModel: ['cls.predictions.bias', 'cls.predictions.transform.dense.bias', 'cls.predictions.transform.LayerNorm.weight', 'cls.seq_relationship.bias', 'cls.predictions.decoder.weight', 'cls.seq_relationship.weight', 'cls.predictions.transform.LayerNorm.bias', 'cls.predictions.transform.dense.weight']\n",
      "- This IS expected if you are initializing BertModel from the checkpoint of a model trained on another task or with another architecture (e.g. initializing a BertForSequenceClassification model from a BertForPreTraining model).\n",
      "- This IS NOT expected if you are initializing BertModel from the checkpoint of a model that you expect to be exactly identical (initializing a BertForSequenceClassification model from a BertForSequenceClassification model).\n"
     ]
    },
    {
     "name": "stdout",
     "output_type": "stream",
     "text": [
      "\t\tmse of the normal transformation : 0.0008832113235257566\n",
      "\t\tmse of the random transformation : 0.015797536820173264\n",
      "\ttesting seed 16873298\n"
     ]
    },
    {
     "name": "stderr",
     "output_type": "stream",
     "text": [
      "Some weights of the model checkpoint at bert-base-uncased were not used when initializing BertModel: ['cls.predictions.bias', 'cls.predictions.transform.dense.bias', 'cls.predictions.transform.LayerNorm.weight', 'cls.seq_relationship.bias', 'cls.predictions.decoder.weight', 'cls.seq_relationship.weight', 'cls.predictions.transform.LayerNorm.bias', 'cls.predictions.transform.dense.weight']\n",
      "- This IS expected if you are initializing BertModel from the checkpoint of a model trained on another task or with another architecture (e.g. initializing a BertForSequenceClassification model from a BertForPreTraining model).\n",
      "- This IS NOT expected if you are initializing BertModel from the checkpoint of a model that you expect to be exactly identical (initializing a BertForSequenceClassification model from a BertForSequenceClassification model).\n"
     ]
    },
    {
     "name": "stdout",
     "output_type": "stream",
     "text": [
      "\t\tmse of the normal transformation : 0.0006756293587386608\n",
      "\t\tmse of the random transformation : 0.01589079387485981\n",
      "\ttesting seed 1996\n"
     ]
    },
    {
     "name": "stderr",
     "output_type": "stream",
     "text": [
      "Some weights of the model checkpoint at bert-base-uncased were not used when initializing BertModel: ['cls.predictions.bias', 'cls.predictions.transform.dense.bias', 'cls.predictions.transform.LayerNorm.weight', 'cls.seq_relationship.bias', 'cls.predictions.decoder.weight', 'cls.seq_relationship.weight', 'cls.predictions.transform.LayerNorm.bias', 'cls.predictions.transform.dense.weight']\n",
      "- This IS expected if you are initializing BertModel from the checkpoint of a model trained on another task or with another architecture (e.g. initializing a BertForSequenceClassification model from a BertForPreTraining model).\n",
      "- This IS NOT expected if you are initializing BertModel from the checkpoint of a model that you expect to be exactly identical (initializing a BertForSequenceClassification model from a BertForSequenceClassification model).\n"
     ]
    },
    {
     "name": "stdout",
     "output_type": "stream",
     "text": [
      "\t\tmse of the normal transformation : 0.0006633711745962501\n",
      "\t\tmse of the random transformation : 0.016319435089826584\n",
      "\ttesting seed 2019\n"
     ]
    },
    {
     "name": "stderr",
     "output_type": "stream",
     "text": [
      "Some weights of the model checkpoint at bert-base-uncased were not used when initializing BertModel: ['cls.predictions.bias', 'cls.predictions.transform.dense.bias', 'cls.predictions.transform.LayerNorm.weight', 'cls.seq_relationship.bias', 'cls.predictions.decoder.weight', 'cls.seq_relationship.weight', 'cls.predictions.transform.LayerNorm.bias', 'cls.predictions.transform.dense.weight']\n",
      "- This IS expected if you are initializing BertModel from the checkpoint of a model trained on another task or with another architecture (e.g. initializing a BertForSequenceClassification model from a BertForPreTraining model).\n",
      "- This IS NOT expected if you are initializing BertModel from the checkpoint of a model that you expect to be exactly identical (initializing a BertForSequenceClassification model from a BertForSequenceClassification model).\n"
     ]
    },
    {
     "name": "stdout",
     "output_type": "stream",
     "text": [
      "\t\tmse of the normal transformation : 0.0007923736120574176\n",
      "\t\tmse of the random transformation : 0.015535215847194195\n",
      "testing size 1000\n",
      "\ttesting seed 42\n"
     ]
    },
    {
     "name": "stderr",
     "output_type": "stream",
     "text": [
      "Some weights of the model checkpoint at bert-base-uncased were not used when initializing BertModel: ['cls.predictions.bias', 'cls.predictions.transform.dense.bias', 'cls.predictions.transform.LayerNorm.weight', 'cls.seq_relationship.bias', 'cls.predictions.decoder.weight', 'cls.seq_relationship.weight', 'cls.predictions.transform.LayerNorm.bias', 'cls.predictions.transform.dense.weight']\n",
      "- This IS expected if you are initializing BertModel from the checkpoint of a model trained on another task or with another architecture (e.g. initializing a BertForSequenceClassification model from a BertForPreTraining model).\n",
      "- This IS NOT expected if you are initializing BertModel from the checkpoint of a model that you expect to be exactly identical (initializing a BertForSequenceClassification model from a BertForSequenceClassification model).\n"
     ]
    },
    {
     "name": "stdout",
     "output_type": "stream",
     "text": [
      "\t\tmse of the normal transformation : 0.0003902955213561654\n",
      "\t\tmse of the random transformation : 0.015479129739105701\n",
      "\ttesting seed 1024\n"
     ]
    },
    {
     "name": "stderr",
     "output_type": "stream",
     "text": [
      "Some weights of the model checkpoint at bert-base-uncased were not used when initializing BertModel: ['cls.predictions.bias', 'cls.predictions.transform.dense.bias', 'cls.predictions.transform.LayerNorm.weight', 'cls.seq_relationship.bias', 'cls.predictions.decoder.weight', 'cls.seq_relationship.weight', 'cls.predictions.transform.LayerNorm.bias', 'cls.predictions.transform.dense.weight']\n",
      "- This IS expected if you are initializing BertModel from the checkpoint of a model trained on another task or with another architecture (e.g. initializing a BertForSequenceClassification model from a BertForPreTraining model).\n",
      "- This IS NOT expected if you are initializing BertModel from the checkpoint of a model that you expect to be exactly identical (initializing a BertForSequenceClassification model from a BertForSequenceClassification model).\n"
     ]
    },
    {
     "name": "stdout",
     "output_type": "stream",
     "text": [
      "\t\tmse of the normal transformation : 0.00038061352097429335\n",
      "\t\tmse of the random transformation : 0.015859253704547882\n",
      "\ttesting seed 16873298\n"
     ]
    },
    {
     "name": "stderr",
     "output_type": "stream",
     "text": [
      "Some weights of the model checkpoint at bert-base-uncased were not used when initializing BertModel: ['cls.predictions.bias', 'cls.predictions.transform.dense.bias', 'cls.predictions.transform.LayerNorm.weight', 'cls.seq_relationship.bias', 'cls.predictions.decoder.weight', 'cls.seq_relationship.weight', 'cls.predictions.transform.LayerNorm.bias', 'cls.predictions.transform.dense.weight']\n",
      "- This IS expected if you are initializing BertModel from the checkpoint of a model trained on another task or with another architecture (e.g. initializing a BertForSequenceClassification model from a BertForPreTraining model).\n",
      "- This IS NOT expected if you are initializing BertModel from the checkpoint of a model that you expect to be exactly identical (initializing a BertForSequenceClassification model from a BertForSequenceClassification model).\n"
     ]
    },
    {
     "name": "stdout",
     "output_type": "stream",
     "text": [
      "\t\tmse of the normal transformation : 0.00037621494266204536\n",
      "\t\tmse of the random transformation : 0.015357490628957748\n",
      "\ttesting seed 1996\n"
     ]
    },
    {
     "name": "stderr",
     "output_type": "stream",
     "text": [
      "Some weights of the model checkpoint at bert-base-uncased were not used when initializing BertModel: ['cls.predictions.bias', 'cls.predictions.transform.dense.bias', 'cls.predictions.transform.LayerNorm.weight', 'cls.seq_relationship.bias', 'cls.predictions.decoder.weight', 'cls.seq_relationship.weight', 'cls.predictions.transform.LayerNorm.bias', 'cls.predictions.transform.dense.weight']\n",
      "- This IS expected if you are initializing BertModel from the checkpoint of a model trained on another task or with another architecture (e.g. initializing a BertForSequenceClassification model from a BertForPreTraining model).\n",
      "- This IS NOT expected if you are initializing BertModel from the checkpoint of a model that you expect to be exactly identical (initializing a BertForSequenceClassification model from a BertForSequenceClassification model).\n"
     ]
    },
    {
     "name": "stdout",
     "output_type": "stream",
     "text": [
      "\t\tmse of the normal transformation : 0.00034165073884651065\n",
      "\t\tmse of the random transformation : 0.01575501076877117\n",
      "\ttesting seed 2019\n"
     ]
    },
    {
     "name": "stderr",
     "output_type": "stream",
     "text": [
      "Some weights of the model checkpoint at bert-base-uncased were not used when initializing BertModel: ['cls.predictions.bias', 'cls.predictions.transform.dense.bias', 'cls.predictions.transform.LayerNorm.weight', 'cls.seq_relationship.bias', 'cls.predictions.decoder.weight', 'cls.seq_relationship.weight', 'cls.predictions.transform.LayerNorm.bias', 'cls.predictions.transform.dense.weight']\n",
      "- This IS expected if you are initializing BertModel from the checkpoint of a model trained on another task or with another architecture (e.g. initializing a BertForSequenceClassification model from a BertForPreTraining model).\n",
      "- This IS NOT expected if you are initializing BertModel from the checkpoint of a model that you expect to be exactly identical (initializing a BertForSequenceClassification model from a BertForSequenceClassification model).\n"
     ]
    },
    {
     "name": "stdout",
     "output_type": "stream",
     "text": [
      "\t\tmse of the normal transformation : 0.00031244452111423016\n",
      "\t\tmse of the random transformation : 0.015558995306491852\n",
      "testing size 3000\n",
      "\ttesting seed 42\n"
     ]
    },
    {
     "name": "stderr",
     "output_type": "stream",
     "text": [
      "Some weights of the model checkpoint at bert-base-uncased were not used when initializing BertModel: ['cls.predictions.bias', 'cls.predictions.transform.dense.bias', 'cls.predictions.transform.LayerNorm.weight', 'cls.seq_relationship.bias', 'cls.predictions.decoder.weight', 'cls.seq_relationship.weight', 'cls.predictions.transform.LayerNorm.bias', 'cls.predictions.transform.dense.weight']\n",
      "- This IS expected if you are initializing BertModel from the checkpoint of a model trained on another task or with another architecture (e.g. initializing a BertForSequenceClassification model from a BertForPreTraining model).\n",
      "- This IS NOT expected if you are initializing BertModel from the checkpoint of a model that you expect to be exactly identical (initializing a BertForSequenceClassification model from a BertForSequenceClassification model).\n"
     ]
    },
    {
     "name": "stdout",
     "output_type": "stream",
     "text": [
      "\t\tmse of the normal transformation : 0.00010078657214762643\n",
      "\t\tmse of the random transformation : 0.015603702515363693\n",
      "\ttesting seed 1024\n"
     ]
    },
    {
     "name": "stderr",
     "output_type": "stream",
     "text": [
      "Some weights of the model checkpoint at bert-base-uncased were not used when initializing BertModel: ['cls.predictions.bias', 'cls.predictions.transform.dense.bias', 'cls.predictions.transform.LayerNorm.weight', 'cls.seq_relationship.bias', 'cls.predictions.decoder.weight', 'cls.seq_relationship.weight', 'cls.predictions.transform.LayerNorm.bias', 'cls.predictions.transform.dense.weight']\n",
      "- This IS expected if you are initializing BertModel from the checkpoint of a model trained on another task or with another architecture (e.g. initializing a BertForSequenceClassification model from a BertForPreTraining model).\n",
      "- This IS NOT expected if you are initializing BertModel from the checkpoint of a model that you expect to be exactly identical (initializing a BertForSequenceClassification model from a BertForSequenceClassification model).\n"
     ]
    },
    {
     "name": "stdout",
     "output_type": "stream",
     "text": [
      "\t\tmse of the normal transformation : 0.00010628730524331331\n",
      "\t\tmse of the random transformation : 0.015626879408955574\n",
      "\ttesting seed 16873298\n"
     ]
    },
    {
     "name": "stderr",
     "output_type": "stream",
     "text": [
      "Some weights of the model checkpoint at bert-base-uncased were not used when initializing BertModel: ['cls.predictions.bias', 'cls.predictions.transform.dense.bias', 'cls.predictions.transform.LayerNorm.weight', 'cls.seq_relationship.bias', 'cls.predictions.decoder.weight', 'cls.seq_relationship.weight', 'cls.predictions.transform.LayerNorm.bias', 'cls.predictions.transform.dense.weight']\n",
      "- This IS expected if you are initializing BertModel from the checkpoint of a model trained on another task or with another architecture (e.g. initializing a BertForSequenceClassification model from a BertForPreTraining model).\n",
      "- This IS NOT expected if you are initializing BertModel from the checkpoint of a model that you expect to be exactly identical (initializing a BertForSequenceClassification model from a BertForSequenceClassification model).\n"
     ]
    },
    {
     "name": "stdout",
     "output_type": "stream",
     "text": [
      "\t\tmse of the normal transformation : 0.00010674318036762998\n",
      "\t\tmse of the random transformation : 0.015474600717425346\n",
      "\ttesting seed 1996\n"
     ]
    },
    {
     "name": "stderr",
     "output_type": "stream",
     "text": [
      "Some weights of the model checkpoint at bert-base-uncased were not used when initializing BertModel: ['cls.predictions.bias', 'cls.predictions.transform.dense.bias', 'cls.predictions.transform.LayerNorm.weight', 'cls.seq_relationship.bias', 'cls.predictions.decoder.weight', 'cls.seq_relationship.weight', 'cls.predictions.transform.LayerNorm.bias', 'cls.predictions.transform.dense.weight']\n",
      "- This IS expected if you are initializing BertModel from the checkpoint of a model trained on another task or with another architecture (e.g. initializing a BertForSequenceClassification model from a BertForPreTraining model).\n",
      "- This IS NOT expected if you are initializing BertModel from the checkpoint of a model that you expect to be exactly identical (initializing a BertForSequenceClassification model from a BertForSequenceClassification model).\n"
     ]
    },
    {
     "name": "stdout",
     "output_type": "stream",
     "text": [
      "\t\tmse of the normal transformation : 0.00012406730093061924\n",
      "\t\tmse of the random transformation : 0.015408982522785664\n",
      "\ttesting seed 2019\n"
     ]
    },
    {
     "name": "stderr",
     "output_type": "stream",
     "text": [
      "Some weights of the model checkpoint at bert-base-uncased were not used when initializing BertModel: ['cls.predictions.bias', 'cls.predictions.transform.dense.bias', 'cls.predictions.transform.LayerNorm.weight', 'cls.seq_relationship.bias', 'cls.predictions.decoder.weight', 'cls.seq_relationship.weight', 'cls.predictions.transform.LayerNorm.bias', 'cls.predictions.transform.dense.weight']\n",
      "- This IS expected if you are initializing BertModel from the checkpoint of a model trained on another task or with another architecture (e.g. initializing a BertForSequenceClassification model from a BertForPreTraining model).\n",
      "- This IS NOT expected if you are initializing BertModel from the checkpoint of a model that you expect to be exactly identical (initializing a BertForSequenceClassification model from a BertForSequenceClassification model).\n"
     ]
    },
    {
     "name": "stdout",
     "output_type": "stream",
     "text": [
      "\t\tmse of the normal transformation : 0.00012528877414297312\n",
      "\t\tmse of the random transformation : 0.015296519733965397\n",
      "testing size 5000\n",
      "\ttesting seed 42\n"
     ]
    },
    {
     "name": "stderr",
     "output_type": "stream",
     "text": [
      "Some weights of the model checkpoint at bert-base-uncased were not used when initializing BertModel: ['cls.predictions.bias', 'cls.predictions.transform.dense.bias', 'cls.predictions.transform.LayerNorm.weight', 'cls.seq_relationship.bias', 'cls.predictions.decoder.weight', 'cls.seq_relationship.weight', 'cls.predictions.transform.LayerNorm.bias', 'cls.predictions.transform.dense.weight']\n",
      "- This IS expected if you are initializing BertModel from the checkpoint of a model trained on another task or with another architecture (e.g. initializing a BertForSequenceClassification model from a BertForPreTraining model).\n",
      "- This IS NOT expected if you are initializing BertModel from the checkpoint of a model that you expect to be exactly identical (initializing a BertForSequenceClassification model from a BertForSequenceClassification model).\n"
     ]
    },
    {
     "name": "stdout",
     "output_type": "stream",
     "text": [
      "\t\tmse of the normal transformation : 7.548701978521422e-05\n",
      "\t\tmse of the random transformation : 0.015617839992046356\n",
      "\ttesting seed 1024\n"
     ]
    },
    {
     "name": "stderr",
     "output_type": "stream",
     "text": [
      "Some weights of the model checkpoint at bert-base-uncased were not used when initializing BertModel: ['cls.predictions.bias', 'cls.predictions.transform.dense.bias', 'cls.predictions.transform.LayerNorm.weight', 'cls.seq_relationship.bias', 'cls.predictions.decoder.weight', 'cls.seq_relationship.weight', 'cls.predictions.transform.LayerNorm.bias', 'cls.predictions.transform.dense.weight']\n",
      "- This IS expected if you are initializing BertModel from the checkpoint of a model trained on another task or with another architecture (e.g. initializing a BertForSequenceClassification model from a BertForPreTraining model).\n",
      "- This IS NOT expected if you are initializing BertModel from the checkpoint of a model that you expect to be exactly identical (initializing a BertForSequenceClassification model from a BertForSequenceClassification model).\n"
     ]
    },
    {
     "name": "stdout",
     "output_type": "stream",
     "text": [
      "\t\tmse of the normal transformation : 6.99061420164071e-05\n",
      "\t\tmse of the random transformation : 0.015679847449064255\n",
      "\ttesting seed 16873298\n"
     ]
    },
    {
     "name": "stderr",
     "output_type": "stream",
     "text": [
      "Some weights of the model checkpoint at bert-base-uncased were not used when initializing BertModel: ['cls.predictions.bias', 'cls.predictions.transform.dense.bias', 'cls.predictions.transform.LayerNorm.weight', 'cls.seq_relationship.bias', 'cls.predictions.decoder.weight', 'cls.seq_relationship.weight', 'cls.predictions.transform.LayerNorm.bias', 'cls.predictions.transform.dense.weight']\n",
      "- This IS expected if you are initializing BertModel from the checkpoint of a model trained on another task or with another architecture (e.g. initializing a BertForSequenceClassification model from a BertForPreTraining model).\n",
      "- This IS NOT expected if you are initializing BertModel from the checkpoint of a model that you expect to be exactly identical (initializing a BertForSequenceClassification model from a BertForSequenceClassification model).\n"
     ]
    },
    {
     "name": "stdout",
     "output_type": "stream",
     "text": [
      "\t\tmse of the normal transformation : 5.873822374269366e-05\n",
      "\t\tmse of the random transformation : 0.015534666366875172\n",
      "\ttesting seed 1996\n"
     ]
    },
    {
     "name": "stderr",
     "output_type": "stream",
     "text": [
      "Some weights of the model checkpoint at bert-base-uncased were not used when initializing BertModel: ['cls.predictions.bias', 'cls.predictions.transform.dense.bias', 'cls.predictions.transform.LayerNorm.weight', 'cls.seq_relationship.bias', 'cls.predictions.decoder.weight', 'cls.seq_relationship.weight', 'cls.predictions.transform.LayerNorm.bias', 'cls.predictions.transform.dense.weight']\n",
      "- This IS expected if you are initializing BertModel from the checkpoint of a model trained on another task or with another architecture (e.g. initializing a BertForSequenceClassification model from a BertForPreTraining model).\n",
      "- This IS NOT expected if you are initializing BertModel from the checkpoint of a model that you expect to be exactly identical (initializing a BertForSequenceClassification model from a BertForSequenceClassification model).\n"
     ]
    },
    {
     "name": "stdout",
     "output_type": "stream",
     "text": [
      "\t\tmse of the normal transformation : 7.645990990567952e-05\n",
      "\t\tmse of the random transformation : 0.015333504416048527\n",
      "\ttesting seed 2019\n"
     ]
    },
    {
     "name": "stderr",
     "output_type": "stream",
     "text": [
      "Some weights of the model checkpoint at bert-base-uncased were not used when initializing BertModel: ['cls.predictions.bias', 'cls.predictions.transform.dense.bias', 'cls.predictions.transform.LayerNorm.weight', 'cls.seq_relationship.bias', 'cls.predictions.decoder.weight', 'cls.seq_relationship.weight', 'cls.predictions.transform.LayerNorm.bias', 'cls.predictions.transform.dense.weight']\n",
      "- This IS expected if you are initializing BertModel from the checkpoint of a model trained on another task or with another architecture (e.g. initializing a BertForSequenceClassification model from a BertForPreTraining model).\n",
      "- This IS NOT expected if you are initializing BertModel from the checkpoint of a model that you expect to be exactly identical (initializing a BertForSequenceClassification model from a BertForSequenceClassification model).\n"
     ]
    },
    {
     "name": "stdout",
     "output_type": "stream",
     "text": [
      "\t\tmse of the normal transformation : 0.00011495587386889383\n",
      "\t\tmse of the random transformation : 0.015302738174796104\n"
     ]
    }
   ],
   "source": [
    "sum_normal_mse = {}\n",
    "sum_random_mse = {}\n",
    "\n",
    "for size_esn in [500, 1000, 3000, 5000]:\n",
    "    print(f\"testing size {size_esn}\")\n",
    "\n",
    "    best_params = imdb_params[size_esn][\"best_parameters\"]\n",
    "\n",
    "    # parameters\n",
    "    esn_params = {\n",
    "                'embedding_weights': 'bert-base-uncased', # TEXT.vocab.vectors,\n",
    "                'distribution' : 'uniform',              # uniform, gaussian\n",
    "                'input_dim' : 768,                       # dim of encoding!\n",
    "                'reservoir_dim' : best_params[\"reservoir_dim\"],\n",
    "                'bias_scaling' : best_params[\"bias_scaling\"],\n",
    "                'sparsity' : 0.99,\n",
    "                'spectral_radius' : best_params[\"spectral_radius\"],\n",
    "                'leaking_rate': best_params[\"leaking_rate\"],\n",
    "                'activation_function' : 'tanh',\n",
    "                'input_scaling' : best_params[\"input_scaling\"],\n",
    "                'mean' : 0.0,\n",
    "                'std' : 1.0,\n",
    "                'learning_algo' : None,\n",
    "                'criterion' : None,\n",
    "                'optimizer' : None,\n",
    "                'merging_strategy' : 'mean',\n",
    "                'lexicon' : None,\n",
    "                'bidirectional' : False, # False\n",
    "                'device' : device,\n",
    "                'seed' : 42\n",
    "                 }\n",
    "\n",
    "    sum_normal_mse[size_esn] = []\n",
    "    sum_random_mse[size_esn] = []\n",
    "\n",
    "\n",
    "    for seed in [42, 1024, 16873298, 1996, 2019]:\n",
    "        print(f\"\\ttesting seed {seed}\")\n",
    "\n",
    "        esn_params['seed'] = seed\n",
    "\n",
    "        # model\n",
    "        ESN = esn.EchoStateNetwork(**esn_params)\n",
    "        ESN.learning_algo = la.RidgeRegression(alpha = best_params[\"alpha\"])# , mode='normalize')\n",
    "        ESN = ESN.to(device)\n",
    "\n",
    "        mse_transformation, mse_random = compute_mse_diff(ESN)\n",
    "\n",
    "        sum_normal_mse[size_esn].append(mse_transformation)\n",
    "        sum_random_mse[size_esn].append(mse_random)\n",
    "\n",
    "        print(f\"\\t\\tmse of the normal transformation : {mse_transformation}\\n\\t\\tmse of the random transformation : {mse_random}\")"
   ]
  },
  {
   "cell_type": "code",
   "execution_count": 16,
   "metadata": {},
   "outputs": [
    {
     "data": {
      "text/plain": [
       "{500: [0.0006021367153152823,\n",
       "  0.0008832113235257566,\n",
       "  0.0006756293587386608,\n",
       "  0.0006633711745962501,\n",
       "  0.0007923736120574176],\n",
       " 1000: [0.0003902955213561654,\n",
       "  0.00038061352097429335,\n",
       "  0.00037621494266204536,\n",
       "  0.00034165073884651065,\n",
       "  0.00031244452111423016],\n",
       " 3000: [0.00010078657214762643,\n",
       "  0.00010628730524331331,\n",
       "  0.00010674318036762998,\n",
       "  0.00012406730093061924,\n",
       "  0.00012528877414297312],\n",
       " 5000: [7.548701978521422e-05,\n",
       "  6.99061420164071e-05,\n",
       "  5.873822374269366e-05,\n",
       "  7.645990990567952e-05,\n",
       "  0.00011495587386889383]}"
      ]
     },
     "execution_count": 16,
     "metadata": {},
     "output_type": "execute_result"
    }
   ],
   "source": [
    "sum_normal_mse"
   ]
  },
  {
   "cell_type": "raw",
   "metadata": {},
   "source": [
    "{500: [0.0006021367153152823,\n",
    "  0.0008832113235257566,\n",
    "  0.0006756293587386608,\n",
    "  0.0006633711745962501,\n",
    "  0.0007923736120574176],\n",
    " 1000: [0.0003902955213561654,\n",
    "  0.00038061352097429335,\n",
    "  0.00037621494266204536,\n",
    "  0.00034165073884651065,\n",
    "  0.00031244452111423016],\n",
    " 3000: [0.00010078657214762643,\n",
    "  0.00010628730524331331,\n",
    "  0.00010674318036762998,\n",
    "  0.00012406730093061924,\n",
    "  0.00012528877414297312],\n",
    " 5000: [7.548701978521422e-05,\n",
    "  6.99061420164071e-05,\n",
    "  5.873822374269366e-05,\n",
    "  7.645990990567952e-05,\n",
    "  0.00011495587386889383]}"
   ]
  },
  {
   "cell_type": "code",
   "execution_count": 17,
   "metadata": {},
   "outputs": [
    {
     "data": {
      "text/plain": [
       "{500: [0.016327379271388054,\n",
       "  0.015797536820173264,\n",
       "  0.01589079387485981,\n",
       "  0.016319435089826584,\n",
       "  0.015535215847194195],\n",
       " 1000: [0.015479129739105701,\n",
       "  0.015859253704547882,\n",
       "  0.015357490628957748,\n",
       "  0.01575501076877117,\n",
       "  0.015558995306491852],\n",
       " 3000: [0.015603702515363693,\n",
       "  0.015626879408955574,\n",
       "  0.015474600717425346,\n",
       "  0.015408982522785664,\n",
       "  0.015296519733965397],\n",
       " 5000: [0.015617839992046356,\n",
       "  0.015679847449064255,\n",
       "  0.015534666366875172,\n",
       "  0.015333504416048527,\n",
       "  0.015302738174796104]}"
      ]
     },
     "execution_count": 17,
     "metadata": {},
     "output_type": "execute_result"
    }
   ],
   "source": [
    "sum_random_mse"
   ]
  },
  {
   "cell_type": "raw",
   "metadata": {},
   "source": [
    "{500: [0.0006021367153152823,\n",
    "  0.0008832113235257566,\n",
    "  0.0006756293587386608,\n",
    "  0.0006633711745962501,\n",
    "  0.0007923736120574176],\n",
    " 1000: [0.0003902955213561654,\n",
    "  0.00038061352097429335,\n",
    "  0.00037621494266204536,\n",
    "  0.00034165073884651065,\n",
    "  0.00031244452111423016],\n",
    " 3000: [0.00010078657214762643,\n",
    "  0.00010628730524331331,\n",
    "  0.00010674318036762998,\n",
    "  0.00012406730093061924,\n",
    "  0.00012528877414297312],\n",
    " 5000: [7.548701978521422e-05,\n",
    "  6.99061420164071e-05,\n",
    "  5.873822374269366e-05,\n",
    "  7.645990990567952e-05,\n",
    "  0.00011495587386889383]}"
   ]
  },
  {
   "cell_type": "code",
   "execution_count": null,
   "metadata": {},
   "outputs": [],
   "source": []
  },
  {
   "cell_type": "code",
   "execution_count": 34,
   "metadata": {},
   "outputs": [
    {
     "data": {
      "image/png": "[encoded data removed]",
      "text/plain": [
       "<Figure size 504x216 with 1 Axes>"
      ]
     },
     "metadata": {},
     "output_type": "display_data"
    }
   ],
   "source": [
    "import matplotlib.pyplot as plt\n",
    "plt.style.use('ggplot')\n",
    "\n",
    "fig, ax = plt.subplots(figsize=(7,3))\n",
    "\n",
    "mse_1 = {k: np.mean(v) for k, v in sum_normal_mse.items()}\n",
    "mse_2 = {k: np.mean(v) for k, v in sum_random_mse.items()}\n",
    "\n",
    "# ax.errorbar(range(len(acc_d)), acc_l, yerr=std_l, fmt='-', color='C1', linewidth=2)\n",
    "ax.plot(range(len(mse_1)), mse_1.values(), marker='o', color='C1', linewidth=3)\n",
    "# ax.plot(range(len(mse_1)), mse_2.values(), marker='o', color='C1', linewidth=3)\n",
    "\n",
    "# ax.set_title('Test Accuracy of an ESN over IMDB dataset')\n",
    "\n",
    "ax.set_xticks(range(len(mse_1)))\n",
    "ax.set_xticklabels(mse_1.keys())\n",
    "\n",
    "ax.set_xlabel('Reservoir dimension')\n",
    "ax.set_ylabel(\"$MSE_{d,d'}$\")\n",
    "\n",
    "plt.savefig(\"MSE_cosine_dist.pdf\", bbox_inches='tight', dpi=300)\n",
    "plt.show()"
   ]
  },
  {
   "cell_type": "code",
   "execution_count": null,
   "metadata": {},
   "outputs": [],
   "source": []
  },
  {
   "cell_type": "code",
   "execution_count": null,
   "metadata": {},
   "outputs": [],
   "source": []
  },
  {
   "cell_type": "code",
   "execution_count": null,
   "metadata": {},
   "outputs": [],
   "source": []
  },
  {
   "cell_type": "markdown",
   "metadata": {},
   "source": [
    "# Test same thing when passing through reservoir"
   ]
  },
  {
   "cell_type": "markdown",
   "metadata": {},
   "source": [
    "## Load dataset"
   ]
  },
  {
   "cell_type": "code",
   "execution_count": 399,
   "metadata": {},
   "outputs": [],
   "source": [
    "# rename correct column as 'labels': depends on the dataset you load\n",
    "\n",
    "def load_and_enrich_dataset(dataset_name, split, cache_dir):\n",
    "    \n",
    "    dataset = load_dataset(dataset_name, split=split, cache_dir=CACHE_DIR)\n",
    "    dataset = dataset.rename_column('label', 'labels') # cf 'imdb' dataset\n",
    "    dataset = dataset.map(lambda e: tokenizer(e['text'], truncation=True, padding=False), batched=True)\n",
    "    dataset.set_format(type='torch', columns=['input_ids', 'attention_mask', 'labels'])\n",
    "\n",
    "    def add_lengths(sample):\n",
    "        sample[\"lengths\"] = sum(sample[\"input_ids\"] != 0)\n",
    "        return sample\n",
    "    \n",
    "    dataset = dataset.map(add_lengths, batched=False)\n",
    "    \n",
    "    return dataset"
   ]
  },
  {
   "cell_type": "code",
   "execution_count": 400,
   "metadata": {},
   "outputs": [
    {
     "name": "stderr",
     "output_type": "stream",
     "text": [
      "Reusing dataset imdb (/raid/home/jeremiec/huggingface_datasets/imdb/plain_text/1.0.0/4ea52f2e58a08dbc12c2bd52d0d92b30b88c00230b4522801b3636782f625c5b)\n"
     ]
    },
    {
     "data": {
      "application/vnd.jupyter.widget-view+json": {
       "model_id": "01fabade862b4cdaab3a569a9db41c2b",
       "version_major": 2,
       "version_minor": 0
      },
      "text/plain": [
       "HBox(children=(FloatProgress(value=0.0, max=25.0), HTML(value='')))"
      ]
     },
     "metadata": {},
     "output_type": "display_data"
    },
    {
     "name": "stdout",
     "output_type": "stream",
     "text": [
      "\n"
     ]
    },
    {
     "data": {
      "application/vnd.jupyter.widget-view+json": {
       "model_id": "9ed1dbab94384c80a138cd2132d2a611",
       "version_major": 2,
       "version_minor": 0
      },
      "text/plain": [
       "HBox(children=(FloatProgress(value=0.0, max=25000.0), HTML(value='')))"
      ]
     },
     "metadata": {},
     "output_type": "display_data"
    },
    {
     "name": "stdout",
     "output_type": "stream",
     "text": [
      "\n"
     ]
    },
    {
     "name": "stderr",
     "output_type": "stream",
     "text": [
      "Reusing dataset imdb (/raid/home/jeremiec/huggingface_datasets/imdb/plain_text/1.0.0/4ea52f2e58a08dbc12c2bd52d0d92b30b88c00230b4522801b3636782f625c5b)\n"
     ]
    },
    {
     "data": {
      "application/vnd.jupyter.widget-view+json": {
       "model_id": "615c8ec732e04ab091f7326f1fc3315e",
       "version_major": 2,
       "version_minor": 0
      },
      "text/plain": [
       "HBox(children=(FloatProgress(value=0.0, max=25.0), HTML(value='')))"
      ]
     },
     "metadata": {},
     "output_type": "display_data"
    },
    {
     "name": "stdout",
     "output_type": "stream",
     "text": [
      "\n"
     ]
    },
    {
     "data": {
      "application/vnd.jupyter.widget-view+json": {
       "model_id": "46820d872e294c7ca2845c935616a0fe",
       "version_major": 2,
       "version_minor": 0
      },
      "text/plain": [
       "HBox(children=(FloatProgress(value=0.0, max=25000.0), HTML(value='')))"
      ]
     },
     "metadata": {},
     "output_type": "display_data"
    },
    {
     "name": "stdout",
     "output_type": "stream",
     "text": [
      "\n"
     ]
    }
   ],
   "source": [
    "CACHE_DIR = '~/Data/huggignface/' # put your own path here\n",
    "\n",
    "tokenizer = AutoTokenizer.from_pretrained('bert-base-uncased')\n",
    "\n",
    "full_train_dataset = load_and_enrich_dataset('imdb', split='train', cache_dir=CACHE_DIR).sort(\"lengths\") # toriving/sst5\n",
    "train_val_datasets = full_train_dataset.train_test_split(train_size=0.8, shuffle=True)\n",
    "train_dataset = train_val_datasets['train'].sort(\"lengths\")\n",
    "val_dataset = train_val_datasets['test'].sort(\"lengths\")\n",
    "\n",
    "test_dataset = load_and_enrich_dataset('imdb', split='test', cache_dir=CACHE_DIR).sort(\"lengths\")\n",
    "\n",
    "dataset_d = {\n",
    "    'full_train': full_train_dataset,\n",
    "    'train': train_dataset,\n",
    "    'val': val_dataset,\n",
    "    'test': test_dataset\n",
    "    }\n",
    "\n",
    "dataloader_d = {}\n",
    "for k, v in dataset_d.items():\n",
    "    dataloader_d[k] = torch.utils.data.DataLoader(v, \n",
    "                                                  batch_size=128,#256, reduced for bi-direction\n",
    "                                                  collate_fn=DataCollatorWithPadding(tokenizer))"
   ]
  },
  {
   "cell_type": "code",
   "execution_count": 401,
   "metadata": {},
   "outputs": [
    {
     "data": {
      "text/plain": [
       "{'full_train': Dataset({\n",
       "     features: ['attention_mask', 'input_ids', 'labels', 'lengths', 'text', 'token_type_ids'],\n",
       "     num_rows: 25000\n",
       " }),\n",
       " 'train': Dataset({\n",
       "     features: ['attention_mask', 'input_ids', 'labels', 'lengths', 'text', 'token_type_ids'],\n",
       "     num_rows: 20000\n",
       " }),\n",
       " 'val': Dataset({\n",
       "     features: ['attention_mask', 'input_ids', 'labels', 'lengths', 'text', 'token_type_ids'],\n",
       "     num_rows: 5000\n",
       " }),\n",
       " 'test': Dataset({\n",
       "     features: ['attention_mask', 'input_ids', 'labels', 'lengths', 'text', 'token_type_ids'],\n",
       "     num_rows: 25000\n",
       " })}"
      ]
     },
     "execution_count": 401,
     "metadata": {},
     "output_type": "execute_result"
    }
   ],
   "source": [
    "dataset_d"
   ]
  },
  {
   "cell_type": "code",
   "execution_count": null,
   "metadata": {},
   "outputs": [],
   "source": []
  },
  {
   "cell_type": "code",
   "execution_count": 405,
   "metadata": {},
   "outputs": [
    {
     "data": {
      "text/plain": [
       "torch.Size([5000])"
      ]
     },
     "execution_count": 405,
     "metadata": {},
     "output_type": "execute_result"
    }
   ],
   "source": [
    "ESN.reservoir.initial_state.shape"
   ]
  },
  {
   "cell_type": "code",
   "execution_count": 407,
   "metadata": {},
   "outputs": [
    {
     "data": {
      "text/plain": [
       "torch.Size([5000])"
      ]
     },
     "execution_count": 407,
     "metadata": {},
     "output_type": "execute_result"
    }
   ],
   "source": [
    "ESN.reservoir.bias.shape"
   ]
  },
  {
   "cell_type": "code",
   "execution_count": 494,
   "metadata": {},
   "outputs": [],
   "source": [
    "def compute_mse_after_reservoir(ESN, return_distances=False):\n",
    "    \n",
    "    with open(\"random_words.csv\", \"rt\") as fh:\n",
    "        random_words = [x[:-1] for x in fh.readlines()]\n",
    "        \n",
    "    tokenized_random_words = tokenizer.batch_encode_plus(random_words, add_special_tokens=False, padding=False)\n",
    "    \n",
    "    simple_words = []\n",
    "    for i,ids in enumerate(tokenized_random_words[\"input_ids\"]):\n",
    "        if len(ids) == 1:\n",
    "            simple_words.append(random_words[i])\n",
    "            \n",
    "    tokenized_simple_random_words = tokenizer.batch_encode_plus(simple_words, add_special_tokens=False, return_tensors=\"pt\")\n",
    "    \n",
    "    # ESN reservoir parameters\n",
    "    input_w = ESN.reservoir.input_w\n",
    "    reservoir_w = ESN.reservoir.reservoir_w\n",
    "    reservoir_bias = ESN.reservoir.bias\n",
    "    reservoir_x0 = ESN.reservoir.initial_state\n",
    "    \n",
    "    # Get BERT embeddings\n",
    "    bert_embedded_words = ESN.reservoir.embedding(tokenized_simple_random_words).squeeze()\n",
    "    \n",
    "    # Get distances $d_{i,j}$\n",
    "    distances_BERT = cosine_distances(bert_embedded_words.cpu().numpy())\n",
    "\n",
    "    # Get transformed BERT embeddings : apply manually the reservoir once\n",
    "    processing = torch.mm(bert_embedded_words, input_w.T)\n",
    "    inter = torch.mm(reservoir_w, reservoir_x0.reshape((-1, 1))).unsqueeze(0).repeat((785, 1, 1)).squeeze()\n",
    "    processing = processing + inter + reservoir_bias.unsqueeze(0).repeat((785, 1))\n",
    "    bert_embedded_words_transformed = torch.tanh(processing)\n",
    "\n",
    "    # Get distances $d'_{i,j}$\n",
    "    distances_transformed = cosine_distances(bert_embedded_words_transformed.cpu().numpy())\n",
    "    \n",
    "    # $\\frac{\\sum{|d_{i,j} - d'_{i,j}|}^2}{2*n} $\n",
    "    mse_transformation = ((distances_BERT - distances_transformed) ** 2).mean()/2\n",
    "\n",
    "    if return_distances:\n",
    "        return mse_transformation, distances_BERT, distances_transformed\n",
    "    else:\n",
    "        return mse_transformation"
   ]
  },
  {
   "cell_type": "code",
   "execution_count": 497,
   "metadata": {},
   "outputs": [
    {
     "data": {
      "text/plain": [
       "Dataset({\n",
       "    features: ['attention_mask', 'input_ids', 'labels', 'lengths', 'text', 'token_type_ids'],\n",
       "    num_rows: 1\n",
       "})"
      ]
     },
     "execution_count": 497,
     "metadata": {},
     "output_type": "execute_result"
    }
   ],
   "source": [
    "dataset_d[\"train\"].select([1])"
   ]
  },
  {
   "cell_type": "code",
   "execution_count": 495,
   "metadata": {},
   "outputs": [
    {
     "name": "stdout",
     "output_type": "stream",
     "text": [
      "testing size 500\n",
      "\ttesting seed 42\n",
      "\t\tmse of the normal transformation : 0.006634519435465336\n",
      "\ttesting seed 1024\n",
      "\t\tmse of the normal transformation : 0.0059072538278996944\n",
      "\ttesting seed 16873298\n",
      "\t\tmse of the normal transformation : 0.006588850170373917\n",
      "\ttesting seed 1996\n",
      "\t\tmse of the normal transformation : 0.006834477186203003\n",
      "\ttesting seed 2019\n",
      "\t\tmse of the normal transformation : 0.007324102334678173\n",
      "testing size 1000\n",
      "\ttesting seed 42\n",
      "\t\tmse of the normal transformation : 0.0046043312177062035\n",
      "\ttesting seed 1024\n",
      "\t\tmse of the normal transformation : 0.0050125219859182835\n",
      "\ttesting seed 16873298\n",
      "\t\tmse of the normal transformation : 0.005555033218115568\n",
      "\ttesting seed 1996\n",
      "\t\tmse of the normal transformation : 0.0062471111305058\n",
      "\ttesting seed 2019\n",
      "\t\tmse of the normal transformation : 0.005521882325410843\n",
      "testing size 3000\n",
      "\ttesting seed 42\n",
      "\t\tmse of the normal transformation : 0.001587049919180572\n",
      "\ttesting seed 1024\n",
      "\t\tmse of the normal transformation : 0.0015077058924362063\n",
      "\ttesting seed 16873298\n",
      "\t\tmse of the normal transformation : 0.0011666826903820038\n",
      "\ttesting seed 1996\n",
      "\t\tmse of the normal transformation : 0.0013198679080232978\n",
      "\ttesting seed 2019\n",
      "\t\tmse of the normal transformation : 0.0012530178064480424\n",
      "testing size 5000\n",
      "\ttesting seed 42\n",
      "\t\tmse of the normal transformation : 0.007224132306873798\n",
      "\ttesting seed 1024\n",
      "\t\tmse of the normal transformation : 0.006628277245908976\n",
      "\ttesting seed 16873298\n",
      "\t\tmse of the normal transformation : 0.0064443303272128105\n",
      "\ttesting seed 1996\n",
      "\t\tmse of the normal transformation : 0.006674686912447214\n",
      "\ttesting seed 2019\n",
      "\t\tmse of the normal transformation : 0.005829368717968464\n"
     ]
    }
   ],
   "source": [
    "sum_normal_mse = {}\n",
    "\n",
    "for size_esn in [500, 1000, 3000, 5000]:\n",
    "    print(f\"testing size {size_esn}\")\n",
    "\n",
    "    best_params = imdb_params[size_esn][\"best_parameters\"]\n",
    "\n",
    "    # parameters\n",
    "    esn_params = {\n",
    "                'embedding_weights': 'bert-base-uncased', # TEXT.vocab.vectors,\n",
    "                'distribution' : 'uniform',              # uniform, gaussian\n",
    "                'input_dim' : 768,                       # dim of encoding!\n",
    "                'reservoir_dim' : best_params[\"reservoir_dim\"],\n",
    "                'bias_scaling' : best_params[\"bias_scaling\"],\n",
    "                'sparsity' : 0.99,\n",
    "                'spectral_radius' : best_params[\"spectral_radius\"],\n",
    "                'leaking_rate': best_params[\"leaking_rate\"],\n",
    "                'activation_function' : 'tanh',\n",
    "                'input_scaling' : best_params[\"input_scaling\"],\n",
    "                'mean' : 0.0,\n",
    "                'std' : 1.0,\n",
    "                'learning_algo' : None,\n",
    "                'criterion' : None,\n",
    "                'optimizer' : None,\n",
    "                'merging_strategy' : 'mean',\n",
    "                'lexicon' : None,\n",
    "                'bidirectional' : False, # False\n",
    "                'device' : device,\n",
    "                'seed' : 42\n",
    "                 }\n",
    "\n",
    "    sum_normal_mse[size_esn] = []\n",
    "\n",
    "\n",
    "    for seed in [42, 1024, 16873298, 1996, 2019]:\n",
    "        print(f\"\\ttesting seed {seed}\")\n",
    "\n",
    "        esn_params['seed'] = seed\n",
    "\n",
    "        # model\n",
    "        ESN = esn.EchoStateNetwork(**esn_params)\n",
    "        ESN.learning_algo = la.RidgeRegression(alpha = best_params[\"alpha\"])# , mode='normalize')\n",
    "        ESN = ESN.to(device)\n",
    "        \n",
    "        # warm up (new)\n",
    "        nb_sentences = 3\n",
    "        for i in range(nb_sentences): \n",
    "\n",
    "            sentence = dataset_d[\"train\"].select([i])\n",
    "            dataloader_tmp = torch.utils.data.DataLoader(sentence, \n",
    "                                                         batch_size=1, \n",
    "                                                         collate_fn=DataCollatorWithPadding(tokenizer))  \n",
    "\n",
    "            for s in dataloader_tmp:\n",
    "                ESN.warm_up(s)\n",
    "\n",
    "        mse_transformation = compute_mse_after_reservoir(ESN)\n",
    "\n",
    "        sum_normal_mse[size_esn].append(mse_transformation)\n",
    "\n",
    "        print(f\"\\t\\tmse of the normal transformation : {mse_transformation}\")"
   ]
  },
  {
   "cell_type": "raw",
   "metadata": {},
   "source": [
    "testing size 500\n",
    "\ttesting seed 42\n",
    "\t\tmse of the normal transformation : 0.006634519435465336\n",
    "\ttesting seed 1024\n",
    "\t\tmse of the normal transformation : 0.0059072538278996944\n",
    "\ttesting seed 16873298\n",
    "\t\tmse of the normal transformation : 0.006588850170373917\n",
    "\ttesting seed 1996\n",
    "\t\tmse of the normal transformation : 0.006834477186203003\n",
    "\ttesting seed 2019\n",
    "\t\tmse of the normal transformation : 0.007324102334678173\n",
    "testing size 1000\n",
    "\ttesting seed 42\n",
    "\t\tmse of the normal transformation : 0.0046043312177062035\n",
    "\ttesting seed 1024\n",
    "\t\tmse of the normal transformation : 0.0050125219859182835\n",
    "\ttesting seed 16873298\n",
    "\t\tmse of the normal transformation : 0.005555033218115568\n",
    "\ttesting seed 1996\n",
    "\t\tmse of the normal transformation : 0.0062471111305058\n",
    "\ttesting seed 2019\n",
    "\t\tmse of the normal transformation : 0.005521882325410843\n",
    "testing size 3000\n",
    "\ttesting seed 42\n",
    "\t\tmse of the normal transformation : 0.001587049919180572\n",
    "\ttesting seed 1024\n",
    "\t\tmse of the normal transformation : 0.0015077058924362063\n",
    "\ttesting seed 16873298\n",
    "\t\tmse of the normal transformation : 0.0011666826903820038\n",
    "\ttesting seed 1996\n",
    "\t\tmse of the normal transformation : 0.0013198679080232978\n",
    "\ttesting seed 2019\n",
    "\t\tmse of the normal transformation : 0.0012530178064480424\n",
    "testing size 5000\n",
    "\ttesting seed 42\n",
    "\t\tmse of the normal transformation : 0.007224132306873798\n",
    "\ttesting seed 1024\n",
    "\t\tmse of the normal transformation : 0.006628277245908976\n",
    "\ttesting seed 16873298\n",
    "\t\tmse of the normal transformation : 0.0064443303272128105\n",
    "\ttesting seed 1996\n",
    "\t\tmse of the normal transformation : 0.006674686912447214\n",
    "\ttesting seed 2019\n",
    "\t\tmse of the normal transformation : 0.005829368717968464"
   ]
  },
  {
   "cell_type": "code",
   "execution_count": null,
   "metadata": {},
   "outputs": [],
   "source": []
  }
 ],
 "metadata": {
  "kernelspec": {
   "display_name": "Python 3",
   "language": "python",
   "name": "python3"
  },
  "language_info": {
   "codemirror_mode": {
    "name": "ipython",
    "version": 3
   },
   "file_extension": ".py",
   "mimetype": "text/x-python",
   "name": "python",
   "nbconvert_exporter": "python",
   "pygments_lexer": "ipython3",
   "version": "3.7.9"
  }
 },
 "nbformat": 4,
 "nbformat_minor": 4
}
