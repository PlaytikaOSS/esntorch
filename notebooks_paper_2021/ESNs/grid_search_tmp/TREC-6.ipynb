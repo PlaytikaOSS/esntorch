{
 "cells": [
  {
   "cell_type": "markdown",
   "metadata": {},
   "source": [
    "# TREC-6: Grid Search"
   ]
  },
  {
   "cell_type": "markdown",
   "metadata": {},
   "source": [
    "## Librairies"
   ]
  },
  {
   "cell_type": "code",
   "execution_count": 1,
   "metadata": {},
   "outputs": [],
   "source": [
    "# !pip install transformers==4.8.2\n",
    "# !pip install datasets==1.7.0\n",
    "# !pip install ax-platform==0.1.20\n",
    "# !pip install ipywidgets\n",
    "# !jupyter nbextension enable --py widgetsnbextension"
   ]
  },
  {
   "cell_type": "code",
   "execution_count": 2,
   "metadata": {},
   "outputs": [],
   "source": [
    "# comment this if library is pip installed\n",
    "import os\n",
    "import sys\n",
    "sys.path.insert(0, os.path.abspath(\"../../..\"))"
   ]
  },
  {
   "cell_type": "code",
   "execution_count": 3,
   "metadata": {},
   "outputs": [],
   "source": [
    "import io\n",
    "import re\n",
    "import pickle\n",
    "\n",
    "from tqdm.notebook import tqdm\n",
    "\n",
    "from timeit import default_timer as timer\n",
    "\n",
    "import random\n",
    "import numpy as np\n",
    "\n",
    "import torch\n",
    "import torch.nn as nn\n",
    "import torch.optim as optim\n",
    "\n",
    "from itertools import product\n",
    "\n",
    "from datasets import load_dataset, Dataset, concatenate_datasets\n",
    "from transformers import AutoTokenizer\n",
    "from transformers import BertModel\n",
    "from transformers.data.data_collator import DataCollatorWithPadding\n",
    "\n",
    "import esntorch.core.reservoir as res\n",
    "import esntorch.core.learning_algo as la\n",
    "import esntorch.core.pooling_strategy as ps\n",
    "import esntorch.core.esn as esn"
   ]
  },
  {
   "cell_type": "code",
   "execution_count": 4,
   "metadata": {},
   "outputs": [],
   "source": [
    "%config Completer.use_jedi = False\n",
    "%load_ext autoreload\n",
    "%autoreload 2"
   ]
  },
  {
   "cell_type": "code",
   "execution_count": 5,
   "metadata": {},
   "outputs": [
    {
     "data": {
      "text/plain": [
       "device(type='cuda')"
      ]
     },
     "execution_count": 5,
     "metadata": {},
     "output_type": "execute_result"
    }
   ],
   "source": [
    "device = torch.device('cuda' if torch.cuda.is_available() else 'cpu')\n",
    "device"
   ]
  },
  {
   "cell_type": "code",
   "execution_count": 6,
   "metadata": {},
   "outputs": [],
   "source": [
    "SEED = 42"
   ]
  },
  {
   "cell_type": "code",
   "execution_count": null,
   "metadata": {},
   "outputs": [],
   "source": []
  },
  {
   "cell_type": "markdown",
   "metadata": {},
   "source": [
    "## Global variables"
   ]
  },
  {
   "cell_type": "code",
   "execution_count": 5,
   "metadata": {},
   "outputs": [],
   "source": [
    "RESULTS_PATH = '/results/ESN_v2'    # path of your result folder\n",
    "CACHE_DIR = '/huggingface_datasets' # path of your folder\n",
    "RESULTS_FILE = 'trec-6_params.pkl'"
   ]
  },
  {
   "cell_type": "markdown",
   "metadata": {},
   "source": [
    "## Dataset"
   ]
  },
  {
   "cell_type": "code",
   "execution_count": 8,
   "metadata": {},
   "outputs": [],
   "source": [
    "# rename correct column as 'labels': depends on the dataset you load\n",
    "\n",
    "def tokenize(sample):\n",
    "    \"\"\"Tokenize sample\"\"\"\n",
    "    \n",
    "    sample = tokenizer(sample['text'], truncation=True, padding=False, return_length=True)\n",
    "    \n",
    "    return sample\n",
    "    \n",
    "def load_and_enrich_dataset(dataset_name, split, cache_dir):\n",
    "    \"\"\"\n",
    "    Load dataset from the datasets library of HuggingFace.\n",
    "    Tokenize and add length.\n",
    "    \"\"\"\n",
    "    \n",
    "    # Load dataset\n",
    "    dataset = load_dataset(dataset_name, split=split, cache_dir=CACHE_DIR)\n",
    "    \n",
    "    # Rename label column for tokenization purposes (use 'label-fine' for fine-grained labels)\n",
    "    dataset = dataset.rename_column('label-coarse', 'labels')\n",
    "    \n",
    "    # Tokenize data\n",
    "    dataset = dataset.map(tokenize, batched=True)\n",
    "    dataset = dataset.rename_column('length', 'lengths')\n",
    "    dataset.set_format(type='torch', columns=['input_ids', 'attention_mask', 'labels', 'lengths'])\n",
    "    \n",
    "    return dataset"
   ]
  },
  {
   "cell_type": "code",
   "execution_count": null,
   "metadata": {},
   "outputs": [],
   "source": [
    "tokenizer = AutoTokenizer.from_pretrained('bert-base-uncased')\n",
    "\n",
    "full_train_dataset = load_and_enrich_dataset('trec', split='train', cache_dir=CACHE_DIR)\n",
    "\n",
    "# Select 20% of the dataset\n",
    "full_train_dataset = full_train_dataset.train_test_split(train_size=0.2, shuffle=True)['train']\n",
    "\n",
    "# Build mini train and val sets\n",
    "train_val_datasets = full_train_dataset.train_test_split(train_size=0.8, shuffle=True)\n",
    "train_dataset = train_val_datasets['train'].sort(\"lengths\")\n",
    "val_dataset = train_val_datasets['test'].sort(\"lengths\")\n",
    "\n",
    "test_dataset = load_and_enrich_dataset('trec', split='test', cache_dir=CACHE_DIR).sort(\"lengths\")\n",
    "\n",
    "dataset_d = {\n",
    "    'full_train': full_train_dataset,\n",
    "    'train': train_dataset,\n",
    "    'val': val_dataset,\n",
    "    'test': test_dataset\n",
    "    }\n",
    "\n",
    "dataloader_d = {}\n",
    "for k, v in dataset_d.items():\n",
    "    dataloader_d[k] = torch.utils.data.DataLoader(v, batch_size=256, collate_fn=DataCollatorWithPadding(tokenizer))"
   ]
  },
  {
   "cell_type": "code",
   "execution_count": 10,
   "metadata": {},
   "outputs": [
    {
     "data": {
      "text/plain": [
       "{'full_train': Dataset({\n",
       "     features: ['attention_mask', 'input_ids', 'label-fine', 'labels', 'lengths', 'text', 'token_type_ids'],\n",
       "     num_rows: 1090\n",
       " }),\n",
       " 'train': Dataset({\n",
       "     features: ['attention_mask', 'input_ids', 'label-fine', 'labels', 'lengths', 'text', 'token_type_ids'],\n",
       "     num_rows: 872\n",
       " }),\n",
       " 'val': Dataset({\n",
       "     features: ['attention_mask', 'input_ids', 'label-fine', 'labels', 'lengths', 'text', 'token_type_ids'],\n",
       "     num_rows: 218\n",
       " }),\n",
       " 'test': Dataset({\n",
       "     features: ['attention_mask', 'input_ids', 'label-fine', 'labels', 'lengths', 'text', 'token_type_ids'],\n",
       "     num_rows: 500\n",
       " })}"
      ]
     },
     "execution_count": 10,
     "metadata": {},
     "output_type": "execute_result"
    }
   ],
   "source": [
    "dataset_d"
   ]
  },
  {
   "cell_type": "code",
   "execution_count": null,
   "metadata": {},
   "outputs": [],
   "source": []
  },
  {
   "cell_type": "markdown",
   "metadata": {},
   "source": [
    "## Grid Search"
   ]
  },
  {
   "cell_type": "code",
   "execution_count": 11,
   "metadata": {},
   "outputs": [],
   "source": [
    "params_d = {\n",
    "            'reservoir_dim' : [1000], # we fix the reservoir dim\n",
    "            'spectral_radius' : [0.5, 1.0, 1.5],\n",
    "            'leaking_rate': [0.1, 0.5, 0.9],\n",
    "            'input_scaling' : [0.1, 1.0], \n",
    "            'bias_scaling' : [0.0],\n",
    "            'sparsity' : [0.0, 0.99],\n",
    "            'activation_function' : ['relu'],\n",
    "            'alpha' : [0.1, 1.0, 10.0]\n",
    "            }"
   ]
  },
  {
   "cell_type": "code",
   "execution_count": 12,
   "metadata": {
    "scrolled": true
   },
   "outputs": [
    {
     "data": {
      "text/plain": [
       "[{'reservoir_dim': 1000,\n",
       "  'spectral_radius': 0.5,\n",
       "  'leaking_rate': 0.1,\n",
       "  'input_scaling': 0.1,\n",
       "  'bias_scaling': 0.0,\n",
       "  'sparsity': 0.0,\n",
       "  'activation_function': 'relu',\n",
       "  'alpha': 0.1},\n",
       " {'reservoir_dim': 1000,\n",
       "  'spectral_radius': 0.5,\n",
       "  'leaking_rate': 0.1,\n",
       "  'input_scaling': 0.1,\n",
       "  'bias_scaling': 0.0,\n",
       "  'sparsity': 0.0,\n",
       "  'activation_function': 'relu',\n",
       "  'alpha': 1.0},\n",
       " {'reservoir_dim': 1000,\n",
       "  'spectral_radius': 0.5,\n",
       "  'leaking_rate': 0.1,\n",
       "  'input_scaling': 0.1,\n",
       "  'bias_scaling': 0.0,\n",
       "  'sparsity': 0.0,\n",
       "  'activation_function': 'relu',\n",
       "  'alpha': 10.0},\n",
       " {'reservoir_dim': 1000,\n",
       "  'spectral_radius': 0.5,\n",
       "  'leaking_rate': 0.1,\n",
       "  'input_scaling': 0.1,\n",
       "  'bias_scaling': 0.0,\n",
       "  'sparsity': 0.99,\n",
       "  'activation_function': 'relu',\n",
       "  'alpha': 0.1},\n",
       " {'reservoir_dim': 1000,\n",
       "  'spectral_radius': 0.5,\n",
       "  'leaking_rate': 0.1,\n",
       "  'input_scaling': 0.1,\n",
       "  'bias_scaling': 0.0,\n",
       "  'sparsity': 0.99,\n",
       "  'activation_function': 'relu',\n",
       "  'alpha': 1.0},\n",
       " {'reservoir_dim': 1000,\n",
       "  'spectral_radius': 0.5,\n",
       "  'leaking_rate': 0.1,\n",
       "  'input_scaling': 0.1,\n",
       "  'bias_scaling': 0.0,\n",
       "  'sparsity': 0.99,\n",
       "  'activation_function': 'relu',\n",
       "  'alpha': 10.0},\n",
       " {'reservoir_dim': 1000,\n",
       "  'spectral_radius': 0.5,\n",
       "  'leaking_rate': 0.1,\n",
       "  'input_scaling': 1.0,\n",
       "  'bias_scaling': 0.0,\n",
       "  'sparsity': 0.0,\n",
       "  'activation_function': 'relu',\n",
       "  'alpha': 0.1},\n",
       " {'reservoir_dim': 1000,\n",
       "  'spectral_radius': 0.5,\n",
       "  'leaking_rate': 0.1,\n",
       "  'input_scaling': 1.0,\n",
       "  'bias_scaling': 0.0,\n",
       "  'sparsity': 0.0,\n",
       "  'activation_function': 'relu',\n",
       "  'alpha': 1.0},\n",
       " {'reservoir_dim': 1000,\n",
       "  'spectral_radius': 0.5,\n",
       "  'leaking_rate': 0.1,\n",
       "  'input_scaling': 1.0,\n",
       "  'bias_scaling': 0.0,\n",
       "  'sparsity': 0.0,\n",
       "  'activation_function': 'relu',\n",
       "  'alpha': 10.0},\n",
       " {'reservoir_dim': 1000,\n",
       "  'spectral_radius': 0.5,\n",
       "  'leaking_rate': 0.1,\n",
       "  'input_scaling': 1.0,\n",
       "  'bias_scaling': 0.0,\n",
       "  'sparsity': 0.99,\n",
       "  'activation_function': 'relu',\n",
       "  'alpha': 0.1},\n",
       " {'reservoir_dim': 1000,\n",
       "  'spectral_radius': 0.5,\n",
       "  'leaking_rate': 0.1,\n",
       "  'input_scaling': 1.0,\n",
       "  'bias_scaling': 0.0,\n",
       "  'sparsity': 0.99,\n",
       "  'activation_function': 'relu',\n",
       "  'alpha': 1.0},\n",
       " {'reservoir_dim': 1000,\n",
       "  'spectral_radius': 0.5,\n",
       "  'leaking_rate': 0.1,\n",
       "  'input_scaling': 1.0,\n",
       "  'bias_scaling': 0.0,\n",
       "  'sparsity': 0.99,\n",
       "  'activation_function': 'relu',\n",
       "  'alpha': 10.0},\n",
       " {'reservoir_dim': 1000,\n",
       "  'spectral_radius': 0.5,\n",
       "  'leaking_rate': 0.5,\n",
       "  'input_scaling': 0.1,\n",
       "  'bias_scaling': 0.0,\n",
       "  'sparsity': 0.0,\n",
       "  'activation_function': 'relu',\n",
       "  'alpha': 0.1},\n",
       " {'reservoir_dim': 1000,\n",
       "  'spectral_radius': 0.5,\n",
       "  'leaking_rate': 0.5,\n",
       "  'input_scaling': 0.1,\n",
       "  'bias_scaling': 0.0,\n",
       "  'sparsity': 0.0,\n",
       "  'activation_function': 'relu',\n",
       "  'alpha': 1.0},\n",
       " {'reservoir_dim': 1000,\n",
       "  'spectral_radius': 0.5,\n",
       "  'leaking_rate': 0.5,\n",
       "  'input_scaling': 0.1,\n",
       "  'bias_scaling': 0.0,\n",
       "  'sparsity': 0.0,\n",
       "  'activation_function': 'relu',\n",
       "  'alpha': 10.0},\n",
       " {'reservoir_dim': 1000,\n",
       "  'spectral_radius': 0.5,\n",
       "  'leaking_rate': 0.5,\n",
       "  'input_scaling': 0.1,\n",
       "  'bias_scaling': 0.0,\n",
       "  'sparsity': 0.99,\n",
       "  'activation_function': 'relu',\n",
       "  'alpha': 0.1},\n",
       " {'reservoir_dim': 1000,\n",
       "  'spectral_radius': 0.5,\n",
       "  'leaking_rate': 0.5,\n",
       "  'input_scaling': 0.1,\n",
       "  'bias_scaling': 0.0,\n",
       "  'sparsity': 0.99,\n",
       "  'activation_function': 'relu',\n",
       "  'alpha': 1.0},\n",
       " {'reservoir_dim': 1000,\n",
       "  'spectral_radius': 0.5,\n",
       "  'leaking_rate': 0.5,\n",
       "  'input_scaling': 0.1,\n",
       "  'bias_scaling': 0.0,\n",
       "  'sparsity': 0.99,\n",
       "  'activation_function': 'relu',\n",
       "  'alpha': 10.0},\n",
       " {'reservoir_dim': 1000,\n",
       "  'spectral_radius': 0.5,\n",
       "  'leaking_rate': 0.5,\n",
       "  'input_scaling': 1.0,\n",
       "  'bias_scaling': 0.0,\n",
       "  'sparsity': 0.0,\n",
       "  'activation_function': 'relu',\n",
       "  'alpha': 0.1},\n",
       " {'reservoir_dim': 1000,\n",
       "  'spectral_radius': 0.5,\n",
       "  'leaking_rate': 0.5,\n",
       "  'input_scaling': 1.0,\n",
       "  'bias_scaling': 0.0,\n",
       "  'sparsity': 0.0,\n",
       "  'activation_function': 'relu',\n",
       "  'alpha': 1.0},\n",
       " {'reservoir_dim': 1000,\n",
       "  'spectral_radius': 0.5,\n",
       "  'leaking_rate': 0.5,\n",
       "  'input_scaling': 1.0,\n",
       "  'bias_scaling': 0.0,\n",
       "  'sparsity': 0.0,\n",
       "  'activation_function': 'relu',\n",
       "  'alpha': 10.0},\n",
       " {'reservoir_dim': 1000,\n",
       "  'spectral_radius': 0.5,\n",
       "  'leaking_rate': 0.5,\n",
       "  'input_scaling': 1.0,\n",
       "  'bias_scaling': 0.0,\n",
       "  'sparsity': 0.99,\n",
       "  'activation_function': 'relu',\n",
       "  'alpha': 0.1},\n",
       " {'reservoir_dim': 1000,\n",
       "  'spectral_radius': 0.5,\n",
       "  'leaking_rate': 0.5,\n",
       "  'input_scaling': 1.0,\n",
       "  'bias_scaling': 0.0,\n",
       "  'sparsity': 0.99,\n",
       "  'activation_function': 'relu',\n",
       "  'alpha': 1.0},\n",
       " {'reservoir_dim': 1000,\n",
       "  'spectral_radius': 0.5,\n",
       "  'leaking_rate': 0.5,\n",
       "  'input_scaling': 1.0,\n",
       "  'bias_scaling': 0.0,\n",
       "  'sparsity': 0.99,\n",
       "  'activation_function': 'relu',\n",
       "  'alpha': 10.0},\n",
       " {'reservoir_dim': 1000,\n",
       "  'spectral_radius': 0.5,\n",
       "  'leaking_rate': 0.9,\n",
       "  'input_scaling': 0.1,\n",
       "  'bias_scaling': 0.0,\n",
       "  'sparsity': 0.0,\n",
       "  'activation_function': 'relu',\n",
       "  'alpha': 0.1},\n",
       " {'reservoir_dim': 1000,\n",
       "  'spectral_radius': 0.5,\n",
       "  'leaking_rate': 0.9,\n",
       "  'input_scaling': 0.1,\n",
       "  'bias_scaling': 0.0,\n",
       "  'sparsity': 0.0,\n",
       "  'activation_function': 'relu',\n",
       "  'alpha': 1.0},\n",
       " {'reservoir_dim': 1000,\n",
       "  'spectral_radius': 0.5,\n",
       "  'leaking_rate': 0.9,\n",
       "  'input_scaling': 0.1,\n",
       "  'bias_scaling': 0.0,\n",
       "  'sparsity': 0.0,\n",
       "  'activation_function': 'relu',\n",
       "  'alpha': 10.0},\n",
       " {'reservoir_dim': 1000,\n",
       "  'spectral_radius': 0.5,\n",
       "  'leaking_rate': 0.9,\n",
       "  'input_scaling': 0.1,\n",
       "  'bias_scaling': 0.0,\n",
       "  'sparsity': 0.99,\n",
       "  'activation_function': 'relu',\n",
       "  'alpha': 0.1},\n",
       " {'reservoir_dim': 1000,\n",
       "  'spectral_radius': 0.5,\n",
       "  'leaking_rate': 0.9,\n",
       "  'input_scaling': 0.1,\n",
       "  'bias_scaling': 0.0,\n",
       "  'sparsity': 0.99,\n",
       "  'activation_function': 'relu',\n",
       "  'alpha': 1.0},\n",
       " {'reservoir_dim': 1000,\n",
       "  'spectral_radius': 0.5,\n",
       "  'leaking_rate': 0.9,\n",
       "  'input_scaling': 0.1,\n",
       "  'bias_scaling': 0.0,\n",
       "  'sparsity': 0.99,\n",
       "  'activation_function': 'relu',\n",
       "  'alpha': 10.0},\n",
       " {'reservoir_dim': 1000,\n",
       "  'spectral_radius': 0.5,\n",
       "  'leaking_rate': 0.9,\n",
       "  'input_scaling': 1.0,\n",
       "  'bias_scaling': 0.0,\n",
       "  'sparsity': 0.0,\n",
       "  'activation_function': 'relu',\n",
       "  'alpha': 0.1},\n",
       " {'reservoir_dim': 1000,\n",
       "  'spectral_radius': 0.5,\n",
       "  'leaking_rate': 0.9,\n",
       "  'input_scaling': 1.0,\n",
       "  'bias_scaling': 0.0,\n",
       "  'sparsity': 0.0,\n",
       "  'activation_function': 'relu',\n",
       "  'alpha': 1.0},\n",
       " {'reservoir_dim': 1000,\n",
       "  'spectral_radius': 0.5,\n",
       "  'leaking_rate': 0.9,\n",
       "  'input_scaling': 1.0,\n",
       "  'bias_scaling': 0.0,\n",
       "  'sparsity': 0.0,\n",
       "  'activation_function': 'relu',\n",
       "  'alpha': 10.0},\n",
       " {'reservoir_dim': 1000,\n",
       "  'spectral_radius': 0.5,\n",
       "  'leaking_rate': 0.9,\n",
       "  'input_scaling': 1.0,\n",
       "  'bias_scaling': 0.0,\n",
       "  'sparsity': 0.99,\n",
       "  'activation_function': 'relu',\n",
       "  'alpha': 0.1},\n",
       " {'reservoir_dim': 1000,\n",
       "  'spectral_radius': 0.5,\n",
       "  'leaking_rate': 0.9,\n",
       "  'input_scaling': 1.0,\n",
       "  'bias_scaling': 0.0,\n",
       "  'sparsity': 0.99,\n",
       "  'activation_function': 'relu',\n",
       "  'alpha': 1.0},\n",
       " {'reservoir_dim': 1000,\n",
       "  'spectral_radius': 0.5,\n",
       "  'leaking_rate': 0.9,\n",
       "  'input_scaling': 1.0,\n",
       "  'bias_scaling': 0.0,\n",
       "  'sparsity': 0.99,\n",
       "  'activation_function': 'relu',\n",
       "  'alpha': 10.0},\n",
       " {'reservoir_dim': 1000,\n",
       "  'spectral_radius': 1.0,\n",
       "  'leaking_rate': 0.1,\n",
       "  'input_scaling': 0.1,\n",
       "  'bias_scaling': 0.0,\n",
       "  'sparsity': 0.0,\n",
       "  'activation_function': 'relu',\n",
       "  'alpha': 0.1},\n",
       " {'reservoir_dim': 1000,\n",
       "  'spectral_radius': 1.0,\n",
       "  'leaking_rate': 0.1,\n",
       "  'input_scaling': 0.1,\n",
       "  'bias_scaling': 0.0,\n",
       "  'sparsity': 0.0,\n",
       "  'activation_function': 'relu',\n",
       "  'alpha': 1.0},\n",
       " {'reservoir_dim': 1000,\n",
       "  'spectral_radius': 1.0,\n",
       "  'leaking_rate': 0.1,\n",
       "  'input_scaling': 0.1,\n",
       "  'bias_scaling': 0.0,\n",
       "  'sparsity': 0.0,\n",
       "  'activation_function': 'relu',\n",
       "  'alpha': 10.0},\n",
       " {'reservoir_dim': 1000,\n",
       "  'spectral_radius': 1.0,\n",
       "  'leaking_rate': 0.1,\n",
       "  'input_scaling': 0.1,\n",
       "  'bias_scaling': 0.0,\n",
       "  'sparsity': 0.99,\n",
       "  'activation_function': 'relu',\n",
       "  'alpha': 0.1},\n",
       " {'reservoir_dim': 1000,\n",
       "  'spectral_radius': 1.0,\n",
       "  'leaking_rate': 0.1,\n",
       "  'input_scaling': 0.1,\n",
       "  'bias_scaling': 0.0,\n",
       "  'sparsity': 0.99,\n",
       "  'activation_function': 'relu',\n",
       "  'alpha': 1.0},\n",
       " {'reservoir_dim': 1000,\n",
       "  'spectral_radius': 1.0,\n",
       "  'leaking_rate': 0.1,\n",
       "  'input_scaling': 0.1,\n",
       "  'bias_scaling': 0.0,\n",
       "  'sparsity': 0.99,\n",
       "  'activation_function': 'relu',\n",
       "  'alpha': 10.0},\n",
       " {'reservoir_dim': 1000,\n",
       "  'spectral_radius': 1.0,\n",
       "  'leaking_rate': 0.1,\n",
       "  'input_scaling': 1.0,\n",
       "  'bias_scaling': 0.0,\n",
       "  'sparsity': 0.0,\n",
       "  'activation_function': 'relu',\n",
       "  'alpha': 0.1},\n",
       " {'reservoir_dim': 1000,\n",
       "  'spectral_radius': 1.0,\n",
       "  'leaking_rate': 0.1,\n",
       "  'input_scaling': 1.0,\n",
       "  'bias_scaling': 0.0,\n",
       "  'sparsity': 0.0,\n",
       "  'activation_function': 'relu',\n",
       "  'alpha': 1.0},\n",
       " {'reservoir_dim': 1000,\n",
       "  'spectral_radius': 1.0,\n",
       "  'leaking_rate': 0.1,\n",
       "  'input_scaling': 1.0,\n",
       "  'bias_scaling': 0.0,\n",
       "  'sparsity': 0.0,\n",
       "  'activation_function': 'relu',\n",
       "  'alpha': 10.0},\n",
       " {'reservoir_dim': 1000,\n",
       "  'spectral_radius': 1.0,\n",
       "  'leaking_rate': 0.1,\n",
       "  'input_scaling': 1.0,\n",
       "  'bias_scaling': 0.0,\n",
       "  'sparsity': 0.99,\n",
       "  'activation_function': 'relu',\n",
       "  'alpha': 0.1},\n",
       " {'reservoir_dim': 1000,\n",
       "  'spectral_radius': 1.0,\n",
       "  'leaking_rate': 0.1,\n",
       "  'input_scaling': 1.0,\n",
       "  'bias_scaling': 0.0,\n",
       "  'sparsity': 0.99,\n",
       "  'activation_function': 'relu',\n",
       "  'alpha': 1.0},\n",
       " {'reservoir_dim': 1000,\n",
       "  'spectral_radius': 1.0,\n",
       "  'leaking_rate': 0.1,\n",
       "  'input_scaling': 1.0,\n",
       "  'bias_scaling': 0.0,\n",
       "  'sparsity': 0.99,\n",
       "  'activation_function': 'relu',\n",
       "  'alpha': 10.0},\n",
       " {'reservoir_dim': 1000,\n",
       "  'spectral_radius': 1.0,\n",
       "  'leaking_rate': 0.5,\n",
       "  'input_scaling': 0.1,\n",
       "  'bias_scaling': 0.0,\n",
       "  'sparsity': 0.0,\n",
       "  'activation_function': 'relu',\n",
       "  'alpha': 0.1},\n",
       " {'reservoir_dim': 1000,\n",
       "  'spectral_radius': 1.0,\n",
       "  'leaking_rate': 0.5,\n",
       "  'input_scaling': 0.1,\n",
       "  'bias_scaling': 0.0,\n",
       "  'sparsity': 0.0,\n",
       "  'activation_function': 'relu',\n",
       "  'alpha': 1.0},\n",
       " {'reservoir_dim': 1000,\n",
       "  'spectral_radius': 1.0,\n",
       "  'leaking_rate': 0.5,\n",
       "  'input_scaling': 0.1,\n",
       "  'bias_scaling': 0.0,\n",
       "  'sparsity': 0.0,\n",
       "  'activation_function': 'relu',\n",
       "  'alpha': 10.0},\n",
       " {'reservoir_dim': 1000,\n",
       "  'spectral_radius': 1.0,\n",
       "  'leaking_rate': 0.5,\n",
       "  'input_scaling': 0.1,\n",
       "  'bias_scaling': 0.0,\n",
       "  'sparsity': 0.99,\n",
       "  'activation_function': 'relu',\n",
       "  'alpha': 0.1},\n",
       " {'reservoir_dim': 1000,\n",
       "  'spectral_radius': 1.0,\n",
       "  'leaking_rate': 0.5,\n",
       "  'input_scaling': 0.1,\n",
       "  'bias_scaling': 0.0,\n",
       "  'sparsity': 0.99,\n",
       "  'activation_function': 'relu',\n",
       "  'alpha': 1.0},\n",
       " {'reservoir_dim': 1000,\n",
       "  'spectral_radius': 1.0,\n",
       "  'leaking_rate': 0.5,\n",
       "  'input_scaling': 0.1,\n",
       "  'bias_scaling': 0.0,\n",
       "  'sparsity': 0.99,\n",
       "  'activation_function': 'relu',\n",
       "  'alpha': 10.0},\n",
       " {'reservoir_dim': 1000,\n",
       "  'spectral_radius': 1.0,\n",
       "  'leaking_rate': 0.5,\n",
       "  'input_scaling': 1.0,\n",
       "  'bias_scaling': 0.0,\n",
       "  'sparsity': 0.0,\n",
       "  'activation_function': 'relu',\n",
       "  'alpha': 0.1},\n",
       " {'reservoir_dim': 1000,\n",
       "  'spectral_radius': 1.0,\n",
       "  'leaking_rate': 0.5,\n",
       "  'input_scaling': 1.0,\n",
       "  'bias_scaling': 0.0,\n",
       "  'sparsity': 0.0,\n",
       "  'activation_function': 'relu',\n",
       "  'alpha': 1.0},\n",
       " {'reservoir_dim': 1000,\n",
       "  'spectral_radius': 1.0,\n",
       "  'leaking_rate': 0.5,\n",
       "  'input_scaling': 1.0,\n",
       "  'bias_scaling': 0.0,\n",
       "  'sparsity': 0.0,\n",
       "  'activation_function': 'relu',\n",
       "  'alpha': 10.0},\n",
       " {'reservoir_dim': 1000,\n",
       "  'spectral_radius': 1.0,\n",
       "  'leaking_rate': 0.5,\n",
       "  'input_scaling': 1.0,\n",
       "  'bias_scaling': 0.0,\n",
       "  'sparsity': 0.99,\n",
       "  'activation_function': 'relu',\n",
       "  'alpha': 0.1},\n",
       " {'reservoir_dim': 1000,\n",
       "  'spectral_radius': 1.0,\n",
       "  'leaking_rate': 0.5,\n",
       "  'input_scaling': 1.0,\n",
       "  'bias_scaling': 0.0,\n",
       "  'sparsity': 0.99,\n",
       "  'activation_function': 'relu',\n",
       "  'alpha': 1.0},\n",
       " {'reservoir_dim': 1000,\n",
       "  'spectral_radius': 1.0,\n",
       "  'leaking_rate': 0.5,\n",
       "  'input_scaling': 1.0,\n",
       "  'bias_scaling': 0.0,\n",
       "  'sparsity': 0.99,\n",
       "  'activation_function': 'relu',\n",
       "  'alpha': 10.0},\n",
       " {'reservoir_dim': 1000,\n",
       "  'spectral_radius': 1.0,\n",
       "  'leaking_rate': 0.9,\n",
       "  'input_scaling': 0.1,\n",
       "  'bias_scaling': 0.0,\n",
       "  'sparsity': 0.0,\n",
       "  'activation_function': 'relu',\n",
       "  'alpha': 0.1},\n",
       " {'reservoir_dim': 1000,\n",
       "  'spectral_radius': 1.0,\n",
       "  'leaking_rate': 0.9,\n",
       "  'input_scaling': 0.1,\n",
       "  'bias_scaling': 0.0,\n",
       "  'sparsity': 0.0,\n",
       "  'activation_function': 'relu',\n",
       "  'alpha': 1.0},\n",
       " {'reservoir_dim': 1000,\n",
       "  'spectral_radius': 1.0,\n",
       "  'leaking_rate': 0.9,\n",
       "  'input_scaling': 0.1,\n",
       "  'bias_scaling': 0.0,\n",
       "  'sparsity': 0.0,\n",
       "  'activation_function': 'relu',\n",
       "  'alpha': 10.0},\n",
       " {'reservoir_dim': 1000,\n",
       "  'spectral_radius': 1.0,\n",
       "  'leaking_rate': 0.9,\n",
       "  'input_scaling': 0.1,\n",
       "  'bias_scaling': 0.0,\n",
       "  'sparsity': 0.99,\n",
       "  'activation_function': 'relu',\n",
       "  'alpha': 0.1},\n",
       " {'reservoir_dim': 1000,\n",
       "  'spectral_radius': 1.0,\n",
       "  'leaking_rate': 0.9,\n",
       "  'input_scaling': 0.1,\n",
       "  'bias_scaling': 0.0,\n",
       "  'sparsity': 0.99,\n",
       "  'activation_function': 'relu',\n",
       "  'alpha': 1.0},\n",
       " {'reservoir_dim': 1000,\n",
       "  'spectral_radius': 1.0,\n",
       "  'leaking_rate': 0.9,\n",
       "  'input_scaling': 0.1,\n",
       "  'bias_scaling': 0.0,\n",
       "  'sparsity': 0.99,\n",
       "  'activation_function': 'relu',\n",
       "  'alpha': 10.0},\n",
       " {'reservoir_dim': 1000,\n",
       "  'spectral_radius': 1.0,\n",
       "  'leaking_rate': 0.9,\n",
       "  'input_scaling': 1.0,\n",
       "  'bias_scaling': 0.0,\n",
       "  'sparsity': 0.0,\n",
       "  'activation_function': 'relu',\n",
       "  'alpha': 0.1},\n",
       " {'reservoir_dim': 1000,\n",
       "  'spectral_radius': 1.0,\n",
       "  'leaking_rate': 0.9,\n",
       "  'input_scaling': 1.0,\n",
       "  'bias_scaling': 0.0,\n",
       "  'sparsity': 0.0,\n",
       "  'activation_function': 'relu',\n",
       "  'alpha': 1.0},\n",
       " {'reservoir_dim': 1000,\n",
       "  'spectral_radius': 1.0,\n",
       "  'leaking_rate': 0.9,\n",
       "  'input_scaling': 1.0,\n",
       "  'bias_scaling': 0.0,\n",
       "  'sparsity': 0.0,\n",
       "  'activation_function': 'relu',\n",
       "  'alpha': 10.0},\n",
       " {'reservoir_dim': 1000,\n",
       "  'spectral_radius': 1.0,\n",
       "  'leaking_rate': 0.9,\n",
       "  'input_scaling': 1.0,\n",
       "  'bias_scaling': 0.0,\n",
       "  'sparsity': 0.99,\n",
       "  'activation_function': 'relu',\n",
       "  'alpha': 0.1},\n",
       " {'reservoir_dim': 1000,\n",
       "  'spectral_radius': 1.0,\n",
       "  'leaking_rate': 0.9,\n",
       "  'input_scaling': 1.0,\n",
       "  'bias_scaling': 0.0,\n",
       "  'sparsity': 0.99,\n",
       "  'activation_function': 'relu',\n",
       "  'alpha': 1.0},\n",
       " {'reservoir_dim': 1000,\n",
       "  'spectral_radius': 1.0,\n",
       "  'leaking_rate': 0.9,\n",
       "  'input_scaling': 1.0,\n",
       "  'bias_scaling': 0.0,\n",
       "  'sparsity': 0.99,\n",
       "  'activation_function': 'relu',\n",
       "  'alpha': 10.0},\n",
       " {'reservoir_dim': 1000,\n",
       "  'spectral_radius': 1.5,\n",
       "  'leaking_rate': 0.1,\n",
       "  'input_scaling': 0.1,\n",
       "  'bias_scaling': 0.0,\n",
       "  'sparsity': 0.0,\n",
       "  'activation_function': 'relu',\n",
       "  'alpha': 0.1},\n",
       " {'reservoir_dim': 1000,\n",
       "  'spectral_radius': 1.5,\n",
       "  'leaking_rate': 0.1,\n",
       "  'input_scaling': 0.1,\n",
       "  'bias_scaling': 0.0,\n",
       "  'sparsity': 0.0,\n",
       "  'activation_function': 'relu',\n",
       "  'alpha': 1.0},\n",
       " {'reservoir_dim': 1000,\n",
       "  'spectral_radius': 1.5,\n",
       "  'leaking_rate': 0.1,\n",
       "  'input_scaling': 0.1,\n",
       "  'bias_scaling': 0.0,\n",
       "  'sparsity': 0.0,\n",
       "  'activation_function': 'relu',\n",
       "  'alpha': 10.0},\n",
       " {'reservoir_dim': 1000,\n",
       "  'spectral_radius': 1.5,\n",
       "  'leaking_rate': 0.1,\n",
       "  'input_scaling': 0.1,\n",
       "  'bias_scaling': 0.0,\n",
       "  'sparsity': 0.99,\n",
       "  'activation_function': 'relu',\n",
       "  'alpha': 0.1},\n",
       " {'reservoir_dim': 1000,\n",
       "  'spectral_radius': 1.5,\n",
       "  'leaking_rate': 0.1,\n",
       "  'input_scaling': 0.1,\n",
       "  'bias_scaling': 0.0,\n",
       "  'sparsity': 0.99,\n",
       "  'activation_function': 'relu',\n",
       "  'alpha': 1.0},\n",
       " {'reservoir_dim': 1000,\n",
       "  'spectral_radius': 1.5,\n",
       "  'leaking_rate': 0.1,\n",
       "  'input_scaling': 0.1,\n",
       "  'bias_scaling': 0.0,\n",
       "  'sparsity': 0.99,\n",
       "  'activation_function': 'relu',\n",
       "  'alpha': 10.0},\n",
       " {'reservoir_dim': 1000,\n",
       "  'spectral_radius': 1.5,\n",
       "  'leaking_rate': 0.1,\n",
       "  'input_scaling': 1.0,\n",
       "  'bias_scaling': 0.0,\n",
       "  'sparsity': 0.0,\n",
       "  'activation_function': 'relu',\n",
       "  'alpha': 0.1},\n",
       " {'reservoir_dim': 1000,\n",
       "  'spectral_radius': 1.5,\n",
       "  'leaking_rate': 0.1,\n",
       "  'input_scaling': 1.0,\n",
       "  'bias_scaling': 0.0,\n",
       "  'sparsity': 0.0,\n",
       "  'activation_function': 'relu',\n",
       "  'alpha': 1.0},\n",
       " {'reservoir_dim': 1000,\n",
       "  'spectral_radius': 1.5,\n",
       "  'leaking_rate': 0.1,\n",
       "  'input_scaling': 1.0,\n",
       "  'bias_scaling': 0.0,\n",
       "  'sparsity': 0.0,\n",
       "  'activation_function': 'relu',\n",
       "  'alpha': 10.0},\n",
       " {'reservoir_dim': 1000,\n",
       "  'spectral_radius': 1.5,\n",
       "  'leaking_rate': 0.1,\n",
       "  'input_scaling': 1.0,\n",
       "  'bias_scaling': 0.0,\n",
       "  'sparsity': 0.99,\n",
       "  'activation_function': 'relu',\n",
       "  'alpha': 0.1},\n",
       " {'reservoir_dim': 1000,\n",
       "  'spectral_radius': 1.5,\n",
       "  'leaking_rate': 0.1,\n",
       "  'input_scaling': 1.0,\n",
       "  'bias_scaling': 0.0,\n",
       "  'sparsity': 0.99,\n",
       "  'activation_function': 'relu',\n",
       "  'alpha': 1.0},\n",
       " {'reservoir_dim': 1000,\n",
       "  'spectral_radius': 1.5,\n",
       "  'leaking_rate': 0.1,\n",
       "  'input_scaling': 1.0,\n",
       "  'bias_scaling': 0.0,\n",
       "  'sparsity': 0.99,\n",
       "  'activation_function': 'relu',\n",
       "  'alpha': 10.0},\n",
       " {'reservoir_dim': 1000,\n",
       "  'spectral_radius': 1.5,\n",
       "  'leaking_rate': 0.5,\n",
       "  'input_scaling': 0.1,\n",
       "  'bias_scaling': 0.0,\n",
       "  'sparsity': 0.0,\n",
       "  'activation_function': 'relu',\n",
       "  'alpha': 0.1},\n",
       " {'reservoir_dim': 1000,\n",
       "  'spectral_radius': 1.5,\n",
       "  'leaking_rate': 0.5,\n",
       "  'input_scaling': 0.1,\n",
       "  'bias_scaling': 0.0,\n",
       "  'sparsity': 0.0,\n",
       "  'activation_function': 'relu',\n",
       "  'alpha': 1.0},\n",
       " {'reservoir_dim': 1000,\n",
       "  'spectral_radius': 1.5,\n",
       "  'leaking_rate': 0.5,\n",
       "  'input_scaling': 0.1,\n",
       "  'bias_scaling': 0.0,\n",
       "  'sparsity': 0.0,\n",
       "  'activation_function': 'relu',\n",
       "  'alpha': 10.0},\n",
       " {'reservoir_dim': 1000,\n",
       "  'spectral_radius': 1.5,\n",
       "  'leaking_rate': 0.5,\n",
       "  'input_scaling': 0.1,\n",
       "  'bias_scaling': 0.0,\n",
       "  'sparsity': 0.99,\n",
       "  'activation_function': 'relu',\n",
       "  'alpha': 0.1},\n",
       " {'reservoir_dim': 1000,\n",
       "  'spectral_radius': 1.5,\n",
       "  'leaking_rate': 0.5,\n",
       "  'input_scaling': 0.1,\n",
       "  'bias_scaling': 0.0,\n",
       "  'sparsity': 0.99,\n",
       "  'activation_function': 'relu',\n",
       "  'alpha': 1.0},\n",
       " {'reservoir_dim': 1000,\n",
       "  'spectral_radius': 1.5,\n",
       "  'leaking_rate': 0.5,\n",
       "  'input_scaling': 0.1,\n",
       "  'bias_scaling': 0.0,\n",
       "  'sparsity': 0.99,\n",
       "  'activation_function': 'relu',\n",
       "  'alpha': 10.0},\n",
       " {'reservoir_dim': 1000,\n",
       "  'spectral_radius': 1.5,\n",
       "  'leaking_rate': 0.5,\n",
       "  'input_scaling': 1.0,\n",
       "  'bias_scaling': 0.0,\n",
       "  'sparsity': 0.0,\n",
       "  'activation_function': 'relu',\n",
       "  'alpha': 0.1},\n",
       " {'reservoir_dim': 1000,\n",
       "  'spectral_radius': 1.5,\n",
       "  'leaking_rate': 0.5,\n",
       "  'input_scaling': 1.0,\n",
       "  'bias_scaling': 0.0,\n",
       "  'sparsity': 0.0,\n",
       "  'activation_function': 'relu',\n",
       "  'alpha': 1.0},\n",
       " {'reservoir_dim': 1000,\n",
       "  'spectral_radius': 1.5,\n",
       "  'leaking_rate': 0.5,\n",
       "  'input_scaling': 1.0,\n",
       "  'bias_scaling': 0.0,\n",
       "  'sparsity': 0.0,\n",
       "  'activation_function': 'relu',\n",
       "  'alpha': 10.0},\n",
       " {'reservoir_dim': 1000,\n",
       "  'spectral_radius': 1.5,\n",
       "  'leaking_rate': 0.5,\n",
       "  'input_scaling': 1.0,\n",
       "  'bias_scaling': 0.0,\n",
       "  'sparsity': 0.99,\n",
       "  'activation_function': 'relu',\n",
       "  'alpha': 0.1},\n",
       " {'reservoir_dim': 1000,\n",
       "  'spectral_radius': 1.5,\n",
       "  'leaking_rate': 0.5,\n",
       "  'input_scaling': 1.0,\n",
       "  'bias_scaling': 0.0,\n",
       "  'sparsity': 0.99,\n",
       "  'activation_function': 'relu',\n",
       "  'alpha': 1.0},\n",
       " {'reservoir_dim': 1000,\n",
       "  'spectral_radius': 1.5,\n",
       "  'leaking_rate': 0.5,\n",
       "  'input_scaling': 1.0,\n",
       "  'bias_scaling': 0.0,\n",
       "  'sparsity': 0.99,\n",
       "  'activation_function': 'relu',\n",
       "  'alpha': 10.0},\n",
       " {'reservoir_dim': 1000,\n",
       "  'spectral_radius': 1.5,\n",
       "  'leaking_rate': 0.9,\n",
       "  'input_scaling': 0.1,\n",
       "  'bias_scaling': 0.0,\n",
       "  'sparsity': 0.0,\n",
       "  'activation_function': 'relu',\n",
       "  'alpha': 0.1},\n",
       " {'reservoir_dim': 1000,\n",
       "  'spectral_radius': 1.5,\n",
       "  'leaking_rate': 0.9,\n",
       "  'input_scaling': 0.1,\n",
       "  'bias_scaling': 0.0,\n",
       "  'sparsity': 0.0,\n",
       "  'activation_function': 'relu',\n",
       "  'alpha': 1.0},\n",
       " {'reservoir_dim': 1000,\n",
       "  'spectral_radius': 1.5,\n",
       "  'leaking_rate': 0.9,\n",
       "  'input_scaling': 0.1,\n",
       "  'bias_scaling': 0.0,\n",
       "  'sparsity': 0.0,\n",
       "  'activation_function': 'relu',\n",
       "  'alpha': 10.0},\n",
       " {'reservoir_dim': 1000,\n",
       "  'spectral_radius': 1.5,\n",
       "  'leaking_rate': 0.9,\n",
       "  'input_scaling': 0.1,\n",
       "  'bias_scaling': 0.0,\n",
       "  'sparsity': 0.99,\n",
       "  'activation_function': 'relu',\n",
       "  'alpha': 0.1},\n",
       " {'reservoir_dim': 1000,\n",
       "  'spectral_radius': 1.5,\n",
       "  'leaking_rate': 0.9,\n",
       "  'input_scaling': 0.1,\n",
       "  'bias_scaling': 0.0,\n",
       "  'sparsity': 0.99,\n",
       "  'activation_function': 'relu',\n",
       "  'alpha': 1.0},\n",
       " {'reservoir_dim': 1000,\n",
       "  'spectral_radius': 1.5,\n",
       "  'leaking_rate': 0.9,\n",
       "  'input_scaling': 0.1,\n",
       "  'bias_scaling': 0.0,\n",
       "  'sparsity': 0.99,\n",
       "  'activation_function': 'relu',\n",
       "  'alpha': 10.0},\n",
       " {'reservoir_dim': 1000,\n",
       "  'spectral_radius': 1.5,\n",
       "  'leaking_rate': 0.9,\n",
       "  'input_scaling': 1.0,\n",
       "  'bias_scaling': 0.0,\n",
       "  'sparsity': 0.0,\n",
       "  'activation_function': 'relu',\n",
       "  'alpha': 0.1},\n",
       " {'reservoir_dim': 1000,\n",
       "  'spectral_radius': 1.5,\n",
       "  'leaking_rate': 0.9,\n",
       "  'input_scaling': 1.0,\n",
       "  'bias_scaling': 0.0,\n",
       "  'sparsity': 0.0,\n",
       "  'activation_function': 'relu',\n",
       "  'alpha': 1.0},\n",
       " {'reservoir_dim': 1000,\n",
       "  'spectral_radius': 1.5,\n",
       "  'leaking_rate': 0.9,\n",
       "  'input_scaling': 1.0,\n",
       "  'bias_scaling': 0.0,\n",
       "  'sparsity': 0.0,\n",
       "  'activation_function': 'relu',\n",
       "  'alpha': 10.0},\n",
       " {'reservoir_dim': 1000,\n",
       "  'spectral_radius': 1.5,\n",
       "  'leaking_rate': 0.9,\n",
       "  'input_scaling': 1.0,\n",
       "  'bias_scaling': 0.0,\n",
       "  'sparsity': 0.99,\n",
       "  'activation_function': 'relu',\n",
       "  'alpha': 0.1},\n",
       " {'reservoir_dim': 1000,\n",
       "  'spectral_radius': 1.5,\n",
       "  'leaking_rate': 0.9,\n",
       "  'input_scaling': 1.0,\n",
       "  'bias_scaling': 0.0,\n",
       "  'sparsity': 0.99,\n",
       "  'activation_function': 'relu',\n",
       "  'alpha': 1.0},\n",
       " {'reservoir_dim': 1000,\n",
       "  'spectral_radius': 1.5,\n",
       "  'leaking_rate': 0.9,\n",
       "  'input_scaling': 1.0,\n",
       "  'bias_scaling': 0.0,\n",
       "  'sparsity': 0.99,\n",
       "  'activation_function': 'relu',\n",
       "  'alpha': 10.0}]"
      ]
     },
     "execution_count": 12,
     "metadata": {},
     "output_type": "execute_result"
    }
   ],
   "source": [
    "params_l = [ dict(zip(params_d, v)) for v in product(*params_d.values()) ]\n",
    "params_l"
   ]
  },
  {
   "cell_type": "code",
   "execution_count": 13,
   "metadata": {},
   "outputs": [
    {
     "data": {
      "text/plain": [
       "108"
      ]
     },
     "execution_count": 13,
     "metadata": {},
     "output_type": "execute_result"
    }
   ],
   "source": [
    "len(params_l)"
   ]
  },
  {
   "cell_type": "code",
   "execution_count": 14,
   "metadata": {},
   "outputs": [],
   "source": [
    "# We store the results as follows:\n",
    "# esn_results_l = \n",
    "# [\n",
    "# {params_1 : ... , acc_1 : [...] , times_1 : [...]},\n",
    "# {params_2 : ... , acc_2 : [...] , times_2 : [...]},\n",
    "# {params_3 : ... , acc_3 : [...] , times_3 : [...]},\n",
    "# ...\n",
    "# ]"
   ]
  },
  {
   "cell_type": "code",
   "execution_count": 15,
   "metadata": {
    "scrolled": true
   },
   "outputs": [
    {
     "data": {
      "application/vnd.jupyter.widget-view+json": {
       "model_id": "358c25915a8141f6993bfe9c9097384e",
       "version_major": 2,
       "version_minor": 0
      },
      "text/plain": [
       "  0%|          | 0/108 [00:00<?, ?it/s]"
      ]
     },
     "metadata": {},
     "output_type": "display_data"
    },
    {
     "data": {
      "application/vnd.jupyter.widget-view+json": {
       "model_id": "18830e86f7d742709d54332eaa8096f5",
       "version_major": 2,
       "version_minor": 0
      },
      "text/plain": [
       "  0%|          | 0/5 [00:00<?, ?it/s]"
      ]
     },
     "metadata": {},
     "output_type": "display_data"
    },
    {
     "name": "stderr",
     "output_type": "stream",
     "text": [
      "Some weights of the model checkpoint at bert-base-uncased were not used when initializing BertModel: ['cls.predictions.bias', 'cls.predictions.transform.dense.weight', 'cls.predictions.transform.LayerNorm.weight', 'cls.seq_relationship.weight', 'cls.predictions.decoder.weight', 'cls.seq_relationship.bias', 'cls.predictions.transform.dense.bias', 'cls.predictions.transform.LayerNorm.bias']\n",
      "- This IS expected if you are initializing BertModel from the checkpoint of a model trained on another task or with another architecture (e.g. initializing a BertForSequenceClassification model from a BertForPreTraining model).\n",
      "- This IS NOT expected if you are initializing BertModel from the checkpoint of a model that you expect to be exactly identical (initializing a BertForSequenceClassification model from a BertForSequenceClassification model).\n"
     ]
    },
    {
     "name": "stdout",
     "output_type": "stream",
     "text": [
      "Model downloaded: bert-base-uncased\n",
      "training time: 0.8782334187999368\n",
      "accuracy: 69.72476959228516\n",
      "{'params': {'reservoir_dim': 1000, 'spectral_radius': 0.5, 'leaking_rate': 0.1, 'input_scaling': 0.1, 'bias_scaling': 0.0, 'sparsity': 0.0, 'activation_function': 'relu', 'alpha': 0.1}, 'accuracy': [69.72476959228516], 'time': [0.8782334187999368]}\n"
     ]
    },
    {
     "name": "stderr",
     "output_type": "stream",
     "text": [
      "Some weights of the model checkpoint at bert-base-uncased were not used when initializing BertModel: ['cls.predictions.bias', 'cls.predictions.transform.dense.weight', 'cls.predictions.transform.LayerNorm.weight', 'cls.seq_relationship.weight', 'cls.predictions.decoder.weight', 'cls.seq_relationship.bias', 'cls.predictions.transform.dense.bias', 'cls.predictions.transform.LayerNorm.bias']\n",
      "- This IS expected if you are initializing BertModel from the checkpoint of a model trained on another task or with another architecture (e.g. initializing a BertForSequenceClassification model from a BertForPreTraining model).\n",
      "- This IS NOT expected if you are initializing BertModel from the checkpoint of a model that you expect to be exactly identical (initializing a BertForSequenceClassification model from a BertForSequenceClassification model).\n"
     ]
    },
    {
     "name": "stdout",
     "output_type": "stream",
     "text": [
      "Model downloaded: bert-base-uncased\n",
      "training time: 0.7658956442028284\n",
      "accuracy: 73.85321044921875\n",
      "{'params': {'reservoir_dim': 1000, 'spectral_radius': 0.5, 'leaking_rate': 0.1, 'input_scaling': 0.1, 'bias_scaling': 0.0, 'sparsity': 0.0, 'activation_function': 'relu', 'alpha': 0.1}, 'accuracy': [69.72476959228516, 73.85321044921875], 'time': [0.8782334187999368, 0.7658956442028284]}\n"
     ]
    },
    {
     "name": "stderr",
     "output_type": "stream",
     "text": [
      "Some weights of the model checkpoint at bert-base-uncased were not used when initializing BertModel: ['cls.predictions.bias', 'cls.predictions.transform.dense.weight', 'cls.predictions.transform.LayerNorm.weight', 'cls.seq_relationship.weight', 'cls.predictions.decoder.weight', 'cls.seq_relationship.bias', 'cls.predictions.transform.dense.bias', 'cls.predictions.transform.LayerNorm.bias']\n",
      "- This IS expected if you are initializing BertModel from the checkpoint of a model trained on another task or with another architecture (e.g. initializing a BertForSequenceClassification model from a BertForPreTraining model).\n",
      "- This IS NOT expected if you are initializing BertModel from the checkpoint of a model that you expect to be exactly identical (initializing a BertForSequenceClassification model from a BertForSequenceClassification model).\n"
     ]
    },
    {
     "name": "stdout",
     "output_type": "stream",
     "text": [
      "Model downloaded: bert-base-uncased\n",
      "training time: 0.8490239018574357\n",
      "accuracy: 73.85321044921875\n",
      "{'params': {'reservoir_dim': 1000, 'spectral_radius': 0.5, 'leaking_rate': 0.1, 'input_scaling': 0.1, 'bias_scaling': 0.0, 'sparsity': 0.0, 'activation_function': 'relu', 'alpha': 0.1}, 'accuracy': [69.72476959228516, 73.85321044921875, 73.85321044921875], 'time': [0.8782334187999368, 0.7658956442028284, 0.8490239018574357]}\n"
     ]
    },
    {
     "name": "stderr",
     "output_type": "stream",
     "text": [
      "Some weights of the model checkpoint at bert-base-uncased were not used when initializing BertModel: ['cls.predictions.bias', 'cls.predictions.transform.dense.weight', 'cls.predictions.transform.LayerNorm.weight', 'cls.seq_relationship.weight', 'cls.predictions.decoder.weight', 'cls.seq_relationship.bias', 'cls.predictions.transform.dense.bias', 'cls.predictions.transform.LayerNorm.bias']\n",
      "- This IS expected if you are initializing BertModel from the checkpoint of a model trained on another task or with another architecture (e.g. initializing a BertForSequenceClassification model from a BertForPreTraining model).\n",
      "- This IS NOT expected if you are initializing BertModel from the checkpoint of a model that you expect to be exactly identical (initializing a BertForSequenceClassification model from a BertForSequenceClassification model).\n"
     ]
    },
    {
     "name": "stdout",
     "output_type": "stream",
     "text": [
      "Model downloaded: bert-base-uncased\n",
      "training time: 0.8380396263673902\n",
      "accuracy: 75.22935485839844\n",
      "{'params': {'reservoir_dim': 1000, 'spectral_radius': 0.5, 'leaking_rate': 0.1, 'input_scaling': 0.1, 'bias_scaling': 0.0, 'sparsity': 0.0, 'activation_function': 'relu', 'alpha': 0.1}, 'accuracy': [69.72476959228516, 73.85321044921875, 73.85321044921875, 75.22935485839844], 'time': [0.8782334187999368, 0.7658956442028284, 0.8490239018574357, 0.8380396263673902]}\n"
     ]
    },
    {
     "name": "stderr",
     "output_type": "stream",
     "text": [
      "Some weights of the model checkpoint at bert-base-uncased were not used when initializing BertModel: ['cls.predictions.bias', 'cls.predictions.transform.dense.weight', 'cls.predictions.transform.LayerNorm.weight', 'cls.seq_relationship.weight', 'cls.predictions.decoder.weight', 'cls.seq_relationship.bias', 'cls.predictions.transform.dense.bias', 'cls.predictions.transform.LayerNorm.bias']\n",
      "- This IS expected if you are initializing BertModel from the checkpoint of a model trained on another task or with another architecture (e.g. initializing a BertForSequenceClassification model from a BertForPreTraining model).\n",
      "- This IS NOT expected if you are initializing BertModel from the checkpoint of a model that you expect to be exactly identical (initializing a BertForSequenceClassification model from a BertForSequenceClassification model).\n"
     ]
    },
    {
     "name": "stdout",
     "output_type": "stream",
     "text": [
      "Model downloaded: bert-base-uncased\n",
      "training time: 0.7433061115443707\n",
      "accuracy: 74.77063751220703\n",
      "{'params': {'reservoir_dim': 1000, 'spectral_radius': 0.5, 'leaking_rate': 0.1, 'input_scaling': 0.1, 'bias_scaling': 0.0, 'sparsity': 0.0, 'activation_function': 'relu', 'alpha': 0.1}, 'accuracy': [69.72476959228516, 73.85321044921875, 73.85321044921875, 75.22935485839844, 74.77063751220703], 'time': [0.8782334187999368, 0.7658956442028284, 0.8490239018574357, 0.8380396263673902, 0.7433061115443707]}\n"
     ]
    },
    {
     "data": {
      "application/vnd.jupyter.widget-view+json": {
       "model_id": "e045c037dc644d7fa42984c5ece92f91",
       "version_major": 2,
       "version_minor": 0
      },
      "text/plain": [
       "  0%|          | 0/5 [00:00<?, ?it/s]"
      ]
     },
     "metadata": {},
     "output_type": "display_data"
    },
    {
     "name": "stderr",
     "output_type": "stream",
     "text": [
      "Some weights of the model checkpoint at bert-base-uncased were not used when initializing BertModel: ['cls.predictions.bias', 'cls.predictions.transform.dense.weight', 'cls.predictions.transform.LayerNorm.weight', 'cls.seq_relationship.weight', 'cls.predictions.decoder.weight', 'cls.seq_relationship.bias', 'cls.predictions.transform.dense.bias', 'cls.predictions.transform.LayerNorm.bias']\n",
      "- This IS expected if you are initializing BertModel from the checkpoint of a model trained on another task or with another architecture (e.g. initializing a BertForSequenceClassification model from a BertForPreTraining model).\n",
      "- This IS NOT expected if you are initializing BertModel from the checkpoint of a model that you expect to be exactly identical (initializing a BertForSequenceClassification model from a BertForSequenceClassification model).\n"
     ]
    },
    {
     "name": "stdout",
     "output_type": "stream",
     "text": [
      "Model downloaded: bert-base-uncased\n",
      "training time: 0.7118852585554123\n",
      "accuracy: 77.06421661376953\n",
      "{'params': {'reservoir_dim': 1000, 'spectral_radius': 0.5, 'leaking_rate': 0.1, 'input_scaling': 0.1, 'bias_scaling': 0.0, 'sparsity': 0.0, 'activation_function': 'relu', 'alpha': 1.0}, 'accuracy': [77.06421661376953], 'time': [0.7118852585554123]}\n"
     ]
    },
    {
     "name": "stderr",
     "output_type": "stream",
     "text": [
      "Some weights of the model checkpoint at bert-base-uncased were not used when initializing BertModel: ['cls.predictions.bias', 'cls.predictions.transform.dense.weight', 'cls.predictions.transform.LayerNorm.weight', 'cls.seq_relationship.weight', 'cls.predictions.decoder.weight', 'cls.seq_relationship.bias', 'cls.predictions.transform.dense.bias', 'cls.predictions.transform.LayerNorm.bias']\n",
      "- This IS expected if you are initializing BertModel from the checkpoint of a model trained on another task or with another architecture (e.g. initializing a BertForSequenceClassification model from a BertForPreTraining model).\n",
      "- This IS NOT expected if you are initializing BertModel from the checkpoint of a model that you expect to be exactly identical (initializing a BertForSequenceClassification model from a BertForSequenceClassification model).\n"
     ]
    },
    {
     "name": "stdout",
     "output_type": "stream",
     "text": [
      "Model downloaded: bert-base-uncased\n",
      "training time: 0.7155737029388547\n",
      "accuracy: 80.73394012451172\n",
      "{'params': {'reservoir_dim': 1000, 'spectral_radius': 0.5, 'leaking_rate': 0.1, 'input_scaling': 0.1, 'bias_scaling': 0.0, 'sparsity': 0.0, 'activation_function': 'relu', 'alpha': 1.0}, 'accuracy': [77.06421661376953, 80.73394012451172], 'time': [0.7118852585554123, 0.7155737029388547]}\n"
     ]
    },
    {
     "name": "stderr",
     "output_type": "stream",
     "text": [
      "Some weights of the model checkpoint at bert-base-uncased were not used when initializing BertModel: ['cls.predictions.bias', 'cls.predictions.transform.dense.weight', 'cls.predictions.transform.LayerNorm.weight', 'cls.seq_relationship.weight', 'cls.predictions.decoder.weight', 'cls.seq_relationship.bias', 'cls.predictions.transform.dense.bias', 'cls.predictions.transform.LayerNorm.bias']\n",
      "- This IS expected if you are initializing BertModel from the checkpoint of a model trained on another task or with another architecture (e.g. initializing a BertForSequenceClassification model from a BertForPreTraining model).\n",
      "- This IS NOT expected if you are initializing BertModel from the checkpoint of a model that you expect to be exactly identical (initializing a BertForSequenceClassification model from a BertForSequenceClassification model).\n"
     ]
    },
    {
     "name": "stdout",
     "output_type": "stream",
     "text": [
      "Model downloaded: bert-base-uncased\n",
      "training time: 0.7219203375279903\n",
      "accuracy: 79.81651306152344\n",
      "{'params': {'reservoir_dim': 1000, 'spectral_radius': 0.5, 'leaking_rate': 0.1, 'input_scaling': 0.1, 'bias_scaling': 0.0, 'sparsity': 0.0, 'activation_function': 'relu', 'alpha': 1.0}, 'accuracy': [77.06421661376953, 80.73394012451172, 79.81651306152344], 'time': [0.7118852585554123, 0.7155737029388547, 0.7219203375279903]}\n"
     ]
    },
    {
     "name": "stderr",
     "output_type": "stream",
     "text": [
      "Some weights of the model checkpoint at bert-base-uncased were not used when initializing BertModel: ['cls.predictions.bias', 'cls.predictions.transform.dense.weight', 'cls.predictions.transform.LayerNorm.weight', 'cls.seq_relationship.weight', 'cls.predictions.decoder.weight', 'cls.seq_relationship.bias', 'cls.predictions.transform.dense.bias', 'cls.predictions.transform.LayerNorm.bias']\n",
      "- This IS expected if you are initializing BertModel from the checkpoint of a model trained on another task or with another architecture (e.g. initializing a BertForSequenceClassification model from a BertForPreTraining model).\n",
      "- This IS NOT expected if you are initializing BertModel from the checkpoint of a model that you expect to be exactly identical (initializing a BertForSequenceClassification model from a BertForSequenceClassification model).\n"
     ]
    },
    {
     "name": "stdout",
     "output_type": "stream",
     "text": [
      "Model downloaded: bert-base-uncased\n",
      "training time: 0.7177853733301163\n",
      "accuracy: 78.89907836914062\n",
      "{'params': {'reservoir_dim': 1000, 'spectral_radius': 0.5, 'leaking_rate': 0.1, 'input_scaling': 0.1, 'bias_scaling': 0.0, 'sparsity': 0.0, 'activation_function': 'relu', 'alpha': 1.0}, 'accuracy': [77.06421661376953, 80.73394012451172, 79.81651306152344, 78.89907836914062], 'time': [0.7118852585554123, 0.7155737029388547, 0.7219203375279903, 0.7177853733301163]}\n"
     ]
    },
    {
     "name": "stderr",
     "output_type": "stream",
     "text": [
      "Some weights of the model checkpoint at bert-base-uncased were not used when initializing BertModel: ['cls.predictions.bias', 'cls.predictions.transform.dense.weight', 'cls.predictions.transform.LayerNorm.weight', 'cls.seq_relationship.weight', 'cls.predictions.decoder.weight', 'cls.seq_relationship.bias', 'cls.predictions.transform.dense.bias', 'cls.predictions.transform.LayerNorm.bias']\n",
      "- This IS expected if you are initializing BertModel from the checkpoint of a model trained on another task or with another architecture (e.g. initializing a BertForSequenceClassification model from a BertForPreTraining model).\n",
      "- This IS NOT expected if you are initializing BertModel from the checkpoint of a model that you expect to be exactly identical (initializing a BertForSequenceClassification model from a BertForSequenceClassification model).\n"
     ]
    },
    {
     "name": "stdout",
     "output_type": "stream",
     "text": [
      "Model downloaded: bert-base-uncased\n",
      "training time: 0.7740069339051843\n",
      "accuracy: 83.02751922607422\n",
      "{'params': {'reservoir_dim': 1000, 'spectral_radius': 0.5, 'leaking_rate': 0.1, 'input_scaling': 0.1, 'bias_scaling': 0.0, 'sparsity': 0.0, 'activation_function': 'relu', 'alpha': 1.0}, 'accuracy': [77.06421661376953, 80.73394012451172, 79.81651306152344, 78.89907836914062, 83.02751922607422], 'time': [0.7118852585554123, 0.7155737029388547, 0.7219203375279903, 0.7177853733301163, 0.7740069339051843]}\n"
     ]
    },
    {
     "data": {
      "application/vnd.jupyter.widget-view+json": {
       "model_id": "0e5ec3ecc685427495a751bbb0104b0a",
       "version_major": 2,
       "version_minor": 0
      },
      "text/plain": [
       "  0%|          | 0/5 [00:00<?, ?it/s]"
      ]
     },
     "metadata": {},
     "output_type": "display_data"
    },
    {
     "name": "stderr",
     "output_type": "stream",
     "text": [
      "Some weights of the model checkpoint at bert-base-uncased were not used when initializing BertModel: ['cls.predictions.bias', 'cls.predictions.transform.dense.weight', 'cls.predictions.transform.LayerNorm.weight', 'cls.seq_relationship.weight', 'cls.predictions.decoder.weight', 'cls.seq_relationship.bias', 'cls.predictions.transform.dense.bias', 'cls.predictions.transform.LayerNorm.bias']\n",
      "- This IS expected if you are initializing BertModel from the checkpoint of a model trained on another task or with another architecture (e.g. initializing a BertForSequenceClassification model from a BertForPreTraining model).\n",
      "- This IS NOT expected if you are initializing BertModel from the checkpoint of a model that you expect to be exactly identical (initializing a BertForSequenceClassification model from a BertForSequenceClassification model).\n"
     ]
    },
    {
     "name": "stdout",
     "output_type": "stream",
     "text": [
      "Model downloaded: bert-base-uncased\n",
      "training time: 0.821940079331398\n",
      "accuracy: 79.35779571533203\n",
      "{'params': {'reservoir_dim': 1000, 'spectral_radius': 0.5, 'leaking_rate': 0.1, 'input_scaling': 0.1, 'bias_scaling': 0.0, 'sparsity': 0.0, 'activation_function': 'relu', 'alpha': 10.0}, 'accuracy': [79.35779571533203], 'time': [0.821940079331398]}\n"
     ]
    },
    {
     "name": "stderr",
     "output_type": "stream",
     "text": [
      "Some weights of the model checkpoint at bert-base-uncased were not used when initializing BertModel: ['cls.predictions.bias', 'cls.predictions.transform.dense.weight', 'cls.predictions.transform.LayerNorm.weight', 'cls.seq_relationship.weight', 'cls.predictions.decoder.weight', 'cls.seq_relationship.bias', 'cls.predictions.transform.dense.bias', 'cls.predictions.transform.LayerNorm.bias']\n",
      "- This IS expected if you are initializing BertModel from the checkpoint of a model trained on another task or with another architecture (e.g. initializing a BertForSequenceClassification model from a BertForPreTraining model).\n",
      "- This IS NOT expected if you are initializing BertModel from the checkpoint of a model that you expect to be exactly identical (initializing a BertForSequenceClassification model from a BertForSequenceClassification model).\n"
     ]
    },
    {
     "name": "stdout",
     "output_type": "stream",
     "text": [
      "Model downloaded: bert-base-uncased\n",
      "training time: 0.7737212553620338\n",
      "accuracy: 80.27522277832031\n",
      "{'params': {'reservoir_dim': 1000, 'spectral_radius': 0.5, 'leaking_rate': 0.1, 'input_scaling': 0.1, 'bias_scaling': 0.0, 'sparsity': 0.0, 'activation_function': 'relu', 'alpha': 10.0}, 'accuracy': [79.35779571533203, 80.27522277832031], 'time': [0.821940079331398, 0.7737212553620338]}\n"
     ]
    },
    {
     "name": "stderr",
     "output_type": "stream",
     "text": [
      "Some weights of the model checkpoint at bert-base-uncased were not used when initializing BertModel: ['cls.predictions.bias', 'cls.predictions.transform.dense.weight', 'cls.predictions.transform.LayerNorm.weight', 'cls.seq_relationship.weight', 'cls.predictions.decoder.weight', 'cls.seq_relationship.bias', 'cls.predictions.transform.dense.bias', 'cls.predictions.transform.LayerNorm.bias']\n",
      "- This IS expected if you are initializing BertModel from the checkpoint of a model trained on another task or with another architecture (e.g. initializing a BertForSequenceClassification model from a BertForPreTraining model).\n",
      "- This IS NOT expected if you are initializing BertModel from the checkpoint of a model that you expect to be exactly identical (initializing a BertForSequenceClassification model from a BertForSequenceClassification model).\n"
     ]
    },
    {
     "name": "stdout",
     "output_type": "stream",
     "text": [
      "Model downloaded: bert-base-uncased\n",
      "training time: 0.7324529699981213\n",
      "accuracy: 79.81651306152344\n",
      "{'params': {'reservoir_dim': 1000, 'spectral_radius': 0.5, 'leaking_rate': 0.1, 'input_scaling': 0.1, 'bias_scaling': 0.0, 'sparsity': 0.0, 'activation_function': 'relu', 'alpha': 10.0}, 'accuracy': [79.35779571533203, 80.27522277832031, 79.81651306152344], 'time': [0.821940079331398, 0.7737212553620338, 0.7324529699981213]}\n"
     ]
    },
    {
     "name": "stderr",
     "output_type": "stream",
     "text": [
      "Some weights of the model checkpoint at bert-base-uncased were not used when initializing BertModel: ['cls.predictions.bias', 'cls.predictions.transform.dense.weight', 'cls.predictions.transform.LayerNorm.weight', 'cls.seq_relationship.weight', 'cls.predictions.decoder.weight', 'cls.seq_relationship.bias', 'cls.predictions.transform.dense.bias', 'cls.predictions.transform.LayerNorm.bias']\n",
      "- This IS expected if you are initializing BertModel from the checkpoint of a model trained on another task or with another architecture (e.g. initializing a BertForSequenceClassification model from a BertForPreTraining model).\n",
      "- This IS NOT expected if you are initializing BertModel from the checkpoint of a model that you expect to be exactly identical (initializing a BertForSequenceClassification model from a BertForSequenceClassification model).\n"
     ]
    },
    {
     "name": "stdout",
     "output_type": "stream",
     "text": [
      "Model downloaded: bert-base-uncased\n",
      "training time: 0.7323019998148084\n",
      "accuracy: 81.65137481689453\n",
      "{'params': {'reservoir_dim': 1000, 'spectral_radius': 0.5, 'leaking_rate': 0.1, 'input_scaling': 0.1, 'bias_scaling': 0.0, 'sparsity': 0.0, 'activation_function': 'relu', 'alpha': 10.0}, 'accuracy': [79.35779571533203, 80.27522277832031, 79.81651306152344, 81.65137481689453], 'time': [0.821940079331398, 0.7737212553620338, 0.7324529699981213, 0.7323019998148084]}\n"
     ]
    },
    {
     "name": "stderr",
     "output_type": "stream",
     "text": [
      "Some weights of the model checkpoint at bert-base-uncased were not used when initializing BertModel: ['cls.predictions.bias', 'cls.predictions.transform.dense.weight', 'cls.predictions.transform.LayerNorm.weight', 'cls.seq_relationship.weight', 'cls.predictions.decoder.weight', 'cls.seq_relationship.bias', 'cls.predictions.transform.dense.bias', 'cls.predictions.transform.LayerNorm.bias']\n",
      "- This IS expected if you are initializing BertModel from the checkpoint of a model trained on another task or with another architecture (e.g. initializing a BertForSequenceClassification model from a BertForPreTraining model).\n",
      "- This IS NOT expected if you are initializing BertModel from the checkpoint of a model that you expect to be exactly identical (initializing a BertForSequenceClassification model from a BertForSequenceClassification model).\n"
     ]
    },
    {
     "name": "stdout",
     "output_type": "stream",
     "text": [
      "Model downloaded: bert-base-uncased\n",
      "training time: 0.7000826206058264\n",
      "accuracy: 81.19265747070312\n",
      "{'params': {'reservoir_dim': 1000, 'spectral_radius': 0.5, 'leaking_rate': 0.1, 'input_scaling': 0.1, 'bias_scaling': 0.0, 'sparsity': 0.0, 'activation_function': 'relu', 'alpha': 10.0}, 'accuracy': [79.35779571533203, 80.27522277832031, 79.81651306152344, 81.65137481689453, 81.19265747070312], 'time': [0.821940079331398, 0.7737212553620338, 0.7324529699981213, 0.7323019998148084, 0.7000826206058264]}\n"
     ]
    },
    {
     "data": {
      "application/vnd.jupyter.widget-view+json": {
       "model_id": "4f9d0efaaf1c470abf78307feaf7a1f4",
       "version_major": 2,
       "version_minor": 0
      },
      "text/plain": [
       "  0%|          | 0/5 [00:00<?, ?it/s]"
      ]
     },
     "metadata": {},
     "output_type": "display_data"
    },
    {
     "name": "stderr",
     "output_type": "stream",
     "text": [
      "Some weights of the model checkpoint at bert-base-uncased were not used when initializing BertModel: ['cls.predictions.bias', 'cls.predictions.transform.dense.weight', 'cls.predictions.transform.LayerNorm.weight', 'cls.seq_relationship.weight', 'cls.predictions.decoder.weight', 'cls.seq_relationship.bias', 'cls.predictions.transform.dense.bias', 'cls.predictions.transform.LayerNorm.bias']\n",
      "- This IS expected if you are initializing BertModel from the checkpoint of a model trained on another task or with another architecture (e.g. initializing a BertForSequenceClassification model from a BertForPreTraining model).\n",
      "- This IS NOT expected if you are initializing BertModel from the checkpoint of a model that you expect to be exactly identical (initializing a BertForSequenceClassification model from a BertForSequenceClassification model).\n"
     ]
    },
    {
     "name": "stdout",
     "output_type": "stream",
     "text": [
      "Model downloaded: bert-base-uncased\n",
      "training time: 0.7401987509801984\n",
      "accuracy: 72.93577575683594\n",
      "{'params': {'reservoir_dim': 1000, 'spectral_radius': 0.5, 'leaking_rate': 0.1, 'input_scaling': 0.1, 'bias_scaling': 0.0, 'sparsity': 0.99, 'activation_function': 'relu', 'alpha': 0.1}, 'accuracy': [72.93577575683594], 'time': [0.7401987509801984]}\n"
     ]
    },
    {
     "name": "stderr",
     "output_type": "stream",
     "text": [
      "Some weights of the model checkpoint at bert-base-uncased were not used when initializing BertModel: ['cls.predictions.bias', 'cls.predictions.transform.dense.weight', 'cls.predictions.transform.LayerNorm.weight', 'cls.seq_relationship.weight', 'cls.predictions.decoder.weight', 'cls.seq_relationship.bias', 'cls.predictions.transform.dense.bias', 'cls.predictions.transform.LayerNorm.bias']\n",
      "- This IS expected if you are initializing BertModel from the checkpoint of a model trained on another task or with another architecture (e.g. initializing a BertForSequenceClassification model from a BertForPreTraining model).\n",
      "- This IS NOT expected if you are initializing BertModel from the checkpoint of a model that you expect to be exactly identical (initializing a BertForSequenceClassification model from a BertForSequenceClassification model).\n"
     ]
    },
    {
     "name": "stdout",
     "output_type": "stream",
     "text": [
      "Model downloaded: bert-base-uncased\n",
      "training time: 0.7301510404795408\n",
      "accuracy: 72.47705841064453\n",
      "{'params': {'reservoir_dim': 1000, 'spectral_radius': 0.5, 'leaking_rate': 0.1, 'input_scaling': 0.1, 'bias_scaling': 0.0, 'sparsity': 0.99, 'activation_function': 'relu', 'alpha': 0.1}, 'accuracy': [72.93577575683594, 72.47705841064453], 'time': [0.7401987509801984, 0.7301510404795408]}\n"
     ]
    },
    {
     "name": "stderr",
     "output_type": "stream",
     "text": [
      "Some weights of the model checkpoint at bert-base-uncased were not used when initializing BertModel: ['cls.predictions.bias', 'cls.predictions.transform.dense.weight', 'cls.predictions.transform.LayerNorm.weight', 'cls.seq_relationship.weight', 'cls.predictions.decoder.weight', 'cls.seq_relationship.bias', 'cls.predictions.transform.dense.bias', 'cls.predictions.transform.LayerNorm.bias']\n",
      "- This IS expected if you are initializing BertModel from the checkpoint of a model trained on another task or with another architecture (e.g. initializing a BertForSequenceClassification model from a BertForPreTraining model).\n",
      "- This IS NOT expected if you are initializing BertModel from the checkpoint of a model that you expect to be exactly identical (initializing a BertForSequenceClassification model from a BertForSequenceClassification model).\n"
     ]
    },
    {
     "name": "stdout",
     "output_type": "stream",
     "text": [
      "Model downloaded: bert-base-uncased\n",
      "training time: 0.7480081086978316\n",
      "accuracy: 72.47705841064453\n",
      "{'params': {'reservoir_dim': 1000, 'spectral_radius': 0.5, 'leaking_rate': 0.1, 'input_scaling': 0.1, 'bias_scaling': 0.0, 'sparsity': 0.99, 'activation_function': 'relu', 'alpha': 0.1}, 'accuracy': [72.93577575683594, 72.47705841064453, 72.47705841064453], 'time': [0.7401987509801984, 0.7301510404795408, 0.7480081086978316]}\n"
     ]
    },
    {
     "name": "stderr",
     "output_type": "stream",
     "text": [
      "Some weights of the model checkpoint at bert-base-uncased were not used when initializing BertModel: ['cls.predictions.bias', 'cls.predictions.transform.dense.weight', 'cls.predictions.transform.LayerNorm.weight', 'cls.seq_relationship.weight', 'cls.predictions.decoder.weight', 'cls.seq_relationship.bias', 'cls.predictions.transform.dense.bias', 'cls.predictions.transform.LayerNorm.bias']\n",
      "- This IS expected if you are initializing BertModel from the checkpoint of a model trained on another task or with another architecture (e.g. initializing a BertForSequenceClassification model from a BertForPreTraining model).\n",
      "- This IS NOT expected if you are initializing BertModel from the checkpoint of a model that you expect to be exactly identical (initializing a BertForSequenceClassification model from a BertForSequenceClassification model).\n"
     ]
    },
    {
     "name": "stdout",
     "output_type": "stream",
     "text": [
      "Model downloaded: bert-base-uncased\n",
      "training time: 0.7339502852410078\n",
      "accuracy: 72.93577575683594\n",
      "{'params': {'reservoir_dim': 1000, 'spectral_radius': 0.5, 'leaking_rate': 0.1, 'input_scaling': 0.1, 'bias_scaling': 0.0, 'sparsity': 0.99, 'activation_function': 'relu', 'alpha': 0.1}, 'accuracy': [72.93577575683594, 72.47705841064453, 72.47705841064453, 72.93577575683594], 'time': [0.7401987509801984, 0.7301510404795408, 0.7480081086978316, 0.7339502852410078]}\n"
     ]
    },
    {
     "name": "stderr",
     "output_type": "stream",
     "text": [
      "Some weights of the model checkpoint at bert-base-uncased were not used when initializing BertModel: ['cls.predictions.bias', 'cls.predictions.transform.dense.weight', 'cls.predictions.transform.LayerNorm.weight', 'cls.seq_relationship.weight', 'cls.predictions.decoder.weight', 'cls.seq_relationship.bias', 'cls.predictions.transform.dense.bias', 'cls.predictions.transform.LayerNorm.bias']\n",
      "- This IS expected if you are initializing BertModel from the checkpoint of a model trained on another task or with another architecture (e.g. initializing a BertForSequenceClassification model from a BertForPreTraining model).\n",
      "- This IS NOT expected if you are initializing BertModel from the checkpoint of a model that you expect to be exactly identical (initializing a BertForSequenceClassification model from a BertForSequenceClassification model).\n"
     ]
    },
    {
     "name": "stdout",
     "output_type": "stream",
     "text": [
      "Model downloaded: bert-base-uncased\n",
      "training time: 0.748829715885222\n",
      "accuracy: 76.14678192138672\n",
      "{'params': {'reservoir_dim': 1000, 'spectral_radius': 0.5, 'leaking_rate': 0.1, 'input_scaling': 0.1, 'bias_scaling': 0.0, 'sparsity': 0.99, 'activation_function': 'relu', 'alpha': 0.1}, 'accuracy': [72.93577575683594, 72.47705841064453, 72.47705841064453, 72.93577575683594, 76.14678192138672], 'time': [0.7401987509801984, 0.7301510404795408, 0.7480081086978316, 0.7339502852410078, 0.748829715885222]}\n"
     ]
    },
    {
     "data": {
      "application/vnd.jupyter.widget-view+json": {
       "model_id": "1bbc1fe1213041278fd1ef32ebd082c6",
       "version_major": 2,
       "version_minor": 0
      },
      "text/plain": [
       "  0%|          | 0/5 [00:00<?, ?it/s]"
      ]
     },
     "metadata": {},
     "output_type": "display_data"
    },
    {
     "name": "stderr",
     "output_type": "stream",
     "text": [
      "Some weights of the model checkpoint at bert-base-uncased were not used when initializing BertModel: ['cls.predictions.bias', 'cls.predictions.transform.dense.weight', 'cls.predictions.transform.LayerNorm.weight', 'cls.seq_relationship.weight', 'cls.predictions.decoder.weight', 'cls.seq_relationship.bias', 'cls.predictions.transform.dense.bias', 'cls.predictions.transform.LayerNorm.bias']\n",
      "- This IS expected if you are initializing BertModel from the checkpoint of a model trained on another task or with another architecture (e.g. initializing a BertForSequenceClassification model from a BertForPreTraining model).\n",
      "- This IS NOT expected if you are initializing BertModel from the checkpoint of a model that you expect to be exactly identical (initializing a BertForSequenceClassification model from a BertForSequenceClassification model).\n"
     ]
    },
    {
     "name": "stdout",
     "output_type": "stream",
     "text": [
      "Model downloaded: bert-base-uncased\n",
      "training time: 0.7353564882650971\n",
      "accuracy: 81.65137481689453\n",
      "{'params': {'reservoir_dim': 1000, 'spectral_radius': 0.5, 'leaking_rate': 0.1, 'input_scaling': 0.1, 'bias_scaling': 0.0, 'sparsity': 0.99, 'activation_function': 'relu', 'alpha': 1.0}, 'accuracy': [81.65137481689453], 'time': [0.7353564882650971]}\n"
     ]
    },
    {
     "name": "stderr",
     "output_type": "stream",
     "text": [
      "Some weights of the model checkpoint at bert-base-uncased were not used when initializing BertModel: ['cls.predictions.bias', 'cls.predictions.transform.dense.weight', 'cls.predictions.transform.LayerNorm.weight', 'cls.seq_relationship.weight', 'cls.predictions.decoder.weight', 'cls.seq_relationship.bias', 'cls.predictions.transform.dense.bias', 'cls.predictions.transform.LayerNorm.bias']\n",
      "- This IS expected if you are initializing BertModel from the checkpoint of a model trained on another task or with another architecture (e.g. initializing a BertForSequenceClassification model from a BertForPreTraining model).\n",
      "- This IS NOT expected if you are initializing BertModel from the checkpoint of a model that you expect to be exactly identical (initializing a BertForSequenceClassification model from a BertForSequenceClassification model).\n"
     ]
    },
    {
     "name": "stdout",
     "output_type": "stream",
     "text": [
      "Model downloaded: bert-base-uncased\n",
      "training time: 0.7302601588889956\n",
      "accuracy: 82.56880187988281\n",
      "{'params': {'reservoir_dim': 1000, 'spectral_radius': 0.5, 'leaking_rate': 0.1, 'input_scaling': 0.1, 'bias_scaling': 0.0, 'sparsity': 0.99, 'activation_function': 'relu', 'alpha': 1.0}, 'accuracy': [81.65137481689453, 82.56880187988281], 'time': [0.7353564882650971, 0.7302601588889956]}\n"
     ]
    },
    {
     "name": "stderr",
     "output_type": "stream",
     "text": [
      "Some weights of the model checkpoint at bert-base-uncased were not used when initializing BertModel: ['cls.predictions.bias', 'cls.predictions.transform.dense.weight', 'cls.predictions.transform.LayerNorm.weight', 'cls.seq_relationship.weight', 'cls.predictions.decoder.weight', 'cls.seq_relationship.bias', 'cls.predictions.transform.dense.bias', 'cls.predictions.transform.LayerNorm.bias']\n",
      "- This IS expected if you are initializing BertModel from the checkpoint of a model trained on another task or with another architecture (e.g. initializing a BertForSequenceClassification model from a BertForPreTraining model).\n",
      "- This IS NOT expected if you are initializing BertModel from the checkpoint of a model that you expect to be exactly identical (initializing a BertForSequenceClassification model from a BertForSequenceClassification model).\n"
     ]
    },
    {
     "name": "stdout",
     "output_type": "stream",
     "text": [
      "Model downloaded: bert-base-uncased\n",
      "training time: 0.7490786937996745\n",
      "accuracy: 78.44036102294922\n",
      "{'params': {'reservoir_dim': 1000, 'spectral_radius': 0.5, 'leaking_rate': 0.1, 'input_scaling': 0.1, 'bias_scaling': 0.0, 'sparsity': 0.99, 'activation_function': 'relu', 'alpha': 1.0}, 'accuracy': [81.65137481689453, 82.56880187988281, 78.44036102294922], 'time': [0.7353564882650971, 0.7302601588889956, 0.7490786937996745]}\n"
     ]
    },
    {
     "name": "stderr",
     "output_type": "stream",
     "text": [
      "Some weights of the model checkpoint at bert-base-uncased were not used when initializing BertModel: ['cls.predictions.bias', 'cls.predictions.transform.dense.weight', 'cls.predictions.transform.LayerNorm.weight', 'cls.seq_relationship.weight', 'cls.predictions.decoder.weight', 'cls.seq_relationship.bias', 'cls.predictions.transform.dense.bias', 'cls.predictions.transform.LayerNorm.bias']\n",
      "- This IS expected if you are initializing BertModel from the checkpoint of a model trained on another task or with another architecture (e.g. initializing a BertForSequenceClassification model from a BertForPreTraining model).\n",
      "- This IS NOT expected if you are initializing BertModel from the checkpoint of a model that you expect to be exactly identical (initializing a BertForSequenceClassification model from a BertForSequenceClassification model).\n"
     ]
    },
    {
     "name": "stdout",
     "output_type": "stream",
     "text": [
      "Model downloaded: bert-base-uncased\n",
      "training time: 0.8140805326402187\n",
      "accuracy: 81.19265747070312\n",
      "{'params': {'reservoir_dim': 1000, 'spectral_radius': 0.5, 'leaking_rate': 0.1, 'input_scaling': 0.1, 'bias_scaling': 0.0, 'sparsity': 0.99, 'activation_function': 'relu', 'alpha': 1.0}, 'accuracy': [81.65137481689453, 82.56880187988281, 78.44036102294922, 81.19265747070312], 'time': [0.7353564882650971, 0.7302601588889956, 0.7490786937996745, 0.8140805326402187]}\n"
     ]
    },
    {
     "name": "stderr",
     "output_type": "stream",
     "text": [
      "Some weights of the model checkpoint at bert-base-uncased were not used when initializing BertModel: ['cls.predictions.bias', 'cls.predictions.transform.dense.weight', 'cls.predictions.transform.LayerNorm.weight', 'cls.seq_relationship.weight', 'cls.predictions.decoder.weight', 'cls.seq_relationship.bias', 'cls.predictions.transform.dense.bias', 'cls.predictions.transform.LayerNorm.bias']\n",
      "- This IS expected if you are initializing BertModel from the checkpoint of a model trained on another task or with another architecture (e.g. initializing a BertForSequenceClassification model from a BertForPreTraining model).\n",
      "- This IS NOT expected if you are initializing BertModel from the checkpoint of a model that you expect to be exactly identical (initializing a BertForSequenceClassification model from a BertForSequenceClassification model).\n"
     ]
    },
    {
     "name": "stdout",
     "output_type": "stream",
     "text": [
      "Model downloaded: bert-base-uncased\n",
      "training time: 0.8070934489369392\n",
      "accuracy: 82.1100845336914\n",
      "{'params': {'reservoir_dim': 1000, 'spectral_radius': 0.5, 'leaking_rate': 0.1, 'input_scaling': 0.1, 'bias_scaling': 0.0, 'sparsity': 0.99, 'activation_function': 'relu', 'alpha': 1.0}, 'accuracy': [81.65137481689453, 82.56880187988281, 78.44036102294922, 81.19265747070312, 82.1100845336914], 'time': [0.7353564882650971, 0.7302601588889956, 0.7490786937996745, 0.8140805326402187, 0.8070934489369392]}\n"
     ]
    },
    {
     "data": {
      "application/vnd.jupyter.widget-view+json": {
       "model_id": "97969366d4604faeb2113243e42adcfd",
       "version_major": 2,
       "version_minor": 0
      },
      "text/plain": [
       "  0%|          | 0/5 [00:00<?, ?it/s]"
      ]
     },
     "metadata": {},
     "output_type": "display_data"
    },
    {
     "name": "stderr",
     "output_type": "stream",
     "text": [
      "Some weights of the model checkpoint at bert-base-uncased were not used when initializing BertModel: ['cls.predictions.bias', 'cls.predictions.transform.dense.weight', 'cls.predictions.transform.LayerNorm.weight', 'cls.seq_relationship.weight', 'cls.predictions.decoder.weight', 'cls.seq_relationship.bias', 'cls.predictions.transform.dense.bias', 'cls.predictions.transform.LayerNorm.bias']\n",
      "- This IS expected if you are initializing BertModel from the checkpoint of a model trained on another task or with another architecture (e.g. initializing a BertForSequenceClassification model from a BertForPreTraining model).\n",
      "- This IS NOT expected if you are initializing BertModel from the checkpoint of a model that you expect to be exactly identical (initializing a BertForSequenceClassification model from a BertForSequenceClassification model).\n"
     ]
    },
    {
     "name": "stdout",
     "output_type": "stream",
     "text": [
      "Model downloaded: bert-base-uncased\n",
      "training time: 0.7613432332873344\n",
      "accuracy: 79.81651306152344\n",
      "{'params': {'reservoir_dim': 1000, 'spectral_radius': 0.5, 'leaking_rate': 0.1, 'input_scaling': 0.1, 'bias_scaling': 0.0, 'sparsity': 0.99, 'activation_function': 'relu', 'alpha': 10.0}, 'accuracy': [79.81651306152344], 'time': [0.7613432332873344]}\n"
     ]
    },
    {
     "name": "stderr",
     "output_type": "stream",
     "text": [
      "Some weights of the model checkpoint at bert-base-uncased were not used when initializing BertModel: ['cls.predictions.bias', 'cls.predictions.transform.dense.weight', 'cls.predictions.transform.LayerNorm.weight', 'cls.seq_relationship.weight', 'cls.predictions.decoder.weight', 'cls.seq_relationship.bias', 'cls.predictions.transform.dense.bias', 'cls.predictions.transform.LayerNorm.bias']\n",
      "- This IS expected if you are initializing BertModel from the checkpoint of a model trained on another task or with another architecture (e.g. initializing a BertForSequenceClassification model from a BertForPreTraining model).\n",
      "- This IS NOT expected if you are initializing BertModel from the checkpoint of a model that you expect to be exactly identical (initializing a BertForSequenceClassification model from a BertForSequenceClassification model).\n"
     ]
    },
    {
     "name": "stdout",
     "output_type": "stream",
     "text": [
      "Model downloaded: bert-base-uncased\n",
      "training time: 0.8762675561010838\n",
      "accuracy: 81.65137481689453\n",
      "{'params': {'reservoir_dim': 1000, 'spectral_radius': 0.5, 'leaking_rate': 0.1, 'input_scaling': 0.1, 'bias_scaling': 0.0, 'sparsity': 0.99, 'activation_function': 'relu', 'alpha': 10.0}, 'accuracy': [79.81651306152344, 81.65137481689453], 'time': [0.7613432332873344, 0.8762675561010838]}\n"
     ]
    },
    {
     "name": "stderr",
     "output_type": "stream",
     "text": [
      "Some weights of the model checkpoint at bert-base-uncased were not used when initializing BertModel: ['cls.predictions.bias', 'cls.predictions.transform.dense.weight', 'cls.predictions.transform.LayerNorm.weight', 'cls.seq_relationship.weight', 'cls.predictions.decoder.weight', 'cls.seq_relationship.bias', 'cls.predictions.transform.dense.bias', 'cls.predictions.transform.LayerNorm.bias']\n",
      "- This IS expected if you are initializing BertModel from the checkpoint of a model trained on another task or with another architecture (e.g. initializing a BertForSequenceClassification model from a BertForPreTraining model).\n",
      "- This IS NOT expected if you are initializing BertModel from the checkpoint of a model that you expect to be exactly identical (initializing a BertForSequenceClassification model from a BertForSequenceClassification model).\n"
     ]
    },
    {
     "name": "stdout",
     "output_type": "stream",
     "text": [
      "Model downloaded: bert-base-uncased\n",
      "training time: 0.7305963402613997\n",
      "accuracy: 79.81651306152344\n",
      "{'params': {'reservoir_dim': 1000, 'spectral_radius': 0.5, 'leaking_rate': 0.1, 'input_scaling': 0.1, 'bias_scaling': 0.0, 'sparsity': 0.99, 'activation_function': 'relu', 'alpha': 10.0}, 'accuracy': [79.81651306152344, 81.65137481689453, 79.81651306152344], 'time': [0.7613432332873344, 0.8762675561010838, 0.7305963402613997]}\n"
     ]
    },
    {
     "name": "stderr",
     "output_type": "stream",
     "text": [
      "Some weights of the model checkpoint at bert-base-uncased were not used when initializing BertModel: ['cls.predictions.bias', 'cls.predictions.transform.dense.weight', 'cls.predictions.transform.LayerNorm.weight', 'cls.seq_relationship.weight', 'cls.predictions.decoder.weight', 'cls.seq_relationship.bias', 'cls.predictions.transform.dense.bias', 'cls.predictions.transform.LayerNorm.bias']\n",
      "- This IS expected if you are initializing BertModel from the checkpoint of a model trained on another task or with another architecture (e.g. initializing a BertForSequenceClassification model from a BertForPreTraining model).\n",
      "- This IS NOT expected if you are initializing BertModel from the checkpoint of a model that you expect to be exactly identical (initializing a BertForSequenceClassification model from a BertForSequenceClassification model).\n"
     ]
    },
    {
     "name": "stdout",
     "output_type": "stream",
     "text": [
      "Model downloaded: bert-base-uncased\n",
      "training time: 0.7392765246331692\n",
      "accuracy: 80.73394012451172\n",
      "{'params': {'reservoir_dim': 1000, 'spectral_radius': 0.5, 'leaking_rate': 0.1, 'input_scaling': 0.1, 'bias_scaling': 0.0, 'sparsity': 0.99, 'activation_function': 'relu', 'alpha': 10.0}, 'accuracy': [79.81651306152344, 81.65137481689453, 79.81651306152344, 80.73394012451172], 'time': [0.7613432332873344, 0.8762675561010838, 0.7305963402613997, 0.7392765246331692]}\n"
     ]
    },
    {
     "name": "stderr",
     "output_type": "stream",
     "text": [
      "Some weights of the model checkpoint at bert-base-uncased were not used when initializing BertModel: ['cls.predictions.bias', 'cls.predictions.transform.dense.weight', 'cls.predictions.transform.LayerNorm.weight', 'cls.seq_relationship.weight', 'cls.predictions.decoder.weight', 'cls.seq_relationship.bias', 'cls.predictions.transform.dense.bias', 'cls.predictions.transform.LayerNorm.bias']\n",
      "- This IS expected if you are initializing BertModel from the checkpoint of a model trained on another task or with another architecture (e.g. initializing a BertForSequenceClassification model from a BertForPreTraining model).\n",
      "- This IS NOT expected if you are initializing BertModel from the checkpoint of a model that you expect to be exactly identical (initializing a BertForSequenceClassification model from a BertForSequenceClassification model).\n"
     ]
    },
    {
     "name": "stdout",
     "output_type": "stream",
     "text": [
      "Model downloaded: bert-base-uncased\n",
      "training time: 0.7669543335214257\n",
      "accuracy: 82.1100845336914\n",
      "{'params': {'reservoir_dim': 1000, 'spectral_radius': 0.5, 'leaking_rate': 0.1, 'input_scaling': 0.1, 'bias_scaling': 0.0, 'sparsity': 0.99, 'activation_function': 'relu', 'alpha': 10.0}, 'accuracy': [79.81651306152344, 81.65137481689453, 79.81651306152344, 80.73394012451172, 82.1100845336914], 'time': [0.7613432332873344, 0.8762675561010838, 0.7305963402613997, 0.7392765246331692, 0.7669543335214257]}\n"
     ]
    },
    {
     "data": {
      "application/vnd.jupyter.widget-view+json": {
       "model_id": "ddf4a7496dd442aaa6d01ab6331ab007",
       "version_major": 2,
       "version_minor": 0
      },
      "text/plain": [
       "  0%|          | 0/5 [00:00<?, ?it/s]"
      ]
     },
     "metadata": {},
     "output_type": "display_data"
    },
    {
     "name": "stderr",
     "output_type": "stream",
     "text": [
      "Some weights of the model checkpoint at bert-base-uncased were not used when initializing BertModel: ['cls.predictions.bias', 'cls.predictions.transform.dense.weight', 'cls.predictions.transform.LayerNorm.weight', 'cls.seq_relationship.weight', 'cls.predictions.decoder.weight', 'cls.seq_relationship.bias', 'cls.predictions.transform.dense.bias', 'cls.predictions.transform.LayerNorm.bias']\n",
      "- This IS expected if you are initializing BertModel from the checkpoint of a model trained on another task or with another architecture (e.g. initializing a BertForSequenceClassification model from a BertForPreTraining model).\n",
      "- This IS NOT expected if you are initializing BertModel from the checkpoint of a model that you expect to be exactly identical (initializing a BertForSequenceClassification model from a BertForSequenceClassification model).\n"
     ]
    },
    {
     "name": "stdout",
     "output_type": "stream",
     "text": [
      "Model downloaded: bert-base-uncased\n",
      "training time: 0.7432306641712785\n",
      "accuracy: 22.935779571533203\n",
      "{'params': {'reservoir_dim': 1000, 'spectral_radius': 0.5, 'leaking_rate': 0.1, 'input_scaling': 1.0, 'bias_scaling': 0.0, 'sparsity': 0.0, 'activation_function': 'relu', 'alpha': 0.1}, 'accuracy': [22.935779571533203], 'time': [0.7432306641712785]}\n"
     ]
    },
    {
     "name": "stderr",
     "output_type": "stream",
     "text": [
      "Some weights of the model checkpoint at bert-base-uncased were not used when initializing BertModel: ['cls.predictions.bias', 'cls.predictions.transform.dense.weight', 'cls.predictions.transform.LayerNorm.weight', 'cls.seq_relationship.weight', 'cls.predictions.decoder.weight', 'cls.seq_relationship.bias', 'cls.predictions.transform.dense.bias', 'cls.predictions.transform.LayerNorm.bias']\n",
      "- This IS expected if you are initializing BertModel from the checkpoint of a model trained on another task or with another architecture (e.g. initializing a BertForSequenceClassification model from a BertForPreTraining model).\n",
      "- This IS NOT expected if you are initializing BertModel from the checkpoint of a model that you expect to be exactly identical (initializing a BertForSequenceClassification model from a BertForSequenceClassification model).\n"
     ]
    },
    {
     "name": "stdout",
     "output_type": "stream",
     "text": [
      "Model downloaded: bert-base-uncased\n",
      "training time: 0.7547042090445757\n",
      "accuracy: 31.65137481689453\n",
      "{'params': {'reservoir_dim': 1000, 'spectral_radius': 0.5, 'leaking_rate': 0.1, 'input_scaling': 1.0, 'bias_scaling': 0.0, 'sparsity': 0.0, 'activation_function': 'relu', 'alpha': 0.1}, 'accuracy': [22.935779571533203, 31.65137481689453], 'time': [0.7432306641712785, 0.7547042090445757]}\n"
     ]
    },
    {
     "name": "stderr",
     "output_type": "stream",
     "text": [
      "Some weights of the model checkpoint at bert-base-uncased were not used when initializing BertModel: ['cls.predictions.bias', 'cls.predictions.transform.dense.weight', 'cls.predictions.transform.LayerNorm.weight', 'cls.seq_relationship.weight', 'cls.predictions.decoder.weight', 'cls.seq_relationship.bias', 'cls.predictions.transform.dense.bias', 'cls.predictions.transform.LayerNorm.bias']\n",
      "- This IS expected if you are initializing BertModel from the checkpoint of a model trained on another task or with another architecture (e.g. initializing a BertForSequenceClassification model from a BertForPreTraining model).\n",
      "- This IS NOT expected if you are initializing BertModel from the checkpoint of a model that you expect to be exactly identical (initializing a BertForSequenceClassification model from a BertForSequenceClassification model).\n"
     ]
    },
    {
     "name": "stdout",
     "output_type": "stream",
     "text": [
      "Model downloaded: bert-base-uncased\n",
      "training time: 0.7456621648743749\n",
      "accuracy: 33.027523040771484\n",
      "{'params': {'reservoir_dim': 1000, 'spectral_radius': 0.5, 'leaking_rate': 0.1, 'input_scaling': 1.0, 'bias_scaling': 0.0, 'sparsity': 0.0, 'activation_function': 'relu', 'alpha': 0.1}, 'accuracy': [22.935779571533203, 31.65137481689453, 33.027523040771484], 'time': [0.7432306641712785, 0.7547042090445757, 0.7456621648743749]}\n"
     ]
    },
    {
     "name": "stderr",
     "output_type": "stream",
     "text": [
      "Some weights of the model checkpoint at bert-base-uncased were not used when initializing BertModel: ['cls.predictions.bias', 'cls.predictions.transform.dense.weight', 'cls.predictions.transform.LayerNorm.weight', 'cls.seq_relationship.weight', 'cls.predictions.decoder.weight', 'cls.seq_relationship.bias', 'cls.predictions.transform.dense.bias', 'cls.predictions.transform.LayerNorm.bias']\n",
      "- This IS expected if you are initializing BertModel from the checkpoint of a model trained on another task or with another architecture (e.g. initializing a BertForSequenceClassification model from a BertForPreTraining model).\n",
      "- This IS NOT expected if you are initializing BertModel from the checkpoint of a model that you expect to be exactly identical (initializing a BertForSequenceClassification model from a BertForSequenceClassification model).\n"
     ]
    },
    {
     "name": "stdout",
     "output_type": "stream",
     "text": [
      "Model downloaded: bert-base-uncased\n",
      "training time: 0.7802872620522976\n",
      "accuracy: 37.15596008300781\n",
      "{'params': {'reservoir_dim': 1000, 'spectral_radius': 0.5, 'leaking_rate': 0.1, 'input_scaling': 1.0, 'bias_scaling': 0.0, 'sparsity': 0.0, 'activation_function': 'relu', 'alpha': 0.1}, 'accuracy': [22.935779571533203, 31.65137481689453, 33.027523040771484, 37.15596008300781], 'time': [0.7432306641712785, 0.7547042090445757, 0.7456621648743749, 0.7802872620522976]}\n"
     ]
    },
    {
     "name": "stderr",
     "output_type": "stream",
     "text": [
      "Some weights of the model checkpoint at bert-base-uncased were not used when initializing BertModel: ['cls.predictions.bias', 'cls.predictions.transform.dense.weight', 'cls.predictions.transform.LayerNorm.weight', 'cls.seq_relationship.weight', 'cls.predictions.decoder.weight', 'cls.seq_relationship.bias', 'cls.predictions.transform.dense.bias', 'cls.predictions.transform.LayerNorm.bias']\n",
      "- This IS expected if you are initializing BertModel from the checkpoint of a model trained on another task or with another architecture (e.g. initializing a BertForSequenceClassification model from a BertForPreTraining model).\n",
      "- This IS NOT expected if you are initializing BertModel from the checkpoint of a model that you expect to be exactly identical (initializing a BertForSequenceClassification model from a BertForSequenceClassification model).\n"
     ]
    },
    {
     "name": "stdout",
     "output_type": "stream",
     "text": [
      "Model downloaded: bert-base-uncased\n",
      "training time: 0.7401964738965034\n",
      "accuracy: 27.522933959960938\n",
      "{'params': {'reservoir_dim': 1000, 'spectral_radius': 0.5, 'leaking_rate': 0.1, 'input_scaling': 1.0, 'bias_scaling': 0.0, 'sparsity': 0.0, 'activation_function': 'relu', 'alpha': 0.1}, 'accuracy': [22.935779571533203, 31.65137481689453, 33.027523040771484, 37.15596008300781, 27.522933959960938], 'time': [0.7432306641712785, 0.7547042090445757, 0.7456621648743749, 0.7802872620522976, 0.7401964738965034]}\n"
     ]
    },
    {
     "data": {
      "application/vnd.jupyter.widget-view+json": {
       "model_id": "cdf0a325a6764ea4b12ae1ee66302864",
       "version_major": 2,
       "version_minor": 0
      },
      "text/plain": [
       "  0%|          | 0/5 [00:00<?, ?it/s]"
      ]
     },
     "metadata": {},
     "output_type": "display_data"
    },
    {
     "name": "stderr",
     "output_type": "stream",
     "text": [
      "Some weights of the model checkpoint at bert-base-uncased were not used when initializing BertModel: ['cls.predictions.bias', 'cls.predictions.transform.dense.weight', 'cls.predictions.transform.LayerNorm.weight', 'cls.seq_relationship.weight', 'cls.predictions.decoder.weight', 'cls.seq_relationship.bias', 'cls.predictions.transform.dense.bias', 'cls.predictions.transform.LayerNorm.bias']\n",
      "- This IS expected if you are initializing BertModel from the checkpoint of a model trained on another task or with another architecture (e.g. initializing a BertForSequenceClassification model from a BertForPreTraining model).\n",
      "- This IS NOT expected if you are initializing BertModel from the checkpoint of a model that you expect to be exactly identical (initializing a BertForSequenceClassification model from a BertForSequenceClassification model).\n"
     ]
    },
    {
     "name": "stdout",
     "output_type": "stream",
     "text": [
      "Model downloaded: bert-base-uncased\n",
      "training time: 0.7601708173751831\n",
      "accuracy: 56.88072967529297\n",
      "{'params': {'reservoir_dim': 1000, 'spectral_radius': 0.5, 'leaking_rate': 0.1, 'input_scaling': 1.0, 'bias_scaling': 0.0, 'sparsity': 0.0, 'activation_function': 'relu', 'alpha': 1.0}, 'accuracy': [56.88072967529297], 'time': [0.7601708173751831]}\n"
     ]
    },
    {
     "name": "stderr",
     "output_type": "stream",
     "text": [
      "Some weights of the model checkpoint at bert-base-uncased were not used when initializing BertModel: ['cls.predictions.bias', 'cls.predictions.transform.dense.weight', 'cls.predictions.transform.LayerNorm.weight', 'cls.seq_relationship.weight', 'cls.predictions.decoder.weight', 'cls.seq_relationship.bias', 'cls.predictions.transform.dense.bias', 'cls.predictions.transform.LayerNorm.bias']\n",
      "- This IS expected if you are initializing BertModel from the checkpoint of a model trained on another task or with another architecture (e.g. initializing a BertForSequenceClassification model from a BertForPreTraining model).\n",
      "- This IS NOT expected if you are initializing BertModel from the checkpoint of a model that you expect to be exactly identical (initializing a BertForSequenceClassification model from a BertForSequenceClassification model).\n"
     ]
    },
    {
     "name": "stdout",
     "output_type": "stream",
     "text": [
      "Model downloaded: bert-base-uncased\n",
      "training time: 0.8129513831809163\n",
      "accuracy: 60.091739654541016\n",
      "{'params': {'reservoir_dim': 1000, 'spectral_radius': 0.5, 'leaking_rate': 0.1, 'input_scaling': 1.0, 'bias_scaling': 0.0, 'sparsity': 0.0, 'activation_function': 'relu', 'alpha': 1.0}, 'accuracy': [56.88072967529297, 60.091739654541016], 'time': [0.7601708173751831, 0.8129513831809163]}\n"
     ]
    },
    {
     "name": "stderr",
     "output_type": "stream",
     "text": [
      "Some weights of the model checkpoint at bert-base-uncased were not used when initializing BertModel: ['cls.predictions.bias', 'cls.predictions.transform.dense.weight', 'cls.predictions.transform.LayerNorm.weight', 'cls.seq_relationship.weight', 'cls.predictions.decoder.weight', 'cls.seq_relationship.bias', 'cls.predictions.transform.dense.bias', 'cls.predictions.transform.LayerNorm.bias']\n",
      "- This IS expected if you are initializing BertModel from the checkpoint of a model trained on another task or with another architecture (e.g. initializing a BertForSequenceClassification model from a BertForPreTraining model).\n",
      "- This IS NOT expected if you are initializing BertModel from the checkpoint of a model that you expect to be exactly identical (initializing a BertForSequenceClassification model from a BertForSequenceClassification model).\n"
     ]
    },
    {
     "name": "stdout",
     "output_type": "stream",
     "text": [
      "Model downloaded: bert-base-uncased\n",
      "training time: 0.8616238860413432\n",
      "accuracy: 60.091739654541016\n",
      "{'params': {'reservoir_dim': 1000, 'spectral_radius': 0.5, 'leaking_rate': 0.1, 'input_scaling': 1.0, 'bias_scaling': 0.0, 'sparsity': 0.0, 'activation_function': 'relu', 'alpha': 1.0}, 'accuracy': [56.88072967529297, 60.091739654541016, 60.091739654541016], 'time': [0.7601708173751831, 0.8129513831809163, 0.8616238860413432]}\n"
     ]
    },
    {
     "name": "stderr",
     "output_type": "stream",
     "text": [
      "Some weights of the model checkpoint at bert-base-uncased were not used when initializing BertModel: ['cls.predictions.bias', 'cls.predictions.transform.dense.weight', 'cls.predictions.transform.LayerNorm.weight', 'cls.seq_relationship.weight', 'cls.predictions.decoder.weight', 'cls.seq_relationship.bias', 'cls.predictions.transform.dense.bias', 'cls.predictions.transform.LayerNorm.bias']\n",
      "- This IS expected if you are initializing BertModel from the checkpoint of a model trained on another task or with another architecture (e.g. initializing a BertForSequenceClassification model from a BertForPreTraining model).\n",
      "- This IS NOT expected if you are initializing BertModel from the checkpoint of a model that you expect to be exactly identical (initializing a BertForSequenceClassification model from a BertForSequenceClassification model).\n"
     ]
    },
    {
     "name": "stdout",
     "output_type": "stream",
     "text": [
      "Model downloaded: bert-base-uncased\n",
      "training time: 0.8040235647931695\n",
      "accuracy: 50.45871353149414\n",
      "{'params': {'reservoir_dim': 1000, 'spectral_radius': 0.5, 'leaking_rate': 0.1, 'input_scaling': 1.0, 'bias_scaling': 0.0, 'sparsity': 0.0, 'activation_function': 'relu', 'alpha': 1.0}, 'accuracy': [56.88072967529297, 60.091739654541016, 60.091739654541016, 50.45871353149414], 'time': [0.7601708173751831, 0.8129513831809163, 0.8616238860413432, 0.8040235647931695]}\n"
     ]
    },
    {
     "name": "stderr",
     "output_type": "stream",
     "text": [
      "Some weights of the model checkpoint at bert-base-uncased were not used when initializing BertModel: ['cls.predictions.bias', 'cls.predictions.transform.dense.weight', 'cls.predictions.transform.LayerNorm.weight', 'cls.seq_relationship.weight', 'cls.predictions.decoder.weight', 'cls.seq_relationship.bias', 'cls.predictions.transform.dense.bias', 'cls.predictions.transform.LayerNorm.bias']\n",
      "- This IS expected if you are initializing BertModel from the checkpoint of a model trained on another task or with another architecture (e.g. initializing a BertForSequenceClassification model from a BertForPreTraining model).\n",
      "- This IS NOT expected if you are initializing BertModel from the checkpoint of a model that you expect to be exactly identical (initializing a BertForSequenceClassification model from a BertForSequenceClassification model).\n"
     ]
    },
    {
     "name": "stdout",
     "output_type": "stream",
     "text": [
      "Model downloaded: bert-base-uncased\n",
      "training time: 0.7177161434665322\n",
      "accuracy: 62.844032287597656\n",
      "{'params': {'reservoir_dim': 1000, 'spectral_radius': 0.5, 'leaking_rate': 0.1, 'input_scaling': 1.0, 'bias_scaling': 0.0, 'sparsity': 0.0, 'activation_function': 'relu', 'alpha': 1.0}, 'accuracy': [56.88072967529297, 60.091739654541016, 60.091739654541016, 50.45871353149414, 62.844032287597656], 'time': [0.7601708173751831, 0.8129513831809163, 0.8616238860413432, 0.8040235647931695, 0.7177161434665322]}\n"
     ]
    },
    {
     "data": {
      "application/vnd.jupyter.widget-view+json": {
       "model_id": "6db01c8d1081445b819aa49e560c077e",
       "version_major": 2,
       "version_minor": 0
      },
      "text/plain": [
       "  0%|          | 0/5 [00:00<?, ?it/s]"
      ]
     },
     "metadata": {},
     "output_type": "display_data"
    },
    {
     "name": "stderr",
     "output_type": "stream",
     "text": [
      "Some weights of the model checkpoint at bert-base-uncased were not used when initializing BertModel: ['cls.predictions.bias', 'cls.predictions.transform.dense.weight', 'cls.predictions.transform.LayerNorm.weight', 'cls.seq_relationship.weight', 'cls.predictions.decoder.weight', 'cls.seq_relationship.bias', 'cls.predictions.transform.dense.bias', 'cls.predictions.transform.LayerNorm.bias']\n",
      "- This IS expected if you are initializing BertModel from the checkpoint of a model trained on another task or with another architecture (e.g. initializing a BertForSequenceClassification model from a BertForPreTraining model).\n",
      "- This IS NOT expected if you are initializing BertModel from the checkpoint of a model that you expect to be exactly identical (initializing a BertForSequenceClassification model from a BertForSequenceClassification model).\n"
     ]
    },
    {
     "name": "stdout",
     "output_type": "stream",
     "text": [
      "Model downloaded: bert-base-uncased\n",
      "training time: 0.7982775717973709\n",
      "accuracy: 72.01834869384766\n",
      "{'params': {'reservoir_dim': 1000, 'spectral_radius': 0.5, 'leaking_rate': 0.1, 'input_scaling': 1.0, 'bias_scaling': 0.0, 'sparsity': 0.0, 'activation_function': 'relu', 'alpha': 10.0}, 'accuracy': [72.01834869384766], 'time': [0.7982775717973709]}\n"
     ]
    },
    {
     "name": "stderr",
     "output_type": "stream",
     "text": [
      "Some weights of the model checkpoint at bert-base-uncased were not used when initializing BertModel: ['cls.predictions.bias', 'cls.predictions.transform.dense.weight', 'cls.predictions.transform.LayerNorm.weight', 'cls.seq_relationship.weight', 'cls.predictions.decoder.weight', 'cls.seq_relationship.bias', 'cls.predictions.transform.dense.bias', 'cls.predictions.transform.LayerNorm.bias']\n",
      "- This IS expected if you are initializing BertModel from the checkpoint of a model trained on another task or with another architecture (e.g. initializing a BertForSequenceClassification model from a BertForPreTraining model).\n",
      "- This IS NOT expected if you are initializing BertModel from the checkpoint of a model that you expect to be exactly identical (initializing a BertForSequenceClassification model from a BertForSequenceClassification model).\n"
     ]
    },
    {
     "name": "stdout",
     "output_type": "stream",
     "text": [
      "Model downloaded: bert-base-uncased\n",
      "training time: 0.7523916764184833\n",
      "accuracy: 72.93577575683594\n",
      "{'params': {'reservoir_dim': 1000, 'spectral_radius': 0.5, 'leaking_rate': 0.1, 'input_scaling': 1.0, 'bias_scaling': 0.0, 'sparsity': 0.0, 'activation_function': 'relu', 'alpha': 10.0}, 'accuracy': [72.01834869384766, 72.93577575683594], 'time': [0.7982775717973709, 0.7523916764184833]}\n"
     ]
    },
    {
     "name": "stderr",
     "output_type": "stream",
     "text": [
      "Some weights of the model checkpoint at bert-base-uncased were not used when initializing BertModel: ['cls.predictions.bias', 'cls.predictions.transform.dense.weight', 'cls.predictions.transform.LayerNorm.weight', 'cls.seq_relationship.weight', 'cls.predictions.decoder.weight', 'cls.seq_relationship.bias', 'cls.predictions.transform.dense.bias', 'cls.predictions.transform.LayerNorm.bias']\n",
      "- This IS expected if you are initializing BertModel from the checkpoint of a model trained on another task or with another architecture (e.g. initializing a BertForSequenceClassification model from a BertForPreTraining model).\n",
      "- This IS NOT expected if you are initializing BertModel from the checkpoint of a model that you expect to be exactly identical (initializing a BertForSequenceClassification model from a BertForSequenceClassification model).\n"
     ]
    },
    {
     "name": "stdout",
     "output_type": "stream",
     "text": [
      "Model downloaded: bert-base-uncased\n",
      "training time: 0.7561097694560885\n",
      "accuracy: 73.39449310302734\n",
      "{'params': {'reservoir_dim': 1000, 'spectral_radius': 0.5, 'leaking_rate': 0.1, 'input_scaling': 1.0, 'bias_scaling': 0.0, 'sparsity': 0.0, 'activation_function': 'relu', 'alpha': 10.0}, 'accuracy': [72.01834869384766, 72.93577575683594, 73.39449310302734], 'time': [0.7982775717973709, 0.7523916764184833, 0.7561097694560885]}\n"
     ]
    },
    {
     "name": "stderr",
     "output_type": "stream",
     "text": [
      "Some weights of the model checkpoint at bert-base-uncased were not used when initializing BertModel: ['cls.predictions.bias', 'cls.predictions.transform.dense.weight', 'cls.predictions.transform.LayerNorm.weight', 'cls.seq_relationship.weight', 'cls.predictions.decoder.weight', 'cls.seq_relationship.bias', 'cls.predictions.transform.dense.bias', 'cls.predictions.transform.LayerNorm.bias']\n",
      "- This IS expected if you are initializing BertModel from the checkpoint of a model trained on another task or with another architecture (e.g. initializing a BertForSequenceClassification model from a BertForPreTraining model).\n",
      "- This IS NOT expected if you are initializing BertModel from the checkpoint of a model that you expect to be exactly identical (initializing a BertForSequenceClassification model from a BertForSequenceClassification model).\n"
     ]
    },
    {
     "name": "stdout",
     "output_type": "stream",
     "text": [
      "Model downloaded: bert-base-uncased\n",
      "training time: 0.7258562594652176\n",
      "accuracy: 75.22935485839844\n",
      "{'params': {'reservoir_dim': 1000, 'spectral_radius': 0.5, 'leaking_rate': 0.1, 'input_scaling': 1.0, 'bias_scaling': 0.0, 'sparsity': 0.0, 'activation_function': 'relu', 'alpha': 10.0}, 'accuracy': [72.01834869384766, 72.93577575683594, 73.39449310302734, 75.22935485839844], 'time': [0.7982775717973709, 0.7523916764184833, 0.7561097694560885, 0.7258562594652176]}\n"
     ]
    },
    {
     "name": "stderr",
     "output_type": "stream",
     "text": [
      "Some weights of the model checkpoint at bert-base-uncased were not used when initializing BertModel: ['cls.predictions.bias', 'cls.predictions.transform.dense.weight', 'cls.predictions.transform.LayerNorm.weight', 'cls.seq_relationship.weight', 'cls.predictions.decoder.weight', 'cls.seq_relationship.bias', 'cls.predictions.transform.dense.bias', 'cls.predictions.transform.LayerNorm.bias']\n",
      "- This IS expected if you are initializing BertModel from the checkpoint of a model trained on another task or with another architecture (e.g. initializing a BertForSequenceClassification model from a BertForPreTraining model).\n",
      "- This IS NOT expected if you are initializing BertModel from the checkpoint of a model that you expect to be exactly identical (initializing a BertForSequenceClassification model from a BertForSequenceClassification model).\n"
     ]
    },
    {
     "name": "stdout",
     "output_type": "stream",
     "text": [
      "Model downloaded: bert-base-uncased\n",
      "training time: 0.7302361596375704\n",
      "accuracy: 74.77063751220703\n",
      "{'params': {'reservoir_dim': 1000, 'spectral_radius': 0.5, 'leaking_rate': 0.1, 'input_scaling': 1.0, 'bias_scaling': 0.0, 'sparsity': 0.0, 'activation_function': 'relu', 'alpha': 10.0}, 'accuracy': [72.01834869384766, 72.93577575683594, 73.39449310302734, 75.22935485839844, 74.77063751220703], 'time': [0.7982775717973709, 0.7523916764184833, 0.7561097694560885, 0.7258562594652176, 0.7302361596375704]}\n"
     ]
    },
    {
     "data": {
      "application/vnd.jupyter.widget-view+json": {
       "model_id": "2736aa3043484deabf11384fa36ccb80",
       "version_major": 2,
       "version_minor": 0
      },
      "text/plain": [
       "  0%|          | 0/5 [00:00<?, ?it/s]"
      ]
     },
     "metadata": {},
     "output_type": "display_data"
    },
    {
     "name": "stderr",
     "output_type": "stream",
     "text": [
      "Some weights of the model checkpoint at bert-base-uncased were not used when initializing BertModel: ['cls.predictions.bias', 'cls.predictions.transform.dense.weight', 'cls.predictions.transform.LayerNorm.weight', 'cls.seq_relationship.weight', 'cls.predictions.decoder.weight', 'cls.seq_relationship.bias', 'cls.predictions.transform.dense.bias', 'cls.predictions.transform.LayerNorm.bias']\n",
      "- This IS expected if you are initializing BertModel from the checkpoint of a model trained on another task or with another architecture (e.g. initializing a BertForSequenceClassification model from a BertForPreTraining model).\n",
      "- This IS NOT expected if you are initializing BertModel from the checkpoint of a model that you expect to be exactly identical (initializing a BertForSequenceClassification model from a BertForSequenceClassification model).\n"
     ]
    },
    {
     "name": "stdout",
     "output_type": "stream",
     "text": [
      "Model downloaded: bert-base-uncased\n",
      "training time: 0.7161510139703751\n",
      "accuracy: 32.56880569458008\n",
      "{'params': {'reservoir_dim': 1000, 'spectral_radius': 0.5, 'leaking_rate': 0.1, 'input_scaling': 1.0, 'bias_scaling': 0.0, 'sparsity': 0.99, 'activation_function': 'relu', 'alpha': 0.1}, 'accuracy': [32.56880569458008], 'time': [0.7161510139703751]}\n"
     ]
    },
    {
     "name": "stderr",
     "output_type": "stream",
     "text": [
      "Some weights of the model checkpoint at bert-base-uncased were not used when initializing BertModel: ['cls.predictions.bias', 'cls.predictions.transform.dense.weight', 'cls.predictions.transform.LayerNorm.weight', 'cls.seq_relationship.weight', 'cls.predictions.decoder.weight', 'cls.seq_relationship.bias', 'cls.predictions.transform.dense.bias', 'cls.predictions.transform.LayerNorm.bias']\n",
      "- This IS expected if you are initializing BertModel from the checkpoint of a model trained on another task or with another architecture (e.g. initializing a BertForSequenceClassification model from a BertForPreTraining model).\n",
      "- This IS NOT expected if you are initializing BertModel from the checkpoint of a model that you expect to be exactly identical (initializing a BertForSequenceClassification model from a BertForSequenceClassification model).\n"
     ]
    },
    {
     "name": "stdout",
     "output_type": "stream",
     "text": [
      "Model downloaded: bert-base-uncased\n",
      "training time: 0.74417778942734\n",
      "accuracy: 44.03669357299805\n",
      "{'params': {'reservoir_dim': 1000, 'spectral_radius': 0.5, 'leaking_rate': 0.1, 'input_scaling': 1.0, 'bias_scaling': 0.0, 'sparsity': 0.99, 'activation_function': 'relu', 'alpha': 0.1}, 'accuracy': [32.56880569458008, 44.03669357299805], 'time': [0.7161510139703751, 0.74417778942734]}\n"
     ]
    },
    {
     "name": "stderr",
     "output_type": "stream",
     "text": [
      "Some weights of the model checkpoint at bert-base-uncased were not used when initializing BertModel: ['cls.predictions.bias', 'cls.predictions.transform.dense.weight', 'cls.predictions.transform.LayerNorm.weight', 'cls.seq_relationship.weight', 'cls.predictions.decoder.weight', 'cls.seq_relationship.bias', 'cls.predictions.transform.dense.bias', 'cls.predictions.transform.LayerNorm.bias']\n",
      "- This IS expected if you are initializing BertModel from the checkpoint of a model trained on another task or with another architecture (e.g. initializing a BertForSequenceClassification model from a BertForPreTraining model).\n",
      "- This IS NOT expected if you are initializing BertModel from the checkpoint of a model that you expect to be exactly identical (initializing a BertForSequenceClassification model from a BertForSequenceClassification model).\n"
     ]
    },
    {
     "name": "stdout",
     "output_type": "stream",
     "text": [
      "Model downloaded: bert-base-uncased\n",
      "training time: 0.7536350302398205\n",
      "accuracy: 38.99082565307617\n",
      "{'params': {'reservoir_dim': 1000, 'spectral_radius': 0.5, 'leaking_rate': 0.1, 'input_scaling': 1.0, 'bias_scaling': 0.0, 'sparsity': 0.99, 'activation_function': 'relu', 'alpha': 0.1}, 'accuracy': [32.56880569458008, 44.03669357299805, 38.99082565307617], 'time': [0.7161510139703751, 0.74417778942734, 0.7536350302398205]}\n"
     ]
    },
    {
     "name": "stderr",
     "output_type": "stream",
     "text": [
      "Some weights of the model checkpoint at bert-base-uncased were not used when initializing BertModel: ['cls.predictions.bias', 'cls.predictions.transform.dense.weight', 'cls.predictions.transform.LayerNorm.weight', 'cls.seq_relationship.weight', 'cls.predictions.decoder.weight', 'cls.seq_relationship.bias', 'cls.predictions.transform.dense.bias', 'cls.predictions.transform.LayerNorm.bias']\n",
      "- This IS expected if you are initializing BertModel from the checkpoint of a model trained on another task or with another architecture (e.g. initializing a BertForSequenceClassification model from a BertForPreTraining model).\n",
      "- This IS NOT expected if you are initializing BertModel from the checkpoint of a model that you expect to be exactly identical (initializing a BertForSequenceClassification model from a BertForSequenceClassification model).\n"
     ]
    },
    {
     "name": "stdout",
     "output_type": "stream",
     "text": [
      "Model downloaded: bert-base-uncased\n",
      "training time: 0.7841410394757986\n",
      "accuracy: 33.027523040771484\n",
      "{'params': {'reservoir_dim': 1000, 'spectral_radius': 0.5, 'leaking_rate': 0.1, 'input_scaling': 1.0, 'bias_scaling': 0.0, 'sparsity': 0.99, 'activation_function': 'relu', 'alpha': 0.1}, 'accuracy': [32.56880569458008, 44.03669357299805, 38.99082565307617, 33.027523040771484], 'time': [0.7161510139703751, 0.74417778942734, 0.7536350302398205, 0.7841410394757986]}\n"
     ]
    },
    {
     "name": "stderr",
     "output_type": "stream",
     "text": [
      "Some weights of the model checkpoint at bert-base-uncased were not used when initializing BertModel: ['cls.predictions.bias', 'cls.predictions.transform.dense.weight', 'cls.predictions.transform.LayerNorm.weight', 'cls.seq_relationship.weight', 'cls.predictions.decoder.weight', 'cls.seq_relationship.bias', 'cls.predictions.transform.dense.bias', 'cls.predictions.transform.LayerNorm.bias']\n",
      "- This IS expected if you are initializing BertModel from the checkpoint of a model trained on another task or with another architecture (e.g. initializing a BertForSequenceClassification model from a BertForPreTraining model).\n",
      "- This IS NOT expected if you are initializing BertModel from the checkpoint of a model that you expect to be exactly identical (initializing a BertForSequenceClassification model from a BertForSequenceClassification model).\n"
     ]
    },
    {
     "name": "stdout",
     "output_type": "stream",
     "text": [
      "Model downloaded: bert-base-uncased\n",
      "training time: 0.8489905092865229\n",
      "accuracy: 18.348623275756836\n",
      "{'params': {'reservoir_dim': 1000, 'spectral_radius': 0.5, 'leaking_rate': 0.1, 'input_scaling': 1.0, 'bias_scaling': 0.0, 'sparsity': 0.99, 'activation_function': 'relu', 'alpha': 0.1}, 'accuracy': [32.56880569458008, 44.03669357299805, 38.99082565307617, 33.027523040771484, 18.348623275756836], 'time': [0.7161510139703751, 0.74417778942734, 0.7536350302398205, 0.7841410394757986, 0.8489905092865229]}\n"
     ]
    },
    {
     "data": {
      "application/vnd.jupyter.widget-view+json": {
       "model_id": "e2d7666d4c8745eea55b78aa018e474e",
       "version_major": 2,
       "version_minor": 0
      },
      "text/plain": [
       "  0%|          | 0/5 [00:00<?, ?it/s]"
      ]
     },
     "metadata": {},
     "output_type": "display_data"
    },
    {
     "name": "stderr",
     "output_type": "stream",
     "text": [
      "Some weights of the model checkpoint at bert-base-uncased were not used when initializing BertModel: ['cls.predictions.bias', 'cls.predictions.transform.dense.weight', 'cls.predictions.transform.LayerNorm.weight', 'cls.seq_relationship.weight', 'cls.predictions.decoder.weight', 'cls.seq_relationship.bias', 'cls.predictions.transform.dense.bias', 'cls.predictions.transform.LayerNorm.bias']\n",
      "- This IS expected if you are initializing BertModel from the checkpoint of a model trained on another task or with another architecture (e.g. initializing a BertForSequenceClassification model from a BertForPreTraining model).\n",
      "- This IS NOT expected if you are initializing BertModel from the checkpoint of a model that you expect to be exactly identical (initializing a BertForSequenceClassification model from a BertForSequenceClassification model).\n"
     ]
    },
    {
     "name": "stdout",
     "output_type": "stream",
     "text": [
      "Model downloaded: bert-base-uncased\n",
      "training time: 0.7954370388761163\n",
      "accuracy: 57.79816436767578\n",
      "{'params': {'reservoir_dim': 1000, 'spectral_radius': 0.5, 'leaking_rate': 0.1, 'input_scaling': 1.0, 'bias_scaling': 0.0, 'sparsity': 0.99, 'activation_function': 'relu', 'alpha': 1.0}, 'accuracy': [57.79816436767578], 'time': [0.7954370388761163]}\n"
     ]
    },
    {
     "name": "stderr",
     "output_type": "stream",
     "text": [
      "Some weights of the model checkpoint at bert-base-uncased were not used when initializing BertModel: ['cls.predictions.bias', 'cls.predictions.transform.dense.weight', 'cls.predictions.transform.LayerNorm.weight', 'cls.seq_relationship.weight', 'cls.predictions.decoder.weight', 'cls.seq_relationship.bias', 'cls.predictions.transform.dense.bias', 'cls.predictions.transform.LayerNorm.bias']\n",
      "- This IS expected if you are initializing BertModel from the checkpoint of a model trained on another task or with another architecture (e.g. initializing a BertForSequenceClassification model from a BertForPreTraining model).\n",
      "- This IS NOT expected if you are initializing BertModel from the checkpoint of a model that you expect to be exactly identical (initializing a BertForSequenceClassification model from a BertForSequenceClassification model).\n"
     ]
    },
    {
     "name": "stdout",
     "output_type": "stream",
     "text": [
      "Model downloaded: bert-base-uncased\n",
      "training time: 0.7815007166936994\n",
      "accuracy: 60.091739654541016\n",
      "{'params': {'reservoir_dim': 1000, 'spectral_radius': 0.5, 'leaking_rate': 0.1, 'input_scaling': 1.0, 'bias_scaling': 0.0, 'sparsity': 0.99, 'activation_function': 'relu', 'alpha': 1.0}, 'accuracy': [57.79816436767578, 60.091739654541016], 'time': [0.7954370388761163, 0.7815007166936994]}\n"
     ]
    },
    {
     "name": "stderr",
     "output_type": "stream",
     "text": [
      "Some weights of the model checkpoint at bert-base-uncased were not used when initializing BertModel: ['cls.predictions.bias', 'cls.predictions.transform.dense.weight', 'cls.predictions.transform.LayerNorm.weight', 'cls.seq_relationship.weight', 'cls.predictions.decoder.weight', 'cls.seq_relationship.bias', 'cls.predictions.transform.dense.bias', 'cls.predictions.transform.LayerNorm.bias']\n",
      "- This IS expected if you are initializing BertModel from the checkpoint of a model trained on another task or with another architecture (e.g. initializing a BertForSequenceClassification model from a BertForPreTraining model).\n",
      "- This IS NOT expected if you are initializing BertModel from the checkpoint of a model that you expect to be exactly identical (initializing a BertForSequenceClassification model from a BertForSequenceClassification model).\n"
     ]
    },
    {
     "name": "stdout",
     "output_type": "stream",
     "text": [
      "Model downloaded: bert-base-uncased\n",
      "training time: 0.7110813651233912\n",
      "accuracy: 60.55045700073242\n",
      "{'params': {'reservoir_dim': 1000, 'spectral_radius': 0.5, 'leaking_rate': 0.1, 'input_scaling': 1.0, 'bias_scaling': 0.0, 'sparsity': 0.99, 'activation_function': 'relu', 'alpha': 1.0}, 'accuracy': [57.79816436767578, 60.091739654541016, 60.55045700073242], 'time': [0.7954370388761163, 0.7815007166936994, 0.7110813651233912]}\n"
     ]
    },
    {
     "name": "stderr",
     "output_type": "stream",
     "text": [
      "Some weights of the model checkpoint at bert-base-uncased were not used when initializing BertModel: ['cls.predictions.bias', 'cls.predictions.transform.dense.weight', 'cls.predictions.transform.LayerNorm.weight', 'cls.seq_relationship.weight', 'cls.predictions.decoder.weight', 'cls.seq_relationship.bias', 'cls.predictions.transform.dense.bias', 'cls.predictions.transform.LayerNorm.bias']\n",
      "- This IS expected if you are initializing BertModel from the checkpoint of a model trained on another task or with another architecture (e.g. initializing a BertForSequenceClassification model from a BertForPreTraining model).\n",
      "- This IS NOT expected if you are initializing BertModel from the checkpoint of a model that you expect to be exactly identical (initializing a BertForSequenceClassification model from a BertForSequenceClassification model).\n"
     ]
    },
    {
     "name": "stdout",
     "output_type": "stream",
     "text": [
      "Model downloaded: bert-base-uncased\n",
      "training time: 0.7330715972930193\n",
      "accuracy: 61.46788787841797\n",
      "{'params': {'reservoir_dim': 1000, 'spectral_radius': 0.5, 'leaking_rate': 0.1, 'input_scaling': 1.0, 'bias_scaling': 0.0, 'sparsity': 0.99, 'activation_function': 'relu', 'alpha': 1.0}, 'accuracy': [57.79816436767578, 60.091739654541016, 60.55045700073242, 61.46788787841797], 'time': [0.7954370388761163, 0.7815007166936994, 0.7110813651233912, 0.7330715972930193]}\n"
     ]
    },
    {
     "name": "stderr",
     "output_type": "stream",
     "text": [
      "Some weights of the model checkpoint at bert-base-uncased were not used when initializing BertModel: ['cls.predictions.bias', 'cls.predictions.transform.dense.weight', 'cls.predictions.transform.LayerNorm.weight', 'cls.seq_relationship.weight', 'cls.predictions.decoder.weight', 'cls.seq_relationship.bias', 'cls.predictions.transform.dense.bias', 'cls.predictions.transform.LayerNorm.bias']\n",
      "- This IS expected if you are initializing BertModel from the checkpoint of a model trained on another task or with another architecture (e.g. initializing a BertForSequenceClassification model from a BertForPreTraining model).\n",
      "- This IS NOT expected if you are initializing BertModel from the checkpoint of a model that you expect to be exactly identical (initializing a BertForSequenceClassification model from a BertForSequenceClassification model).\n"
     ]
    },
    {
     "name": "stdout",
     "output_type": "stream",
     "text": [
      "Model downloaded: bert-base-uncased\n",
      "training time: 0.7423525480553508\n",
      "accuracy: 60.091739654541016\n",
      "{'params': {'reservoir_dim': 1000, 'spectral_radius': 0.5, 'leaking_rate': 0.1, 'input_scaling': 1.0, 'bias_scaling': 0.0, 'sparsity': 0.99, 'activation_function': 'relu', 'alpha': 1.0}, 'accuracy': [57.79816436767578, 60.091739654541016, 60.55045700073242, 61.46788787841797, 60.091739654541016], 'time': [0.7954370388761163, 0.7815007166936994, 0.7110813651233912, 0.7330715972930193, 0.7423525480553508]}\n"
     ]
    },
    {
     "data": {
      "application/vnd.jupyter.widget-view+json": {
       "model_id": "88dcfd68aa244b1f88bd67b543c17bee",
       "version_major": 2,
       "version_minor": 0
      },
      "text/plain": [
       "  0%|          | 0/5 [00:00<?, ?it/s]"
      ]
     },
     "metadata": {},
     "output_type": "display_data"
    },
    {
     "name": "stderr",
     "output_type": "stream",
     "text": [
      "Some weights of the model checkpoint at bert-base-uncased were not used when initializing BertModel: ['cls.predictions.bias', 'cls.predictions.transform.dense.weight', 'cls.predictions.transform.LayerNorm.weight', 'cls.seq_relationship.weight', 'cls.predictions.decoder.weight', 'cls.seq_relationship.bias', 'cls.predictions.transform.dense.bias', 'cls.predictions.transform.LayerNorm.bias']\n",
      "- This IS expected if you are initializing BertModel from the checkpoint of a model trained on another task or with another architecture (e.g. initializing a BertForSequenceClassification model from a BertForPreTraining model).\n",
      "- This IS NOT expected if you are initializing BertModel from the checkpoint of a model that you expect to be exactly identical (initializing a BertForSequenceClassification model from a BertForSequenceClassification model).\n"
     ]
    },
    {
     "name": "stdout",
     "output_type": "stream",
     "text": [
      "Model downloaded: bert-base-uncased\n",
      "training time: 0.7908410225063562\n",
      "accuracy: 72.47705841064453\n",
      "{'params': {'reservoir_dim': 1000, 'spectral_radius': 0.5, 'leaking_rate': 0.1, 'input_scaling': 1.0, 'bias_scaling': 0.0, 'sparsity': 0.99, 'activation_function': 'relu', 'alpha': 10.0}, 'accuracy': [72.47705841064453], 'time': [0.7908410225063562]}\n"
     ]
    },
    {
     "name": "stderr",
     "output_type": "stream",
     "text": [
      "Some weights of the model checkpoint at bert-base-uncased were not used when initializing BertModel: ['cls.predictions.bias', 'cls.predictions.transform.dense.weight', 'cls.predictions.transform.LayerNorm.weight', 'cls.seq_relationship.weight', 'cls.predictions.decoder.weight', 'cls.seq_relationship.bias', 'cls.predictions.transform.dense.bias', 'cls.predictions.transform.LayerNorm.bias']\n",
      "- This IS expected if you are initializing BertModel from the checkpoint of a model trained on another task or with another architecture (e.g. initializing a BertForSequenceClassification model from a BertForPreTraining model).\n",
      "- This IS NOT expected if you are initializing BertModel from the checkpoint of a model that you expect to be exactly identical (initializing a BertForSequenceClassification model from a BertForSequenceClassification model).\n"
     ]
    },
    {
     "name": "stdout",
     "output_type": "stream",
     "text": [
      "Model downloaded: bert-base-uncased\n",
      "training time: 0.7458233740180731\n",
      "accuracy: 73.39449310302734\n",
      "{'params': {'reservoir_dim': 1000, 'spectral_radius': 0.5, 'leaking_rate': 0.1, 'input_scaling': 1.0, 'bias_scaling': 0.0, 'sparsity': 0.99, 'activation_function': 'relu', 'alpha': 10.0}, 'accuracy': [72.47705841064453, 73.39449310302734], 'time': [0.7908410225063562, 0.7458233740180731]}\n"
     ]
    },
    {
     "name": "stderr",
     "output_type": "stream",
     "text": [
      "Some weights of the model checkpoint at bert-base-uncased were not used when initializing BertModel: ['cls.predictions.bias', 'cls.predictions.transform.dense.weight', 'cls.predictions.transform.LayerNorm.weight', 'cls.seq_relationship.weight', 'cls.predictions.decoder.weight', 'cls.seq_relationship.bias', 'cls.predictions.transform.dense.bias', 'cls.predictions.transform.LayerNorm.bias']\n",
      "- This IS expected if you are initializing BertModel from the checkpoint of a model trained on another task or with another architecture (e.g. initializing a BertForSequenceClassification model from a BertForPreTraining model).\n",
      "- This IS NOT expected if you are initializing BertModel from the checkpoint of a model that you expect to be exactly identical (initializing a BertForSequenceClassification model from a BertForSequenceClassification model).\n"
     ]
    },
    {
     "name": "stdout",
     "output_type": "stream",
     "text": [
      "Model downloaded: bert-base-uncased\n",
      "training time: 0.7970334533601999\n",
      "accuracy: 73.39449310302734\n",
      "{'params': {'reservoir_dim': 1000, 'spectral_radius': 0.5, 'leaking_rate': 0.1, 'input_scaling': 1.0, 'bias_scaling': 0.0, 'sparsity': 0.99, 'activation_function': 'relu', 'alpha': 10.0}, 'accuracy': [72.47705841064453, 73.39449310302734, 73.39449310302734], 'time': [0.7908410225063562, 0.7458233740180731, 0.7970334533601999]}\n"
     ]
    },
    {
     "name": "stderr",
     "output_type": "stream",
     "text": [
      "Some weights of the model checkpoint at bert-base-uncased were not used when initializing BertModel: ['cls.predictions.bias', 'cls.predictions.transform.dense.weight', 'cls.predictions.transform.LayerNorm.weight', 'cls.seq_relationship.weight', 'cls.predictions.decoder.weight', 'cls.seq_relationship.bias', 'cls.predictions.transform.dense.bias', 'cls.predictions.transform.LayerNorm.bias']\n",
      "- This IS expected if you are initializing BertModel from the checkpoint of a model trained on another task or with another architecture (e.g. initializing a BertForSequenceClassification model from a BertForPreTraining model).\n",
      "- This IS NOT expected if you are initializing BertModel from the checkpoint of a model that you expect to be exactly identical (initializing a BertForSequenceClassification model from a BertForSequenceClassification model).\n"
     ]
    },
    {
     "name": "stdout",
     "output_type": "stream",
     "text": [
      "Model downloaded: bert-base-uncased\n",
      "training time: 0.757041553966701\n",
      "accuracy: 73.39449310302734\n",
      "{'params': {'reservoir_dim': 1000, 'spectral_radius': 0.5, 'leaking_rate': 0.1, 'input_scaling': 1.0, 'bias_scaling': 0.0, 'sparsity': 0.99, 'activation_function': 'relu', 'alpha': 10.0}, 'accuracy': [72.47705841064453, 73.39449310302734, 73.39449310302734, 73.39449310302734], 'time': [0.7908410225063562, 0.7458233740180731, 0.7970334533601999, 0.757041553966701]}\n"
     ]
    },
    {
     "name": "stderr",
     "output_type": "stream",
     "text": [
      "Some weights of the model checkpoint at bert-base-uncased were not used when initializing BertModel: ['cls.predictions.bias', 'cls.predictions.transform.dense.weight', 'cls.predictions.transform.LayerNorm.weight', 'cls.seq_relationship.weight', 'cls.predictions.decoder.weight', 'cls.seq_relationship.bias', 'cls.predictions.transform.dense.bias', 'cls.predictions.transform.LayerNorm.bias']\n",
      "- This IS expected if you are initializing BertModel from the checkpoint of a model trained on another task or with another architecture (e.g. initializing a BertForSequenceClassification model from a BertForPreTraining model).\n",
      "- This IS NOT expected if you are initializing BertModel from the checkpoint of a model that you expect to be exactly identical (initializing a BertForSequenceClassification model from a BertForSequenceClassification model).\n"
     ]
    },
    {
     "name": "stdout",
     "output_type": "stream",
     "text": [
      "Model downloaded: bert-base-uncased\n",
      "training time: 0.6957942908629775\n",
      "accuracy: 77.06421661376953\n",
      "{'params': {'reservoir_dim': 1000, 'spectral_radius': 0.5, 'leaking_rate': 0.1, 'input_scaling': 1.0, 'bias_scaling': 0.0, 'sparsity': 0.99, 'activation_function': 'relu', 'alpha': 10.0}, 'accuracy': [72.47705841064453, 73.39449310302734, 73.39449310302734, 73.39449310302734, 77.06421661376953], 'time': [0.7908410225063562, 0.7458233740180731, 0.7970334533601999, 0.757041553966701, 0.6957942908629775]}\n"
     ]
    },
    {
     "data": {
      "application/vnd.jupyter.widget-view+json": {
       "model_id": "ca58c4b9f47041c0a30f6ee5e190df80",
       "version_major": 2,
       "version_minor": 0
      },
      "text/plain": [
       "  0%|          | 0/5 [00:00<?, ?it/s]"
      ]
     },
     "metadata": {},
     "output_type": "display_data"
    },
    {
     "name": "stderr",
     "output_type": "stream",
     "text": [
      "Some weights of the model checkpoint at bert-base-uncased were not used when initializing BertModel: ['cls.predictions.bias', 'cls.predictions.transform.dense.weight', 'cls.predictions.transform.LayerNorm.weight', 'cls.seq_relationship.weight', 'cls.predictions.decoder.weight', 'cls.seq_relationship.bias', 'cls.predictions.transform.dense.bias', 'cls.predictions.transform.LayerNorm.bias']\n",
      "- This IS expected if you are initializing BertModel from the checkpoint of a model trained on another task or with another architecture (e.g. initializing a BertForSequenceClassification model from a BertForPreTraining model).\n",
      "- This IS NOT expected if you are initializing BertModel from the checkpoint of a model that you expect to be exactly identical (initializing a BertForSequenceClassification model from a BertForSequenceClassification model).\n"
     ]
    },
    {
     "name": "stdout",
     "output_type": "stream",
     "text": [
      "Model downloaded: bert-base-uncased\n",
      "training time: 0.7711579138413072\n",
      "accuracy: 58.71559524536133\n",
      "{'params': {'reservoir_dim': 1000, 'spectral_radius': 0.5, 'leaking_rate': 0.5, 'input_scaling': 0.1, 'bias_scaling': 0.0, 'sparsity': 0.0, 'activation_function': 'relu', 'alpha': 0.1}, 'accuracy': [58.71559524536133], 'time': [0.7711579138413072]}\n"
     ]
    },
    {
     "name": "stderr",
     "output_type": "stream",
     "text": [
      "Some weights of the model checkpoint at bert-base-uncased were not used when initializing BertModel: ['cls.predictions.bias', 'cls.predictions.transform.dense.weight', 'cls.predictions.transform.LayerNorm.weight', 'cls.seq_relationship.weight', 'cls.predictions.decoder.weight', 'cls.seq_relationship.bias', 'cls.predictions.transform.dense.bias', 'cls.predictions.transform.LayerNorm.bias']\n",
      "- This IS expected if you are initializing BertModel from the checkpoint of a model trained on another task or with another architecture (e.g. initializing a BertForSequenceClassification model from a BertForPreTraining model).\n",
      "- This IS NOT expected if you are initializing BertModel from the checkpoint of a model that you expect to be exactly identical (initializing a BertForSequenceClassification model from a BertForSequenceClassification model).\n"
     ]
    },
    {
     "name": "stdout",
     "output_type": "stream",
     "text": [
      "Model downloaded: bert-base-uncased\n",
      "training time: 0.7440908867865801\n",
      "accuracy: 62.844032287597656\n",
      "{'params': {'reservoir_dim': 1000, 'spectral_radius': 0.5, 'leaking_rate': 0.5, 'input_scaling': 0.1, 'bias_scaling': 0.0, 'sparsity': 0.0, 'activation_function': 'relu', 'alpha': 0.1}, 'accuracy': [58.71559524536133, 62.844032287597656], 'time': [0.7711579138413072, 0.7440908867865801]}\n"
     ]
    },
    {
     "name": "stderr",
     "output_type": "stream",
     "text": [
      "Some weights of the model checkpoint at bert-base-uncased were not used when initializing BertModel: ['cls.predictions.bias', 'cls.predictions.transform.dense.weight', 'cls.predictions.transform.LayerNorm.weight', 'cls.seq_relationship.weight', 'cls.predictions.decoder.weight', 'cls.seq_relationship.bias', 'cls.predictions.transform.dense.bias', 'cls.predictions.transform.LayerNorm.bias']\n",
      "- This IS expected if you are initializing BertModel from the checkpoint of a model trained on another task or with another architecture (e.g. initializing a BertForSequenceClassification model from a BertForPreTraining model).\n",
      "- This IS NOT expected if you are initializing BertModel from the checkpoint of a model that you expect to be exactly identical (initializing a BertForSequenceClassification model from a BertForSequenceClassification model).\n"
     ]
    },
    {
     "name": "stdout",
     "output_type": "stream",
     "text": [
      "Model downloaded: bert-base-uncased\n",
      "training time: 0.7186960503458977\n",
      "accuracy: 57.79816436767578\n",
      "{'params': {'reservoir_dim': 1000, 'spectral_radius': 0.5, 'leaking_rate': 0.5, 'input_scaling': 0.1, 'bias_scaling': 0.0, 'sparsity': 0.0, 'activation_function': 'relu', 'alpha': 0.1}, 'accuracy': [58.71559524536133, 62.844032287597656, 57.79816436767578], 'time': [0.7711579138413072, 0.7440908867865801, 0.7186960503458977]}\n"
     ]
    },
    {
     "name": "stderr",
     "output_type": "stream",
     "text": [
      "Some weights of the model checkpoint at bert-base-uncased were not used when initializing BertModel: ['cls.predictions.bias', 'cls.predictions.transform.dense.weight', 'cls.predictions.transform.LayerNorm.weight', 'cls.seq_relationship.weight', 'cls.predictions.decoder.weight', 'cls.seq_relationship.bias', 'cls.predictions.transform.dense.bias', 'cls.predictions.transform.LayerNorm.bias']\n",
      "- This IS expected if you are initializing BertModel from the checkpoint of a model trained on another task or with another architecture (e.g. initializing a BertForSequenceClassification model from a BertForPreTraining model).\n",
      "- This IS NOT expected if you are initializing BertModel from the checkpoint of a model that you expect to be exactly identical (initializing a BertForSequenceClassification model from a BertForSequenceClassification model).\n"
     ]
    },
    {
     "name": "stdout",
     "output_type": "stream",
     "text": [
      "Model downloaded: bert-base-uncased\n",
      "training time: 0.6869473084807396\n",
      "accuracy: 59.633026123046875\n",
      "{'params': {'reservoir_dim': 1000, 'spectral_radius': 0.5, 'leaking_rate': 0.5, 'input_scaling': 0.1, 'bias_scaling': 0.0, 'sparsity': 0.0, 'activation_function': 'relu', 'alpha': 0.1}, 'accuracy': [58.71559524536133, 62.844032287597656, 57.79816436767578, 59.633026123046875], 'time': [0.7711579138413072, 0.7440908867865801, 0.7186960503458977, 0.6869473084807396]}\n"
     ]
    },
    {
     "name": "stderr",
     "output_type": "stream",
     "text": [
      "Some weights of the model checkpoint at bert-base-uncased were not used when initializing BertModel: ['cls.predictions.bias', 'cls.predictions.transform.dense.weight', 'cls.predictions.transform.LayerNorm.weight', 'cls.seq_relationship.weight', 'cls.predictions.decoder.weight', 'cls.seq_relationship.bias', 'cls.predictions.transform.dense.bias', 'cls.predictions.transform.LayerNorm.bias']\n",
      "- This IS expected if you are initializing BertModel from the checkpoint of a model trained on another task or with another architecture (e.g. initializing a BertForSequenceClassification model from a BertForPreTraining model).\n",
      "- This IS NOT expected if you are initializing BertModel from the checkpoint of a model that you expect to be exactly identical (initializing a BertForSequenceClassification model from a BertForSequenceClassification model).\n"
     ]
    },
    {
     "name": "stdout",
     "output_type": "stream",
     "text": [
      "Model downloaded: bert-base-uncased\n",
      "training time: 0.7704929169267416\n",
      "accuracy: 61.00917053222656\n",
      "{'params': {'reservoir_dim': 1000, 'spectral_radius': 0.5, 'leaking_rate': 0.5, 'input_scaling': 0.1, 'bias_scaling': 0.0, 'sparsity': 0.0, 'activation_function': 'relu', 'alpha': 0.1}, 'accuracy': [58.71559524536133, 62.844032287597656, 57.79816436767578, 59.633026123046875, 61.00917053222656], 'time': [0.7711579138413072, 0.7440908867865801, 0.7186960503458977, 0.6869473084807396, 0.7704929169267416]}\n"
     ]
    },
    {
     "data": {
      "application/vnd.jupyter.widget-view+json": {
       "model_id": "b1151815039f46f5b8b964a4b45b6a7d",
       "version_major": 2,
       "version_minor": 0
      },
      "text/plain": [
       "  0%|          | 0/5 [00:00<?, ?it/s]"
      ]
     },
     "metadata": {},
     "output_type": "display_data"
    },
    {
     "name": "stderr",
     "output_type": "stream",
     "text": [
      "Some weights of the model checkpoint at bert-base-uncased were not used when initializing BertModel: ['cls.predictions.bias', 'cls.predictions.transform.dense.weight', 'cls.predictions.transform.LayerNorm.weight', 'cls.seq_relationship.weight', 'cls.predictions.decoder.weight', 'cls.seq_relationship.bias', 'cls.predictions.transform.dense.bias', 'cls.predictions.transform.LayerNorm.bias']\n",
      "- This IS expected if you are initializing BertModel from the checkpoint of a model trained on another task or with another architecture (e.g. initializing a BertForSequenceClassification model from a BertForPreTraining model).\n",
      "- This IS NOT expected if you are initializing BertModel from the checkpoint of a model that you expect to be exactly identical (initializing a BertForSequenceClassification model from a BertForSequenceClassification model).\n"
     ]
    },
    {
     "name": "stdout",
     "output_type": "stream",
     "text": [
      "Model downloaded: bert-base-uncased\n",
      "training time: 0.778518121689558\n",
      "accuracy: 69.72476959228516\n",
      "{'params': {'reservoir_dim': 1000, 'spectral_radius': 0.5, 'leaking_rate': 0.5, 'input_scaling': 0.1, 'bias_scaling': 0.0, 'sparsity': 0.0, 'activation_function': 'relu', 'alpha': 1.0}, 'accuracy': [69.72476959228516], 'time': [0.778518121689558]}\n"
     ]
    },
    {
     "name": "stderr",
     "output_type": "stream",
     "text": [
      "Some weights of the model checkpoint at bert-base-uncased were not used when initializing BertModel: ['cls.predictions.bias', 'cls.predictions.transform.dense.weight', 'cls.predictions.transform.LayerNorm.weight', 'cls.seq_relationship.weight', 'cls.predictions.decoder.weight', 'cls.seq_relationship.bias', 'cls.predictions.transform.dense.bias', 'cls.predictions.transform.LayerNorm.bias']\n",
      "- This IS expected if you are initializing BertModel from the checkpoint of a model trained on another task or with another architecture (e.g. initializing a BertForSequenceClassification model from a BertForPreTraining model).\n",
      "- This IS NOT expected if you are initializing BertModel from the checkpoint of a model that you expect to be exactly identical (initializing a BertForSequenceClassification model from a BertForSequenceClassification model).\n"
     ]
    },
    {
     "name": "stdout",
     "output_type": "stream",
     "text": [
      "Model downloaded: bert-base-uncased\n",
      "training time: 0.8003261014819145\n",
      "accuracy: 70.64219665527344\n",
      "{'params': {'reservoir_dim': 1000, 'spectral_radius': 0.5, 'leaking_rate': 0.5, 'input_scaling': 0.1, 'bias_scaling': 0.0, 'sparsity': 0.0, 'activation_function': 'relu', 'alpha': 1.0}, 'accuracy': [69.72476959228516, 70.64219665527344], 'time': [0.778518121689558, 0.8003261014819145]}\n"
     ]
    },
    {
     "name": "stderr",
     "output_type": "stream",
     "text": [
      "Some weights of the model checkpoint at bert-base-uncased were not used when initializing BertModel: ['cls.predictions.bias', 'cls.predictions.transform.dense.weight', 'cls.predictions.transform.LayerNorm.weight', 'cls.seq_relationship.weight', 'cls.predictions.decoder.weight', 'cls.seq_relationship.bias', 'cls.predictions.transform.dense.bias', 'cls.predictions.transform.LayerNorm.bias']\n",
      "- This IS expected if you are initializing BertModel from the checkpoint of a model trained on another task or with another architecture (e.g. initializing a BertForSequenceClassification model from a BertForPreTraining model).\n",
      "- This IS NOT expected if you are initializing BertModel from the checkpoint of a model that you expect to be exactly identical (initializing a BertForSequenceClassification model from a BertForSequenceClassification model).\n"
     ]
    },
    {
     "name": "stdout",
     "output_type": "stream",
     "text": [
      "Model downloaded: bert-base-uncased\n",
      "training time: 0.7287426413968205\n",
      "accuracy: 72.01834869384766\n",
      "{'params': {'reservoir_dim': 1000, 'spectral_radius': 0.5, 'leaking_rate': 0.5, 'input_scaling': 0.1, 'bias_scaling': 0.0, 'sparsity': 0.0, 'activation_function': 'relu', 'alpha': 1.0}, 'accuracy': [69.72476959228516, 70.64219665527344, 72.01834869384766], 'time': [0.778518121689558, 0.8003261014819145, 0.7287426413968205]}\n"
     ]
    },
    {
     "name": "stderr",
     "output_type": "stream",
     "text": [
      "Some weights of the model checkpoint at bert-base-uncased were not used when initializing BertModel: ['cls.predictions.bias', 'cls.predictions.transform.dense.weight', 'cls.predictions.transform.LayerNorm.weight', 'cls.seq_relationship.weight', 'cls.predictions.decoder.weight', 'cls.seq_relationship.bias', 'cls.predictions.transform.dense.bias', 'cls.predictions.transform.LayerNorm.bias']\n",
      "- This IS expected if you are initializing BertModel from the checkpoint of a model trained on another task or with another architecture (e.g. initializing a BertForSequenceClassification model from a BertForPreTraining model).\n",
      "- This IS NOT expected if you are initializing BertModel from the checkpoint of a model that you expect to be exactly identical (initializing a BertForSequenceClassification model from a BertForSequenceClassification model).\n"
     ]
    },
    {
     "name": "stdout",
     "output_type": "stream",
     "text": [
      "Model downloaded: bert-base-uncased\n",
      "training time: 0.7752078380435705\n",
      "accuracy: 73.85321044921875\n",
      "{'params': {'reservoir_dim': 1000, 'spectral_radius': 0.5, 'leaking_rate': 0.5, 'input_scaling': 0.1, 'bias_scaling': 0.0, 'sparsity': 0.0, 'activation_function': 'relu', 'alpha': 1.0}, 'accuracy': [69.72476959228516, 70.64219665527344, 72.01834869384766, 73.85321044921875], 'time': [0.778518121689558, 0.8003261014819145, 0.7287426413968205, 0.7752078380435705]}\n"
     ]
    },
    {
     "name": "stderr",
     "output_type": "stream",
     "text": [
      "Some weights of the model checkpoint at bert-base-uncased were not used when initializing BertModel: ['cls.predictions.bias', 'cls.predictions.transform.dense.weight', 'cls.predictions.transform.LayerNorm.weight', 'cls.seq_relationship.weight', 'cls.predictions.decoder.weight', 'cls.seq_relationship.bias', 'cls.predictions.transform.dense.bias', 'cls.predictions.transform.LayerNorm.bias']\n",
      "- This IS expected if you are initializing BertModel from the checkpoint of a model trained on another task or with another architecture (e.g. initializing a BertForSequenceClassification model from a BertForPreTraining model).\n",
      "- This IS NOT expected if you are initializing BertModel from the checkpoint of a model that you expect to be exactly identical (initializing a BertForSequenceClassification model from a BertForSequenceClassification model).\n"
     ]
    },
    {
     "name": "stdout",
     "output_type": "stream",
     "text": [
      "Model downloaded: bert-base-uncased\n",
      "training time: 0.7041712114587426\n",
      "accuracy: 73.39449310302734\n",
      "{'params': {'reservoir_dim': 1000, 'spectral_radius': 0.5, 'leaking_rate': 0.5, 'input_scaling': 0.1, 'bias_scaling': 0.0, 'sparsity': 0.0, 'activation_function': 'relu', 'alpha': 1.0}, 'accuracy': [69.72476959228516, 70.64219665527344, 72.01834869384766, 73.85321044921875, 73.39449310302734], 'time': [0.778518121689558, 0.8003261014819145, 0.7287426413968205, 0.7752078380435705, 0.7041712114587426]}\n"
     ]
    },
    {
     "data": {
      "application/vnd.jupyter.widget-view+json": {
       "model_id": "f46fd3d24ba441a4b967ccb5e7870cf4",
       "version_major": 2,
       "version_minor": 0
      },
      "text/plain": [
       "  0%|          | 0/5 [00:00<?, ?it/s]"
      ]
     },
     "metadata": {},
     "output_type": "display_data"
    },
    {
     "name": "stderr",
     "output_type": "stream",
     "text": [
      "Some weights of the model checkpoint at bert-base-uncased were not used when initializing BertModel: ['cls.predictions.bias', 'cls.predictions.transform.dense.weight', 'cls.predictions.transform.LayerNorm.weight', 'cls.seq_relationship.weight', 'cls.predictions.decoder.weight', 'cls.seq_relationship.bias', 'cls.predictions.transform.dense.bias', 'cls.predictions.transform.LayerNorm.bias']\n",
      "- This IS expected if you are initializing BertModel from the checkpoint of a model trained on another task or with another architecture (e.g. initializing a BertForSequenceClassification model from a BertForPreTraining model).\n",
      "- This IS NOT expected if you are initializing BertModel from the checkpoint of a model that you expect to be exactly identical (initializing a BertForSequenceClassification model from a BertForSequenceClassification model).\n"
     ]
    },
    {
     "name": "stdout",
     "output_type": "stream",
     "text": [
      "Model downloaded: bert-base-uncased\n",
      "training time: 0.8058241177350283\n",
      "accuracy: 76.60549926757812\n",
      "{'params': {'reservoir_dim': 1000, 'spectral_radius': 0.5, 'leaking_rate': 0.5, 'input_scaling': 0.1, 'bias_scaling': 0.0, 'sparsity': 0.0, 'activation_function': 'relu', 'alpha': 10.0}, 'accuracy': [76.60549926757812], 'time': [0.8058241177350283]}\n"
     ]
    },
    {
     "name": "stderr",
     "output_type": "stream",
     "text": [
      "Some weights of the model checkpoint at bert-base-uncased were not used when initializing BertModel: ['cls.predictions.bias', 'cls.predictions.transform.dense.weight', 'cls.predictions.transform.LayerNorm.weight', 'cls.seq_relationship.weight', 'cls.predictions.decoder.weight', 'cls.seq_relationship.bias', 'cls.predictions.transform.dense.bias', 'cls.predictions.transform.LayerNorm.bias']\n",
      "- This IS expected if you are initializing BertModel from the checkpoint of a model trained on another task or with another architecture (e.g. initializing a BertForSequenceClassification model from a BertForPreTraining model).\n",
      "- This IS NOT expected if you are initializing BertModel from the checkpoint of a model that you expect to be exactly identical (initializing a BertForSequenceClassification model from a BertForSequenceClassification model).\n"
     ]
    },
    {
     "name": "stdout",
     "output_type": "stream",
     "text": [
      "Model downloaded: bert-base-uncased\n",
      "training time: 0.8542102817445993\n",
      "accuracy: 76.60549926757812\n",
      "{'params': {'reservoir_dim': 1000, 'spectral_radius': 0.5, 'leaking_rate': 0.5, 'input_scaling': 0.1, 'bias_scaling': 0.0, 'sparsity': 0.0, 'activation_function': 'relu', 'alpha': 10.0}, 'accuracy': [76.60549926757812, 76.60549926757812], 'time': [0.8058241177350283, 0.8542102817445993]}\n"
     ]
    },
    {
     "name": "stderr",
     "output_type": "stream",
     "text": [
      "Some weights of the model checkpoint at bert-base-uncased were not used when initializing BertModel: ['cls.predictions.bias', 'cls.predictions.transform.dense.weight', 'cls.predictions.transform.LayerNorm.weight', 'cls.seq_relationship.weight', 'cls.predictions.decoder.weight', 'cls.seq_relationship.bias', 'cls.predictions.transform.dense.bias', 'cls.predictions.transform.LayerNorm.bias']\n",
      "- This IS expected if you are initializing BertModel from the checkpoint of a model trained on another task or with another architecture (e.g. initializing a BertForSequenceClassification model from a BertForPreTraining model).\n",
      "- This IS NOT expected if you are initializing BertModel from the checkpoint of a model that you expect to be exactly identical (initializing a BertForSequenceClassification model from a BertForSequenceClassification model).\n"
     ]
    },
    {
     "name": "stdout",
     "output_type": "stream",
     "text": [
      "Model downloaded: bert-base-uncased\n",
      "training time: 0.6955093592405319\n",
      "accuracy: 77.98165130615234\n",
      "{'params': {'reservoir_dim': 1000, 'spectral_radius': 0.5, 'leaking_rate': 0.5, 'input_scaling': 0.1, 'bias_scaling': 0.0, 'sparsity': 0.0, 'activation_function': 'relu', 'alpha': 10.0}, 'accuracy': [76.60549926757812, 76.60549926757812, 77.98165130615234], 'time': [0.8058241177350283, 0.8542102817445993, 0.6955093592405319]}\n"
     ]
    },
    {
     "name": "stderr",
     "output_type": "stream",
     "text": [
      "Some weights of the model checkpoint at bert-base-uncased were not used when initializing BertModel: ['cls.predictions.bias', 'cls.predictions.transform.dense.weight', 'cls.predictions.transform.LayerNorm.weight', 'cls.seq_relationship.weight', 'cls.predictions.decoder.weight', 'cls.seq_relationship.bias', 'cls.predictions.transform.dense.bias', 'cls.predictions.transform.LayerNorm.bias']\n",
      "- This IS expected if you are initializing BertModel from the checkpoint of a model trained on another task or with another architecture (e.g. initializing a BertForSequenceClassification model from a BertForPreTraining model).\n",
      "- This IS NOT expected if you are initializing BertModel from the checkpoint of a model that you expect to be exactly identical (initializing a BertForSequenceClassification model from a BertForSequenceClassification model).\n"
     ]
    },
    {
     "name": "stdout",
     "output_type": "stream",
     "text": [
      "Model downloaded: bert-base-uncased\n",
      "training time: 0.7124064732342958\n",
      "accuracy: 78.44036102294922\n",
      "{'params': {'reservoir_dim': 1000, 'spectral_radius': 0.5, 'leaking_rate': 0.5, 'input_scaling': 0.1, 'bias_scaling': 0.0, 'sparsity': 0.0, 'activation_function': 'relu', 'alpha': 10.0}, 'accuracy': [76.60549926757812, 76.60549926757812, 77.98165130615234, 78.44036102294922], 'time': [0.8058241177350283, 0.8542102817445993, 0.6955093592405319, 0.7124064732342958]}\n"
     ]
    },
    {
     "name": "stderr",
     "output_type": "stream",
     "text": [
      "Some weights of the model checkpoint at bert-base-uncased were not used when initializing BertModel: ['cls.predictions.bias', 'cls.predictions.transform.dense.weight', 'cls.predictions.transform.LayerNorm.weight', 'cls.seq_relationship.weight', 'cls.predictions.decoder.weight', 'cls.seq_relationship.bias', 'cls.predictions.transform.dense.bias', 'cls.predictions.transform.LayerNorm.bias']\n",
      "- This IS expected if you are initializing BertModel from the checkpoint of a model trained on another task or with another architecture (e.g. initializing a BertForSequenceClassification model from a BertForPreTraining model).\n",
      "- This IS NOT expected if you are initializing BertModel from the checkpoint of a model that you expect to be exactly identical (initializing a BertForSequenceClassification model from a BertForSequenceClassification model).\n"
     ]
    },
    {
     "name": "stdout",
     "output_type": "stream",
     "text": [
      "Model downloaded: bert-base-uncased\n",
      "training time: 0.7425152882933617\n",
      "accuracy: 78.89907836914062\n",
      "{'params': {'reservoir_dim': 1000, 'spectral_radius': 0.5, 'leaking_rate': 0.5, 'input_scaling': 0.1, 'bias_scaling': 0.0, 'sparsity': 0.0, 'activation_function': 'relu', 'alpha': 10.0}, 'accuracy': [76.60549926757812, 76.60549926757812, 77.98165130615234, 78.44036102294922, 78.89907836914062], 'time': [0.8058241177350283, 0.8542102817445993, 0.6955093592405319, 0.7124064732342958, 0.7425152882933617]}\n"
     ]
    },
    {
     "data": {
      "application/vnd.jupyter.widget-view+json": {
       "model_id": "a0fcf969004c4d8db8d7c0a2f57e1637",
       "version_major": 2,
       "version_minor": 0
      },
      "text/plain": [
       "  0%|          | 0/5 [00:00<?, ?it/s]"
      ]
     },
     "metadata": {},
     "output_type": "display_data"
    },
    {
     "name": "stderr",
     "output_type": "stream",
     "text": [
      "Some weights of the model checkpoint at bert-base-uncased were not used when initializing BertModel: ['cls.predictions.bias', 'cls.predictions.transform.dense.weight', 'cls.predictions.transform.LayerNorm.weight', 'cls.seq_relationship.weight', 'cls.predictions.decoder.weight', 'cls.seq_relationship.bias', 'cls.predictions.transform.dense.bias', 'cls.predictions.transform.LayerNorm.bias']\n",
      "- This IS expected if you are initializing BertModel from the checkpoint of a model trained on another task or with another architecture (e.g. initializing a BertForSequenceClassification model from a BertForPreTraining model).\n",
      "- This IS NOT expected if you are initializing BertModel from the checkpoint of a model that you expect to be exactly identical (initializing a BertForSequenceClassification model from a BertForSequenceClassification model).\n"
     ]
    },
    {
     "name": "stdout",
     "output_type": "stream",
     "text": [
      "Model downloaded: bert-base-uncased\n",
      "training time: 0.7127053458243608\n",
      "accuracy: 61.92660140991211\n",
      "{'params': {'reservoir_dim': 1000, 'spectral_radius': 0.5, 'leaking_rate': 0.5, 'input_scaling': 0.1, 'bias_scaling': 0.0, 'sparsity': 0.99, 'activation_function': 'relu', 'alpha': 0.1}, 'accuracy': [61.92660140991211], 'time': [0.7127053458243608]}\n"
     ]
    },
    {
     "name": "stderr",
     "output_type": "stream",
     "text": [
      "Some weights of the model checkpoint at bert-base-uncased were not used when initializing BertModel: ['cls.predictions.bias', 'cls.predictions.transform.dense.weight', 'cls.predictions.transform.LayerNorm.weight', 'cls.seq_relationship.weight', 'cls.predictions.decoder.weight', 'cls.seq_relationship.bias', 'cls.predictions.transform.dense.bias', 'cls.predictions.transform.LayerNorm.bias']\n",
      "- This IS expected if you are initializing BertModel from the checkpoint of a model trained on another task or with another architecture (e.g. initializing a BertForSequenceClassification model from a BertForPreTraining model).\n",
      "- This IS NOT expected if you are initializing BertModel from the checkpoint of a model that you expect to be exactly identical (initializing a BertForSequenceClassification model from a BertForSequenceClassification model).\n"
     ]
    },
    {
     "name": "stdout",
     "output_type": "stream",
     "text": [
      "Model downloaded: bert-base-uncased\n",
      "training time: 0.7284755995497108\n",
      "accuracy: 63.76146697998047\n",
      "{'params': {'reservoir_dim': 1000, 'spectral_radius': 0.5, 'leaking_rate': 0.5, 'input_scaling': 0.1, 'bias_scaling': 0.0, 'sparsity': 0.99, 'activation_function': 'relu', 'alpha': 0.1}, 'accuracy': [61.92660140991211, 63.76146697998047], 'time': [0.7127053458243608, 0.7284755995497108]}\n"
     ]
    },
    {
     "name": "stderr",
     "output_type": "stream",
     "text": [
      "Some weights of the model checkpoint at bert-base-uncased were not used when initializing BertModel: ['cls.predictions.bias', 'cls.predictions.transform.dense.weight', 'cls.predictions.transform.LayerNorm.weight', 'cls.seq_relationship.weight', 'cls.predictions.decoder.weight', 'cls.seq_relationship.bias', 'cls.predictions.transform.dense.bias', 'cls.predictions.transform.LayerNorm.bias']\n",
      "- This IS expected if you are initializing BertModel from the checkpoint of a model trained on another task or with another architecture (e.g. initializing a BertForSequenceClassification model from a BertForPreTraining model).\n",
      "- This IS NOT expected if you are initializing BertModel from the checkpoint of a model that you expect to be exactly identical (initializing a BertForSequenceClassification model from a BertForSequenceClassification model).\n"
     ]
    },
    {
     "name": "stdout",
     "output_type": "stream",
     "text": [
      "Model downloaded: bert-base-uncased\n",
      "training time: 0.8209880972281098\n",
      "accuracy: 60.55045700073242\n",
      "{'params': {'reservoir_dim': 1000, 'spectral_radius': 0.5, 'leaking_rate': 0.5, 'input_scaling': 0.1, 'bias_scaling': 0.0, 'sparsity': 0.99, 'activation_function': 'relu', 'alpha': 0.1}, 'accuracy': [61.92660140991211, 63.76146697998047, 60.55045700073242], 'time': [0.7127053458243608, 0.7284755995497108, 0.8209880972281098]}\n"
     ]
    },
    {
     "name": "stderr",
     "output_type": "stream",
     "text": [
      "Some weights of the model checkpoint at bert-base-uncased were not used when initializing BertModel: ['cls.predictions.bias', 'cls.predictions.transform.dense.weight', 'cls.predictions.transform.LayerNorm.weight', 'cls.seq_relationship.weight', 'cls.predictions.decoder.weight', 'cls.seq_relationship.bias', 'cls.predictions.transform.dense.bias', 'cls.predictions.transform.LayerNorm.bias']\n",
      "- This IS expected if you are initializing BertModel from the checkpoint of a model trained on another task or with another architecture (e.g. initializing a BertForSequenceClassification model from a BertForPreTraining model).\n",
      "- This IS NOT expected if you are initializing BertModel from the checkpoint of a model that you expect to be exactly identical (initializing a BertForSequenceClassification model from a BertForSequenceClassification model).\n"
     ]
    },
    {
     "name": "stdout",
     "output_type": "stream",
     "text": [
      "Model downloaded: bert-base-uncased\n",
      "training time: 0.7283199755474925\n",
      "accuracy: 61.46788787841797\n",
      "{'params': {'reservoir_dim': 1000, 'spectral_radius': 0.5, 'leaking_rate': 0.5, 'input_scaling': 0.1, 'bias_scaling': 0.0, 'sparsity': 0.99, 'activation_function': 'relu', 'alpha': 0.1}, 'accuracy': [61.92660140991211, 63.76146697998047, 60.55045700073242, 61.46788787841797], 'time': [0.7127053458243608, 0.7284755995497108, 0.8209880972281098, 0.7283199755474925]}\n"
     ]
    },
    {
     "name": "stderr",
     "output_type": "stream",
     "text": [
      "Some weights of the model checkpoint at bert-base-uncased were not used when initializing BertModel: ['cls.predictions.bias', 'cls.predictions.transform.dense.weight', 'cls.predictions.transform.LayerNorm.weight', 'cls.seq_relationship.weight', 'cls.predictions.decoder.weight', 'cls.seq_relationship.bias', 'cls.predictions.transform.dense.bias', 'cls.predictions.transform.LayerNorm.bias']\n",
      "- This IS expected if you are initializing BertModel from the checkpoint of a model trained on another task or with another architecture (e.g. initializing a BertForSequenceClassification model from a BertForPreTraining model).\n",
      "- This IS NOT expected if you are initializing BertModel from the checkpoint of a model that you expect to be exactly identical (initializing a BertForSequenceClassification model from a BertForSequenceClassification model).\n"
     ]
    },
    {
     "name": "stdout",
     "output_type": "stream",
     "text": [
      "Model downloaded: bert-base-uncased\n",
      "training time: 0.7525957627221942\n",
      "accuracy: 61.46788787841797\n",
      "{'params': {'reservoir_dim': 1000, 'spectral_radius': 0.5, 'leaking_rate': 0.5, 'input_scaling': 0.1, 'bias_scaling': 0.0, 'sparsity': 0.99, 'activation_function': 'relu', 'alpha': 0.1}, 'accuracy': [61.92660140991211, 63.76146697998047, 60.55045700073242, 61.46788787841797, 61.46788787841797], 'time': [0.7127053458243608, 0.7284755995497108, 0.8209880972281098, 0.7283199755474925, 0.7525957627221942]}\n"
     ]
    },
    {
     "data": {
      "application/vnd.jupyter.widget-view+json": {
       "model_id": "27bd0accd58b42978931d43361cb43ce",
       "version_major": 2,
       "version_minor": 0
      },
      "text/plain": [
       "  0%|          | 0/5 [00:00<?, ?it/s]"
      ]
     },
     "metadata": {},
     "output_type": "display_data"
    },
    {
     "name": "stderr",
     "output_type": "stream",
     "text": [
      "Some weights of the model checkpoint at bert-base-uncased were not used when initializing BertModel: ['cls.predictions.bias', 'cls.predictions.transform.dense.weight', 'cls.predictions.transform.LayerNorm.weight', 'cls.seq_relationship.weight', 'cls.predictions.decoder.weight', 'cls.seq_relationship.bias', 'cls.predictions.transform.dense.bias', 'cls.predictions.transform.LayerNorm.bias']\n",
      "- This IS expected if you are initializing BertModel from the checkpoint of a model trained on another task or with another architecture (e.g. initializing a BertForSequenceClassification model from a BertForPreTraining model).\n",
      "- This IS NOT expected if you are initializing BertModel from the checkpoint of a model that you expect to be exactly identical (initializing a BertForSequenceClassification model from a BertForSequenceClassification model).\n"
     ]
    },
    {
     "name": "stdout",
     "output_type": "stream",
     "text": [
      "Model downloaded: bert-base-uncased\n",
      "training time: 0.7059010611847043\n",
      "accuracy: 74.77063751220703\n",
      "{'params': {'reservoir_dim': 1000, 'spectral_radius': 0.5, 'leaking_rate': 0.5, 'input_scaling': 0.1, 'bias_scaling': 0.0, 'sparsity': 0.99, 'activation_function': 'relu', 'alpha': 1.0}, 'accuracy': [74.77063751220703], 'time': [0.7059010611847043]}\n"
     ]
    },
    {
     "name": "stderr",
     "output_type": "stream",
     "text": [
      "Some weights of the model checkpoint at bert-base-uncased were not used when initializing BertModel: ['cls.predictions.bias', 'cls.predictions.transform.dense.weight', 'cls.predictions.transform.LayerNorm.weight', 'cls.seq_relationship.weight', 'cls.predictions.decoder.weight', 'cls.seq_relationship.bias', 'cls.predictions.transform.dense.bias', 'cls.predictions.transform.LayerNorm.bias']\n",
      "- This IS expected if you are initializing BertModel from the checkpoint of a model trained on another task or with another architecture (e.g. initializing a BertForSequenceClassification model from a BertForPreTraining model).\n",
      "- This IS NOT expected if you are initializing BertModel from the checkpoint of a model that you expect to be exactly identical (initializing a BertForSequenceClassification model from a BertForSequenceClassification model).\n"
     ]
    },
    {
     "name": "stdout",
     "output_type": "stream",
     "text": [
      "Model downloaded: bert-base-uncased\n",
      "training time: 0.8111081393435597\n",
      "accuracy: 73.85321044921875\n",
      "{'params': {'reservoir_dim': 1000, 'spectral_radius': 0.5, 'leaking_rate': 0.5, 'input_scaling': 0.1, 'bias_scaling': 0.0, 'sparsity': 0.99, 'activation_function': 'relu', 'alpha': 1.0}, 'accuracy': [74.77063751220703, 73.85321044921875], 'time': [0.7059010611847043, 0.8111081393435597]}\n"
     ]
    },
    {
     "name": "stderr",
     "output_type": "stream",
     "text": [
      "Some weights of the model checkpoint at bert-base-uncased were not used when initializing BertModel: ['cls.predictions.bias', 'cls.predictions.transform.dense.weight', 'cls.predictions.transform.LayerNorm.weight', 'cls.seq_relationship.weight', 'cls.predictions.decoder.weight', 'cls.seq_relationship.bias', 'cls.predictions.transform.dense.bias', 'cls.predictions.transform.LayerNorm.bias']\n",
      "- This IS expected if you are initializing BertModel from the checkpoint of a model trained on another task or with another architecture (e.g. initializing a BertForSequenceClassification model from a BertForPreTraining model).\n",
      "- This IS NOT expected if you are initializing BertModel from the checkpoint of a model that you expect to be exactly identical (initializing a BertForSequenceClassification model from a BertForSequenceClassification model).\n"
     ]
    },
    {
     "name": "stdout",
     "output_type": "stream",
     "text": [
      "Model downloaded: bert-base-uncased\n",
      "training time: 0.8058845493942499\n",
      "accuracy: 72.93577575683594\n",
      "{'params': {'reservoir_dim': 1000, 'spectral_radius': 0.5, 'leaking_rate': 0.5, 'input_scaling': 0.1, 'bias_scaling': 0.0, 'sparsity': 0.99, 'activation_function': 'relu', 'alpha': 1.0}, 'accuracy': [74.77063751220703, 73.85321044921875, 72.93577575683594], 'time': [0.7059010611847043, 0.8111081393435597, 0.8058845493942499]}\n"
     ]
    },
    {
     "name": "stderr",
     "output_type": "stream",
     "text": [
      "Some weights of the model checkpoint at bert-base-uncased were not used when initializing BertModel: ['cls.predictions.bias', 'cls.predictions.transform.dense.weight', 'cls.predictions.transform.LayerNorm.weight', 'cls.seq_relationship.weight', 'cls.predictions.decoder.weight', 'cls.seq_relationship.bias', 'cls.predictions.transform.dense.bias', 'cls.predictions.transform.LayerNorm.bias']\n",
      "- This IS expected if you are initializing BertModel from the checkpoint of a model trained on another task or with another architecture (e.g. initializing a BertForSequenceClassification model from a BertForPreTraining model).\n",
      "- This IS NOT expected if you are initializing BertModel from the checkpoint of a model that you expect to be exactly identical (initializing a BertForSequenceClassification model from a BertForSequenceClassification model).\n"
     ]
    },
    {
     "name": "stdout",
     "output_type": "stream",
     "text": [
      "Model downloaded: bert-base-uncased\n",
      "training time: 0.7680352795869112\n",
      "accuracy: 73.85321044921875\n",
      "{'params': {'reservoir_dim': 1000, 'spectral_radius': 0.5, 'leaking_rate': 0.5, 'input_scaling': 0.1, 'bias_scaling': 0.0, 'sparsity': 0.99, 'activation_function': 'relu', 'alpha': 1.0}, 'accuracy': [74.77063751220703, 73.85321044921875, 72.93577575683594, 73.85321044921875], 'time': [0.7059010611847043, 0.8111081393435597, 0.8058845493942499, 0.7680352795869112]}\n"
     ]
    },
    {
     "name": "stderr",
     "output_type": "stream",
     "text": [
      "Some weights of the model checkpoint at bert-base-uncased were not used when initializing BertModel: ['cls.predictions.bias', 'cls.predictions.transform.dense.weight', 'cls.predictions.transform.LayerNorm.weight', 'cls.seq_relationship.weight', 'cls.predictions.decoder.weight', 'cls.seq_relationship.bias', 'cls.predictions.transform.dense.bias', 'cls.predictions.transform.LayerNorm.bias']\n",
      "- This IS expected if you are initializing BertModel from the checkpoint of a model trained on another task or with another architecture (e.g. initializing a BertForSequenceClassification model from a BertForPreTraining model).\n",
      "- This IS NOT expected if you are initializing BertModel from the checkpoint of a model that you expect to be exactly identical (initializing a BertForSequenceClassification model from a BertForSequenceClassification model).\n"
     ]
    },
    {
     "name": "stdout",
     "output_type": "stream",
     "text": [
      "Model downloaded: bert-base-uncased\n",
      "training time: 0.7551282374188304\n",
      "accuracy: 72.93577575683594\n",
      "{'params': {'reservoir_dim': 1000, 'spectral_radius': 0.5, 'leaking_rate': 0.5, 'input_scaling': 0.1, 'bias_scaling': 0.0, 'sparsity': 0.99, 'activation_function': 'relu', 'alpha': 1.0}, 'accuracy': [74.77063751220703, 73.85321044921875, 72.93577575683594, 73.85321044921875, 72.93577575683594], 'time': [0.7059010611847043, 0.8111081393435597, 0.8058845493942499, 0.7680352795869112, 0.7551282374188304]}\n"
     ]
    },
    {
     "data": {
      "application/vnd.jupyter.widget-view+json": {
       "model_id": "e4c0480298ce4f2bad6366a2ec3bd475",
       "version_major": 2,
       "version_minor": 0
      },
      "text/plain": [
       "  0%|          | 0/5 [00:00<?, ?it/s]"
      ]
     },
     "metadata": {},
     "output_type": "display_data"
    },
    {
     "name": "stderr",
     "output_type": "stream",
     "text": [
      "Some weights of the model checkpoint at bert-base-uncased were not used when initializing BertModel: ['cls.predictions.bias', 'cls.predictions.transform.dense.weight', 'cls.predictions.transform.LayerNorm.weight', 'cls.seq_relationship.weight', 'cls.predictions.decoder.weight', 'cls.seq_relationship.bias', 'cls.predictions.transform.dense.bias', 'cls.predictions.transform.LayerNorm.bias']\n",
      "- This IS expected if you are initializing BertModel from the checkpoint of a model trained on another task or with another architecture (e.g. initializing a BertForSequenceClassification model from a BertForPreTraining model).\n",
      "- This IS NOT expected if you are initializing BertModel from the checkpoint of a model that you expect to be exactly identical (initializing a BertForSequenceClassification model from a BertForSequenceClassification model).\n"
     ]
    },
    {
     "name": "stdout",
     "output_type": "stream",
     "text": [
      "Model downloaded: bert-base-uncased\n",
      "training time: 0.7956925500184298\n",
      "accuracy: 76.14678192138672\n",
      "{'params': {'reservoir_dim': 1000, 'spectral_radius': 0.5, 'leaking_rate': 0.5, 'input_scaling': 0.1, 'bias_scaling': 0.0, 'sparsity': 0.99, 'activation_function': 'relu', 'alpha': 10.0}, 'accuracy': [76.14678192138672], 'time': [0.7956925500184298]}\n"
     ]
    },
    {
     "name": "stderr",
     "output_type": "stream",
     "text": [
      "Some weights of the model checkpoint at bert-base-uncased were not used when initializing BertModel: ['cls.predictions.bias', 'cls.predictions.transform.dense.weight', 'cls.predictions.transform.LayerNorm.weight', 'cls.seq_relationship.weight', 'cls.predictions.decoder.weight', 'cls.seq_relationship.bias', 'cls.predictions.transform.dense.bias', 'cls.predictions.transform.LayerNorm.bias']\n",
      "- This IS expected if you are initializing BertModel from the checkpoint of a model trained on another task or with another architecture (e.g. initializing a BertForSequenceClassification model from a BertForPreTraining model).\n",
      "- This IS NOT expected if you are initializing BertModel from the checkpoint of a model that you expect to be exactly identical (initializing a BertForSequenceClassification model from a BertForSequenceClassification model).\n"
     ]
    },
    {
     "name": "stdout",
     "output_type": "stream",
     "text": [
      "Model downloaded: bert-base-uncased\n",
      "training time: 0.7378737116232514\n",
      "accuracy: 77.52293395996094\n",
      "{'params': {'reservoir_dim': 1000, 'spectral_radius': 0.5, 'leaking_rate': 0.5, 'input_scaling': 0.1, 'bias_scaling': 0.0, 'sparsity': 0.99, 'activation_function': 'relu', 'alpha': 10.0}, 'accuracy': [76.14678192138672, 77.52293395996094], 'time': [0.7956925500184298, 0.7378737116232514]}\n"
     ]
    },
    {
     "name": "stderr",
     "output_type": "stream",
     "text": [
      "Some weights of the model checkpoint at bert-base-uncased were not used when initializing BertModel: ['cls.predictions.bias', 'cls.predictions.transform.dense.weight', 'cls.predictions.transform.LayerNorm.weight', 'cls.seq_relationship.weight', 'cls.predictions.decoder.weight', 'cls.seq_relationship.bias', 'cls.predictions.transform.dense.bias', 'cls.predictions.transform.LayerNorm.bias']\n",
      "- This IS expected if you are initializing BertModel from the checkpoint of a model trained on another task or with another architecture (e.g. initializing a BertForSequenceClassification model from a BertForPreTraining model).\n",
      "- This IS NOT expected if you are initializing BertModel from the checkpoint of a model that you expect to be exactly identical (initializing a BertForSequenceClassification model from a BertForSequenceClassification model).\n"
     ]
    },
    {
     "name": "stdout",
     "output_type": "stream",
     "text": [
      "Model downloaded: bert-base-uncased\n",
      "training time: 0.7626197682693601\n",
      "accuracy: 79.81651306152344\n",
      "{'params': {'reservoir_dim': 1000, 'spectral_radius': 0.5, 'leaking_rate': 0.5, 'input_scaling': 0.1, 'bias_scaling': 0.0, 'sparsity': 0.99, 'activation_function': 'relu', 'alpha': 10.0}, 'accuracy': [76.14678192138672, 77.52293395996094, 79.81651306152344], 'time': [0.7956925500184298, 0.7378737116232514, 0.7626197682693601]}\n"
     ]
    },
    {
     "name": "stderr",
     "output_type": "stream",
     "text": [
      "Some weights of the model checkpoint at bert-base-uncased were not used when initializing BertModel: ['cls.predictions.bias', 'cls.predictions.transform.dense.weight', 'cls.predictions.transform.LayerNorm.weight', 'cls.seq_relationship.weight', 'cls.predictions.decoder.weight', 'cls.seq_relationship.bias', 'cls.predictions.transform.dense.bias', 'cls.predictions.transform.LayerNorm.bias']\n",
      "- This IS expected if you are initializing BertModel from the checkpoint of a model trained on another task or with another architecture (e.g. initializing a BertForSequenceClassification model from a BertForPreTraining model).\n",
      "- This IS NOT expected if you are initializing BertModel from the checkpoint of a model that you expect to be exactly identical (initializing a BertForSequenceClassification model from a BertForSequenceClassification model).\n"
     ]
    },
    {
     "name": "stdout",
     "output_type": "stream",
     "text": [
      "Model downloaded: bert-base-uncased\n",
      "training time: 0.7142642550170422\n",
      "accuracy: 78.89907836914062\n",
      "{'params': {'reservoir_dim': 1000, 'spectral_radius': 0.5, 'leaking_rate': 0.5, 'input_scaling': 0.1, 'bias_scaling': 0.0, 'sparsity': 0.99, 'activation_function': 'relu', 'alpha': 10.0}, 'accuracy': [76.14678192138672, 77.52293395996094, 79.81651306152344, 78.89907836914062], 'time': [0.7956925500184298, 0.7378737116232514, 0.7626197682693601, 0.7142642550170422]}\n"
     ]
    },
    {
     "name": "stderr",
     "output_type": "stream",
     "text": [
      "Some weights of the model checkpoint at bert-base-uncased were not used when initializing BertModel: ['cls.predictions.bias', 'cls.predictions.transform.dense.weight', 'cls.predictions.transform.LayerNorm.weight', 'cls.seq_relationship.weight', 'cls.predictions.decoder.weight', 'cls.seq_relationship.bias', 'cls.predictions.transform.dense.bias', 'cls.predictions.transform.LayerNorm.bias']\n",
      "- This IS expected if you are initializing BertModel from the checkpoint of a model trained on another task or with another architecture (e.g. initializing a BertForSequenceClassification model from a BertForPreTraining model).\n",
      "- This IS NOT expected if you are initializing BertModel from the checkpoint of a model that you expect to be exactly identical (initializing a BertForSequenceClassification model from a BertForSequenceClassification model).\n"
     ]
    },
    {
     "name": "stdout",
     "output_type": "stream",
     "text": [
      "Model downloaded: bert-base-uncased\n",
      "training time: 0.7259165998548269\n",
      "accuracy: 79.35779571533203\n",
      "{'params': {'reservoir_dim': 1000, 'spectral_radius': 0.5, 'leaking_rate': 0.5, 'input_scaling': 0.1, 'bias_scaling': 0.0, 'sparsity': 0.99, 'activation_function': 'relu', 'alpha': 10.0}, 'accuracy': [76.14678192138672, 77.52293395996094, 79.81651306152344, 78.89907836914062, 79.35779571533203], 'time': [0.7956925500184298, 0.7378737116232514, 0.7626197682693601, 0.7142642550170422, 0.7259165998548269]}\n"
     ]
    },
    {
     "data": {
      "application/vnd.jupyter.widget-view+json": {
       "model_id": "939f313a802b465c96d3437696ef9b95",
       "version_major": 2,
       "version_minor": 0
      },
      "text/plain": [
       "  0%|          | 0/5 [00:00<?, ?it/s]"
      ]
     },
     "metadata": {},
     "output_type": "display_data"
    },
    {
     "name": "stderr",
     "output_type": "stream",
     "text": [
      "Some weights of the model checkpoint at bert-base-uncased were not used when initializing BertModel: ['cls.predictions.bias', 'cls.predictions.transform.dense.weight', 'cls.predictions.transform.LayerNorm.weight', 'cls.seq_relationship.weight', 'cls.predictions.decoder.weight', 'cls.seq_relationship.bias', 'cls.predictions.transform.dense.bias', 'cls.predictions.transform.LayerNorm.bias']\n",
      "- This IS expected if you are initializing BertModel from the checkpoint of a model trained on another task or with another architecture (e.g. initializing a BertForSequenceClassification model from a BertForPreTraining model).\n",
      "- This IS NOT expected if you are initializing BertModel from the checkpoint of a model that you expect to be exactly identical (initializing a BertForSequenceClassification model from a BertForSequenceClassification model).\n"
     ]
    },
    {
     "name": "stdout",
     "output_type": "stream",
     "text": [
      "Model downloaded: bert-base-uncased\n",
      "training time: 0.71222959831357\n",
      "accuracy: 30.27522850036621\n",
      "{'params': {'reservoir_dim': 1000, 'spectral_radius': 0.5, 'leaking_rate': 0.5, 'input_scaling': 1.0, 'bias_scaling': 0.0, 'sparsity': 0.0, 'activation_function': 'relu', 'alpha': 0.1}, 'accuracy': [30.27522850036621], 'time': [0.71222959831357]}\n"
     ]
    },
    {
     "name": "stderr",
     "output_type": "stream",
     "text": [
      "Some weights of the model checkpoint at bert-base-uncased were not used when initializing BertModel: ['cls.predictions.bias', 'cls.predictions.transform.dense.weight', 'cls.predictions.transform.LayerNorm.weight', 'cls.seq_relationship.weight', 'cls.predictions.decoder.weight', 'cls.seq_relationship.bias', 'cls.predictions.transform.dense.bias', 'cls.predictions.transform.LayerNorm.bias']\n",
      "- This IS expected if you are initializing BertModel from the checkpoint of a model trained on another task or with another architecture (e.g. initializing a BertForSequenceClassification model from a BertForPreTraining model).\n",
      "- This IS NOT expected if you are initializing BertModel from the checkpoint of a model that you expect to be exactly identical (initializing a BertForSequenceClassification model from a BertForSequenceClassification model).\n"
     ]
    },
    {
     "name": "stdout",
     "output_type": "stream",
     "text": [
      "Model downloaded: bert-base-uncased\n",
      "training time: 0.7256820490583777\n",
      "accuracy: 29.357797622680664\n",
      "{'params': {'reservoir_dim': 1000, 'spectral_radius': 0.5, 'leaking_rate': 0.5, 'input_scaling': 1.0, 'bias_scaling': 0.0, 'sparsity': 0.0, 'activation_function': 'relu', 'alpha': 0.1}, 'accuracy': [30.27522850036621, 29.357797622680664], 'time': [0.71222959831357, 0.7256820490583777]}\n"
     ]
    },
    {
     "name": "stderr",
     "output_type": "stream",
     "text": [
      "Some weights of the model checkpoint at bert-base-uncased were not used when initializing BertModel: ['cls.predictions.bias', 'cls.predictions.transform.dense.weight', 'cls.predictions.transform.LayerNorm.weight', 'cls.seq_relationship.weight', 'cls.predictions.decoder.weight', 'cls.seq_relationship.bias', 'cls.predictions.transform.dense.bias', 'cls.predictions.transform.LayerNorm.bias']\n",
      "- This IS expected if you are initializing BertModel from the checkpoint of a model trained on another task or with another architecture (e.g. initializing a BertForSequenceClassification model from a BertForPreTraining model).\n",
      "- This IS NOT expected if you are initializing BertModel from the checkpoint of a model that you expect to be exactly identical (initializing a BertForSequenceClassification model from a BertForSequenceClassification model).\n"
     ]
    },
    {
     "name": "stdout",
     "output_type": "stream",
     "text": [
      "Model downloaded: bert-base-uncased\n",
      "training time: 0.7032060669735074\n",
      "accuracy: 33.027523040771484\n",
      "{'params': {'reservoir_dim': 1000, 'spectral_radius': 0.5, 'leaking_rate': 0.5, 'input_scaling': 1.0, 'bias_scaling': 0.0, 'sparsity': 0.0, 'activation_function': 'relu', 'alpha': 0.1}, 'accuracy': [30.27522850036621, 29.357797622680664, 33.027523040771484], 'time': [0.71222959831357, 0.7256820490583777, 0.7032060669735074]}\n"
     ]
    },
    {
     "name": "stderr",
     "output_type": "stream",
     "text": [
      "Some weights of the model checkpoint at bert-base-uncased were not used when initializing BertModel: ['cls.predictions.bias', 'cls.predictions.transform.dense.weight', 'cls.predictions.transform.LayerNorm.weight', 'cls.seq_relationship.weight', 'cls.predictions.decoder.weight', 'cls.seq_relationship.bias', 'cls.predictions.transform.dense.bias', 'cls.predictions.transform.LayerNorm.bias']\n",
      "- This IS expected if you are initializing BertModel from the checkpoint of a model trained on another task or with another architecture (e.g. initializing a BertForSequenceClassification model from a BertForPreTraining model).\n",
      "- This IS NOT expected if you are initializing BertModel from the checkpoint of a model that you expect to be exactly identical (initializing a BertForSequenceClassification model from a BertForSequenceClassification model).\n"
     ]
    },
    {
     "name": "stdout",
     "output_type": "stream",
     "text": [
      "Model downloaded: bert-base-uncased\n",
      "training time: 0.8660600492730737\n",
      "accuracy: 23.85321044921875\n",
      "{'params': {'reservoir_dim': 1000, 'spectral_radius': 0.5, 'leaking_rate': 0.5, 'input_scaling': 1.0, 'bias_scaling': 0.0, 'sparsity': 0.0, 'activation_function': 'relu', 'alpha': 0.1}, 'accuracy': [30.27522850036621, 29.357797622680664, 33.027523040771484, 23.85321044921875], 'time': [0.71222959831357, 0.7256820490583777, 0.7032060669735074, 0.8660600492730737]}\n"
     ]
    },
    {
     "name": "stderr",
     "output_type": "stream",
     "text": [
      "Some weights of the model checkpoint at bert-base-uncased were not used when initializing BertModel: ['cls.predictions.bias', 'cls.predictions.transform.dense.weight', 'cls.predictions.transform.LayerNorm.weight', 'cls.seq_relationship.weight', 'cls.predictions.decoder.weight', 'cls.seq_relationship.bias', 'cls.predictions.transform.dense.bias', 'cls.predictions.transform.LayerNorm.bias']\n",
      "- This IS expected if you are initializing BertModel from the checkpoint of a model trained on another task or with another architecture (e.g. initializing a BertForSequenceClassification model from a BertForPreTraining model).\n",
      "- This IS NOT expected if you are initializing BertModel from the checkpoint of a model that you expect to be exactly identical (initializing a BertForSequenceClassification model from a BertForSequenceClassification model).\n"
     ]
    },
    {
     "name": "stdout",
     "output_type": "stream",
     "text": [
      "Model downloaded: bert-base-uncased\n",
      "training time: 0.7863375758752227\n",
      "accuracy: 25.688072204589844\n",
      "{'params': {'reservoir_dim': 1000, 'spectral_radius': 0.5, 'leaking_rate': 0.5, 'input_scaling': 1.0, 'bias_scaling': 0.0, 'sparsity': 0.0, 'activation_function': 'relu', 'alpha': 0.1}, 'accuracy': [30.27522850036621, 29.357797622680664, 33.027523040771484, 23.85321044921875, 25.688072204589844], 'time': [0.71222959831357, 0.7256820490583777, 0.7032060669735074, 0.8660600492730737, 0.7863375758752227]}\n"
     ]
    },
    {
     "data": {
      "application/vnd.jupyter.widget-view+json": {
       "model_id": "b1a3eb8169c4499787c85ea40b8ac02f",
       "version_major": 2,
       "version_minor": 0
      },
      "text/plain": [
       "  0%|          | 0/5 [00:00<?, ?it/s]"
      ]
     },
     "metadata": {},
     "output_type": "display_data"
    },
    {
     "name": "stderr",
     "output_type": "stream",
     "text": [
      "Some weights of the model checkpoint at bert-base-uncased were not used when initializing BertModel: ['cls.predictions.bias', 'cls.predictions.transform.dense.weight', 'cls.predictions.transform.LayerNorm.weight', 'cls.seq_relationship.weight', 'cls.predictions.decoder.weight', 'cls.seq_relationship.bias', 'cls.predictions.transform.dense.bias', 'cls.predictions.transform.LayerNorm.bias']\n",
      "- This IS expected if you are initializing BertModel from the checkpoint of a model trained on another task or with another architecture (e.g. initializing a BertForSequenceClassification model from a BertForPreTraining model).\n",
      "- This IS NOT expected if you are initializing BertModel from the checkpoint of a model that you expect to be exactly identical (initializing a BertForSequenceClassification model from a BertForSequenceClassification model).\n"
     ]
    },
    {
     "name": "stdout",
     "output_type": "stream",
     "text": [
      "Model downloaded: bert-base-uncased\n",
      "training time: 0.778264912776649\n",
      "accuracy: 50.91743087768555\n",
      "{'params': {'reservoir_dim': 1000, 'spectral_radius': 0.5, 'leaking_rate': 0.5, 'input_scaling': 1.0, 'bias_scaling': 0.0, 'sparsity': 0.0, 'activation_function': 'relu', 'alpha': 1.0}, 'accuracy': [50.91743087768555], 'time': [0.778264912776649]}\n"
     ]
    },
    {
     "name": "stderr",
     "output_type": "stream",
     "text": [
      "Some weights of the model checkpoint at bert-base-uncased were not used when initializing BertModel: ['cls.predictions.bias', 'cls.predictions.transform.dense.weight', 'cls.predictions.transform.LayerNorm.weight', 'cls.seq_relationship.weight', 'cls.predictions.decoder.weight', 'cls.seq_relationship.bias', 'cls.predictions.transform.dense.bias', 'cls.predictions.transform.LayerNorm.bias']\n",
      "- This IS expected if you are initializing BertModel from the checkpoint of a model trained on another task or with another architecture (e.g. initializing a BertForSequenceClassification model from a BertForPreTraining model).\n",
      "- This IS NOT expected if you are initializing BertModel from the checkpoint of a model that you expect to be exactly identical (initializing a BertForSequenceClassification model from a BertForSequenceClassification model).\n"
     ]
    },
    {
     "name": "stdout",
     "output_type": "stream",
     "text": [
      "Model downloaded: bert-base-uncased\n",
      "training time: 0.7349380124360323\n",
      "accuracy: 49.541282653808594\n",
      "{'params': {'reservoir_dim': 1000, 'spectral_radius': 0.5, 'leaking_rate': 0.5, 'input_scaling': 1.0, 'bias_scaling': 0.0, 'sparsity': 0.0, 'activation_function': 'relu', 'alpha': 1.0}, 'accuracy': [50.91743087768555, 49.541282653808594], 'time': [0.778264912776649, 0.7349380124360323]}\n"
     ]
    },
    {
     "name": "stderr",
     "output_type": "stream",
     "text": [
      "Some weights of the model checkpoint at bert-base-uncased were not used when initializing BertModel: ['cls.predictions.bias', 'cls.predictions.transform.dense.weight', 'cls.predictions.transform.LayerNorm.weight', 'cls.seq_relationship.weight', 'cls.predictions.decoder.weight', 'cls.seq_relationship.bias', 'cls.predictions.transform.dense.bias', 'cls.predictions.transform.LayerNorm.bias']\n",
      "- This IS expected if you are initializing BertModel from the checkpoint of a model trained on another task or with another architecture (e.g. initializing a BertForSequenceClassification model from a BertForPreTraining model).\n",
      "- This IS NOT expected if you are initializing BertModel from the checkpoint of a model that you expect to be exactly identical (initializing a BertForSequenceClassification model from a BertForSequenceClassification model).\n"
     ]
    },
    {
     "name": "stdout",
     "output_type": "stream",
     "text": [
      "Model downloaded: bert-base-uncased\n",
      "training time: 0.804237793199718\n",
      "accuracy: 47.247703552246094\n",
      "{'params': {'reservoir_dim': 1000, 'spectral_radius': 0.5, 'leaking_rate': 0.5, 'input_scaling': 1.0, 'bias_scaling': 0.0, 'sparsity': 0.0, 'activation_function': 'relu', 'alpha': 1.0}, 'accuracy': [50.91743087768555, 49.541282653808594, 47.247703552246094], 'time': [0.778264912776649, 0.7349380124360323, 0.804237793199718]}\n"
     ]
    },
    {
     "name": "stderr",
     "output_type": "stream",
     "text": [
      "Some weights of the model checkpoint at bert-base-uncased were not used when initializing BertModel: ['cls.predictions.bias', 'cls.predictions.transform.dense.weight', 'cls.predictions.transform.LayerNorm.weight', 'cls.seq_relationship.weight', 'cls.predictions.decoder.weight', 'cls.seq_relationship.bias', 'cls.predictions.transform.dense.bias', 'cls.predictions.transform.LayerNorm.bias']\n",
      "- This IS expected if you are initializing BertModel from the checkpoint of a model trained on another task or with another architecture (e.g. initializing a BertForSequenceClassification model from a BertForPreTraining model).\n",
      "- This IS NOT expected if you are initializing BertModel from the checkpoint of a model that you expect to be exactly identical (initializing a BertForSequenceClassification model from a BertForSequenceClassification model).\n"
     ]
    },
    {
     "name": "stdout",
     "output_type": "stream",
     "text": [
      "Model downloaded: bert-base-uncased\n",
      "training time: 0.6961575970053673\n",
      "accuracy: 44.03669357299805\n",
      "{'params': {'reservoir_dim': 1000, 'spectral_radius': 0.5, 'leaking_rate': 0.5, 'input_scaling': 1.0, 'bias_scaling': 0.0, 'sparsity': 0.0, 'activation_function': 'relu', 'alpha': 1.0}, 'accuracy': [50.91743087768555, 49.541282653808594, 47.247703552246094, 44.03669357299805], 'time': [0.778264912776649, 0.7349380124360323, 0.804237793199718, 0.6961575970053673]}\n"
     ]
    },
    {
     "name": "stderr",
     "output_type": "stream",
     "text": [
      "Some weights of the model checkpoint at bert-base-uncased were not used when initializing BertModel: ['cls.predictions.bias', 'cls.predictions.transform.dense.weight', 'cls.predictions.transform.LayerNorm.weight', 'cls.seq_relationship.weight', 'cls.predictions.decoder.weight', 'cls.seq_relationship.bias', 'cls.predictions.transform.dense.bias', 'cls.predictions.transform.LayerNorm.bias']\n",
      "- This IS expected if you are initializing BertModel from the checkpoint of a model trained on another task or with another architecture (e.g. initializing a BertForSequenceClassification model from a BertForPreTraining model).\n",
      "- This IS NOT expected if you are initializing BertModel from the checkpoint of a model that you expect to be exactly identical (initializing a BertForSequenceClassification model from a BertForSequenceClassification model).\n"
     ]
    },
    {
     "name": "stdout",
     "output_type": "stream",
     "text": [
      "Model downloaded: bert-base-uncased\n",
      "training time: 0.760176345705986\n",
      "accuracy: 51.834861755371094\n",
      "{'params': {'reservoir_dim': 1000, 'spectral_radius': 0.5, 'leaking_rate': 0.5, 'input_scaling': 1.0, 'bias_scaling': 0.0, 'sparsity': 0.0, 'activation_function': 'relu', 'alpha': 1.0}, 'accuracy': [50.91743087768555, 49.541282653808594, 47.247703552246094, 44.03669357299805, 51.834861755371094], 'time': [0.778264912776649, 0.7349380124360323, 0.804237793199718, 0.6961575970053673, 0.760176345705986]}\n"
     ]
    },
    {
     "data": {
      "application/vnd.jupyter.widget-view+json": {
       "model_id": "40ec0dfc2e84420e9ae462aa66e3a04d",
       "version_major": 2,
       "version_minor": 0
      },
      "text/plain": [
       "  0%|          | 0/5 [00:00<?, ?it/s]"
      ]
     },
     "metadata": {},
     "output_type": "display_data"
    },
    {
     "name": "stderr",
     "output_type": "stream",
     "text": [
      "Some weights of the model checkpoint at bert-base-uncased were not used when initializing BertModel: ['cls.predictions.bias', 'cls.predictions.transform.dense.weight', 'cls.predictions.transform.LayerNorm.weight', 'cls.seq_relationship.weight', 'cls.predictions.decoder.weight', 'cls.seq_relationship.bias', 'cls.predictions.transform.dense.bias', 'cls.predictions.transform.LayerNorm.bias']\n",
      "- This IS expected if you are initializing BertModel from the checkpoint of a model trained on another task or with another architecture (e.g. initializing a BertForSequenceClassification model from a BertForPreTraining model).\n",
      "- This IS NOT expected if you are initializing BertModel from the checkpoint of a model that you expect to be exactly identical (initializing a BertForSequenceClassification model from a BertForSequenceClassification model).\n"
     ]
    },
    {
     "name": "stdout",
     "output_type": "stream",
     "text": [
      "Model downloaded: bert-base-uncased\n",
      "training time: 0.7375969821587205\n",
      "accuracy: 57.339447021484375\n",
      "{'params': {'reservoir_dim': 1000, 'spectral_radius': 0.5, 'leaking_rate': 0.5, 'input_scaling': 1.0, 'bias_scaling': 0.0, 'sparsity': 0.0, 'activation_function': 'relu', 'alpha': 10.0}, 'accuracy': [57.339447021484375], 'time': [0.7375969821587205]}\n"
     ]
    },
    {
     "name": "stderr",
     "output_type": "stream",
     "text": [
      "Some weights of the model checkpoint at bert-base-uncased were not used when initializing BertModel: ['cls.predictions.bias', 'cls.predictions.transform.dense.weight', 'cls.predictions.transform.LayerNorm.weight', 'cls.seq_relationship.weight', 'cls.predictions.decoder.weight', 'cls.seq_relationship.bias', 'cls.predictions.transform.dense.bias', 'cls.predictions.transform.LayerNorm.bias']\n",
      "- This IS expected if you are initializing BertModel from the checkpoint of a model trained on another task or with another architecture (e.g. initializing a BertForSequenceClassification model from a BertForPreTraining model).\n",
      "- This IS NOT expected if you are initializing BertModel from the checkpoint of a model that you expect to be exactly identical (initializing a BertForSequenceClassification model from a BertForSequenceClassification model).\n"
     ]
    },
    {
     "name": "stdout",
     "output_type": "stream",
     "text": [
      "Model downloaded: bert-base-uncased\n",
      "training time: 0.7843312453478575\n",
      "accuracy: 62.385318756103516\n",
      "{'params': {'reservoir_dim': 1000, 'spectral_radius': 0.5, 'leaking_rate': 0.5, 'input_scaling': 1.0, 'bias_scaling': 0.0, 'sparsity': 0.0, 'activation_function': 'relu', 'alpha': 10.0}, 'accuracy': [57.339447021484375, 62.385318756103516], 'time': [0.7375969821587205, 0.7843312453478575]}\n"
     ]
    },
    {
     "name": "stderr",
     "output_type": "stream",
     "text": [
      "Some weights of the model checkpoint at bert-base-uncased were not used when initializing BertModel: ['cls.predictions.bias', 'cls.predictions.transform.dense.weight', 'cls.predictions.transform.LayerNorm.weight', 'cls.seq_relationship.weight', 'cls.predictions.decoder.weight', 'cls.seq_relationship.bias', 'cls.predictions.transform.dense.bias', 'cls.predictions.transform.LayerNorm.bias']\n",
      "- This IS expected if you are initializing BertModel from the checkpoint of a model trained on another task or with another architecture (e.g. initializing a BertForSequenceClassification model from a BertForPreTraining model).\n",
      "- This IS NOT expected if you are initializing BertModel from the checkpoint of a model that you expect to be exactly identical (initializing a BertForSequenceClassification model from a BertForSequenceClassification model).\n"
     ]
    },
    {
     "name": "stdout",
     "output_type": "stream",
     "text": [
      "Model downloaded: bert-base-uncased\n",
      "training time: 0.7531557139009237\n",
      "accuracy: 58.71559524536133\n",
      "{'params': {'reservoir_dim': 1000, 'spectral_radius': 0.5, 'leaking_rate': 0.5, 'input_scaling': 1.0, 'bias_scaling': 0.0, 'sparsity': 0.0, 'activation_function': 'relu', 'alpha': 10.0}, 'accuracy': [57.339447021484375, 62.385318756103516, 58.71559524536133], 'time': [0.7375969821587205, 0.7843312453478575, 0.7531557139009237]}\n"
     ]
    },
    {
     "name": "stderr",
     "output_type": "stream",
     "text": [
      "Some weights of the model checkpoint at bert-base-uncased were not used when initializing BertModel: ['cls.predictions.bias', 'cls.predictions.transform.dense.weight', 'cls.predictions.transform.LayerNorm.weight', 'cls.seq_relationship.weight', 'cls.predictions.decoder.weight', 'cls.seq_relationship.bias', 'cls.predictions.transform.dense.bias', 'cls.predictions.transform.LayerNorm.bias']\n",
      "- This IS expected if you are initializing BertModel from the checkpoint of a model trained on another task or with another architecture (e.g. initializing a BertForSequenceClassification model from a BertForPreTraining model).\n",
      "- This IS NOT expected if you are initializing BertModel from the checkpoint of a model that you expect to be exactly identical (initializing a BertForSequenceClassification model from a BertForSequenceClassification model).\n"
     ]
    },
    {
     "name": "stdout",
     "output_type": "stream",
     "text": [
      "Model downloaded: bert-base-uncased\n",
      "training time: 0.7611087281256914\n",
      "accuracy: 60.091739654541016\n",
      "{'params': {'reservoir_dim': 1000, 'spectral_radius': 0.5, 'leaking_rate': 0.5, 'input_scaling': 1.0, 'bias_scaling': 0.0, 'sparsity': 0.0, 'activation_function': 'relu', 'alpha': 10.0}, 'accuracy': [57.339447021484375, 62.385318756103516, 58.71559524536133, 60.091739654541016], 'time': [0.7375969821587205, 0.7843312453478575, 0.7531557139009237, 0.7611087281256914]}\n"
     ]
    },
    {
     "name": "stderr",
     "output_type": "stream",
     "text": [
      "Some weights of the model checkpoint at bert-base-uncased were not used when initializing BertModel: ['cls.predictions.bias', 'cls.predictions.transform.dense.weight', 'cls.predictions.transform.LayerNorm.weight', 'cls.seq_relationship.weight', 'cls.predictions.decoder.weight', 'cls.seq_relationship.bias', 'cls.predictions.transform.dense.bias', 'cls.predictions.transform.LayerNorm.bias']\n",
      "- This IS expected if you are initializing BertModel from the checkpoint of a model trained on another task or with another architecture (e.g. initializing a BertForSequenceClassification model from a BertForPreTraining model).\n",
      "- This IS NOT expected if you are initializing BertModel from the checkpoint of a model that you expect to be exactly identical (initializing a BertForSequenceClassification model from a BertForSequenceClassification model).\n"
     ]
    },
    {
     "name": "stdout",
     "output_type": "stream",
     "text": [
      "Model downloaded: bert-base-uncased\n",
      "training time: 0.756177450530231\n",
      "accuracy: 60.55045700073242\n",
      "{'params': {'reservoir_dim': 1000, 'spectral_radius': 0.5, 'leaking_rate': 0.5, 'input_scaling': 1.0, 'bias_scaling': 0.0, 'sparsity': 0.0, 'activation_function': 'relu', 'alpha': 10.0}, 'accuracy': [57.339447021484375, 62.385318756103516, 58.71559524536133, 60.091739654541016, 60.55045700073242], 'time': [0.7375969821587205, 0.7843312453478575, 0.7531557139009237, 0.7611087281256914, 0.756177450530231]}\n"
     ]
    },
    {
     "data": {
      "application/vnd.jupyter.widget-view+json": {
       "model_id": "1a84d75dbc3546e5954a79cf06d072c7",
       "version_major": 2,
       "version_minor": 0
      },
      "text/plain": [
       "  0%|          | 0/5 [00:00<?, ?it/s]"
      ]
     },
     "metadata": {},
     "output_type": "display_data"
    },
    {
     "name": "stderr",
     "output_type": "stream",
     "text": [
      "Some weights of the model checkpoint at bert-base-uncased were not used when initializing BertModel: ['cls.predictions.bias', 'cls.predictions.transform.dense.weight', 'cls.predictions.transform.LayerNorm.weight', 'cls.seq_relationship.weight', 'cls.predictions.decoder.weight', 'cls.seq_relationship.bias', 'cls.predictions.transform.dense.bias', 'cls.predictions.transform.LayerNorm.bias']\n",
      "- This IS expected if you are initializing BertModel from the checkpoint of a model trained on another task or with another architecture (e.g. initializing a BertForSequenceClassification model from a BertForPreTraining model).\n",
      "- This IS NOT expected if you are initializing BertModel from the checkpoint of a model that you expect to be exactly identical (initializing a BertForSequenceClassification model from a BertForSequenceClassification model).\n"
     ]
    },
    {
     "name": "stdout",
     "output_type": "stream",
     "text": [
      "Model downloaded: bert-base-uncased\n",
      "training time: 0.8459148053079844\n",
      "accuracy: 36.238529205322266\n",
      "{'params': {'reservoir_dim': 1000, 'spectral_radius': 0.5, 'leaking_rate': 0.5, 'input_scaling': 1.0, 'bias_scaling': 0.0, 'sparsity': 0.99, 'activation_function': 'relu', 'alpha': 0.1}, 'accuracy': [36.238529205322266], 'time': [0.8459148053079844]}\n"
     ]
    },
    {
     "name": "stderr",
     "output_type": "stream",
     "text": [
      "Some weights of the model checkpoint at bert-base-uncased were not used when initializing BertModel: ['cls.predictions.bias', 'cls.predictions.transform.dense.weight', 'cls.predictions.transform.LayerNorm.weight', 'cls.seq_relationship.weight', 'cls.predictions.decoder.weight', 'cls.seq_relationship.bias', 'cls.predictions.transform.dense.bias', 'cls.predictions.transform.LayerNorm.bias']\n",
      "- This IS expected if you are initializing BertModel from the checkpoint of a model trained on another task or with another architecture (e.g. initializing a BertForSequenceClassification model from a BertForPreTraining model).\n",
      "- This IS NOT expected if you are initializing BertModel from the checkpoint of a model that you expect to be exactly identical (initializing a BertForSequenceClassification model from a BertForSequenceClassification model).\n"
     ]
    },
    {
     "name": "stdout",
     "output_type": "stream",
     "text": [
      "Model downloaded: bert-base-uncased\n",
      "training time: 0.7912218747660518\n",
      "accuracy: 40.36697006225586\n",
      "{'params': {'reservoir_dim': 1000, 'spectral_radius': 0.5, 'leaking_rate': 0.5, 'input_scaling': 1.0, 'bias_scaling': 0.0, 'sparsity': 0.99, 'activation_function': 'relu', 'alpha': 0.1}, 'accuracy': [36.238529205322266, 40.36697006225586], 'time': [0.8459148053079844, 0.7912218747660518]}\n"
     ]
    },
    {
     "name": "stderr",
     "output_type": "stream",
     "text": [
      "Some weights of the model checkpoint at bert-base-uncased were not used when initializing BertModel: ['cls.predictions.bias', 'cls.predictions.transform.dense.weight', 'cls.predictions.transform.LayerNorm.weight', 'cls.seq_relationship.weight', 'cls.predictions.decoder.weight', 'cls.seq_relationship.bias', 'cls.predictions.transform.dense.bias', 'cls.predictions.transform.LayerNorm.bias']\n",
      "- This IS expected if you are initializing BertModel from the checkpoint of a model trained on another task or with another architecture (e.g. initializing a BertForSequenceClassification model from a BertForPreTraining model).\n",
      "- This IS NOT expected if you are initializing BertModel from the checkpoint of a model that you expect to be exactly identical (initializing a BertForSequenceClassification model from a BertForSequenceClassification model).\n"
     ]
    },
    {
     "name": "stdout",
     "output_type": "stream",
     "text": [
      "Model downloaded: bert-base-uncased\n",
      "training time: 0.722223105840385\n",
      "accuracy: 35.32109832763672\n",
      "{'params': {'reservoir_dim': 1000, 'spectral_radius': 0.5, 'leaking_rate': 0.5, 'input_scaling': 1.0, 'bias_scaling': 0.0, 'sparsity': 0.99, 'activation_function': 'relu', 'alpha': 0.1}, 'accuracy': [36.238529205322266, 40.36697006225586, 35.32109832763672], 'time': [0.8459148053079844, 0.7912218747660518, 0.722223105840385]}\n"
     ]
    },
    {
     "name": "stderr",
     "output_type": "stream",
     "text": [
      "Some weights of the model checkpoint at bert-base-uncased were not used when initializing BertModel: ['cls.predictions.bias', 'cls.predictions.transform.dense.weight', 'cls.predictions.transform.LayerNorm.weight', 'cls.seq_relationship.weight', 'cls.predictions.decoder.weight', 'cls.seq_relationship.bias', 'cls.predictions.transform.dense.bias', 'cls.predictions.transform.LayerNorm.bias']\n",
      "- This IS expected if you are initializing BertModel from the checkpoint of a model trained on another task or with another architecture (e.g. initializing a BertForSequenceClassification model from a BertForPreTraining model).\n",
      "- This IS NOT expected if you are initializing BertModel from the checkpoint of a model that you expect to be exactly identical (initializing a BertForSequenceClassification model from a BertForSequenceClassification model).\n"
     ]
    },
    {
     "name": "stdout",
     "output_type": "stream",
     "text": [
      "Model downloaded: bert-base-uncased\n",
      "training time: 0.8053065286949277\n",
      "accuracy: 28.89908218383789\n",
      "{'params': {'reservoir_dim': 1000, 'spectral_radius': 0.5, 'leaking_rate': 0.5, 'input_scaling': 1.0, 'bias_scaling': 0.0, 'sparsity': 0.99, 'activation_function': 'relu', 'alpha': 0.1}, 'accuracy': [36.238529205322266, 40.36697006225586, 35.32109832763672, 28.89908218383789], 'time': [0.8459148053079844, 0.7912218747660518, 0.722223105840385, 0.8053065286949277]}\n"
     ]
    },
    {
     "name": "stderr",
     "output_type": "stream",
     "text": [
      "Some weights of the model checkpoint at bert-base-uncased were not used when initializing BertModel: ['cls.predictions.bias', 'cls.predictions.transform.dense.weight', 'cls.predictions.transform.LayerNorm.weight', 'cls.seq_relationship.weight', 'cls.predictions.decoder.weight', 'cls.seq_relationship.bias', 'cls.predictions.transform.dense.bias', 'cls.predictions.transform.LayerNorm.bias']\n",
      "- This IS expected if you are initializing BertModel from the checkpoint of a model trained on another task or with another architecture (e.g. initializing a BertForSequenceClassification model from a BertForPreTraining model).\n",
      "- This IS NOT expected if you are initializing BertModel from the checkpoint of a model that you expect to be exactly identical (initializing a BertForSequenceClassification model from a BertForSequenceClassification model).\n"
     ]
    },
    {
     "name": "stdout",
     "output_type": "stream",
     "text": [
      "Model downloaded: bert-base-uncased\n",
      "training time: 0.72037463914603\n",
      "accuracy: 32.11009216308594\n",
      "{'params': {'reservoir_dim': 1000, 'spectral_radius': 0.5, 'leaking_rate': 0.5, 'input_scaling': 1.0, 'bias_scaling': 0.0, 'sparsity': 0.99, 'activation_function': 'relu', 'alpha': 0.1}, 'accuracy': [36.238529205322266, 40.36697006225586, 35.32109832763672, 28.89908218383789, 32.11009216308594], 'time': [0.8459148053079844, 0.7912218747660518, 0.722223105840385, 0.8053065286949277, 0.72037463914603]}\n"
     ]
    },
    {
     "data": {
      "application/vnd.jupyter.widget-view+json": {
       "model_id": "557d2b15a9814aa09e0d48766dd9b61d",
       "version_major": 2,
       "version_minor": 0
      },
      "text/plain": [
       "  0%|          | 0/5 [00:00<?, ?it/s]"
      ]
     },
     "metadata": {},
     "output_type": "display_data"
    },
    {
     "name": "stderr",
     "output_type": "stream",
     "text": [
      "Some weights of the model checkpoint at bert-base-uncased were not used when initializing BertModel: ['cls.predictions.bias', 'cls.predictions.transform.dense.weight', 'cls.predictions.transform.LayerNorm.weight', 'cls.seq_relationship.weight', 'cls.predictions.decoder.weight', 'cls.seq_relationship.bias', 'cls.predictions.transform.dense.bias', 'cls.predictions.transform.LayerNorm.bias']\n",
      "- This IS expected if you are initializing BertModel from the checkpoint of a model trained on another task or with another architecture (e.g. initializing a BertForSequenceClassification model from a BertForPreTraining model).\n",
      "- This IS NOT expected if you are initializing BertModel from the checkpoint of a model that you expect to be exactly identical (initializing a BertForSequenceClassification model from a BertForSequenceClassification model).\n"
     ]
    },
    {
     "name": "stdout",
     "output_type": "stream",
     "text": [
      "Model downloaded: bert-base-uncased\n",
      "training time: 0.6962503418326378\n",
      "accuracy: 47.7064208984375\n",
      "{'params': {'reservoir_dim': 1000, 'spectral_radius': 0.5, 'leaking_rate': 0.5, 'input_scaling': 1.0, 'bias_scaling': 0.0, 'sparsity': 0.99, 'activation_function': 'relu', 'alpha': 1.0}, 'accuracy': [47.7064208984375], 'time': [0.6962503418326378]}\n"
     ]
    },
    {
     "name": "stderr",
     "output_type": "stream",
     "text": [
      "Some weights of the model checkpoint at bert-base-uncased were not used when initializing BertModel: ['cls.predictions.bias', 'cls.predictions.transform.dense.weight', 'cls.predictions.transform.LayerNorm.weight', 'cls.seq_relationship.weight', 'cls.predictions.decoder.weight', 'cls.seq_relationship.bias', 'cls.predictions.transform.dense.bias', 'cls.predictions.transform.LayerNorm.bias']\n",
      "- This IS expected if you are initializing BertModel from the checkpoint of a model trained on another task or with another architecture (e.g. initializing a BertForSequenceClassification model from a BertForPreTraining model).\n",
      "- This IS NOT expected if you are initializing BertModel from the checkpoint of a model that you expect to be exactly identical (initializing a BertForSequenceClassification model from a BertForSequenceClassification model).\n"
     ]
    },
    {
     "name": "stdout",
     "output_type": "stream",
     "text": [
      "Model downloaded: bert-base-uncased\n",
      "training time: 0.7925680708140135\n",
      "accuracy: 49.08256530761719\n",
      "{'params': {'reservoir_dim': 1000, 'spectral_radius': 0.5, 'leaking_rate': 0.5, 'input_scaling': 1.0, 'bias_scaling': 0.0, 'sparsity': 0.99, 'activation_function': 'relu', 'alpha': 1.0}, 'accuracy': [47.7064208984375, 49.08256530761719], 'time': [0.6962503418326378, 0.7925680708140135]}\n"
     ]
    },
    {
     "name": "stderr",
     "output_type": "stream",
     "text": [
      "Some weights of the model checkpoint at bert-base-uncased were not used when initializing BertModel: ['cls.predictions.bias', 'cls.predictions.transform.dense.weight', 'cls.predictions.transform.LayerNorm.weight', 'cls.seq_relationship.weight', 'cls.predictions.decoder.weight', 'cls.seq_relationship.bias', 'cls.predictions.transform.dense.bias', 'cls.predictions.transform.LayerNorm.bias']\n",
      "- This IS expected if you are initializing BertModel from the checkpoint of a model trained on another task or with another architecture (e.g. initializing a BertForSequenceClassification model from a BertForPreTraining model).\n",
      "- This IS NOT expected if you are initializing BertModel from the checkpoint of a model that you expect to be exactly identical (initializing a BertForSequenceClassification model from a BertForSequenceClassification model).\n"
     ]
    },
    {
     "name": "stdout",
     "output_type": "stream",
     "text": [
      "Model downloaded: bert-base-uncased\n",
      "training time: 0.8017450291663408\n",
      "accuracy: 52.75229263305664\n",
      "{'params': {'reservoir_dim': 1000, 'spectral_radius': 0.5, 'leaking_rate': 0.5, 'input_scaling': 1.0, 'bias_scaling': 0.0, 'sparsity': 0.99, 'activation_function': 'relu', 'alpha': 1.0}, 'accuracy': [47.7064208984375, 49.08256530761719, 52.75229263305664], 'time': [0.6962503418326378, 0.7925680708140135, 0.8017450291663408]}\n"
     ]
    },
    {
     "name": "stderr",
     "output_type": "stream",
     "text": [
      "Some weights of the model checkpoint at bert-base-uncased were not used when initializing BertModel: ['cls.predictions.bias', 'cls.predictions.transform.dense.weight', 'cls.predictions.transform.LayerNorm.weight', 'cls.seq_relationship.weight', 'cls.predictions.decoder.weight', 'cls.seq_relationship.bias', 'cls.predictions.transform.dense.bias', 'cls.predictions.transform.LayerNorm.bias']\n",
      "- This IS expected if you are initializing BertModel from the checkpoint of a model trained on another task or with another architecture (e.g. initializing a BertForSequenceClassification model from a BertForPreTraining model).\n",
      "- This IS NOT expected if you are initializing BertModel from the checkpoint of a model that you expect to be exactly identical (initializing a BertForSequenceClassification model from a BertForSequenceClassification model).\n"
     ]
    },
    {
     "name": "stdout",
     "output_type": "stream",
     "text": [
      "Model downloaded: bert-base-uncased\n",
      "training time: 0.8010375835001469\n",
      "accuracy: 51.37614440917969\n",
      "{'params': {'reservoir_dim': 1000, 'spectral_radius': 0.5, 'leaking_rate': 0.5, 'input_scaling': 1.0, 'bias_scaling': 0.0, 'sparsity': 0.99, 'activation_function': 'relu', 'alpha': 1.0}, 'accuracy': [47.7064208984375, 49.08256530761719, 52.75229263305664, 51.37614440917969], 'time': [0.6962503418326378, 0.7925680708140135, 0.8017450291663408, 0.8010375835001469]}\n"
     ]
    },
    {
     "name": "stderr",
     "output_type": "stream",
     "text": [
      "Some weights of the model checkpoint at bert-base-uncased were not used when initializing BertModel: ['cls.predictions.bias', 'cls.predictions.transform.dense.weight', 'cls.predictions.transform.LayerNorm.weight', 'cls.seq_relationship.weight', 'cls.predictions.decoder.weight', 'cls.seq_relationship.bias', 'cls.predictions.transform.dense.bias', 'cls.predictions.transform.LayerNorm.bias']\n",
      "- This IS expected if you are initializing BertModel from the checkpoint of a model trained on another task or with another architecture (e.g. initializing a BertForSequenceClassification model from a BertForPreTraining model).\n",
      "- This IS NOT expected if you are initializing BertModel from the checkpoint of a model that you expect to be exactly identical (initializing a BertForSequenceClassification model from a BertForSequenceClassification model).\n"
     ]
    },
    {
     "name": "stdout",
     "output_type": "stream",
     "text": [
      "Model downloaded: bert-base-uncased\n",
      "training time: 0.7249119905754924\n",
      "accuracy: 50.45871353149414\n",
      "{'params': {'reservoir_dim': 1000, 'spectral_radius': 0.5, 'leaking_rate': 0.5, 'input_scaling': 1.0, 'bias_scaling': 0.0, 'sparsity': 0.99, 'activation_function': 'relu', 'alpha': 1.0}, 'accuracy': [47.7064208984375, 49.08256530761719, 52.75229263305664, 51.37614440917969, 50.45871353149414], 'time': [0.6962503418326378, 0.7925680708140135, 0.8017450291663408, 0.8010375835001469, 0.7249119905754924]}\n"
     ]
    },
    {
     "data": {
      "application/vnd.jupyter.widget-view+json": {
       "model_id": "cdaaec378a4d44cf8ba44aefccd37a3e",
       "version_major": 2,
       "version_minor": 0
      },
      "text/plain": [
       "  0%|          | 0/5 [00:00<?, ?it/s]"
      ]
     },
     "metadata": {},
     "output_type": "display_data"
    },
    {
     "name": "stderr",
     "output_type": "stream",
     "text": [
      "Some weights of the model checkpoint at bert-base-uncased were not used when initializing BertModel: ['cls.predictions.bias', 'cls.predictions.transform.dense.weight', 'cls.predictions.transform.LayerNorm.weight', 'cls.seq_relationship.weight', 'cls.predictions.decoder.weight', 'cls.seq_relationship.bias', 'cls.predictions.transform.dense.bias', 'cls.predictions.transform.LayerNorm.bias']\n",
      "- This IS expected if you are initializing BertModel from the checkpoint of a model trained on another task or with another architecture (e.g. initializing a BertForSequenceClassification model from a BertForPreTraining model).\n",
      "- This IS NOT expected if you are initializing BertModel from the checkpoint of a model that you expect to be exactly identical (initializing a BertForSequenceClassification model from a BertForSequenceClassification model).\n"
     ]
    },
    {
     "name": "stdout",
     "output_type": "stream",
     "text": [
      "Model downloaded: bert-base-uncased\n",
      "training time: 0.721212494187057\n",
      "accuracy: 61.92660140991211\n",
      "{'params': {'reservoir_dim': 1000, 'spectral_radius': 0.5, 'leaking_rate': 0.5, 'input_scaling': 1.0, 'bias_scaling': 0.0, 'sparsity': 0.99, 'activation_function': 'relu', 'alpha': 10.0}, 'accuracy': [61.92660140991211], 'time': [0.721212494187057]}\n"
     ]
    },
    {
     "name": "stderr",
     "output_type": "stream",
     "text": [
      "Some weights of the model checkpoint at bert-base-uncased were not used when initializing BertModel: ['cls.predictions.bias', 'cls.predictions.transform.dense.weight', 'cls.predictions.transform.LayerNorm.weight', 'cls.seq_relationship.weight', 'cls.predictions.decoder.weight', 'cls.seq_relationship.bias', 'cls.predictions.transform.dense.bias', 'cls.predictions.transform.LayerNorm.bias']\n",
      "- This IS expected if you are initializing BertModel from the checkpoint of a model trained on another task or with another architecture (e.g. initializing a BertForSequenceClassification model from a BertForPreTraining model).\n",
      "- This IS NOT expected if you are initializing BertModel from the checkpoint of a model that you expect to be exactly identical (initializing a BertForSequenceClassification model from a BertForSequenceClassification model).\n"
     ]
    },
    {
     "name": "stdout",
     "output_type": "stream",
     "text": [
      "Model downloaded: bert-base-uncased\n",
      "training time: 0.6994175603613257\n",
      "accuracy: 64.22018432617188\n",
      "{'params': {'reservoir_dim': 1000, 'spectral_radius': 0.5, 'leaking_rate': 0.5, 'input_scaling': 1.0, 'bias_scaling': 0.0, 'sparsity': 0.99, 'activation_function': 'relu', 'alpha': 10.0}, 'accuracy': [61.92660140991211, 64.22018432617188], 'time': [0.721212494187057, 0.6994175603613257]}\n"
     ]
    },
    {
     "name": "stderr",
     "output_type": "stream",
     "text": [
      "Some weights of the model checkpoint at bert-base-uncased were not used when initializing BertModel: ['cls.predictions.bias', 'cls.predictions.transform.dense.weight', 'cls.predictions.transform.LayerNorm.weight', 'cls.seq_relationship.weight', 'cls.predictions.decoder.weight', 'cls.seq_relationship.bias', 'cls.predictions.transform.dense.bias', 'cls.predictions.transform.LayerNorm.bias']\n",
      "- This IS expected if you are initializing BertModel from the checkpoint of a model trained on another task or with another architecture (e.g. initializing a BertForSequenceClassification model from a BertForPreTraining model).\n",
      "- This IS NOT expected if you are initializing BertModel from the checkpoint of a model that you expect to be exactly identical (initializing a BertForSequenceClassification model from a BertForSequenceClassification model).\n"
     ]
    },
    {
     "name": "stdout",
     "output_type": "stream",
     "text": [
      "Model downloaded: bert-base-uncased\n",
      "training time: 0.8861658209934831\n",
      "accuracy: 61.46788787841797\n",
      "{'params': {'reservoir_dim': 1000, 'spectral_radius': 0.5, 'leaking_rate': 0.5, 'input_scaling': 1.0, 'bias_scaling': 0.0, 'sparsity': 0.99, 'activation_function': 'relu', 'alpha': 10.0}, 'accuracy': [61.92660140991211, 64.22018432617188, 61.46788787841797], 'time': [0.721212494187057, 0.6994175603613257, 0.8861658209934831]}\n"
     ]
    },
    {
     "name": "stderr",
     "output_type": "stream",
     "text": [
      "Some weights of the model checkpoint at bert-base-uncased were not used when initializing BertModel: ['cls.predictions.bias', 'cls.predictions.transform.dense.weight', 'cls.predictions.transform.LayerNorm.weight', 'cls.seq_relationship.weight', 'cls.predictions.decoder.weight', 'cls.seq_relationship.bias', 'cls.predictions.transform.dense.bias', 'cls.predictions.transform.LayerNorm.bias']\n",
      "- This IS expected if you are initializing BertModel from the checkpoint of a model trained on another task or with another architecture (e.g. initializing a BertForSequenceClassification model from a BertForPreTraining model).\n",
      "- This IS NOT expected if you are initializing BertModel from the checkpoint of a model that you expect to be exactly identical (initializing a BertForSequenceClassification model from a BertForSequenceClassification model).\n"
     ]
    },
    {
     "name": "stdout",
     "output_type": "stream",
     "text": [
      "Model downloaded: bert-base-uncased\n",
      "training time: 0.7680291449651122\n",
      "accuracy: 61.00917053222656\n",
      "{'params': {'reservoir_dim': 1000, 'spectral_radius': 0.5, 'leaking_rate': 0.5, 'input_scaling': 1.0, 'bias_scaling': 0.0, 'sparsity': 0.99, 'activation_function': 'relu', 'alpha': 10.0}, 'accuracy': [61.92660140991211, 64.22018432617188, 61.46788787841797, 61.00917053222656], 'time': [0.721212494187057, 0.6994175603613257, 0.8861658209934831, 0.7680291449651122]}\n"
     ]
    },
    {
     "name": "stderr",
     "output_type": "stream",
     "text": [
      "Some weights of the model checkpoint at bert-base-uncased were not used when initializing BertModel: ['cls.predictions.bias', 'cls.predictions.transform.dense.weight', 'cls.predictions.transform.LayerNorm.weight', 'cls.seq_relationship.weight', 'cls.predictions.decoder.weight', 'cls.seq_relationship.bias', 'cls.predictions.transform.dense.bias', 'cls.predictions.transform.LayerNorm.bias']\n",
      "- This IS expected if you are initializing BertModel from the checkpoint of a model trained on another task or with another architecture (e.g. initializing a BertForSequenceClassification model from a BertForPreTraining model).\n",
      "- This IS NOT expected if you are initializing BertModel from the checkpoint of a model that you expect to be exactly identical (initializing a BertForSequenceClassification model from a BertForSequenceClassification model).\n"
     ]
    },
    {
     "name": "stdout",
     "output_type": "stream",
     "text": [
      "Model downloaded: bert-base-uncased\n",
      "training time: 0.7019276479259133\n",
      "accuracy: 61.46788787841797\n",
      "{'params': {'reservoir_dim': 1000, 'spectral_radius': 0.5, 'leaking_rate': 0.5, 'input_scaling': 1.0, 'bias_scaling': 0.0, 'sparsity': 0.99, 'activation_function': 'relu', 'alpha': 10.0}, 'accuracy': [61.92660140991211, 64.22018432617188, 61.46788787841797, 61.00917053222656, 61.46788787841797], 'time': [0.721212494187057, 0.6994175603613257, 0.8861658209934831, 0.7680291449651122, 0.7019276479259133]}\n"
     ]
    },
    {
     "data": {
      "application/vnd.jupyter.widget-view+json": {
       "model_id": "c76a80067ea64fe283ca65446c02f3bd",
       "version_major": 2,
       "version_minor": 0
      },
      "text/plain": [
       "  0%|          | 0/5 [00:00<?, ?it/s]"
      ]
     },
     "metadata": {},
     "output_type": "display_data"
    },
    {
     "name": "stderr",
     "output_type": "stream",
     "text": [
      "Some weights of the model checkpoint at bert-base-uncased were not used when initializing BertModel: ['cls.predictions.bias', 'cls.predictions.transform.dense.weight', 'cls.predictions.transform.LayerNorm.weight', 'cls.seq_relationship.weight', 'cls.predictions.decoder.weight', 'cls.seq_relationship.bias', 'cls.predictions.transform.dense.bias', 'cls.predictions.transform.LayerNorm.bias']\n",
      "- This IS expected if you are initializing BertModel from the checkpoint of a model trained on another task or with another architecture (e.g. initializing a BertForSequenceClassification model from a BertForPreTraining model).\n",
      "- This IS NOT expected if you are initializing BertModel from the checkpoint of a model that you expect to be exactly identical (initializing a BertForSequenceClassification model from a BertForSequenceClassification model).\n"
     ]
    },
    {
     "name": "stdout",
     "output_type": "stream",
     "text": [
      "Model downloaded: bert-base-uncased\n",
      "training time: 0.7533304030075669\n",
      "accuracy: 54.587154388427734\n",
      "{'params': {'reservoir_dim': 1000, 'spectral_radius': 0.5, 'leaking_rate': 0.9, 'input_scaling': 0.1, 'bias_scaling': 0.0, 'sparsity': 0.0, 'activation_function': 'relu', 'alpha': 0.1}, 'accuracy': [54.587154388427734], 'time': [0.7533304030075669]}\n"
     ]
    },
    {
     "name": "stderr",
     "output_type": "stream",
     "text": [
      "Some weights of the model checkpoint at bert-base-uncased were not used when initializing BertModel: ['cls.predictions.bias', 'cls.predictions.transform.dense.weight', 'cls.predictions.transform.LayerNorm.weight', 'cls.seq_relationship.weight', 'cls.predictions.decoder.weight', 'cls.seq_relationship.bias', 'cls.predictions.transform.dense.bias', 'cls.predictions.transform.LayerNorm.bias']\n",
      "- This IS expected if you are initializing BertModel from the checkpoint of a model trained on another task or with another architecture (e.g. initializing a BertForSequenceClassification model from a BertForPreTraining model).\n",
      "- This IS NOT expected if you are initializing BertModel from the checkpoint of a model that you expect to be exactly identical (initializing a BertForSequenceClassification model from a BertForSequenceClassification model).\n"
     ]
    },
    {
     "name": "stdout",
     "output_type": "stream",
     "text": [
      "Model downloaded: bert-base-uncased\n",
      "training time: 0.6864041863009334\n",
      "accuracy: 61.46788787841797\n",
      "{'params': {'reservoir_dim': 1000, 'spectral_radius': 0.5, 'leaking_rate': 0.9, 'input_scaling': 0.1, 'bias_scaling': 0.0, 'sparsity': 0.0, 'activation_function': 'relu', 'alpha': 0.1}, 'accuracy': [54.587154388427734, 61.46788787841797], 'time': [0.7533304030075669, 0.6864041863009334]}\n"
     ]
    },
    {
     "name": "stderr",
     "output_type": "stream",
     "text": [
      "Some weights of the model checkpoint at bert-base-uncased were not used when initializing BertModel: ['cls.predictions.bias', 'cls.predictions.transform.dense.weight', 'cls.predictions.transform.LayerNorm.weight', 'cls.seq_relationship.weight', 'cls.predictions.decoder.weight', 'cls.seq_relationship.bias', 'cls.predictions.transform.dense.bias', 'cls.predictions.transform.LayerNorm.bias']\n",
      "- This IS expected if you are initializing BertModel from the checkpoint of a model trained on another task or with another architecture (e.g. initializing a BertForSequenceClassification model from a BertForPreTraining model).\n",
      "- This IS NOT expected if you are initializing BertModel from the checkpoint of a model that you expect to be exactly identical (initializing a BertForSequenceClassification model from a BertForSequenceClassification model).\n"
     ]
    },
    {
     "name": "stdout",
     "output_type": "stream",
     "text": [
      "Model downloaded: bert-base-uncased\n",
      "training time: 0.7677303338423371\n",
      "accuracy: 55.045867919921875\n",
      "{'params': {'reservoir_dim': 1000, 'spectral_radius': 0.5, 'leaking_rate': 0.9, 'input_scaling': 0.1, 'bias_scaling': 0.0, 'sparsity': 0.0, 'activation_function': 'relu', 'alpha': 0.1}, 'accuracy': [54.587154388427734, 61.46788787841797, 55.045867919921875], 'time': [0.7533304030075669, 0.6864041863009334, 0.7677303338423371]}\n"
     ]
    },
    {
     "name": "stderr",
     "output_type": "stream",
     "text": [
      "Some weights of the model checkpoint at bert-base-uncased were not used when initializing BertModel: ['cls.predictions.bias', 'cls.predictions.transform.dense.weight', 'cls.predictions.transform.LayerNorm.weight', 'cls.seq_relationship.weight', 'cls.predictions.decoder.weight', 'cls.seq_relationship.bias', 'cls.predictions.transform.dense.bias', 'cls.predictions.transform.LayerNorm.bias']\n",
      "- This IS expected if you are initializing BertModel from the checkpoint of a model trained on another task or with another architecture (e.g. initializing a BertForSequenceClassification model from a BertForPreTraining model).\n",
      "- This IS NOT expected if you are initializing BertModel from the checkpoint of a model that you expect to be exactly identical (initializing a BertForSequenceClassification model from a BertForSequenceClassification model).\n"
     ]
    },
    {
     "name": "stdout",
     "output_type": "stream",
     "text": [
      "Model downloaded: bert-base-uncased\n",
      "training time: 0.7287959437817335\n",
      "accuracy: 55.045867919921875\n",
      "{'params': {'reservoir_dim': 1000, 'spectral_radius': 0.5, 'leaking_rate': 0.9, 'input_scaling': 0.1, 'bias_scaling': 0.0, 'sparsity': 0.0, 'activation_function': 'relu', 'alpha': 0.1}, 'accuracy': [54.587154388427734, 61.46788787841797, 55.045867919921875, 55.045867919921875], 'time': [0.7533304030075669, 0.6864041863009334, 0.7677303338423371, 0.7287959437817335]}\n"
     ]
    },
    {
     "name": "stderr",
     "output_type": "stream",
     "text": [
      "Some weights of the model checkpoint at bert-base-uncased were not used when initializing BertModel: ['cls.predictions.bias', 'cls.predictions.transform.dense.weight', 'cls.predictions.transform.LayerNorm.weight', 'cls.seq_relationship.weight', 'cls.predictions.decoder.weight', 'cls.seq_relationship.bias', 'cls.predictions.transform.dense.bias', 'cls.predictions.transform.LayerNorm.bias']\n",
      "- This IS expected if you are initializing BertModel from the checkpoint of a model trained on another task or with another architecture (e.g. initializing a BertForSequenceClassification model from a BertForPreTraining model).\n",
      "- This IS NOT expected if you are initializing BertModel from the checkpoint of a model that you expect to be exactly identical (initializing a BertForSequenceClassification model from a BertForSequenceClassification model).\n"
     ]
    },
    {
     "name": "stdout",
     "output_type": "stream",
     "text": [
      "Model downloaded: bert-base-uncased\n",
      "training time: 0.7653872314840555\n",
      "accuracy: 60.55045700073242\n",
      "{'params': {'reservoir_dim': 1000, 'spectral_radius': 0.5, 'leaking_rate': 0.9, 'input_scaling': 0.1, 'bias_scaling': 0.0, 'sparsity': 0.0, 'activation_function': 'relu', 'alpha': 0.1}, 'accuracy': [54.587154388427734, 61.46788787841797, 55.045867919921875, 55.045867919921875, 60.55045700073242], 'time': [0.7533304030075669, 0.6864041863009334, 0.7677303338423371, 0.7287959437817335, 0.7653872314840555]}\n"
     ]
    },
    {
     "data": {
      "application/vnd.jupyter.widget-view+json": {
       "model_id": "7f55eb0d55be479c9e333851f8006f67",
       "version_major": 2,
       "version_minor": 0
      },
      "text/plain": [
       "  0%|          | 0/5 [00:00<?, ?it/s]"
      ]
     },
     "metadata": {},
     "output_type": "display_data"
    },
    {
     "name": "stderr",
     "output_type": "stream",
     "text": [
      "Some weights of the model checkpoint at bert-base-uncased were not used when initializing BertModel: ['cls.predictions.bias', 'cls.predictions.transform.dense.weight', 'cls.predictions.transform.LayerNorm.weight', 'cls.seq_relationship.weight', 'cls.predictions.decoder.weight', 'cls.seq_relationship.bias', 'cls.predictions.transform.dense.bias', 'cls.predictions.transform.LayerNorm.bias']\n",
      "- This IS expected if you are initializing BertModel from the checkpoint of a model trained on another task or with another architecture (e.g. initializing a BertForSequenceClassification model from a BertForPreTraining model).\n",
      "- This IS NOT expected if you are initializing BertModel from the checkpoint of a model that you expect to be exactly identical (initializing a BertForSequenceClassification model from a BertForSequenceClassification model).\n"
     ]
    },
    {
     "name": "stdout",
     "output_type": "stream",
     "text": [
      "Model downloaded: bert-base-uncased\n",
      "training time: 0.7191882990300655\n",
      "accuracy: 68.34861755371094\n",
      "{'params': {'reservoir_dim': 1000, 'spectral_radius': 0.5, 'leaking_rate': 0.9, 'input_scaling': 0.1, 'bias_scaling': 0.0, 'sparsity': 0.0, 'activation_function': 'relu', 'alpha': 1.0}, 'accuracy': [68.34861755371094], 'time': [0.7191882990300655]}\n"
     ]
    },
    {
     "name": "stderr",
     "output_type": "stream",
     "text": [
      "Some weights of the model checkpoint at bert-base-uncased were not used when initializing BertModel: ['cls.predictions.bias', 'cls.predictions.transform.dense.weight', 'cls.predictions.transform.LayerNorm.weight', 'cls.seq_relationship.weight', 'cls.predictions.decoder.weight', 'cls.seq_relationship.bias', 'cls.predictions.transform.dense.bias', 'cls.predictions.transform.LayerNorm.bias']\n",
      "- This IS expected if you are initializing BertModel from the checkpoint of a model trained on another task or with another architecture (e.g. initializing a BertForSequenceClassification model from a BertForPreTraining model).\n",
      "- This IS NOT expected if you are initializing BertModel from the checkpoint of a model that you expect to be exactly identical (initializing a BertForSequenceClassification model from a BertForSequenceClassification model).\n"
     ]
    },
    {
     "name": "stdout",
     "output_type": "stream",
     "text": [
      "Model downloaded: bert-base-uncased\n",
      "training time: 0.7306984905153513\n",
      "accuracy: 69.72476959228516\n",
      "{'params': {'reservoir_dim': 1000, 'spectral_radius': 0.5, 'leaking_rate': 0.9, 'input_scaling': 0.1, 'bias_scaling': 0.0, 'sparsity': 0.0, 'activation_function': 'relu', 'alpha': 1.0}, 'accuracy': [68.34861755371094, 69.72476959228516], 'time': [0.7191882990300655, 0.7306984905153513]}\n"
     ]
    },
    {
     "name": "stderr",
     "output_type": "stream",
     "text": [
      "Some weights of the model checkpoint at bert-base-uncased were not used when initializing BertModel: ['cls.predictions.bias', 'cls.predictions.transform.dense.weight', 'cls.predictions.transform.LayerNorm.weight', 'cls.seq_relationship.weight', 'cls.predictions.decoder.weight', 'cls.seq_relationship.bias', 'cls.predictions.transform.dense.bias', 'cls.predictions.transform.LayerNorm.bias']\n",
      "- This IS expected if you are initializing BertModel from the checkpoint of a model trained on another task or with another architecture (e.g. initializing a BertForSequenceClassification model from a BertForPreTraining model).\n",
      "- This IS NOT expected if you are initializing BertModel from the checkpoint of a model that you expect to be exactly identical (initializing a BertForSequenceClassification model from a BertForSequenceClassification model).\n"
     ]
    },
    {
     "name": "stdout",
     "output_type": "stream",
     "text": [
      "Model downloaded: bert-base-uncased\n",
      "training time: 0.7051958106458187\n",
      "accuracy: 71.55963134765625\n",
      "{'params': {'reservoir_dim': 1000, 'spectral_radius': 0.5, 'leaking_rate': 0.9, 'input_scaling': 0.1, 'bias_scaling': 0.0, 'sparsity': 0.0, 'activation_function': 'relu', 'alpha': 1.0}, 'accuracy': [68.34861755371094, 69.72476959228516, 71.55963134765625], 'time': [0.7191882990300655, 0.7306984905153513, 0.7051958106458187]}\n"
     ]
    },
    {
     "name": "stderr",
     "output_type": "stream",
     "text": [
      "Some weights of the model checkpoint at bert-base-uncased were not used when initializing BertModel: ['cls.predictions.bias', 'cls.predictions.transform.dense.weight', 'cls.predictions.transform.LayerNorm.weight', 'cls.seq_relationship.weight', 'cls.predictions.decoder.weight', 'cls.seq_relationship.bias', 'cls.predictions.transform.dense.bias', 'cls.predictions.transform.LayerNorm.bias']\n",
      "- This IS expected if you are initializing BertModel from the checkpoint of a model trained on another task or with another architecture (e.g. initializing a BertForSequenceClassification model from a BertForPreTraining model).\n",
      "- This IS NOT expected if you are initializing BertModel from the checkpoint of a model that you expect to be exactly identical (initializing a BertForSequenceClassification model from a BertForSequenceClassification model).\n"
     ]
    },
    {
     "name": "stdout",
     "output_type": "stream",
     "text": [
      "Model downloaded: bert-base-uncased\n",
      "training time: 0.7407061718404293\n",
      "accuracy: 71.10091400146484\n",
      "{'params': {'reservoir_dim': 1000, 'spectral_radius': 0.5, 'leaking_rate': 0.9, 'input_scaling': 0.1, 'bias_scaling': 0.0, 'sparsity': 0.0, 'activation_function': 'relu', 'alpha': 1.0}, 'accuracy': [68.34861755371094, 69.72476959228516, 71.55963134765625, 71.10091400146484], 'time': [0.7191882990300655, 0.7306984905153513, 0.7051958106458187, 0.7407061718404293]}\n"
     ]
    },
    {
     "name": "stderr",
     "output_type": "stream",
     "text": [
      "Some weights of the model checkpoint at bert-base-uncased were not used when initializing BertModel: ['cls.predictions.bias', 'cls.predictions.transform.dense.weight', 'cls.predictions.transform.LayerNorm.weight', 'cls.seq_relationship.weight', 'cls.predictions.decoder.weight', 'cls.seq_relationship.bias', 'cls.predictions.transform.dense.bias', 'cls.predictions.transform.LayerNorm.bias']\n",
      "- This IS expected if you are initializing BertModel from the checkpoint of a model trained on another task or with another architecture (e.g. initializing a BertForSequenceClassification model from a BertForPreTraining model).\n",
      "- This IS NOT expected if you are initializing BertModel from the checkpoint of a model that you expect to be exactly identical (initializing a BertForSequenceClassification model from a BertForSequenceClassification model).\n"
     ]
    },
    {
     "name": "stdout",
     "output_type": "stream",
     "text": [
      "Model downloaded: bert-base-uncased\n",
      "training time: 0.8316959552466869\n",
      "accuracy: 74.77063751220703\n",
      "{'params': {'reservoir_dim': 1000, 'spectral_radius': 0.5, 'leaking_rate': 0.9, 'input_scaling': 0.1, 'bias_scaling': 0.0, 'sparsity': 0.0, 'activation_function': 'relu', 'alpha': 1.0}, 'accuracy': [68.34861755371094, 69.72476959228516, 71.55963134765625, 71.10091400146484, 74.77063751220703], 'time': [0.7191882990300655, 0.7306984905153513, 0.7051958106458187, 0.7407061718404293, 0.8316959552466869]}\n"
     ]
    },
    {
     "data": {
      "application/vnd.jupyter.widget-view+json": {
       "model_id": "bd0b57d2ce614b9ba8bd50e35bbc13a4",
       "version_major": 2,
       "version_minor": 0
      },
      "text/plain": [
       "  0%|          | 0/5 [00:00<?, ?it/s]"
      ]
     },
     "metadata": {},
     "output_type": "display_data"
    },
    {
     "name": "stderr",
     "output_type": "stream",
     "text": [
      "Some weights of the model checkpoint at bert-base-uncased were not used when initializing BertModel: ['cls.predictions.bias', 'cls.predictions.transform.dense.weight', 'cls.predictions.transform.LayerNorm.weight', 'cls.seq_relationship.weight', 'cls.predictions.decoder.weight', 'cls.seq_relationship.bias', 'cls.predictions.transform.dense.bias', 'cls.predictions.transform.LayerNorm.bias']\n",
      "- This IS expected if you are initializing BertModel from the checkpoint of a model trained on another task or with another architecture (e.g. initializing a BertForSequenceClassification model from a BertForPreTraining model).\n",
      "- This IS NOT expected if you are initializing BertModel from the checkpoint of a model that you expect to be exactly identical (initializing a BertForSequenceClassification model from a BertForSequenceClassification model).\n"
     ]
    },
    {
     "name": "stdout",
     "output_type": "stream",
     "text": [
      "Model downloaded: bert-base-uncased\n",
      "training time: 0.7457887241616845\n",
      "accuracy: 74.31192016601562\n",
      "{'params': {'reservoir_dim': 1000, 'spectral_radius': 0.5, 'leaking_rate': 0.9, 'input_scaling': 0.1, 'bias_scaling': 0.0, 'sparsity': 0.0, 'activation_function': 'relu', 'alpha': 10.0}, 'accuracy': [74.31192016601562], 'time': [0.7457887241616845]}\n"
     ]
    },
    {
     "name": "stderr",
     "output_type": "stream",
     "text": [
      "Some weights of the model checkpoint at bert-base-uncased were not used when initializing BertModel: ['cls.predictions.bias', 'cls.predictions.transform.dense.weight', 'cls.predictions.transform.LayerNorm.weight', 'cls.seq_relationship.weight', 'cls.predictions.decoder.weight', 'cls.seq_relationship.bias', 'cls.predictions.transform.dense.bias', 'cls.predictions.transform.LayerNorm.bias']\n",
      "- This IS expected if you are initializing BertModel from the checkpoint of a model trained on another task or with another architecture (e.g. initializing a BertForSequenceClassification model from a BertForPreTraining model).\n",
      "- This IS NOT expected if you are initializing BertModel from the checkpoint of a model that you expect to be exactly identical (initializing a BertForSequenceClassification model from a BertForSequenceClassification model).\n"
     ]
    },
    {
     "name": "stdout",
     "output_type": "stream",
     "text": [
      "Model downloaded: bert-base-uncased\n",
      "training time: 0.6880595460534096\n",
      "accuracy: 79.35779571533203\n",
      "{'params': {'reservoir_dim': 1000, 'spectral_radius': 0.5, 'leaking_rate': 0.9, 'input_scaling': 0.1, 'bias_scaling': 0.0, 'sparsity': 0.0, 'activation_function': 'relu', 'alpha': 10.0}, 'accuracy': [74.31192016601562, 79.35779571533203], 'time': [0.7457887241616845, 0.6880595460534096]}\n"
     ]
    },
    {
     "name": "stderr",
     "output_type": "stream",
     "text": [
      "Some weights of the model checkpoint at bert-base-uncased were not used when initializing BertModel: ['cls.predictions.bias', 'cls.predictions.transform.dense.weight', 'cls.predictions.transform.LayerNorm.weight', 'cls.seq_relationship.weight', 'cls.predictions.decoder.weight', 'cls.seq_relationship.bias', 'cls.predictions.transform.dense.bias', 'cls.predictions.transform.LayerNorm.bias']\n",
      "- This IS expected if you are initializing BertModel from the checkpoint of a model trained on another task or with another architecture (e.g. initializing a BertForSequenceClassification model from a BertForPreTraining model).\n",
      "- This IS NOT expected if you are initializing BertModel from the checkpoint of a model that you expect to be exactly identical (initializing a BertForSequenceClassification model from a BertForSequenceClassification model).\n"
     ]
    },
    {
     "name": "stdout",
     "output_type": "stream",
     "text": [
      "Model downloaded: bert-base-uncased\n",
      "training time: 0.7796782795339823\n",
      "accuracy: 79.81651306152344\n",
      "{'params': {'reservoir_dim': 1000, 'spectral_radius': 0.5, 'leaking_rate': 0.9, 'input_scaling': 0.1, 'bias_scaling': 0.0, 'sparsity': 0.0, 'activation_function': 'relu', 'alpha': 10.0}, 'accuracy': [74.31192016601562, 79.35779571533203, 79.81651306152344], 'time': [0.7457887241616845, 0.6880595460534096, 0.7796782795339823]}\n"
     ]
    },
    {
     "name": "stderr",
     "output_type": "stream",
     "text": [
      "Some weights of the model checkpoint at bert-base-uncased were not used when initializing BertModel: ['cls.predictions.bias', 'cls.predictions.transform.dense.weight', 'cls.predictions.transform.LayerNorm.weight', 'cls.seq_relationship.weight', 'cls.predictions.decoder.weight', 'cls.seq_relationship.bias', 'cls.predictions.transform.dense.bias', 'cls.predictions.transform.LayerNorm.bias']\n",
      "- This IS expected if you are initializing BertModel from the checkpoint of a model trained on another task or with another architecture (e.g. initializing a BertForSequenceClassification model from a BertForPreTraining model).\n",
      "- This IS NOT expected if you are initializing BertModel from the checkpoint of a model that you expect to be exactly identical (initializing a BertForSequenceClassification model from a BertForSequenceClassification model).\n"
     ]
    },
    {
     "name": "stdout",
     "output_type": "stream",
     "text": [
      "Model downloaded: bert-base-uncased\n",
      "training time: 0.7183232204988599\n",
      "accuracy: 78.44036102294922\n",
      "{'params': {'reservoir_dim': 1000, 'spectral_radius': 0.5, 'leaking_rate': 0.9, 'input_scaling': 0.1, 'bias_scaling': 0.0, 'sparsity': 0.0, 'activation_function': 'relu', 'alpha': 10.0}, 'accuracy': [74.31192016601562, 79.35779571533203, 79.81651306152344, 78.44036102294922], 'time': [0.7457887241616845, 0.6880595460534096, 0.7796782795339823, 0.7183232204988599]}\n"
     ]
    },
    {
     "name": "stderr",
     "output_type": "stream",
     "text": [
      "Some weights of the model checkpoint at bert-base-uncased were not used when initializing BertModel: ['cls.predictions.bias', 'cls.predictions.transform.dense.weight', 'cls.predictions.transform.LayerNorm.weight', 'cls.seq_relationship.weight', 'cls.predictions.decoder.weight', 'cls.seq_relationship.bias', 'cls.predictions.transform.dense.bias', 'cls.predictions.transform.LayerNorm.bias']\n",
      "- This IS expected if you are initializing BertModel from the checkpoint of a model trained on another task or with another architecture (e.g. initializing a BertForSequenceClassification model from a BertForPreTraining model).\n",
      "- This IS NOT expected if you are initializing BertModel from the checkpoint of a model that you expect to be exactly identical (initializing a BertForSequenceClassification model from a BertForSequenceClassification model).\n"
     ]
    },
    {
     "name": "stdout",
     "output_type": "stream",
     "text": [
      "Model downloaded: bert-base-uncased\n",
      "training time: 0.8342318357899785\n",
      "accuracy: 79.35779571533203\n",
      "{'params': {'reservoir_dim': 1000, 'spectral_radius': 0.5, 'leaking_rate': 0.9, 'input_scaling': 0.1, 'bias_scaling': 0.0, 'sparsity': 0.0, 'activation_function': 'relu', 'alpha': 10.0}, 'accuracy': [74.31192016601562, 79.35779571533203, 79.81651306152344, 78.44036102294922, 79.35779571533203], 'time': [0.7457887241616845, 0.6880595460534096, 0.7796782795339823, 0.7183232204988599, 0.8342318357899785]}\n"
     ]
    },
    {
     "data": {
      "application/vnd.jupyter.widget-view+json": {
       "model_id": "435aa19113bf49a6a9757b54f0d67835",
       "version_major": 2,
       "version_minor": 0
      },
      "text/plain": [
       "  0%|          | 0/5 [00:00<?, ?it/s]"
      ]
     },
     "metadata": {},
     "output_type": "display_data"
    },
    {
     "name": "stderr",
     "output_type": "stream",
     "text": [
      "Some weights of the model checkpoint at bert-base-uncased were not used when initializing BertModel: ['cls.predictions.bias', 'cls.predictions.transform.dense.weight', 'cls.predictions.transform.LayerNorm.weight', 'cls.seq_relationship.weight', 'cls.predictions.decoder.weight', 'cls.seq_relationship.bias', 'cls.predictions.transform.dense.bias', 'cls.predictions.transform.LayerNorm.bias']\n",
      "- This IS expected if you are initializing BertModel from the checkpoint of a model trained on another task or with another architecture (e.g. initializing a BertForSequenceClassification model from a BertForPreTraining model).\n",
      "- This IS NOT expected if you are initializing BertModel from the checkpoint of a model that you expect to be exactly identical (initializing a BertForSequenceClassification model from a BertForSequenceClassification model).\n"
     ]
    },
    {
     "name": "stdout",
     "output_type": "stream",
     "text": [
      "Model downloaded: bert-base-uncased\n",
      "training time: 0.7118643065914512\n",
      "accuracy: 60.091739654541016\n",
      "{'params': {'reservoir_dim': 1000, 'spectral_radius': 0.5, 'leaking_rate': 0.9, 'input_scaling': 0.1, 'bias_scaling': 0.0, 'sparsity': 0.99, 'activation_function': 'relu', 'alpha': 0.1}, 'accuracy': [60.091739654541016], 'time': [0.7118643065914512]}\n"
     ]
    },
    {
     "name": "stderr",
     "output_type": "stream",
     "text": [
      "Some weights of the model checkpoint at bert-base-uncased were not used when initializing BertModel: ['cls.predictions.bias', 'cls.predictions.transform.dense.weight', 'cls.predictions.transform.LayerNorm.weight', 'cls.seq_relationship.weight', 'cls.predictions.decoder.weight', 'cls.seq_relationship.bias', 'cls.predictions.transform.dense.bias', 'cls.predictions.transform.LayerNorm.bias']\n",
      "- This IS expected if you are initializing BertModel from the checkpoint of a model trained on another task or with another architecture (e.g. initializing a BertForSequenceClassification model from a BertForPreTraining model).\n",
      "- This IS NOT expected if you are initializing BertModel from the checkpoint of a model that you expect to be exactly identical (initializing a BertForSequenceClassification model from a BertForSequenceClassification model).\n"
     ]
    },
    {
     "name": "stdout",
     "output_type": "stream",
     "text": [
      "Model downloaded: bert-base-uncased\n",
      "training time: 0.8008816763758659\n",
      "accuracy: 60.091739654541016\n",
      "{'params': {'reservoir_dim': 1000, 'spectral_radius': 0.5, 'leaking_rate': 0.9, 'input_scaling': 0.1, 'bias_scaling': 0.0, 'sparsity': 0.99, 'activation_function': 'relu', 'alpha': 0.1}, 'accuracy': [60.091739654541016, 60.091739654541016], 'time': [0.7118643065914512, 0.8008816763758659]}\n"
     ]
    },
    {
     "name": "stderr",
     "output_type": "stream",
     "text": [
      "Some weights of the model checkpoint at bert-base-uncased were not used when initializing BertModel: ['cls.predictions.bias', 'cls.predictions.transform.dense.weight', 'cls.predictions.transform.LayerNorm.weight', 'cls.seq_relationship.weight', 'cls.predictions.decoder.weight', 'cls.seq_relationship.bias', 'cls.predictions.transform.dense.bias', 'cls.predictions.transform.LayerNorm.bias']\n",
      "- This IS expected if you are initializing BertModel from the checkpoint of a model trained on another task or with another architecture (e.g. initializing a BertForSequenceClassification model from a BertForPreTraining model).\n",
      "- This IS NOT expected if you are initializing BertModel from the checkpoint of a model that you expect to be exactly identical (initializing a BertForSequenceClassification model from a BertForSequenceClassification model).\n"
     ]
    },
    {
     "name": "stdout",
     "output_type": "stream",
     "text": [
      "Model downloaded: bert-base-uncased\n",
      "training time: 0.743738254532218\n",
      "accuracy: 60.55045700073242\n",
      "{'params': {'reservoir_dim': 1000, 'spectral_radius': 0.5, 'leaking_rate': 0.9, 'input_scaling': 0.1, 'bias_scaling': 0.0, 'sparsity': 0.99, 'activation_function': 'relu', 'alpha': 0.1}, 'accuracy': [60.091739654541016, 60.091739654541016, 60.55045700073242], 'time': [0.7118643065914512, 0.8008816763758659, 0.743738254532218]}\n"
     ]
    },
    {
     "name": "stderr",
     "output_type": "stream",
     "text": [
      "Some weights of the model checkpoint at bert-base-uncased were not used when initializing BertModel: ['cls.predictions.bias', 'cls.predictions.transform.dense.weight', 'cls.predictions.transform.LayerNorm.weight', 'cls.seq_relationship.weight', 'cls.predictions.decoder.weight', 'cls.seq_relationship.bias', 'cls.predictions.transform.dense.bias', 'cls.predictions.transform.LayerNorm.bias']\n",
      "- This IS expected if you are initializing BertModel from the checkpoint of a model trained on another task or with another architecture (e.g. initializing a BertForSequenceClassification model from a BertForPreTraining model).\n",
      "- This IS NOT expected if you are initializing BertModel from the checkpoint of a model that you expect to be exactly identical (initializing a BertForSequenceClassification model from a BertForSequenceClassification model).\n"
     ]
    },
    {
     "name": "stdout",
     "output_type": "stream",
     "text": [
      "Model downloaded: bert-base-uncased\n",
      "training time: 0.7183031272143126\n",
      "accuracy: 57.339447021484375\n",
      "{'params': {'reservoir_dim': 1000, 'spectral_radius': 0.5, 'leaking_rate': 0.9, 'input_scaling': 0.1, 'bias_scaling': 0.0, 'sparsity': 0.99, 'activation_function': 'relu', 'alpha': 0.1}, 'accuracy': [60.091739654541016, 60.091739654541016, 60.55045700073242, 57.339447021484375], 'time': [0.7118643065914512, 0.8008816763758659, 0.743738254532218, 0.7183031272143126]}\n"
     ]
    },
    {
     "name": "stderr",
     "output_type": "stream",
     "text": [
      "Some weights of the model checkpoint at bert-base-uncased were not used when initializing BertModel: ['cls.predictions.bias', 'cls.predictions.transform.dense.weight', 'cls.predictions.transform.LayerNorm.weight', 'cls.seq_relationship.weight', 'cls.predictions.decoder.weight', 'cls.seq_relationship.bias', 'cls.predictions.transform.dense.bias', 'cls.predictions.transform.LayerNorm.bias']\n",
      "- This IS expected if you are initializing BertModel from the checkpoint of a model trained on another task or with another architecture (e.g. initializing a BertForSequenceClassification model from a BertForPreTraining model).\n",
      "- This IS NOT expected if you are initializing BertModel from the checkpoint of a model that you expect to be exactly identical (initializing a BertForSequenceClassification model from a BertForSequenceClassification model).\n"
     ]
    },
    {
     "name": "stdout",
     "output_type": "stream",
     "text": [
      "Model downloaded: bert-base-uncased\n",
      "training time: 0.7671509552747011\n",
      "accuracy: 58.71559524536133\n",
      "{'params': {'reservoir_dim': 1000, 'spectral_radius': 0.5, 'leaking_rate': 0.9, 'input_scaling': 0.1, 'bias_scaling': 0.0, 'sparsity': 0.99, 'activation_function': 'relu', 'alpha': 0.1}, 'accuracy': [60.091739654541016, 60.091739654541016, 60.55045700073242, 57.339447021484375, 58.71559524536133], 'time': [0.7118643065914512, 0.8008816763758659, 0.743738254532218, 0.7183031272143126, 0.7671509552747011]}\n"
     ]
    },
    {
     "data": {
      "application/vnd.jupyter.widget-view+json": {
       "model_id": "f75f6fdd23034e5b9985651f9c5489ce",
       "version_major": 2,
       "version_minor": 0
      },
      "text/plain": [
       "  0%|          | 0/5 [00:00<?, ?it/s]"
      ]
     },
     "metadata": {},
     "output_type": "display_data"
    },
    {
     "name": "stderr",
     "output_type": "stream",
     "text": [
      "Some weights of the model checkpoint at bert-base-uncased were not used when initializing BertModel: ['cls.predictions.bias', 'cls.predictions.transform.dense.weight', 'cls.predictions.transform.LayerNorm.weight', 'cls.seq_relationship.weight', 'cls.predictions.decoder.weight', 'cls.seq_relationship.bias', 'cls.predictions.transform.dense.bias', 'cls.predictions.transform.LayerNorm.bias']\n",
      "- This IS expected if you are initializing BertModel from the checkpoint of a model trained on another task or with another architecture (e.g. initializing a BertForSequenceClassification model from a BertForPreTraining model).\n",
      "- This IS NOT expected if you are initializing BertModel from the checkpoint of a model that you expect to be exactly identical (initializing a BertForSequenceClassification model from a BertForSequenceClassification model).\n"
     ]
    },
    {
     "name": "stdout",
     "output_type": "stream",
     "text": [
      "Model downloaded: bert-base-uncased\n",
      "training time: 0.6875754967331886\n",
      "accuracy: 70.64219665527344\n",
      "{'params': {'reservoir_dim': 1000, 'spectral_radius': 0.5, 'leaking_rate': 0.9, 'input_scaling': 0.1, 'bias_scaling': 0.0, 'sparsity': 0.99, 'activation_function': 'relu', 'alpha': 1.0}, 'accuracy': [70.64219665527344], 'time': [0.6875754967331886]}\n"
     ]
    },
    {
     "name": "stderr",
     "output_type": "stream",
     "text": [
      "Some weights of the model checkpoint at bert-base-uncased were not used when initializing BertModel: ['cls.predictions.bias', 'cls.predictions.transform.dense.weight', 'cls.predictions.transform.LayerNorm.weight', 'cls.seq_relationship.weight', 'cls.predictions.decoder.weight', 'cls.seq_relationship.bias', 'cls.predictions.transform.dense.bias', 'cls.predictions.transform.LayerNorm.bias']\n",
      "- This IS expected if you are initializing BertModel from the checkpoint of a model trained on another task or with another architecture (e.g. initializing a BertForSequenceClassification model from a BertForPreTraining model).\n",
      "- This IS NOT expected if you are initializing BertModel from the checkpoint of a model that you expect to be exactly identical (initializing a BertForSequenceClassification model from a BertForSequenceClassification model).\n"
     ]
    },
    {
     "name": "stdout",
     "output_type": "stream",
     "text": [
      "Model downloaded: bert-base-uncased\n",
      "training time: 0.7969728661701083\n",
      "accuracy: 70.18348693847656\n",
      "{'params': {'reservoir_dim': 1000, 'spectral_radius': 0.5, 'leaking_rate': 0.9, 'input_scaling': 0.1, 'bias_scaling': 0.0, 'sparsity': 0.99, 'activation_function': 'relu', 'alpha': 1.0}, 'accuracy': [70.64219665527344, 70.18348693847656], 'time': [0.6875754967331886, 0.7969728661701083]}\n"
     ]
    },
    {
     "name": "stderr",
     "output_type": "stream",
     "text": [
      "Some weights of the model checkpoint at bert-base-uncased were not used when initializing BertModel: ['cls.predictions.bias', 'cls.predictions.transform.dense.weight', 'cls.predictions.transform.LayerNorm.weight', 'cls.seq_relationship.weight', 'cls.predictions.decoder.weight', 'cls.seq_relationship.bias', 'cls.predictions.transform.dense.bias', 'cls.predictions.transform.LayerNorm.bias']\n",
      "- This IS expected if you are initializing BertModel from the checkpoint of a model trained on another task or with another architecture (e.g. initializing a BertForSequenceClassification model from a BertForPreTraining model).\n",
      "- This IS NOT expected if you are initializing BertModel from the checkpoint of a model that you expect to be exactly identical (initializing a BertForSequenceClassification model from a BertForSequenceClassification model).\n"
     ]
    },
    {
     "name": "stdout",
     "output_type": "stream",
     "text": [
      "Model downloaded: bert-base-uncased\n",
      "training time: 0.7349114902317524\n",
      "accuracy: 69.26605224609375\n",
      "{'params': {'reservoir_dim': 1000, 'spectral_radius': 0.5, 'leaking_rate': 0.9, 'input_scaling': 0.1, 'bias_scaling': 0.0, 'sparsity': 0.99, 'activation_function': 'relu', 'alpha': 1.0}, 'accuracy': [70.64219665527344, 70.18348693847656, 69.26605224609375], 'time': [0.6875754967331886, 0.7969728661701083, 0.7349114902317524]}\n"
     ]
    },
    {
     "name": "stderr",
     "output_type": "stream",
     "text": [
      "Some weights of the model checkpoint at bert-base-uncased were not used when initializing BertModel: ['cls.predictions.bias', 'cls.predictions.transform.dense.weight', 'cls.predictions.transform.LayerNorm.weight', 'cls.seq_relationship.weight', 'cls.predictions.decoder.weight', 'cls.seq_relationship.bias', 'cls.predictions.transform.dense.bias', 'cls.predictions.transform.LayerNorm.bias']\n",
      "- This IS expected if you are initializing BertModel from the checkpoint of a model trained on another task or with another architecture (e.g. initializing a BertForSequenceClassification model from a BertForPreTraining model).\n",
      "- This IS NOT expected if you are initializing BertModel from the checkpoint of a model that you expect to be exactly identical (initializing a BertForSequenceClassification model from a BertForSequenceClassification model).\n"
     ]
    },
    {
     "name": "stdout",
     "output_type": "stream",
     "text": [
      "Model downloaded: bert-base-uncased\n",
      "training time: 0.74610008392483\n",
      "accuracy: 70.18348693847656\n",
      "{'params': {'reservoir_dim': 1000, 'spectral_radius': 0.5, 'leaking_rate': 0.9, 'input_scaling': 0.1, 'bias_scaling': 0.0, 'sparsity': 0.99, 'activation_function': 'relu', 'alpha': 1.0}, 'accuracy': [70.64219665527344, 70.18348693847656, 69.26605224609375, 70.18348693847656], 'time': [0.6875754967331886, 0.7969728661701083, 0.7349114902317524, 0.74610008392483]}\n"
     ]
    },
    {
     "name": "stderr",
     "output_type": "stream",
     "text": [
      "Some weights of the model checkpoint at bert-base-uncased were not used when initializing BertModel: ['cls.predictions.bias', 'cls.predictions.transform.dense.weight', 'cls.predictions.transform.LayerNorm.weight', 'cls.seq_relationship.weight', 'cls.predictions.decoder.weight', 'cls.seq_relationship.bias', 'cls.predictions.transform.dense.bias', 'cls.predictions.transform.LayerNorm.bias']\n",
      "- This IS expected if you are initializing BertModel from the checkpoint of a model trained on another task or with another architecture (e.g. initializing a BertForSequenceClassification model from a BertForPreTraining model).\n",
      "- This IS NOT expected if you are initializing BertModel from the checkpoint of a model that you expect to be exactly identical (initializing a BertForSequenceClassification model from a BertForSequenceClassification model).\n"
     ]
    },
    {
     "name": "stdout",
     "output_type": "stream",
     "text": [
      "Model downloaded: bert-base-uncased\n",
      "training time: 0.7206169441342354\n",
      "accuracy: 71.55963134765625\n",
      "{'params': {'reservoir_dim': 1000, 'spectral_radius': 0.5, 'leaking_rate': 0.9, 'input_scaling': 0.1, 'bias_scaling': 0.0, 'sparsity': 0.99, 'activation_function': 'relu', 'alpha': 1.0}, 'accuracy': [70.64219665527344, 70.18348693847656, 69.26605224609375, 70.18348693847656, 71.55963134765625], 'time': [0.6875754967331886, 0.7969728661701083, 0.7349114902317524, 0.74610008392483, 0.7206169441342354]}\n"
     ]
    },
    {
     "data": {
      "application/vnd.jupyter.widget-view+json": {
       "model_id": "e1d2a6fe98de4f5db5c256b3eb7cd1e4",
       "version_major": 2,
       "version_minor": 0
      },
      "text/plain": [
       "  0%|          | 0/5 [00:00<?, ?it/s]"
      ]
     },
     "metadata": {},
     "output_type": "display_data"
    },
    {
     "name": "stderr",
     "output_type": "stream",
     "text": [
      "Some weights of the model checkpoint at bert-base-uncased were not used when initializing BertModel: ['cls.predictions.bias', 'cls.predictions.transform.dense.weight', 'cls.predictions.transform.LayerNorm.weight', 'cls.seq_relationship.weight', 'cls.predictions.decoder.weight', 'cls.seq_relationship.bias', 'cls.predictions.transform.dense.bias', 'cls.predictions.transform.LayerNorm.bias']\n",
      "- This IS expected if you are initializing BertModel from the checkpoint of a model trained on another task or with another architecture (e.g. initializing a BertForSequenceClassification model from a BertForPreTraining model).\n",
      "- This IS NOT expected if you are initializing BertModel from the checkpoint of a model that you expect to be exactly identical (initializing a BertForSequenceClassification model from a BertForSequenceClassification model).\n"
     ]
    },
    {
     "name": "stdout",
     "output_type": "stream",
     "text": [
      "Model downloaded: bert-base-uncased\n",
      "training time: 0.7582143815234303\n",
      "accuracy: 76.60549926757812\n",
      "{'params': {'reservoir_dim': 1000, 'spectral_radius': 0.5, 'leaking_rate': 0.9, 'input_scaling': 0.1, 'bias_scaling': 0.0, 'sparsity': 0.99, 'activation_function': 'relu', 'alpha': 10.0}, 'accuracy': [76.60549926757812], 'time': [0.7582143815234303]}\n"
     ]
    },
    {
     "name": "stderr",
     "output_type": "stream",
     "text": [
      "Some weights of the model checkpoint at bert-base-uncased were not used when initializing BertModel: ['cls.predictions.bias', 'cls.predictions.transform.dense.weight', 'cls.predictions.transform.LayerNorm.weight', 'cls.seq_relationship.weight', 'cls.predictions.decoder.weight', 'cls.seq_relationship.bias', 'cls.predictions.transform.dense.bias', 'cls.predictions.transform.LayerNorm.bias']\n",
      "- This IS expected if you are initializing BertModel from the checkpoint of a model trained on another task or with another architecture (e.g. initializing a BertForSequenceClassification model from a BertForPreTraining model).\n",
      "- This IS NOT expected if you are initializing BertModel from the checkpoint of a model that you expect to be exactly identical (initializing a BertForSequenceClassification model from a BertForSequenceClassification model).\n"
     ]
    },
    {
     "name": "stdout",
     "output_type": "stream",
     "text": [
      "Model downloaded: bert-base-uncased\n",
      "training time: 0.8104252154007554\n",
      "accuracy: 77.06421661376953\n",
      "{'params': {'reservoir_dim': 1000, 'spectral_radius': 0.5, 'leaking_rate': 0.9, 'input_scaling': 0.1, 'bias_scaling': 0.0, 'sparsity': 0.99, 'activation_function': 'relu', 'alpha': 10.0}, 'accuracy': [76.60549926757812, 77.06421661376953], 'time': [0.7582143815234303, 0.8104252154007554]}\n"
     ]
    },
    {
     "name": "stderr",
     "output_type": "stream",
     "text": [
      "Some weights of the model checkpoint at bert-base-uncased were not used when initializing BertModel: ['cls.predictions.bias', 'cls.predictions.transform.dense.weight', 'cls.predictions.transform.LayerNorm.weight', 'cls.seq_relationship.weight', 'cls.predictions.decoder.weight', 'cls.seq_relationship.bias', 'cls.predictions.transform.dense.bias', 'cls.predictions.transform.LayerNorm.bias']\n",
      "- This IS expected if you are initializing BertModel from the checkpoint of a model trained on another task or with another architecture (e.g. initializing a BertForSequenceClassification model from a BertForPreTraining model).\n",
      "- This IS NOT expected if you are initializing BertModel from the checkpoint of a model that you expect to be exactly identical (initializing a BertForSequenceClassification model from a BertForSequenceClassification model).\n"
     ]
    },
    {
     "name": "stdout",
     "output_type": "stream",
     "text": [
      "Model downloaded: bert-base-uncased\n",
      "training time: 0.8003936503082514\n",
      "accuracy: 80.27522277832031\n",
      "{'params': {'reservoir_dim': 1000, 'spectral_radius': 0.5, 'leaking_rate': 0.9, 'input_scaling': 0.1, 'bias_scaling': 0.0, 'sparsity': 0.99, 'activation_function': 'relu', 'alpha': 10.0}, 'accuracy': [76.60549926757812, 77.06421661376953, 80.27522277832031], 'time': [0.7582143815234303, 0.8104252154007554, 0.8003936503082514]}\n"
     ]
    },
    {
     "name": "stderr",
     "output_type": "stream",
     "text": [
      "Some weights of the model checkpoint at bert-base-uncased were not used when initializing BertModel: ['cls.predictions.bias', 'cls.predictions.transform.dense.weight', 'cls.predictions.transform.LayerNorm.weight', 'cls.seq_relationship.weight', 'cls.predictions.decoder.weight', 'cls.seq_relationship.bias', 'cls.predictions.transform.dense.bias', 'cls.predictions.transform.LayerNorm.bias']\n",
      "- This IS expected if you are initializing BertModel from the checkpoint of a model trained on another task or with another architecture (e.g. initializing a BertForSequenceClassification model from a BertForPreTraining model).\n",
      "- This IS NOT expected if you are initializing BertModel from the checkpoint of a model that you expect to be exactly identical (initializing a BertForSequenceClassification model from a BertForSequenceClassification model).\n"
     ]
    },
    {
     "name": "stdout",
     "output_type": "stream",
     "text": [
      "Model downloaded: bert-base-uncased\n",
      "training time: 0.753487054258585\n",
      "accuracy: 78.44036102294922\n",
      "{'params': {'reservoir_dim': 1000, 'spectral_radius': 0.5, 'leaking_rate': 0.9, 'input_scaling': 0.1, 'bias_scaling': 0.0, 'sparsity': 0.99, 'activation_function': 'relu', 'alpha': 10.0}, 'accuracy': [76.60549926757812, 77.06421661376953, 80.27522277832031, 78.44036102294922], 'time': [0.7582143815234303, 0.8104252154007554, 0.8003936503082514, 0.753487054258585]}\n"
     ]
    },
    {
     "name": "stderr",
     "output_type": "stream",
     "text": [
      "Some weights of the model checkpoint at bert-base-uncased were not used when initializing BertModel: ['cls.predictions.bias', 'cls.predictions.transform.dense.weight', 'cls.predictions.transform.LayerNorm.weight', 'cls.seq_relationship.weight', 'cls.predictions.decoder.weight', 'cls.seq_relationship.bias', 'cls.predictions.transform.dense.bias', 'cls.predictions.transform.LayerNorm.bias']\n",
      "- This IS expected if you are initializing BertModel from the checkpoint of a model trained on another task or with another architecture (e.g. initializing a BertForSequenceClassification model from a BertForPreTraining model).\n",
      "- This IS NOT expected if you are initializing BertModel from the checkpoint of a model that you expect to be exactly identical (initializing a BertForSequenceClassification model from a BertForSequenceClassification model).\n"
     ]
    },
    {
     "name": "stdout",
     "output_type": "stream",
     "text": [
      "Model downloaded: bert-base-uncased\n",
      "training time: 0.7570742079988122\n",
      "accuracy: 78.44036102294922\n",
      "{'params': {'reservoir_dim': 1000, 'spectral_radius': 0.5, 'leaking_rate': 0.9, 'input_scaling': 0.1, 'bias_scaling': 0.0, 'sparsity': 0.99, 'activation_function': 'relu', 'alpha': 10.0}, 'accuracy': [76.60549926757812, 77.06421661376953, 80.27522277832031, 78.44036102294922, 78.44036102294922], 'time': [0.7582143815234303, 0.8104252154007554, 0.8003936503082514, 0.753487054258585, 0.7570742079988122]}\n"
     ]
    },
    {
     "data": {
      "application/vnd.jupyter.widget-view+json": {
       "model_id": "87c9cab0dcb3439f8eb8adc90b6cfc0b",
       "version_major": 2,
       "version_minor": 0
      },
      "text/plain": [
       "  0%|          | 0/5 [00:00<?, ?it/s]"
      ]
     },
     "metadata": {},
     "output_type": "display_data"
    },
    {
     "name": "stderr",
     "output_type": "stream",
     "text": [
      "Some weights of the model checkpoint at bert-base-uncased were not used when initializing BertModel: ['cls.predictions.bias', 'cls.predictions.transform.dense.weight', 'cls.predictions.transform.LayerNorm.weight', 'cls.seq_relationship.weight', 'cls.predictions.decoder.weight', 'cls.seq_relationship.bias', 'cls.predictions.transform.dense.bias', 'cls.predictions.transform.LayerNorm.bias']\n",
      "- This IS expected if you are initializing BertModel from the checkpoint of a model trained on another task or with another architecture (e.g. initializing a BertForSequenceClassification model from a BertForPreTraining model).\n",
      "- This IS NOT expected if you are initializing BertModel from the checkpoint of a model that you expect to be exactly identical (initializing a BertForSequenceClassification model from a BertForSequenceClassification model).\n"
     ]
    },
    {
     "name": "stdout",
     "output_type": "stream",
     "text": [
      "Model downloaded: bert-base-uncased\n",
      "training time: 0.7866384275257587\n",
      "accuracy: 30.27522850036621\n",
      "{'params': {'reservoir_dim': 1000, 'spectral_radius': 0.5, 'leaking_rate': 0.9, 'input_scaling': 1.0, 'bias_scaling': 0.0, 'sparsity': 0.0, 'activation_function': 'relu', 'alpha': 0.1}, 'accuracy': [30.27522850036621], 'time': [0.7866384275257587]}\n"
     ]
    },
    {
     "name": "stderr",
     "output_type": "stream",
     "text": [
      "Some weights of the model checkpoint at bert-base-uncased were not used when initializing BertModel: ['cls.predictions.bias', 'cls.predictions.transform.dense.weight', 'cls.predictions.transform.LayerNorm.weight', 'cls.seq_relationship.weight', 'cls.predictions.decoder.weight', 'cls.seq_relationship.bias', 'cls.predictions.transform.dense.bias', 'cls.predictions.transform.LayerNorm.bias']\n",
      "- This IS expected if you are initializing BertModel from the checkpoint of a model trained on another task or with another architecture (e.g. initializing a BertForSequenceClassification model from a BertForPreTraining model).\n",
      "- This IS NOT expected if you are initializing BertModel from the checkpoint of a model that you expect to be exactly identical (initializing a BertForSequenceClassification model from a BertForSequenceClassification model).\n"
     ]
    },
    {
     "name": "stdout",
     "output_type": "stream",
     "text": [
      "Model downloaded: bert-base-uncased\n",
      "training time: 0.7683351738378406\n",
      "accuracy: 31.65137481689453\n",
      "{'params': {'reservoir_dim': 1000, 'spectral_radius': 0.5, 'leaking_rate': 0.9, 'input_scaling': 1.0, 'bias_scaling': 0.0, 'sparsity': 0.0, 'activation_function': 'relu', 'alpha': 0.1}, 'accuracy': [30.27522850036621, 31.65137481689453], 'time': [0.7866384275257587, 0.7683351738378406]}\n"
     ]
    },
    {
     "name": "stderr",
     "output_type": "stream",
     "text": [
      "Some weights of the model checkpoint at bert-base-uncased were not used when initializing BertModel: ['cls.predictions.bias', 'cls.predictions.transform.dense.weight', 'cls.predictions.transform.LayerNorm.weight', 'cls.seq_relationship.weight', 'cls.predictions.decoder.weight', 'cls.seq_relationship.bias', 'cls.predictions.transform.dense.bias', 'cls.predictions.transform.LayerNorm.bias']\n",
      "- This IS expected if you are initializing BertModel from the checkpoint of a model trained on another task or with another architecture (e.g. initializing a BertForSequenceClassification model from a BertForPreTraining model).\n",
      "- This IS NOT expected if you are initializing BertModel from the checkpoint of a model that you expect to be exactly identical (initializing a BertForSequenceClassification model from a BertForSequenceClassification model).\n"
     ]
    },
    {
     "name": "stdout",
     "output_type": "stream",
     "text": [
      "Model downloaded: bert-base-uncased\n",
      "training time: 0.7419484928250313\n",
      "accuracy: 22.018346786499023\n",
      "{'params': {'reservoir_dim': 1000, 'spectral_radius': 0.5, 'leaking_rate': 0.9, 'input_scaling': 1.0, 'bias_scaling': 0.0, 'sparsity': 0.0, 'activation_function': 'relu', 'alpha': 0.1}, 'accuracy': [30.27522850036621, 31.65137481689453, 22.018346786499023], 'time': [0.7866384275257587, 0.7683351738378406, 0.7419484928250313]}\n"
     ]
    },
    {
     "name": "stderr",
     "output_type": "stream",
     "text": [
      "Some weights of the model checkpoint at bert-base-uncased were not used when initializing BertModel: ['cls.predictions.bias', 'cls.predictions.transform.dense.weight', 'cls.predictions.transform.LayerNorm.weight', 'cls.seq_relationship.weight', 'cls.predictions.decoder.weight', 'cls.seq_relationship.bias', 'cls.predictions.transform.dense.bias', 'cls.predictions.transform.LayerNorm.bias']\n",
      "- This IS expected if you are initializing BertModel from the checkpoint of a model trained on another task or with another architecture (e.g. initializing a BertForSequenceClassification model from a BertForPreTraining model).\n",
      "- This IS NOT expected if you are initializing BertModel from the checkpoint of a model that you expect to be exactly identical (initializing a BertForSequenceClassification model from a BertForSequenceClassification model).\n"
     ]
    },
    {
     "name": "stdout",
     "output_type": "stream",
     "text": [
      "Model downloaded: bert-base-uncased\n",
      "training time: 0.8320014197379351\n",
      "accuracy: 26.146787643432617\n",
      "{'params': {'reservoir_dim': 1000, 'spectral_radius': 0.5, 'leaking_rate': 0.9, 'input_scaling': 1.0, 'bias_scaling': 0.0, 'sparsity': 0.0, 'activation_function': 'relu', 'alpha': 0.1}, 'accuracy': [30.27522850036621, 31.65137481689453, 22.018346786499023, 26.146787643432617], 'time': [0.7866384275257587, 0.7683351738378406, 0.7419484928250313, 0.8320014197379351]}\n"
     ]
    },
    {
     "name": "stderr",
     "output_type": "stream",
     "text": [
      "Some weights of the model checkpoint at bert-base-uncased were not used when initializing BertModel: ['cls.predictions.bias', 'cls.predictions.transform.dense.weight', 'cls.predictions.transform.LayerNorm.weight', 'cls.seq_relationship.weight', 'cls.predictions.decoder.weight', 'cls.seq_relationship.bias', 'cls.predictions.transform.dense.bias', 'cls.predictions.transform.LayerNorm.bias']\n",
      "- This IS expected if you are initializing BertModel from the checkpoint of a model trained on another task or with another architecture (e.g. initializing a BertForSequenceClassification model from a BertForPreTraining model).\n",
      "- This IS NOT expected if you are initializing BertModel from the checkpoint of a model that you expect to be exactly identical (initializing a BertForSequenceClassification model from a BertForSequenceClassification model).\n"
     ]
    },
    {
     "name": "stdout",
     "output_type": "stream",
     "text": [
      "Model downloaded: bert-base-uncased\n",
      "training time: 0.7495536785572767\n",
      "accuracy: 38.532108306884766\n",
      "{'params': {'reservoir_dim': 1000, 'spectral_radius': 0.5, 'leaking_rate': 0.9, 'input_scaling': 1.0, 'bias_scaling': 0.0, 'sparsity': 0.0, 'activation_function': 'relu', 'alpha': 0.1}, 'accuracy': [30.27522850036621, 31.65137481689453, 22.018346786499023, 26.146787643432617, 38.532108306884766], 'time': [0.7866384275257587, 0.7683351738378406, 0.7419484928250313, 0.8320014197379351, 0.7495536785572767]}\n"
     ]
    },
    {
     "data": {
      "application/vnd.jupyter.widget-view+json": {
       "model_id": "3d01eb58b9c04a3493ecd32a64e9422a",
       "version_major": 2,
       "version_minor": 0
      },
      "text/plain": [
       "  0%|          | 0/5 [00:00<?, ?it/s]"
      ]
     },
     "metadata": {},
     "output_type": "display_data"
    },
    {
     "name": "stderr",
     "output_type": "stream",
     "text": [
      "Some weights of the model checkpoint at bert-base-uncased were not used when initializing BertModel: ['cls.predictions.bias', 'cls.predictions.transform.dense.weight', 'cls.predictions.transform.LayerNorm.weight', 'cls.seq_relationship.weight', 'cls.predictions.decoder.weight', 'cls.seq_relationship.bias', 'cls.predictions.transform.dense.bias', 'cls.predictions.transform.LayerNorm.bias']\n",
      "- This IS expected if you are initializing BertModel from the checkpoint of a model trained on another task or with another architecture (e.g. initializing a BertForSequenceClassification model from a BertForPreTraining model).\n",
      "- This IS NOT expected if you are initializing BertModel from the checkpoint of a model that you expect to be exactly identical (initializing a BertForSequenceClassification model from a BertForSequenceClassification model).\n"
     ]
    },
    {
     "name": "stdout",
     "output_type": "stream",
     "text": [
      "Model downloaded: bert-base-uncased\n",
      "training time: 0.7315201619639993\n",
      "accuracy: 48.16513442993164\n",
      "{'params': {'reservoir_dim': 1000, 'spectral_radius': 0.5, 'leaking_rate': 0.9, 'input_scaling': 1.0, 'bias_scaling': 0.0, 'sparsity': 0.0, 'activation_function': 'relu', 'alpha': 1.0}, 'accuracy': [48.16513442993164], 'time': [0.7315201619639993]}\n"
     ]
    },
    {
     "name": "stderr",
     "output_type": "stream",
     "text": [
      "Some weights of the model checkpoint at bert-base-uncased were not used when initializing BertModel: ['cls.predictions.bias', 'cls.predictions.transform.dense.weight', 'cls.predictions.transform.LayerNorm.weight', 'cls.seq_relationship.weight', 'cls.predictions.decoder.weight', 'cls.seq_relationship.bias', 'cls.predictions.transform.dense.bias', 'cls.predictions.transform.LayerNorm.bias']\n",
      "- This IS expected if you are initializing BertModel from the checkpoint of a model trained on another task or with another architecture (e.g. initializing a BertForSequenceClassification model from a BertForPreTraining model).\n",
      "- This IS NOT expected if you are initializing BertModel from the checkpoint of a model that you expect to be exactly identical (initializing a BertForSequenceClassification model from a BertForSequenceClassification model).\n"
     ]
    },
    {
     "name": "stdout",
     "output_type": "stream",
     "text": [
      "Model downloaded: bert-base-uncased\n",
      "training time: 0.766143555752933\n",
      "accuracy: 49.541282653808594\n",
      "{'params': {'reservoir_dim': 1000, 'spectral_radius': 0.5, 'leaking_rate': 0.9, 'input_scaling': 1.0, 'bias_scaling': 0.0, 'sparsity': 0.0, 'activation_function': 'relu', 'alpha': 1.0}, 'accuracy': [48.16513442993164, 49.541282653808594], 'time': [0.7315201619639993, 0.766143555752933]}\n"
     ]
    },
    {
     "name": "stderr",
     "output_type": "stream",
     "text": [
      "Some weights of the model checkpoint at bert-base-uncased were not used when initializing BertModel: ['cls.predictions.bias', 'cls.predictions.transform.dense.weight', 'cls.predictions.transform.LayerNorm.weight', 'cls.seq_relationship.weight', 'cls.predictions.decoder.weight', 'cls.seq_relationship.bias', 'cls.predictions.transform.dense.bias', 'cls.predictions.transform.LayerNorm.bias']\n",
      "- This IS expected if you are initializing BertModel from the checkpoint of a model trained on another task or with another architecture (e.g. initializing a BertForSequenceClassification model from a BertForPreTraining model).\n",
      "- This IS NOT expected if you are initializing BertModel from the checkpoint of a model that you expect to be exactly identical (initializing a BertForSequenceClassification model from a BertForSequenceClassification model).\n"
     ]
    },
    {
     "name": "stdout",
     "output_type": "stream",
     "text": [
      "Model downloaded: bert-base-uncased\n",
      "training time: 0.7018593167886138\n",
      "accuracy: 41.284400939941406\n",
      "{'params': {'reservoir_dim': 1000, 'spectral_radius': 0.5, 'leaking_rate': 0.9, 'input_scaling': 1.0, 'bias_scaling': 0.0, 'sparsity': 0.0, 'activation_function': 'relu', 'alpha': 1.0}, 'accuracy': [48.16513442993164, 49.541282653808594, 41.284400939941406], 'time': [0.7315201619639993, 0.766143555752933, 0.7018593167886138]}\n"
     ]
    },
    {
     "name": "stderr",
     "output_type": "stream",
     "text": [
      "Some weights of the model checkpoint at bert-base-uncased were not used when initializing BertModel: ['cls.predictions.bias', 'cls.predictions.transform.dense.weight', 'cls.predictions.transform.LayerNorm.weight', 'cls.seq_relationship.weight', 'cls.predictions.decoder.weight', 'cls.seq_relationship.bias', 'cls.predictions.transform.dense.bias', 'cls.predictions.transform.LayerNorm.bias']\n",
      "- This IS expected if you are initializing BertModel from the checkpoint of a model trained on another task or with another architecture (e.g. initializing a BertForSequenceClassification model from a BertForPreTraining model).\n",
      "- This IS NOT expected if you are initializing BertModel from the checkpoint of a model that you expect to be exactly identical (initializing a BertForSequenceClassification model from a BertForSequenceClassification model).\n"
     ]
    },
    {
     "name": "stdout",
     "output_type": "stream",
     "text": [
      "Model downloaded: bert-base-uncased\n",
      "training time: 0.7658257093280554\n",
      "accuracy: 43.1192626953125\n",
      "{'params': {'reservoir_dim': 1000, 'spectral_radius': 0.5, 'leaking_rate': 0.9, 'input_scaling': 1.0, 'bias_scaling': 0.0, 'sparsity': 0.0, 'activation_function': 'relu', 'alpha': 1.0}, 'accuracy': [48.16513442993164, 49.541282653808594, 41.284400939941406, 43.1192626953125], 'time': [0.7315201619639993, 0.766143555752933, 0.7018593167886138, 0.7658257093280554]}\n"
     ]
    },
    {
     "name": "stderr",
     "output_type": "stream",
     "text": [
      "Some weights of the model checkpoint at bert-base-uncased were not used when initializing BertModel: ['cls.predictions.bias', 'cls.predictions.transform.dense.weight', 'cls.predictions.transform.LayerNorm.weight', 'cls.seq_relationship.weight', 'cls.predictions.decoder.weight', 'cls.seq_relationship.bias', 'cls.predictions.transform.dense.bias', 'cls.predictions.transform.LayerNorm.bias']\n",
      "- This IS expected if you are initializing BertModel from the checkpoint of a model trained on another task or with another architecture (e.g. initializing a BertForSequenceClassification model from a BertForPreTraining model).\n",
      "- This IS NOT expected if you are initializing BertModel from the checkpoint of a model that you expect to be exactly identical (initializing a BertForSequenceClassification model from a BertForSequenceClassification model).\n"
     ]
    },
    {
     "name": "stdout",
     "output_type": "stream",
     "text": [
      "Model downloaded: bert-base-uncased\n",
      "training time: 0.7921066777780652\n",
      "accuracy: 46.78899002075195\n",
      "{'params': {'reservoir_dim': 1000, 'spectral_radius': 0.5, 'leaking_rate': 0.9, 'input_scaling': 1.0, 'bias_scaling': 0.0, 'sparsity': 0.0, 'activation_function': 'relu', 'alpha': 1.0}, 'accuracy': [48.16513442993164, 49.541282653808594, 41.284400939941406, 43.1192626953125, 46.78899002075195], 'time': [0.7315201619639993, 0.766143555752933, 0.7018593167886138, 0.7658257093280554, 0.7921066777780652]}\n"
     ]
    },
    {
     "data": {
      "application/vnd.jupyter.widget-view+json": {
       "model_id": "c8463a3ea9da4532ab3eda3943ea829e",
       "version_major": 2,
       "version_minor": 0
      },
      "text/plain": [
       "  0%|          | 0/5 [00:00<?, ?it/s]"
      ]
     },
     "metadata": {},
     "output_type": "display_data"
    },
    {
     "name": "stderr",
     "output_type": "stream",
     "text": [
      "Some weights of the model checkpoint at bert-base-uncased were not used when initializing BertModel: ['cls.predictions.bias', 'cls.predictions.transform.dense.weight', 'cls.predictions.transform.LayerNorm.weight', 'cls.seq_relationship.weight', 'cls.predictions.decoder.weight', 'cls.seq_relationship.bias', 'cls.predictions.transform.dense.bias', 'cls.predictions.transform.LayerNorm.bias']\n",
      "- This IS expected if you are initializing BertModel from the checkpoint of a model trained on another task or with another architecture (e.g. initializing a BertForSequenceClassification model from a BertForPreTraining model).\n",
      "- This IS NOT expected if you are initializing BertModel from the checkpoint of a model that you expect to be exactly identical (initializing a BertForSequenceClassification model from a BertForSequenceClassification model).\n"
     ]
    },
    {
     "name": "stdout",
     "output_type": "stream",
     "text": [
      "Model downloaded: bert-base-uncased\n",
      "training time: 0.7844609161838889\n",
      "accuracy: 54.587154388427734\n",
      "{'params': {'reservoir_dim': 1000, 'spectral_radius': 0.5, 'leaking_rate': 0.9, 'input_scaling': 1.0, 'bias_scaling': 0.0, 'sparsity': 0.0, 'activation_function': 'relu', 'alpha': 10.0}, 'accuracy': [54.587154388427734], 'time': [0.7844609161838889]}\n"
     ]
    },
    {
     "name": "stderr",
     "output_type": "stream",
     "text": [
      "Some weights of the model checkpoint at bert-base-uncased were not used when initializing BertModel: ['cls.predictions.bias', 'cls.predictions.transform.dense.weight', 'cls.predictions.transform.LayerNorm.weight', 'cls.seq_relationship.weight', 'cls.predictions.decoder.weight', 'cls.seq_relationship.bias', 'cls.predictions.transform.dense.bias', 'cls.predictions.transform.LayerNorm.bias']\n",
      "- This IS expected if you are initializing BertModel from the checkpoint of a model trained on another task or with another architecture (e.g. initializing a BertForSequenceClassification model from a BertForPreTraining model).\n",
      "- This IS NOT expected if you are initializing BertModel from the checkpoint of a model that you expect to be exactly identical (initializing a BertForSequenceClassification model from a BertForSequenceClassification model).\n"
     ]
    },
    {
     "name": "stdout",
     "output_type": "stream",
     "text": [
      "Model downloaded: bert-base-uncased\n",
      "training time: 0.7226656368002295\n",
      "accuracy: 60.55045700073242\n",
      "{'params': {'reservoir_dim': 1000, 'spectral_radius': 0.5, 'leaking_rate': 0.9, 'input_scaling': 1.0, 'bias_scaling': 0.0, 'sparsity': 0.0, 'activation_function': 'relu', 'alpha': 10.0}, 'accuracy': [54.587154388427734, 60.55045700073242], 'time': [0.7844609161838889, 0.7226656368002295]}\n"
     ]
    },
    {
     "name": "stderr",
     "output_type": "stream",
     "text": [
      "Some weights of the model checkpoint at bert-base-uncased were not used when initializing BertModel: ['cls.predictions.bias', 'cls.predictions.transform.dense.weight', 'cls.predictions.transform.LayerNorm.weight', 'cls.seq_relationship.weight', 'cls.predictions.decoder.weight', 'cls.seq_relationship.bias', 'cls.predictions.transform.dense.bias', 'cls.predictions.transform.LayerNorm.bias']\n",
      "- This IS expected if you are initializing BertModel from the checkpoint of a model trained on another task or with another architecture (e.g. initializing a BertForSequenceClassification model from a BertForPreTraining model).\n",
      "- This IS NOT expected if you are initializing BertModel from the checkpoint of a model that you expect to be exactly identical (initializing a BertForSequenceClassification model from a BertForSequenceClassification model).\n"
     ]
    },
    {
     "name": "stdout",
     "output_type": "stream",
     "text": [
      "Model downloaded: bert-base-uncased\n",
      "training time: 0.7634803466498852\n",
      "accuracy: 55.045867919921875\n",
      "{'params': {'reservoir_dim': 1000, 'spectral_radius': 0.5, 'leaking_rate': 0.9, 'input_scaling': 1.0, 'bias_scaling': 0.0, 'sparsity': 0.0, 'activation_function': 'relu', 'alpha': 10.0}, 'accuracy': [54.587154388427734, 60.55045700073242, 55.045867919921875], 'time': [0.7844609161838889, 0.7226656368002295, 0.7634803466498852]}\n"
     ]
    },
    {
     "name": "stderr",
     "output_type": "stream",
     "text": [
      "Some weights of the model checkpoint at bert-base-uncased were not used when initializing BertModel: ['cls.predictions.bias', 'cls.predictions.transform.dense.weight', 'cls.predictions.transform.LayerNorm.weight', 'cls.seq_relationship.weight', 'cls.predictions.decoder.weight', 'cls.seq_relationship.bias', 'cls.predictions.transform.dense.bias', 'cls.predictions.transform.LayerNorm.bias']\n",
      "- This IS expected if you are initializing BertModel from the checkpoint of a model trained on another task or with another architecture (e.g. initializing a BertForSequenceClassification model from a BertForPreTraining model).\n",
      "- This IS NOT expected if you are initializing BertModel from the checkpoint of a model that you expect to be exactly identical (initializing a BertForSequenceClassification model from a BertForSequenceClassification model).\n"
     ]
    },
    {
     "name": "stdout",
     "output_type": "stream",
     "text": [
      "Model downloaded: bert-base-uncased\n",
      "training time: 0.7357410956174135\n",
      "accuracy: 55.045867919921875\n",
      "{'params': {'reservoir_dim': 1000, 'spectral_radius': 0.5, 'leaking_rate': 0.9, 'input_scaling': 1.0, 'bias_scaling': 0.0, 'sparsity': 0.0, 'activation_function': 'relu', 'alpha': 10.0}, 'accuracy': [54.587154388427734, 60.55045700073242, 55.045867919921875, 55.045867919921875], 'time': [0.7844609161838889, 0.7226656368002295, 0.7634803466498852, 0.7357410956174135]}\n"
     ]
    },
    {
     "name": "stderr",
     "output_type": "stream",
     "text": [
      "Some weights of the model checkpoint at bert-base-uncased were not used when initializing BertModel: ['cls.predictions.bias', 'cls.predictions.transform.dense.weight', 'cls.predictions.transform.LayerNorm.weight', 'cls.seq_relationship.weight', 'cls.predictions.decoder.weight', 'cls.seq_relationship.bias', 'cls.predictions.transform.dense.bias', 'cls.predictions.transform.LayerNorm.bias']\n",
      "- This IS expected if you are initializing BertModel from the checkpoint of a model trained on another task or with another architecture (e.g. initializing a BertForSequenceClassification model from a BertForPreTraining model).\n",
      "- This IS NOT expected if you are initializing BertModel from the checkpoint of a model that you expect to be exactly identical (initializing a BertForSequenceClassification model from a BertForSequenceClassification model).\n"
     ]
    },
    {
     "name": "stdout",
     "output_type": "stream",
     "text": [
      "Model downloaded: bert-base-uncased\n",
      "training time: 0.7368184113875031\n",
      "accuracy: 61.00917053222656\n",
      "{'params': {'reservoir_dim': 1000, 'spectral_radius': 0.5, 'leaking_rate': 0.9, 'input_scaling': 1.0, 'bias_scaling': 0.0, 'sparsity': 0.0, 'activation_function': 'relu', 'alpha': 10.0}, 'accuracy': [54.587154388427734, 60.55045700073242, 55.045867919921875, 55.045867919921875, 61.00917053222656], 'time': [0.7844609161838889, 0.7226656368002295, 0.7634803466498852, 0.7357410956174135, 0.7368184113875031]}\n"
     ]
    },
    {
     "data": {
      "application/vnd.jupyter.widget-view+json": {
       "model_id": "a89d1fb84c0c4e8bb2b65c1de57866de",
       "version_major": 2,
       "version_minor": 0
      },
      "text/plain": [
       "  0%|          | 0/5 [00:00<?, ?it/s]"
      ]
     },
     "metadata": {},
     "output_type": "display_data"
    },
    {
     "name": "stderr",
     "output_type": "stream",
     "text": [
      "Some weights of the model checkpoint at bert-base-uncased were not used when initializing BertModel: ['cls.predictions.bias', 'cls.predictions.transform.dense.weight', 'cls.predictions.transform.LayerNorm.weight', 'cls.seq_relationship.weight', 'cls.predictions.decoder.weight', 'cls.seq_relationship.bias', 'cls.predictions.transform.dense.bias', 'cls.predictions.transform.LayerNorm.bias']\n",
      "- This IS expected if you are initializing BertModel from the checkpoint of a model trained on another task or with another architecture (e.g. initializing a BertForSequenceClassification model from a BertForPreTraining model).\n",
      "- This IS NOT expected if you are initializing BertModel from the checkpoint of a model that you expect to be exactly identical (initializing a BertForSequenceClassification model from a BertForSequenceClassification model).\n"
     ]
    },
    {
     "name": "stdout",
     "output_type": "stream",
     "text": [
      "Model downloaded: bert-base-uncased\n",
      "training time: 0.9129869751632214\n",
      "accuracy: 42.66054916381836\n",
      "{'params': {'reservoir_dim': 1000, 'spectral_radius': 0.5, 'leaking_rate': 0.9, 'input_scaling': 1.0, 'bias_scaling': 0.0, 'sparsity': 0.99, 'activation_function': 'relu', 'alpha': 0.1}, 'accuracy': [42.66054916381836], 'time': [0.9129869751632214]}\n"
     ]
    },
    {
     "name": "stderr",
     "output_type": "stream",
     "text": [
      "Some weights of the model checkpoint at bert-base-uncased were not used when initializing BertModel: ['cls.predictions.bias', 'cls.predictions.transform.dense.weight', 'cls.predictions.transform.LayerNorm.weight', 'cls.seq_relationship.weight', 'cls.predictions.decoder.weight', 'cls.seq_relationship.bias', 'cls.predictions.transform.dense.bias', 'cls.predictions.transform.LayerNorm.bias']\n",
      "- This IS expected if you are initializing BertModel from the checkpoint of a model trained on another task or with another architecture (e.g. initializing a BertForSequenceClassification model from a BertForPreTraining model).\n",
      "- This IS NOT expected if you are initializing BertModel from the checkpoint of a model that you expect to be exactly identical (initializing a BertForSequenceClassification model from a BertForSequenceClassification model).\n"
     ]
    },
    {
     "name": "stdout",
     "output_type": "stream",
     "text": [
      "Model downloaded: bert-base-uncased\n",
      "training time: 0.7445923695340753\n",
      "accuracy: 31.65137481689453\n",
      "{'params': {'reservoir_dim': 1000, 'spectral_radius': 0.5, 'leaking_rate': 0.9, 'input_scaling': 1.0, 'bias_scaling': 0.0, 'sparsity': 0.99, 'activation_function': 'relu', 'alpha': 0.1}, 'accuracy': [42.66054916381836, 31.65137481689453], 'time': [0.9129869751632214, 0.7445923695340753]}\n"
     ]
    },
    {
     "name": "stderr",
     "output_type": "stream",
     "text": [
      "Some weights of the model checkpoint at bert-base-uncased were not used when initializing BertModel: ['cls.predictions.bias', 'cls.predictions.transform.dense.weight', 'cls.predictions.transform.LayerNorm.weight', 'cls.seq_relationship.weight', 'cls.predictions.decoder.weight', 'cls.seq_relationship.bias', 'cls.predictions.transform.dense.bias', 'cls.predictions.transform.LayerNorm.bias']\n",
      "- This IS expected if you are initializing BertModel from the checkpoint of a model trained on another task or with another architecture (e.g. initializing a BertForSequenceClassification model from a BertForPreTraining model).\n",
      "- This IS NOT expected if you are initializing BertModel from the checkpoint of a model that you expect to be exactly identical (initializing a BertForSequenceClassification model from a BertForSequenceClassification model).\n"
     ]
    },
    {
     "name": "stdout",
     "output_type": "stream",
     "text": [
      "Model downloaded: bert-base-uncased\n",
      "training time: 0.7546292152255774\n",
      "accuracy: 37.61467742919922\n",
      "{'params': {'reservoir_dim': 1000, 'spectral_radius': 0.5, 'leaking_rate': 0.9, 'input_scaling': 1.0, 'bias_scaling': 0.0, 'sparsity': 0.99, 'activation_function': 'relu', 'alpha': 0.1}, 'accuracy': [42.66054916381836, 31.65137481689453, 37.61467742919922], 'time': [0.9129869751632214, 0.7445923695340753, 0.7546292152255774]}\n"
     ]
    },
    {
     "name": "stderr",
     "output_type": "stream",
     "text": [
      "Some weights of the model checkpoint at bert-base-uncased were not used when initializing BertModel: ['cls.predictions.bias', 'cls.predictions.transform.dense.weight', 'cls.predictions.transform.LayerNorm.weight', 'cls.seq_relationship.weight', 'cls.predictions.decoder.weight', 'cls.seq_relationship.bias', 'cls.predictions.transform.dense.bias', 'cls.predictions.transform.LayerNorm.bias']\n",
      "- This IS expected if you are initializing BertModel from the checkpoint of a model trained on another task or with another architecture (e.g. initializing a BertForSequenceClassification model from a BertForPreTraining model).\n",
      "- This IS NOT expected if you are initializing BertModel from the checkpoint of a model that you expect to be exactly identical (initializing a BertForSequenceClassification model from a BertForSequenceClassification model).\n"
     ]
    },
    {
     "name": "stdout",
     "output_type": "stream",
     "text": [
      "Model downloaded: bert-base-uncased\n",
      "training time: 0.6963134929537773\n",
      "accuracy: 31.192659378051758\n",
      "{'params': {'reservoir_dim': 1000, 'spectral_radius': 0.5, 'leaking_rate': 0.9, 'input_scaling': 1.0, 'bias_scaling': 0.0, 'sparsity': 0.99, 'activation_function': 'relu', 'alpha': 0.1}, 'accuracy': [42.66054916381836, 31.65137481689453, 37.61467742919922, 31.192659378051758], 'time': [0.9129869751632214, 0.7445923695340753, 0.7546292152255774, 0.6963134929537773]}\n"
     ]
    },
    {
     "name": "stderr",
     "output_type": "stream",
     "text": [
      "Some weights of the model checkpoint at bert-base-uncased were not used when initializing BertModel: ['cls.predictions.bias', 'cls.predictions.transform.dense.weight', 'cls.predictions.transform.LayerNorm.weight', 'cls.seq_relationship.weight', 'cls.predictions.decoder.weight', 'cls.seq_relationship.bias', 'cls.predictions.transform.dense.bias', 'cls.predictions.transform.LayerNorm.bias']\n",
      "- This IS expected if you are initializing BertModel from the checkpoint of a model trained on another task or with another architecture (e.g. initializing a BertForSequenceClassification model from a BertForPreTraining model).\n",
      "- This IS NOT expected if you are initializing BertModel from the checkpoint of a model that you expect to be exactly identical (initializing a BertForSequenceClassification model from a BertForSequenceClassification model).\n"
     ]
    },
    {
     "name": "stdout",
     "output_type": "stream",
     "text": [
      "Model downloaded: bert-base-uncased\n",
      "training time: 0.7718422692269087\n",
      "accuracy: 34.40366744995117\n",
      "{'params': {'reservoir_dim': 1000, 'spectral_radius': 0.5, 'leaking_rate': 0.9, 'input_scaling': 1.0, 'bias_scaling': 0.0, 'sparsity': 0.99, 'activation_function': 'relu', 'alpha': 0.1}, 'accuracy': [42.66054916381836, 31.65137481689453, 37.61467742919922, 31.192659378051758, 34.40366744995117], 'time': [0.9129869751632214, 0.7445923695340753, 0.7546292152255774, 0.6963134929537773, 0.7718422692269087]}\n"
     ]
    },
    {
     "data": {
      "application/vnd.jupyter.widget-view+json": {
       "model_id": "a3514151f09b4b0883060630ca72422d",
       "version_major": 2,
       "version_minor": 0
      },
      "text/plain": [
       "  0%|          | 0/5 [00:00<?, ?it/s]"
      ]
     },
     "metadata": {},
     "output_type": "display_data"
    },
    {
     "name": "stderr",
     "output_type": "stream",
     "text": [
      "Some weights of the model checkpoint at bert-base-uncased were not used when initializing BertModel: ['cls.predictions.bias', 'cls.predictions.transform.dense.weight', 'cls.predictions.transform.LayerNorm.weight', 'cls.seq_relationship.weight', 'cls.predictions.decoder.weight', 'cls.seq_relationship.bias', 'cls.predictions.transform.dense.bias', 'cls.predictions.transform.LayerNorm.bias']\n",
      "- This IS expected if you are initializing BertModel from the checkpoint of a model trained on another task or with another architecture (e.g. initializing a BertForSequenceClassification model from a BertForPreTraining model).\n",
      "- This IS NOT expected if you are initializing BertModel from the checkpoint of a model that you expect to be exactly identical (initializing a BertForSequenceClassification model from a BertForSequenceClassification model).\n"
     ]
    },
    {
     "name": "stdout",
     "output_type": "stream",
     "text": [
      "Model downloaded: bert-base-uncased\n",
      "training time: 0.8178070681169629\n",
      "accuracy: 24.311925888061523\n",
      "{'params': {'reservoir_dim': 1000, 'spectral_radius': 0.5, 'leaking_rate': 0.9, 'input_scaling': 1.0, 'bias_scaling': 0.0, 'sparsity': 0.99, 'activation_function': 'relu', 'alpha': 1.0}, 'accuracy': [24.311925888061523], 'time': [0.8178070681169629]}\n"
     ]
    },
    {
     "name": "stderr",
     "output_type": "stream",
     "text": [
      "Some weights of the model checkpoint at bert-base-uncased were not used when initializing BertModel: ['cls.predictions.bias', 'cls.predictions.transform.dense.weight', 'cls.predictions.transform.LayerNorm.weight', 'cls.seq_relationship.weight', 'cls.predictions.decoder.weight', 'cls.seq_relationship.bias', 'cls.predictions.transform.dense.bias', 'cls.predictions.transform.LayerNorm.bias']\n",
      "- This IS expected if you are initializing BertModel from the checkpoint of a model trained on another task or with another architecture (e.g. initializing a BertForSequenceClassification model from a BertForPreTraining model).\n",
      "- This IS NOT expected if you are initializing BertModel from the checkpoint of a model that you expect to be exactly identical (initializing a BertForSequenceClassification model from a BertForSequenceClassification model).\n"
     ]
    },
    {
     "name": "stdout",
     "output_type": "stream",
     "text": [
      "Model downloaded: bert-base-uncased\n",
      "training time: 0.7507715197280049\n",
      "accuracy: 29.816513061523438\n",
      "{'params': {'reservoir_dim': 1000, 'spectral_radius': 0.5, 'leaking_rate': 0.9, 'input_scaling': 1.0, 'bias_scaling': 0.0, 'sparsity': 0.99, 'activation_function': 'relu', 'alpha': 1.0}, 'accuracy': [24.311925888061523, 29.816513061523438], 'time': [0.8178070681169629, 0.7507715197280049]}\n"
     ]
    },
    {
     "name": "stderr",
     "output_type": "stream",
     "text": [
      "Some weights of the model checkpoint at bert-base-uncased were not used when initializing BertModel: ['cls.predictions.bias', 'cls.predictions.transform.dense.weight', 'cls.predictions.transform.LayerNorm.weight', 'cls.seq_relationship.weight', 'cls.predictions.decoder.weight', 'cls.seq_relationship.bias', 'cls.predictions.transform.dense.bias', 'cls.predictions.transform.LayerNorm.bias']\n",
      "- This IS expected if you are initializing BertModel from the checkpoint of a model trained on another task or with another architecture (e.g. initializing a BertForSequenceClassification model from a BertForPreTraining model).\n",
      "- This IS NOT expected if you are initializing BertModel from the checkpoint of a model that you expect to be exactly identical (initializing a BertForSequenceClassification model from a BertForSequenceClassification model).\n"
     ]
    },
    {
     "name": "stdout",
     "output_type": "stream",
     "text": [
      "Model downloaded: bert-base-uncased\n",
      "training time: 0.7467271275818348\n",
      "accuracy: 49.541282653808594\n",
      "{'params': {'reservoir_dim': 1000, 'spectral_radius': 0.5, 'leaking_rate': 0.9, 'input_scaling': 1.0, 'bias_scaling': 0.0, 'sparsity': 0.99, 'activation_function': 'relu', 'alpha': 1.0}, 'accuracy': [24.311925888061523, 29.816513061523438, 49.541282653808594], 'time': [0.8178070681169629, 0.7507715197280049, 0.7467271275818348]}\n"
     ]
    },
    {
     "name": "stderr",
     "output_type": "stream",
     "text": [
      "Some weights of the model checkpoint at bert-base-uncased were not used when initializing BertModel: ['cls.predictions.bias', 'cls.predictions.transform.dense.weight', 'cls.predictions.transform.LayerNorm.weight', 'cls.seq_relationship.weight', 'cls.predictions.decoder.weight', 'cls.seq_relationship.bias', 'cls.predictions.transform.dense.bias', 'cls.predictions.transform.LayerNorm.bias']\n",
      "- This IS expected if you are initializing BertModel from the checkpoint of a model trained on another task or with another architecture (e.g. initializing a BertForSequenceClassification model from a BertForPreTraining model).\n",
      "- This IS NOT expected if you are initializing BertModel from the checkpoint of a model that you expect to be exactly identical (initializing a BertForSequenceClassification model from a BertForSequenceClassification model).\n"
     ]
    },
    {
     "name": "stdout",
     "output_type": "stream",
     "text": [
      "Model downloaded: bert-base-uncased\n",
      "training time: 0.7458801567554474\n",
      "accuracy: 51.37614440917969\n",
      "{'params': {'reservoir_dim': 1000, 'spectral_radius': 0.5, 'leaking_rate': 0.9, 'input_scaling': 1.0, 'bias_scaling': 0.0, 'sparsity': 0.99, 'activation_function': 'relu', 'alpha': 1.0}, 'accuracy': [24.311925888061523, 29.816513061523438, 49.541282653808594, 51.37614440917969], 'time': [0.8178070681169629, 0.7507715197280049, 0.7467271275818348, 0.7458801567554474]}\n"
     ]
    },
    {
     "name": "stderr",
     "output_type": "stream",
     "text": [
      "Some weights of the model checkpoint at bert-base-uncased were not used when initializing BertModel: ['cls.predictions.bias', 'cls.predictions.transform.dense.weight', 'cls.predictions.transform.LayerNorm.weight', 'cls.seq_relationship.weight', 'cls.predictions.decoder.weight', 'cls.seq_relationship.bias', 'cls.predictions.transform.dense.bias', 'cls.predictions.transform.LayerNorm.bias']\n",
      "- This IS expected if you are initializing BertModel from the checkpoint of a model trained on another task or with another architecture (e.g. initializing a BertForSequenceClassification model from a BertForPreTraining model).\n",
      "- This IS NOT expected if you are initializing BertModel from the checkpoint of a model that you expect to be exactly identical (initializing a BertForSequenceClassification model from a BertForSequenceClassification model).\n"
     ]
    },
    {
     "name": "stdout",
     "output_type": "stream",
     "text": [
      "Model downloaded: bert-base-uncased\n",
      "training time: 0.7794363908469677\n",
      "accuracy: 49.541282653808594\n",
      "{'params': {'reservoir_dim': 1000, 'spectral_radius': 0.5, 'leaking_rate': 0.9, 'input_scaling': 1.0, 'bias_scaling': 0.0, 'sparsity': 0.99, 'activation_function': 'relu', 'alpha': 1.0}, 'accuracy': [24.311925888061523, 29.816513061523438, 49.541282653808594, 51.37614440917969, 49.541282653808594], 'time': [0.8178070681169629, 0.7507715197280049, 0.7467271275818348, 0.7458801567554474, 0.7794363908469677]}\n"
     ]
    },
    {
     "data": {
      "application/vnd.jupyter.widget-view+json": {
       "model_id": "df2c6900d16c415e94507c82e35a49b3",
       "version_major": 2,
       "version_minor": 0
      },
      "text/plain": [
       "  0%|          | 0/5 [00:00<?, ?it/s]"
      ]
     },
     "metadata": {},
     "output_type": "display_data"
    },
    {
     "name": "stderr",
     "output_type": "stream",
     "text": [
      "Some weights of the model checkpoint at bert-base-uncased were not used when initializing BertModel: ['cls.predictions.bias', 'cls.predictions.transform.dense.weight', 'cls.predictions.transform.LayerNorm.weight', 'cls.seq_relationship.weight', 'cls.predictions.decoder.weight', 'cls.seq_relationship.bias', 'cls.predictions.transform.dense.bias', 'cls.predictions.transform.LayerNorm.bias']\n",
      "- This IS expected if you are initializing BertModel from the checkpoint of a model trained on another task or with another architecture (e.g. initializing a BertForSequenceClassification model from a BertForPreTraining model).\n",
      "- This IS NOT expected if you are initializing BertModel from the checkpoint of a model that you expect to be exactly identical (initializing a BertForSequenceClassification model from a BertForSequenceClassification model).\n"
     ]
    },
    {
     "name": "stdout",
     "output_type": "stream",
     "text": [
      "Model downloaded: bert-base-uncased\n",
      "training time: 0.7182529829442501\n",
      "accuracy: 61.46788787841797\n",
      "{'params': {'reservoir_dim': 1000, 'spectral_radius': 0.5, 'leaking_rate': 0.9, 'input_scaling': 1.0, 'bias_scaling': 0.0, 'sparsity': 0.99, 'activation_function': 'relu', 'alpha': 10.0}, 'accuracy': [61.46788787841797], 'time': [0.7182529829442501]}\n"
     ]
    },
    {
     "name": "stderr",
     "output_type": "stream",
     "text": [
      "Some weights of the model checkpoint at bert-base-uncased were not used when initializing BertModel: ['cls.predictions.bias', 'cls.predictions.transform.dense.weight', 'cls.predictions.transform.LayerNorm.weight', 'cls.seq_relationship.weight', 'cls.predictions.decoder.weight', 'cls.seq_relationship.bias', 'cls.predictions.transform.dense.bias', 'cls.predictions.transform.LayerNorm.bias']\n",
      "- This IS expected if you are initializing BertModel from the checkpoint of a model trained on another task or with another architecture (e.g. initializing a BertForSequenceClassification model from a BertForPreTraining model).\n",
      "- This IS NOT expected if you are initializing BertModel from the checkpoint of a model that you expect to be exactly identical (initializing a BertForSequenceClassification model from a BertForSequenceClassification model).\n"
     ]
    },
    {
     "name": "stdout",
     "output_type": "stream",
     "text": [
      "Model downloaded: bert-base-uncased\n",
      "training time: 0.7904986348003149\n",
      "accuracy: 59.633026123046875\n",
      "{'params': {'reservoir_dim': 1000, 'spectral_radius': 0.5, 'leaking_rate': 0.9, 'input_scaling': 1.0, 'bias_scaling': 0.0, 'sparsity': 0.99, 'activation_function': 'relu', 'alpha': 10.0}, 'accuracy': [61.46788787841797, 59.633026123046875], 'time': [0.7182529829442501, 0.7904986348003149]}\n"
     ]
    },
    {
     "name": "stderr",
     "output_type": "stream",
     "text": [
      "Some weights of the model checkpoint at bert-base-uncased were not used when initializing BertModel: ['cls.predictions.bias', 'cls.predictions.transform.dense.weight', 'cls.predictions.transform.LayerNorm.weight', 'cls.seq_relationship.weight', 'cls.predictions.decoder.weight', 'cls.seq_relationship.bias', 'cls.predictions.transform.dense.bias', 'cls.predictions.transform.LayerNorm.bias']\n",
      "- This IS expected if you are initializing BertModel from the checkpoint of a model trained on another task or with another architecture (e.g. initializing a BertForSequenceClassification model from a BertForPreTraining model).\n",
      "- This IS NOT expected if you are initializing BertModel from the checkpoint of a model that you expect to be exactly identical (initializing a BertForSequenceClassification model from a BertForSequenceClassification model).\n"
     ]
    },
    {
     "name": "stdout",
     "output_type": "stream",
     "text": [
      "Model downloaded: bert-base-uncased\n",
      "training time: 0.9171953704208136\n",
      "accuracy: 60.091739654541016\n",
      "{'params': {'reservoir_dim': 1000, 'spectral_radius': 0.5, 'leaking_rate': 0.9, 'input_scaling': 1.0, 'bias_scaling': 0.0, 'sparsity': 0.99, 'activation_function': 'relu', 'alpha': 10.0}, 'accuracy': [61.46788787841797, 59.633026123046875, 60.091739654541016], 'time': [0.7182529829442501, 0.7904986348003149, 0.9171953704208136]}\n"
     ]
    },
    {
     "name": "stderr",
     "output_type": "stream",
     "text": [
      "Some weights of the model checkpoint at bert-base-uncased were not used when initializing BertModel: ['cls.predictions.bias', 'cls.predictions.transform.dense.weight', 'cls.predictions.transform.LayerNorm.weight', 'cls.seq_relationship.weight', 'cls.predictions.decoder.weight', 'cls.seq_relationship.bias', 'cls.predictions.transform.dense.bias', 'cls.predictions.transform.LayerNorm.bias']\n",
      "- This IS expected if you are initializing BertModel from the checkpoint of a model trained on another task or with another architecture (e.g. initializing a BertForSequenceClassification model from a BertForPreTraining model).\n",
      "- This IS NOT expected if you are initializing BertModel from the checkpoint of a model that you expect to be exactly identical (initializing a BertForSequenceClassification model from a BertForSequenceClassification model).\n"
     ]
    },
    {
     "name": "stdout",
     "output_type": "stream",
     "text": [
      "Model downloaded: bert-base-uncased\n",
      "training time: 0.7017093114554882\n",
      "accuracy: 55.96329879760742\n",
      "{'params': {'reservoir_dim': 1000, 'spectral_radius': 0.5, 'leaking_rate': 0.9, 'input_scaling': 1.0, 'bias_scaling': 0.0, 'sparsity': 0.99, 'activation_function': 'relu', 'alpha': 10.0}, 'accuracy': [61.46788787841797, 59.633026123046875, 60.091739654541016, 55.96329879760742], 'time': [0.7182529829442501, 0.7904986348003149, 0.9171953704208136, 0.7017093114554882]}\n"
     ]
    },
    {
     "name": "stderr",
     "output_type": "stream",
     "text": [
      "Some weights of the model checkpoint at bert-base-uncased were not used when initializing BertModel: ['cls.predictions.bias', 'cls.predictions.transform.dense.weight', 'cls.predictions.transform.LayerNorm.weight', 'cls.seq_relationship.weight', 'cls.predictions.decoder.weight', 'cls.seq_relationship.bias', 'cls.predictions.transform.dense.bias', 'cls.predictions.transform.LayerNorm.bias']\n",
      "- This IS expected if you are initializing BertModel from the checkpoint of a model trained on another task or with another architecture (e.g. initializing a BertForSequenceClassification model from a BertForPreTraining model).\n",
      "- This IS NOT expected if you are initializing BertModel from the checkpoint of a model that you expect to be exactly identical (initializing a BertForSequenceClassification model from a BertForSequenceClassification model).\n"
     ]
    },
    {
     "name": "stdout",
     "output_type": "stream",
     "text": [
      "Model downloaded: bert-base-uncased\n",
      "training time: 0.7435197569429874\n",
      "accuracy: 59.17430877685547\n",
      "{'params': {'reservoir_dim': 1000, 'spectral_radius': 0.5, 'leaking_rate': 0.9, 'input_scaling': 1.0, 'bias_scaling': 0.0, 'sparsity': 0.99, 'activation_function': 'relu', 'alpha': 10.0}, 'accuracy': [61.46788787841797, 59.633026123046875, 60.091739654541016, 55.96329879760742, 59.17430877685547], 'time': [0.7182529829442501, 0.7904986348003149, 0.9171953704208136, 0.7017093114554882, 0.7435197569429874]}\n"
     ]
    },
    {
     "data": {
      "application/vnd.jupyter.widget-view+json": {
       "model_id": "0c4cdcfcbfad40b7ab5b846ea712463b",
       "version_major": 2,
       "version_minor": 0
      },
      "text/plain": [
       "  0%|          | 0/5 [00:00<?, ?it/s]"
      ]
     },
     "metadata": {},
     "output_type": "display_data"
    },
    {
     "name": "stderr",
     "output_type": "stream",
     "text": [
      "Some weights of the model checkpoint at bert-base-uncased were not used when initializing BertModel: ['cls.predictions.bias', 'cls.predictions.transform.dense.weight', 'cls.predictions.transform.LayerNorm.weight', 'cls.seq_relationship.weight', 'cls.predictions.decoder.weight', 'cls.seq_relationship.bias', 'cls.predictions.transform.dense.bias', 'cls.predictions.transform.LayerNorm.bias']\n",
      "- This IS expected if you are initializing BertModel from the checkpoint of a model trained on another task or with another architecture (e.g. initializing a BertForSequenceClassification model from a BertForPreTraining model).\n",
      "- This IS NOT expected if you are initializing BertModel from the checkpoint of a model that you expect to be exactly identical (initializing a BertForSequenceClassification model from a BertForSequenceClassification model).\n"
     ]
    },
    {
     "name": "stdout",
     "output_type": "stream",
     "text": [
      "Model downloaded: bert-base-uncased\n",
      "training time: 0.745177648961544\n",
      "accuracy: 68.80733489990234\n",
      "{'params': {'reservoir_dim': 1000, 'spectral_radius': 1.0, 'leaking_rate': 0.1, 'input_scaling': 0.1, 'bias_scaling': 0.0, 'sparsity': 0.0, 'activation_function': 'relu', 'alpha': 0.1}, 'accuracy': [68.80733489990234], 'time': [0.745177648961544]}\n"
     ]
    },
    {
     "name": "stderr",
     "output_type": "stream",
     "text": [
      "Some weights of the model checkpoint at bert-base-uncased were not used when initializing BertModel: ['cls.predictions.bias', 'cls.predictions.transform.dense.weight', 'cls.predictions.transform.LayerNorm.weight', 'cls.seq_relationship.weight', 'cls.predictions.decoder.weight', 'cls.seq_relationship.bias', 'cls.predictions.transform.dense.bias', 'cls.predictions.transform.LayerNorm.bias']\n",
      "- This IS expected if you are initializing BertModel from the checkpoint of a model trained on another task or with another architecture (e.g. initializing a BertForSequenceClassification model from a BertForPreTraining model).\n",
      "- This IS NOT expected if you are initializing BertModel from the checkpoint of a model that you expect to be exactly identical (initializing a BertForSequenceClassification model from a BertForSequenceClassification model).\n"
     ]
    },
    {
     "name": "stdout",
     "output_type": "stream",
     "text": [
      "Model downloaded: bert-base-uncased\n",
      "training time: 0.7803822932764888\n",
      "accuracy: 71.55963134765625\n",
      "{'params': {'reservoir_dim': 1000, 'spectral_radius': 1.0, 'leaking_rate': 0.1, 'input_scaling': 0.1, 'bias_scaling': 0.0, 'sparsity': 0.0, 'activation_function': 'relu', 'alpha': 0.1}, 'accuracy': [68.80733489990234, 71.55963134765625], 'time': [0.745177648961544, 0.7803822932764888]}\n"
     ]
    },
    {
     "name": "stderr",
     "output_type": "stream",
     "text": [
      "Some weights of the model checkpoint at bert-base-uncased were not used when initializing BertModel: ['cls.predictions.bias', 'cls.predictions.transform.dense.weight', 'cls.predictions.transform.LayerNorm.weight', 'cls.seq_relationship.weight', 'cls.predictions.decoder.weight', 'cls.seq_relationship.bias', 'cls.predictions.transform.dense.bias', 'cls.predictions.transform.LayerNorm.bias']\n",
      "- This IS expected if you are initializing BertModel from the checkpoint of a model trained on another task or with another architecture (e.g. initializing a BertForSequenceClassification model from a BertForPreTraining model).\n",
      "- This IS NOT expected if you are initializing BertModel from the checkpoint of a model that you expect to be exactly identical (initializing a BertForSequenceClassification model from a BertForSequenceClassification model).\n"
     ]
    },
    {
     "name": "stdout",
     "output_type": "stream",
     "text": [
      "Model downloaded: bert-base-uncased\n",
      "training time: 0.7916576704010367\n",
      "accuracy: 75.68807220458984\n",
      "{'params': {'reservoir_dim': 1000, 'spectral_radius': 1.0, 'leaking_rate': 0.1, 'input_scaling': 0.1, 'bias_scaling': 0.0, 'sparsity': 0.0, 'activation_function': 'relu', 'alpha': 0.1}, 'accuracy': [68.80733489990234, 71.55963134765625, 75.68807220458984], 'time': [0.745177648961544, 0.7803822932764888, 0.7916576704010367]}\n"
     ]
    },
    {
     "name": "stderr",
     "output_type": "stream",
     "text": [
      "Some weights of the model checkpoint at bert-base-uncased were not used when initializing BertModel: ['cls.predictions.bias', 'cls.predictions.transform.dense.weight', 'cls.predictions.transform.LayerNorm.weight', 'cls.seq_relationship.weight', 'cls.predictions.decoder.weight', 'cls.seq_relationship.bias', 'cls.predictions.transform.dense.bias', 'cls.predictions.transform.LayerNorm.bias']\n",
      "- This IS expected if you are initializing BertModel from the checkpoint of a model trained on another task or with another architecture (e.g. initializing a BertForSequenceClassification model from a BertForPreTraining model).\n",
      "- This IS NOT expected if you are initializing BertModel from the checkpoint of a model that you expect to be exactly identical (initializing a BertForSequenceClassification model from a BertForSequenceClassification model).\n"
     ]
    },
    {
     "name": "stdout",
     "output_type": "stream",
     "text": [
      "Model downloaded: bert-base-uncased\n",
      "training time: 0.7280043307691813\n",
      "accuracy: 72.93577575683594\n",
      "{'params': {'reservoir_dim': 1000, 'spectral_radius': 1.0, 'leaking_rate': 0.1, 'input_scaling': 0.1, 'bias_scaling': 0.0, 'sparsity': 0.0, 'activation_function': 'relu', 'alpha': 0.1}, 'accuracy': [68.80733489990234, 71.55963134765625, 75.68807220458984, 72.93577575683594], 'time': [0.745177648961544, 0.7803822932764888, 0.7916576704010367, 0.7280043307691813]}\n"
     ]
    },
    {
     "name": "stderr",
     "output_type": "stream",
     "text": [
      "Some weights of the model checkpoint at bert-base-uncased were not used when initializing BertModel: ['cls.predictions.bias', 'cls.predictions.transform.dense.weight', 'cls.predictions.transform.LayerNorm.weight', 'cls.seq_relationship.weight', 'cls.predictions.decoder.weight', 'cls.seq_relationship.bias', 'cls.predictions.transform.dense.bias', 'cls.predictions.transform.LayerNorm.bias']\n",
      "- This IS expected if you are initializing BertModel from the checkpoint of a model trained on another task or with another architecture (e.g. initializing a BertForSequenceClassification model from a BertForPreTraining model).\n",
      "- This IS NOT expected if you are initializing BertModel from the checkpoint of a model that you expect to be exactly identical (initializing a BertForSequenceClassification model from a BertForSequenceClassification model).\n"
     ]
    },
    {
     "name": "stdout",
     "output_type": "stream",
     "text": [
      "Model downloaded: bert-base-uncased\n",
      "training time: 0.7129823435097933\n",
      "accuracy: 74.31192016601562\n",
      "{'params': {'reservoir_dim': 1000, 'spectral_radius': 1.0, 'leaking_rate': 0.1, 'input_scaling': 0.1, 'bias_scaling': 0.0, 'sparsity': 0.0, 'activation_function': 'relu', 'alpha': 0.1}, 'accuracy': [68.80733489990234, 71.55963134765625, 75.68807220458984, 72.93577575683594, 74.31192016601562], 'time': [0.745177648961544, 0.7803822932764888, 0.7916576704010367, 0.7280043307691813, 0.7129823435097933]}\n"
     ]
    },
    {
     "data": {
      "application/vnd.jupyter.widget-view+json": {
       "model_id": "6f4f15f437c34e0f93f4289662d2d05a",
       "version_major": 2,
       "version_minor": 0
      },
      "text/plain": [
       "  0%|          | 0/5 [00:00<?, ?it/s]"
      ]
     },
     "metadata": {},
     "output_type": "display_data"
    },
    {
     "name": "stderr",
     "output_type": "stream",
     "text": [
      "Some weights of the model checkpoint at bert-base-uncased were not used when initializing BertModel: ['cls.predictions.bias', 'cls.predictions.transform.dense.weight', 'cls.predictions.transform.LayerNorm.weight', 'cls.seq_relationship.weight', 'cls.predictions.decoder.weight', 'cls.seq_relationship.bias', 'cls.predictions.transform.dense.bias', 'cls.predictions.transform.LayerNorm.bias']\n",
      "- This IS expected if you are initializing BertModel from the checkpoint of a model trained on another task or with another architecture (e.g. initializing a BertForSequenceClassification model from a BertForPreTraining model).\n",
      "- This IS NOT expected if you are initializing BertModel from the checkpoint of a model that you expect to be exactly identical (initializing a BertForSequenceClassification model from a BertForSequenceClassification model).\n"
     ]
    },
    {
     "name": "stdout",
     "output_type": "stream",
     "text": [
      "Model downloaded: bert-base-uncased\n",
      "training time: 0.7761870278045535\n",
      "accuracy: 79.35779571533203\n",
      "{'params': {'reservoir_dim': 1000, 'spectral_radius': 1.0, 'leaking_rate': 0.1, 'input_scaling': 0.1, 'bias_scaling': 0.0, 'sparsity': 0.0, 'activation_function': 'relu', 'alpha': 1.0}, 'accuracy': [79.35779571533203], 'time': [0.7761870278045535]}\n"
     ]
    },
    {
     "name": "stderr",
     "output_type": "stream",
     "text": [
      "Some weights of the model checkpoint at bert-base-uncased were not used when initializing BertModel: ['cls.predictions.bias', 'cls.predictions.transform.dense.weight', 'cls.predictions.transform.LayerNorm.weight', 'cls.seq_relationship.weight', 'cls.predictions.decoder.weight', 'cls.seq_relationship.bias', 'cls.predictions.transform.dense.bias', 'cls.predictions.transform.LayerNorm.bias']\n",
      "- This IS expected if you are initializing BertModel from the checkpoint of a model trained on another task or with another architecture (e.g. initializing a BertForSequenceClassification model from a BertForPreTraining model).\n",
      "- This IS NOT expected if you are initializing BertModel from the checkpoint of a model that you expect to be exactly identical (initializing a BertForSequenceClassification model from a BertForSequenceClassification model).\n"
     ]
    },
    {
     "name": "stdout",
     "output_type": "stream",
     "text": [
      "Model downloaded: bert-base-uncased\n",
      "training time: 0.7415844723582268\n",
      "accuracy: 80.73394012451172\n",
      "{'params': {'reservoir_dim': 1000, 'spectral_radius': 1.0, 'leaking_rate': 0.1, 'input_scaling': 0.1, 'bias_scaling': 0.0, 'sparsity': 0.0, 'activation_function': 'relu', 'alpha': 1.0}, 'accuracy': [79.35779571533203, 80.73394012451172], 'time': [0.7761870278045535, 0.7415844723582268]}\n"
     ]
    },
    {
     "name": "stderr",
     "output_type": "stream",
     "text": [
      "Some weights of the model checkpoint at bert-base-uncased were not used when initializing BertModel: ['cls.predictions.bias', 'cls.predictions.transform.dense.weight', 'cls.predictions.transform.LayerNorm.weight', 'cls.seq_relationship.weight', 'cls.predictions.decoder.weight', 'cls.seq_relationship.bias', 'cls.predictions.transform.dense.bias', 'cls.predictions.transform.LayerNorm.bias']\n",
      "- This IS expected if you are initializing BertModel from the checkpoint of a model trained on another task or with another architecture (e.g. initializing a BertForSequenceClassification model from a BertForPreTraining model).\n",
      "- This IS NOT expected if you are initializing BertModel from the checkpoint of a model that you expect to be exactly identical (initializing a BertForSequenceClassification model from a BertForSequenceClassification model).\n"
     ]
    },
    {
     "name": "stdout",
     "output_type": "stream",
     "text": [
      "Model downloaded: bert-base-uncased\n",
      "training time: 0.7541085667908192\n",
      "accuracy: 79.35779571533203\n",
      "{'params': {'reservoir_dim': 1000, 'spectral_radius': 1.0, 'leaking_rate': 0.1, 'input_scaling': 0.1, 'bias_scaling': 0.0, 'sparsity': 0.0, 'activation_function': 'relu', 'alpha': 1.0}, 'accuracy': [79.35779571533203, 80.73394012451172, 79.35779571533203], 'time': [0.7761870278045535, 0.7415844723582268, 0.7541085667908192]}\n"
     ]
    },
    {
     "name": "stderr",
     "output_type": "stream",
     "text": [
      "Some weights of the model checkpoint at bert-base-uncased were not used when initializing BertModel: ['cls.predictions.bias', 'cls.predictions.transform.dense.weight', 'cls.predictions.transform.LayerNorm.weight', 'cls.seq_relationship.weight', 'cls.predictions.decoder.weight', 'cls.seq_relationship.bias', 'cls.predictions.transform.dense.bias', 'cls.predictions.transform.LayerNorm.bias']\n",
      "- This IS expected if you are initializing BertModel from the checkpoint of a model trained on another task or with another architecture (e.g. initializing a BertForSequenceClassification model from a BertForPreTraining model).\n",
      "- This IS NOT expected if you are initializing BertModel from the checkpoint of a model that you expect to be exactly identical (initializing a BertForSequenceClassification model from a BertForSequenceClassification model).\n"
     ]
    },
    {
     "name": "stdout",
     "output_type": "stream",
     "text": [
      "Model downloaded: bert-base-uncased\n",
      "training time: 0.7224406767636538\n",
      "accuracy: 80.73394012451172\n",
      "{'params': {'reservoir_dim': 1000, 'spectral_radius': 1.0, 'leaking_rate': 0.1, 'input_scaling': 0.1, 'bias_scaling': 0.0, 'sparsity': 0.0, 'activation_function': 'relu', 'alpha': 1.0}, 'accuracy': [79.35779571533203, 80.73394012451172, 79.35779571533203, 80.73394012451172], 'time': [0.7761870278045535, 0.7415844723582268, 0.7541085667908192, 0.7224406767636538]}\n"
     ]
    },
    {
     "name": "stderr",
     "output_type": "stream",
     "text": [
      "Some weights of the model checkpoint at bert-base-uncased were not used when initializing BertModel: ['cls.predictions.bias', 'cls.predictions.transform.dense.weight', 'cls.predictions.transform.LayerNorm.weight', 'cls.seq_relationship.weight', 'cls.predictions.decoder.weight', 'cls.seq_relationship.bias', 'cls.predictions.transform.dense.bias', 'cls.predictions.transform.LayerNorm.bias']\n",
      "- This IS expected if you are initializing BertModel from the checkpoint of a model trained on another task or with another architecture (e.g. initializing a BertForSequenceClassification model from a BertForPreTraining model).\n",
      "- This IS NOT expected if you are initializing BertModel from the checkpoint of a model that you expect to be exactly identical (initializing a BertForSequenceClassification model from a BertForSequenceClassification model).\n"
     ]
    },
    {
     "name": "stdout",
     "output_type": "stream",
     "text": [
      "Model downloaded: bert-base-uncased\n",
      "training time: 0.928277344442904\n",
      "accuracy: 81.65137481689453\n",
      "{'params': {'reservoir_dim': 1000, 'spectral_radius': 1.0, 'leaking_rate': 0.1, 'input_scaling': 0.1, 'bias_scaling': 0.0, 'sparsity': 0.0, 'activation_function': 'relu', 'alpha': 1.0}, 'accuracy': [79.35779571533203, 80.73394012451172, 79.35779571533203, 80.73394012451172, 81.65137481689453], 'time': [0.7761870278045535, 0.7415844723582268, 0.7541085667908192, 0.7224406767636538, 0.928277344442904]}\n"
     ]
    },
    {
     "data": {
      "application/vnd.jupyter.widget-view+json": {
       "model_id": "1b106ba970fe4160b2c3dee311bdd581",
       "version_major": 2,
       "version_minor": 0
      },
      "text/plain": [
       "  0%|          | 0/5 [00:00<?, ?it/s]"
      ]
     },
     "metadata": {},
     "output_type": "display_data"
    },
    {
     "name": "stderr",
     "output_type": "stream",
     "text": [
      "Some weights of the model checkpoint at bert-base-uncased were not used when initializing BertModel: ['cls.predictions.bias', 'cls.predictions.transform.dense.weight', 'cls.predictions.transform.LayerNorm.weight', 'cls.seq_relationship.weight', 'cls.predictions.decoder.weight', 'cls.seq_relationship.bias', 'cls.predictions.transform.dense.bias', 'cls.predictions.transform.LayerNorm.bias']\n",
      "- This IS expected if you are initializing BertModel from the checkpoint of a model trained on another task or with another architecture (e.g. initializing a BertForSequenceClassification model from a BertForPreTraining model).\n",
      "- This IS NOT expected if you are initializing BertModel from the checkpoint of a model that you expect to be exactly identical (initializing a BertForSequenceClassification model from a BertForSequenceClassification model).\n"
     ]
    },
    {
     "name": "stdout",
     "output_type": "stream",
     "text": [
      "Model downloaded: bert-base-uncased\n",
      "training time: 0.6915517784655094\n",
      "accuracy: 80.27522277832031\n",
      "{'params': {'reservoir_dim': 1000, 'spectral_radius': 1.0, 'leaking_rate': 0.1, 'input_scaling': 0.1, 'bias_scaling': 0.0, 'sparsity': 0.0, 'activation_function': 'relu', 'alpha': 10.0}, 'accuracy': [80.27522277832031], 'time': [0.6915517784655094]}\n"
     ]
    },
    {
     "name": "stderr",
     "output_type": "stream",
     "text": [
      "Some weights of the model checkpoint at bert-base-uncased were not used when initializing BertModel: ['cls.predictions.bias', 'cls.predictions.transform.dense.weight', 'cls.predictions.transform.LayerNorm.weight', 'cls.seq_relationship.weight', 'cls.predictions.decoder.weight', 'cls.seq_relationship.bias', 'cls.predictions.transform.dense.bias', 'cls.predictions.transform.LayerNorm.bias']\n",
      "- This IS expected if you are initializing BertModel from the checkpoint of a model trained on another task or with another architecture (e.g. initializing a BertForSequenceClassification model from a BertForPreTraining model).\n",
      "- This IS NOT expected if you are initializing BertModel from the checkpoint of a model that you expect to be exactly identical (initializing a BertForSequenceClassification model from a BertForSequenceClassification model).\n"
     ]
    },
    {
     "name": "stdout",
     "output_type": "stream",
     "text": [
      "Model downloaded: bert-base-uncased\n",
      "training time: 0.7278216313570738\n",
      "accuracy: 81.19265747070312\n",
      "{'params': {'reservoir_dim': 1000, 'spectral_radius': 1.0, 'leaking_rate': 0.1, 'input_scaling': 0.1, 'bias_scaling': 0.0, 'sparsity': 0.0, 'activation_function': 'relu', 'alpha': 10.0}, 'accuracy': [80.27522277832031, 81.19265747070312], 'time': [0.6915517784655094, 0.7278216313570738]}\n"
     ]
    },
    {
     "name": "stderr",
     "output_type": "stream",
     "text": [
      "Some weights of the model checkpoint at bert-base-uncased were not used when initializing BertModel: ['cls.predictions.bias', 'cls.predictions.transform.dense.weight', 'cls.predictions.transform.LayerNorm.weight', 'cls.seq_relationship.weight', 'cls.predictions.decoder.weight', 'cls.seq_relationship.bias', 'cls.predictions.transform.dense.bias', 'cls.predictions.transform.LayerNorm.bias']\n",
      "- This IS expected if you are initializing BertModel from the checkpoint of a model trained on another task or with another architecture (e.g. initializing a BertForSequenceClassification model from a BertForPreTraining model).\n",
      "- This IS NOT expected if you are initializing BertModel from the checkpoint of a model that you expect to be exactly identical (initializing a BertForSequenceClassification model from a BertForSequenceClassification model).\n"
     ]
    },
    {
     "name": "stdout",
     "output_type": "stream",
     "text": [
      "Model downloaded: bert-base-uncased\n",
      "training time: 0.7167406659573317\n",
      "accuracy: 82.56880187988281\n",
      "{'params': {'reservoir_dim': 1000, 'spectral_radius': 1.0, 'leaking_rate': 0.1, 'input_scaling': 0.1, 'bias_scaling': 0.0, 'sparsity': 0.0, 'activation_function': 'relu', 'alpha': 10.0}, 'accuracy': [80.27522277832031, 81.19265747070312, 82.56880187988281], 'time': [0.6915517784655094, 0.7278216313570738, 0.7167406659573317]}\n"
     ]
    },
    {
     "name": "stderr",
     "output_type": "stream",
     "text": [
      "Some weights of the model checkpoint at bert-base-uncased were not used when initializing BertModel: ['cls.predictions.bias', 'cls.predictions.transform.dense.weight', 'cls.predictions.transform.LayerNorm.weight', 'cls.seq_relationship.weight', 'cls.predictions.decoder.weight', 'cls.seq_relationship.bias', 'cls.predictions.transform.dense.bias', 'cls.predictions.transform.LayerNorm.bias']\n",
      "- This IS expected if you are initializing BertModel from the checkpoint of a model trained on another task or with another architecture (e.g. initializing a BertForSequenceClassification model from a BertForPreTraining model).\n",
      "- This IS NOT expected if you are initializing BertModel from the checkpoint of a model that you expect to be exactly identical (initializing a BertForSequenceClassification model from a BertForSequenceClassification model).\n"
     ]
    },
    {
     "name": "stdout",
     "output_type": "stream",
     "text": [
      "Model downloaded: bert-base-uncased\n",
      "training time: 0.7477713180705905\n",
      "accuracy: 81.19265747070312\n",
      "{'params': {'reservoir_dim': 1000, 'spectral_radius': 1.0, 'leaking_rate': 0.1, 'input_scaling': 0.1, 'bias_scaling': 0.0, 'sparsity': 0.0, 'activation_function': 'relu', 'alpha': 10.0}, 'accuracy': [80.27522277832031, 81.19265747070312, 82.56880187988281, 81.19265747070312], 'time': [0.6915517784655094, 0.7278216313570738, 0.7167406659573317, 0.7477713180705905]}\n"
     ]
    },
    {
     "name": "stderr",
     "output_type": "stream",
     "text": [
      "Some weights of the model checkpoint at bert-base-uncased were not used when initializing BertModel: ['cls.predictions.bias', 'cls.predictions.transform.dense.weight', 'cls.predictions.transform.LayerNorm.weight', 'cls.seq_relationship.weight', 'cls.predictions.decoder.weight', 'cls.seq_relationship.bias', 'cls.predictions.transform.dense.bias', 'cls.predictions.transform.LayerNorm.bias']\n",
      "- This IS expected if you are initializing BertModel from the checkpoint of a model trained on another task or with another architecture (e.g. initializing a BertForSequenceClassification model from a BertForPreTraining model).\n",
      "- This IS NOT expected if you are initializing BertModel from the checkpoint of a model that you expect to be exactly identical (initializing a BertForSequenceClassification model from a BertForSequenceClassification model).\n"
     ]
    },
    {
     "name": "stdout",
     "output_type": "stream",
     "text": [
      "Model downloaded: bert-base-uncased\n",
      "training time: 0.7513796370476484\n",
      "accuracy: 82.1100845336914\n",
      "{'params': {'reservoir_dim': 1000, 'spectral_radius': 1.0, 'leaking_rate': 0.1, 'input_scaling': 0.1, 'bias_scaling': 0.0, 'sparsity': 0.0, 'activation_function': 'relu', 'alpha': 10.0}, 'accuracy': [80.27522277832031, 81.19265747070312, 82.56880187988281, 81.19265747070312, 82.1100845336914], 'time': [0.6915517784655094, 0.7278216313570738, 0.7167406659573317, 0.7477713180705905, 0.7513796370476484]}\n"
     ]
    },
    {
     "data": {
      "application/vnd.jupyter.widget-view+json": {
       "model_id": "9ea75ec6f01f44a7b2cb19b82a15a310",
       "version_major": 2,
       "version_minor": 0
      },
      "text/plain": [
       "  0%|          | 0/5 [00:00<?, ?it/s]"
      ]
     },
     "metadata": {},
     "output_type": "display_data"
    },
    {
     "name": "stderr",
     "output_type": "stream",
     "text": [
      "Some weights of the model checkpoint at bert-base-uncased were not used when initializing BertModel: ['cls.predictions.bias', 'cls.predictions.transform.dense.weight', 'cls.predictions.transform.LayerNorm.weight', 'cls.seq_relationship.weight', 'cls.predictions.decoder.weight', 'cls.seq_relationship.bias', 'cls.predictions.transform.dense.bias', 'cls.predictions.transform.LayerNorm.bias']\n",
      "- This IS expected if you are initializing BertModel from the checkpoint of a model trained on another task or with another architecture (e.g. initializing a BertForSequenceClassification model from a BertForPreTraining model).\n",
      "- This IS NOT expected if you are initializing BertModel from the checkpoint of a model that you expect to be exactly identical (initializing a BertForSequenceClassification model from a BertForSequenceClassification model).\n"
     ]
    },
    {
     "name": "stdout",
     "output_type": "stream",
     "text": [
      "Model downloaded: bert-base-uncased\n",
      "training time: 0.7801927393302321\n",
      "accuracy: 74.31192016601562\n",
      "{'params': {'reservoir_dim': 1000, 'spectral_radius': 1.0, 'leaking_rate': 0.1, 'input_scaling': 0.1, 'bias_scaling': 0.0, 'sparsity': 0.99, 'activation_function': 'relu', 'alpha': 0.1}, 'accuracy': [74.31192016601562], 'time': [0.7801927393302321]}\n"
     ]
    },
    {
     "name": "stderr",
     "output_type": "stream",
     "text": [
      "Some weights of the model checkpoint at bert-base-uncased were not used when initializing BertModel: ['cls.predictions.bias', 'cls.predictions.transform.dense.weight', 'cls.predictions.transform.LayerNorm.weight', 'cls.seq_relationship.weight', 'cls.predictions.decoder.weight', 'cls.seq_relationship.bias', 'cls.predictions.transform.dense.bias', 'cls.predictions.transform.LayerNorm.bias']\n",
      "- This IS expected if you are initializing BertModel from the checkpoint of a model trained on another task or with another architecture (e.g. initializing a BertForSequenceClassification model from a BertForPreTraining model).\n",
      "- This IS NOT expected if you are initializing BertModel from the checkpoint of a model that you expect to be exactly identical (initializing a BertForSequenceClassification model from a BertForSequenceClassification model).\n"
     ]
    },
    {
     "name": "stdout",
     "output_type": "stream",
     "text": [
      "Model downloaded: bert-base-uncased\n",
      "training time: 0.7288605896756053\n",
      "accuracy: 69.26605224609375\n",
      "{'params': {'reservoir_dim': 1000, 'spectral_radius': 1.0, 'leaking_rate': 0.1, 'input_scaling': 0.1, 'bias_scaling': 0.0, 'sparsity': 0.99, 'activation_function': 'relu', 'alpha': 0.1}, 'accuracy': [74.31192016601562, 69.26605224609375], 'time': [0.7801927393302321, 0.7288605896756053]}\n"
     ]
    },
    {
     "name": "stderr",
     "output_type": "stream",
     "text": [
      "Some weights of the model checkpoint at bert-base-uncased were not used when initializing BertModel: ['cls.predictions.bias', 'cls.predictions.transform.dense.weight', 'cls.predictions.transform.LayerNorm.weight', 'cls.seq_relationship.weight', 'cls.predictions.decoder.weight', 'cls.seq_relationship.bias', 'cls.predictions.transform.dense.bias', 'cls.predictions.transform.LayerNorm.bias']\n",
      "- This IS expected if you are initializing BertModel from the checkpoint of a model trained on another task or with another architecture (e.g. initializing a BertForSequenceClassification model from a BertForPreTraining model).\n",
      "- This IS NOT expected if you are initializing BertModel from the checkpoint of a model that you expect to be exactly identical (initializing a BertForSequenceClassification model from a BertForSequenceClassification model).\n"
     ]
    },
    {
     "name": "stdout",
     "output_type": "stream",
     "text": [
      "Model downloaded: bert-base-uncased\n",
      "training time: 0.7016483107581735\n",
      "accuracy: 73.39449310302734\n",
      "{'params': {'reservoir_dim': 1000, 'spectral_radius': 1.0, 'leaking_rate': 0.1, 'input_scaling': 0.1, 'bias_scaling': 0.0, 'sparsity': 0.99, 'activation_function': 'relu', 'alpha': 0.1}, 'accuracy': [74.31192016601562, 69.26605224609375, 73.39449310302734], 'time': [0.7801927393302321, 0.7288605896756053, 0.7016483107581735]}\n"
     ]
    },
    {
     "name": "stderr",
     "output_type": "stream",
     "text": [
      "Some weights of the model checkpoint at bert-base-uncased were not used when initializing BertModel: ['cls.predictions.bias', 'cls.predictions.transform.dense.weight', 'cls.predictions.transform.LayerNorm.weight', 'cls.seq_relationship.weight', 'cls.predictions.decoder.weight', 'cls.seq_relationship.bias', 'cls.predictions.transform.dense.bias', 'cls.predictions.transform.LayerNorm.bias']\n",
      "- This IS expected if you are initializing BertModel from the checkpoint of a model trained on another task or with another architecture (e.g. initializing a BertForSequenceClassification model from a BertForPreTraining model).\n",
      "- This IS NOT expected if you are initializing BertModel from the checkpoint of a model that you expect to be exactly identical (initializing a BertForSequenceClassification model from a BertForSequenceClassification model).\n"
     ]
    },
    {
     "name": "stdout",
     "output_type": "stream",
     "text": [
      "Model downloaded: bert-base-uncased\n",
      "training time: 0.7409884408116341\n",
      "accuracy: 73.39449310302734\n",
      "{'params': {'reservoir_dim': 1000, 'spectral_radius': 1.0, 'leaking_rate': 0.1, 'input_scaling': 0.1, 'bias_scaling': 0.0, 'sparsity': 0.99, 'activation_function': 'relu', 'alpha': 0.1}, 'accuracy': [74.31192016601562, 69.26605224609375, 73.39449310302734, 73.39449310302734], 'time': [0.7801927393302321, 0.7288605896756053, 0.7016483107581735, 0.7409884408116341]}\n"
     ]
    },
    {
     "name": "stderr",
     "output_type": "stream",
     "text": [
      "Some weights of the model checkpoint at bert-base-uncased were not used when initializing BertModel: ['cls.predictions.bias', 'cls.predictions.transform.dense.weight', 'cls.predictions.transform.LayerNorm.weight', 'cls.seq_relationship.weight', 'cls.predictions.decoder.weight', 'cls.seq_relationship.bias', 'cls.predictions.transform.dense.bias', 'cls.predictions.transform.LayerNorm.bias']\n",
      "- This IS expected if you are initializing BertModel from the checkpoint of a model trained on another task or with another architecture (e.g. initializing a BertForSequenceClassification model from a BertForPreTraining model).\n",
      "- This IS NOT expected if you are initializing BertModel from the checkpoint of a model that you expect to be exactly identical (initializing a BertForSequenceClassification model from a BertForSequenceClassification model).\n"
     ]
    },
    {
     "name": "stdout",
     "output_type": "stream",
     "text": [
      "Model downloaded: bert-base-uncased\n",
      "training time: 0.7209612745791674\n",
      "accuracy: 71.55963134765625\n",
      "{'params': {'reservoir_dim': 1000, 'spectral_radius': 1.0, 'leaking_rate': 0.1, 'input_scaling': 0.1, 'bias_scaling': 0.0, 'sparsity': 0.99, 'activation_function': 'relu', 'alpha': 0.1}, 'accuracy': [74.31192016601562, 69.26605224609375, 73.39449310302734, 73.39449310302734, 71.55963134765625], 'time': [0.7801927393302321, 0.7288605896756053, 0.7016483107581735, 0.7409884408116341, 0.7209612745791674]}\n"
     ]
    },
    {
     "data": {
      "application/vnd.jupyter.widget-view+json": {
       "model_id": "e14a278bddbe49cebbfbf1f195852e9d",
       "version_major": 2,
       "version_minor": 0
      },
      "text/plain": [
       "  0%|          | 0/5 [00:00<?, ?it/s]"
      ]
     },
     "metadata": {},
     "output_type": "display_data"
    },
    {
     "name": "stderr",
     "output_type": "stream",
     "text": [
      "Some weights of the model checkpoint at bert-base-uncased were not used when initializing BertModel: ['cls.predictions.bias', 'cls.predictions.transform.dense.weight', 'cls.predictions.transform.LayerNorm.weight', 'cls.seq_relationship.weight', 'cls.predictions.decoder.weight', 'cls.seq_relationship.bias', 'cls.predictions.transform.dense.bias', 'cls.predictions.transform.LayerNorm.bias']\n",
      "- This IS expected if you are initializing BertModel from the checkpoint of a model trained on another task or with another architecture (e.g. initializing a BertForSequenceClassification model from a BertForPreTraining model).\n",
      "- This IS NOT expected if you are initializing BertModel from the checkpoint of a model that you expect to be exactly identical (initializing a BertForSequenceClassification model from a BertForSequenceClassification model).\n"
     ]
    },
    {
     "name": "stdout",
     "output_type": "stream",
     "text": [
      "Model downloaded: bert-base-uncased\n",
      "training time: 0.7914046794176102\n",
      "accuracy: 80.27522277832031\n",
      "{'params': {'reservoir_dim': 1000, 'spectral_radius': 1.0, 'leaking_rate': 0.1, 'input_scaling': 0.1, 'bias_scaling': 0.0, 'sparsity': 0.99, 'activation_function': 'relu', 'alpha': 1.0}, 'accuracy': [80.27522277832031], 'time': [0.7914046794176102]}\n"
     ]
    },
    {
     "name": "stderr",
     "output_type": "stream",
     "text": [
      "Some weights of the model checkpoint at bert-base-uncased were not used when initializing BertModel: ['cls.predictions.bias', 'cls.predictions.transform.dense.weight', 'cls.predictions.transform.LayerNorm.weight', 'cls.seq_relationship.weight', 'cls.predictions.decoder.weight', 'cls.seq_relationship.bias', 'cls.predictions.transform.dense.bias', 'cls.predictions.transform.LayerNorm.bias']\n",
      "- This IS expected if you are initializing BertModel from the checkpoint of a model trained on another task or with another architecture (e.g. initializing a BertForSequenceClassification model from a BertForPreTraining model).\n",
      "- This IS NOT expected if you are initializing BertModel from the checkpoint of a model that you expect to be exactly identical (initializing a BertForSequenceClassification model from a BertForSequenceClassification model).\n"
     ]
    },
    {
     "name": "stdout",
     "output_type": "stream",
     "text": [
      "Model downloaded: bert-base-uncased\n",
      "training time: 0.8144623395055532\n",
      "accuracy: 79.35779571533203\n",
      "{'params': {'reservoir_dim': 1000, 'spectral_radius': 1.0, 'leaking_rate': 0.1, 'input_scaling': 0.1, 'bias_scaling': 0.0, 'sparsity': 0.99, 'activation_function': 'relu', 'alpha': 1.0}, 'accuracy': [80.27522277832031, 79.35779571533203], 'time': [0.7914046794176102, 0.8144623395055532]}\n"
     ]
    },
    {
     "name": "stderr",
     "output_type": "stream",
     "text": [
      "Some weights of the model checkpoint at bert-base-uncased were not used when initializing BertModel: ['cls.predictions.bias', 'cls.predictions.transform.dense.weight', 'cls.predictions.transform.LayerNorm.weight', 'cls.seq_relationship.weight', 'cls.predictions.decoder.weight', 'cls.seq_relationship.bias', 'cls.predictions.transform.dense.bias', 'cls.predictions.transform.LayerNorm.bias']\n",
      "- This IS expected if you are initializing BertModel from the checkpoint of a model trained on another task or with another architecture (e.g. initializing a BertForSequenceClassification model from a BertForPreTraining model).\n",
      "- This IS NOT expected if you are initializing BertModel from the checkpoint of a model that you expect to be exactly identical (initializing a BertForSequenceClassification model from a BertForSequenceClassification model).\n"
     ]
    },
    {
     "name": "stdout",
     "output_type": "stream",
     "text": [
      "Model downloaded: bert-base-uncased\n",
      "training time: 0.757960356771946\n",
      "accuracy: 81.65137481689453\n",
      "{'params': {'reservoir_dim': 1000, 'spectral_radius': 1.0, 'leaking_rate': 0.1, 'input_scaling': 0.1, 'bias_scaling': 0.0, 'sparsity': 0.99, 'activation_function': 'relu', 'alpha': 1.0}, 'accuracy': [80.27522277832031, 79.35779571533203, 81.65137481689453], 'time': [0.7914046794176102, 0.8144623395055532, 0.757960356771946]}\n"
     ]
    },
    {
     "name": "stderr",
     "output_type": "stream",
     "text": [
      "Some weights of the model checkpoint at bert-base-uncased were not used when initializing BertModel: ['cls.predictions.bias', 'cls.predictions.transform.dense.weight', 'cls.predictions.transform.LayerNorm.weight', 'cls.seq_relationship.weight', 'cls.predictions.decoder.weight', 'cls.seq_relationship.bias', 'cls.predictions.transform.dense.bias', 'cls.predictions.transform.LayerNorm.bias']\n",
      "- This IS expected if you are initializing BertModel from the checkpoint of a model trained on another task or with another architecture (e.g. initializing a BertForSequenceClassification model from a BertForPreTraining model).\n",
      "- This IS NOT expected if you are initializing BertModel from the checkpoint of a model that you expect to be exactly identical (initializing a BertForSequenceClassification model from a BertForSequenceClassification model).\n"
     ]
    },
    {
     "name": "stdout",
     "output_type": "stream",
     "text": [
      "Model downloaded: bert-base-uncased\n",
      "training time: 0.7323985379189253\n",
      "accuracy: 80.27522277832031\n",
      "{'params': {'reservoir_dim': 1000, 'spectral_radius': 1.0, 'leaking_rate': 0.1, 'input_scaling': 0.1, 'bias_scaling': 0.0, 'sparsity': 0.99, 'activation_function': 'relu', 'alpha': 1.0}, 'accuracy': [80.27522277832031, 79.35779571533203, 81.65137481689453, 80.27522277832031], 'time': [0.7914046794176102, 0.8144623395055532, 0.757960356771946, 0.7323985379189253]}\n"
     ]
    },
    {
     "name": "stderr",
     "output_type": "stream",
     "text": [
      "Some weights of the model checkpoint at bert-base-uncased were not used when initializing BertModel: ['cls.predictions.bias', 'cls.predictions.transform.dense.weight', 'cls.predictions.transform.LayerNorm.weight', 'cls.seq_relationship.weight', 'cls.predictions.decoder.weight', 'cls.seq_relationship.bias', 'cls.predictions.transform.dense.bias', 'cls.predictions.transform.LayerNorm.bias']\n",
      "- This IS expected if you are initializing BertModel from the checkpoint of a model trained on another task or with another architecture (e.g. initializing a BertForSequenceClassification model from a BertForPreTraining model).\n",
      "- This IS NOT expected if you are initializing BertModel from the checkpoint of a model that you expect to be exactly identical (initializing a BertForSequenceClassification model from a BertForSequenceClassification model).\n"
     ]
    },
    {
     "name": "stdout",
     "output_type": "stream",
     "text": [
      "Model downloaded: bert-base-uncased\n",
      "training time: 0.727204424329102\n",
      "accuracy: 81.19265747070312\n",
      "{'params': {'reservoir_dim': 1000, 'spectral_radius': 1.0, 'leaking_rate': 0.1, 'input_scaling': 0.1, 'bias_scaling': 0.0, 'sparsity': 0.99, 'activation_function': 'relu', 'alpha': 1.0}, 'accuracy': [80.27522277832031, 79.35779571533203, 81.65137481689453, 80.27522277832031, 81.19265747070312], 'time': [0.7914046794176102, 0.8144623395055532, 0.757960356771946, 0.7323985379189253, 0.727204424329102]}\n"
     ]
    },
    {
     "data": {
      "application/vnd.jupyter.widget-view+json": {
       "model_id": "0a92c023061c49559625bcbf27fc97bc",
       "version_major": 2,
       "version_minor": 0
      },
      "text/plain": [
       "  0%|          | 0/5 [00:00<?, ?it/s]"
      ]
     },
     "metadata": {},
     "output_type": "display_data"
    },
    {
     "name": "stderr",
     "output_type": "stream",
     "text": [
      "Some weights of the model checkpoint at bert-base-uncased were not used when initializing BertModel: ['cls.predictions.bias', 'cls.predictions.transform.dense.weight', 'cls.predictions.transform.LayerNorm.weight', 'cls.seq_relationship.weight', 'cls.predictions.decoder.weight', 'cls.seq_relationship.bias', 'cls.predictions.transform.dense.bias', 'cls.predictions.transform.LayerNorm.bias']\n",
      "- This IS expected if you are initializing BertModel from the checkpoint of a model trained on another task or with another architecture (e.g. initializing a BertForSequenceClassification model from a BertForPreTraining model).\n",
      "- This IS NOT expected if you are initializing BertModel from the checkpoint of a model that you expect to be exactly identical (initializing a BertForSequenceClassification model from a BertForSequenceClassification model).\n"
     ]
    },
    {
     "name": "stdout",
     "output_type": "stream",
     "text": [
      "Model downloaded: bert-base-uncased\n",
      "training time: 0.7590111223980784\n",
      "accuracy: 78.44036102294922\n",
      "{'params': {'reservoir_dim': 1000, 'spectral_radius': 1.0, 'leaking_rate': 0.1, 'input_scaling': 0.1, 'bias_scaling': 0.0, 'sparsity': 0.99, 'activation_function': 'relu', 'alpha': 10.0}, 'accuracy': [78.44036102294922], 'time': [0.7590111223980784]}\n"
     ]
    },
    {
     "name": "stderr",
     "output_type": "stream",
     "text": [
      "Some weights of the model checkpoint at bert-base-uncased were not used when initializing BertModel: ['cls.predictions.bias', 'cls.predictions.transform.dense.weight', 'cls.predictions.transform.LayerNorm.weight', 'cls.seq_relationship.weight', 'cls.predictions.decoder.weight', 'cls.seq_relationship.bias', 'cls.predictions.transform.dense.bias', 'cls.predictions.transform.LayerNorm.bias']\n",
      "- This IS expected if you are initializing BertModel from the checkpoint of a model trained on another task or with another architecture (e.g. initializing a BertForSequenceClassification model from a BertForPreTraining model).\n",
      "- This IS NOT expected if you are initializing BertModel from the checkpoint of a model that you expect to be exactly identical (initializing a BertForSequenceClassification model from a BertForSequenceClassification model).\n"
     ]
    },
    {
     "name": "stdout",
     "output_type": "stream",
     "text": [
      "Model downloaded: bert-base-uncased\n",
      "training time: 0.7479258952662349\n",
      "accuracy: 79.81651306152344\n",
      "{'params': {'reservoir_dim': 1000, 'spectral_radius': 1.0, 'leaking_rate': 0.1, 'input_scaling': 0.1, 'bias_scaling': 0.0, 'sparsity': 0.99, 'activation_function': 'relu', 'alpha': 10.0}, 'accuracy': [78.44036102294922, 79.81651306152344], 'time': [0.7590111223980784, 0.7479258952662349]}\n"
     ]
    },
    {
     "name": "stderr",
     "output_type": "stream",
     "text": [
      "Some weights of the model checkpoint at bert-base-uncased were not used when initializing BertModel: ['cls.predictions.bias', 'cls.predictions.transform.dense.weight', 'cls.predictions.transform.LayerNorm.weight', 'cls.seq_relationship.weight', 'cls.predictions.decoder.weight', 'cls.seq_relationship.bias', 'cls.predictions.transform.dense.bias', 'cls.predictions.transform.LayerNorm.bias']\n",
      "- This IS expected if you are initializing BertModel from the checkpoint of a model trained on another task or with another architecture (e.g. initializing a BertForSequenceClassification model from a BertForPreTraining model).\n",
      "- This IS NOT expected if you are initializing BertModel from the checkpoint of a model that you expect to be exactly identical (initializing a BertForSequenceClassification model from a BertForSequenceClassification model).\n"
     ]
    },
    {
     "name": "stdout",
     "output_type": "stream",
     "text": [
      "Model downloaded: bert-base-uncased\n",
      "training time: 0.7777335001155734\n",
      "accuracy: 81.65137481689453\n",
      "{'params': {'reservoir_dim': 1000, 'spectral_radius': 1.0, 'leaking_rate': 0.1, 'input_scaling': 0.1, 'bias_scaling': 0.0, 'sparsity': 0.99, 'activation_function': 'relu', 'alpha': 10.0}, 'accuracy': [78.44036102294922, 79.81651306152344, 81.65137481689453], 'time': [0.7590111223980784, 0.7479258952662349, 0.7777335001155734]}\n"
     ]
    },
    {
     "name": "stderr",
     "output_type": "stream",
     "text": [
      "Some weights of the model checkpoint at bert-base-uncased were not used when initializing BertModel: ['cls.predictions.bias', 'cls.predictions.transform.dense.weight', 'cls.predictions.transform.LayerNorm.weight', 'cls.seq_relationship.weight', 'cls.predictions.decoder.weight', 'cls.seq_relationship.bias', 'cls.predictions.transform.dense.bias', 'cls.predictions.transform.LayerNorm.bias']\n",
      "- This IS expected if you are initializing BertModel from the checkpoint of a model trained on another task or with another architecture (e.g. initializing a BertForSequenceClassification model from a BertForPreTraining model).\n",
      "- This IS NOT expected if you are initializing BertModel from the checkpoint of a model that you expect to be exactly identical (initializing a BertForSequenceClassification model from a BertForSequenceClassification model).\n"
     ]
    },
    {
     "name": "stdout",
     "output_type": "stream",
     "text": [
      "Model downloaded: bert-base-uncased\n",
      "training time: 0.7011719094589353\n",
      "accuracy: 79.81651306152344\n",
      "{'params': {'reservoir_dim': 1000, 'spectral_radius': 1.0, 'leaking_rate': 0.1, 'input_scaling': 0.1, 'bias_scaling': 0.0, 'sparsity': 0.99, 'activation_function': 'relu', 'alpha': 10.0}, 'accuracy': [78.44036102294922, 79.81651306152344, 81.65137481689453, 79.81651306152344], 'time': [0.7590111223980784, 0.7479258952662349, 0.7777335001155734, 0.7011719094589353]}\n"
     ]
    },
    {
     "name": "stderr",
     "output_type": "stream",
     "text": [
      "Some weights of the model checkpoint at bert-base-uncased were not used when initializing BertModel: ['cls.predictions.bias', 'cls.predictions.transform.dense.weight', 'cls.predictions.transform.LayerNorm.weight', 'cls.seq_relationship.weight', 'cls.predictions.decoder.weight', 'cls.seq_relationship.bias', 'cls.predictions.transform.dense.bias', 'cls.predictions.transform.LayerNorm.bias']\n",
      "- This IS expected if you are initializing BertModel from the checkpoint of a model trained on another task or with another architecture (e.g. initializing a BertForSequenceClassification model from a BertForPreTraining model).\n",
      "- This IS NOT expected if you are initializing BertModel from the checkpoint of a model that you expect to be exactly identical (initializing a BertForSequenceClassification model from a BertForSequenceClassification model).\n"
     ]
    },
    {
     "name": "stdout",
     "output_type": "stream",
     "text": [
      "Model downloaded: bert-base-uncased\n",
      "training time: 0.7737508397549391\n",
      "accuracy: 82.56880187988281\n",
      "{'params': {'reservoir_dim': 1000, 'spectral_radius': 1.0, 'leaking_rate': 0.1, 'input_scaling': 0.1, 'bias_scaling': 0.0, 'sparsity': 0.99, 'activation_function': 'relu', 'alpha': 10.0}, 'accuracy': [78.44036102294922, 79.81651306152344, 81.65137481689453, 79.81651306152344, 82.56880187988281], 'time': [0.7590111223980784, 0.7479258952662349, 0.7777335001155734, 0.7011719094589353, 0.7737508397549391]}\n"
     ]
    },
    {
     "data": {
      "application/vnd.jupyter.widget-view+json": {
       "model_id": "4d4897061eae4de1ba1dbbcf859d33e0",
       "version_major": 2,
       "version_minor": 0
      },
      "text/plain": [
       "  0%|          | 0/5 [00:00<?, ?it/s]"
      ]
     },
     "metadata": {},
     "output_type": "display_data"
    },
    {
     "name": "stderr",
     "output_type": "stream",
     "text": [
      "Some weights of the model checkpoint at bert-base-uncased were not used when initializing BertModel: ['cls.predictions.bias', 'cls.predictions.transform.dense.weight', 'cls.predictions.transform.LayerNorm.weight', 'cls.seq_relationship.weight', 'cls.predictions.decoder.weight', 'cls.seq_relationship.bias', 'cls.predictions.transform.dense.bias', 'cls.predictions.transform.LayerNorm.bias']\n",
      "- This IS expected if you are initializing BertModel from the checkpoint of a model trained on another task or with another architecture (e.g. initializing a BertForSequenceClassification model from a BertForPreTraining model).\n",
      "- This IS NOT expected if you are initializing BertModel from the checkpoint of a model that you expect to be exactly identical (initializing a BertForSequenceClassification model from a BertForSequenceClassification model).\n"
     ]
    },
    {
     "name": "stdout",
     "output_type": "stream",
     "text": [
      "Model downloaded: bert-base-uncased\n",
      "training time: 0.7881988333538175\n",
      "accuracy: 32.56880569458008\n",
      "{'params': {'reservoir_dim': 1000, 'spectral_radius': 1.0, 'leaking_rate': 0.1, 'input_scaling': 1.0, 'bias_scaling': 0.0, 'sparsity': 0.0, 'activation_function': 'relu', 'alpha': 0.1}, 'accuracy': [32.56880569458008], 'time': [0.7881988333538175]}\n"
     ]
    },
    {
     "name": "stderr",
     "output_type": "stream",
     "text": [
      "Some weights of the model checkpoint at bert-base-uncased were not used when initializing BertModel: ['cls.predictions.bias', 'cls.predictions.transform.dense.weight', 'cls.predictions.transform.LayerNorm.weight', 'cls.seq_relationship.weight', 'cls.predictions.decoder.weight', 'cls.seq_relationship.bias', 'cls.predictions.transform.dense.bias', 'cls.predictions.transform.LayerNorm.bias']\n",
      "- This IS expected if you are initializing BertModel from the checkpoint of a model trained on another task or with another architecture (e.g. initializing a BertForSequenceClassification model from a BertForPreTraining model).\n",
      "- This IS NOT expected if you are initializing BertModel from the checkpoint of a model that you expect to be exactly identical (initializing a BertForSequenceClassification model from a BertForSequenceClassification model).\n"
     ]
    },
    {
     "name": "stdout",
     "output_type": "stream",
     "text": [
      "Model downloaded: bert-base-uncased\n",
      "training time: 0.7089262269437313\n",
      "accuracy: 34.86238479614258\n",
      "{'params': {'reservoir_dim': 1000, 'spectral_radius': 1.0, 'leaking_rate': 0.1, 'input_scaling': 1.0, 'bias_scaling': 0.0, 'sparsity': 0.0, 'activation_function': 'relu', 'alpha': 0.1}, 'accuracy': [32.56880569458008, 34.86238479614258], 'time': [0.7881988333538175, 0.7089262269437313]}\n"
     ]
    },
    {
     "name": "stderr",
     "output_type": "stream",
     "text": [
      "Some weights of the model checkpoint at bert-base-uncased were not used when initializing BertModel: ['cls.predictions.bias', 'cls.predictions.transform.dense.weight', 'cls.predictions.transform.LayerNorm.weight', 'cls.seq_relationship.weight', 'cls.predictions.decoder.weight', 'cls.seq_relationship.bias', 'cls.predictions.transform.dense.bias', 'cls.predictions.transform.LayerNorm.bias']\n",
      "- This IS expected if you are initializing BertModel from the checkpoint of a model trained on another task or with another architecture (e.g. initializing a BertForSequenceClassification model from a BertForPreTraining model).\n",
      "- This IS NOT expected if you are initializing BertModel from the checkpoint of a model that you expect to be exactly identical (initializing a BertForSequenceClassification model from a BertForSequenceClassification model).\n"
     ]
    },
    {
     "name": "stdout",
     "output_type": "stream",
     "text": [
      "Model downloaded: bert-base-uncased\n",
      "training time: 0.7714343126863241\n",
      "accuracy: 38.532108306884766\n",
      "{'params': {'reservoir_dim': 1000, 'spectral_radius': 1.0, 'leaking_rate': 0.1, 'input_scaling': 1.0, 'bias_scaling': 0.0, 'sparsity': 0.0, 'activation_function': 'relu', 'alpha': 0.1}, 'accuracy': [32.56880569458008, 34.86238479614258, 38.532108306884766], 'time': [0.7881988333538175, 0.7089262269437313, 0.7714343126863241]}\n"
     ]
    },
    {
     "name": "stderr",
     "output_type": "stream",
     "text": [
      "Some weights of the model checkpoint at bert-base-uncased were not used when initializing BertModel: ['cls.predictions.bias', 'cls.predictions.transform.dense.weight', 'cls.predictions.transform.LayerNorm.weight', 'cls.seq_relationship.weight', 'cls.predictions.decoder.weight', 'cls.seq_relationship.bias', 'cls.predictions.transform.dense.bias', 'cls.predictions.transform.LayerNorm.bias']\n",
      "- This IS expected if you are initializing BertModel from the checkpoint of a model trained on another task or with another architecture (e.g. initializing a BertForSequenceClassification model from a BertForPreTraining model).\n",
      "- This IS NOT expected if you are initializing BertModel from the checkpoint of a model that you expect to be exactly identical (initializing a BertForSequenceClassification model from a BertForSequenceClassification model).\n"
     ]
    },
    {
     "name": "stdout",
     "output_type": "stream",
     "text": [
      "Model downloaded: bert-base-uncased\n",
      "training time: 0.883391847833991\n",
      "accuracy: 38.07339096069336\n",
      "{'params': {'reservoir_dim': 1000, 'spectral_radius': 1.0, 'leaking_rate': 0.1, 'input_scaling': 1.0, 'bias_scaling': 0.0, 'sparsity': 0.0, 'activation_function': 'relu', 'alpha': 0.1}, 'accuracy': [32.56880569458008, 34.86238479614258, 38.532108306884766, 38.07339096069336], 'time': [0.7881988333538175, 0.7089262269437313, 0.7714343126863241, 0.883391847833991]}\n"
     ]
    },
    {
     "name": "stderr",
     "output_type": "stream",
     "text": [
      "Some weights of the model checkpoint at bert-base-uncased were not used when initializing BertModel: ['cls.predictions.bias', 'cls.predictions.transform.dense.weight', 'cls.predictions.transform.LayerNorm.weight', 'cls.seq_relationship.weight', 'cls.predictions.decoder.weight', 'cls.seq_relationship.bias', 'cls.predictions.transform.dense.bias', 'cls.predictions.transform.LayerNorm.bias']\n",
      "- This IS expected if you are initializing BertModel from the checkpoint of a model trained on another task or with another architecture (e.g. initializing a BertForSequenceClassification model from a BertForPreTraining model).\n",
      "- This IS NOT expected if you are initializing BertModel from the checkpoint of a model that you expect to be exactly identical (initializing a BertForSequenceClassification model from a BertForSequenceClassification model).\n"
     ]
    },
    {
     "name": "stdout",
     "output_type": "stream",
     "text": [
      "Model downloaded: bert-base-uncased\n",
      "training time: 0.7024780046194792\n",
      "accuracy: 36.238529205322266\n",
      "{'params': {'reservoir_dim': 1000, 'spectral_radius': 1.0, 'leaking_rate': 0.1, 'input_scaling': 1.0, 'bias_scaling': 0.0, 'sparsity': 0.0, 'activation_function': 'relu', 'alpha': 0.1}, 'accuracy': [32.56880569458008, 34.86238479614258, 38.532108306884766, 38.07339096069336, 36.238529205322266], 'time': [0.7881988333538175, 0.7089262269437313, 0.7714343126863241, 0.883391847833991, 0.7024780046194792]}\n"
     ]
    },
    {
     "data": {
      "application/vnd.jupyter.widget-view+json": {
       "model_id": "48b46ed0c6ad44f795c6b61fd8b4131b",
       "version_major": 2,
       "version_minor": 0
      },
      "text/plain": [
       "  0%|          | 0/5 [00:00<?, ?it/s]"
      ]
     },
     "metadata": {},
     "output_type": "display_data"
    },
    {
     "name": "stderr",
     "output_type": "stream",
     "text": [
      "Some weights of the model checkpoint at bert-base-uncased were not used when initializing BertModel: ['cls.predictions.bias', 'cls.predictions.transform.dense.weight', 'cls.predictions.transform.LayerNorm.weight', 'cls.seq_relationship.weight', 'cls.predictions.decoder.weight', 'cls.seq_relationship.bias', 'cls.predictions.transform.dense.bias', 'cls.predictions.transform.LayerNorm.bias']\n",
      "- This IS expected if you are initializing BertModel from the checkpoint of a model trained on another task or with another architecture (e.g. initializing a BertForSequenceClassification model from a BertForPreTraining model).\n",
      "- This IS NOT expected if you are initializing BertModel from the checkpoint of a model that you expect to be exactly identical (initializing a BertForSequenceClassification model from a BertForSequenceClassification model).\n"
     ]
    },
    {
     "name": "stdout",
     "output_type": "stream",
     "text": [
      "Model downloaded: bert-base-uncased\n",
      "training time: 0.7159433187916875\n",
      "accuracy: 55.045867919921875\n",
      "{'params': {'reservoir_dim': 1000, 'spectral_radius': 1.0, 'leaking_rate': 0.1, 'input_scaling': 1.0, 'bias_scaling': 0.0, 'sparsity': 0.0, 'activation_function': 'relu', 'alpha': 1.0}, 'accuracy': [55.045867919921875], 'time': [0.7159433187916875]}\n"
     ]
    },
    {
     "name": "stderr",
     "output_type": "stream",
     "text": [
      "Some weights of the model checkpoint at bert-base-uncased were not used when initializing BertModel: ['cls.predictions.bias', 'cls.predictions.transform.dense.weight', 'cls.predictions.transform.LayerNorm.weight', 'cls.seq_relationship.weight', 'cls.predictions.decoder.weight', 'cls.seq_relationship.bias', 'cls.predictions.transform.dense.bias', 'cls.predictions.transform.LayerNorm.bias']\n",
      "- This IS expected if you are initializing BertModel from the checkpoint of a model trained on another task or with another architecture (e.g. initializing a BertForSequenceClassification model from a BertForPreTraining model).\n",
      "- This IS NOT expected if you are initializing BertModel from the checkpoint of a model that you expect to be exactly identical (initializing a BertForSequenceClassification model from a BertForSequenceClassification model).\n"
     ]
    },
    {
     "name": "stdout",
     "output_type": "stream",
     "text": [
      "Model downloaded: bert-base-uncased\n",
      "training time: 0.7442292477935553\n",
      "accuracy: 63.30274963378906\n",
      "{'params': {'reservoir_dim': 1000, 'spectral_radius': 1.0, 'leaking_rate': 0.1, 'input_scaling': 1.0, 'bias_scaling': 0.0, 'sparsity': 0.0, 'activation_function': 'relu', 'alpha': 1.0}, 'accuracy': [55.045867919921875, 63.30274963378906], 'time': [0.7159433187916875, 0.7442292477935553]}\n"
     ]
    },
    {
     "name": "stderr",
     "output_type": "stream",
     "text": [
      "Some weights of the model checkpoint at bert-base-uncased were not used when initializing BertModel: ['cls.predictions.bias', 'cls.predictions.transform.dense.weight', 'cls.predictions.transform.LayerNorm.weight', 'cls.seq_relationship.weight', 'cls.predictions.decoder.weight', 'cls.seq_relationship.bias', 'cls.predictions.transform.dense.bias', 'cls.predictions.transform.LayerNorm.bias']\n",
      "- This IS expected if you are initializing BertModel from the checkpoint of a model trained on another task or with another architecture (e.g. initializing a BertForSequenceClassification model from a BertForPreTraining model).\n",
      "- This IS NOT expected if you are initializing BertModel from the checkpoint of a model that you expect to be exactly identical (initializing a BertForSequenceClassification model from a BertForSequenceClassification model).\n"
     ]
    },
    {
     "name": "stdout",
     "output_type": "stream",
     "text": [
      "Model downloaded: bert-base-uncased\n",
      "training time: 0.7972024232149124\n",
      "accuracy: 61.92660140991211\n",
      "{'params': {'reservoir_dim': 1000, 'spectral_radius': 1.0, 'leaking_rate': 0.1, 'input_scaling': 1.0, 'bias_scaling': 0.0, 'sparsity': 0.0, 'activation_function': 'relu', 'alpha': 1.0}, 'accuracy': [55.045867919921875, 63.30274963378906, 61.92660140991211], 'time': [0.7159433187916875, 0.7442292477935553, 0.7972024232149124]}\n"
     ]
    },
    {
     "name": "stderr",
     "output_type": "stream",
     "text": [
      "Some weights of the model checkpoint at bert-base-uncased were not used when initializing BertModel: ['cls.predictions.bias', 'cls.predictions.transform.dense.weight', 'cls.predictions.transform.LayerNorm.weight', 'cls.seq_relationship.weight', 'cls.predictions.decoder.weight', 'cls.seq_relationship.bias', 'cls.predictions.transform.dense.bias', 'cls.predictions.transform.LayerNorm.bias']\n",
      "- This IS expected if you are initializing BertModel from the checkpoint of a model trained on another task or with another architecture (e.g. initializing a BertForSequenceClassification model from a BertForPreTraining model).\n",
      "- This IS NOT expected if you are initializing BertModel from the checkpoint of a model that you expect to be exactly identical (initializing a BertForSequenceClassification model from a BertForSequenceClassification model).\n"
     ]
    },
    {
     "name": "stdout",
     "output_type": "stream",
     "text": [
      "Model downloaded: bert-base-uncased\n",
      "training time: 0.7370504066348076\n",
      "accuracy: 60.55045700073242\n",
      "{'params': {'reservoir_dim': 1000, 'spectral_radius': 1.0, 'leaking_rate': 0.1, 'input_scaling': 1.0, 'bias_scaling': 0.0, 'sparsity': 0.0, 'activation_function': 'relu', 'alpha': 1.0}, 'accuracy': [55.045867919921875, 63.30274963378906, 61.92660140991211, 60.55045700073242], 'time': [0.7159433187916875, 0.7442292477935553, 0.7972024232149124, 0.7370504066348076]}\n"
     ]
    },
    {
     "name": "stderr",
     "output_type": "stream",
     "text": [
      "Some weights of the model checkpoint at bert-base-uncased were not used when initializing BertModel: ['cls.predictions.bias', 'cls.predictions.transform.dense.weight', 'cls.predictions.transform.LayerNorm.weight', 'cls.seq_relationship.weight', 'cls.predictions.decoder.weight', 'cls.seq_relationship.bias', 'cls.predictions.transform.dense.bias', 'cls.predictions.transform.LayerNorm.bias']\n",
      "- This IS expected if you are initializing BertModel from the checkpoint of a model trained on another task or with another architecture (e.g. initializing a BertForSequenceClassification model from a BertForPreTraining model).\n",
      "- This IS NOT expected if you are initializing BertModel from the checkpoint of a model that you expect to be exactly identical (initializing a BertForSequenceClassification model from a BertForSequenceClassification model).\n"
     ]
    },
    {
     "name": "stdout",
     "output_type": "stream",
     "text": [
      "Model downloaded: bert-base-uncased\n",
      "training time: 0.7692020023241639\n",
      "accuracy: 59.633026123046875\n",
      "{'params': {'reservoir_dim': 1000, 'spectral_radius': 1.0, 'leaking_rate': 0.1, 'input_scaling': 1.0, 'bias_scaling': 0.0, 'sparsity': 0.0, 'activation_function': 'relu', 'alpha': 1.0}, 'accuracy': [55.045867919921875, 63.30274963378906, 61.92660140991211, 60.55045700073242, 59.633026123046875], 'time': [0.7159433187916875, 0.7442292477935553, 0.7972024232149124, 0.7370504066348076, 0.7692020023241639]}\n"
     ]
    },
    {
     "data": {
      "application/vnd.jupyter.widget-view+json": {
       "model_id": "33b6e2e13d4c4cc7ade51f4afeba9592",
       "version_major": 2,
       "version_minor": 0
      },
      "text/plain": [
       "  0%|          | 0/5 [00:00<?, ?it/s]"
      ]
     },
     "metadata": {},
     "output_type": "display_data"
    },
    {
     "name": "stderr",
     "output_type": "stream",
     "text": [
      "Some weights of the model checkpoint at bert-base-uncased were not used when initializing BertModel: ['cls.predictions.bias', 'cls.predictions.transform.dense.weight', 'cls.predictions.transform.LayerNorm.weight', 'cls.seq_relationship.weight', 'cls.predictions.decoder.weight', 'cls.seq_relationship.bias', 'cls.predictions.transform.dense.bias', 'cls.predictions.transform.LayerNorm.bias']\n",
      "- This IS expected if you are initializing BertModel from the checkpoint of a model trained on another task or with another architecture (e.g. initializing a BertForSequenceClassification model from a BertForPreTraining model).\n",
      "- This IS NOT expected if you are initializing BertModel from the checkpoint of a model that you expect to be exactly identical (initializing a BertForSequenceClassification model from a BertForSequenceClassification model).\n"
     ]
    },
    {
     "name": "stdout",
     "output_type": "stream",
     "text": [
      "Model downloaded: bert-base-uncased\n",
      "training time: 0.7533281007781625\n",
      "accuracy: 69.26605224609375\n",
      "{'params': {'reservoir_dim': 1000, 'spectral_radius': 1.0, 'leaking_rate': 0.1, 'input_scaling': 1.0, 'bias_scaling': 0.0, 'sparsity': 0.0, 'activation_function': 'relu', 'alpha': 10.0}, 'accuracy': [69.26605224609375], 'time': [0.7533281007781625]}\n"
     ]
    },
    {
     "name": "stderr",
     "output_type": "stream",
     "text": [
      "Some weights of the model checkpoint at bert-base-uncased were not used when initializing BertModel: ['cls.predictions.bias', 'cls.predictions.transform.dense.weight', 'cls.predictions.transform.LayerNorm.weight', 'cls.seq_relationship.weight', 'cls.predictions.decoder.weight', 'cls.seq_relationship.bias', 'cls.predictions.transform.dense.bias', 'cls.predictions.transform.LayerNorm.bias']\n",
      "- This IS expected if you are initializing BertModel from the checkpoint of a model trained on another task or with another architecture (e.g. initializing a BertForSequenceClassification model from a BertForPreTraining model).\n",
      "- This IS NOT expected if you are initializing BertModel from the checkpoint of a model that you expect to be exactly identical (initializing a BertForSequenceClassification model from a BertForSequenceClassification model).\n"
     ]
    },
    {
     "name": "stdout",
     "output_type": "stream",
     "text": [
      "Model downloaded: bert-base-uncased\n",
      "training time: 0.7913756240159273\n",
      "accuracy: 71.55963134765625\n",
      "{'params': {'reservoir_dim': 1000, 'spectral_radius': 1.0, 'leaking_rate': 0.1, 'input_scaling': 1.0, 'bias_scaling': 0.0, 'sparsity': 0.0, 'activation_function': 'relu', 'alpha': 10.0}, 'accuracy': [69.26605224609375, 71.55963134765625], 'time': [0.7533281007781625, 0.7913756240159273]}\n"
     ]
    },
    {
     "name": "stderr",
     "output_type": "stream",
     "text": [
      "Some weights of the model checkpoint at bert-base-uncased were not used when initializing BertModel: ['cls.predictions.bias', 'cls.predictions.transform.dense.weight', 'cls.predictions.transform.LayerNorm.weight', 'cls.seq_relationship.weight', 'cls.predictions.decoder.weight', 'cls.seq_relationship.bias', 'cls.predictions.transform.dense.bias', 'cls.predictions.transform.LayerNorm.bias']\n",
      "- This IS expected if you are initializing BertModel from the checkpoint of a model trained on another task or with another architecture (e.g. initializing a BertForSequenceClassification model from a BertForPreTraining model).\n",
      "- This IS NOT expected if you are initializing BertModel from the checkpoint of a model that you expect to be exactly identical (initializing a BertForSequenceClassification model from a BertForSequenceClassification model).\n"
     ]
    },
    {
     "name": "stdout",
     "output_type": "stream",
     "text": [
      "Model downloaded: bert-base-uncased\n",
      "training time: 0.7453468609601259\n",
      "accuracy: 74.77063751220703\n",
      "{'params': {'reservoir_dim': 1000, 'spectral_radius': 1.0, 'leaking_rate': 0.1, 'input_scaling': 1.0, 'bias_scaling': 0.0, 'sparsity': 0.0, 'activation_function': 'relu', 'alpha': 10.0}, 'accuracy': [69.26605224609375, 71.55963134765625, 74.77063751220703], 'time': [0.7533281007781625, 0.7913756240159273, 0.7453468609601259]}\n"
     ]
    },
    {
     "name": "stderr",
     "output_type": "stream",
     "text": [
      "Some weights of the model checkpoint at bert-base-uncased were not used when initializing BertModel: ['cls.predictions.bias', 'cls.predictions.transform.dense.weight', 'cls.predictions.transform.LayerNorm.weight', 'cls.seq_relationship.weight', 'cls.predictions.decoder.weight', 'cls.seq_relationship.bias', 'cls.predictions.transform.dense.bias', 'cls.predictions.transform.LayerNorm.bias']\n",
      "- This IS expected if you are initializing BertModel from the checkpoint of a model trained on another task or with another architecture (e.g. initializing a BertForSequenceClassification model from a BertForPreTraining model).\n",
      "- This IS NOT expected if you are initializing BertModel from the checkpoint of a model that you expect to be exactly identical (initializing a BertForSequenceClassification model from a BertForSequenceClassification model).\n"
     ]
    },
    {
     "name": "stdout",
     "output_type": "stream",
     "text": [
      "Model downloaded: bert-base-uncased\n",
      "training time: 0.7496159598231316\n",
      "accuracy: 73.39449310302734\n",
      "{'params': {'reservoir_dim': 1000, 'spectral_radius': 1.0, 'leaking_rate': 0.1, 'input_scaling': 1.0, 'bias_scaling': 0.0, 'sparsity': 0.0, 'activation_function': 'relu', 'alpha': 10.0}, 'accuracy': [69.26605224609375, 71.55963134765625, 74.77063751220703, 73.39449310302734], 'time': [0.7533281007781625, 0.7913756240159273, 0.7453468609601259, 0.7496159598231316]}\n"
     ]
    },
    {
     "name": "stderr",
     "output_type": "stream",
     "text": [
      "Some weights of the model checkpoint at bert-base-uncased were not used when initializing BertModel: ['cls.predictions.bias', 'cls.predictions.transform.dense.weight', 'cls.predictions.transform.LayerNorm.weight', 'cls.seq_relationship.weight', 'cls.predictions.decoder.weight', 'cls.seq_relationship.bias', 'cls.predictions.transform.dense.bias', 'cls.predictions.transform.LayerNorm.bias']\n",
      "- This IS expected if you are initializing BertModel from the checkpoint of a model trained on another task or with another architecture (e.g. initializing a BertForSequenceClassification model from a BertForPreTraining model).\n",
      "- This IS NOT expected if you are initializing BertModel from the checkpoint of a model that you expect to be exactly identical (initializing a BertForSequenceClassification model from a BertForSequenceClassification model).\n"
     ]
    },
    {
     "name": "stdout",
     "output_type": "stream",
     "text": [
      "Model downloaded: bert-base-uncased\n",
      "training time: 0.7835223078727722\n",
      "accuracy: 75.22935485839844\n",
      "{'params': {'reservoir_dim': 1000, 'spectral_radius': 1.0, 'leaking_rate': 0.1, 'input_scaling': 1.0, 'bias_scaling': 0.0, 'sparsity': 0.0, 'activation_function': 'relu', 'alpha': 10.0}, 'accuracy': [69.26605224609375, 71.55963134765625, 74.77063751220703, 73.39449310302734, 75.22935485839844], 'time': [0.7533281007781625, 0.7913756240159273, 0.7453468609601259, 0.7496159598231316, 0.7835223078727722]}\n"
     ]
    },
    {
     "data": {
      "application/vnd.jupyter.widget-view+json": {
       "model_id": "9d99f207728e48d09a6c0a9ae05a88bb",
       "version_major": 2,
       "version_minor": 0
      },
      "text/plain": [
       "  0%|          | 0/5 [00:00<?, ?it/s]"
      ]
     },
     "metadata": {},
     "output_type": "display_data"
    },
    {
     "name": "stderr",
     "output_type": "stream",
     "text": [
      "Some weights of the model checkpoint at bert-base-uncased were not used when initializing BertModel: ['cls.predictions.bias', 'cls.predictions.transform.dense.weight', 'cls.predictions.transform.LayerNorm.weight', 'cls.seq_relationship.weight', 'cls.predictions.decoder.weight', 'cls.seq_relationship.bias', 'cls.predictions.transform.dense.bias', 'cls.predictions.transform.LayerNorm.bias']\n",
      "- This IS expected if you are initializing BertModel from the checkpoint of a model trained on another task or with another architecture (e.g. initializing a BertForSequenceClassification model from a BertForPreTraining model).\n",
      "- This IS NOT expected if you are initializing BertModel from the checkpoint of a model that you expect to be exactly identical (initializing a BertForSequenceClassification model from a BertForSequenceClassification model).\n"
     ]
    },
    {
     "name": "stdout",
     "output_type": "stream",
     "text": [
      "Model downloaded: bert-base-uncased\n",
      "training time: 0.8429433610290289\n",
      "accuracy: 29.357797622680664\n",
      "{'params': {'reservoir_dim': 1000, 'spectral_radius': 1.0, 'leaking_rate': 0.1, 'input_scaling': 1.0, 'bias_scaling': 0.0, 'sparsity': 0.99, 'activation_function': 'relu', 'alpha': 0.1}, 'accuracy': [29.357797622680664], 'time': [0.8429433610290289]}\n"
     ]
    },
    {
     "name": "stderr",
     "output_type": "stream",
     "text": [
      "Some weights of the model checkpoint at bert-base-uncased were not used when initializing BertModel: ['cls.predictions.bias', 'cls.predictions.transform.dense.weight', 'cls.predictions.transform.LayerNorm.weight', 'cls.seq_relationship.weight', 'cls.predictions.decoder.weight', 'cls.seq_relationship.bias', 'cls.predictions.transform.dense.bias', 'cls.predictions.transform.LayerNorm.bias']\n",
      "- This IS expected if you are initializing BertModel from the checkpoint of a model trained on another task or with another architecture (e.g. initializing a BertForSequenceClassification model from a BertForPreTraining model).\n",
      "- This IS NOT expected if you are initializing BertModel from the checkpoint of a model that you expect to be exactly identical (initializing a BertForSequenceClassification model from a BertForSequenceClassification model).\n"
     ]
    },
    {
     "name": "stdout",
     "output_type": "stream",
     "text": [
      "Model downloaded: bert-base-uncased\n",
      "training time: 0.7097019478678703\n",
      "accuracy: 36.69724655151367\n",
      "{'params': {'reservoir_dim': 1000, 'spectral_radius': 1.0, 'leaking_rate': 0.1, 'input_scaling': 1.0, 'bias_scaling': 0.0, 'sparsity': 0.99, 'activation_function': 'relu', 'alpha': 0.1}, 'accuracy': [29.357797622680664, 36.69724655151367], 'time': [0.8429433610290289, 0.7097019478678703]}\n"
     ]
    },
    {
     "name": "stderr",
     "output_type": "stream",
     "text": [
      "Some weights of the model checkpoint at bert-base-uncased were not used when initializing BertModel: ['cls.predictions.bias', 'cls.predictions.transform.dense.weight', 'cls.predictions.transform.LayerNorm.weight', 'cls.seq_relationship.weight', 'cls.predictions.decoder.weight', 'cls.seq_relationship.bias', 'cls.predictions.transform.dense.bias', 'cls.predictions.transform.LayerNorm.bias']\n",
      "- This IS expected if you are initializing BertModel from the checkpoint of a model trained on another task or with another architecture (e.g. initializing a BertForSequenceClassification model from a BertForPreTraining model).\n",
      "- This IS NOT expected if you are initializing BertModel from the checkpoint of a model that you expect to be exactly identical (initializing a BertForSequenceClassification model from a BertForSequenceClassification model).\n"
     ]
    },
    {
     "name": "stdout",
     "output_type": "stream",
     "text": [
      "Model downloaded: bert-base-uncased\n",
      "training time: 0.7218611165881157\n",
      "accuracy: 38.99082565307617\n",
      "{'params': {'reservoir_dim': 1000, 'spectral_radius': 1.0, 'leaking_rate': 0.1, 'input_scaling': 1.0, 'bias_scaling': 0.0, 'sparsity': 0.99, 'activation_function': 'relu', 'alpha': 0.1}, 'accuracy': [29.357797622680664, 36.69724655151367, 38.99082565307617], 'time': [0.8429433610290289, 0.7097019478678703, 0.7218611165881157]}\n"
     ]
    },
    {
     "name": "stderr",
     "output_type": "stream",
     "text": [
      "Some weights of the model checkpoint at bert-base-uncased were not used when initializing BertModel: ['cls.predictions.bias', 'cls.predictions.transform.dense.weight', 'cls.predictions.transform.LayerNorm.weight', 'cls.seq_relationship.weight', 'cls.predictions.decoder.weight', 'cls.seq_relationship.bias', 'cls.predictions.transform.dense.bias', 'cls.predictions.transform.LayerNorm.bias']\n",
      "- This IS expected if you are initializing BertModel from the checkpoint of a model trained on another task or with another architecture (e.g. initializing a BertForSequenceClassification model from a BertForPreTraining model).\n",
      "- This IS NOT expected if you are initializing BertModel from the checkpoint of a model that you expect to be exactly identical (initializing a BertForSequenceClassification model from a BertForSequenceClassification model).\n"
     ]
    },
    {
     "name": "stdout",
     "output_type": "stream",
     "text": [
      "Model downloaded: bert-base-uncased\n",
      "training time: 0.7305694464594126\n",
      "accuracy: 33.486236572265625\n",
      "{'params': {'reservoir_dim': 1000, 'spectral_radius': 1.0, 'leaking_rate': 0.1, 'input_scaling': 1.0, 'bias_scaling': 0.0, 'sparsity': 0.99, 'activation_function': 'relu', 'alpha': 0.1}, 'accuracy': [29.357797622680664, 36.69724655151367, 38.99082565307617, 33.486236572265625], 'time': [0.8429433610290289, 0.7097019478678703, 0.7218611165881157, 0.7305694464594126]}\n"
     ]
    },
    {
     "name": "stderr",
     "output_type": "stream",
     "text": [
      "Some weights of the model checkpoint at bert-base-uncased were not used when initializing BertModel: ['cls.predictions.bias', 'cls.predictions.transform.dense.weight', 'cls.predictions.transform.LayerNorm.weight', 'cls.seq_relationship.weight', 'cls.predictions.decoder.weight', 'cls.seq_relationship.bias', 'cls.predictions.transform.dense.bias', 'cls.predictions.transform.LayerNorm.bias']\n",
      "- This IS expected if you are initializing BertModel from the checkpoint of a model trained on another task or with another architecture (e.g. initializing a BertForSequenceClassification model from a BertForPreTraining model).\n",
      "- This IS NOT expected if you are initializing BertModel from the checkpoint of a model that you expect to be exactly identical (initializing a BertForSequenceClassification model from a BertForSequenceClassification model).\n"
     ]
    },
    {
     "name": "stdout",
     "output_type": "stream",
     "text": [
      "Model downloaded: bert-base-uncased\n",
      "training time: 0.7328732665628195\n",
      "accuracy: 34.40366744995117\n",
      "{'params': {'reservoir_dim': 1000, 'spectral_radius': 1.0, 'leaking_rate': 0.1, 'input_scaling': 1.0, 'bias_scaling': 0.0, 'sparsity': 0.99, 'activation_function': 'relu', 'alpha': 0.1}, 'accuracy': [29.357797622680664, 36.69724655151367, 38.99082565307617, 33.486236572265625, 34.40366744995117], 'time': [0.8429433610290289, 0.7097019478678703, 0.7218611165881157, 0.7305694464594126, 0.7328732665628195]}\n"
     ]
    },
    {
     "data": {
      "application/vnd.jupyter.widget-view+json": {
       "model_id": "bbdc4b58f05b48a2b4bb65830a93fdd8",
       "version_major": 2,
       "version_minor": 0
      },
      "text/plain": [
       "  0%|          | 0/5 [00:00<?, ?it/s]"
      ]
     },
     "metadata": {},
     "output_type": "display_data"
    },
    {
     "name": "stderr",
     "output_type": "stream",
     "text": [
      "Some weights of the model checkpoint at bert-base-uncased were not used when initializing BertModel: ['cls.predictions.bias', 'cls.predictions.transform.dense.weight', 'cls.predictions.transform.LayerNorm.weight', 'cls.seq_relationship.weight', 'cls.predictions.decoder.weight', 'cls.seq_relationship.bias', 'cls.predictions.transform.dense.bias', 'cls.predictions.transform.LayerNorm.bias']\n",
      "- This IS expected if you are initializing BertModel from the checkpoint of a model trained on another task or with another architecture (e.g. initializing a BertForSequenceClassification model from a BertForPreTraining model).\n",
      "- This IS NOT expected if you are initializing BertModel from the checkpoint of a model that you expect to be exactly identical (initializing a BertForSequenceClassification model from a BertForSequenceClassification model).\n"
     ]
    },
    {
     "name": "stdout",
     "output_type": "stream",
     "text": [
      "Model downloaded: bert-base-uncased\n",
      "training time: 0.8032829659059644\n",
      "accuracy: 58.71559524536133\n",
      "{'params': {'reservoir_dim': 1000, 'spectral_radius': 1.0, 'leaking_rate': 0.1, 'input_scaling': 1.0, 'bias_scaling': 0.0, 'sparsity': 0.99, 'activation_function': 'relu', 'alpha': 1.0}, 'accuracy': [58.71559524536133], 'time': [0.8032829659059644]}\n"
     ]
    },
    {
     "name": "stderr",
     "output_type": "stream",
     "text": [
      "Some weights of the model checkpoint at bert-base-uncased were not used when initializing BertModel: ['cls.predictions.bias', 'cls.predictions.transform.dense.weight', 'cls.predictions.transform.LayerNorm.weight', 'cls.seq_relationship.weight', 'cls.predictions.decoder.weight', 'cls.seq_relationship.bias', 'cls.predictions.transform.dense.bias', 'cls.predictions.transform.LayerNorm.bias']\n",
      "- This IS expected if you are initializing BertModel from the checkpoint of a model trained on another task or with another architecture (e.g. initializing a BertForSequenceClassification model from a BertForPreTraining model).\n",
      "- This IS NOT expected if you are initializing BertModel from the checkpoint of a model that you expect to be exactly identical (initializing a BertForSequenceClassification model from a BertForSequenceClassification model).\n"
     ]
    },
    {
     "name": "stdout",
     "output_type": "stream",
     "text": [
      "Model downloaded: bert-base-uncased\n",
      "training time: 0.7417053692042828\n",
      "accuracy: 61.00917053222656\n",
      "{'params': {'reservoir_dim': 1000, 'spectral_radius': 1.0, 'leaking_rate': 0.1, 'input_scaling': 1.0, 'bias_scaling': 0.0, 'sparsity': 0.99, 'activation_function': 'relu', 'alpha': 1.0}, 'accuracy': [58.71559524536133, 61.00917053222656], 'time': [0.8032829659059644, 0.7417053692042828]}\n"
     ]
    },
    {
     "name": "stderr",
     "output_type": "stream",
     "text": [
      "Some weights of the model checkpoint at bert-base-uncased were not used when initializing BertModel: ['cls.predictions.bias', 'cls.predictions.transform.dense.weight', 'cls.predictions.transform.LayerNorm.weight', 'cls.seq_relationship.weight', 'cls.predictions.decoder.weight', 'cls.seq_relationship.bias', 'cls.predictions.transform.dense.bias', 'cls.predictions.transform.LayerNorm.bias']\n",
      "- This IS expected if you are initializing BertModel from the checkpoint of a model trained on another task or with another architecture (e.g. initializing a BertForSequenceClassification model from a BertForPreTraining model).\n",
      "- This IS NOT expected if you are initializing BertModel from the checkpoint of a model that you expect to be exactly identical (initializing a BertForSequenceClassification model from a BertForSequenceClassification model).\n"
     ]
    },
    {
     "name": "stdout",
     "output_type": "stream",
     "text": [
      "Model downloaded: bert-base-uncased\n",
      "training time: 0.743803396821022\n",
      "accuracy: 62.385318756103516\n",
      "{'params': {'reservoir_dim': 1000, 'spectral_radius': 1.0, 'leaking_rate': 0.1, 'input_scaling': 1.0, 'bias_scaling': 0.0, 'sparsity': 0.99, 'activation_function': 'relu', 'alpha': 1.0}, 'accuracy': [58.71559524536133, 61.00917053222656, 62.385318756103516], 'time': [0.8032829659059644, 0.7417053692042828, 0.743803396821022]}\n"
     ]
    },
    {
     "name": "stderr",
     "output_type": "stream",
     "text": [
      "Some weights of the model checkpoint at bert-base-uncased were not used when initializing BertModel: ['cls.predictions.bias', 'cls.predictions.transform.dense.weight', 'cls.predictions.transform.LayerNorm.weight', 'cls.seq_relationship.weight', 'cls.predictions.decoder.weight', 'cls.seq_relationship.bias', 'cls.predictions.transform.dense.bias', 'cls.predictions.transform.LayerNorm.bias']\n",
      "- This IS expected if you are initializing BertModel from the checkpoint of a model trained on another task or with another architecture (e.g. initializing a BertForSequenceClassification model from a BertForPreTraining model).\n",
      "- This IS NOT expected if you are initializing BertModel from the checkpoint of a model that you expect to be exactly identical (initializing a BertForSequenceClassification model from a BertForSequenceClassification model).\n"
     ]
    },
    {
     "name": "stdout",
     "output_type": "stream",
     "text": [
      "Model downloaded: bert-base-uncased\n",
      "training time: 0.7438911776989698\n",
      "accuracy: 65.59632873535156\n",
      "{'params': {'reservoir_dim': 1000, 'spectral_radius': 1.0, 'leaking_rate': 0.1, 'input_scaling': 1.0, 'bias_scaling': 0.0, 'sparsity': 0.99, 'activation_function': 'relu', 'alpha': 1.0}, 'accuracy': [58.71559524536133, 61.00917053222656, 62.385318756103516, 65.59632873535156], 'time': [0.8032829659059644, 0.7417053692042828, 0.743803396821022, 0.7438911776989698]}\n"
     ]
    },
    {
     "name": "stderr",
     "output_type": "stream",
     "text": [
      "Some weights of the model checkpoint at bert-base-uncased were not used when initializing BertModel: ['cls.predictions.bias', 'cls.predictions.transform.dense.weight', 'cls.predictions.transform.LayerNorm.weight', 'cls.seq_relationship.weight', 'cls.predictions.decoder.weight', 'cls.seq_relationship.bias', 'cls.predictions.transform.dense.bias', 'cls.predictions.transform.LayerNorm.bias']\n",
      "- This IS expected if you are initializing BertModel from the checkpoint of a model trained on another task or with another architecture (e.g. initializing a BertForSequenceClassification model from a BertForPreTraining model).\n",
      "- This IS NOT expected if you are initializing BertModel from the checkpoint of a model that you expect to be exactly identical (initializing a BertForSequenceClassification model from a BertForSequenceClassification model).\n"
     ]
    },
    {
     "name": "stdout",
     "output_type": "stream",
     "text": [
      "Model downloaded: bert-base-uncased\n",
      "training time: 0.774695448577404\n",
      "accuracy: 59.17430877685547\n",
      "{'params': {'reservoir_dim': 1000, 'spectral_radius': 1.0, 'leaking_rate': 0.1, 'input_scaling': 1.0, 'bias_scaling': 0.0, 'sparsity': 0.99, 'activation_function': 'relu', 'alpha': 1.0}, 'accuracy': [58.71559524536133, 61.00917053222656, 62.385318756103516, 65.59632873535156, 59.17430877685547], 'time': [0.8032829659059644, 0.7417053692042828, 0.743803396821022, 0.7438911776989698, 0.774695448577404]}\n"
     ]
    },
    {
     "data": {
      "application/vnd.jupyter.widget-view+json": {
       "model_id": "a306e61dc79848adad8de939eccd648d",
       "version_major": 2,
       "version_minor": 0
      },
      "text/plain": [
       "  0%|          | 0/5 [00:00<?, ?it/s]"
      ]
     },
     "metadata": {},
     "output_type": "display_data"
    },
    {
     "name": "stderr",
     "output_type": "stream",
     "text": [
      "Some weights of the model checkpoint at bert-base-uncased were not used when initializing BertModel: ['cls.predictions.bias', 'cls.predictions.transform.dense.weight', 'cls.predictions.transform.LayerNorm.weight', 'cls.seq_relationship.weight', 'cls.predictions.decoder.weight', 'cls.seq_relationship.bias', 'cls.predictions.transform.dense.bias', 'cls.predictions.transform.LayerNorm.bias']\n",
      "- This IS expected if you are initializing BertModel from the checkpoint of a model trained on another task or with another architecture (e.g. initializing a BertForSequenceClassification model from a BertForPreTraining model).\n",
      "- This IS NOT expected if you are initializing BertModel from the checkpoint of a model that you expect to be exactly identical (initializing a BertForSequenceClassification model from a BertForSequenceClassification model).\n"
     ]
    },
    {
     "name": "stdout",
     "output_type": "stream",
     "text": [
      "Model downloaded: bert-base-uncased\n",
      "training time: 0.7076624752953649\n",
      "accuracy: 73.39449310302734\n",
      "{'params': {'reservoir_dim': 1000, 'spectral_radius': 1.0, 'leaking_rate': 0.1, 'input_scaling': 1.0, 'bias_scaling': 0.0, 'sparsity': 0.99, 'activation_function': 'relu', 'alpha': 10.0}, 'accuracy': [73.39449310302734], 'time': [0.7076624752953649]}\n"
     ]
    },
    {
     "name": "stderr",
     "output_type": "stream",
     "text": [
      "Some weights of the model checkpoint at bert-base-uncased were not used when initializing BertModel: ['cls.predictions.bias', 'cls.predictions.transform.dense.weight', 'cls.predictions.transform.LayerNorm.weight', 'cls.seq_relationship.weight', 'cls.predictions.decoder.weight', 'cls.seq_relationship.bias', 'cls.predictions.transform.dense.bias', 'cls.predictions.transform.LayerNorm.bias']\n",
      "- This IS expected if you are initializing BertModel from the checkpoint of a model trained on another task or with another architecture (e.g. initializing a BertForSequenceClassification model from a BertForPreTraining model).\n",
      "- This IS NOT expected if you are initializing BertModel from the checkpoint of a model that you expect to be exactly identical (initializing a BertForSequenceClassification model from a BertForSequenceClassification model).\n"
     ]
    },
    {
     "name": "stdout",
     "output_type": "stream",
     "text": [
      "Model downloaded: bert-base-uncased\n",
      "training time: 0.7649561343714595\n",
      "accuracy: 69.72476959228516\n",
      "{'params': {'reservoir_dim': 1000, 'spectral_radius': 1.0, 'leaking_rate': 0.1, 'input_scaling': 1.0, 'bias_scaling': 0.0, 'sparsity': 0.99, 'activation_function': 'relu', 'alpha': 10.0}, 'accuracy': [73.39449310302734, 69.72476959228516], 'time': [0.7076624752953649, 0.7649561343714595]}\n"
     ]
    },
    {
     "name": "stderr",
     "output_type": "stream",
     "text": [
      "Some weights of the model checkpoint at bert-base-uncased were not used when initializing BertModel: ['cls.predictions.bias', 'cls.predictions.transform.dense.weight', 'cls.predictions.transform.LayerNorm.weight', 'cls.seq_relationship.weight', 'cls.predictions.decoder.weight', 'cls.seq_relationship.bias', 'cls.predictions.transform.dense.bias', 'cls.predictions.transform.LayerNorm.bias']\n",
      "- This IS expected if you are initializing BertModel from the checkpoint of a model trained on another task or with another architecture (e.g. initializing a BertForSequenceClassification model from a BertForPreTraining model).\n",
      "- This IS NOT expected if you are initializing BertModel from the checkpoint of a model that you expect to be exactly identical (initializing a BertForSequenceClassification model from a BertForSequenceClassification model).\n"
     ]
    },
    {
     "name": "stdout",
     "output_type": "stream",
     "text": [
      "Model downloaded: bert-base-uncased\n",
      "training time: 0.8744060341268778\n",
      "accuracy: 73.85321044921875\n",
      "{'params': {'reservoir_dim': 1000, 'spectral_radius': 1.0, 'leaking_rate': 0.1, 'input_scaling': 1.0, 'bias_scaling': 0.0, 'sparsity': 0.99, 'activation_function': 'relu', 'alpha': 10.0}, 'accuracy': [73.39449310302734, 69.72476959228516, 73.85321044921875], 'time': [0.7076624752953649, 0.7649561343714595, 0.8744060341268778]}\n"
     ]
    },
    {
     "name": "stderr",
     "output_type": "stream",
     "text": [
      "Some weights of the model checkpoint at bert-base-uncased were not used when initializing BertModel: ['cls.predictions.bias', 'cls.predictions.transform.dense.weight', 'cls.predictions.transform.LayerNorm.weight', 'cls.seq_relationship.weight', 'cls.predictions.decoder.weight', 'cls.seq_relationship.bias', 'cls.predictions.transform.dense.bias', 'cls.predictions.transform.LayerNorm.bias']\n",
      "- This IS expected if you are initializing BertModel from the checkpoint of a model trained on another task or with another architecture (e.g. initializing a BertForSequenceClassification model from a BertForPreTraining model).\n",
      "- This IS NOT expected if you are initializing BertModel from the checkpoint of a model that you expect to be exactly identical (initializing a BertForSequenceClassification model from a BertForSequenceClassification model).\n"
     ]
    },
    {
     "name": "stdout",
     "output_type": "stream",
     "text": [
      "Model downloaded: bert-base-uncased\n",
      "training time: 0.7609644522890449\n",
      "accuracy: 74.31192016601562\n",
      "{'params': {'reservoir_dim': 1000, 'spectral_radius': 1.0, 'leaking_rate': 0.1, 'input_scaling': 1.0, 'bias_scaling': 0.0, 'sparsity': 0.99, 'activation_function': 'relu', 'alpha': 10.0}, 'accuracy': [73.39449310302734, 69.72476959228516, 73.85321044921875, 74.31192016601562], 'time': [0.7076624752953649, 0.7649561343714595, 0.8744060341268778, 0.7609644522890449]}\n"
     ]
    },
    {
     "name": "stderr",
     "output_type": "stream",
     "text": [
      "Some weights of the model checkpoint at bert-base-uncased were not used when initializing BertModel: ['cls.predictions.bias', 'cls.predictions.transform.dense.weight', 'cls.predictions.transform.LayerNorm.weight', 'cls.seq_relationship.weight', 'cls.predictions.decoder.weight', 'cls.seq_relationship.bias', 'cls.predictions.transform.dense.bias', 'cls.predictions.transform.LayerNorm.bias']\n",
      "- This IS expected if you are initializing BertModel from the checkpoint of a model trained on another task or with another architecture (e.g. initializing a BertForSequenceClassification model from a BertForPreTraining model).\n",
      "- This IS NOT expected if you are initializing BertModel from the checkpoint of a model that you expect to be exactly identical (initializing a BertForSequenceClassification model from a BertForSequenceClassification model).\n"
     ]
    },
    {
     "name": "stdout",
     "output_type": "stream",
     "text": [
      "Model downloaded: bert-base-uncased\n",
      "training time: 0.7504404056817293\n",
      "accuracy: 75.22935485839844\n",
      "{'params': {'reservoir_dim': 1000, 'spectral_radius': 1.0, 'leaking_rate': 0.1, 'input_scaling': 1.0, 'bias_scaling': 0.0, 'sparsity': 0.99, 'activation_function': 'relu', 'alpha': 10.0}, 'accuracy': [73.39449310302734, 69.72476959228516, 73.85321044921875, 74.31192016601562, 75.22935485839844], 'time': [0.7076624752953649, 0.7649561343714595, 0.8744060341268778, 0.7609644522890449, 0.7504404056817293]}\n"
     ]
    },
    {
     "data": {
      "application/vnd.jupyter.widget-view+json": {
       "model_id": "6df09bc5baa045acb0b0aa2fdf9e53c2",
       "version_major": 2,
       "version_minor": 0
      },
      "text/plain": [
       "  0%|          | 0/5 [00:00<?, ?it/s]"
      ]
     },
     "metadata": {},
     "output_type": "display_data"
    },
    {
     "name": "stderr",
     "output_type": "stream",
     "text": [
      "Some weights of the model checkpoint at bert-base-uncased were not used when initializing BertModel: ['cls.predictions.bias', 'cls.predictions.transform.dense.weight', 'cls.predictions.transform.LayerNorm.weight', 'cls.seq_relationship.weight', 'cls.predictions.decoder.weight', 'cls.seq_relationship.bias', 'cls.predictions.transform.dense.bias', 'cls.predictions.transform.LayerNorm.bias']\n",
      "- This IS expected if you are initializing BertModel from the checkpoint of a model trained on another task or with another architecture (e.g. initializing a BertForSequenceClassification model from a BertForPreTraining model).\n",
      "- This IS NOT expected if you are initializing BertModel from the checkpoint of a model that you expect to be exactly identical (initializing a BertForSequenceClassification model from a BertForSequenceClassification model).\n"
     ]
    },
    {
     "name": "stdout",
     "output_type": "stream",
     "text": [
      "Model downloaded: bert-base-uncased\n",
      "training time: 0.7334625208750367\n",
      "accuracy: 55.50458526611328\n",
      "{'params': {'reservoir_dim': 1000, 'spectral_radius': 1.0, 'leaking_rate': 0.5, 'input_scaling': 0.1, 'bias_scaling': 0.0, 'sparsity': 0.0, 'activation_function': 'relu', 'alpha': 0.1}, 'accuracy': [55.50458526611328], 'time': [0.7334625208750367]}\n"
     ]
    },
    {
     "name": "stderr",
     "output_type": "stream",
     "text": [
      "Some weights of the model checkpoint at bert-base-uncased were not used when initializing BertModel: ['cls.predictions.bias', 'cls.predictions.transform.dense.weight', 'cls.predictions.transform.LayerNorm.weight', 'cls.seq_relationship.weight', 'cls.predictions.decoder.weight', 'cls.seq_relationship.bias', 'cls.predictions.transform.dense.bias', 'cls.predictions.transform.LayerNorm.bias']\n",
      "- This IS expected if you are initializing BertModel from the checkpoint of a model trained on another task or with another architecture (e.g. initializing a BertForSequenceClassification model from a BertForPreTraining model).\n",
      "- This IS NOT expected if you are initializing BertModel from the checkpoint of a model that you expect to be exactly identical (initializing a BertForSequenceClassification model from a BertForSequenceClassification model).\n"
     ]
    },
    {
     "name": "stdout",
     "output_type": "stream",
     "text": [
      "Model downloaded: bert-base-uncased\n",
      "training time: 0.744260330684483\n",
      "accuracy: 60.091739654541016\n",
      "{'params': {'reservoir_dim': 1000, 'spectral_radius': 1.0, 'leaking_rate': 0.5, 'input_scaling': 0.1, 'bias_scaling': 0.0, 'sparsity': 0.0, 'activation_function': 'relu', 'alpha': 0.1}, 'accuracy': [55.50458526611328, 60.091739654541016], 'time': [0.7334625208750367, 0.744260330684483]}\n"
     ]
    },
    {
     "name": "stderr",
     "output_type": "stream",
     "text": [
      "Some weights of the model checkpoint at bert-base-uncased were not used when initializing BertModel: ['cls.predictions.bias', 'cls.predictions.transform.dense.weight', 'cls.predictions.transform.LayerNorm.weight', 'cls.seq_relationship.weight', 'cls.predictions.decoder.weight', 'cls.seq_relationship.bias', 'cls.predictions.transform.dense.bias', 'cls.predictions.transform.LayerNorm.bias']\n",
      "- This IS expected if you are initializing BertModel from the checkpoint of a model trained on another task or with another architecture (e.g. initializing a BertForSequenceClassification model from a BertForPreTraining model).\n",
      "- This IS NOT expected if you are initializing BertModel from the checkpoint of a model that you expect to be exactly identical (initializing a BertForSequenceClassification model from a BertForSequenceClassification model).\n"
     ]
    },
    {
     "name": "stdout",
     "output_type": "stream",
     "text": [
      "Model downloaded: bert-base-uncased\n",
      "training time: 0.7497715502977371\n",
      "accuracy: 61.00917053222656\n",
      "{'params': {'reservoir_dim': 1000, 'spectral_radius': 1.0, 'leaking_rate': 0.5, 'input_scaling': 0.1, 'bias_scaling': 0.0, 'sparsity': 0.0, 'activation_function': 'relu', 'alpha': 0.1}, 'accuracy': [55.50458526611328, 60.091739654541016, 61.00917053222656], 'time': [0.7334625208750367, 0.744260330684483, 0.7497715502977371]}\n"
     ]
    },
    {
     "name": "stderr",
     "output_type": "stream",
     "text": [
      "Some weights of the model checkpoint at bert-base-uncased were not used when initializing BertModel: ['cls.predictions.bias', 'cls.predictions.transform.dense.weight', 'cls.predictions.transform.LayerNorm.weight', 'cls.seq_relationship.weight', 'cls.predictions.decoder.weight', 'cls.seq_relationship.bias', 'cls.predictions.transform.dense.bias', 'cls.predictions.transform.LayerNorm.bias']\n",
      "- This IS expected if you are initializing BertModel from the checkpoint of a model trained on another task or with another architecture (e.g. initializing a BertForSequenceClassification model from a BertForPreTraining model).\n",
      "- This IS NOT expected if you are initializing BertModel from the checkpoint of a model that you expect to be exactly identical (initializing a BertForSequenceClassification model from a BertForSequenceClassification model).\n"
     ]
    },
    {
     "name": "stdout",
     "output_type": "stream",
     "text": [
      "Model downloaded: bert-base-uncased\n",
      "training time: 0.729614288546145\n",
      "accuracy: 54.12843704223633\n",
      "{'params': {'reservoir_dim': 1000, 'spectral_radius': 1.0, 'leaking_rate': 0.5, 'input_scaling': 0.1, 'bias_scaling': 0.0, 'sparsity': 0.0, 'activation_function': 'relu', 'alpha': 0.1}, 'accuracy': [55.50458526611328, 60.091739654541016, 61.00917053222656, 54.12843704223633], 'time': [0.7334625208750367, 0.744260330684483, 0.7497715502977371, 0.729614288546145]}\n"
     ]
    },
    {
     "name": "stderr",
     "output_type": "stream",
     "text": [
      "Some weights of the model checkpoint at bert-base-uncased were not used when initializing BertModel: ['cls.predictions.bias', 'cls.predictions.transform.dense.weight', 'cls.predictions.transform.LayerNorm.weight', 'cls.seq_relationship.weight', 'cls.predictions.decoder.weight', 'cls.seq_relationship.bias', 'cls.predictions.transform.dense.bias', 'cls.predictions.transform.LayerNorm.bias']\n",
      "- This IS expected if you are initializing BertModel from the checkpoint of a model trained on another task or with another architecture (e.g. initializing a BertForSequenceClassification model from a BertForPreTraining model).\n",
      "- This IS NOT expected if you are initializing BertModel from the checkpoint of a model that you expect to be exactly identical (initializing a BertForSequenceClassification model from a BertForSequenceClassification model).\n"
     ]
    },
    {
     "name": "stdout",
     "output_type": "stream",
     "text": [
      "Model downloaded: bert-base-uncased\n",
      "training time: 0.7642455473542213\n",
      "accuracy: 60.55045700073242\n",
      "{'params': {'reservoir_dim': 1000, 'spectral_radius': 1.0, 'leaking_rate': 0.5, 'input_scaling': 0.1, 'bias_scaling': 0.0, 'sparsity': 0.0, 'activation_function': 'relu', 'alpha': 0.1}, 'accuracy': [55.50458526611328, 60.091739654541016, 61.00917053222656, 54.12843704223633, 60.55045700073242], 'time': [0.7334625208750367, 0.744260330684483, 0.7497715502977371, 0.729614288546145, 0.7642455473542213]}\n"
     ]
    },
    {
     "data": {
      "application/vnd.jupyter.widget-view+json": {
       "model_id": "406b35eb6a3b4bd68595c5daa6af4da3",
       "version_major": 2,
       "version_minor": 0
      },
      "text/plain": [
       "  0%|          | 0/5 [00:00<?, ?it/s]"
      ]
     },
     "metadata": {},
     "output_type": "display_data"
    },
    {
     "name": "stderr",
     "output_type": "stream",
     "text": [
      "Some weights of the model checkpoint at bert-base-uncased were not used when initializing BertModel: ['cls.predictions.bias', 'cls.predictions.transform.dense.weight', 'cls.predictions.transform.LayerNorm.weight', 'cls.seq_relationship.weight', 'cls.predictions.decoder.weight', 'cls.seq_relationship.bias', 'cls.predictions.transform.dense.bias', 'cls.predictions.transform.LayerNorm.bias']\n",
      "- This IS expected if you are initializing BertModel from the checkpoint of a model trained on another task or with another architecture (e.g. initializing a BertForSequenceClassification model from a BertForPreTraining model).\n",
      "- This IS NOT expected if you are initializing BertModel from the checkpoint of a model that you expect to be exactly identical (initializing a BertForSequenceClassification model from a BertForSequenceClassification model).\n"
     ]
    },
    {
     "name": "stdout",
     "output_type": "stream",
     "text": [
      "Model downloaded: bert-base-uncased\n",
      "training time: 0.7397000025957823\n",
      "accuracy: 66.51375579833984\n",
      "{'params': {'reservoir_dim': 1000, 'spectral_radius': 1.0, 'leaking_rate': 0.5, 'input_scaling': 0.1, 'bias_scaling': 0.0, 'sparsity': 0.0, 'activation_function': 'relu', 'alpha': 1.0}, 'accuracy': [66.51375579833984], 'time': [0.7397000025957823]}\n"
     ]
    },
    {
     "name": "stderr",
     "output_type": "stream",
     "text": [
      "Some weights of the model checkpoint at bert-base-uncased were not used when initializing BertModel: ['cls.predictions.bias', 'cls.predictions.transform.dense.weight', 'cls.predictions.transform.LayerNorm.weight', 'cls.seq_relationship.weight', 'cls.predictions.decoder.weight', 'cls.seq_relationship.bias', 'cls.predictions.transform.dense.bias', 'cls.predictions.transform.LayerNorm.bias']\n",
      "- This IS expected if you are initializing BertModel from the checkpoint of a model trained on another task or with another architecture (e.g. initializing a BertForSequenceClassification model from a BertForPreTraining model).\n",
      "- This IS NOT expected if you are initializing BertModel from the checkpoint of a model that you expect to be exactly identical (initializing a BertForSequenceClassification model from a BertForSequenceClassification model).\n"
     ]
    },
    {
     "name": "stdout",
     "output_type": "stream",
     "text": [
      "Model downloaded: bert-base-uncased\n",
      "training time: 0.7464500851929188\n",
      "accuracy: 69.72476959228516\n",
      "{'params': {'reservoir_dim': 1000, 'spectral_radius': 1.0, 'leaking_rate': 0.5, 'input_scaling': 0.1, 'bias_scaling': 0.0, 'sparsity': 0.0, 'activation_function': 'relu', 'alpha': 1.0}, 'accuracy': [66.51375579833984, 69.72476959228516], 'time': [0.7397000025957823, 0.7464500851929188]}\n"
     ]
    },
    {
     "name": "stderr",
     "output_type": "stream",
     "text": [
      "Some weights of the model checkpoint at bert-base-uncased were not used when initializing BertModel: ['cls.predictions.bias', 'cls.predictions.transform.dense.weight', 'cls.predictions.transform.LayerNorm.weight', 'cls.seq_relationship.weight', 'cls.predictions.decoder.weight', 'cls.seq_relationship.bias', 'cls.predictions.transform.dense.bias', 'cls.predictions.transform.LayerNorm.bias']\n",
      "- This IS expected if you are initializing BertModel from the checkpoint of a model trained on another task or with another architecture (e.g. initializing a BertForSequenceClassification model from a BertForPreTraining model).\n",
      "- This IS NOT expected if you are initializing BertModel from the checkpoint of a model that you expect to be exactly identical (initializing a BertForSequenceClassification model from a BertForSequenceClassification model).\n"
     ]
    },
    {
     "name": "stdout",
     "output_type": "stream",
     "text": [
      "Model downloaded: bert-base-uncased\n",
      "training time: 0.7477917680516839\n",
      "accuracy: 75.22935485839844\n",
      "{'params': {'reservoir_dim': 1000, 'spectral_radius': 1.0, 'leaking_rate': 0.5, 'input_scaling': 0.1, 'bias_scaling': 0.0, 'sparsity': 0.0, 'activation_function': 'relu', 'alpha': 1.0}, 'accuracy': [66.51375579833984, 69.72476959228516, 75.22935485839844], 'time': [0.7397000025957823, 0.7464500851929188, 0.7477917680516839]}\n"
     ]
    },
    {
     "name": "stderr",
     "output_type": "stream",
     "text": [
      "Some weights of the model checkpoint at bert-base-uncased were not used when initializing BertModel: ['cls.predictions.bias', 'cls.predictions.transform.dense.weight', 'cls.predictions.transform.LayerNorm.weight', 'cls.seq_relationship.weight', 'cls.predictions.decoder.weight', 'cls.seq_relationship.bias', 'cls.predictions.transform.dense.bias', 'cls.predictions.transform.LayerNorm.bias']\n",
      "- This IS expected if you are initializing BertModel from the checkpoint of a model trained on another task or with another architecture (e.g. initializing a BertForSequenceClassification model from a BertForPreTraining model).\n",
      "- This IS NOT expected if you are initializing BertModel from the checkpoint of a model that you expect to be exactly identical (initializing a BertForSequenceClassification model from a BertForSequenceClassification model).\n"
     ]
    },
    {
     "name": "stdout",
     "output_type": "stream",
     "text": [
      "Model downloaded: bert-base-uncased\n",
      "training time: 0.8124792911112309\n",
      "accuracy: 72.01834869384766\n",
      "{'params': {'reservoir_dim': 1000, 'spectral_radius': 1.0, 'leaking_rate': 0.5, 'input_scaling': 0.1, 'bias_scaling': 0.0, 'sparsity': 0.0, 'activation_function': 'relu', 'alpha': 1.0}, 'accuracy': [66.51375579833984, 69.72476959228516, 75.22935485839844, 72.01834869384766], 'time': [0.7397000025957823, 0.7464500851929188, 0.7477917680516839, 0.8124792911112309]}\n"
     ]
    },
    {
     "name": "stderr",
     "output_type": "stream",
     "text": [
      "Some weights of the model checkpoint at bert-base-uncased were not used when initializing BertModel: ['cls.predictions.bias', 'cls.predictions.transform.dense.weight', 'cls.predictions.transform.LayerNorm.weight', 'cls.seq_relationship.weight', 'cls.predictions.decoder.weight', 'cls.seq_relationship.bias', 'cls.predictions.transform.dense.bias', 'cls.predictions.transform.LayerNorm.bias']\n",
      "- This IS expected if you are initializing BertModel from the checkpoint of a model trained on another task or with another architecture (e.g. initializing a BertForSequenceClassification model from a BertForPreTraining model).\n",
      "- This IS NOT expected if you are initializing BertModel from the checkpoint of a model that you expect to be exactly identical (initializing a BertForSequenceClassification model from a BertForSequenceClassification model).\n"
     ]
    },
    {
     "name": "stdout",
     "output_type": "stream",
     "text": [
      "Model downloaded: bert-base-uncased\n",
      "training time: 0.8853460969403386\n",
      "accuracy: 76.60549926757812\n",
      "{'params': {'reservoir_dim': 1000, 'spectral_radius': 1.0, 'leaking_rate': 0.5, 'input_scaling': 0.1, 'bias_scaling': 0.0, 'sparsity': 0.0, 'activation_function': 'relu', 'alpha': 1.0}, 'accuracy': [66.51375579833984, 69.72476959228516, 75.22935485839844, 72.01834869384766, 76.60549926757812], 'time': [0.7397000025957823, 0.7464500851929188, 0.7477917680516839, 0.8124792911112309, 0.8853460969403386]}\n"
     ]
    },
    {
     "data": {
      "application/vnd.jupyter.widget-view+json": {
       "model_id": "f49b47fa893a4ab6b081acd764a032b0",
       "version_major": 2,
       "version_minor": 0
      },
      "text/plain": [
       "  0%|          | 0/5 [00:00<?, ?it/s]"
      ]
     },
     "metadata": {},
     "output_type": "display_data"
    },
    {
     "name": "stderr",
     "output_type": "stream",
     "text": [
      "Some weights of the model checkpoint at bert-base-uncased were not used when initializing BertModel: ['cls.predictions.bias', 'cls.predictions.transform.dense.weight', 'cls.predictions.transform.LayerNorm.weight', 'cls.seq_relationship.weight', 'cls.predictions.decoder.weight', 'cls.seq_relationship.bias', 'cls.predictions.transform.dense.bias', 'cls.predictions.transform.LayerNorm.bias']\n",
      "- This IS expected if you are initializing BertModel from the checkpoint of a model trained on another task or with another architecture (e.g. initializing a BertForSequenceClassification model from a BertForPreTraining model).\n",
      "- This IS NOT expected if you are initializing BertModel from the checkpoint of a model that you expect to be exactly identical (initializing a BertForSequenceClassification model from a BertForSequenceClassification model).\n"
     ]
    },
    {
     "name": "stdout",
     "output_type": "stream",
     "text": [
      "Model downloaded: bert-base-uncased\n",
      "training time: 0.8089091200381517\n",
      "accuracy: 76.14678192138672\n",
      "{'params': {'reservoir_dim': 1000, 'spectral_radius': 1.0, 'leaking_rate': 0.5, 'input_scaling': 0.1, 'bias_scaling': 0.0, 'sparsity': 0.0, 'activation_function': 'relu', 'alpha': 10.0}, 'accuracy': [76.14678192138672], 'time': [0.8089091200381517]}\n"
     ]
    },
    {
     "name": "stderr",
     "output_type": "stream",
     "text": [
      "Some weights of the model checkpoint at bert-base-uncased were not used when initializing BertModel: ['cls.predictions.bias', 'cls.predictions.transform.dense.weight', 'cls.predictions.transform.LayerNorm.weight', 'cls.seq_relationship.weight', 'cls.predictions.decoder.weight', 'cls.seq_relationship.bias', 'cls.predictions.transform.dense.bias', 'cls.predictions.transform.LayerNorm.bias']\n",
      "- This IS expected if you are initializing BertModel from the checkpoint of a model trained on another task or with another architecture (e.g. initializing a BertForSequenceClassification model from a BertForPreTraining model).\n",
      "- This IS NOT expected if you are initializing BertModel from the checkpoint of a model that you expect to be exactly identical (initializing a BertForSequenceClassification model from a BertForSequenceClassification model).\n"
     ]
    },
    {
     "name": "stdout",
     "output_type": "stream",
     "text": [
      "Model downloaded: bert-base-uncased\n",
      "training time: 0.7061595311388373\n",
      "accuracy: 76.60549926757812\n",
      "{'params': {'reservoir_dim': 1000, 'spectral_radius': 1.0, 'leaking_rate': 0.5, 'input_scaling': 0.1, 'bias_scaling': 0.0, 'sparsity': 0.0, 'activation_function': 'relu', 'alpha': 10.0}, 'accuracy': [76.14678192138672, 76.60549926757812], 'time': [0.8089091200381517, 0.7061595311388373]}\n"
     ]
    },
    {
     "name": "stderr",
     "output_type": "stream",
     "text": [
      "Some weights of the model checkpoint at bert-base-uncased were not used when initializing BertModel: ['cls.predictions.bias', 'cls.predictions.transform.dense.weight', 'cls.predictions.transform.LayerNorm.weight', 'cls.seq_relationship.weight', 'cls.predictions.decoder.weight', 'cls.seq_relationship.bias', 'cls.predictions.transform.dense.bias', 'cls.predictions.transform.LayerNorm.bias']\n",
      "- This IS expected if you are initializing BertModel from the checkpoint of a model trained on another task or with another architecture (e.g. initializing a BertForSequenceClassification model from a BertForPreTraining model).\n",
      "- This IS NOT expected if you are initializing BertModel from the checkpoint of a model that you expect to be exactly identical (initializing a BertForSequenceClassification model from a BertForSequenceClassification model).\n"
     ]
    },
    {
     "name": "stdout",
     "output_type": "stream",
     "text": [
      "Model downloaded: bert-base-uncased\n",
      "training time: 0.6910055270418525\n",
      "accuracy: 78.44036102294922\n",
      "{'params': {'reservoir_dim': 1000, 'spectral_radius': 1.0, 'leaking_rate': 0.5, 'input_scaling': 0.1, 'bias_scaling': 0.0, 'sparsity': 0.0, 'activation_function': 'relu', 'alpha': 10.0}, 'accuracy': [76.14678192138672, 76.60549926757812, 78.44036102294922], 'time': [0.8089091200381517, 0.7061595311388373, 0.6910055270418525]}\n"
     ]
    },
    {
     "name": "stderr",
     "output_type": "stream",
     "text": [
      "Some weights of the model checkpoint at bert-base-uncased were not used when initializing BertModel: ['cls.predictions.bias', 'cls.predictions.transform.dense.weight', 'cls.predictions.transform.LayerNorm.weight', 'cls.seq_relationship.weight', 'cls.predictions.decoder.weight', 'cls.seq_relationship.bias', 'cls.predictions.transform.dense.bias', 'cls.predictions.transform.LayerNorm.bias']\n",
      "- This IS expected if you are initializing BertModel from the checkpoint of a model trained on another task or with another architecture (e.g. initializing a BertForSequenceClassification model from a BertForPreTraining model).\n",
      "- This IS NOT expected if you are initializing BertModel from the checkpoint of a model that you expect to be exactly identical (initializing a BertForSequenceClassification model from a BertForSequenceClassification model).\n"
     ]
    },
    {
     "name": "stdout",
     "output_type": "stream",
     "text": [
      "Model downloaded: bert-base-uncased\n",
      "training time: 0.7158860452473164\n",
      "accuracy: 81.65137481689453\n",
      "{'params': {'reservoir_dim': 1000, 'spectral_radius': 1.0, 'leaking_rate': 0.5, 'input_scaling': 0.1, 'bias_scaling': 0.0, 'sparsity': 0.0, 'activation_function': 'relu', 'alpha': 10.0}, 'accuracy': [76.14678192138672, 76.60549926757812, 78.44036102294922, 81.65137481689453], 'time': [0.8089091200381517, 0.7061595311388373, 0.6910055270418525, 0.7158860452473164]}\n"
     ]
    },
    {
     "name": "stderr",
     "output_type": "stream",
     "text": [
      "Some weights of the model checkpoint at bert-base-uncased were not used when initializing BertModel: ['cls.predictions.bias', 'cls.predictions.transform.dense.weight', 'cls.predictions.transform.LayerNorm.weight', 'cls.seq_relationship.weight', 'cls.predictions.decoder.weight', 'cls.seq_relationship.bias', 'cls.predictions.transform.dense.bias', 'cls.predictions.transform.LayerNorm.bias']\n",
      "- This IS expected if you are initializing BertModel from the checkpoint of a model trained on another task or with another architecture (e.g. initializing a BertForSequenceClassification model from a BertForPreTraining model).\n",
      "- This IS NOT expected if you are initializing BertModel from the checkpoint of a model that you expect to be exactly identical (initializing a BertForSequenceClassification model from a BertForSequenceClassification model).\n"
     ]
    },
    {
     "name": "stdout",
     "output_type": "stream",
     "text": [
      "Model downloaded: bert-base-uncased\n",
      "training time: 0.8245597342029214\n",
      "accuracy: 79.35779571533203\n",
      "{'params': {'reservoir_dim': 1000, 'spectral_radius': 1.0, 'leaking_rate': 0.5, 'input_scaling': 0.1, 'bias_scaling': 0.0, 'sparsity': 0.0, 'activation_function': 'relu', 'alpha': 10.0}, 'accuracy': [76.14678192138672, 76.60549926757812, 78.44036102294922, 81.65137481689453, 79.35779571533203], 'time': [0.8089091200381517, 0.7061595311388373, 0.6910055270418525, 0.7158860452473164, 0.8245597342029214]}\n"
     ]
    },
    {
     "data": {
      "application/vnd.jupyter.widget-view+json": {
       "model_id": "9440ff39952a4baf8c3b2444878fb5e4",
       "version_major": 2,
       "version_minor": 0
      },
      "text/plain": [
       "  0%|          | 0/5 [00:00<?, ?it/s]"
      ]
     },
     "metadata": {},
     "output_type": "display_data"
    },
    {
     "name": "stderr",
     "output_type": "stream",
     "text": [
      "Some weights of the model checkpoint at bert-base-uncased were not used when initializing BertModel: ['cls.predictions.bias', 'cls.predictions.transform.dense.weight', 'cls.predictions.transform.LayerNorm.weight', 'cls.seq_relationship.weight', 'cls.predictions.decoder.weight', 'cls.seq_relationship.bias', 'cls.predictions.transform.dense.bias', 'cls.predictions.transform.LayerNorm.bias']\n",
      "- This IS expected if you are initializing BertModel from the checkpoint of a model trained on another task or with another architecture (e.g. initializing a BertForSequenceClassification model from a BertForPreTraining model).\n",
      "- This IS NOT expected if you are initializing BertModel from the checkpoint of a model that you expect to be exactly identical (initializing a BertForSequenceClassification model from a BertForSequenceClassification model).\n"
     ]
    },
    {
     "name": "stdout",
     "output_type": "stream",
     "text": [
      "Model downloaded: bert-base-uncased\n",
      "training time: 0.8381864707916975\n",
      "accuracy: 63.30274963378906\n",
      "{'params': {'reservoir_dim': 1000, 'spectral_radius': 1.0, 'leaking_rate': 0.5, 'input_scaling': 0.1, 'bias_scaling': 0.0, 'sparsity': 0.99, 'activation_function': 'relu', 'alpha': 0.1}, 'accuracy': [63.30274963378906], 'time': [0.8381864707916975]}\n"
     ]
    },
    {
     "name": "stderr",
     "output_type": "stream",
     "text": [
      "Some weights of the model checkpoint at bert-base-uncased were not used when initializing BertModel: ['cls.predictions.bias', 'cls.predictions.transform.dense.weight', 'cls.predictions.transform.LayerNorm.weight', 'cls.seq_relationship.weight', 'cls.predictions.decoder.weight', 'cls.seq_relationship.bias', 'cls.predictions.transform.dense.bias', 'cls.predictions.transform.LayerNorm.bias']\n",
      "- This IS expected if you are initializing BertModel from the checkpoint of a model trained on another task or with another architecture (e.g. initializing a BertForSequenceClassification model from a BertForPreTraining model).\n",
      "- This IS NOT expected if you are initializing BertModel from the checkpoint of a model that you expect to be exactly identical (initializing a BertForSequenceClassification model from a BertForSequenceClassification model).\n"
     ]
    },
    {
     "name": "stdout",
     "output_type": "stream",
     "text": [
      "Model downloaded: bert-base-uncased\n",
      "training time: 0.7658371198922396\n",
      "accuracy: 60.091739654541016\n",
      "{'params': {'reservoir_dim': 1000, 'spectral_radius': 1.0, 'leaking_rate': 0.5, 'input_scaling': 0.1, 'bias_scaling': 0.0, 'sparsity': 0.99, 'activation_function': 'relu', 'alpha': 0.1}, 'accuracy': [63.30274963378906, 60.091739654541016], 'time': [0.8381864707916975, 0.7658371198922396]}\n"
     ]
    },
    {
     "name": "stderr",
     "output_type": "stream",
     "text": [
      "Some weights of the model checkpoint at bert-base-uncased were not used when initializing BertModel: ['cls.predictions.bias', 'cls.predictions.transform.dense.weight', 'cls.predictions.transform.LayerNorm.weight', 'cls.seq_relationship.weight', 'cls.predictions.decoder.weight', 'cls.seq_relationship.bias', 'cls.predictions.transform.dense.bias', 'cls.predictions.transform.LayerNorm.bias']\n",
      "- This IS expected if you are initializing BertModel from the checkpoint of a model trained on another task or with another architecture (e.g. initializing a BertForSequenceClassification model from a BertForPreTraining model).\n",
      "- This IS NOT expected if you are initializing BertModel from the checkpoint of a model that you expect to be exactly identical (initializing a BertForSequenceClassification model from a BertForSequenceClassification model).\n"
     ]
    },
    {
     "name": "stdout",
     "output_type": "stream",
     "text": [
      "Model downloaded: bert-base-uncased\n",
      "training time: 0.7766004763543606\n",
      "accuracy: 59.17430877685547\n",
      "{'params': {'reservoir_dim': 1000, 'spectral_radius': 1.0, 'leaking_rate': 0.5, 'input_scaling': 0.1, 'bias_scaling': 0.0, 'sparsity': 0.99, 'activation_function': 'relu', 'alpha': 0.1}, 'accuracy': [63.30274963378906, 60.091739654541016, 59.17430877685547], 'time': [0.8381864707916975, 0.7658371198922396, 0.7766004763543606]}\n"
     ]
    },
    {
     "name": "stderr",
     "output_type": "stream",
     "text": [
      "Some weights of the model checkpoint at bert-base-uncased were not used when initializing BertModel: ['cls.predictions.bias', 'cls.predictions.transform.dense.weight', 'cls.predictions.transform.LayerNorm.weight', 'cls.seq_relationship.weight', 'cls.predictions.decoder.weight', 'cls.seq_relationship.bias', 'cls.predictions.transform.dense.bias', 'cls.predictions.transform.LayerNorm.bias']\n",
      "- This IS expected if you are initializing BertModel from the checkpoint of a model trained on another task or with another architecture (e.g. initializing a BertForSequenceClassification model from a BertForPreTraining model).\n",
      "- This IS NOT expected if you are initializing BertModel from the checkpoint of a model that you expect to be exactly identical (initializing a BertForSequenceClassification model from a BertForSequenceClassification model).\n"
     ]
    },
    {
     "name": "stdout",
     "output_type": "stream",
     "text": [
      "Model downloaded: bert-base-uncased\n",
      "training time: 0.7272536754608154\n",
      "accuracy: 56.88072967529297\n",
      "{'params': {'reservoir_dim': 1000, 'spectral_radius': 1.0, 'leaking_rate': 0.5, 'input_scaling': 0.1, 'bias_scaling': 0.0, 'sparsity': 0.99, 'activation_function': 'relu', 'alpha': 0.1}, 'accuracy': [63.30274963378906, 60.091739654541016, 59.17430877685547, 56.88072967529297], 'time': [0.8381864707916975, 0.7658371198922396, 0.7766004763543606, 0.7272536754608154]}\n"
     ]
    },
    {
     "name": "stderr",
     "output_type": "stream",
     "text": [
      "Some weights of the model checkpoint at bert-base-uncased were not used when initializing BertModel: ['cls.predictions.bias', 'cls.predictions.transform.dense.weight', 'cls.predictions.transform.LayerNorm.weight', 'cls.seq_relationship.weight', 'cls.predictions.decoder.weight', 'cls.seq_relationship.bias', 'cls.predictions.transform.dense.bias', 'cls.predictions.transform.LayerNorm.bias']\n",
      "- This IS expected if you are initializing BertModel from the checkpoint of a model trained on another task or with another architecture (e.g. initializing a BertForSequenceClassification model from a BertForPreTraining model).\n",
      "- This IS NOT expected if you are initializing BertModel from the checkpoint of a model that you expect to be exactly identical (initializing a BertForSequenceClassification model from a BertForSequenceClassification model).\n"
     ]
    },
    {
     "name": "stdout",
     "output_type": "stream",
     "text": [
      "Model downloaded: bert-base-uncased\n",
      "training time: 0.7590244989842176\n",
      "accuracy: 60.55045700073242\n",
      "{'params': {'reservoir_dim': 1000, 'spectral_radius': 1.0, 'leaking_rate': 0.5, 'input_scaling': 0.1, 'bias_scaling': 0.0, 'sparsity': 0.99, 'activation_function': 'relu', 'alpha': 0.1}, 'accuracy': [63.30274963378906, 60.091739654541016, 59.17430877685547, 56.88072967529297, 60.55045700073242], 'time': [0.8381864707916975, 0.7658371198922396, 0.7766004763543606, 0.7272536754608154, 0.7590244989842176]}\n"
     ]
    },
    {
     "data": {
      "application/vnd.jupyter.widget-view+json": {
       "model_id": "f4ee98bf56b84cd2b036de52cd810317",
       "version_major": 2,
       "version_minor": 0
      },
      "text/plain": [
       "  0%|          | 0/5 [00:00<?, ?it/s]"
      ]
     },
     "metadata": {},
     "output_type": "display_data"
    },
    {
     "name": "stderr",
     "output_type": "stream",
     "text": [
      "Some weights of the model checkpoint at bert-base-uncased were not used when initializing BertModel: ['cls.predictions.bias', 'cls.predictions.transform.dense.weight', 'cls.predictions.transform.LayerNorm.weight', 'cls.seq_relationship.weight', 'cls.predictions.decoder.weight', 'cls.seq_relationship.bias', 'cls.predictions.transform.dense.bias', 'cls.predictions.transform.LayerNorm.bias']\n",
      "- This IS expected if you are initializing BertModel from the checkpoint of a model trained on another task or with another architecture (e.g. initializing a BertForSequenceClassification model from a BertForPreTraining model).\n",
      "- This IS NOT expected if you are initializing BertModel from the checkpoint of a model that you expect to be exactly identical (initializing a BertForSequenceClassification model from a BertForSequenceClassification model).\n"
     ]
    },
    {
     "name": "stdout",
     "output_type": "stream",
     "text": [
      "Model downloaded: bert-base-uncased\n",
      "training time: 0.7307905443012714\n",
      "accuracy: 74.77063751220703\n",
      "{'params': {'reservoir_dim': 1000, 'spectral_radius': 1.0, 'leaking_rate': 0.5, 'input_scaling': 0.1, 'bias_scaling': 0.0, 'sparsity': 0.99, 'activation_function': 'relu', 'alpha': 1.0}, 'accuracy': [74.77063751220703], 'time': [0.7307905443012714]}\n"
     ]
    },
    {
     "name": "stderr",
     "output_type": "stream",
     "text": [
      "Some weights of the model checkpoint at bert-base-uncased were not used when initializing BertModel: ['cls.predictions.bias', 'cls.predictions.transform.dense.weight', 'cls.predictions.transform.LayerNorm.weight', 'cls.seq_relationship.weight', 'cls.predictions.decoder.weight', 'cls.seq_relationship.bias', 'cls.predictions.transform.dense.bias', 'cls.predictions.transform.LayerNorm.bias']\n",
      "- This IS expected if you are initializing BertModel from the checkpoint of a model trained on another task or with another architecture (e.g. initializing a BertForSequenceClassification model from a BertForPreTraining model).\n",
      "- This IS NOT expected if you are initializing BertModel from the checkpoint of a model that you expect to be exactly identical (initializing a BertForSequenceClassification model from a BertForSequenceClassification model).\n"
     ]
    },
    {
     "name": "stdout",
     "output_type": "stream",
     "text": [
      "Model downloaded: bert-base-uncased\n",
      "training time: 0.7400896660983562\n",
      "accuracy: 69.72476959228516\n",
      "{'params': {'reservoir_dim': 1000, 'spectral_radius': 1.0, 'leaking_rate': 0.5, 'input_scaling': 0.1, 'bias_scaling': 0.0, 'sparsity': 0.99, 'activation_function': 'relu', 'alpha': 1.0}, 'accuracy': [74.77063751220703, 69.72476959228516], 'time': [0.7307905443012714, 0.7400896660983562]}\n"
     ]
    },
    {
     "name": "stderr",
     "output_type": "stream",
     "text": [
      "Some weights of the model checkpoint at bert-base-uncased were not used when initializing BertModel: ['cls.predictions.bias', 'cls.predictions.transform.dense.weight', 'cls.predictions.transform.LayerNorm.weight', 'cls.seq_relationship.weight', 'cls.predictions.decoder.weight', 'cls.seq_relationship.bias', 'cls.predictions.transform.dense.bias', 'cls.predictions.transform.LayerNorm.bias']\n",
      "- This IS expected if you are initializing BertModel from the checkpoint of a model trained on another task or with another architecture (e.g. initializing a BertForSequenceClassification model from a BertForPreTraining model).\n",
      "- This IS NOT expected if you are initializing BertModel from the checkpoint of a model that you expect to be exactly identical (initializing a BertForSequenceClassification model from a BertForSequenceClassification model).\n"
     ]
    },
    {
     "name": "stdout",
     "output_type": "stream",
     "text": [
      "Model downloaded: bert-base-uncased\n",
      "training time: 0.8775732591748238\n",
      "accuracy: 67.88990783691406\n",
      "{'params': {'reservoir_dim': 1000, 'spectral_radius': 1.0, 'leaking_rate': 0.5, 'input_scaling': 0.1, 'bias_scaling': 0.0, 'sparsity': 0.99, 'activation_function': 'relu', 'alpha': 1.0}, 'accuracy': [74.77063751220703, 69.72476959228516, 67.88990783691406], 'time': [0.7307905443012714, 0.7400896660983562, 0.8775732591748238]}\n"
     ]
    },
    {
     "name": "stderr",
     "output_type": "stream",
     "text": [
      "Some weights of the model checkpoint at bert-base-uncased were not used when initializing BertModel: ['cls.predictions.bias', 'cls.predictions.transform.dense.weight', 'cls.predictions.transform.LayerNorm.weight', 'cls.seq_relationship.weight', 'cls.predictions.decoder.weight', 'cls.seq_relationship.bias', 'cls.predictions.transform.dense.bias', 'cls.predictions.transform.LayerNorm.bias']\n",
      "- This IS expected if you are initializing BertModel from the checkpoint of a model trained on another task or with another architecture (e.g. initializing a BertForSequenceClassification model from a BertForPreTraining model).\n",
      "- This IS NOT expected if you are initializing BertModel from the checkpoint of a model that you expect to be exactly identical (initializing a BertForSequenceClassification model from a BertForSequenceClassification model).\n"
     ]
    },
    {
     "name": "stdout",
     "output_type": "stream",
     "text": [
      "Model downloaded: bert-base-uncased\n",
      "training time: 0.7089334670454264\n",
      "accuracy: 68.34861755371094\n",
      "{'params': {'reservoir_dim': 1000, 'spectral_radius': 1.0, 'leaking_rate': 0.5, 'input_scaling': 0.1, 'bias_scaling': 0.0, 'sparsity': 0.99, 'activation_function': 'relu', 'alpha': 1.0}, 'accuracy': [74.77063751220703, 69.72476959228516, 67.88990783691406, 68.34861755371094], 'time': [0.7307905443012714, 0.7400896660983562, 0.8775732591748238, 0.7089334670454264]}\n"
     ]
    },
    {
     "name": "stderr",
     "output_type": "stream",
     "text": [
      "Some weights of the model checkpoint at bert-base-uncased were not used when initializing BertModel: ['cls.predictions.bias', 'cls.predictions.transform.dense.weight', 'cls.predictions.transform.LayerNorm.weight', 'cls.seq_relationship.weight', 'cls.predictions.decoder.weight', 'cls.seq_relationship.bias', 'cls.predictions.transform.dense.bias', 'cls.predictions.transform.LayerNorm.bias']\n",
      "- This IS expected if you are initializing BertModel from the checkpoint of a model trained on another task or with another architecture (e.g. initializing a BertForSequenceClassification model from a BertForPreTraining model).\n",
      "- This IS NOT expected if you are initializing BertModel from the checkpoint of a model that you expect to be exactly identical (initializing a BertForSequenceClassification model from a BertForSequenceClassification model).\n"
     ]
    },
    {
     "name": "stdout",
     "output_type": "stream",
     "text": [
      "Model downloaded: bert-base-uncased\n",
      "training time: 0.8419089540839195\n",
      "accuracy: 73.39449310302734\n",
      "{'params': {'reservoir_dim': 1000, 'spectral_radius': 1.0, 'leaking_rate': 0.5, 'input_scaling': 0.1, 'bias_scaling': 0.0, 'sparsity': 0.99, 'activation_function': 'relu', 'alpha': 1.0}, 'accuracy': [74.77063751220703, 69.72476959228516, 67.88990783691406, 68.34861755371094, 73.39449310302734], 'time': [0.7307905443012714, 0.7400896660983562, 0.8775732591748238, 0.7089334670454264, 0.8419089540839195]}\n"
     ]
    },
    {
     "data": {
      "application/vnd.jupyter.widget-view+json": {
       "model_id": "52c51b9af28b4c189b532624e2be380e",
       "version_major": 2,
       "version_minor": 0
      },
      "text/plain": [
       "  0%|          | 0/5 [00:00<?, ?it/s]"
      ]
     },
     "metadata": {},
     "output_type": "display_data"
    },
    {
     "name": "stderr",
     "output_type": "stream",
     "text": [
      "Some weights of the model checkpoint at bert-base-uncased were not used when initializing BertModel: ['cls.predictions.bias', 'cls.predictions.transform.dense.weight', 'cls.predictions.transform.LayerNorm.weight', 'cls.seq_relationship.weight', 'cls.predictions.decoder.weight', 'cls.seq_relationship.bias', 'cls.predictions.transform.dense.bias', 'cls.predictions.transform.LayerNorm.bias']\n",
      "- This IS expected if you are initializing BertModel from the checkpoint of a model trained on another task or with another architecture (e.g. initializing a BertForSequenceClassification model from a BertForPreTraining model).\n",
      "- This IS NOT expected if you are initializing BertModel from the checkpoint of a model that you expect to be exactly identical (initializing a BertForSequenceClassification model from a BertForSequenceClassification model).\n"
     ]
    },
    {
     "name": "stdout",
     "output_type": "stream",
     "text": [
      "Model downloaded: bert-base-uncased\n",
      "training time: 0.7489916468039155\n",
      "accuracy: 78.44036102294922\n",
      "{'params': {'reservoir_dim': 1000, 'spectral_radius': 1.0, 'leaking_rate': 0.5, 'input_scaling': 0.1, 'bias_scaling': 0.0, 'sparsity': 0.99, 'activation_function': 'relu', 'alpha': 10.0}, 'accuracy': [78.44036102294922], 'time': [0.7489916468039155]}\n"
     ]
    },
    {
     "name": "stderr",
     "output_type": "stream",
     "text": [
      "Some weights of the model checkpoint at bert-base-uncased were not used when initializing BertModel: ['cls.predictions.bias', 'cls.predictions.transform.dense.weight', 'cls.predictions.transform.LayerNorm.weight', 'cls.seq_relationship.weight', 'cls.predictions.decoder.weight', 'cls.seq_relationship.bias', 'cls.predictions.transform.dense.bias', 'cls.predictions.transform.LayerNorm.bias']\n",
      "- This IS expected if you are initializing BertModel from the checkpoint of a model trained on another task or with another architecture (e.g. initializing a BertForSequenceClassification model from a BertForPreTraining model).\n",
      "- This IS NOT expected if you are initializing BertModel from the checkpoint of a model that you expect to be exactly identical (initializing a BertForSequenceClassification model from a BertForSequenceClassification model).\n"
     ]
    },
    {
     "name": "stdout",
     "output_type": "stream",
     "text": [
      "Model downloaded: bert-base-uncased\n",
      "training time: 0.7294938750565052\n",
      "accuracy: 77.98165130615234\n",
      "{'params': {'reservoir_dim': 1000, 'spectral_radius': 1.0, 'leaking_rate': 0.5, 'input_scaling': 0.1, 'bias_scaling': 0.0, 'sparsity': 0.99, 'activation_function': 'relu', 'alpha': 10.0}, 'accuracy': [78.44036102294922, 77.98165130615234], 'time': [0.7489916468039155, 0.7294938750565052]}\n"
     ]
    },
    {
     "name": "stderr",
     "output_type": "stream",
     "text": [
      "Some weights of the model checkpoint at bert-base-uncased were not used when initializing BertModel: ['cls.predictions.bias', 'cls.predictions.transform.dense.weight', 'cls.predictions.transform.LayerNorm.weight', 'cls.seq_relationship.weight', 'cls.predictions.decoder.weight', 'cls.seq_relationship.bias', 'cls.predictions.transform.dense.bias', 'cls.predictions.transform.LayerNorm.bias']\n",
      "- This IS expected if you are initializing BertModel from the checkpoint of a model trained on another task or with another architecture (e.g. initializing a BertForSequenceClassification model from a BertForPreTraining model).\n",
      "- This IS NOT expected if you are initializing BertModel from the checkpoint of a model that you expect to be exactly identical (initializing a BertForSequenceClassification model from a BertForSequenceClassification model).\n"
     ]
    },
    {
     "name": "stdout",
     "output_type": "stream",
     "text": [
      "Model downloaded: bert-base-uncased\n",
      "training time: 0.7675398755818605\n",
      "accuracy: 78.89907836914062\n",
      "{'params': {'reservoir_dim': 1000, 'spectral_radius': 1.0, 'leaking_rate': 0.5, 'input_scaling': 0.1, 'bias_scaling': 0.0, 'sparsity': 0.99, 'activation_function': 'relu', 'alpha': 10.0}, 'accuracy': [78.44036102294922, 77.98165130615234, 78.89907836914062], 'time': [0.7489916468039155, 0.7294938750565052, 0.7675398755818605]}\n"
     ]
    },
    {
     "name": "stderr",
     "output_type": "stream",
     "text": [
      "Some weights of the model checkpoint at bert-base-uncased were not used when initializing BertModel: ['cls.predictions.bias', 'cls.predictions.transform.dense.weight', 'cls.predictions.transform.LayerNorm.weight', 'cls.seq_relationship.weight', 'cls.predictions.decoder.weight', 'cls.seq_relationship.bias', 'cls.predictions.transform.dense.bias', 'cls.predictions.transform.LayerNorm.bias']\n",
      "- This IS expected if you are initializing BertModel from the checkpoint of a model trained on another task or with another architecture (e.g. initializing a BertForSequenceClassification model from a BertForPreTraining model).\n",
      "- This IS NOT expected if you are initializing BertModel from the checkpoint of a model that you expect to be exactly identical (initializing a BertForSequenceClassification model from a BertForSequenceClassification model).\n"
     ]
    },
    {
     "name": "stdout",
     "output_type": "stream",
     "text": [
      "Model downloaded: bert-base-uncased\n",
      "training time: 0.7370995245873928\n",
      "accuracy: 78.89907836914062\n",
      "{'params': {'reservoir_dim': 1000, 'spectral_radius': 1.0, 'leaking_rate': 0.5, 'input_scaling': 0.1, 'bias_scaling': 0.0, 'sparsity': 0.99, 'activation_function': 'relu', 'alpha': 10.0}, 'accuracy': [78.44036102294922, 77.98165130615234, 78.89907836914062, 78.89907836914062], 'time': [0.7489916468039155, 0.7294938750565052, 0.7675398755818605, 0.7370995245873928]}\n"
     ]
    },
    {
     "name": "stderr",
     "output_type": "stream",
     "text": [
      "Some weights of the model checkpoint at bert-base-uncased were not used when initializing BertModel: ['cls.predictions.bias', 'cls.predictions.transform.dense.weight', 'cls.predictions.transform.LayerNorm.weight', 'cls.seq_relationship.weight', 'cls.predictions.decoder.weight', 'cls.seq_relationship.bias', 'cls.predictions.transform.dense.bias', 'cls.predictions.transform.LayerNorm.bias']\n",
      "- This IS expected if you are initializing BertModel from the checkpoint of a model trained on another task or with another architecture (e.g. initializing a BertForSequenceClassification model from a BertForPreTraining model).\n",
      "- This IS NOT expected if you are initializing BertModel from the checkpoint of a model that you expect to be exactly identical (initializing a BertForSequenceClassification model from a BertForSequenceClassification model).\n"
     ]
    },
    {
     "name": "stdout",
     "output_type": "stream",
     "text": [
      "Model downloaded: bert-base-uncased\n",
      "training time: 0.7165868040174246\n",
      "accuracy: 80.27522277832031\n",
      "{'params': {'reservoir_dim': 1000, 'spectral_radius': 1.0, 'leaking_rate': 0.5, 'input_scaling': 0.1, 'bias_scaling': 0.0, 'sparsity': 0.99, 'activation_function': 'relu', 'alpha': 10.0}, 'accuracy': [78.44036102294922, 77.98165130615234, 78.89907836914062, 78.89907836914062, 80.27522277832031], 'time': [0.7489916468039155, 0.7294938750565052, 0.7675398755818605, 0.7370995245873928, 0.7165868040174246]}\n"
     ]
    },
    {
     "data": {
      "application/vnd.jupyter.widget-view+json": {
       "model_id": "d2a55a8d88d34f5d8079d4b3701afcd0",
       "version_major": 2,
       "version_minor": 0
      },
      "text/plain": [
       "  0%|          | 0/5 [00:00<?, ?it/s]"
      ]
     },
     "metadata": {},
     "output_type": "display_data"
    },
    {
     "name": "stderr",
     "output_type": "stream",
     "text": [
      "Some weights of the model checkpoint at bert-base-uncased were not used when initializing BertModel: ['cls.predictions.bias', 'cls.predictions.transform.dense.weight', 'cls.predictions.transform.LayerNorm.weight', 'cls.seq_relationship.weight', 'cls.predictions.decoder.weight', 'cls.seq_relationship.bias', 'cls.predictions.transform.dense.bias', 'cls.predictions.transform.LayerNorm.bias']\n",
      "- This IS expected if you are initializing BertModel from the checkpoint of a model trained on another task or with another architecture (e.g. initializing a BertForSequenceClassification model from a BertForPreTraining model).\n",
      "- This IS NOT expected if you are initializing BertModel from the checkpoint of a model that you expect to be exactly identical (initializing a BertForSequenceClassification model from a BertForSequenceClassification model).\n"
     ]
    },
    {
     "name": "stdout",
     "output_type": "stream",
     "text": [
      "Model downloaded: bert-base-uncased\n",
      "training time: 0.7961846087127924\n",
      "accuracy: 28.440364837646484\n",
      "{'params': {'reservoir_dim': 1000, 'spectral_radius': 1.0, 'leaking_rate': 0.5, 'input_scaling': 1.0, 'bias_scaling': 0.0, 'sparsity': 0.0, 'activation_function': 'relu', 'alpha': 0.1}, 'accuracy': [28.440364837646484], 'time': [0.7961846087127924]}\n"
     ]
    },
    {
     "name": "stderr",
     "output_type": "stream",
     "text": [
      "Some weights of the model checkpoint at bert-base-uncased were not used when initializing BertModel: ['cls.predictions.bias', 'cls.predictions.transform.dense.weight', 'cls.predictions.transform.LayerNorm.weight', 'cls.seq_relationship.weight', 'cls.predictions.decoder.weight', 'cls.seq_relationship.bias', 'cls.predictions.transform.dense.bias', 'cls.predictions.transform.LayerNorm.bias']\n",
      "- This IS expected if you are initializing BertModel from the checkpoint of a model trained on another task or with another architecture (e.g. initializing a BertForSequenceClassification model from a BertForPreTraining model).\n",
      "- This IS NOT expected if you are initializing BertModel from the checkpoint of a model that you expect to be exactly identical (initializing a BertForSequenceClassification model from a BertForSequenceClassification model).\n"
     ]
    },
    {
     "name": "stdout",
     "output_type": "stream",
     "text": [
      "Model downloaded: bert-base-uncased\n",
      "training time: 0.7256558239459991\n",
      "accuracy: 27.064218521118164\n",
      "{'params': {'reservoir_dim': 1000, 'spectral_radius': 1.0, 'leaking_rate': 0.5, 'input_scaling': 1.0, 'bias_scaling': 0.0, 'sparsity': 0.0, 'activation_function': 'relu', 'alpha': 0.1}, 'accuracy': [28.440364837646484, 27.064218521118164], 'time': [0.7961846087127924, 0.7256558239459991]}\n"
     ]
    },
    {
     "name": "stderr",
     "output_type": "stream",
     "text": [
      "Some weights of the model checkpoint at bert-base-uncased were not used when initializing BertModel: ['cls.predictions.bias', 'cls.predictions.transform.dense.weight', 'cls.predictions.transform.LayerNorm.weight', 'cls.seq_relationship.weight', 'cls.predictions.decoder.weight', 'cls.seq_relationship.bias', 'cls.predictions.transform.dense.bias', 'cls.predictions.transform.LayerNorm.bias']\n",
      "- This IS expected if you are initializing BertModel from the checkpoint of a model trained on another task or with another architecture (e.g. initializing a BertForSequenceClassification model from a BertForPreTraining model).\n",
      "- This IS NOT expected if you are initializing BertModel from the checkpoint of a model that you expect to be exactly identical (initializing a BertForSequenceClassification model from a BertForSequenceClassification model).\n"
     ]
    },
    {
     "name": "stdout",
     "output_type": "stream",
     "text": [
      "Model downloaded: bert-base-uncased\n",
      "training time: 0.7485277159139514\n",
      "accuracy: 26.60550308227539\n",
      "{'params': {'reservoir_dim': 1000, 'spectral_radius': 1.0, 'leaking_rate': 0.5, 'input_scaling': 1.0, 'bias_scaling': 0.0, 'sparsity': 0.0, 'activation_function': 'relu', 'alpha': 0.1}, 'accuracy': [28.440364837646484, 27.064218521118164, 26.60550308227539], 'time': [0.7961846087127924, 0.7256558239459991, 0.7485277159139514]}\n"
     ]
    },
    {
     "name": "stderr",
     "output_type": "stream",
     "text": [
      "Some weights of the model checkpoint at bert-base-uncased were not used when initializing BertModel: ['cls.predictions.bias', 'cls.predictions.transform.dense.weight', 'cls.predictions.transform.LayerNorm.weight', 'cls.seq_relationship.weight', 'cls.predictions.decoder.weight', 'cls.seq_relationship.bias', 'cls.predictions.transform.dense.bias', 'cls.predictions.transform.LayerNorm.bias']\n",
      "- This IS expected if you are initializing BertModel from the checkpoint of a model trained on another task or with another architecture (e.g. initializing a BertForSequenceClassification model from a BertForPreTraining model).\n",
      "- This IS NOT expected if you are initializing BertModel from the checkpoint of a model that you expect to be exactly identical (initializing a BertForSequenceClassification model from a BertForSequenceClassification model).\n"
     ]
    },
    {
     "name": "stdout",
     "output_type": "stream",
     "text": [
      "Model downloaded: bert-base-uncased\n",
      "training time: 0.7829210180789232\n",
      "accuracy: 22.47706413269043\n",
      "{'params': {'reservoir_dim': 1000, 'spectral_radius': 1.0, 'leaking_rate': 0.5, 'input_scaling': 1.0, 'bias_scaling': 0.0, 'sparsity': 0.0, 'activation_function': 'relu', 'alpha': 0.1}, 'accuracy': [28.440364837646484, 27.064218521118164, 26.60550308227539, 22.47706413269043], 'time': [0.7961846087127924, 0.7256558239459991, 0.7485277159139514, 0.7829210180789232]}\n"
     ]
    },
    {
     "name": "stderr",
     "output_type": "stream",
     "text": [
      "Some weights of the model checkpoint at bert-base-uncased were not used when initializing BertModel: ['cls.predictions.bias', 'cls.predictions.transform.dense.weight', 'cls.predictions.transform.LayerNorm.weight', 'cls.seq_relationship.weight', 'cls.predictions.decoder.weight', 'cls.seq_relationship.bias', 'cls.predictions.transform.dense.bias', 'cls.predictions.transform.LayerNorm.bias']\n",
      "- This IS expected if you are initializing BertModel from the checkpoint of a model trained on another task or with another architecture (e.g. initializing a BertForSequenceClassification model from a BertForPreTraining model).\n",
      "- This IS NOT expected if you are initializing BertModel from the checkpoint of a model that you expect to be exactly identical (initializing a BertForSequenceClassification model from a BertForSequenceClassification model).\n"
     ]
    },
    {
     "name": "stdout",
     "output_type": "stream",
     "text": [
      "Model downloaded: bert-base-uncased\n",
      "training time: 0.8281316831707954\n",
      "accuracy: 27.98164939880371\n",
      "{'params': {'reservoir_dim': 1000, 'spectral_radius': 1.0, 'leaking_rate': 0.5, 'input_scaling': 1.0, 'bias_scaling': 0.0, 'sparsity': 0.0, 'activation_function': 'relu', 'alpha': 0.1}, 'accuracy': [28.440364837646484, 27.064218521118164, 26.60550308227539, 22.47706413269043, 27.98164939880371], 'time': [0.7961846087127924, 0.7256558239459991, 0.7485277159139514, 0.7829210180789232, 0.8281316831707954]}\n"
     ]
    },
    {
     "data": {
      "application/vnd.jupyter.widget-view+json": {
       "model_id": "22c8ac8e90854adeb5ba171daa784064",
       "version_major": 2,
       "version_minor": 0
      },
      "text/plain": [
       "  0%|          | 0/5 [00:00<?, ?it/s]"
      ]
     },
     "metadata": {},
     "output_type": "display_data"
    },
    {
     "name": "stderr",
     "output_type": "stream",
     "text": [
      "Some weights of the model checkpoint at bert-base-uncased were not used when initializing BertModel: ['cls.predictions.bias', 'cls.predictions.transform.dense.weight', 'cls.predictions.transform.LayerNorm.weight', 'cls.seq_relationship.weight', 'cls.predictions.decoder.weight', 'cls.seq_relationship.bias', 'cls.predictions.transform.dense.bias', 'cls.predictions.transform.LayerNorm.bias']\n",
      "- This IS expected if you are initializing BertModel from the checkpoint of a model trained on another task or with another architecture (e.g. initializing a BertForSequenceClassification model from a BertForPreTraining model).\n",
      "- This IS NOT expected if you are initializing BertModel from the checkpoint of a model that you expect to be exactly identical (initializing a BertForSequenceClassification model from a BertForSequenceClassification model).\n"
     ]
    },
    {
     "name": "stdout",
     "output_type": "stream",
     "text": [
      "Model downloaded: bert-base-uncased\n",
      "training time: 0.7900051614269614\n",
      "accuracy: 47.7064208984375\n",
      "{'params': {'reservoir_dim': 1000, 'spectral_radius': 1.0, 'leaking_rate': 0.5, 'input_scaling': 1.0, 'bias_scaling': 0.0, 'sparsity': 0.0, 'activation_function': 'relu', 'alpha': 1.0}, 'accuracy': [47.7064208984375], 'time': [0.7900051614269614]}\n"
     ]
    },
    {
     "name": "stderr",
     "output_type": "stream",
     "text": [
      "Some weights of the model checkpoint at bert-base-uncased were not used when initializing BertModel: ['cls.predictions.bias', 'cls.predictions.transform.dense.weight', 'cls.predictions.transform.LayerNorm.weight', 'cls.seq_relationship.weight', 'cls.predictions.decoder.weight', 'cls.seq_relationship.bias', 'cls.predictions.transform.dense.bias', 'cls.predictions.transform.LayerNorm.bias']\n",
      "- This IS expected if you are initializing BertModel from the checkpoint of a model trained on another task or with another architecture (e.g. initializing a BertForSequenceClassification model from a BertForPreTraining model).\n",
      "- This IS NOT expected if you are initializing BertModel from the checkpoint of a model that you expect to be exactly identical (initializing a BertForSequenceClassification model from a BertForSequenceClassification model).\n"
     ]
    },
    {
     "name": "stdout",
     "output_type": "stream",
     "text": [
      "Model downloaded: bert-base-uncased\n",
      "training time: 0.7308422764763236\n",
      "accuracy: 45.871559143066406\n",
      "{'params': {'reservoir_dim': 1000, 'spectral_radius': 1.0, 'leaking_rate': 0.5, 'input_scaling': 1.0, 'bias_scaling': 0.0, 'sparsity': 0.0, 'activation_function': 'relu', 'alpha': 1.0}, 'accuracy': [47.7064208984375, 45.871559143066406], 'time': [0.7900051614269614, 0.7308422764763236]}\n"
     ]
    },
    {
     "name": "stderr",
     "output_type": "stream",
     "text": [
      "Some weights of the model checkpoint at bert-base-uncased were not used when initializing BertModel: ['cls.predictions.bias', 'cls.predictions.transform.dense.weight', 'cls.predictions.transform.LayerNorm.weight', 'cls.seq_relationship.weight', 'cls.predictions.decoder.weight', 'cls.seq_relationship.bias', 'cls.predictions.transform.dense.bias', 'cls.predictions.transform.LayerNorm.bias']\n",
      "- This IS expected if you are initializing BertModel from the checkpoint of a model trained on another task or with another architecture (e.g. initializing a BertForSequenceClassification model from a BertForPreTraining model).\n",
      "- This IS NOT expected if you are initializing BertModel from the checkpoint of a model that you expect to be exactly identical (initializing a BertForSequenceClassification model from a BertForSequenceClassification model).\n"
     ]
    },
    {
     "name": "stdout",
     "output_type": "stream",
     "text": [
      "Model downloaded: bert-base-uncased\n",
      "training time: 0.8129037991166115\n",
      "accuracy: 46.33027267456055\n",
      "{'params': {'reservoir_dim': 1000, 'spectral_radius': 1.0, 'leaking_rate': 0.5, 'input_scaling': 1.0, 'bias_scaling': 0.0, 'sparsity': 0.0, 'activation_function': 'relu', 'alpha': 1.0}, 'accuracy': [47.7064208984375, 45.871559143066406, 46.33027267456055], 'time': [0.7900051614269614, 0.7308422764763236, 0.8129037991166115]}\n"
     ]
    },
    {
     "name": "stderr",
     "output_type": "stream",
     "text": [
      "Some weights of the model checkpoint at bert-base-uncased were not used when initializing BertModel: ['cls.predictions.bias', 'cls.predictions.transform.dense.weight', 'cls.predictions.transform.LayerNorm.weight', 'cls.seq_relationship.weight', 'cls.predictions.decoder.weight', 'cls.seq_relationship.bias', 'cls.predictions.transform.dense.bias', 'cls.predictions.transform.LayerNorm.bias']\n",
      "- This IS expected if you are initializing BertModel from the checkpoint of a model trained on another task or with another architecture (e.g. initializing a BertForSequenceClassification model from a BertForPreTraining model).\n",
      "- This IS NOT expected if you are initializing BertModel from the checkpoint of a model that you expect to be exactly identical (initializing a BertForSequenceClassification model from a BertForSequenceClassification model).\n"
     ]
    },
    {
     "name": "stdout",
     "output_type": "stream",
     "text": [
      "Model downloaded: bert-base-uncased\n",
      "training time: 0.7319534569978714\n",
      "accuracy: 35.32109832763672\n",
      "{'params': {'reservoir_dim': 1000, 'spectral_radius': 1.0, 'leaking_rate': 0.5, 'input_scaling': 1.0, 'bias_scaling': 0.0, 'sparsity': 0.0, 'activation_function': 'relu', 'alpha': 1.0}, 'accuracy': [47.7064208984375, 45.871559143066406, 46.33027267456055, 35.32109832763672], 'time': [0.7900051614269614, 0.7308422764763236, 0.8129037991166115, 0.7319534569978714]}\n"
     ]
    },
    {
     "name": "stderr",
     "output_type": "stream",
     "text": [
      "Some weights of the model checkpoint at bert-base-uncased were not used when initializing BertModel: ['cls.predictions.bias', 'cls.predictions.transform.dense.weight', 'cls.predictions.transform.LayerNorm.weight', 'cls.seq_relationship.weight', 'cls.predictions.decoder.weight', 'cls.seq_relationship.bias', 'cls.predictions.transform.dense.bias', 'cls.predictions.transform.LayerNorm.bias']\n",
      "- This IS expected if you are initializing BertModel from the checkpoint of a model trained on another task or with another architecture (e.g. initializing a BertForSequenceClassification model from a BertForPreTraining model).\n",
      "- This IS NOT expected if you are initializing BertModel from the checkpoint of a model that you expect to be exactly identical (initializing a BertForSequenceClassification model from a BertForSequenceClassification model).\n"
     ]
    },
    {
     "name": "stdout",
     "output_type": "stream",
     "text": [
      "Model downloaded: bert-base-uncased\n",
      "training time: 0.7633822076022625\n",
      "accuracy: 48.16513442993164\n",
      "{'params': {'reservoir_dim': 1000, 'spectral_radius': 1.0, 'leaking_rate': 0.5, 'input_scaling': 1.0, 'bias_scaling': 0.0, 'sparsity': 0.0, 'activation_function': 'relu', 'alpha': 1.0}, 'accuracy': [47.7064208984375, 45.871559143066406, 46.33027267456055, 35.32109832763672, 48.16513442993164], 'time': [0.7900051614269614, 0.7308422764763236, 0.8129037991166115, 0.7319534569978714, 0.7633822076022625]}\n"
     ]
    },
    {
     "data": {
      "application/vnd.jupyter.widget-view+json": {
       "model_id": "b7f6c43eaaa7412fa40cd0c6dbc46388",
       "version_major": 2,
       "version_minor": 0
      },
      "text/plain": [
       "  0%|          | 0/5 [00:00<?, ?it/s]"
      ]
     },
     "metadata": {},
     "output_type": "display_data"
    },
    {
     "name": "stderr",
     "output_type": "stream",
     "text": [
      "Some weights of the model checkpoint at bert-base-uncased were not used when initializing BertModel: ['cls.predictions.bias', 'cls.predictions.transform.dense.weight', 'cls.predictions.transform.LayerNorm.weight', 'cls.seq_relationship.weight', 'cls.predictions.decoder.weight', 'cls.seq_relationship.bias', 'cls.predictions.transform.dense.bias', 'cls.predictions.transform.LayerNorm.bias']\n",
      "- This IS expected if you are initializing BertModel from the checkpoint of a model trained on another task or with another architecture (e.g. initializing a BertForSequenceClassification model from a BertForPreTraining model).\n",
      "- This IS NOT expected if you are initializing BertModel from the checkpoint of a model that you expect to be exactly identical (initializing a BertForSequenceClassification model from a BertForSequenceClassification model).\n"
     ]
    },
    {
     "name": "stdout",
     "output_type": "stream",
     "text": [
      "Model downloaded: bert-base-uncased\n",
      "training time: 0.7142565343528986\n",
      "accuracy: 55.50458526611328\n",
      "{'params': {'reservoir_dim': 1000, 'spectral_radius': 1.0, 'leaking_rate': 0.5, 'input_scaling': 1.0, 'bias_scaling': 0.0, 'sparsity': 0.0, 'activation_function': 'relu', 'alpha': 10.0}, 'accuracy': [55.50458526611328], 'time': [0.7142565343528986]}\n"
     ]
    },
    {
     "name": "stderr",
     "output_type": "stream",
     "text": [
      "Some weights of the model checkpoint at bert-base-uncased were not used when initializing BertModel: ['cls.predictions.bias', 'cls.predictions.transform.dense.weight', 'cls.predictions.transform.LayerNorm.weight', 'cls.seq_relationship.weight', 'cls.predictions.decoder.weight', 'cls.seq_relationship.bias', 'cls.predictions.transform.dense.bias', 'cls.predictions.transform.LayerNorm.bias']\n",
      "- This IS expected if you are initializing BertModel from the checkpoint of a model trained on another task or with another architecture (e.g. initializing a BertForSequenceClassification model from a BertForPreTraining model).\n",
      "- This IS NOT expected if you are initializing BertModel from the checkpoint of a model that you expect to be exactly identical (initializing a BertForSequenceClassification model from a BertForSequenceClassification model).\n"
     ]
    },
    {
     "name": "stdout",
     "output_type": "stream",
     "text": [
      "Model downloaded: bert-base-uncased\n",
      "training time: 0.7129513025283813\n",
      "accuracy: 59.633026123046875\n",
      "{'params': {'reservoir_dim': 1000, 'spectral_radius': 1.0, 'leaking_rate': 0.5, 'input_scaling': 1.0, 'bias_scaling': 0.0, 'sparsity': 0.0, 'activation_function': 'relu', 'alpha': 10.0}, 'accuracy': [55.50458526611328, 59.633026123046875], 'time': [0.7142565343528986, 0.7129513025283813]}\n"
     ]
    },
    {
     "name": "stderr",
     "output_type": "stream",
     "text": [
      "Some weights of the model checkpoint at bert-base-uncased were not used when initializing BertModel: ['cls.predictions.bias', 'cls.predictions.transform.dense.weight', 'cls.predictions.transform.LayerNorm.weight', 'cls.seq_relationship.weight', 'cls.predictions.decoder.weight', 'cls.seq_relationship.bias', 'cls.predictions.transform.dense.bias', 'cls.predictions.transform.LayerNorm.bias']\n",
      "- This IS expected if you are initializing BertModel from the checkpoint of a model trained on another task or with another architecture (e.g. initializing a BertForSequenceClassification model from a BertForPreTraining model).\n",
      "- This IS NOT expected if you are initializing BertModel from the checkpoint of a model that you expect to be exactly identical (initializing a BertForSequenceClassification model from a BertForSequenceClassification model).\n"
     ]
    },
    {
     "name": "stdout",
     "output_type": "stream",
     "text": [
      "Model downloaded: bert-base-uncased\n",
      "training time: 0.7323649944737554\n",
      "accuracy: 60.091739654541016\n",
      "{'params': {'reservoir_dim': 1000, 'spectral_radius': 1.0, 'leaking_rate': 0.5, 'input_scaling': 1.0, 'bias_scaling': 0.0, 'sparsity': 0.0, 'activation_function': 'relu', 'alpha': 10.0}, 'accuracy': [55.50458526611328, 59.633026123046875, 60.091739654541016], 'time': [0.7142565343528986, 0.7129513025283813, 0.7323649944737554]}\n"
     ]
    },
    {
     "name": "stderr",
     "output_type": "stream",
     "text": [
      "Some weights of the model checkpoint at bert-base-uncased were not used when initializing BertModel: ['cls.predictions.bias', 'cls.predictions.transform.dense.weight', 'cls.predictions.transform.LayerNorm.weight', 'cls.seq_relationship.weight', 'cls.predictions.decoder.weight', 'cls.seq_relationship.bias', 'cls.predictions.transform.dense.bias', 'cls.predictions.transform.LayerNorm.bias']\n",
      "- This IS expected if you are initializing BertModel from the checkpoint of a model trained on another task or with another architecture (e.g. initializing a BertForSequenceClassification model from a BertForPreTraining model).\n",
      "- This IS NOT expected if you are initializing BertModel from the checkpoint of a model that you expect to be exactly identical (initializing a BertForSequenceClassification model from a BertForSequenceClassification model).\n"
     ]
    },
    {
     "name": "stdout",
     "output_type": "stream",
     "text": [
      "Model downloaded: bert-base-uncased\n",
      "training time: 0.6942977989092469\n",
      "accuracy: 54.12843704223633\n",
      "{'params': {'reservoir_dim': 1000, 'spectral_radius': 1.0, 'leaking_rate': 0.5, 'input_scaling': 1.0, 'bias_scaling': 0.0, 'sparsity': 0.0, 'activation_function': 'relu', 'alpha': 10.0}, 'accuracy': [55.50458526611328, 59.633026123046875, 60.091739654541016, 54.12843704223633], 'time': [0.7142565343528986, 0.7129513025283813, 0.7323649944737554, 0.6942977989092469]}\n"
     ]
    },
    {
     "name": "stderr",
     "output_type": "stream",
     "text": [
      "Some weights of the model checkpoint at bert-base-uncased were not used when initializing BertModel: ['cls.predictions.bias', 'cls.predictions.transform.dense.weight', 'cls.predictions.transform.LayerNorm.weight', 'cls.seq_relationship.weight', 'cls.predictions.decoder.weight', 'cls.seq_relationship.bias', 'cls.predictions.transform.dense.bias', 'cls.predictions.transform.LayerNorm.bias']\n",
      "- This IS expected if you are initializing BertModel from the checkpoint of a model trained on another task or with another architecture (e.g. initializing a BertForSequenceClassification model from a BertForPreTraining model).\n",
      "- This IS NOT expected if you are initializing BertModel from the checkpoint of a model that you expect to be exactly identical (initializing a BertForSequenceClassification model from a BertForSequenceClassification model).\n"
     ]
    },
    {
     "name": "stdout",
     "output_type": "stream",
     "text": [
      "Model downloaded: bert-base-uncased\n",
      "training time: 0.7222524993121624\n",
      "accuracy: 60.55045700073242\n",
      "{'params': {'reservoir_dim': 1000, 'spectral_radius': 1.0, 'leaking_rate': 0.5, 'input_scaling': 1.0, 'bias_scaling': 0.0, 'sparsity': 0.0, 'activation_function': 'relu', 'alpha': 10.0}, 'accuracy': [55.50458526611328, 59.633026123046875, 60.091739654541016, 54.12843704223633, 60.55045700073242], 'time': [0.7142565343528986, 0.7129513025283813, 0.7323649944737554, 0.6942977989092469, 0.7222524993121624]}\n"
     ]
    },
    {
     "data": {
      "application/vnd.jupyter.widget-view+json": {
       "model_id": "b3f1bfeca646474fb26ec10f5aa9900b",
       "version_major": 2,
       "version_minor": 0
      },
      "text/plain": [
       "  0%|          | 0/5 [00:00<?, ?it/s]"
      ]
     },
     "metadata": {},
     "output_type": "display_data"
    },
    {
     "name": "stderr",
     "output_type": "stream",
     "text": [
      "Some weights of the model checkpoint at bert-base-uncased were not used when initializing BertModel: ['cls.predictions.bias', 'cls.predictions.transform.dense.weight', 'cls.predictions.transform.LayerNorm.weight', 'cls.seq_relationship.weight', 'cls.predictions.decoder.weight', 'cls.seq_relationship.bias', 'cls.predictions.transform.dense.bias', 'cls.predictions.transform.LayerNorm.bias']\n",
      "- This IS expected if you are initializing BertModel from the checkpoint of a model trained on another task or with another architecture (e.g. initializing a BertForSequenceClassification model from a BertForPreTraining model).\n",
      "- This IS NOT expected if you are initializing BertModel from the checkpoint of a model that you expect to be exactly identical (initializing a BertForSequenceClassification model from a BertForSequenceClassification model).\n"
     ]
    },
    {
     "name": "stdout",
     "output_type": "stream",
     "text": [
      "Model downloaded: bert-base-uncased\n",
      "training time: 0.7887531332671642\n",
      "accuracy: 27.064218521118164\n",
      "{'params': {'reservoir_dim': 1000, 'spectral_radius': 1.0, 'leaking_rate': 0.5, 'input_scaling': 1.0, 'bias_scaling': 0.0, 'sparsity': 0.99, 'activation_function': 'relu', 'alpha': 0.1}, 'accuracy': [27.064218521118164], 'time': [0.7887531332671642]}\n"
     ]
    },
    {
     "name": "stderr",
     "output_type": "stream",
     "text": [
      "Some weights of the model checkpoint at bert-base-uncased were not used when initializing BertModel: ['cls.predictions.bias', 'cls.predictions.transform.dense.weight', 'cls.predictions.transform.LayerNorm.weight', 'cls.seq_relationship.weight', 'cls.predictions.decoder.weight', 'cls.seq_relationship.bias', 'cls.predictions.transform.dense.bias', 'cls.predictions.transform.LayerNorm.bias']\n",
      "- This IS expected if you are initializing BertModel from the checkpoint of a model trained on another task or with another architecture (e.g. initializing a BertForSequenceClassification model from a BertForPreTraining model).\n",
      "- This IS NOT expected if you are initializing BertModel from the checkpoint of a model that you expect to be exactly identical (initializing a BertForSequenceClassification model from a BertForSequenceClassification model).\n"
     ]
    },
    {
     "name": "stdout",
     "output_type": "stream",
     "text": [
      "Model downloaded: bert-base-uncased\n",
      "training time: 0.7101033376529813\n",
      "accuracy: 27.064218521118164\n",
      "{'params': {'reservoir_dim': 1000, 'spectral_radius': 1.0, 'leaking_rate': 0.5, 'input_scaling': 1.0, 'bias_scaling': 0.0, 'sparsity': 0.99, 'activation_function': 'relu', 'alpha': 0.1}, 'accuracy': [27.064218521118164, 27.064218521118164], 'time': [0.7887531332671642, 0.7101033376529813]}\n"
     ]
    },
    {
     "name": "stderr",
     "output_type": "stream",
     "text": [
      "Some weights of the model checkpoint at bert-base-uncased were not used when initializing BertModel: ['cls.predictions.bias', 'cls.predictions.transform.dense.weight', 'cls.predictions.transform.LayerNorm.weight', 'cls.seq_relationship.weight', 'cls.predictions.decoder.weight', 'cls.seq_relationship.bias', 'cls.predictions.transform.dense.bias', 'cls.predictions.transform.LayerNorm.bias']\n",
      "- This IS expected if you are initializing BertModel from the checkpoint of a model trained on another task or with another architecture (e.g. initializing a BertForSequenceClassification model from a BertForPreTraining model).\n",
      "- This IS NOT expected if you are initializing BertModel from the checkpoint of a model that you expect to be exactly identical (initializing a BertForSequenceClassification model from a BertForSequenceClassification model).\n"
     ]
    },
    {
     "name": "stdout",
     "output_type": "stream",
     "text": [
      "Model downloaded: bert-base-uncased\n",
      "training time: 0.7728481739759445\n",
      "accuracy: 33.027523040771484\n",
      "{'params': {'reservoir_dim': 1000, 'spectral_radius': 1.0, 'leaking_rate': 0.5, 'input_scaling': 1.0, 'bias_scaling': 0.0, 'sparsity': 0.99, 'activation_function': 'relu', 'alpha': 0.1}, 'accuracy': [27.064218521118164, 27.064218521118164, 33.027523040771484], 'time': [0.7887531332671642, 0.7101033376529813, 0.7728481739759445]}\n"
     ]
    },
    {
     "name": "stderr",
     "output_type": "stream",
     "text": [
      "Some weights of the model checkpoint at bert-base-uncased were not used when initializing BertModel: ['cls.predictions.bias', 'cls.predictions.transform.dense.weight', 'cls.predictions.transform.LayerNorm.weight', 'cls.seq_relationship.weight', 'cls.predictions.decoder.weight', 'cls.seq_relationship.bias', 'cls.predictions.transform.dense.bias', 'cls.predictions.transform.LayerNorm.bias']\n",
      "- This IS expected if you are initializing BertModel from the checkpoint of a model trained on another task or with another architecture (e.g. initializing a BertForSequenceClassification model from a BertForPreTraining model).\n",
      "- This IS NOT expected if you are initializing BertModel from the checkpoint of a model that you expect to be exactly identical (initializing a BertForSequenceClassification model from a BertForSequenceClassification model).\n"
     ]
    },
    {
     "name": "stdout",
     "output_type": "stream",
     "text": [
      "Model downloaded: bert-base-uncased\n",
      "training time: 0.7095960127189755\n",
      "accuracy: 27.064218521118164\n",
      "{'params': {'reservoir_dim': 1000, 'spectral_radius': 1.0, 'leaking_rate': 0.5, 'input_scaling': 1.0, 'bias_scaling': 0.0, 'sparsity': 0.99, 'activation_function': 'relu', 'alpha': 0.1}, 'accuracy': [27.064218521118164, 27.064218521118164, 33.027523040771484, 27.064218521118164], 'time': [0.7887531332671642, 0.7101033376529813, 0.7728481739759445, 0.7095960127189755]}\n"
     ]
    },
    {
     "name": "stderr",
     "output_type": "stream",
     "text": [
      "Some weights of the model checkpoint at bert-base-uncased were not used when initializing BertModel: ['cls.predictions.bias', 'cls.predictions.transform.dense.weight', 'cls.predictions.transform.LayerNorm.weight', 'cls.seq_relationship.weight', 'cls.predictions.decoder.weight', 'cls.seq_relationship.bias', 'cls.predictions.transform.dense.bias', 'cls.predictions.transform.LayerNorm.bias']\n",
      "- This IS expected if you are initializing BertModel from the checkpoint of a model trained on another task or with another architecture (e.g. initializing a BertForSequenceClassification model from a BertForPreTraining model).\n",
      "- This IS NOT expected if you are initializing BertModel from the checkpoint of a model that you expect to be exactly identical (initializing a BertForSequenceClassification model from a BertForSequenceClassification model).\n"
     ]
    },
    {
     "name": "stdout",
     "output_type": "stream",
     "text": [
      "Model downloaded: bert-base-uncased\n",
      "training time: 0.7053687740117311\n",
      "accuracy: 29.816513061523438\n",
      "{'params': {'reservoir_dim': 1000, 'spectral_radius': 1.0, 'leaking_rate': 0.5, 'input_scaling': 1.0, 'bias_scaling': 0.0, 'sparsity': 0.99, 'activation_function': 'relu', 'alpha': 0.1}, 'accuracy': [27.064218521118164, 27.064218521118164, 33.027523040771484, 27.064218521118164, 29.816513061523438], 'time': [0.7887531332671642, 0.7101033376529813, 0.7728481739759445, 0.7095960127189755, 0.7053687740117311]}\n"
     ]
    },
    {
     "data": {
      "application/vnd.jupyter.widget-view+json": {
       "model_id": "195840499132404e978140e649a89108",
       "version_major": 2,
       "version_minor": 0
      },
      "text/plain": [
       "  0%|          | 0/5 [00:00<?, ?it/s]"
      ]
     },
     "metadata": {},
     "output_type": "display_data"
    },
    {
     "name": "stderr",
     "output_type": "stream",
     "text": [
      "Some weights of the model checkpoint at bert-base-uncased were not used when initializing BertModel: ['cls.predictions.bias', 'cls.predictions.transform.dense.weight', 'cls.predictions.transform.LayerNorm.weight', 'cls.seq_relationship.weight', 'cls.predictions.decoder.weight', 'cls.seq_relationship.bias', 'cls.predictions.transform.dense.bias', 'cls.predictions.transform.LayerNorm.bias']\n",
      "- This IS expected if you are initializing BertModel from the checkpoint of a model trained on another task or with another architecture (e.g. initializing a BertForSequenceClassification model from a BertForPreTraining model).\n",
      "- This IS NOT expected if you are initializing BertModel from the checkpoint of a model that you expect to be exactly identical (initializing a BertForSequenceClassification model from a BertForSequenceClassification model).\n"
     ]
    },
    {
     "name": "stdout",
     "output_type": "stream",
     "text": [
      "Model downloaded: bert-base-uncased\n",
      "training time: 0.7480290811508894\n",
      "accuracy: 48.62385177612305\n",
      "{'params': {'reservoir_dim': 1000, 'spectral_radius': 1.0, 'leaking_rate': 0.5, 'input_scaling': 1.0, 'bias_scaling': 0.0, 'sparsity': 0.99, 'activation_function': 'relu', 'alpha': 1.0}, 'accuracy': [48.62385177612305], 'time': [0.7480290811508894]}\n"
     ]
    },
    {
     "name": "stderr",
     "output_type": "stream",
     "text": [
      "Some weights of the model checkpoint at bert-base-uncased were not used when initializing BertModel: ['cls.predictions.bias', 'cls.predictions.transform.dense.weight', 'cls.predictions.transform.LayerNorm.weight', 'cls.seq_relationship.weight', 'cls.predictions.decoder.weight', 'cls.seq_relationship.bias', 'cls.predictions.transform.dense.bias', 'cls.predictions.transform.LayerNorm.bias']\n",
      "- This IS expected if you are initializing BertModel from the checkpoint of a model trained on another task or with another architecture (e.g. initializing a BertForSequenceClassification model from a BertForPreTraining model).\n",
      "- This IS NOT expected if you are initializing BertModel from the checkpoint of a model that you expect to be exactly identical (initializing a BertForSequenceClassification model from a BertForSequenceClassification model).\n"
     ]
    },
    {
     "name": "stdout",
     "output_type": "stream",
     "text": [
      "Model downloaded: bert-base-uncased\n",
      "training time: 0.7430608002468944\n",
      "accuracy: 45.412841796875\n",
      "{'params': {'reservoir_dim': 1000, 'spectral_radius': 1.0, 'leaking_rate': 0.5, 'input_scaling': 1.0, 'bias_scaling': 0.0, 'sparsity': 0.99, 'activation_function': 'relu', 'alpha': 1.0}, 'accuracy': [48.62385177612305, 45.412841796875], 'time': [0.7480290811508894, 0.7430608002468944]}\n"
     ]
    },
    {
     "name": "stderr",
     "output_type": "stream",
     "text": [
      "Some weights of the model checkpoint at bert-base-uncased were not used when initializing BertModel: ['cls.predictions.bias', 'cls.predictions.transform.dense.weight', 'cls.predictions.transform.LayerNorm.weight', 'cls.seq_relationship.weight', 'cls.predictions.decoder.weight', 'cls.seq_relationship.bias', 'cls.predictions.transform.dense.bias', 'cls.predictions.transform.LayerNorm.bias']\n",
      "- This IS expected if you are initializing BertModel from the checkpoint of a model trained on another task or with another architecture (e.g. initializing a BertForSequenceClassification model from a BertForPreTraining model).\n",
      "- This IS NOT expected if you are initializing BertModel from the checkpoint of a model that you expect to be exactly identical (initializing a BertForSequenceClassification model from a BertForSequenceClassification model).\n"
     ]
    },
    {
     "name": "stdout",
     "output_type": "stream",
     "text": [
      "Model downloaded: bert-base-uncased\n",
      "training time: 0.7169898897409439\n",
      "accuracy: 50.91743087768555\n",
      "{'params': {'reservoir_dim': 1000, 'spectral_radius': 1.0, 'leaking_rate': 0.5, 'input_scaling': 1.0, 'bias_scaling': 0.0, 'sparsity': 0.99, 'activation_function': 'relu', 'alpha': 1.0}, 'accuracy': [48.62385177612305, 45.412841796875, 50.91743087768555], 'time': [0.7480290811508894, 0.7430608002468944, 0.7169898897409439]}\n"
     ]
    },
    {
     "name": "stderr",
     "output_type": "stream",
     "text": [
      "Some weights of the model checkpoint at bert-base-uncased were not used when initializing BertModel: ['cls.predictions.bias', 'cls.predictions.transform.dense.weight', 'cls.predictions.transform.LayerNorm.weight', 'cls.seq_relationship.weight', 'cls.predictions.decoder.weight', 'cls.seq_relationship.bias', 'cls.predictions.transform.dense.bias', 'cls.predictions.transform.LayerNorm.bias']\n",
      "- This IS expected if you are initializing BertModel from the checkpoint of a model trained on another task or with another architecture (e.g. initializing a BertForSequenceClassification model from a BertForPreTraining model).\n",
      "- This IS NOT expected if you are initializing BertModel from the checkpoint of a model that you expect to be exactly identical (initializing a BertForSequenceClassification model from a BertForSequenceClassification model).\n"
     ]
    },
    {
     "name": "stdout",
     "output_type": "stream",
     "text": [
      "Model downloaded: bert-base-uncased\n",
      "training time: 0.7275663707405329\n",
      "accuracy: 44.95412826538086\n",
      "{'params': {'reservoir_dim': 1000, 'spectral_radius': 1.0, 'leaking_rate': 0.5, 'input_scaling': 1.0, 'bias_scaling': 0.0, 'sparsity': 0.99, 'activation_function': 'relu', 'alpha': 1.0}, 'accuracy': [48.62385177612305, 45.412841796875, 50.91743087768555, 44.95412826538086], 'time': [0.7480290811508894, 0.7430608002468944, 0.7169898897409439, 0.7275663707405329]}\n"
     ]
    },
    {
     "name": "stderr",
     "output_type": "stream",
     "text": [
      "Some weights of the model checkpoint at bert-base-uncased were not used when initializing BertModel: ['cls.predictions.bias', 'cls.predictions.transform.dense.weight', 'cls.predictions.transform.LayerNorm.weight', 'cls.seq_relationship.weight', 'cls.predictions.decoder.weight', 'cls.seq_relationship.bias', 'cls.predictions.transform.dense.bias', 'cls.predictions.transform.LayerNorm.bias']\n",
      "- This IS expected if you are initializing BertModel from the checkpoint of a model trained on another task or with another architecture (e.g. initializing a BertForSequenceClassification model from a BertForPreTraining model).\n",
      "- This IS NOT expected if you are initializing BertModel from the checkpoint of a model that you expect to be exactly identical (initializing a BertForSequenceClassification model from a BertForSequenceClassification model).\n"
     ]
    },
    {
     "name": "stdout",
     "output_type": "stream",
     "text": [
      "Model downloaded: bert-base-uncased\n",
      "training time: 0.7270540138706565\n",
      "accuracy: 48.62385177612305\n",
      "{'params': {'reservoir_dim': 1000, 'spectral_radius': 1.0, 'leaking_rate': 0.5, 'input_scaling': 1.0, 'bias_scaling': 0.0, 'sparsity': 0.99, 'activation_function': 'relu', 'alpha': 1.0}, 'accuracy': [48.62385177612305, 45.412841796875, 50.91743087768555, 44.95412826538086, 48.62385177612305], 'time': [0.7480290811508894, 0.7430608002468944, 0.7169898897409439, 0.7275663707405329, 0.7270540138706565]}\n"
     ]
    },
    {
     "data": {
      "application/vnd.jupyter.widget-view+json": {
       "model_id": "d84d63bea75d4d8f9c893e543bba4e99",
       "version_major": 2,
       "version_minor": 0
      },
      "text/plain": [
       "  0%|          | 0/5 [00:00<?, ?it/s]"
      ]
     },
     "metadata": {},
     "output_type": "display_data"
    },
    {
     "name": "stderr",
     "output_type": "stream",
     "text": [
      "Some weights of the model checkpoint at bert-base-uncased were not used when initializing BertModel: ['cls.predictions.bias', 'cls.predictions.transform.dense.weight', 'cls.predictions.transform.LayerNorm.weight', 'cls.seq_relationship.weight', 'cls.predictions.decoder.weight', 'cls.seq_relationship.bias', 'cls.predictions.transform.dense.bias', 'cls.predictions.transform.LayerNorm.bias']\n",
      "- This IS expected if you are initializing BertModel from the checkpoint of a model trained on another task or with another architecture (e.g. initializing a BertForSequenceClassification model from a BertForPreTraining model).\n",
      "- This IS NOT expected if you are initializing BertModel from the checkpoint of a model that you expect to be exactly identical (initializing a BertForSequenceClassification model from a BertForSequenceClassification model).\n"
     ]
    },
    {
     "name": "stdout",
     "output_type": "stream",
     "text": [
      "Model downloaded: bert-base-uncased\n",
      "training time: 0.712559649720788\n",
      "accuracy: 61.92660140991211\n",
      "{'params': {'reservoir_dim': 1000, 'spectral_radius': 1.0, 'leaking_rate': 0.5, 'input_scaling': 1.0, 'bias_scaling': 0.0, 'sparsity': 0.99, 'activation_function': 'relu', 'alpha': 10.0}, 'accuracy': [61.92660140991211], 'time': [0.712559649720788]}\n"
     ]
    },
    {
     "name": "stderr",
     "output_type": "stream",
     "text": [
      "Some weights of the model checkpoint at bert-base-uncased were not used when initializing BertModel: ['cls.predictions.bias', 'cls.predictions.transform.dense.weight', 'cls.predictions.transform.LayerNorm.weight', 'cls.seq_relationship.weight', 'cls.predictions.decoder.weight', 'cls.seq_relationship.bias', 'cls.predictions.transform.dense.bias', 'cls.predictions.transform.LayerNorm.bias']\n",
      "- This IS expected if you are initializing BertModel from the checkpoint of a model trained on another task or with another architecture (e.g. initializing a BertForSequenceClassification model from a BertForPreTraining model).\n",
      "- This IS NOT expected if you are initializing BertModel from the checkpoint of a model that you expect to be exactly identical (initializing a BertForSequenceClassification model from a BertForSequenceClassification model).\n"
     ]
    },
    {
     "name": "stdout",
     "output_type": "stream",
     "text": [
      "Model downloaded: bert-base-uncased\n",
      "training time: 0.7326599340885878\n",
      "accuracy: 60.55045700073242\n",
      "{'params': {'reservoir_dim': 1000, 'spectral_radius': 1.0, 'leaking_rate': 0.5, 'input_scaling': 1.0, 'bias_scaling': 0.0, 'sparsity': 0.99, 'activation_function': 'relu', 'alpha': 10.0}, 'accuracy': [61.92660140991211, 60.55045700073242], 'time': [0.712559649720788, 0.7326599340885878]}\n"
     ]
    },
    {
     "name": "stderr",
     "output_type": "stream",
     "text": [
      "Some weights of the model checkpoint at bert-base-uncased were not used when initializing BertModel: ['cls.predictions.bias', 'cls.predictions.transform.dense.weight', 'cls.predictions.transform.LayerNorm.weight', 'cls.seq_relationship.weight', 'cls.predictions.decoder.weight', 'cls.seq_relationship.bias', 'cls.predictions.transform.dense.bias', 'cls.predictions.transform.LayerNorm.bias']\n",
      "- This IS expected if you are initializing BertModel from the checkpoint of a model trained on another task or with another architecture (e.g. initializing a BertForSequenceClassification model from a BertForPreTraining model).\n",
      "- This IS NOT expected if you are initializing BertModel from the checkpoint of a model that you expect to be exactly identical (initializing a BertForSequenceClassification model from a BertForSequenceClassification model).\n"
     ]
    },
    {
     "name": "stdout",
     "output_type": "stream",
     "text": [
      "Model downloaded: bert-base-uncased\n",
      "training time: 0.710632236674428\n",
      "accuracy: 59.633026123046875\n",
      "{'params': {'reservoir_dim': 1000, 'spectral_radius': 1.0, 'leaking_rate': 0.5, 'input_scaling': 1.0, 'bias_scaling': 0.0, 'sparsity': 0.99, 'activation_function': 'relu', 'alpha': 10.0}, 'accuracy': [61.92660140991211, 60.55045700073242, 59.633026123046875], 'time': [0.712559649720788, 0.7326599340885878, 0.710632236674428]}\n"
     ]
    },
    {
     "name": "stderr",
     "output_type": "stream",
     "text": [
      "Some weights of the model checkpoint at bert-base-uncased were not used when initializing BertModel: ['cls.predictions.bias', 'cls.predictions.transform.dense.weight', 'cls.predictions.transform.LayerNorm.weight', 'cls.seq_relationship.weight', 'cls.predictions.decoder.weight', 'cls.seq_relationship.bias', 'cls.predictions.transform.dense.bias', 'cls.predictions.transform.LayerNorm.bias']\n",
      "- This IS expected if you are initializing BertModel from the checkpoint of a model trained on another task or with another architecture (e.g. initializing a BertForSequenceClassification model from a BertForPreTraining model).\n",
      "- This IS NOT expected if you are initializing BertModel from the checkpoint of a model that you expect to be exactly identical (initializing a BertForSequenceClassification model from a BertForSequenceClassification model).\n"
     ]
    },
    {
     "name": "stdout",
     "output_type": "stream",
     "text": [
      "Model downloaded: bert-base-uncased\n",
      "training time: 0.8376969499513507\n",
      "accuracy: 56.42201614379883\n",
      "{'params': {'reservoir_dim': 1000, 'spectral_radius': 1.0, 'leaking_rate': 0.5, 'input_scaling': 1.0, 'bias_scaling': 0.0, 'sparsity': 0.99, 'activation_function': 'relu', 'alpha': 10.0}, 'accuracy': [61.92660140991211, 60.55045700073242, 59.633026123046875, 56.42201614379883], 'time': [0.712559649720788, 0.7326599340885878, 0.710632236674428, 0.8376969499513507]}\n"
     ]
    },
    {
     "name": "stderr",
     "output_type": "stream",
     "text": [
      "Some weights of the model checkpoint at bert-base-uncased were not used when initializing BertModel: ['cls.predictions.bias', 'cls.predictions.transform.dense.weight', 'cls.predictions.transform.LayerNorm.weight', 'cls.seq_relationship.weight', 'cls.predictions.decoder.weight', 'cls.seq_relationship.bias', 'cls.predictions.transform.dense.bias', 'cls.predictions.transform.LayerNorm.bias']\n",
      "- This IS expected if you are initializing BertModel from the checkpoint of a model trained on another task or with another architecture (e.g. initializing a BertForSequenceClassification model from a BertForPreTraining model).\n",
      "- This IS NOT expected if you are initializing BertModel from the checkpoint of a model that you expect to be exactly identical (initializing a BertForSequenceClassification model from a BertForSequenceClassification model).\n"
     ]
    },
    {
     "name": "stdout",
     "output_type": "stream",
     "text": [
      "Model downloaded: bert-base-uncased\n",
      "training time: 0.8169092321768403\n",
      "accuracy: 61.00917053222656\n",
      "{'params': {'reservoir_dim': 1000, 'spectral_radius': 1.0, 'leaking_rate': 0.5, 'input_scaling': 1.0, 'bias_scaling': 0.0, 'sparsity': 0.99, 'activation_function': 'relu', 'alpha': 10.0}, 'accuracy': [61.92660140991211, 60.55045700073242, 59.633026123046875, 56.42201614379883, 61.00917053222656], 'time': [0.712559649720788, 0.7326599340885878, 0.710632236674428, 0.8376969499513507, 0.8169092321768403]}\n"
     ]
    },
    {
     "data": {
      "application/vnd.jupyter.widget-view+json": {
       "model_id": "b3084966027648edb32edc47c1a41fbc",
       "version_major": 2,
       "version_minor": 0
      },
      "text/plain": [
       "  0%|          | 0/5 [00:00<?, ?it/s]"
      ]
     },
     "metadata": {},
     "output_type": "display_data"
    },
    {
     "name": "stderr",
     "output_type": "stream",
     "text": [
      "Some weights of the model checkpoint at bert-base-uncased were not used when initializing BertModel: ['cls.predictions.bias', 'cls.predictions.transform.dense.weight', 'cls.predictions.transform.LayerNorm.weight', 'cls.seq_relationship.weight', 'cls.predictions.decoder.weight', 'cls.seq_relationship.bias', 'cls.predictions.transform.dense.bias', 'cls.predictions.transform.LayerNorm.bias']\n",
      "- This IS expected if you are initializing BertModel from the checkpoint of a model trained on another task or with another architecture (e.g. initializing a BertForSequenceClassification model from a BertForPreTraining model).\n",
      "- This IS NOT expected if you are initializing BertModel from the checkpoint of a model that you expect to be exactly identical (initializing a BertForSequenceClassification model from a BertForSequenceClassification model).\n"
     ]
    },
    {
     "name": "stdout",
     "output_type": "stream",
     "text": [
      "Model downloaded: bert-base-uncased\n",
      "training time: 0.7107002092525363\n",
      "accuracy: 55.96329879760742\n",
      "{'params': {'reservoir_dim': 1000, 'spectral_radius': 1.0, 'leaking_rate': 0.9, 'input_scaling': 0.1, 'bias_scaling': 0.0, 'sparsity': 0.0, 'activation_function': 'relu', 'alpha': 0.1}, 'accuracy': [55.96329879760742], 'time': [0.7107002092525363]}\n"
     ]
    },
    {
     "name": "stderr",
     "output_type": "stream",
     "text": [
      "Some weights of the model checkpoint at bert-base-uncased were not used when initializing BertModel: ['cls.predictions.bias', 'cls.predictions.transform.dense.weight', 'cls.predictions.transform.LayerNorm.weight', 'cls.seq_relationship.weight', 'cls.predictions.decoder.weight', 'cls.seq_relationship.bias', 'cls.predictions.transform.dense.bias', 'cls.predictions.transform.LayerNorm.bias']\n",
      "- This IS expected if you are initializing BertModel from the checkpoint of a model trained on another task or with another architecture (e.g. initializing a BertForSequenceClassification model from a BertForPreTraining model).\n",
      "- This IS NOT expected if you are initializing BertModel from the checkpoint of a model that you expect to be exactly identical (initializing a BertForSequenceClassification model from a BertForSequenceClassification model).\n"
     ]
    },
    {
     "name": "stdout",
     "output_type": "stream",
     "text": [
      "Model downloaded: bert-base-uncased\n",
      "training time: 0.757636115886271\n",
      "accuracy: 60.091739654541016\n",
      "{'params': {'reservoir_dim': 1000, 'spectral_radius': 1.0, 'leaking_rate': 0.9, 'input_scaling': 0.1, 'bias_scaling': 0.0, 'sparsity': 0.0, 'activation_function': 'relu', 'alpha': 0.1}, 'accuracy': [55.96329879760742, 60.091739654541016], 'time': [0.7107002092525363, 0.757636115886271]}\n"
     ]
    },
    {
     "name": "stderr",
     "output_type": "stream",
     "text": [
      "Some weights of the model checkpoint at bert-base-uncased were not used when initializing BertModel: ['cls.predictions.bias', 'cls.predictions.transform.dense.weight', 'cls.predictions.transform.LayerNorm.weight', 'cls.seq_relationship.weight', 'cls.predictions.decoder.weight', 'cls.seq_relationship.bias', 'cls.predictions.transform.dense.bias', 'cls.predictions.transform.LayerNorm.bias']\n",
      "- This IS expected if you are initializing BertModel from the checkpoint of a model trained on another task or with another architecture (e.g. initializing a BertForSequenceClassification model from a BertForPreTraining model).\n",
      "- This IS NOT expected if you are initializing BertModel from the checkpoint of a model that you expect to be exactly identical (initializing a BertForSequenceClassification model from a BertForSequenceClassification model).\n"
     ]
    },
    {
     "name": "stdout",
     "output_type": "stream",
     "text": [
      "Model downloaded: bert-base-uncased\n",
      "training time: 0.7669912772253156\n",
      "accuracy: 58.25687789916992\n",
      "{'params': {'reservoir_dim': 1000, 'spectral_radius': 1.0, 'leaking_rate': 0.9, 'input_scaling': 0.1, 'bias_scaling': 0.0, 'sparsity': 0.0, 'activation_function': 'relu', 'alpha': 0.1}, 'accuracy': [55.96329879760742, 60.091739654541016, 58.25687789916992], 'time': [0.7107002092525363, 0.757636115886271, 0.7669912772253156]}\n"
     ]
    },
    {
     "name": "stderr",
     "output_type": "stream",
     "text": [
      "Some weights of the model checkpoint at bert-base-uncased were not used when initializing BertModel: ['cls.predictions.bias', 'cls.predictions.transform.dense.weight', 'cls.predictions.transform.LayerNorm.weight', 'cls.seq_relationship.weight', 'cls.predictions.decoder.weight', 'cls.seq_relationship.bias', 'cls.predictions.transform.dense.bias', 'cls.predictions.transform.LayerNorm.bias']\n",
      "- This IS expected if you are initializing BertModel from the checkpoint of a model trained on another task or with another architecture (e.g. initializing a BertForSequenceClassification model from a BertForPreTraining model).\n",
      "- This IS NOT expected if you are initializing BertModel from the checkpoint of a model that you expect to be exactly identical (initializing a BertForSequenceClassification model from a BertForSequenceClassification model).\n"
     ]
    },
    {
     "name": "stdout",
     "output_type": "stream",
     "text": [
      "Model downloaded: bert-base-uncased\n",
      "training time: 0.7653847439214587\n",
      "accuracy: 53.66972351074219\n",
      "{'params': {'reservoir_dim': 1000, 'spectral_radius': 1.0, 'leaking_rate': 0.9, 'input_scaling': 0.1, 'bias_scaling': 0.0, 'sparsity': 0.0, 'activation_function': 'relu', 'alpha': 0.1}, 'accuracy': [55.96329879760742, 60.091739654541016, 58.25687789916992, 53.66972351074219], 'time': [0.7107002092525363, 0.757636115886271, 0.7669912772253156, 0.7653847439214587]}\n"
     ]
    },
    {
     "name": "stderr",
     "output_type": "stream",
     "text": [
      "Some weights of the model checkpoint at bert-base-uncased were not used when initializing BertModel: ['cls.predictions.bias', 'cls.predictions.transform.dense.weight', 'cls.predictions.transform.LayerNorm.weight', 'cls.seq_relationship.weight', 'cls.predictions.decoder.weight', 'cls.seq_relationship.bias', 'cls.predictions.transform.dense.bias', 'cls.predictions.transform.LayerNorm.bias']\n",
      "- This IS expected if you are initializing BertModel from the checkpoint of a model trained on another task or with another architecture (e.g. initializing a BertForSequenceClassification model from a BertForPreTraining model).\n",
      "- This IS NOT expected if you are initializing BertModel from the checkpoint of a model that you expect to be exactly identical (initializing a BertForSequenceClassification model from a BertForSequenceClassification model).\n"
     ]
    },
    {
     "name": "stdout",
     "output_type": "stream",
     "text": [
      "Model downloaded: bert-base-uncased\n",
      "training time: 0.7755864085629582\n",
      "accuracy: 60.55045700073242\n",
      "{'params': {'reservoir_dim': 1000, 'spectral_radius': 1.0, 'leaking_rate': 0.9, 'input_scaling': 0.1, 'bias_scaling': 0.0, 'sparsity': 0.0, 'activation_function': 'relu', 'alpha': 0.1}, 'accuracy': [55.96329879760742, 60.091739654541016, 58.25687789916992, 53.66972351074219, 60.55045700073242], 'time': [0.7107002092525363, 0.757636115886271, 0.7669912772253156, 0.7653847439214587, 0.7755864085629582]}\n"
     ]
    },
    {
     "data": {
      "application/vnd.jupyter.widget-view+json": {
       "model_id": "51168937ed0943edb93291abc37fb500",
       "version_major": 2,
       "version_minor": 0
      },
      "text/plain": [
       "  0%|          | 0/5 [00:00<?, ?it/s]"
      ]
     },
     "metadata": {},
     "output_type": "display_data"
    },
    {
     "name": "stderr",
     "output_type": "stream",
     "text": [
      "Some weights of the model checkpoint at bert-base-uncased were not used when initializing BertModel: ['cls.predictions.bias', 'cls.predictions.transform.dense.weight', 'cls.predictions.transform.LayerNorm.weight', 'cls.seq_relationship.weight', 'cls.predictions.decoder.weight', 'cls.seq_relationship.bias', 'cls.predictions.transform.dense.bias', 'cls.predictions.transform.LayerNorm.bias']\n",
      "- This IS expected if you are initializing BertModel from the checkpoint of a model trained on another task or with another architecture (e.g. initializing a BertForSequenceClassification model from a BertForPreTraining model).\n",
      "- This IS NOT expected if you are initializing BertModel from the checkpoint of a model that you expect to be exactly identical (initializing a BertForSequenceClassification model from a BertForSequenceClassification model).\n"
     ]
    },
    {
     "name": "stdout",
     "output_type": "stream",
     "text": [
      "Model downloaded: bert-base-uncased\n",
      "training time: 0.7546426188200712\n",
      "accuracy: 66.51375579833984\n",
      "{'params': {'reservoir_dim': 1000, 'spectral_radius': 1.0, 'leaking_rate': 0.9, 'input_scaling': 0.1, 'bias_scaling': 0.0, 'sparsity': 0.0, 'activation_function': 'relu', 'alpha': 1.0}, 'accuracy': [66.51375579833984], 'time': [0.7546426188200712]}\n"
     ]
    },
    {
     "name": "stderr",
     "output_type": "stream",
     "text": [
      "Some weights of the model checkpoint at bert-base-uncased were not used when initializing BertModel: ['cls.predictions.bias', 'cls.predictions.transform.dense.weight', 'cls.predictions.transform.LayerNorm.weight', 'cls.seq_relationship.weight', 'cls.predictions.decoder.weight', 'cls.seq_relationship.bias', 'cls.predictions.transform.dense.bias', 'cls.predictions.transform.LayerNorm.bias']\n",
      "- This IS expected if you are initializing BertModel from the checkpoint of a model trained on another task or with another architecture (e.g. initializing a BertForSequenceClassification model from a BertForPreTraining model).\n",
      "- This IS NOT expected if you are initializing BertModel from the checkpoint of a model that you expect to be exactly identical (initializing a BertForSequenceClassification model from a BertForSequenceClassification model).\n"
     ]
    },
    {
     "name": "stdout",
     "output_type": "stream",
     "text": [
      "Model downloaded: bert-base-uncased\n",
      "training time: 0.7417433643713593\n",
      "accuracy: 69.26605224609375\n",
      "{'params': {'reservoir_dim': 1000, 'spectral_radius': 1.0, 'leaking_rate': 0.9, 'input_scaling': 0.1, 'bias_scaling': 0.0, 'sparsity': 0.0, 'activation_function': 'relu', 'alpha': 1.0}, 'accuracy': [66.51375579833984, 69.26605224609375], 'time': [0.7546426188200712, 0.7417433643713593]}\n"
     ]
    },
    {
     "name": "stderr",
     "output_type": "stream",
     "text": [
      "Some weights of the model checkpoint at bert-base-uncased were not used when initializing BertModel: ['cls.predictions.bias', 'cls.predictions.transform.dense.weight', 'cls.predictions.transform.LayerNorm.weight', 'cls.seq_relationship.weight', 'cls.predictions.decoder.weight', 'cls.seq_relationship.bias', 'cls.predictions.transform.dense.bias', 'cls.predictions.transform.LayerNorm.bias']\n",
      "- This IS expected if you are initializing BertModel from the checkpoint of a model trained on another task or with another architecture (e.g. initializing a BertForSequenceClassification model from a BertForPreTraining model).\n",
      "- This IS NOT expected if you are initializing BertModel from the checkpoint of a model that you expect to be exactly identical (initializing a BertForSequenceClassification model from a BertForSequenceClassification model).\n"
     ]
    },
    {
     "name": "stdout",
     "output_type": "stream",
     "text": [
      "Model downloaded: bert-base-uncased\n",
      "training time: 0.7734166327863932\n",
      "accuracy: 73.39449310302734\n",
      "{'params': {'reservoir_dim': 1000, 'spectral_radius': 1.0, 'leaking_rate': 0.9, 'input_scaling': 0.1, 'bias_scaling': 0.0, 'sparsity': 0.0, 'activation_function': 'relu', 'alpha': 1.0}, 'accuracy': [66.51375579833984, 69.26605224609375, 73.39449310302734], 'time': [0.7546426188200712, 0.7417433643713593, 0.7734166327863932]}\n"
     ]
    },
    {
     "name": "stderr",
     "output_type": "stream",
     "text": [
      "Some weights of the model checkpoint at bert-base-uncased were not used when initializing BertModel: ['cls.predictions.bias', 'cls.predictions.transform.dense.weight', 'cls.predictions.transform.LayerNorm.weight', 'cls.seq_relationship.weight', 'cls.predictions.decoder.weight', 'cls.seq_relationship.bias', 'cls.predictions.transform.dense.bias', 'cls.predictions.transform.LayerNorm.bias']\n",
      "- This IS expected if you are initializing BertModel from the checkpoint of a model trained on another task or with another architecture (e.g. initializing a BertForSequenceClassification model from a BertForPreTraining model).\n",
      "- This IS NOT expected if you are initializing BertModel from the checkpoint of a model that you expect to be exactly identical (initializing a BertForSequenceClassification model from a BertForSequenceClassification model).\n"
     ]
    },
    {
     "name": "stdout",
     "output_type": "stream",
     "text": [
      "Model downloaded: bert-base-uncased\n",
      "training time: 0.7440666975453496\n",
      "accuracy: 72.01834869384766\n",
      "{'params': {'reservoir_dim': 1000, 'spectral_radius': 1.0, 'leaking_rate': 0.9, 'input_scaling': 0.1, 'bias_scaling': 0.0, 'sparsity': 0.0, 'activation_function': 'relu', 'alpha': 1.0}, 'accuracy': [66.51375579833984, 69.26605224609375, 73.39449310302734, 72.01834869384766], 'time': [0.7546426188200712, 0.7417433643713593, 0.7734166327863932, 0.7440666975453496]}\n"
     ]
    },
    {
     "name": "stderr",
     "output_type": "stream",
     "text": [
      "Some weights of the model checkpoint at bert-base-uncased were not used when initializing BertModel: ['cls.predictions.bias', 'cls.predictions.transform.dense.weight', 'cls.predictions.transform.LayerNorm.weight', 'cls.seq_relationship.weight', 'cls.predictions.decoder.weight', 'cls.seq_relationship.bias', 'cls.predictions.transform.dense.bias', 'cls.predictions.transform.LayerNorm.bias']\n",
      "- This IS expected if you are initializing BertModel from the checkpoint of a model trained on another task or with another architecture (e.g. initializing a BertForSequenceClassification model from a BertForPreTraining model).\n",
      "- This IS NOT expected if you are initializing BertModel from the checkpoint of a model that you expect to be exactly identical (initializing a BertForSequenceClassification model from a BertForSequenceClassification model).\n"
     ]
    },
    {
     "name": "stdout",
     "output_type": "stream",
     "text": [
      "Model downloaded: bert-base-uncased\n",
      "training time: 0.7823817599564791\n",
      "accuracy: 73.85321044921875\n",
      "{'params': {'reservoir_dim': 1000, 'spectral_radius': 1.0, 'leaking_rate': 0.9, 'input_scaling': 0.1, 'bias_scaling': 0.0, 'sparsity': 0.0, 'activation_function': 'relu', 'alpha': 1.0}, 'accuracy': [66.51375579833984, 69.26605224609375, 73.39449310302734, 72.01834869384766, 73.85321044921875], 'time': [0.7546426188200712, 0.7417433643713593, 0.7734166327863932, 0.7440666975453496, 0.7823817599564791]}\n"
     ]
    },
    {
     "data": {
      "application/vnd.jupyter.widget-view+json": {
       "model_id": "cf80b53e51f44aabbb98a46a7f82c264",
       "version_major": 2,
       "version_minor": 0
      },
      "text/plain": [
       "  0%|          | 0/5 [00:00<?, ?it/s]"
      ]
     },
     "metadata": {},
     "output_type": "display_data"
    },
    {
     "name": "stderr",
     "output_type": "stream",
     "text": [
      "Some weights of the model checkpoint at bert-base-uncased were not used when initializing BertModel: ['cls.predictions.bias', 'cls.predictions.transform.dense.weight', 'cls.predictions.transform.LayerNorm.weight', 'cls.seq_relationship.weight', 'cls.predictions.decoder.weight', 'cls.seq_relationship.bias', 'cls.predictions.transform.dense.bias', 'cls.predictions.transform.LayerNorm.bias']\n",
      "- This IS expected if you are initializing BertModel from the checkpoint of a model trained on another task or with another architecture (e.g. initializing a BertForSequenceClassification model from a BertForPreTraining model).\n",
      "- This IS NOT expected if you are initializing BertModel from the checkpoint of a model that you expect to be exactly identical (initializing a BertForSequenceClassification model from a BertForSequenceClassification model).\n"
     ]
    },
    {
     "name": "stdout",
     "output_type": "stream",
     "text": [
      "Model downloaded: bert-base-uncased\n",
      "training time: 0.9008931079879403\n",
      "accuracy: 74.31192016601562\n",
      "{'params': {'reservoir_dim': 1000, 'spectral_radius': 1.0, 'leaking_rate': 0.9, 'input_scaling': 0.1, 'bias_scaling': 0.0, 'sparsity': 0.0, 'activation_function': 'relu', 'alpha': 10.0}, 'accuracy': [74.31192016601562], 'time': [0.9008931079879403]}\n"
     ]
    },
    {
     "name": "stderr",
     "output_type": "stream",
     "text": [
      "Some weights of the model checkpoint at bert-base-uncased were not used when initializing BertModel: ['cls.predictions.bias', 'cls.predictions.transform.dense.weight', 'cls.predictions.transform.LayerNorm.weight', 'cls.seq_relationship.weight', 'cls.predictions.decoder.weight', 'cls.seq_relationship.bias', 'cls.predictions.transform.dense.bias', 'cls.predictions.transform.LayerNorm.bias']\n",
      "- This IS expected if you are initializing BertModel from the checkpoint of a model trained on another task or with another architecture (e.g. initializing a BertForSequenceClassification model from a BertForPreTraining model).\n",
      "- This IS NOT expected if you are initializing BertModel from the checkpoint of a model that you expect to be exactly identical (initializing a BertForSequenceClassification model from a BertForSequenceClassification model).\n"
     ]
    },
    {
     "name": "stdout",
     "output_type": "stream",
     "text": [
      "Model downloaded: bert-base-uncased\n",
      "training time: 0.7624903507530689\n",
      "accuracy: 76.60549926757812\n",
      "{'params': {'reservoir_dim': 1000, 'spectral_radius': 1.0, 'leaking_rate': 0.9, 'input_scaling': 0.1, 'bias_scaling': 0.0, 'sparsity': 0.0, 'activation_function': 'relu', 'alpha': 10.0}, 'accuracy': [74.31192016601562, 76.60549926757812], 'time': [0.9008931079879403, 0.7624903507530689]}\n"
     ]
    },
    {
     "name": "stderr",
     "output_type": "stream",
     "text": [
      "Some weights of the model checkpoint at bert-base-uncased were not used when initializing BertModel: ['cls.predictions.bias', 'cls.predictions.transform.dense.weight', 'cls.predictions.transform.LayerNorm.weight', 'cls.seq_relationship.weight', 'cls.predictions.decoder.weight', 'cls.seq_relationship.bias', 'cls.predictions.transform.dense.bias', 'cls.predictions.transform.LayerNorm.bias']\n",
      "- This IS expected if you are initializing BertModel from the checkpoint of a model trained on another task or with another architecture (e.g. initializing a BertForSequenceClassification model from a BertForPreTraining model).\n",
      "- This IS NOT expected if you are initializing BertModel from the checkpoint of a model that you expect to be exactly identical (initializing a BertForSequenceClassification model from a BertForSequenceClassification model).\n"
     ]
    },
    {
     "name": "stdout",
     "output_type": "stream",
     "text": [
      "Model downloaded: bert-base-uncased\n",
      "training time: 0.7397908736020327\n",
      "accuracy: 76.60549926757812\n",
      "{'params': {'reservoir_dim': 1000, 'spectral_radius': 1.0, 'leaking_rate': 0.9, 'input_scaling': 0.1, 'bias_scaling': 0.0, 'sparsity': 0.0, 'activation_function': 'relu', 'alpha': 10.0}, 'accuracy': [74.31192016601562, 76.60549926757812, 76.60549926757812], 'time': [0.9008931079879403, 0.7624903507530689, 0.7397908736020327]}\n"
     ]
    },
    {
     "name": "stderr",
     "output_type": "stream",
     "text": [
      "Some weights of the model checkpoint at bert-base-uncased were not used when initializing BertModel: ['cls.predictions.bias', 'cls.predictions.transform.dense.weight', 'cls.predictions.transform.LayerNorm.weight', 'cls.seq_relationship.weight', 'cls.predictions.decoder.weight', 'cls.seq_relationship.bias', 'cls.predictions.transform.dense.bias', 'cls.predictions.transform.LayerNorm.bias']\n",
      "- This IS expected if you are initializing BertModel from the checkpoint of a model trained on another task or with another architecture (e.g. initializing a BertForSequenceClassification model from a BertForPreTraining model).\n",
      "- This IS NOT expected if you are initializing BertModel from the checkpoint of a model that you expect to be exactly identical (initializing a BertForSequenceClassification model from a BertForSequenceClassification model).\n"
     ]
    },
    {
     "name": "stdout",
     "output_type": "stream",
     "text": [
      "Model downloaded: bert-base-uncased\n",
      "training time: 0.7662565093487501\n",
      "accuracy: 80.27522277832031\n",
      "{'params': {'reservoir_dim': 1000, 'spectral_radius': 1.0, 'leaking_rate': 0.9, 'input_scaling': 0.1, 'bias_scaling': 0.0, 'sparsity': 0.0, 'activation_function': 'relu', 'alpha': 10.0}, 'accuracy': [74.31192016601562, 76.60549926757812, 76.60549926757812, 80.27522277832031], 'time': [0.9008931079879403, 0.7624903507530689, 0.7397908736020327, 0.7662565093487501]}\n"
     ]
    },
    {
     "name": "stderr",
     "output_type": "stream",
     "text": [
      "Some weights of the model checkpoint at bert-base-uncased were not used when initializing BertModel: ['cls.predictions.bias', 'cls.predictions.transform.dense.weight', 'cls.predictions.transform.LayerNorm.weight', 'cls.seq_relationship.weight', 'cls.predictions.decoder.weight', 'cls.seq_relationship.bias', 'cls.predictions.transform.dense.bias', 'cls.predictions.transform.LayerNorm.bias']\n",
      "- This IS expected if you are initializing BertModel from the checkpoint of a model trained on another task or with another architecture (e.g. initializing a BertForSequenceClassification model from a BertForPreTraining model).\n",
      "- This IS NOT expected if you are initializing BertModel from the checkpoint of a model that you expect to be exactly identical (initializing a BertForSequenceClassification model from a BertForSequenceClassification model).\n"
     ]
    },
    {
     "name": "stdout",
     "output_type": "stream",
     "text": [
      "Model downloaded: bert-base-uncased\n",
      "training time: 0.7505855513736606\n",
      "accuracy: 77.98165130615234\n",
      "{'params': {'reservoir_dim': 1000, 'spectral_radius': 1.0, 'leaking_rate': 0.9, 'input_scaling': 0.1, 'bias_scaling': 0.0, 'sparsity': 0.0, 'activation_function': 'relu', 'alpha': 10.0}, 'accuracy': [74.31192016601562, 76.60549926757812, 76.60549926757812, 80.27522277832031, 77.98165130615234], 'time': [0.9008931079879403, 0.7624903507530689, 0.7397908736020327, 0.7662565093487501, 0.7505855513736606]}\n"
     ]
    },
    {
     "data": {
      "application/vnd.jupyter.widget-view+json": {
       "model_id": "6fae481555fa4df5bab0474e0efc3c27",
       "version_major": 2,
       "version_minor": 0
      },
      "text/plain": [
       "  0%|          | 0/5 [00:00<?, ?it/s]"
      ]
     },
     "metadata": {},
     "output_type": "display_data"
    },
    {
     "name": "stderr",
     "output_type": "stream",
     "text": [
      "Some weights of the model checkpoint at bert-base-uncased were not used when initializing BertModel: ['cls.predictions.bias', 'cls.predictions.transform.dense.weight', 'cls.predictions.transform.LayerNorm.weight', 'cls.seq_relationship.weight', 'cls.predictions.decoder.weight', 'cls.seq_relationship.bias', 'cls.predictions.transform.dense.bias', 'cls.predictions.transform.LayerNorm.bias']\n",
      "- This IS expected if you are initializing BertModel from the checkpoint of a model trained on another task or with another architecture (e.g. initializing a BertForSequenceClassification model from a BertForPreTraining model).\n",
      "- This IS NOT expected if you are initializing BertModel from the checkpoint of a model that you expect to be exactly identical (initializing a BertForSequenceClassification model from a BertForSequenceClassification model).\n"
     ]
    },
    {
     "name": "stdout",
     "output_type": "stream",
     "text": [
      "Model downloaded: bert-base-uncased\n",
      "training time: 0.7674235999584198\n",
      "accuracy: 63.76146697998047\n",
      "{'params': {'reservoir_dim': 1000, 'spectral_radius': 1.0, 'leaking_rate': 0.9, 'input_scaling': 0.1, 'bias_scaling': 0.0, 'sparsity': 0.99, 'activation_function': 'relu', 'alpha': 0.1}, 'accuracy': [63.76146697998047], 'time': [0.7674235999584198]}\n"
     ]
    },
    {
     "name": "stderr",
     "output_type": "stream",
     "text": [
      "Some weights of the model checkpoint at bert-base-uncased were not used when initializing BertModel: ['cls.predictions.bias', 'cls.predictions.transform.dense.weight', 'cls.predictions.transform.LayerNorm.weight', 'cls.seq_relationship.weight', 'cls.predictions.decoder.weight', 'cls.seq_relationship.bias', 'cls.predictions.transform.dense.bias', 'cls.predictions.transform.LayerNorm.bias']\n",
      "- This IS expected if you are initializing BertModel from the checkpoint of a model trained on another task or with another architecture (e.g. initializing a BertForSequenceClassification model from a BertForPreTraining model).\n",
      "- This IS NOT expected if you are initializing BertModel from the checkpoint of a model that you expect to be exactly identical (initializing a BertForSequenceClassification model from a BertForSequenceClassification model).\n"
     ]
    },
    {
     "name": "stdout",
     "output_type": "stream",
     "text": [
      "Model downloaded: bert-base-uncased\n",
      "training time: 0.767792378552258\n",
      "accuracy: 55.96329879760742\n",
      "{'params': {'reservoir_dim': 1000, 'spectral_radius': 1.0, 'leaking_rate': 0.9, 'input_scaling': 0.1, 'bias_scaling': 0.0, 'sparsity': 0.99, 'activation_function': 'relu', 'alpha': 0.1}, 'accuracy': [63.76146697998047, 55.96329879760742], 'time': [0.7674235999584198, 0.767792378552258]}\n"
     ]
    },
    {
     "name": "stderr",
     "output_type": "stream",
     "text": [
      "Some weights of the model checkpoint at bert-base-uncased were not used when initializing BertModel: ['cls.predictions.bias', 'cls.predictions.transform.dense.weight', 'cls.predictions.transform.LayerNorm.weight', 'cls.seq_relationship.weight', 'cls.predictions.decoder.weight', 'cls.seq_relationship.bias', 'cls.predictions.transform.dense.bias', 'cls.predictions.transform.LayerNorm.bias']\n",
      "- This IS expected if you are initializing BertModel from the checkpoint of a model trained on another task or with another architecture (e.g. initializing a BertForSequenceClassification model from a BertForPreTraining model).\n",
      "- This IS NOT expected if you are initializing BertModel from the checkpoint of a model that you expect to be exactly identical (initializing a BertForSequenceClassification model from a BertForSequenceClassification model).\n"
     ]
    },
    {
     "name": "stdout",
     "output_type": "stream",
     "text": [
      "Model downloaded: bert-base-uncased\n",
      "training time: 0.7451391331851482\n",
      "accuracy: 55.045867919921875\n",
      "{'params': {'reservoir_dim': 1000, 'spectral_radius': 1.0, 'leaking_rate': 0.9, 'input_scaling': 0.1, 'bias_scaling': 0.0, 'sparsity': 0.99, 'activation_function': 'relu', 'alpha': 0.1}, 'accuracy': [63.76146697998047, 55.96329879760742, 55.045867919921875], 'time': [0.7674235999584198, 0.767792378552258, 0.7451391331851482]}\n"
     ]
    },
    {
     "name": "stderr",
     "output_type": "stream",
     "text": [
      "Some weights of the model checkpoint at bert-base-uncased were not used when initializing BertModel: ['cls.predictions.bias', 'cls.predictions.transform.dense.weight', 'cls.predictions.transform.LayerNorm.weight', 'cls.seq_relationship.weight', 'cls.predictions.decoder.weight', 'cls.seq_relationship.bias', 'cls.predictions.transform.dense.bias', 'cls.predictions.transform.LayerNorm.bias']\n",
      "- This IS expected if you are initializing BertModel from the checkpoint of a model trained on another task or with another architecture (e.g. initializing a BertForSequenceClassification model from a BertForPreTraining model).\n",
      "- This IS NOT expected if you are initializing BertModel from the checkpoint of a model that you expect to be exactly identical (initializing a BertForSequenceClassification model from a BertForSequenceClassification model).\n"
     ]
    },
    {
     "name": "stdout",
     "output_type": "stream",
     "text": [
      "Model downloaded: bert-base-uncased\n",
      "training time: 0.7350204102694988\n",
      "accuracy: 55.96329879760742\n",
      "{'params': {'reservoir_dim': 1000, 'spectral_radius': 1.0, 'leaking_rate': 0.9, 'input_scaling': 0.1, 'bias_scaling': 0.0, 'sparsity': 0.99, 'activation_function': 'relu', 'alpha': 0.1}, 'accuracy': [63.76146697998047, 55.96329879760742, 55.045867919921875, 55.96329879760742], 'time': [0.7674235999584198, 0.767792378552258, 0.7451391331851482, 0.7350204102694988]}\n"
     ]
    },
    {
     "name": "stderr",
     "output_type": "stream",
     "text": [
      "Some weights of the model checkpoint at bert-base-uncased were not used when initializing BertModel: ['cls.predictions.bias', 'cls.predictions.transform.dense.weight', 'cls.predictions.transform.LayerNorm.weight', 'cls.seq_relationship.weight', 'cls.predictions.decoder.weight', 'cls.seq_relationship.bias', 'cls.predictions.transform.dense.bias', 'cls.predictions.transform.LayerNorm.bias']\n",
      "- This IS expected if you are initializing BertModel from the checkpoint of a model trained on another task or with another architecture (e.g. initializing a BertForSequenceClassification model from a BertForPreTraining model).\n",
      "- This IS NOT expected if you are initializing BertModel from the checkpoint of a model that you expect to be exactly identical (initializing a BertForSequenceClassification model from a BertForSequenceClassification model).\n"
     ]
    },
    {
     "name": "stdout",
     "output_type": "stream",
     "text": [
      "Model downloaded: bert-base-uncased\n",
      "training time: 0.7539409128949046\n",
      "accuracy: 61.00917053222656\n",
      "{'params': {'reservoir_dim': 1000, 'spectral_radius': 1.0, 'leaking_rate': 0.9, 'input_scaling': 0.1, 'bias_scaling': 0.0, 'sparsity': 0.99, 'activation_function': 'relu', 'alpha': 0.1}, 'accuracy': [63.76146697998047, 55.96329879760742, 55.045867919921875, 55.96329879760742, 61.00917053222656], 'time': [0.7674235999584198, 0.767792378552258, 0.7451391331851482, 0.7350204102694988, 0.7539409128949046]}\n"
     ]
    },
    {
     "data": {
      "application/vnd.jupyter.widget-view+json": {
       "model_id": "785e029feb4d44e7bff6a17dfe28bb6e",
       "version_major": 2,
       "version_minor": 0
      },
      "text/plain": [
       "  0%|          | 0/5 [00:00<?, ?it/s]"
      ]
     },
     "metadata": {},
     "output_type": "display_data"
    },
    {
     "name": "stderr",
     "output_type": "stream",
     "text": [
      "Some weights of the model checkpoint at bert-base-uncased were not used when initializing BertModel: ['cls.predictions.bias', 'cls.predictions.transform.dense.weight', 'cls.predictions.transform.LayerNorm.weight', 'cls.seq_relationship.weight', 'cls.predictions.decoder.weight', 'cls.seq_relationship.bias', 'cls.predictions.transform.dense.bias', 'cls.predictions.transform.LayerNorm.bias']\n",
      "- This IS expected if you are initializing BertModel from the checkpoint of a model trained on another task or with another architecture (e.g. initializing a BertForSequenceClassification model from a BertForPreTraining model).\n",
      "- This IS NOT expected if you are initializing BertModel from the checkpoint of a model that you expect to be exactly identical (initializing a BertForSequenceClassification model from a BertForSequenceClassification model).\n"
     ]
    },
    {
     "name": "stdout",
     "output_type": "stream",
     "text": [
      "Model downloaded: bert-base-uncased\n",
      "training time: 0.7563451640307903\n",
      "accuracy: 75.22935485839844\n",
      "{'params': {'reservoir_dim': 1000, 'spectral_radius': 1.0, 'leaking_rate': 0.9, 'input_scaling': 0.1, 'bias_scaling': 0.0, 'sparsity': 0.99, 'activation_function': 'relu', 'alpha': 1.0}, 'accuracy': [75.22935485839844], 'time': [0.7563451640307903]}\n"
     ]
    },
    {
     "name": "stderr",
     "output_type": "stream",
     "text": [
      "Some weights of the model checkpoint at bert-base-uncased were not used when initializing BertModel: ['cls.predictions.bias', 'cls.predictions.transform.dense.weight', 'cls.predictions.transform.LayerNorm.weight', 'cls.seq_relationship.weight', 'cls.predictions.decoder.weight', 'cls.seq_relationship.bias', 'cls.predictions.transform.dense.bias', 'cls.predictions.transform.LayerNorm.bias']\n",
      "- This IS expected if you are initializing BertModel from the checkpoint of a model trained on another task or with another architecture (e.g. initializing a BertForSequenceClassification model from a BertForPreTraining model).\n",
      "- This IS NOT expected if you are initializing BertModel from the checkpoint of a model that you expect to be exactly identical (initializing a BertForSequenceClassification model from a BertForSequenceClassification model).\n"
     ]
    },
    {
     "name": "stdout",
     "output_type": "stream",
     "text": [
      "Model downloaded: bert-base-uncased\n",
      "training time: 0.7852337695658207\n",
      "accuracy: 70.64219665527344\n",
      "{'params': {'reservoir_dim': 1000, 'spectral_radius': 1.0, 'leaking_rate': 0.9, 'input_scaling': 0.1, 'bias_scaling': 0.0, 'sparsity': 0.99, 'activation_function': 'relu', 'alpha': 1.0}, 'accuracy': [75.22935485839844, 70.64219665527344], 'time': [0.7563451640307903, 0.7852337695658207]}\n"
     ]
    },
    {
     "name": "stderr",
     "output_type": "stream",
     "text": [
      "Some weights of the model checkpoint at bert-base-uncased were not used when initializing BertModel: ['cls.predictions.bias', 'cls.predictions.transform.dense.weight', 'cls.predictions.transform.LayerNorm.weight', 'cls.seq_relationship.weight', 'cls.predictions.decoder.weight', 'cls.seq_relationship.bias', 'cls.predictions.transform.dense.bias', 'cls.predictions.transform.LayerNorm.bias']\n",
      "- This IS expected if you are initializing BertModel from the checkpoint of a model trained on another task or with another architecture (e.g. initializing a BertForSequenceClassification model from a BertForPreTraining model).\n",
      "- This IS NOT expected if you are initializing BertModel from the checkpoint of a model that you expect to be exactly identical (initializing a BertForSequenceClassification model from a BertForSequenceClassification model).\n"
     ]
    },
    {
     "name": "stdout",
     "output_type": "stream",
     "text": [
      "Model downloaded: bert-base-uncased\n",
      "training time: 0.764726473018527\n",
      "accuracy: 66.97247314453125\n",
      "{'params': {'reservoir_dim': 1000, 'spectral_radius': 1.0, 'leaking_rate': 0.9, 'input_scaling': 0.1, 'bias_scaling': 0.0, 'sparsity': 0.99, 'activation_function': 'relu', 'alpha': 1.0}, 'accuracy': [75.22935485839844, 70.64219665527344, 66.97247314453125], 'time': [0.7563451640307903, 0.7852337695658207, 0.764726473018527]}\n"
     ]
    },
    {
     "name": "stderr",
     "output_type": "stream",
     "text": [
      "Some weights of the model checkpoint at bert-base-uncased were not used when initializing BertModel: ['cls.predictions.bias', 'cls.predictions.transform.dense.weight', 'cls.predictions.transform.LayerNorm.weight', 'cls.seq_relationship.weight', 'cls.predictions.decoder.weight', 'cls.seq_relationship.bias', 'cls.predictions.transform.dense.bias', 'cls.predictions.transform.LayerNorm.bias']\n",
      "- This IS expected if you are initializing BertModel from the checkpoint of a model trained on another task or with another architecture (e.g. initializing a BertForSequenceClassification model from a BertForPreTraining model).\n",
      "- This IS NOT expected if you are initializing BertModel from the checkpoint of a model that you expect to be exactly identical (initializing a BertForSequenceClassification model from a BertForSequenceClassification model).\n"
     ]
    },
    {
     "name": "stdout",
     "output_type": "stream",
     "text": [
      "Model downloaded: bert-base-uncased\n",
      "training time: 0.8283493919298053\n",
      "accuracy: 69.26605224609375\n",
      "{'params': {'reservoir_dim': 1000, 'spectral_radius': 1.0, 'leaking_rate': 0.9, 'input_scaling': 0.1, 'bias_scaling': 0.0, 'sparsity': 0.99, 'activation_function': 'relu', 'alpha': 1.0}, 'accuracy': [75.22935485839844, 70.64219665527344, 66.97247314453125, 69.26605224609375], 'time': [0.7563451640307903, 0.7852337695658207, 0.764726473018527, 0.8283493919298053]}\n"
     ]
    },
    {
     "name": "stderr",
     "output_type": "stream",
     "text": [
      "Some weights of the model checkpoint at bert-base-uncased were not used when initializing BertModel: ['cls.predictions.bias', 'cls.predictions.transform.dense.weight', 'cls.predictions.transform.LayerNorm.weight', 'cls.seq_relationship.weight', 'cls.predictions.decoder.weight', 'cls.seq_relationship.bias', 'cls.predictions.transform.dense.bias', 'cls.predictions.transform.LayerNorm.bias']\n",
      "- This IS expected if you are initializing BertModel from the checkpoint of a model trained on another task or with another architecture (e.g. initializing a BertForSequenceClassification model from a BertForPreTraining model).\n",
      "- This IS NOT expected if you are initializing BertModel from the checkpoint of a model that you expect to be exactly identical (initializing a BertForSequenceClassification model from a BertForSequenceClassification model).\n"
     ]
    },
    {
     "name": "stdout",
     "output_type": "stream",
     "text": [
      "Model downloaded: bert-base-uncased\n",
      "training time: 0.7426881296560168\n",
      "accuracy: 70.64219665527344\n",
      "{'params': {'reservoir_dim': 1000, 'spectral_radius': 1.0, 'leaking_rate': 0.9, 'input_scaling': 0.1, 'bias_scaling': 0.0, 'sparsity': 0.99, 'activation_function': 'relu', 'alpha': 1.0}, 'accuracy': [75.22935485839844, 70.64219665527344, 66.97247314453125, 69.26605224609375, 70.64219665527344], 'time': [0.7563451640307903, 0.7852337695658207, 0.764726473018527, 0.8283493919298053, 0.7426881296560168]}\n"
     ]
    },
    {
     "data": {
      "application/vnd.jupyter.widget-view+json": {
       "model_id": "fc63b522dd304cbb99172a5515934593",
       "version_major": 2,
       "version_minor": 0
      },
      "text/plain": [
       "  0%|          | 0/5 [00:00<?, ?it/s]"
      ]
     },
     "metadata": {},
     "output_type": "display_data"
    },
    {
     "name": "stderr",
     "output_type": "stream",
     "text": [
      "Some weights of the model checkpoint at bert-base-uncased were not used when initializing BertModel: ['cls.predictions.bias', 'cls.predictions.transform.dense.weight', 'cls.predictions.transform.LayerNorm.weight', 'cls.seq_relationship.weight', 'cls.predictions.decoder.weight', 'cls.seq_relationship.bias', 'cls.predictions.transform.dense.bias', 'cls.predictions.transform.LayerNorm.bias']\n",
      "- This IS expected if you are initializing BertModel from the checkpoint of a model trained on another task or with another architecture (e.g. initializing a BertForSequenceClassification model from a BertForPreTraining model).\n",
      "- This IS NOT expected if you are initializing BertModel from the checkpoint of a model that you expect to be exactly identical (initializing a BertForSequenceClassification model from a BertForSequenceClassification model).\n"
     ]
    },
    {
     "name": "stdout",
     "output_type": "stream",
     "text": [
      "Model downloaded: bert-base-uncased\n",
      "training time: 0.720334829762578\n",
      "accuracy: 78.44036102294922\n",
      "{'params': {'reservoir_dim': 1000, 'spectral_radius': 1.0, 'leaking_rate': 0.9, 'input_scaling': 0.1, 'bias_scaling': 0.0, 'sparsity': 0.99, 'activation_function': 'relu', 'alpha': 10.0}, 'accuracy': [78.44036102294922], 'time': [0.720334829762578]}\n"
     ]
    },
    {
     "name": "stderr",
     "output_type": "stream",
     "text": [
      "Some weights of the model checkpoint at bert-base-uncased were not used when initializing BertModel: ['cls.predictions.bias', 'cls.predictions.transform.dense.weight', 'cls.predictions.transform.LayerNorm.weight', 'cls.seq_relationship.weight', 'cls.predictions.decoder.weight', 'cls.seq_relationship.bias', 'cls.predictions.transform.dense.bias', 'cls.predictions.transform.LayerNorm.bias']\n",
      "- This IS expected if you are initializing BertModel from the checkpoint of a model trained on another task or with another architecture (e.g. initializing a BertForSequenceClassification model from a BertForPreTraining model).\n",
      "- This IS NOT expected if you are initializing BertModel from the checkpoint of a model that you expect to be exactly identical (initializing a BertForSequenceClassification model from a BertForSequenceClassification model).\n"
     ]
    },
    {
     "name": "stdout",
     "output_type": "stream",
     "text": [
      "Model downloaded: bert-base-uncased\n",
      "training time: 0.7649507028982043\n",
      "accuracy: 78.89907836914062\n",
      "{'params': {'reservoir_dim': 1000, 'spectral_radius': 1.0, 'leaking_rate': 0.9, 'input_scaling': 0.1, 'bias_scaling': 0.0, 'sparsity': 0.99, 'activation_function': 'relu', 'alpha': 10.0}, 'accuracy': [78.44036102294922, 78.89907836914062], 'time': [0.720334829762578, 0.7649507028982043]}\n"
     ]
    },
    {
     "name": "stderr",
     "output_type": "stream",
     "text": [
      "Some weights of the model checkpoint at bert-base-uncased were not used when initializing BertModel: ['cls.predictions.bias', 'cls.predictions.transform.dense.weight', 'cls.predictions.transform.LayerNorm.weight', 'cls.seq_relationship.weight', 'cls.predictions.decoder.weight', 'cls.seq_relationship.bias', 'cls.predictions.transform.dense.bias', 'cls.predictions.transform.LayerNorm.bias']\n",
      "- This IS expected if you are initializing BertModel from the checkpoint of a model trained on another task or with another architecture (e.g. initializing a BertForSequenceClassification model from a BertForPreTraining model).\n",
      "- This IS NOT expected if you are initializing BertModel from the checkpoint of a model that you expect to be exactly identical (initializing a BertForSequenceClassification model from a BertForSequenceClassification model).\n"
     ]
    },
    {
     "name": "stdout",
     "output_type": "stream",
     "text": [
      "Model downloaded: bert-base-uncased\n",
      "training time: 0.7569811278954148\n",
      "accuracy: 78.44036102294922\n",
      "{'params': {'reservoir_dim': 1000, 'spectral_radius': 1.0, 'leaking_rate': 0.9, 'input_scaling': 0.1, 'bias_scaling': 0.0, 'sparsity': 0.99, 'activation_function': 'relu', 'alpha': 10.0}, 'accuracy': [78.44036102294922, 78.89907836914062, 78.44036102294922], 'time': [0.720334829762578, 0.7649507028982043, 0.7569811278954148]}\n"
     ]
    },
    {
     "name": "stderr",
     "output_type": "stream",
     "text": [
      "Some weights of the model checkpoint at bert-base-uncased were not used when initializing BertModel: ['cls.predictions.bias', 'cls.predictions.transform.dense.weight', 'cls.predictions.transform.LayerNorm.weight', 'cls.seq_relationship.weight', 'cls.predictions.decoder.weight', 'cls.seq_relationship.bias', 'cls.predictions.transform.dense.bias', 'cls.predictions.transform.LayerNorm.bias']\n",
      "- This IS expected if you are initializing BertModel from the checkpoint of a model trained on another task or with another architecture (e.g. initializing a BertForSequenceClassification model from a BertForPreTraining model).\n",
      "- This IS NOT expected if you are initializing BertModel from the checkpoint of a model that you expect to be exactly identical (initializing a BertForSequenceClassification model from a BertForSequenceClassification model).\n"
     ]
    },
    {
     "name": "stdout",
     "output_type": "stream",
     "text": [
      "Model downloaded: bert-base-uncased\n",
      "training time: 0.7275939946994185\n",
      "accuracy: 78.44036102294922\n",
      "{'params': {'reservoir_dim': 1000, 'spectral_radius': 1.0, 'leaking_rate': 0.9, 'input_scaling': 0.1, 'bias_scaling': 0.0, 'sparsity': 0.99, 'activation_function': 'relu', 'alpha': 10.0}, 'accuracy': [78.44036102294922, 78.89907836914062, 78.44036102294922, 78.44036102294922], 'time': [0.720334829762578, 0.7649507028982043, 0.7569811278954148, 0.7275939946994185]}\n"
     ]
    },
    {
     "name": "stderr",
     "output_type": "stream",
     "text": [
      "Some weights of the model checkpoint at bert-base-uncased were not used when initializing BertModel: ['cls.predictions.bias', 'cls.predictions.transform.dense.weight', 'cls.predictions.transform.LayerNorm.weight', 'cls.seq_relationship.weight', 'cls.predictions.decoder.weight', 'cls.seq_relationship.bias', 'cls.predictions.transform.dense.bias', 'cls.predictions.transform.LayerNorm.bias']\n",
      "- This IS expected if you are initializing BertModel from the checkpoint of a model trained on another task or with another architecture (e.g. initializing a BertForSequenceClassification model from a BertForPreTraining model).\n",
      "- This IS NOT expected if you are initializing BertModel from the checkpoint of a model that you expect to be exactly identical (initializing a BertForSequenceClassification model from a BertForSequenceClassification model).\n"
     ]
    },
    {
     "name": "stdout",
     "output_type": "stream",
     "text": [
      "Model downloaded: bert-base-uncased\n",
      "training time: 0.7099878154695034\n",
      "accuracy: 78.44036102294922\n",
      "{'params': {'reservoir_dim': 1000, 'spectral_radius': 1.0, 'leaking_rate': 0.9, 'input_scaling': 0.1, 'bias_scaling': 0.0, 'sparsity': 0.99, 'activation_function': 'relu', 'alpha': 10.0}, 'accuracy': [78.44036102294922, 78.89907836914062, 78.44036102294922, 78.44036102294922, 78.44036102294922], 'time': [0.720334829762578, 0.7649507028982043, 0.7569811278954148, 0.7275939946994185, 0.7099878154695034]}\n"
     ]
    },
    {
     "data": {
      "application/vnd.jupyter.widget-view+json": {
       "model_id": "36e4d7e74aef47259b8e47b88d912359",
       "version_major": 2,
       "version_minor": 0
      },
      "text/plain": [
       "  0%|          | 0/5 [00:00<?, ?it/s]"
      ]
     },
     "metadata": {},
     "output_type": "display_data"
    },
    {
     "name": "stderr",
     "output_type": "stream",
     "text": [
      "Some weights of the model checkpoint at bert-base-uncased were not used when initializing BertModel: ['cls.predictions.bias', 'cls.predictions.transform.dense.weight', 'cls.predictions.transform.LayerNorm.weight', 'cls.seq_relationship.weight', 'cls.predictions.decoder.weight', 'cls.seq_relationship.bias', 'cls.predictions.transform.dense.bias', 'cls.predictions.transform.LayerNorm.bias']\n",
      "- This IS expected if you are initializing BertModel from the checkpoint of a model trained on another task or with another architecture (e.g. initializing a BertForSequenceClassification model from a BertForPreTraining model).\n",
      "- This IS NOT expected if you are initializing BertModel from the checkpoint of a model that you expect to be exactly identical (initializing a BertForSequenceClassification model from a BertForSequenceClassification model).\n"
     ]
    },
    {
     "name": "stdout",
     "output_type": "stream",
     "text": [
      "Model downloaded: bert-base-uncased\n",
      "training time: 0.7192351957783103\n",
      "accuracy: 28.89908218383789\n",
      "{'params': {'reservoir_dim': 1000, 'spectral_radius': 1.0, 'leaking_rate': 0.9, 'input_scaling': 1.0, 'bias_scaling': 0.0, 'sparsity': 0.0, 'activation_function': 'relu', 'alpha': 0.1}, 'accuracy': [28.89908218383789], 'time': [0.7192351957783103]}\n"
     ]
    },
    {
     "name": "stderr",
     "output_type": "stream",
     "text": [
      "Some weights of the model checkpoint at bert-base-uncased were not used when initializing BertModel: ['cls.predictions.bias', 'cls.predictions.transform.dense.weight', 'cls.predictions.transform.LayerNorm.weight', 'cls.seq_relationship.weight', 'cls.predictions.decoder.weight', 'cls.seq_relationship.bias', 'cls.predictions.transform.dense.bias', 'cls.predictions.transform.LayerNorm.bias']\n",
      "- This IS expected if you are initializing BertModel from the checkpoint of a model trained on another task or with another architecture (e.g. initializing a BertForSequenceClassification model from a BertForPreTraining model).\n",
      "- This IS NOT expected if you are initializing BertModel from the checkpoint of a model that you expect to be exactly identical (initializing a BertForSequenceClassification model from a BertForSequenceClassification model).\n"
     ]
    },
    {
     "name": "stdout",
     "output_type": "stream",
     "text": [
      "Model downloaded: bert-base-uncased\n",
      "training time: 0.7351979054510593\n",
      "accuracy: 30.27522850036621\n",
      "{'params': {'reservoir_dim': 1000, 'spectral_radius': 1.0, 'leaking_rate': 0.9, 'input_scaling': 1.0, 'bias_scaling': 0.0, 'sparsity': 0.0, 'activation_function': 'relu', 'alpha': 0.1}, 'accuracy': [28.89908218383789, 30.27522850036621], 'time': [0.7192351957783103, 0.7351979054510593]}\n"
     ]
    },
    {
     "name": "stderr",
     "output_type": "stream",
     "text": [
      "Some weights of the model checkpoint at bert-base-uncased were not used when initializing BertModel: ['cls.predictions.bias', 'cls.predictions.transform.dense.weight', 'cls.predictions.transform.LayerNorm.weight', 'cls.seq_relationship.weight', 'cls.predictions.decoder.weight', 'cls.seq_relationship.bias', 'cls.predictions.transform.dense.bias', 'cls.predictions.transform.LayerNorm.bias']\n",
      "- This IS expected if you are initializing BertModel from the checkpoint of a model trained on another task or with another architecture (e.g. initializing a BertForSequenceClassification model from a BertForPreTraining model).\n",
      "- This IS NOT expected if you are initializing BertModel from the checkpoint of a model that you expect to be exactly identical (initializing a BertForSequenceClassification model from a BertForSequenceClassification model).\n"
     ]
    },
    {
     "name": "stdout",
     "output_type": "stream",
     "text": [
      "Model downloaded: bert-base-uncased\n",
      "training time: 0.7818495268002152\n",
      "accuracy: 30.733943939208984\n",
      "{'params': {'reservoir_dim': 1000, 'spectral_radius': 1.0, 'leaking_rate': 0.9, 'input_scaling': 1.0, 'bias_scaling': 0.0, 'sparsity': 0.0, 'activation_function': 'relu', 'alpha': 0.1}, 'accuracy': [28.89908218383789, 30.27522850036621, 30.733943939208984], 'time': [0.7192351957783103, 0.7351979054510593, 0.7818495268002152]}\n"
     ]
    },
    {
     "name": "stderr",
     "output_type": "stream",
     "text": [
      "Some weights of the model checkpoint at bert-base-uncased were not used when initializing BertModel: ['cls.predictions.bias', 'cls.predictions.transform.dense.weight', 'cls.predictions.transform.LayerNorm.weight', 'cls.seq_relationship.weight', 'cls.predictions.decoder.weight', 'cls.seq_relationship.bias', 'cls.predictions.transform.dense.bias', 'cls.predictions.transform.LayerNorm.bias']\n",
      "- This IS expected if you are initializing BertModel from the checkpoint of a model trained on another task or with another architecture (e.g. initializing a BertForSequenceClassification model from a BertForPreTraining model).\n",
      "- This IS NOT expected if you are initializing BertModel from the checkpoint of a model that you expect to be exactly identical (initializing a BertForSequenceClassification model from a BertForSequenceClassification model).\n"
     ]
    },
    {
     "name": "stdout",
     "output_type": "stream",
     "text": [
      "Model downloaded: bert-base-uncased\n",
      "training time: 0.8035246999934316\n",
      "accuracy: 27.064218521118164\n",
      "{'params': {'reservoir_dim': 1000, 'spectral_radius': 1.0, 'leaking_rate': 0.9, 'input_scaling': 1.0, 'bias_scaling': 0.0, 'sparsity': 0.0, 'activation_function': 'relu', 'alpha': 0.1}, 'accuracy': [28.89908218383789, 30.27522850036621, 30.733943939208984, 27.064218521118164], 'time': [0.7192351957783103, 0.7351979054510593, 0.7818495268002152, 0.8035246999934316]}\n"
     ]
    },
    {
     "name": "stderr",
     "output_type": "stream",
     "text": [
      "Some weights of the model checkpoint at bert-base-uncased were not used when initializing BertModel: ['cls.predictions.bias', 'cls.predictions.transform.dense.weight', 'cls.predictions.transform.LayerNorm.weight', 'cls.seq_relationship.weight', 'cls.predictions.decoder.weight', 'cls.seq_relationship.bias', 'cls.predictions.transform.dense.bias', 'cls.predictions.transform.LayerNorm.bias']\n",
      "- This IS expected if you are initializing BertModel from the checkpoint of a model trained on another task or with another architecture (e.g. initializing a BertForSequenceClassification model from a BertForPreTraining model).\n",
      "- This IS NOT expected if you are initializing BertModel from the checkpoint of a model that you expect to be exactly identical (initializing a BertForSequenceClassification model from a BertForSequenceClassification model).\n"
     ]
    },
    {
     "name": "stdout",
     "output_type": "stream",
     "text": [
      "Model downloaded: bert-base-uncased\n",
      "training time: 0.7377652740105987\n",
      "accuracy: 28.89908218383789\n",
      "{'params': {'reservoir_dim': 1000, 'spectral_radius': 1.0, 'leaking_rate': 0.9, 'input_scaling': 1.0, 'bias_scaling': 0.0, 'sparsity': 0.0, 'activation_function': 'relu', 'alpha': 0.1}, 'accuracy': [28.89908218383789, 30.27522850036621, 30.733943939208984, 27.064218521118164, 28.89908218383789], 'time': [0.7192351957783103, 0.7351979054510593, 0.7818495268002152, 0.8035246999934316, 0.7377652740105987]}\n"
     ]
    },
    {
     "data": {
      "application/vnd.jupyter.widget-view+json": {
       "model_id": "676d99a2d6da45c38a0a47f495672570",
       "version_major": 2,
       "version_minor": 0
      },
      "text/plain": [
       "  0%|          | 0/5 [00:00<?, ?it/s]"
      ]
     },
     "metadata": {},
     "output_type": "display_data"
    },
    {
     "name": "stderr",
     "output_type": "stream",
     "text": [
      "Some weights of the model checkpoint at bert-base-uncased were not used when initializing BertModel: ['cls.predictions.bias', 'cls.predictions.transform.dense.weight', 'cls.predictions.transform.LayerNorm.weight', 'cls.seq_relationship.weight', 'cls.predictions.decoder.weight', 'cls.seq_relationship.bias', 'cls.predictions.transform.dense.bias', 'cls.predictions.transform.LayerNorm.bias']\n",
      "- This IS expected if you are initializing BertModel from the checkpoint of a model trained on another task or with another architecture (e.g. initializing a BertForSequenceClassification model from a BertForPreTraining model).\n",
      "- This IS NOT expected if you are initializing BertModel from the checkpoint of a model that you expect to be exactly identical (initializing a BertForSequenceClassification model from a BertForSequenceClassification model).\n"
     ]
    },
    {
     "name": "stdout",
     "output_type": "stream",
     "text": [
      "Model downloaded: bert-base-uncased\n",
      "training time: 0.7085015652701259\n",
      "accuracy: 40.36697006225586\n",
      "{'params': {'reservoir_dim': 1000, 'spectral_radius': 1.0, 'leaking_rate': 0.9, 'input_scaling': 1.0, 'bias_scaling': 0.0, 'sparsity': 0.0, 'activation_function': 'relu', 'alpha': 1.0}, 'accuracy': [40.36697006225586], 'time': [0.7085015652701259]}\n"
     ]
    },
    {
     "name": "stderr",
     "output_type": "stream",
     "text": [
      "Some weights of the model checkpoint at bert-base-uncased were not used when initializing BertModel: ['cls.predictions.bias', 'cls.predictions.transform.dense.weight', 'cls.predictions.transform.LayerNorm.weight', 'cls.seq_relationship.weight', 'cls.predictions.decoder.weight', 'cls.seq_relationship.bias', 'cls.predictions.transform.dense.bias', 'cls.predictions.transform.LayerNorm.bias']\n",
      "- This IS expected if you are initializing BertModel from the checkpoint of a model trained on another task or with another architecture (e.g. initializing a BertForSequenceClassification model from a BertForPreTraining model).\n",
      "- This IS NOT expected if you are initializing BertModel from the checkpoint of a model that you expect to be exactly identical (initializing a BertForSequenceClassification model from a BertForSequenceClassification model).\n"
     ]
    },
    {
     "name": "stdout",
     "output_type": "stream",
     "text": [
      "Model downloaded: bert-base-uncased\n",
      "training time: 0.7760724863037467\n",
      "accuracy: 48.62385177612305\n",
      "{'params': {'reservoir_dim': 1000, 'spectral_radius': 1.0, 'leaking_rate': 0.9, 'input_scaling': 1.0, 'bias_scaling': 0.0, 'sparsity': 0.0, 'activation_function': 'relu', 'alpha': 1.0}, 'accuracy': [40.36697006225586, 48.62385177612305], 'time': [0.7085015652701259, 0.7760724863037467]}\n"
     ]
    },
    {
     "name": "stderr",
     "output_type": "stream",
     "text": [
      "Some weights of the model checkpoint at bert-base-uncased were not used when initializing BertModel: ['cls.predictions.bias', 'cls.predictions.transform.dense.weight', 'cls.predictions.transform.LayerNorm.weight', 'cls.seq_relationship.weight', 'cls.predictions.decoder.weight', 'cls.seq_relationship.bias', 'cls.predictions.transform.dense.bias', 'cls.predictions.transform.LayerNorm.bias']\n",
      "- This IS expected if you are initializing BertModel from the checkpoint of a model trained on another task or with another architecture (e.g. initializing a BertForSequenceClassification model from a BertForPreTraining model).\n",
      "- This IS NOT expected if you are initializing BertModel from the checkpoint of a model that you expect to be exactly identical (initializing a BertForSequenceClassification model from a BertForSequenceClassification model).\n"
     ]
    },
    {
     "name": "stdout",
     "output_type": "stream",
     "text": [
      "Model downloaded: bert-base-uncased\n",
      "training time: 0.7815657136961818\n",
      "accuracy: 43.1192626953125\n",
      "{'params': {'reservoir_dim': 1000, 'spectral_radius': 1.0, 'leaking_rate': 0.9, 'input_scaling': 1.0, 'bias_scaling': 0.0, 'sparsity': 0.0, 'activation_function': 'relu', 'alpha': 1.0}, 'accuracy': [40.36697006225586, 48.62385177612305, 43.1192626953125], 'time': [0.7085015652701259, 0.7760724863037467, 0.7815657136961818]}\n"
     ]
    },
    {
     "name": "stderr",
     "output_type": "stream",
     "text": [
      "Some weights of the model checkpoint at bert-base-uncased were not used when initializing BertModel: ['cls.predictions.bias', 'cls.predictions.transform.dense.weight', 'cls.predictions.transform.LayerNorm.weight', 'cls.seq_relationship.weight', 'cls.predictions.decoder.weight', 'cls.seq_relationship.bias', 'cls.predictions.transform.dense.bias', 'cls.predictions.transform.LayerNorm.bias']\n",
      "- This IS expected if you are initializing BertModel from the checkpoint of a model trained on another task or with another architecture (e.g. initializing a BertForSequenceClassification model from a BertForPreTraining model).\n",
      "- This IS NOT expected if you are initializing BertModel from the checkpoint of a model that you expect to be exactly identical (initializing a BertForSequenceClassification model from a BertForSequenceClassification model).\n"
     ]
    },
    {
     "name": "stdout",
     "output_type": "stream",
     "text": [
      "Model downloaded: bert-base-uncased\n",
      "training time: 0.7101980857551098\n",
      "accuracy: 28.440364837646484\n",
      "{'params': {'reservoir_dim': 1000, 'spectral_radius': 1.0, 'leaking_rate': 0.9, 'input_scaling': 1.0, 'bias_scaling': 0.0, 'sparsity': 0.0, 'activation_function': 'relu', 'alpha': 1.0}, 'accuracy': [40.36697006225586, 48.62385177612305, 43.1192626953125, 28.440364837646484], 'time': [0.7085015652701259, 0.7760724863037467, 0.7815657136961818, 0.7101980857551098]}\n"
     ]
    },
    {
     "name": "stderr",
     "output_type": "stream",
     "text": [
      "Some weights of the model checkpoint at bert-base-uncased were not used when initializing BertModel: ['cls.predictions.bias', 'cls.predictions.transform.dense.weight', 'cls.predictions.transform.LayerNorm.weight', 'cls.seq_relationship.weight', 'cls.predictions.decoder.weight', 'cls.seq_relationship.bias', 'cls.predictions.transform.dense.bias', 'cls.predictions.transform.LayerNorm.bias']\n",
      "- This IS expected if you are initializing BertModel from the checkpoint of a model trained on another task or with another architecture (e.g. initializing a BertForSequenceClassification model from a BertForPreTraining model).\n",
      "- This IS NOT expected if you are initializing BertModel from the checkpoint of a model that you expect to be exactly identical (initializing a BertForSequenceClassification model from a BertForSequenceClassification model).\n"
     ]
    },
    {
     "name": "stdout",
     "output_type": "stream",
     "text": [
      "Model downloaded: bert-base-uncased\n",
      "training time: 0.7294072257354856\n",
      "accuracy: 45.412841796875\n",
      "{'params': {'reservoir_dim': 1000, 'spectral_radius': 1.0, 'leaking_rate': 0.9, 'input_scaling': 1.0, 'bias_scaling': 0.0, 'sparsity': 0.0, 'activation_function': 'relu', 'alpha': 1.0}, 'accuracy': [40.36697006225586, 48.62385177612305, 43.1192626953125, 28.440364837646484, 45.412841796875], 'time': [0.7085015652701259, 0.7760724863037467, 0.7815657136961818, 0.7101980857551098, 0.7294072257354856]}\n"
     ]
    },
    {
     "data": {
      "application/vnd.jupyter.widget-view+json": {
       "model_id": "0ac3bdd560814464a03e7e66f211383b",
       "version_major": 2,
       "version_minor": 0
      },
      "text/plain": [
       "  0%|          | 0/5 [00:00<?, ?it/s]"
      ]
     },
     "metadata": {},
     "output_type": "display_data"
    },
    {
     "name": "stderr",
     "output_type": "stream",
     "text": [
      "Some weights of the model checkpoint at bert-base-uncased were not used when initializing BertModel: ['cls.predictions.bias', 'cls.predictions.transform.dense.weight', 'cls.predictions.transform.LayerNorm.weight', 'cls.seq_relationship.weight', 'cls.predictions.decoder.weight', 'cls.seq_relationship.bias', 'cls.predictions.transform.dense.bias', 'cls.predictions.transform.LayerNorm.bias']\n",
      "- This IS expected if you are initializing BertModel from the checkpoint of a model trained on another task or with another architecture (e.g. initializing a BertForSequenceClassification model from a BertForPreTraining model).\n",
      "- This IS NOT expected if you are initializing BertModel from the checkpoint of a model that you expect to be exactly identical (initializing a BertForSequenceClassification model from a BertForSequenceClassification model).\n"
     ]
    },
    {
     "name": "stdout",
     "output_type": "stream",
     "text": [
      "Model downloaded: bert-base-uncased\n",
      "training time: 0.7750604413449764\n",
      "accuracy: 56.42201614379883\n",
      "{'params': {'reservoir_dim': 1000, 'spectral_radius': 1.0, 'leaking_rate': 0.9, 'input_scaling': 1.0, 'bias_scaling': 0.0, 'sparsity': 0.0, 'activation_function': 'relu', 'alpha': 10.0}, 'accuracy': [56.42201614379883], 'time': [0.7750604413449764]}\n"
     ]
    },
    {
     "name": "stderr",
     "output_type": "stream",
     "text": [
      "Some weights of the model checkpoint at bert-base-uncased were not used when initializing BertModel: ['cls.predictions.bias', 'cls.predictions.transform.dense.weight', 'cls.predictions.transform.LayerNorm.weight', 'cls.seq_relationship.weight', 'cls.predictions.decoder.weight', 'cls.seq_relationship.bias', 'cls.predictions.transform.dense.bias', 'cls.predictions.transform.LayerNorm.bias']\n",
      "- This IS expected if you are initializing BertModel from the checkpoint of a model trained on another task or with another architecture (e.g. initializing a BertForSequenceClassification model from a BertForPreTraining model).\n",
      "- This IS NOT expected if you are initializing BertModel from the checkpoint of a model that you expect to be exactly identical (initializing a BertForSequenceClassification model from a BertForSequenceClassification model).\n"
     ]
    },
    {
     "name": "stdout",
     "output_type": "stream",
     "text": [
      "Model downloaded: bert-base-uncased\n",
      "training time: 0.732301308773458\n",
      "accuracy: 59.17430877685547\n",
      "{'params': {'reservoir_dim': 1000, 'spectral_radius': 1.0, 'leaking_rate': 0.9, 'input_scaling': 1.0, 'bias_scaling': 0.0, 'sparsity': 0.0, 'activation_function': 'relu', 'alpha': 10.0}, 'accuracy': [56.42201614379883, 59.17430877685547], 'time': [0.7750604413449764, 0.732301308773458]}\n"
     ]
    },
    {
     "name": "stderr",
     "output_type": "stream",
     "text": [
      "Some weights of the model checkpoint at bert-base-uncased were not used when initializing BertModel: ['cls.predictions.bias', 'cls.predictions.transform.dense.weight', 'cls.predictions.transform.LayerNorm.weight', 'cls.seq_relationship.weight', 'cls.predictions.decoder.weight', 'cls.seq_relationship.bias', 'cls.predictions.transform.dense.bias', 'cls.predictions.transform.LayerNorm.bias']\n",
      "- This IS expected if you are initializing BertModel from the checkpoint of a model trained on another task or with another architecture (e.g. initializing a BertForSequenceClassification model from a BertForPreTraining model).\n",
      "- This IS NOT expected if you are initializing BertModel from the checkpoint of a model that you expect to be exactly identical (initializing a BertForSequenceClassification model from a BertForSequenceClassification model).\n"
     ]
    },
    {
     "name": "stdout",
     "output_type": "stream",
     "text": [
      "Model downloaded: bert-base-uncased\n",
      "training time: 0.7220716020092368\n",
      "accuracy: 58.71559524536133\n",
      "{'params': {'reservoir_dim': 1000, 'spectral_radius': 1.0, 'leaking_rate': 0.9, 'input_scaling': 1.0, 'bias_scaling': 0.0, 'sparsity': 0.0, 'activation_function': 'relu', 'alpha': 10.0}, 'accuracy': [56.42201614379883, 59.17430877685547, 58.71559524536133], 'time': [0.7750604413449764, 0.732301308773458, 0.7220716020092368]}\n"
     ]
    },
    {
     "name": "stderr",
     "output_type": "stream",
     "text": [
      "Some weights of the model checkpoint at bert-base-uncased were not used when initializing BertModel: ['cls.predictions.bias', 'cls.predictions.transform.dense.weight', 'cls.predictions.transform.LayerNorm.weight', 'cls.seq_relationship.weight', 'cls.predictions.decoder.weight', 'cls.seq_relationship.bias', 'cls.predictions.transform.dense.bias', 'cls.predictions.transform.LayerNorm.bias']\n",
      "- This IS expected if you are initializing BertModel from the checkpoint of a model trained on another task or with another architecture (e.g. initializing a BertForSequenceClassification model from a BertForPreTraining model).\n",
      "- This IS NOT expected if you are initializing BertModel from the checkpoint of a model that you expect to be exactly identical (initializing a BertForSequenceClassification model from a BertForSequenceClassification model).\n"
     ]
    },
    {
     "name": "stdout",
     "output_type": "stream",
     "text": [
      "Model downloaded: bert-base-uncased\n",
      "training time: 0.7090091900900006\n",
      "accuracy: 51.37614440917969\n",
      "{'params': {'reservoir_dim': 1000, 'spectral_radius': 1.0, 'leaking_rate': 0.9, 'input_scaling': 1.0, 'bias_scaling': 0.0, 'sparsity': 0.0, 'activation_function': 'relu', 'alpha': 10.0}, 'accuracy': [56.42201614379883, 59.17430877685547, 58.71559524536133, 51.37614440917969], 'time': [0.7750604413449764, 0.732301308773458, 0.7220716020092368, 0.7090091900900006]}\n"
     ]
    },
    {
     "name": "stderr",
     "output_type": "stream",
     "text": [
      "Some weights of the model checkpoint at bert-base-uncased were not used when initializing BertModel: ['cls.predictions.bias', 'cls.predictions.transform.dense.weight', 'cls.predictions.transform.LayerNorm.weight', 'cls.seq_relationship.weight', 'cls.predictions.decoder.weight', 'cls.seq_relationship.bias', 'cls.predictions.transform.dense.bias', 'cls.predictions.transform.LayerNorm.bias']\n",
      "- This IS expected if you are initializing BertModel from the checkpoint of a model trained on another task or with another architecture (e.g. initializing a BertForSequenceClassification model from a BertForPreTraining model).\n",
      "- This IS NOT expected if you are initializing BertModel from the checkpoint of a model that you expect to be exactly identical (initializing a BertForSequenceClassification model from a BertForSequenceClassification model).\n"
     ]
    },
    {
     "name": "stdout",
     "output_type": "stream",
     "text": [
      "Model downloaded: bert-base-uncased\n",
      "training time: 0.7225303035229445\n",
      "accuracy: 61.46788787841797\n",
      "{'params': {'reservoir_dim': 1000, 'spectral_radius': 1.0, 'leaking_rate': 0.9, 'input_scaling': 1.0, 'bias_scaling': 0.0, 'sparsity': 0.0, 'activation_function': 'relu', 'alpha': 10.0}, 'accuracy': [56.42201614379883, 59.17430877685547, 58.71559524536133, 51.37614440917969, 61.46788787841797], 'time': [0.7750604413449764, 0.732301308773458, 0.7220716020092368, 0.7090091900900006, 0.7225303035229445]}\n"
     ]
    },
    {
     "data": {
      "application/vnd.jupyter.widget-view+json": {
       "model_id": "5d025548094d49b29c2ec6c4062452f7",
       "version_major": 2,
       "version_minor": 0
      },
      "text/plain": [
       "  0%|          | 0/5 [00:00<?, ?it/s]"
      ]
     },
     "metadata": {},
     "output_type": "display_data"
    },
    {
     "name": "stderr",
     "output_type": "stream",
     "text": [
      "Some weights of the model checkpoint at bert-base-uncased were not used when initializing BertModel: ['cls.predictions.bias', 'cls.predictions.transform.dense.weight', 'cls.predictions.transform.LayerNorm.weight', 'cls.seq_relationship.weight', 'cls.predictions.decoder.weight', 'cls.seq_relationship.bias', 'cls.predictions.transform.dense.bias', 'cls.predictions.transform.LayerNorm.bias']\n",
      "- This IS expected if you are initializing BertModel from the checkpoint of a model trained on another task or with another architecture (e.g. initializing a BertForSequenceClassification model from a BertForPreTraining model).\n",
      "- This IS NOT expected if you are initializing BertModel from the checkpoint of a model that you expect to be exactly identical (initializing a BertForSequenceClassification model from a BertForSequenceClassification model).\n"
     ]
    },
    {
     "name": "stdout",
     "output_type": "stream",
     "text": [
      "Model downloaded: bert-base-uncased\n",
      "training time: 0.7215317152440548\n",
      "accuracy: 18.80733871459961\n",
      "{'params': {'reservoir_dim': 1000, 'spectral_radius': 1.0, 'leaking_rate': 0.9, 'input_scaling': 1.0, 'bias_scaling': 0.0, 'sparsity': 0.99, 'activation_function': 'relu', 'alpha': 0.1}, 'accuracy': [18.80733871459961], 'time': [0.7215317152440548]}\n"
     ]
    },
    {
     "name": "stderr",
     "output_type": "stream",
     "text": [
      "Some weights of the model checkpoint at bert-base-uncased were not used when initializing BertModel: ['cls.predictions.bias', 'cls.predictions.transform.dense.weight', 'cls.predictions.transform.LayerNorm.weight', 'cls.seq_relationship.weight', 'cls.predictions.decoder.weight', 'cls.seq_relationship.bias', 'cls.predictions.transform.dense.bias', 'cls.predictions.transform.LayerNorm.bias']\n",
      "- This IS expected if you are initializing BertModel from the checkpoint of a model trained on another task or with another architecture (e.g. initializing a BertForSequenceClassification model from a BertForPreTraining model).\n",
      "- This IS NOT expected if you are initializing BertModel from the checkpoint of a model that you expect to be exactly identical (initializing a BertForSequenceClassification model from a BertForSequenceClassification model).\n"
     ]
    },
    {
     "name": "stdout",
     "output_type": "stream",
     "text": [
      "Model downloaded: bert-base-uncased\n",
      "training time: 0.7845927970483899\n",
      "accuracy: 17.889907836914062\n",
      "{'params': {'reservoir_dim': 1000, 'spectral_radius': 1.0, 'leaking_rate': 0.9, 'input_scaling': 1.0, 'bias_scaling': 0.0, 'sparsity': 0.99, 'activation_function': 'relu', 'alpha': 0.1}, 'accuracy': [18.80733871459961, 17.889907836914062], 'time': [0.7215317152440548, 0.7845927970483899]}\n"
     ]
    },
    {
     "name": "stderr",
     "output_type": "stream",
     "text": [
      "Some weights of the model checkpoint at bert-base-uncased were not used when initializing BertModel: ['cls.predictions.bias', 'cls.predictions.transform.dense.weight', 'cls.predictions.transform.LayerNorm.weight', 'cls.seq_relationship.weight', 'cls.predictions.decoder.weight', 'cls.seq_relationship.bias', 'cls.predictions.transform.dense.bias', 'cls.predictions.transform.LayerNorm.bias']\n",
      "- This IS expected if you are initializing BertModel from the checkpoint of a model trained on another task or with another architecture (e.g. initializing a BertForSequenceClassification model from a BertForPreTraining model).\n",
      "- This IS NOT expected if you are initializing BertModel from the checkpoint of a model that you expect to be exactly identical (initializing a BertForSequenceClassification model from a BertForSequenceClassification model).\n"
     ]
    },
    {
     "name": "stdout",
     "output_type": "stream",
     "text": [
      "Model downloaded: bert-base-uncased\n",
      "training time: 0.8200635816901922\n",
      "accuracy: 30.733943939208984\n",
      "{'params': {'reservoir_dim': 1000, 'spectral_radius': 1.0, 'leaking_rate': 0.9, 'input_scaling': 1.0, 'bias_scaling': 0.0, 'sparsity': 0.99, 'activation_function': 'relu', 'alpha': 0.1}, 'accuracy': [18.80733871459961, 17.889907836914062, 30.733943939208984], 'time': [0.7215317152440548, 0.7845927970483899, 0.8200635816901922]}\n"
     ]
    },
    {
     "name": "stderr",
     "output_type": "stream",
     "text": [
      "Some weights of the model checkpoint at bert-base-uncased were not used when initializing BertModel: ['cls.predictions.bias', 'cls.predictions.transform.dense.weight', 'cls.predictions.transform.LayerNorm.weight', 'cls.seq_relationship.weight', 'cls.predictions.decoder.weight', 'cls.seq_relationship.bias', 'cls.predictions.transform.dense.bias', 'cls.predictions.transform.LayerNorm.bias']\n",
      "- This IS expected if you are initializing BertModel from the checkpoint of a model trained on another task or with another architecture (e.g. initializing a BertForSequenceClassification model from a BertForPreTraining model).\n",
      "- This IS NOT expected if you are initializing BertModel from the checkpoint of a model that you expect to be exactly identical (initializing a BertForSequenceClassification model from a BertForSequenceClassification model).\n"
     ]
    },
    {
     "name": "stdout",
     "output_type": "stream",
     "text": [
      "Model downloaded: bert-base-uncased\n",
      "training time: 0.7741238186135888\n",
      "accuracy: 27.064218521118164\n",
      "{'params': {'reservoir_dim': 1000, 'spectral_radius': 1.0, 'leaking_rate': 0.9, 'input_scaling': 1.0, 'bias_scaling': 0.0, 'sparsity': 0.99, 'activation_function': 'relu', 'alpha': 0.1}, 'accuracy': [18.80733871459961, 17.889907836914062, 30.733943939208984, 27.064218521118164], 'time': [0.7215317152440548, 0.7845927970483899, 0.8200635816901922, 0.7741238186135888]}\n"
     ]
    },
    {
     "name": "stderr",
     "output_type": "stream",
     "text": [
      "Some weights of the model checkpoint at bert-base-uncased were not used when initializing BertModel: ['cls.predictions.bias', 'cls.predictions.transform.dense.weight', 'cls.predictions.transform.LayerNorm.weight', 'cls.seq_relationship.weight', 'cls.predictions.decoder.weight', 'cls.seq_relationship.bias', 'cls.predictions.transform.dense.bias', 'cls.predictions.transform.LayerNorm.bias']\n",
      "- This IS expected if you are initializing BertModel from the checkpoint of a model trained on another task or with another architecture (e.g. initializing a BertForSequenceClassification model from a BertForPreTraining model).\n",
      "- This IS NOT expected if you are initializing BertModel from the checkpoint of a model that you expect to be exactly identical (initializing a BertForSequenceClassification model from a BertForSequenceClassification model).\n"
     ]
    },
    {
     "name": "stdout",
     "output_type": "stream",
     "text": [
      "Model downloaded: bert-base-uncased\n",
      "training time: 0.7018783334642649\n",
      "accuracy: 24.770641326904297\n",
      "{'params': {'reservoir_dim': 1000, 'spectral_radius': 1.0, 'leaking_rate': 0.9, 'input_scaling': 1.0, 'bias_scaling': 0.0, 'sparsity': 0.99, 'activation_function': 'relu', 'alpha': 0.1}, 'accuracy': [18.80733871459961, 17.889907836914062, 30.733943939208984, 27.064218521118164, 24.770641326904297], 'time': [0.7215317152440548, 0.7845927970483899, 0.8200635816901922, 0.7741238186135888, 0.7018783334642649]}\n"
     ]
    },
    {
     "data": {
      "application/vnd.jupyter.widget-view+json": {
       "model_id": "d86c22b2e1b0460f8159f9cb4962070c",
       "version_major": 2,
       "version_minor": 0
      },
      "text/plain": [
       "  0%|          | 0/5 [00:00<?, ?it/s]"
      ]
     },
     "metadata": {},
     "output_type": "display_data"
    },
    {
     "name": "stderr",
     "output_type": "stream",
     "text": [
      "Some weights of the model checkpoint at bert-base-uncased were not used when initializing BertModel: ['cls.predictions.bias', 'cls.predictions.transform.dense.weight', 'cls.predictions.transform.LayerNorm.weight', 'cls.seq_relationship.weight', 'cls.predictions.decoder.weight', 'cls.seq_relationship.bias', 'cls.predictions.transform.dense.bias', 'cls.predictions.transform.LayerNorm.bias']\n",
      "- This IS expected if you are initializing BertModel from the checkpoint of a model trained on another task or with another architecture (e.g. initializing a BertForSequenceClassification model from a BertForPreTraining model).\n",
      "- This IS NOT expected if you are initializing BertModel from the checkpoint of a model that you expect to be exactly identical (initializing a BertForSequenceClassification model from a BertForSequenceClassification model).\n"
     ]
    },
    {
     "name": "stdout",
     "output_type": "stream",
     "text": [
      "Model downloaded: bert-base-uncased\n",
      "training time: 0.8400796735659242\n",
      "accuracy: 47.247703552246094\n",
      "{'params': {'reservoir_dim': 1000, 'spectral_radius': 1.0, 'leaking_rate': 0.9, 'input_scaling': 1.0, 'bias_scaling': 0.0, 'sparsity': 0.99, 'activation_function': 'relu', 'alpha': 1.0}, 'accuracy': [47.247703552246094], 'time': [0.8400796735659242]}\n"
     ]
    },
    {
     "name": "stderr",
     "output_type": "stream",
     "text": [
      "Some weights of the model checkpoint at bert-base-uncased were not used when initializing BertModel: ['cls.predictions.bias', 'cls.predictions.transform.dense.weight', 'cls.predictions.transform.LayerNorm.weight', 'cls.seq_relationship.weight', 'cls.predictions.decoder.weight', 'cls.seq_relationship.bias', 'cls.predictions.transform.dense.bias', 'cls.predictions.transform.LayerNorm.bias']\n",
      "- This IS expected if you are initializing BertModel from the checkpoint of a model trained on another task or with another architecture (e.g. initializing a BertForSequenceClassification model from a BertForPreTraining model).\n",
      "- This IS NOT expected if you are initializing BertModel from the checkpoint of a model that you expect to be exactly identical (initializing a BertForSequenceClassification model from a BertForSequenceClassification model).\n"
     ]
    },
    {
     "name": "stdout",
     "output_type": "stream",
     "text": [
      "Model downloaded: bert-base-uncased\n",
      "training time: 0.7120823208242655\n",
      "accuracy: 43.1192626953125\n",
      "{'params': {'reservoir_dim': 1000, 'spectral_radius': 1.0, 'leaking_rate': 0.9, 'input_scaling': 1.0, 'bias_scaling': 0.0, 'sparsity': 0.99, 'activation_function': 'relu', 'alpha': 1.0}, 'accuracy': [47.247703552246094, 43.1192626953125], 'time': [0.8400796735659242, 0.7120823208242655]}\n"
     ]
    },
    {
     "name": "stderr",
     "output_type": "stream",
     "text": [
      "Some weights of the model checkpoint at bert-base-uncased were not used when initializing BertModel: ['cls.predictions.bias', 'cls.predictions.transform.dense.weight', 'cls.predictions.transform.LayerNorm.weight', 'cls.seq_relationship.weight', 'cls.predictions.decoder.weight', 'cls.seq_relationship.bias', 'cls.predictions.transform.dense.bias', 'cls.predictions.transform.LayerNorm.bias']\n",
      "- This IS expected if you are initializing BertModel from the checkpoint of a model trained on another task or with another architecture (e.g. initializing a BertForSequenceClassification model from a BertForPreTraining model).\n",
      "- This IS NOT expected if you are initializing BertModel from the checkpoint of a model that you expect to be exactly identical (initializing a BertForSequenceClassification model from a BertForSequenceClassification model).\n"
     ]
    },
    {
     "name": "stdout",
     "output_type": "stream",
     "text": [
      "Model downloaded: bert-base-uncased\n",
      "training time: 0.7609143173322082\n",
      "accuracy: 51.834861755371094\n",
      "{'params': {'reservoir_dim': 1000, 'spectral_radius': 1.0, 'leaking_rate': 0.9, 'input_scaling': 1.0, 'bias_scaling': 0.0, 'sparsity': 0.99, 'activation_function': 'relu', 'alpha': 1.0}, 'accuracy': [47.247703552246094, 43.1192626953125, 51.834861755371094], 'time': [0.8400796735659242, 0.7120823208242655, 0.7609143173322082]}\n"
     ]
    },
    {
     "name": "stderr",
     "output_type": "stream",
     "text": [
      "Some weights of the model checkpoint at bert-base-uncased were not used when initializing BertModel: ['cls.predictions.bias', 'cls.predictions.transform.dense.weight', 'cls.predictions.transform.LayerNorm.weight', 'cls.seq_relationship.weight', 'cls.predictions.decoder.weight', 'cls.seq_relationship.bias', 'cls.predictions.transform.dense.bias', 'cls.predictions.transform.LayerNorm.bias']\n",
      "- This IS expected if you are initializing BertModel from the checkpoint of a model trained on another task or with another architecture (e.g. initializing a BertForSequenceClassification model from a BertForPreTraining model).\n",
      "- This IS NOT expected if you are initializing BertModel from the checkpoint of a model that you expect to be exactly identical (initializing a BertForSequenceClassification model from a BertForSequenceClassification model).\n"
     ]
    },
    {
     "name": "stdout",
     "output_type": "stream",
     "text": [
      "Model downloaded: bert-base-uncased\n",
      "training time: 0.8003588579595089\n",
      "accuracy: 40.825687408447266\n",
      "{'params': {'reservoir_dim': 1000, 'spectral_radius': 1.0, 'leaking_rate': 0.9, 'input_scaling': 1.0, 'bias_scaling': 0.0, 'sparsity': 0.99, 'activation_function': 'relu', 'alpha': 1.0}, 'accuracy': [47.247703552246094, 43.1192626953125, 51.834861755371094, 40.825687408447266], 'time': [0.8400796735659242, 0.7120823208242655, 0.7609143173322082, 0.8003588579595089]}\n"
     ]
    },
    {
     "name": "stderr",
     "output_type": "stream",
     "text": [
      "Some weights of the model checkpoint at bert-base-uncased were not used when initializing BertModel: ['cls.predictions.bias', 'cls.predictions.transform.dense.weight', 'cls.predictions.transform.LayerNorm.weight', 'cls.seq_relationship.weight', 'cls.predictions.decoder.weight', 'cls.seq_relationship.bias', 'cls.predictions.transform.dense.bias', 'cls.predictions.transform.LayerNorm.bias']\n",
      "- This IS expected if you are initializing BertModel from the checkpoint of a model trained on another task or with another architecture (e.g. initializing a BertForSequenceClassification model from a BertForPreTraining model).\n",
      "- This IS NOT expected if you are initializing BertModel from the checkpoint of a model that you expect to be exactly identical (initializing a BertForSequenceClassification model from a BertForSequenceClassification model).\n"
     ]
    },
    {
     "name": "stdout",
     "output_type": "stream",
     "text": [
      "Model downloaded: bert-base-uncased\n",
      "training time: 0.7599322469905019\n",
      "accuracy: 49.541282653808594\n",
      "{'params': {'reservoir_dim': 1000, 'spectral_radius': 1.0, 'leaking_rate': 0.9, 'input_scaling': 1.0, 'bias_scaling': 0.0, 'sparsity': 0.99, 'activation_function': 'relu', 'alpha': 1.0}, 'accuracy': [47.247703552246094, 43.1192626953125, 51.834861755371094, 40.825687408447266, 49.541282653808594], 'time': [0.8400796735659242, 0.7120823208242655, 0.7609143173322082, 0.8003588579595089, 0.7599322469905019]}\n"
     ]
    },
    {
     "data": {
      "application/vnd.jupyter.widget-view+json": {
       "model_id": "d69c1dced4db4013b7a59c8bde72b9e6",
       "version_major": 2,
       "version_minor": 0
      },
      "text/plain": [
       "  0%|          | 0/5 [00:00<?, ?it/s]"
      ]
     },
     "metadata": {},
     "output_type": "display_data"
    },
    {
     "name": "stderr",
     "output_type": "stream",
     "text": [
      "Some weights of the model checkpoint at bert-base-uncased were not used when initializing BertModel: ['cls.predictions.bias', 'cls.predictions.transform.dense.weight', 'cls.predictions.transform.LayerNorm.weight', 'cls.seq_relationship.weight', 'cls.predictions.decoder.weight', 'cls.seq_relationship.bias', 'cls.predictions.transform.dense.bias', 'cls.predictions.transform.LayerNorm.bias']\n",
      "- This IS expected if you are initializing BertModel from the checkpoint of a model trained on another task or with another architecture (e.g. initializing a BertForSequenceClassification model from a BertForPreTraining model).\n",
      "- This IS NOT expected if you are initializing BertModel from the checkpoint of a model that you expect to be exactly identical (initializing a BertForSequenceClassification model from a BertForSequenceClassification model).\n"
     ]
    },
    {
     "name": "stdout",
     "output_type": "stream",
     "text": [
      "Model downloaded: bert-base-uncased\n",
      "training time: 0.7914504176005721\n",
      "accuracy: 65.13761138916016\n",
      "{'params': {'reservoir_dim': 1000, 'spectral_radius': 1.0, 'leaking_rate': 0.9, 'input_scaling': 1.0, 'bias_scaling': 0.0, 'sparsity': 0.99, 'activation_function': 'relu', 'alpha': 10.0}, 'accuracy': [65.13761138916016], 'time': [0.7914504176005721]}\n"
     ]
    },
    {
     "name": "stderr",
     "output_type": "stream",
     "text": [
      "Some weights of the model checkpoint at bert-base-uncased were not used when initializing BertModel: ['cls.predictions.bias', 'cls.predictions.transform.dense.weight', 'cls.predictions.transform.LayerNorm.weight', 'cls.seq_relationship.weight', 'cls.predictions.decoder.weight', 'cls.seq_relationship.bias', 'cls.predictions.transform.dense.bias', 'cls.predictions.transform.LayerNorm.bias']\n",
      "- This IS expected if you are initializing BertModel from the checkpoint of a model trained on another task or with another architecture (e.g. initializing a BertForSequenceClassification model from a BertForPreTraining model).\n",
      "- This IS NOT expected if you are initializing BertModel from the checkpoint of a model that you expect to be exactly identical (initializing a BertForSequenceClassification model from a BertForSequenceClassification model).\n"
     ]
    },
    {
     "name": "stdout",
     "output_type": "stream",
     "text": [
      "Model downloaded: bert-base-uncased\n",
      "training time: 0.7917832788079977\n",
      "accuracy: 56.42201614379883\n",
      "{'params': {'reservoir_dim': 1000, 'spectral_radius': 1.0, 'leaking_rate': 0.9, 'input_scaling': 1.0, 'bias_scaling': 0.0, 'sparsity': 0.99, 'activation_function': 'relu', 'alpha': 10.0}, 'accuracy': [65.13761138916016, 56.42201614379883], 'time': [0.7914504176005721, 0.7917832788079977]}\n"
     ]
    },
    {
     "name": "stderr",
     "output_type": "stream",
     "text": [
      "Some weights of the model checkpoint at bert-base-uncased were not used when initializing BertModel: ['cls.predictions.bias', 'cls.predictions.transform.dense.weight', 'cls.predictions.transform.LayerNorm.weight', 'cls.seq_relationship.weight', 'cls.predictions.decoder.weight', 'cls.seq_relationship.bias', 'cls.predictions.transform.dense.bias', 'cls.predictions.transform.LayerNorm.bias']\n",
      "- This IS expected if you are initializing BertModel from the checkpoint of a model trained on another task or with another architecture (e.g. initializing a BertForSequenceClassification model from a BertForPreTraining model).\n",
      "- This IS NOT expected if you are initializing BertModel from the checkpoint of a model that you expect to be exactly identical (initializing a BertForSequenceClassification model from a BertForSequenceClassification model).\n"
     ]
    },
    {
     "name": "stdout",
     "output_type": "stream",
     "text": [
      "Model downloaded: bert-base-uncased\n",
      "training time: 0.7789273802191019\n",
      "accuracy: 54.12843704223633\n",
      "{'params': {'reservoir_dim': 1000, 'spectral_radius': 1.0, 'leaking_rate': 0.9, 'input_scaling': 1.0, 'bias_scaling': 0.0, 'sparsity': 0.99, 'activation_function': 'relu', 'alpha': 10.0}, 'accuracy': [65.13761138916016, 56.42201614379883, 54.12843704223633], 'time': [0.7914504176005721, 0.7917832788079977, 0.7789273802191019]}\n"
     ]
    },
    {
     "name": "stderr",
     "output_type": "stream",
     "text": [
      "Some weights of the model checkpoint at bert-base-uncased were not used when initializing BertModel: ['cls.predictions.bias', 'cls.predictions.transform.dense.weight', 'cls.predictions.transform.LayerNorm.weight', 'cls.seq_relationship.weight', 'cls.predictions.decoder.weight', 'cls.seq_relationship.bias', 'cls.predictions.transform.dense.bias', 'cls.predictions.transform.LayerNorm.bias']\n",
      "- This IS expected if you are initializing BertModel from the checkpoint of a model trained on another task or with another architecture (e.g. initializing a BertForSequenceClassification model from a BertForPreTraining model).\n",
      "- This IS NOT expected if you are initializing BertModel from the checkpoint of a model that you expect to be exactly identical (initializing a BertForSequenceClassification model from a BertForSequenceClassification model).\n"
     ]
    },
    {
     "name": "stdout",
     "output_type": "stream",
     "text": [
      "Model downloaded: bert-base-uncased\n",
      "training time: 0.7056914167478681\n",
      "accuracy: 55.50458526611328\n",
      "{'params': {'reservoir_dim': 1000, 'spectral_radius': 1.0, 'leaking_rate': 0.9, 'input_scaling': 1.0, 'bias_scaling': 0.0, 'sparsity': 0.99, 'activation_function': 'relu', 'alpha': 10.0}, 'accuracy': [65.13761138916016, 56.42201614379883, 54.12843704223633, 55.50458526611328], 'time': [0.7914504176005721, 0.7917832788079977, 0.7789273802191019, 0.7056914167478681]}\n"
     ]
    },
    {
     "name": "stderr",
     "output_type": "stream",
     "text": [
      "Some weights of the model checkpoint at bert-base-uncased were not used when initializing BertModel: ['cls.predictions.bias', 'cls.predictions.transform.dense.weight', 'cls.predictions.transform.LayerNorm.weight', 'cls.seq_relationship.weight', 'cls.predictions.decoder.weight', 'cls.seq_relationship.bias', 'cls.predictions.transform.dense.bias', 'cls.predictions.transform.LayerNorm.bias']\n",
      "- This IS expected if you are initializing BertModel from the checkpoint of a model trained on another task or with another architecture (e.g. initializing a BertForSequenceClassification model from a BertForPreTraining model).\n",
      "- This IS NOT expected if you are initializing BertModel from the checkpoint of a model that you expect to be exactly identical (initializing a BertForSequenceClassification model from a BertForSequenceClassification model).\n"
     ]
    },
    {
     "name": "stdout",
     "output_type": "stream",
     "text": [
      "Model downloaded: bert-base-uncased\n",
      "training time: 0.8628309927880764\n",
      "accuracy: 60.091739654541016\n",
      "{'params': {'reservoir_dim': 1000, 'spectral_radius': 1.0, 'leaking_rate': 0.9, 'input_scaling': 1.0, 'bias_scaling': 0.0, 'sparsity': 0.99, 'activation_function': 'relu', 'alpha': 10.0}, 'accuracy': [65.13761138916016, 56.42201614379883, 54.12843704223633, 55.50458526611328, 60.091739654541016], 'time': [0.7914504176005721, 0.7917832788079977, 0.7789273802191019, 0.7056914167478681, 0.8628309927880764]}\n"
     ]
    },
    {
     "data": {
      "application/vnd.jupyter.widget-view+json": {
       "model_id": "229f8e3c7d7e473ca3dd72ebd9c2bed4",
       "version_major": 2,
       "version_minor": 0
      },
      "text/plain": [
       "  0%|          | 0/5 [00:00<?, ?it/s]"
      ]
     },
     "metadata": {},
     "output_type": "display_data"
    },
    {
     "name": "stderr",
     "output_type": "stream",
     "text": [
      "Some weights of the model checkpoint at bert-base-uncased were not used when initializing BertModel: ['cls.predictions.bias', 'cls.predictions.transform.dense.weight', 'cls.predictions.transform.LayerNorm.weight', 'cls.seq_relationship.weight', 'cls.predictions.decoder.weight', 'cls.seq_relationship.bias', 'cls.predictions.transform.dense.bias', 'cls.predictions.transform.LayerNorm.bias']\n",
      "- This IS expected if you are initializing BertModel from the checkpoint of a model trained on another task or with another architecture (e.g. initializing a BertForSequenceClassification model from a BertForPreTraining model).\n",
      "- This IS NOT expected if you are initializing BertModel from the checkpoint of a model that you expect to be exactly identical (initializing a BertForSequenceClassification model from a BertForSequenceClassification model).\n"
     ]
    },
    {
     "name": "stdout",
     "output_type": "stream",
     "text": [
      "Model downloaded: bert-base-uncased\n",
      "training time: 0.7462826734408736\n",
      "accuracy: 71.10091400146484\n",
      "{'params': {'reservoir_dim': 1000, 'spectral_radius': 1.5, 'leaking_rate': 0.1, 'input_scaling': 0.1, 'bias_scaling': 0.0, 'sparsity': 0.0, 'activation_function': 'relu', 'alpha': 0.1}, 'accuracy': [71.10091400146484], 'time': [0.7462826734408736]}\n"
     ]
    },
    {
     "name": "stderr",
     "output_type": "stream",
     "text": [
      "Some weights of the model checkpoint at bert-base-uncased were not used when initializing BertModel: ['cls.predictions.bias', 'cls.predictions.transform.dense.weight', 'cls.predictions.transform.LayerNorm.weight', 'cls.seq_relationship.weight', 'cls.predictions.decoder.weight', 'cls.seq_relationship.bias', 'cls.predictions.transform.dense.bias', 'cls.predictions.transform.LayerNorm.bias']\n",
      "- This IS expected if you are initializing BertModel from the checkpoint of a model trained on another task or with another architecture (e.g. initializing a BertForSequenceClassification model from a BertForPreTraining model).\n",
      "- This IS NOT expected if you are initializing BertModel from the checkpoint of a model that you expect to be exactly identical (initializing a BertForSequenceClassification model from a BertForSequenceClassification model).\n"
     ]
    },
    {
     "name": "stdout",
     "output_type": "stream",
     "text": [
      "Model downloaded: bert-base-uncased\n",
      "training time: 0.6992839220911264\n",
      "accuracy: 72.93577575683594\n",
      "{'params': {'reservoir_dim': 1000, 'spectral_radius': 1.5, 'leaking_rate': 0.1, 'input_scaling': 0.1, 'bias_scaling': 0.0, 'sparsity': 0.0, 'activation_function': 'relu', 'alpha': 0.1}, 'accuracy': [71.10091400146484, 72.93577575683594], 'time': [0.7462826734408736, 0.6992839220911264]}\n"
     ]
    },
    {
     "name": "stderr",
     "output_type": "stream",
     "text": [
      "Some weights of the model checkpoint at bert-base-uncased were not used when initializing BertModel: ['cls.predictions.bias', 'cls.predictions.transform.dense.weight', 'cls.predictions.transform.LayerNorm.weight', 'cls.seq_relationship.weight', 'cls.predictions.decoder.weight', 'cls.seq_relationship.bias', 'cls.predictions.transform.dense.bias', 'cls.predictions.transform.LayerNorm.bias']\n",
      "- This IS expected if you are initializing BertModel from the checkpoint of a model trained on another task or with another architecture (e.g. initializing a BertForSequenceClassification model from a BertForPreTraining model).\n",
      "- This IS NOT expected if you are initializing BertModel from the checkpoint of a model that you expect to be exactly identical (initializing a BertForSequenceClassification model from a BertForSequenceClassification model).\n"
     ]
    },
    {
     "name": "stdout",
     "output_type": "stream",
     "text": [
      "Model downloaded: bert-base-uncased\n",
      "training time: 0.7646783199161291\n",
      "accuracy: 69.72476959228516\n",
      "{'params': {'reservoir_dim': 1000, 'spectral_radius': 1.5, 'leaking_rate': 0.1, 'input_scaling': 0.1, 'bias_scaling': 0.0, 'sparsity': 0.0, 'activation_function': 'relu', 'alpha': 0.1}, 'accuracy': [71.10091400146484, 72.93577575683594, 69.72476959228516], 'time': [0.7462826734408736, 0.6992839220911264, 0.7646783199161291]}\n"
     ]
    },
    {
     "name": "stderr",
     "output_type": "stream",
     "text": [
      "Some weights of the model checkpoint at bert-base-uncased were not used when initializing BertModel: ['cls.predictions.bias', 'cls.predictions.transform.dense.weight', 'cls.predictions.transform.LayerNorm.weight', 'cls.seq_relationship.weight', 'cls.predictions.decoder.weight', 'cls.seq_relationship.bias', 'cls.predictions.transform.dense.bias', 'cls.predictions.transform.LayerNorm.bias']\n",
      "- This IS expected if you are initializing BertModel from the checkpoint of a model trained on another task or with another architecture (e.g. initializing a BertForSequenceClassification model from a BertForPreTraining model).\n",
      "- This IS NOT expected if you are initializing BertModel from the checkpoint of a model that you expect to be exactly identical (initializing a BertForSequenceClassification model from a BertForSequenceClassification model).\n"
     ]
    },
    {
     "name": "stdout",
     "output_type": "stream",
     "text": [
      "Model downloaded: bert-base-uncased\n",
      "training time: 0.7820491092279553\n",
      "accuracy: 75.68807220458984\n",
      "{'params': {'reservoir_dim': 1000, 'spectral_radius': 1.5, 'leaking_rate': 0.1, 'input_scaling': 0.1, 'bias_scaling': 0.0, 'sparsity': 0.0, 'activation_function': 'relu', 'alpha': 0.1}, 'accuracy': [71.10091400146484, 72.93577575683594, 69.72476959228516, 75.68807220458984], 'time': [0.7462826734408736, 0.6992839220911264, 0.7646783199161291, 0.7820491092279553]}\n"
     ]
    },
    {
     "name": "stderr",
     "output_type": "stream",
     "text": [
      "Some weights of the model checkpoint at bert-base-uncased were not used when initializing BertModel: ['cls.predictions.bias', 'cls.predictions.transform.dense.weight', 'cls.predictions.transform.LayerNorm.weight', 'cls.seq_relationship.weight', 'cls.predictions.decoder.weight', 'cls.seq_relationship.bias', 'cls.predictions.transform.dense.bias', 'cls.predictions.transform.LayerNorm.bias']\n",
      "- This IS expected if you are initializing BertModel from the checkpoint of a model trained on another task or with another architecture (e.g. initializing a BertForSequenceClassification model from a BertForPreTraining model).\n",
      "- This IS NOT expected if you are initializing BertModel from the checkpoint of a model that you expect to be exactly identical (initializing a BertForSequenceClassification model from a BertForSequenceClassification model).\n"
     ]
    },
    {
     "name": "stdout",
     "output_type": "stream",
     "text": [
      "Model downloaded: bert-base-uncased\n",
      "training time: 0.8088662791997194\n",
      "accuracy: 74.31192016601562\n",
      "{'params': {'reservoir_dim': 1000, 'spectral_radius': 1.5, 'leaking_rate': 0.1, 'input_scaling': 0.1, 'bias_scaling': 0.0, 'sparsity': 0.0, 'activation_function': 'relu', 'alpha': 0.1}, 'accuracy': [71.10091400146484, 72.93577575683594, 69.72476959228516, 75.68807220458984, 74.31192016601562], 'time': [0.7462826734408736, 0.6992839220911264, 0.7646783199161291, 0.7820491092279553, 0.8088662791997194]}\n"
     ]
    },
    {
     "data": {
      "application/vnd.jupyter.widget-view+json": {
       "model_id": "10800a890586469eaf2f042cc7ef20be",
       "version_major": 2,
       "version_minor": 0
      },
      "text/plain": [
       "  0%|          | 0/5 [00:00<?, ?it/s]"
      ]
     },
     "metadata": {},
     "output_type": "display_data"
    },
    {
     "name": "stderr",
     "output_type": "stream",
     "text": [
      "Some weights of the model checkpoint at bert-base-uncased were not used when initializing BertModel: ['cls.predictions.bias', 'cls.predictions.transform.dense.weight', 'cls.predictions.transform.LayerNorm.weight', 'cls.seq_relationship.weight', 'cls.predictions.decoder.weight', 'cls.seq_relationship.bias', 'cls.predictions.transform.dense.bias', 'cls.predictions.transform.LayerNorm.bias']\n",
      "- This IS expected if you are initializing BertModel from the checkpoint of a model trained on another task or with another architecture (e.g. initializing a BertForSequenceClassification model from a BertForPreTraining model).\n",
      "- This IS NOT expected if you are initializing BertModel from the checkpoint of a model that you expect to be exactly identical (initializing a BertForSequenceClassification model from a BertForSequenceClassification model).\n"
     ]
    },
    {
     "name": "stdout",
     "output_type": "stream",
     "text": [
      "Model downloaded: bert-base-uncased\n",
      "training time: 0.7398515697568655\n",
      "accuracy: 79.35779571533203\n",
      "{'params': {'reservoir_dim': 1000, 'spectral_radius': 1.5, 'leaking_rate': 0.1, 'input_scaling': 0.1, 'bias_scaling': 0.0, 'sparsity': 0.0, 'activation_function': 'relu', 'alpha': 1.0}, 'accuracy': [79.35779571533203], 'time': [0.7398515697568655]}\n"
     ]
    },
    {
     "name": "stderr",
     "output_type": "stream",
     "text": [
      "Some weights of the model checkpoint at bert-base-uncased were not used when initializing BertModel: ['cls.predictions.bias', 'cls.predictions.transform.dense.weight', 'cls.predictions.transform.LayerNorm.weight', 'cls.seq_relationship.weight', 'cls.predictions.decoder.weight', 'cls.seq_relationship.bias', 'cls.predictions.transform.dense.bias', 'cls.predictions.transform.LayerNorm.bias']\n",
      "- This IS expected if you are initializing BertModel from the checkpoint of a model trained on another task or with another architecture (e.g. initializing a BertForSequenceClassification model from a BertForPreTraining model).\n",
      "- This IS NOT expected if you are initializing BertModel from the checkpoint of a model that you expect to be exactly identical (initializing a BertForSequenceClassification model from a BertForSequenceClassification model).\n"
     ]
    },
    {
     "name": "stdout",
     "output_type": "stream",
     "text": [
      "Model downloaded: bert-base-uncased\n",
      "training time: 0.6864211428910494\n",
      "accuracy: 75.68807220458984\n",
      "{'params': {'reservoir_dim': 1000, 'spectral_radius': 1.5, 'leaking_rate': 0.1, 'input_scaling': 0.1, 'bias_scaling': 0.0, 'sparsity': 0.0, 'activation_function': 'relu', 'alpha': 1.0}, 'accuracy': [79.35779571533203, 75.68807220458984], 'time': [0.7398515697568655, 0.6864211428910494]}\n"
     ]
    },
    {
     "name": "stderr",
     "output_type": "stream",
     "text": [
      "Some weights of the model checkpoint at bert-base-uncased were not used when initializing BertModel: ['cls.predictions.bias', 'cls.predictions.transform.dense.weight', 'cls.predictions.transform.LayerNorm.weight', 'cls.seq_relationship.weight', 'cls.predictions.decoder.weight', 'cls.seq_relationship.bias', 'cls.predictions.transform.dense.bias', 'cls.predictions.transform.LayerNorm.bias']\n",
      "- This IS expected if you are initializing BertModel from the checkpoint of a model trained on another task or with another architecture (e.g. initializing a BertForSequenceClassification model from a BertForPreTraining model).\n",
      "- This IS NOT expected if you are initializing BertModel from the checkpoint of a model that you expect to be exactly identical (initializing a BertForSequenceClassification model from a BertForSequenceClassification model).\n"
     ]
    },
    {
     "name": "stdout",
     "output_type": "stream",
     "text": [
      "Model downloaded: bert-base-uncased\n",
      "training time: 0.6811584439128637\n",
      "accuracy: 77.98165130615234\n",
      "{'params': {'reservoir_dim': 1000, 'spectral_radius': 1.5, 'leaking_rate': 0.1, 'input_scaling': 0.1, 'bias_scaling': 0.0, 'sparsity': 0.0, 'activation_function': 'relu', 'alpha': 1.0}, 'accuracy': [79.35779571533203, 75.68807220458984, 77.98165130615234], 'time': [0.7398515697568655, 0.6864211428910494, 0.6811584439128637]}\n"
     ]
    },
    {
     "name": "stderr",
     "output_type": "stream",
     "text": [
      "Some weights of the model checkpoint at bert-base-uncased were not used when initializing BertModel: ['cls.predictions.bias', 'cls.predictions.transform.dense.weight', 'cls.predictions.transform.LayerNorm.weight', 'cls.seq_relationship.weight', 'cls.predictions.decoder.weight', 'cls.seq_relationship.bias', 'cls.predictions.transform.dense.bias', 'cls.predictions.transform.LayerNorm.bias']\n",
      "- This IS expected if you are initializing BertModel from the checkpoint of a model trained on another task or with another architecture (e.g. initializing a BertForSequenceClassification model from a BertForPreTraining model).\n",
      "- This IS NOT expected if you are initializing BertModel from the checkpoint of a model that you expect to be exactly identical (initializing a BertForSequenceClassification model from a BertForSequenceClassification model).\n"
     ]
    },
    {
     "name": "stdout",
     "output_type": "stream",
     "text": [
      "Model downloaded: bert-base-uncased\n",
      "training time: 0.7588078565895557\n",
      "accuracy: 79.35779571533203\n",
      "{'params': {'reservoir_dim': 1000, 'spectral_radius': 1.5, 'leaking_rate': 0.1, 'input_scaling': 0.1, 'bias_scaling': 0.0, 'sparsity': 0.0, 'activation_function': 'relu', 'alpha': 1.0}, 'accuracy': [79.35779571533203, 75.68807220458984, 77.98165130615234, 79.35779571533203], 'time': [0.7398515697568655, 0.6864211428910494, 0.6811584439128637, 0.7588078565895557]}\n"
     ]
    },
    {
     "name": "stderr",
     "output_type": "stream",
     "text": [
      "Some weights of the model checkpoint at bert-base-uncased were not used when initializing BertModel: ['cls.predictions.bias', 'cls.predictions.transform.dense.weight', 'cls.predictions.transform.LayerNorm.weight', 'cls.seq_relationship.weight', 'cls.predictions.decoder.weight', 'cls.seq_relationship.bias', 'cls.predictions.transform.dense.bias', 'cls.predictions.transform.LayerNorm.bias']\n",
      "- This IS expected if you are initializing BertModel from the checkpoint of a model trained on another task or with another architecture (e.g. initializing a BertForSequenceClassification model from a BertForPreTraining model).\n",
      "- This IS NOT expected if you are initializing BertModel from the checkpoint of a model that you expect to be exactly identical (initializing a BertForSequenceClassification model from a BertForSequenceClassification model).\n"
     ]
    },
    {
     "name": "stdout",
     "output_type": "stream",
     "text": [
      "Model downloaded: bert-base-uncased\n",
      "training time: 0.7651811661198735\n",
      "accuracy: 78.44036102294922\n",
      "{'params': {'reservoir_dim': 1000, 'spectral_radius': 1.5, 'leaking_rate': 0.1, 'input_scaling': 0.1, 'bias_scaling': 0.0, 'sparsity': 0.0, 'activation_function': 'relu', 'alpha': 1.0}, 'accuracy': [79.35779571533203, 75.68807220458984, 77.98165130615234, 79.35779571533203, 78.44036102294922], 'time': [0.7398515697568655, 0.6864211428910494, 0.6811584439128637, 0.7588078565895557, 0.7651811661198735]}\n"
     ]
    },
    {
     "data": {
      "application/vnd.jupyter.widget-view+json": {
       "model_id": "26caad22fe264f9aaa09be6ae6dd15b4",
       "version_major": 2,
       "version_minor": 0
      },
      "text/plain": [
       "  0%|          | 0/5 [00:00<?, ?it/s]"
      ]
     },
     "metadata": {},
     "output_type": "display_data"
    },
    {
     "name": "stderr",
     "output_type": "stream",
     "text": [
      "Some weights of the model checkpoint at bert-base-uncased were not used when initializing BertModel: ['cls.predictions.bias', 'cls.predictions.transform.dense.weight', 'cls.predictions.transform.LayerNorm.weight', 'cls.seq_relationship.weight', 'cls.predictions.decoder.weight', 'cls.seq_relationship.bias', 'cls.predictions.transform.dense.bias', 'cls.predictions.transform.LayerNorm.bias']\n",
      "- This IS expected if you are initializing BertModel from the checkpoint of a model trained on another task or with another architecture (e.g. initializing a BertForSequenceClassification model from a BertForPreTraining model).\n",
      "- This IS NOT expected if you are initializing BertModel from the checkpoint of a model that you expect to be exactly identical (initializing a BertForSequenceClassification model from a BertForSequenceClassification model).\n"
     ]
    },
    {
     "name": "stdout",
     "output_type": "stream",
     "text": [
      "Model downloaded: bert-base-uncased\n",
      "training time: 0.7185257421806455\n",
      "accuracy: 82.1100845336914\n",
      "{'params': {'reservoir_dim': 1000, 'spectral_radius': 1.5, 'leaking_rate': 0.1, 'input_scaling': 0.1, 'bias_scaling': 0.0, 'sparsity': 0.0, 'activation_function': 'relu', 'alpha': 10.0}, 'accuracy': [82.1100845336914], 'time': [0.7185257421806455]}\n"
     ]
    },
    {
     "name": "stderr",
     "output_type": "stream",
     "text": [
      "Some weights of the model checkpoint at bert-base-uncased were not used when initializing BertModel: ['cls.predictions.bias', 'cls.predictions.transform.dense.weight', 'cls.predictions.transform.LayerNorm.weight', 'cls.seq_relationship.weight', 'cls.predictions.decoder.weight', 'cls.seq_relationship.bias', 'cls.predictions.transform.dense.bias', 'cls.predictions.transform.LayerNorm.bias']\n",
      "- This IS expected if you are initializing BertModel from the checkpoint of a model trained on another task or with another architecture (e.g. initializing a BertForSequenceClassification model from a BertForPreTraining model).\n",
      "- This IS NOT expected if you are initializing BertModel from the checkpoint of a model that you expect to be exactly identical (initializing a BertForSequenceClassification model from a BertForSequenceClassification model).\n"
     ]
    },
    {
     "name": "stdout",
     "output_type": "stream",
     "text": [
      "Model downloaded: bert-base-uncased\n",
      "training time: 0.776821231469512\n",
      "accuracy: 80.73394012451172\n",
      "{'params': {'reservoir_dim': 1000, 'spectral_radius': 1.5, 'leaking_rate': 0.1, 'input_scaling': 0.1, 'bias_scaling': 0.0, 'sparsity': 0.0, 'activation_function': 'relu', 'alpha': 10.0}, 'accuracy': [82.1100845336914, 80.73394012451172], 'time': [0.7185257421806455, 0.776821231469512]}\n"
     ]
    },
    {
     "name": "stderr",
     "output_type": "stream",
     "text": [
      "Some weights of the model checkpoint at bert-base-uncased were not used when initializing BertModel: ['cls.predictions.bias', 'cls.predictions.transform.dense.weight', 'cls.predictions.transform.LayerNorm.weight', 'cls.seq_relationship.weight', 'cls.predictions.decoder.weight', 'cls.seq_relationship.bias', 'cls.predictions.transform.dense.bias', 'cls.predictions.transform.LayerNorm.bias']\n",
      "- This IS expected if you are initializing BertModel from the checkpoint of a model trained on another task or with another architecture (e.g. initializing a BertForSequenceClassification model from a BertForPreTraining model).\n",
      "- This IS NOT expected if you are initializing BertModel from the checkpoint of a model that you expect to be exactly identical (initializing a BertForSequenceClassification model from a BertForSequenceClassification model).\n"
     ]
    },
    {
     "name": "stdout",
     "output_type": "stream",
     "text": [
      "Model downloaded: bert-base-uncased\n",
      "training time: 0.6976365083828568\n",
      "accuracy: 80.73394012451172\n",
      "{'params': {'reservoir_dim': 1000, 'spectral_radius': 1.5, 'leaking_rate': 0.1, 'input_scaling': 0.1, 'bias_scaling': 0.0, 'sparsity': 0.0, 'activation_function': 'relu', 'alpha': 10.0}, 'accuracy': [82.1100845336914, 80.73394012451172, 80.73394012451172], 'time': [0.7185257421806455, 0.776821231469512, 0.6976365083828568]}\n"
     ]
    },
    {
     "name": "stderr",
     "output_type": "stream",
     "text": [
      "Some weights of the model checkpoint at bert-base-uncased were not used when initializing BertModel: ['cls.predictions.bias', 'cls.predictions.transform.dense.weight', 'cls.predictions.transform.LayerNorm.weight', 'cls.seq_relationship.weight', 'cls.predictions.decoder.weight', 'cls.seq_relationship.bias', 'cls.predictions.transform.dense.bias', 'cls.predictions.transform.LayerNorm.bias']\n",
      "- This IS expected if you are initializing BertModel from the checkpoint of a model trained on another task or with another architecture (e.g. initializing a BertForSequenceClassification model from a BertForPreTraining model).\n",
      "- This IS NOT expected if you are initializing BertModel from the checkpoint of a model that you expect to be exactly identical (initializing a BertForSequenceClassification model from a BertForSequenceClassification model).\n"
     ]
    },
    {
     "name": "stdout",
     "output_type": "stream",
     "text": [
      "Model downloaded: bert-base-uncased\n",
      "training time: 0.7799787418916821\n",
      "accuracy: 82.56880187988281\n",
      "{'params': {'reservoir_dim': 1000, 'spectral_radius': 1.5, 'leaking_rate': 0.1, 'input_scaling': 0.1, 'bias_scaling': 0.0, 'sparsity': 0.0, 'activation_function': 'relu', 'alpha': 10.0}, 'accuracy': [82.1100845336914, 80.73394012451172, 80.73394012451172, 82.56880187988281], 'time': [0.7185257421806455, 0.776821231469512, 0.6976365083828568, 0.7799787418916821]}\n"
     ]
    },
    {
     "name": "stderr",
     "output_type": "stream",
     "text": [
      "Some weights of the model checkpoint at bert-base-uncased were not used when initializing BertModel: ['cls.predictions.bias', 'cls.predictions.transform.dense.weight', 'cls.predictions.transform.LayerNorm.weight', 'cls.seq_relationship.weight', 'cls.predictions.decoder.weight', 'cls.seq_relationship.bias', 'cls.predictions.transform.dense.bias', 'cls.predictions.transform.LayerNorm.bias']\n",
      "- This IS expected if you are initializing BertModel from the checkpoint of a model trained on another task or with another architecture (e.g. initializing a BertForSequenceClassification model from a BertForPreTraining model).\n",
      "- This IS NOT expected if you are initializing BertModel from the checkpoint of a model that you expect to be exactly identical (initializing a BertForSequenceClassification model from a BertForSequenceClassification model).\n"
     ]
    },
    {
     "name": "stdout",
     "output_type": "stream",
     "text": [
      "Model downloaded: bert-base-uncased\n",
      "training time: 0.7892516609281301\n",
      "accuracy: 82.56880187988281\n",
      "{'params': {'reservoir_dim': 1000, 'spectral_radius': 1.5, 'leaking_rate': 0.1, 'input_scaling': 0.1, 'bias_scaling': 0.0, 'sparsity': 0.0, 'activation_function': 'relu', 'alpha': 10.0}, 'accuracy': [82.1100845336914, 80.73394012451172, 80.73394012451172, 82.56880187988281, 82.56880187988281], 'time': [0.7185257421806455, 0.776821231469512, 0.6976365083828568, 0.7799787418916821, 0.7892516609281301]}\n"
     ]
    },
    {
     "data": {
      "application/vnd.jupyter.widget-view+json": {
       "model_id": "16cf2b75ac22478a85167749c0352687",
       "version_major": 2,
       "version_minor": 0
      },
      "text/plain": [
       "  0%|          | 0/5 [00:00<?, ?it/s]"
      ]
     },
     "metadata": {},
     "output_type": "display_data"
    },
    {
     "name": "stderr",
     "output_type": "stream",
     "text": [
      "Some weights of the model checkpoint at bert-base-uncased were not used when initializing BertModel: ['cls.predictions.bias', 'cls.predictions.transform.dense.weight', 'cls.predictions.transform.LayerNorm.weight', 'cls.seq_relationship.weight', 'cls.predictions.decoder.weight', 'cls.seq_relationship.bias', 'cls.predictions.transform.dense.bias', 'cls.predictions.transform.LayerNorm.bias']\n",
      "- This IS expected if you are initializing BertModel from the checkpoint of a model trained on another task or with another architecture (e.g. initializing a BertForSequenceClassification model from a BertForPreTraining model).\n",
      "- This IS NOT expected if you are initializing BertModel from the checkpoint of a model that you expect to be exactly identical (initializing a BertForSequenceClassification model from a BertForSequenceClassification model).\n"
     ]
    },
    {
     "name": "stdout",
     "output_type": "stream",
     "text": [
      "Model downloaded: bert-base-uncased\n",
      "training time: 0.7744314828887582\n",
      "accuracy: 67.88990783691406\n",
      "{'params': {'reservoir_dim': 1000, 'spectral_radius': 1.5, 'leaking_rate': 0.1, 'input_scaling': 0.1, 'bias_scaling': 0.0, 'sparsity': 0.99, 'activation_function': 'relu', 'alpha': 0.1}, 'accuracy': [67.88990783691406], 'time': [0.7744314828887582]}\n"
     ]
    },
    {
     "name": "stderr",
     "output_type": "stream",
     "text": [
      "Some weights of the model checkpoint at bert-base-uncased were not used when initializing BertModel: ['cls.predictions.bias', 'cls.predictions.transform.dense.weight', 'cls.predictions.transform.LayerNorm.weight', 'cls.seq_relationship.weight', 'cls.predictions.decoder.weight', 'cls.seq_relationship.bias', 'cls.predictions.transform.dense.bias', 'cls.predictions.transform.LayerNorm.bias']\n",
      "- This IS expected if you are initializing BertModel from the checkpoint of a model trained on another task or with another architecture (e.g. initializing a BertForSequenceClassification model from a BertForPreTraining model).\n",
      "- This IS NOT expected if you are initializing BertModel from the checkpoint of a model that you expect to be exactly identical (initializing a BertForSequenceClassification model from a BertForSequenceClassification model).\n"
     ]
    },
    {
     "name": "stdout",
     "output_type": "stream",
     "text": [
      "Model downloaded: bert-base-uncased\n",
      "training time: 0.7507335338741541\n",
      "accuracy: 69.26605224609375\n",
      "{'params': {'reservoir_dim': 1000, 'spectral_radius': 1.5, 'leaking_rate': 0.1, 'input_scaling': 0.1, 'bias_scaling': 0.0, 'sparsity': 0.99, 'activation_function': 'relu', 'alpha': 0.1}, 'accuracy': [67.88990783691406, 69.26605224609375], 'time': [0.7744314828887582, 0.7507335338741541]}\n"
     ]
    },
    {
     "name": "stderr",
     "output_type": "stream",
     "text": [
      "Some weights of the model checkpoint at bert-base-uncased were not used when initializing BertModel: ['cls.predictions.bias', 'cls.predictions.transform.dense.weight', 'cls.predictions.transform.LayerNorm.weight', 'cls.seq_relationship.weight', 'cls.predictions.decoder.weight', 'cls.seq_relationship.bias', 'cls.predictions.transform.dense.bias', 'cls.predictions.transform.LayerNorm.bias']\n",
      "- This IS expected if you are initializing BertModel from the checkpoint of a model trained on another task or with another architecture (e.g. initializing a BertForSequenceClassification model from a BertForPreTraining model).\n",
      "- This IS NOT expected if you are initializing BertModel from the checkpoint of a model that you expect to be exactly identical (initializing a BertForSequenceClassification model from a BertForSequenceClassification model).\n"
     ]
    },
    {
     "name": "stdout",
     "output_type": "stream",
     "text": [
      "Model downloaded: bert-base-uncased\n",
      "training time: 0.7064444534480572\n",
      "accuracy: 75.22935485839844\n",
      "{'params': {'reservoir_dim': 1000, 'spectral_radius': 1.5, 'leaking_rate': 0.1, 'input_scaling': 0.1, 'bias_scaling': 0.0, 'sparsity': 0.99, 'activation_function': 'relu', 'alpha': 0.1}, 'accuracy': [67.88990783691406, 69.26605224609375, 75.22935485839844], 'time': [0.7744314828887582, 0.7507335338741541, 0.7064444534480572]}\n"
     ]
    },
    {
     "name": "stderr",
     "output_type": "stream",
     "text": [
      "Some weights of the model checkpoint at bert-base-uncased were not used when initializing BertModel: ['cls.predictions.bias', 'cls.predictions.transform.dense.weight', 'cls.predictions.transform.LayerNorm.weight', 'cls.seq_relationship.weight', 'cls.predictions.decoder.weight', 'cls.seq_relationship.bias', 'cls.predictions.transform.dense.bias', 'cls.predictions.transform.LayerNorm.bias']\n",
      "- This IS expected if you are initializing BertModel from the checkpoint of a model trained on another task or with another architecture (e.g. initializing a BertForSequenceClassification model from a BertForPreTraining model).\n",
      "- This IS NOT expected if you are initializing BertModel from the checkpoint of a model that you expect to be exactly identical (initializing a BertForSequenceClassification model from a BertForSequenceClassification model).\n"
     ]
    },
    {
     "name": "stdout",
     "output_type": "stream",
     "text": [
      "Model downloaded: bert-base-uncased\n",
      "training time: 0.778078175149858\n",
      "accuracy: 74.77063751220703\n",
      "{'params': {'reservoir_dim': 1000, 'spectral_radius': 1.5, 'leaking_rate': 0.1, 'input_scaling': 0.1, 'bias_scaling': 0.0, 'sparsity': 0.99, 'activation_function': 'relu', 'alpha': 0.1}, 'accuracy': [67.88990783691406, 69.26605224609375, 75.22935485839844, 74.77063751220703], 'time': [0.7744314828887582, 0.7507335338741541, 0.7064444534480572, 0.778078175149858]}\n"
     ]
    },
    {
     "name": "stderr",
     "output_type": "stream",
     "text": [
      "Some weights of the model checkpoint at bert-base-uncased were not used when initializing BertModel: ['cls.predictions.bias', 'cls.predictions.transform.dense.weight', 'cls.predictions.transform.LayerNorm.weight', 'cls.seq_relationship.weight', 'cls.predictions.decoder.weight', 'cls.seq_relationship.bias', 'cls.predictions.transform.dense.bias', 'cls.predictions.transform.LayerNorm.bias']\n",
      "- This IS expected if you are initializing BertModel from the checkpoint of a model trained on another task or with another architecture (e.g. initializing a BertForSequenceClassification model from a BertForPreTraining model).\n",
      "- This IS NOT expected if you are initializing BertModel from the checkpoint of a model that you expect to be exactly identical (initializing a BertForSequenceClassification model from a BertForSequenceClassification model).\n"
     ]
    },
    {
     "name": "stdout",
     "output_type": "stream",
     "text": [
      "Model downloaded: bert-base-uncased\n",
      "training time: 0.7239864589646459\n",
      "accuracy: 76.60549926757812\n",
      "{'params': {'reservoir_dim': 1000, 'spectral_radius': 1.5, 'leaking_rate': 0.1, 'input_scaling': 0.1, 'bias_scaling': 0.0, 'sparsity': 0.99, 'activation_function': 'relu', 'alpha': 0.1}, 'accuracy': [67.88990783691406, 69.26605224609375, 75.22935485839844, 74.77063751220703, 76.60549926757812], 'time': [0.7744314828887582, 0.7507335338741541, 0.7064444534480572, 0.778078175149858, 0.7239864589646459]}\n"
     ]
    },
    {
     "data": {
      "application/vnd.jupyter.widget-view+json": {
       "model_id": "ca919bd71ccb4c378294966fdfc19dfb",
       "version_major": 2,
       "version_minor": 0
      },
      "text/plain": [
       "  0%|          | 0/5 [00:00<?, ?it/s]"
      ]
     },
     "metadata": {},
     "output_type": "display_data"
    },
    {
     "name": "stderr",
     "output_type": "stream",
     "text": [
      "Some weights of the model checkpoint at bert-base-uncased were not used when initializing BertModel: ['cls.predictions.bias', 'cls.predictions.transform.dense.weight', 'cls.predictions.transform.LayerNorm.weight', 'cls.seq_relationship.weight', 'cls.predictions.decoder.weight', 'cls.seq_relationship.bias', 'cls.predictions.transform.dense.bias', 'cls.predictions.transform.LayerNorm.bias']\n",
      "- This IS expected if you are initializing BertModel from the checkpoint of a model trained on another task or with another architecture (e.g. initializing a BertForSequenceClassification model from a BertForPreTraining model).\n",
      "- This IS NOT expected if you are initializing BertModel from the checkpoint of a model that you expect to be exactly identical (initializing a BertForSequenceClassification model from a BertForSequenceClassification model).\n"
     ]
    },
    {
     "name": "stdout",
     "output_type": "stream",
     "text": [
      "Model downloaded: bert-base-uncased\n",
      "training time: 0.7522653611376882\n",
      "accuracy: 77.98165130615234\n",
      "{'params': {'reservoir_dim': 1000, 'spectral_radius': 1.5, 'leaking_rate': 0.1, 'input_scaling': 0.1, 'bias_scaling': 0.0, 'sparsity': 0.99, 'activation_function': 'relu', 'alpha': 1.0}, 'accuracy': [77.98165130615234], 'time': [0.7522653611376882]}\n"
     ]
    },
    {
     "name": "stderr",
     "output_type": "stream",
     "text": [
      "Some weights of the model checkpoint at bert-base-uncased were not used when initializing BertModel: ['cls.predictions.bias', 'cls.predictions.transform.dense.weight', 'cls.predictions.transform.LayerNorm.weight', 'cls.seq_relationship.weight', 'cls.predictions.decoder.weight', 'cls.seq_relationship.bias', 'cls.predictions.transform.dense.bias', 'cls.predictions.transform.LayerNorm.bias']\n",
      "- This IS expected if you are initializing BertModel from the checkpoint of a model trained on another task or with another architecture (e.g. initializing a BertForSequenceClassification model from a BertForPreTraining model).\n",
      "- This IS NOT expected if you are initializing BertModel from the checkpoint of a model that you expect to be exactly identical (initializing a BertForSequenceClassification model from a BertForSequenceClassification model).\n"
     ]
    },
    {
     "name": "stdout",
     "output_type": "stream",
     "text": [
      "Model downloaded: bert-base-uncased\n",
      "training time: 0.7558674123138189\n",
      "accuracy: 78.89907836914062\n",
      "{'params': {'reservoir_dim': 1000, 'spectral_radius': 1.5, 'leaking_rate': 0.1, 'input_scaling': 0.1, 'bias_scaling': 0.0, 'sparsity': 0.99, 'activation_function': 'relu', 'alpha': 1.0}, 'accuracy': [77.98165130615234, 78.89907836914062], 'time': [0.7522653611376882, 0.7558674123138189]}\n"
     ]
    },
    {
     "name": "stderr",
     "output_type": "stream",
     "text": [
      "Some weights of the model checkpoint at bert-base-uncased were not used when initializing BertModel: ['cls.predictions.bias', 'cls.predictions.transform.dense.weight', 'cls.predictions.transform.LayerNorm.weight', 'cls.seq_relationship.weight', 'cls.predictions.decoder.weight', 'cls.seq_relationship.bias', 'cls.predictions.transform.dense.bias', 'cls.predictions.transform.LayerNorm.bias']\n",
      "- This IS expected if you are initializing BertModel from the checkpoint of a model trained on another task or with another architecture (e.g. initializing a BertForSequenceClassification model from a BertForPreTraining model).\n",
      "- This IS NOT expected if you are initializing BertModel from the checkpoint of a model that you expect to be exactly identical (initializing a BertForSequenceClassification model from a BertForSequenceClassification model).\n"
     ]
    },
    {
     "name": "stdout",
     "output_type": "stream",
     "text": [
      "Model downloaded: bert-base-uncased\n",
      "training time: 0.7410754002630711\n",
      "accuracy: 80.73394012451172\n",
      "{'params': {'reservoir_dim': 1000, 'spectral_radius': 1.5, 'leaking_rate': 0.1, 'input_scaling': 0.1, 'bias_scaling': 0.0, 'sparsity': 0.99, 'activation_function': 'relu', 'alpha': 1.0}, 'accuracy': [77.98165130615234, 78.89907836914062, 80.73394012451172], 'time': [0.7522653611376882, 0.7558674123138189, 0.7410754002630711]}\n"
     ]
    },
    {
     "name": "stderr",
     "output_type": "stream",
     "text": [
      "Some weights of the model checkpoint at bert-base-uncased were not used when initializing BertModel: ['cls.predictions.bias', 'cls.predictions.transform.dense.weight', 'cls.predictions.transform.LayerNorm.weight', 'cls.seq_relationship.weight', 'cls.predictions.decoder.weight', 'cls.seq_relationship.bias', 'cls.predictions.transform.dense.bias', 'cls.predictions.transform.LayerNorm.bias']\n",
      "- This IS expected if you are initializing BertModel from the checkpoint of a model trained on another task or with another architecture (e.g. initializing a BertForSequenceClassification model from a BertForPreTraining model).\n",
      "- This IS NOT expected if you are initializing BertModel from the checkpoint of a model that you expect to be exactly identical (initializing a BertForSequenceClassification model from a BertForSequenceClassification model).\n"
     ]
    },
    {
     "name": "stdout",
     "output_type": "stream",
     "text": [
      "Model downloaded: bert-base-uncased\n",
      "training time: 0.7932197283953428\n",
      "accuracy: 77.06421661376953\n",
      "{'params': {'reservoir_dim': 1000, 'spectral_radius': 1.5, 'leaking_rate': 0.1, 'input_scaling': 0.1, 'bias_scaling': 0.0, 'sparsity': 0.99, 'activation_function': 'relu', 'alpha': 1.0}, 'accuracy': [77.98165130615234, 78.89907836914062, 80.73394012451172, 77.06421661376953], 'time': [0.7522653611376882, 0.7558674123138189, 0.7410754002630711, 0.7932197283953428]}\n"
     ]
    },
    {
     "name": "stderr",
     "output_type": "stream",
     "text": [
      "Some weights of the model checkpoint at bert-base-uncased were not used when initializing BertModel: ['cls.predictions.bias', 'cls.predictions.transform.dense.weight', 'cls.predictions.transform.LayerNorm.weight', 'cls.seq_relationship.weight', 'cls.predictions.decoder.weight', 'cls.seq_relationship.bias', 'cls.predictions.transform.dense.bias', 'cls.predictions.transform.LayerNorm.bias']\n",
      "- This IS expected if you are initializing BertModel from the checkpoint of a model trained on another task or with another architecture (e.g. initializing a BertForSequenceClassification model from a BertForPreTraining model).\n",
      "- This IS NOT expected if you are initializing BertModel from the checkpoint of a model that you expect to be exactly identical (initializing a BertForSequenceClassification model from a BertForSequenceClassification model).\n"
     ]
    },
    {
     "name": "stdout",
     "output_type": "stream",
     "text": [
      "Model downloaded: bert-base-uncased\n",
      "training time: 0.7539164703339338\n",
      "accuracy: 80.27522277832031\n",
      "{'params': {'reservoir_dim': 1000, 'spectral_radius': 1.5, 'leaking_rate': 0.1, 'input_scaling': 0.1, 'bias_scaling': 0.0, 'sparsity': 0.99, 'activation_function': 'relu', 'alpha': 1.0}, 'accuracy': [77.98165130615234, 78.89907836914062, 80.73394012451172, 77.06421661376953, 80.27522277832031], 'time': [0.7522653611376882, 0.7558674123138189, 0.7410754002630711, 0.7932197283953428, 0.7539164703339338]}\n"
     ]
    },
    {
     "data": {
      "application/vnd.jupyter.widget-view+json": {
       "model_id": "de78b48ee0c140e2b9d907e8a864122e",
       "version_major": 2,
       "version_minor": 0
      },
      "text/plain": [
       "  0%|          | 0/5 [00:00<?, ?it/s]"
      ]
     },
     "metadata": {},
     "output_type": "display_data"
    },
    {
     "name": "stderr",
     "output_type": "stream",
     "text": [
      "Some weights of the model checkpoint at bert-base-uncased were not used when initializing BertModel: ['cls.predictions.bias', 'cls.predictions.transform.dense.weight', 'cls.predictions.transform.LayerNorm.weight', 'cls.seq_relationship.weight', 'cls.predictions.decoder.weight', 'cls.seq_relationship.bias', 'cls.predictions.transform.dense.bias', 'cls.predictions.transform.LayerNorm.bias']\n",
      "- This IS expected if you are initializing BertModel from the checkpoint of a model trained on another task or with another architecture (e.g. initializing a BertForSequenceClassification model from a BertForPreTraining model).\n",
      "- This IS NOT expected if you are initializing BertModel from the checkpoint of a model that you expect to be exactly identical (initializing a BertForSequenceClassification model from a BertForSequenceClassification model).\n"
     ]
    },
    {
     "name": "stdout",
     "output_type": "stream",
     "text": [
      "Model downloaded: bert-base-uncased\n",
      "training time: 0.7127028992399573\n",
      "accuracy: 80.27522277832031\n",
      "{'params': {'reservoir_dim': 1000, 'spectral_radius': 1.5, 'leaking_rate': 0.1, 'input_scaling': 0.1, 'bias_scaling': 0.0, 'sparsity': 0.99, 'activation_function': 'relu', 'alpha': 10.0}, 'accuracy': [80.27522277832031], 'time': [0.7127028992399573]}\n"
     ]
    },
    {
     "name": "stderr",
     "output_type": "stream",
     "text": [
      "Some weights of the model checkpoint at bert-base-uncased were not used when initializing BertModel: ['cls.predictions.bias', 'cls.predictions.transform.dense.weight', 'cls.predictions.transform.LayerNorm.weight', 'cls.seq_relationship.weight', 'cls.predictions.decoder.weight', 'cls.seq_relationship.bias', 'cls.predictions.transform.dense.bias', 'cls.predictions.transform.LayerNorm.bias']\n",
      "- This IS expected if you are initializing BertModel from the checkpoint of a model trained on another task or with another architecture (e.g. initializing a BertForSequenceClassification model from a BertForPreTraining model).\n",
      "- This IS NOT expected if you are initializing BertModel from the checkpoint of a model that you expect to be exactly identical (initializing a BertForSequenceClassification model from a BertForSequenceClassification model).\n"
     ]
    },
    {
     "name": "stdout",
     "output_type": "stream",
     "text": [
      "Model downloaded: bert-base-uncased\n",
      "training time: 0.7706176498904824\n",
      "accuracy: 79.81651306152344\n",
      "{'params': {'reservoir_dim': 1000, 'spectral_radius': 1.5, 'leaking_rate': 0.1, 'input_scaling': 0.1, 'bias_scaling': 0.0, 'sparsity': 0.99, 'activation_function': 'relu', 'alpha': 10.0}, 'accuracy': [80.27522277832031, 79.81651306152344], 'time': [0.7127028992399573, 0.7706176498904824]}\n"
     ]
    },
    {
     "name": "stderr",
     "output_type": "stream",
     "text": [
      "Some weights of the model checkpoint at bert-base-uncased were not used when initializing BertModel: ['cls.predictions.bias', 'cls.predictions.transform.dense.weight', 'cls.predictions.transform.LayerNorm.weight', 'cls.seq_relationship.weight', 'cls.predictions.decoder.weight', 'cls.seq_relationship.bias', 'cls.predictions.transform.dense.bias', 'cls.predictions.transform.LayerNorm.bias']\n",
      "- This IS expected if you are initializing BertModel from the checkpoint of a model trained on another task or with another architecture (e.g. initializing a BertForSequenceClassification model from a BertForPreTraining model).\n",
      "- This IS NOT expected if you are initializing BertModel from the checkpoint of a model that you expect to be exactly identical (initializing a BertForSequenceClassification model from a BertForSequenceClassification model).\n"
     ]
    },
    {
     "name": "stdout",
     "output_type": "stream",
     "text": [
      "Model downloaded: bert-base-uncased\n",
      "training time: 0.7755268355831504\n",
      "accuracy: 80.73394012451172\n",
      "{'params': {'reservoir_dim': 1000, 'spectral_radius': 1.5, 'leaking_rate': 0.1, 'input_scaling': 0.1, 'bias_scaling': 0.0, 'sparsity': 0.99, 'activation_function': 'relu', 'alpha': 10.0}, 'accuracy': [80.27522277832031, 79.81651306152344, 80.73394012451172], 'time': [0.7127028992399573, 0.7706176498904824, 0.7755268355831504]}\n"
     ]
    },
    {
     "name": "stderr",
     "output_type": "stream",
     "text": [
      "Some weights of the model checkpoint at bert-base-uncased were not used when initializing BertModel: ['cls.predictions.bias', 'cls.predictions.transform.dense.weight', 'cls.predictions.transform.LayerNorm.weight', 'cls.seq_relationship.weight', 'cls.predictions.decoder.weight', 'cls.seq_relationship.bias', 'cls.predictions.transform.dense.bias', 'cls.predictions.transform.LayerNorm.bias']\n",
      "- This IS expected if you are initializing BertModel from the checkpoint of a model trained on another task or with another architecture (e.g. initializing a BertForSequenceClassification model from a BertForPreTraining model).\n",
      "- This IS NOT expected if you are initializing BertModel from the checkpoint of a model that you expect to be exactly identical (initializing a BertForSequenceClassification model from a BertForSequenceClassification model).\n"
     ]
    },
    {
     "name": "stdout",
     "output_type": "stream",
     "text": [
      "Model downloaded: bert-base-uncased\n",
      "training time: 0.728757806122303\n",
      "accuracy: 81.65137481689453\n",
      "{'params': {'reservoir_dim': 1000, 'spectral_radius': 1.5, 'leaking_rate': 0.1, 'input_scaling': 0.1, 'bias_scaling': 0.0, 'sparsity': 0.99, 'activation_function': 'relu', 'alpha': 10.0}, 'accuracy': [80.27522277832031, 79.81651306152344, 80.73394012451172, 81.65137481689453], 'time': [0.7127028992399573, 0.7706176498904824, 0.7755268355831504, 0.728757806122303]}\n"
     ]
    },
    {
     "name": "stderr",
     "output_type": "stream",
     "text": [
      "Some weights of the model checkpoint at bert-base-uncased were not used when initializing BertModel: ['cls.predictions.bias', 'cls.predictions.transform.dense.weight', 'cls.predictions.transform.LayerNorm.weight', 'cls.seq_relationship.weight', 'cls.predictions.decoder.weight', 'cls.seq_relationship.bias', 'cls.predictions.transform.dense.bias', 'cls.predictions.transform.LayerNorm.bias']\n",
      "- This IS expected if you are initializing BertModel from the checkpoint of a model trained on another task or with another architecture (e.g. initializing a BertForSequenceClassification model from a BertForPreTraining model).\n",
      "- This IS NOT expected if you are initializing BertModel from the checkpoint of a model that you expect to be exactly identical (initializing a BertForSequenceClassification model from a BertForSequenceClassification model).\n"
     ]
    },
    {
     "name": "stdout",
     "output_type": "stream",
     "text": [
      "Model downloaded: bert-base-uncased\n",
      "training time: 0.728295074775815\n",
      "accuracy: 81.65137481689453\n",
      "{'params': {'reservoir_dim': 1000, 'spectral_radius': 1.5, 'leaking_rate': 0.1, 'input_scaling': 0.1, 'bias_scaling': 0.0, 'sparsity': 0.99, 'activation_function': 'relu', 'alpha': 10.0}, 'accuracy': [80.27522277832031, 79.81651306152344, 80.73394012451172, 81.65137481689453, 81.65137481689453], 'time': [0.7127028992399573, 0.7706176498904824, 0.7755268355831504, 0.728757806122303, 0.728295074775815]}\n"
     ]
    },
    {
     "data": {
      "application/vnd.jupyter.widget-view+json": {
       "model_id": "1b902b11544a4c8db21b53d0f4044175",
       "version_major": 2,
       "version_minor": 0
      },
      "text/plain": [
       "  0%|          | 0/5 [00:00<?, ?it/s]"
      ]
     },
     "metadata": {},
     "output_type": "display_data"
    },
    {
     "name": "stderr",
     "output_type": "stream",
     "text": [
      "Some weights of the model checkpoint at bert-base-uncased were not used when initializing BertModel: ['cls.predictions.bias', 'cls.predictions.transform.dense.weight', 'cls.predictions.transform.LayerNorm.weight', 'cls.seq_relationship.weight', 'cls.predictions.decoder.weight', 'cls.seq_relationship.bias', 'cls.predictions.transform.dense.bias', 'cls.predictions.transform.LayerNorm.bias']\n",
      "- This IS expected if you are initializing BertModel from the checkpoint of a model trained on another task or with another architecture (e.g. initializing a BertForSequenceClassification model from a BertForPreTraining model).\n",
      "- This IS NOT expected if you are initializing BertModel from the checkpoint of a model that you expect to be exactly identical (initializing a BertForSequenceClassification model from a BertForSequenceClassification model).\n"
     ]
    },
    {
     "name": "stdout",
     "output_type": "stream",
     "text": [
      "Model downloaded: bert-base-uncased\n",
      "training time: 0.6978537049144506\n",
      "accuracy: 51.37614440917969\n",
      "{'params': {'reservoir_dim': 1000, 'spectral_radius': 1.5, 'leaking_rate': 0.1, 'input_scaling': 1.0, 'bias_scaling': 0.0, 'sparsity': 0.0, 'activation_function': 'relu', 'alpha': 0.1}, 'accuracy': [51.37614440917969], 'time': [0.6978537049144506]}\n"
     ]
    },
    {
     "name": "stderr",
     "output_type": "stream",
     "text": [
      "Some weights of the model checkpoint at bert-base-uncased were not used when initializing BertModel: ['cls.predictions.bias', 'cls.predictions.transform.dense.weight', 'cls.predictions.transform.LayerNorm.weight', 'cls.seq_relationship.weight', 'cls.predictions.decoder.weight', 'cls.seq_relationship.bias', 'cls.predictions.transform.dense.bias', 'cls.predictions.transform.LayerNorm.bias']\n",
      "- This IS expected if you are initializing BertModel from the checkpoint of a model trained on another task or with another architecture (e.g. initializing a BertForSequenceClassification model from a BertForPreTraining model).\n",
      "- This IS NOT expected if you are initializing BertModel from the checkpoint of a model that you expect to be exactly identical (initializing a BertForSequenceClassification model from a BertForSequenceClassification model).\n"
     ]
    },
    {
     "name": "stdout",
     "output_type": "stream",
     "text": [
      "Model downloaded: bert-base-uncased\n",
      "training time: 0.7620372483506799\n",
      "accuracy: 46.78899002075195\n",
      "{'params': {'reservoir_dim': 1000, 'spectral_radius': 1.5, 'leaking_rate': 0.1, 'input_scaling': 1.0, 'bias_scaling': 0.0, 'sparsity': 0.0, 'activation_function': 'relu', 'alpha': 0.1}, 'accuracy': [51.37614440917969, 46.78899002075195], 'time': [0.6978537049144506, 0.7620372483506799]}\n"
     ]
    },
    {
     "name": "stderr",
     "output_type": "stream",
     "text": [
      "Some weights of the model checkpoint at bert-base-uncased were not used when initializing BertModel: ['cls.predictions.bias', 'cls.predictions.transform.dense.weight', 'cls.predictions.transform.LayerNorm.weight', 'cls.seq_relationship.weight', 'cls.predictions.decoder.weight', 'cls.seq_relationship.bias', 'cls.predictions.transform.dense.bias', 'cls.predictions.transform.LayerNorm.bias']\n",
      "- This IS expected if you are initializing BertModel from the checkpoint of a model trained on another task or with another architecture (e.g. initializing a BertForSequenceClassification model from a BertForPreTraining model).\n",
      "- This IS NOT expected if you are initializing BertModel from the checkpoint of a model that you expect to be exactly identical (initializing a BertForSequenceClassification model from a BertForSequenceClassification model).\n"
     ]
    },
    {
     "name": "stdout",
     "output_type": "stream",
     "text": [
      "Model downloaded: bert-base-uncased\n",
      "training time: 0.7209999626502395\n",
      "accuracy: 44.95412826538086\n",
      "{'params': {'reservoir_dim': 1000, 'spectral_radius': 1.5, 'leaking_rate': 0.1, 'input_scaling': 1.0, 'bias_scaling': 0.0, 'sparsity': 0.0, 'activation_function': 'relu', 'alpha': 0.1}, 'accuracy': [51.37614440917969, 46.78899002075195, 44.95412826538086], 'time': [0.6978537049144506, 0.7620372483506799, 0.7209999626502395]}\n"
     ]
    },
    {
     "name": "stderr",
     "output_type": "stream",
     "text": [
      "Some weights of the model checkpoint at bert-base-uncased were not used when initializing BertModel: ['cls.predictions.bias', 'cls.predictions.transform.dense.weight', 'cls.predictions.transform.LayerNorm.weight', 'cls.seq_relationship.weight', 'cls.predictions.decoder.weight', 'cls.seq_relationship.bias', 'cls.predictions.transform.dense.bias', 'cls.predictions.transform.LayerNorm.bias']\n",
      "- This IS expected if you are initializing BertModel from the checkpoint of a model trained on another task or with another architecture (e.g. initializing a BertForSequenceClassification model from a BertForPreTraining model).\n",
      "- This IS NOT expected if you are initializing BertModel from the checkpoint of a model that you expect to be exactly identical (initializing a BertForSequenceClassification model from a BertForSequenceClassification model).\n"
     ]
    },
    {
     "name": "stdout",
     "output_type": "stream",
     "text": [
      "Model downloaded: bert-base-uncased\n",
      "training time: 0.7098022038117051\n",
      "accuracy: 49.541282653808594\n",
      "{'params': {'reservoir_dim': 1000, 'spectral_radius': 1.5, 'leaking_rate': 0.1, 'input_scaling': 1.0, 'bias_scaling': 0.0, 'sparsity': 0.0, 'activation_function': 'relu', 'alpha': 0.1}, 'accuracy': [51.37614440917969, 46.78899002075195, 44.95412826538086, 49.541282653808594], 'time': [0.6978537049144506, 0.7620372483506799, 0.7209999626502395, 0.7098022038117051]}\n"
     ]
    },
    {
     "name": "stderr",
     "output_type": "stream",
     "text": [
      "Some weights of the model checkpoint at bert-base-uncased were not used when initializing BertModel: ['cls.predictions.bias', 'cls.predictions.transform.dense.weight', 'cls.predictions.transform.LayerNorm.weight', 'cls.seq_relationship.weight', 'cls.predictions.decoder.weight', 'cls.seq_relationship.bias', 'cls.predictions.transform.dense.bias', 'cls.predictions.transform.LayerNorm.bias']\n",
      "- This IS expected if you are initializing BertModel from the checkpoint of a model trained on another task or with another architecture (e.g. initializing a BertForSequenceClassification model from a BertForPreTraining model).\n",
      "- This IS NOT expected if you are initializing BertModel from the checkpoint of a model that you expect to be exactly identical (initializing a BertForSequenceClassification model from a BertForSequenceClassification model).\n"
     ]
    },
    {
     "name": "stdout",
     "output_type": "stream",
     "text": [
      "Model downloaded: bert-base-uncased\n",
      "training time: 0.7348806280642748\n",
      "accuracy: 48.16513442993164\n",
      "{'params': {'reservoir_dim': 1000, 'spectral_radius': 1.5, 'leaking_rate': 0.1, 'input_scaling': 1.0, 'bias_scaling': 0.0, 'sparsity': 0.0, 'activation_function': 'relu', 'alpha': 0.1}, 'accuracy': [51.37614440917969, 46.78899002075195, 44.95412826538086, 49.541282653808594, 48.16513442993164], 'time': [0.6978537049144506, 0.7620372483506799, 0.7209999626502395, 0.7098022038117051, 0.7348806280642748]}\n"
     ]
    },
    {
     "data": {
      "application/vnd.jupyter.widget-view+json": {
       "model_id": "b962ec10989a46b985657d524808a6a8",
       "version_major": 2,
       "version_minor": 0
      },
      "text/plain": [
       "  0%|          | 0/5 [00:00<?, ?it/s]"
      ]
     },
     "metadata": {},
     "output_type": "display_data"
    },
    {
     "name": "stderr",
     "output_type": "stream",
     "text": [
      "Some weights of the model checkpoint at bert-base-uncased were not used when initializing BertModel: ['cls.predictions.bias', 'cls.predictions.transform.dense.weight', 'cls.predictions.transform.LayerNorm.weight', 'cls.seq_relationship.weight', 'cls.predictions.decoder.weight', 'cls.seq_relationship.bias', 'cls.predictions.transform.dense.bias', 'cls.predictions.transform.LayerNorm.bias']\n",
      "- This IS expected if you are initializing BertModel from the checkpoint of a model trained on another task or with another architecture (e.g. initializing a BertForSequenceClassification model from a BertForPreTraining model).\n",
      "- This IS NOT expected if you are initializing BertModel from the checkpoint of a model that you expect to be exactly identical (initializing a BertForSequenceClassification model from a BertForSequenceClassification model).\n"
     ]
    },
    {
     "name": "stdout",
     "output_type": "stream",
     "text": [
      "Model downloaded: bert-base-uncased\n",
      "training time: 0.8080277489498258\n",
      "accuracy: 54.587154388427734\n",
      "{'params': {'reservoir_dim': 1000, 'spectral_radius': 1.5, 'leaking_rate': 0.1, 'input_scaling': 1.0, 'bias_scaling': 0.0, 'sparsity': 0.0, 'activation_function': 'relu', 'alpha': 1.0}, 'accuracy': [54.587154388427734], 'time': [0.8080277489498258]}\n"
     ]
    },
    {
     "name": "stderr",
     "output_type": "stream",
     "text": [
      "Some weights of the model checkpoint at bert-base-uncased were not used when initializing BertModel: ['cls.predictions.bias', 'cls.predictions.transform.dense.weight', 'cls.predictions.transform.LayerNorm.weight', 'cls.seq_relationship.weight', 'cls.predictions.decoder.weight', 'cls.seq_relationship.bias', 'cls.predictions.transform.dense.bias', 'cls.predictions.transform.LayerNorm.bias']\n",
      "- This IS expected if you are initializing BertModel from the checkpoint of a model trained on another task or with another architecture (e.g. initializing a BertForSequenceClassification model from a BertForPreTraining model).\n",
      "- This IS NOT expected if you are initializing BertModel from the checkpoint of a model that you expect to be exactly identical (initializing a BertForSequenceClassification model from a BertForSequenceClassification model).\n"
     ]
    },
    {
     "name": "stdout",
     "output_type": "stream",
     "text": [
      "Model downloaded: bert-base-uncased\n",
      "training time: 0.7029081471264362\n",
      "accuracy: 54.587154388427734\n",
      "{'params': {'reservoir_dim': 1000, 'spectral_radius': 1.5, 'leaking_rate': 0.1, 'input_scaling': 1.0, 'bias_scaling': 0.0, 'sparsity': 0.0, 'activation_function': 'relu', 'alpha': 1.0}, 'accuracy': [54.587154388427734, 54.587154388427734], 'time': [0.8080277489498258, 0.7029081471264362]}\n"
     ]
    },
    {
     "name": "stderr",
     "output_type": "stream",
     "text": [
      "Some weights of the model checkpoint at bert-base-uncased were not used when initializing BertModel: ['cls.predictions.bias', 'cls.predictions.transform.dense.weight', 'cls.predictions.transform.LayerNorm.weight', 'cls.seq_relationship.weight', 'cls.predictions.decoder.weight', 'cls.seq_relationship.bias', 'cls.predictions.transform.dense.bias', 'cls.predictions.transform.LayerNorm.bias']\n",
      "- This IS expected if you are initializing BertModel from the checkpoint of a model trained on another task or with another architecture (e.g. initializing a BertForSequenceClassification model from a BertForPreTraining model).\n",
      "- This IS NOT expected if you are initializing BertModel from the checkpoint of a model that you expect to be exactly identical (initializing a BertForSequenceClassification model from a BertForSequenceClassification model).\n"
     ]
    },
    {
     "name": "stdout",
     "output_type": "stream",
     "text": [
      "Model downloaded: bert-base-uncased\n",
      "training time: 0.8307297518476844\n",
      "accuracy: 54.587154388427734\n",
      "{'params': {'reservoir_dim': 1000, 'spectral_radius': 1.5, 'leaking_rate': 0.1, 'input_scaling': 1.0, 'bias_scaling': 0.0, 'sparsity': 0.0, 'activation_function': 'relu', 'alpha': 1.0}, 'accuracy': [54.587154388427734, 54.587154388427734, 54.587154388427734], 'time': [0.8080277489498258, 0.7029081471264362, 0.8307297518476844]}\n"
     ]
    },
    {
     "name": "stderr",
     "output_type": "stream",
     "text": [
      "Some weights of the model checkpoint at bert-base-uncased were not used when initializing BertModel: ['cls.predictions.bias', 'cls.predictions.transform.dense.weight', 'cls.predictions.transform.LayerNorm.weight', 'cls.seq_relationship.weight', 'cls.predictions.decoder.weight', 'cls.seq_relationship.bias', 'cls.predictions.transform.dense.bias', 'cls.predictions.transform.LayerNorm.bias']\n",
      "- This IS expected if you are initializing BertModel from the checkpoint of a model trained on another task or with another architecture (e.g. initializing a BertForSequenceClassification model from a BertForPreTraining model).\n",
      "- This IS NOT expected if you are initializing BertModel from the checkpoint of a model that you expect to be exactly identical (initializing a BertForSequenceClassification model from a BertForSequenceClassification model).\n"
     ]
    },
    {
     "name": "stdout",
     "output_type": "stream",
     "text": [
      "Model downloaded: bert-base-uncased\n",
      "training time: 0.6922641014680266\n",
      "accuracy: 61.46788787841797\n",
      "{'params': {'reservoir_dim': 1000, 'spectral_radius': 1.5, 'leaking_rate': 0.1, 'input_scaling': 1.0, 'bias_scaling': 0.0, 'sparsity': 0.0, 'activation_function': 'relu', 'alpha': 1.0}, 'accuracy': [54.587154388427734, 54.587154388427734, 54.587154388427734, 61.46788787841797], 'time': [0.8080277489498258, 0.7029081471264362, 0.8307297518476844, 0.6922641014680266]}\n"
     ]
    },
    {
     "name": "stderr",
     "output_type": "stream",
     "text": [
      "Some weights of the model checkpoint at bert-base-uncased were not used when initializing BertModel: ['cls.predictions.bias', 'cls.predictions.transform.dense.weight', 'cls.predictions.transform.LayerNorm.weight', 'cls.seq_relationship.weight', 'cls.predictions.decoder.weight', 'cls.seq_relationship.bias', 'cls.predictions.transform.dense.bias', 'cls.predictions.transform.LayerNorm.bias']\n",
      "- This IS expected if you are initializing BertModel from the checkpoint of a model trained on another task or with another architecture (e.g. initializing a BertForSequenceClassification model from a BertForPreTraining model).\n",
      "- This IS NOT expected if you are initializing BertModel from the checkpoint of a model that you expect to be exactly identical (initializing a BertForSequenceClassification model from a BertForSequenceClassification model).\n"
     ]
    },
    {
     "name": "stdout",
     "output_type": "stream",
     "text": [
      "Model downloaded: bert-base-uncased\n",
      "training time: 0.7345471605658531\n",
      "accuracy: 64.22018432617188\n",
      "{'params': {'reservoir_dim': 1000, 'spectral_radius': 1.5, 'leaking_rate': 0.1, 'input_scaling': 1.0, 'bias_scaling': 0.0, 'sparsity': 0.0, 'activation_function': 'relu', 'alpha': 1.0}, 'accuracy': [54.587154388427734, 54.587154388427734, 54.587154388427734, 61.46788787841797, 64.22018432617188], 'time': [0.8080277489498258, 0.7029081471264362, 0.8307297518476844, 0.6922641014680266, 0.7345471605658531]}\n"
     ]
    },
    {
     "data": {
      "application/vnd.jupyter.widget-view+json": {
       "model_id": "cf84e0ed919c425a8fe74d1896f3e96b",
       "version_major": 2,
       "version_minor": 0
      },
      "text/plain": [
       "  0%|          | 0/5 [00:00<?, ?it/s]"
      ]
     },
     "metadata": {},
     "output_type": "display_data"
    },
    {
     "name": "stderr",
     "output_type": "stream",
     "text": [
      "Some weights of the model checkpoint at bert-base-uncased were not used when initializing BertModel: ['cls.predictions.bias', 'cls.predictions.transform.dense.weight', 'cls.predictions.transform.LayerNorm.weight', 'cls.seq_relationship.weight', 'cls.predictions.decoder.weight', 'cls.seq_relationship.bias', 'cls.predictions.transform.dense.bias', 'cls.predictions.transform.LayerNorm.bias']\n",
      "- This IS expected if you are initializing BertModel from the checkpoint of a model trained on another task or with another architecture (e.g. initializing a BertForSequenceClassification model from a BertForPreTraining model).\n",
      "- This IS NOT expected if you are initializing BertModel from the checkpoint of a model that you expect to be exactly identical (initializing a BertForSequenceClassification model from a BertForSequenceClassification model).\n"
     ]
    },
    {
     "name": "stdout",
     "output_type": "stream",
     "text": [
      "Model downloaded: bert-base-uncased\n",
      "training time: 0.763525728136301\n",
      "accuracy: 68.34861755371094\n",
      "{'params': {'reservoir_dim': 1000, 'spectral_radius': 1.5, 'leaking_rate': 0.1, 'input_scaling': 1.0, 'bias_scaling': 0.0, 'sparsity': 0.0, 'activation_function': 'relu', 'alpha': 10.0}, 'accuracy': [68.34861755371094], 'time': [0.763525728136301]}\n"
     ]
    },
    {
     "name": "stderr",
     "output_type": "stream",
     "text": [
      "Some weights of the model checkpoint at bert-base-uncased were not used when initializing BertModel: ['cls.predictions.bias', 'cls.predictions.transform.dense.weight', 'cls.predictions.transform.LayerNorm.weight', 'cls.seq_relationship.weight', 'cls.predictions.decoder.weight', 'cls.seq_relationship.bias', 'cls.predictions.transform.dense.bias', 'cls.predictions.transform.LayerNorm.bias']\n",
      "- This IS expected if you are initializing BertModel from the checkpoint of a model trained on another task or with another architecture (e.g. initializing a BertForSequenceClassification model from a BertForPreTraining model).\n",
      "- This IS NOT expected if you are initializing BertModel from the checkpoint of a model that you expect to be exactly identical (initializing a BertForSequenceClassification model from a BertForSequenceClassification model).\n"
     ]
    },
    {
     "name": "stdout",
     "output_type": "stream",
     "text": [
      "Model downloaded: bert-base-uncased\n",
      "training time: 0.763863799162209\n",
      "accuracy: 69.26605224609375\n",
      "{'params': {'reservoir_dim': 1000, 'spectral_radius': 1.5, 'leaking_rate': 0.1, 'input_scaling': 1.0, 'bias_scaling': 0.0, 'sparsity': 0.0, 'activation_function': 'relu', 'alpha': 10.0}, 'accuracy': [68.34861755371094, 69.26605224609375], 'time': [0.763525728136301, 0.763863799162209]}\n"
     ]
    },
    {
     "name": "stderr",
     "output_type": "stream",
     "text": [
      "Some weights of the model checkpoint at bert-base-uncased were not used when initializing BertModel: ['cls.predictions.bias', 'cls.predictions.transform.dense.weight', 'cls.predictions.transform.LayerNorm.weight', 'cls.seq_relationship.weight', 'cls.predictions.decoder.weight', 'cls.seq_relationship.bias', 'cls.predictions.transform.dense.bias', 'cls.predictions.transform.LayerNorm.bias']\n",
      "- This IS expected if you are initializing BertModel from the checkpoint of a model trained on another task or with another architecture (e.g. initializing a BertForSequenceClassification model from a BertForPreTraining model).\n",
      "- This IS NOT expected if you are initializing BertModel from the checkpoint of a model that you expect to be exactly identical (initializing a BertForSequenceClassification model from a BertForSequenceClassification model).\n"
     ]
    },
    {
     "name": "stdout",
     "output_type": "stream",
     "text": [
      "Model downloaded: bert-base-uncased\n",
      "training time: 0.7138637313619256\n",
      "accuracy: 72.01834869384766\n",
      "{'params': {'reservoir_dim': 1000, 'spectral_radius': 1.5, 'leaking_rate': 0.1, 'input_scaling': 1.0, 'bias_scaling': 0.0, 'sparsity': 0.0, 'activation_function': 'relu', 'alpha': 10.0}, 'accuracy': [68.34861755371094, 69.26605224609375, 72.01834869384766], 'time': [0.763525728136301, 0.763863799162209, 0.7138637313619256]}\n"
     ]
    },
    {
     "name": "stderr",
     "output_type": "stream",
     "text": [
      "Some weights of the model checkpoint at bert-base-uncased were not used when initializing BertModel: ['cls.predictions.bias', 'cls.predictions.transform.dense.weight', 'cls.predictions.transform.LayerNorm.weight', 'cls.seq_relationship.weight', 'cls.predictions.decoder.weight', 'cls.seq_relationship.bias', 'cls.predictions.transform.dense.bias', 'cls.predictions.transform.LayerNorm.bias']\n",
      "- This IS expected if you are initializing BertModel from the checkpoint of a model trained on another task or with another architecture (e.g. initializing a BertForSequenceClassification model from a BertForPreTraining model).\n",
      "- This IS NOT expected if you are initializing BertModel from the checkpoint of a model that you expect to be exactly identical (initializing a BertForSequenceClassification model from a BertForSequenceClassification model).\n"
     ]
    },
    {
     "name": "stdout",
     "output_type": "stream",
     "text": [
      "Model downloaded: bert-base-uncased\n",
      "training time: 0.8200020575895905\n",
      "accuracy: 71.10091400146484\n",
      "{'params': {'reservoir_dim': 1000, 'spectral_radius': 1.5, 'leaking_rate': 0.1, 'input_scaling': 1.0, 'bias_scaling': 0.0, 'sparsity': 0.0, 'activation_function': 'relu', 'alpha': 10.0}, 'accuracy': [68.34861755371094, 69.26605224609375, 72.01834869384766, 71.10091400146484], 'time': [0.763525728136301, 0.763863799162209, 0.7138637313619256, 0.8200020575895905]}\n"
     ]
    },
    {
     "name": "stderr",
     "output_type": "stream",
     "text": [
      "Some weights of the model checkpoint at bert-base-uncased were not used when initializing BertModel: ['cls.predictions.bias', 'cls.predictions.transform.dense.weight', 'cls.predictions.transform.LayerNorm.weight', 'cls.seq_relationship.weight', 'cls.predictions.decoder.weight', 'cls.seq_relationship.bias', 'cls.predictions.transform.dense.bias', 'cls.predictions.transform.LayerNorm.bias']\n",
      "- This IS expected if you are initializing BertModel from the checkpoint of a model trained on another task or with another architecture (e.g. initializing a BertForSequenceClassification model from a BertForPreTraining model).\n",
      "- This IS NOT expected if you are initializing BertModel from the checkpoint of a model that you expect to be exactly identical (initializing a BertForSequenceClassification model from a BertForSequenceClassification model).\n"
     ]
    },
    {
     "name": "stdout",
     "output_type": "stream",
     "text": [
      "Model downloaded: bert-base-uncased\n",
      "training time: 0.7573280418291688\n",
      "accuracy: 78.44036102294922\n",
      "{'params': {'reservoir_dim': 1000, 'spectral_radius': 1.5, 'leaking_rate': 0.1, 'input_scaling': 1.0, 'bias_scaling': 0.0, 'sparsity': 0.0, 'activation_function': 'relu', 'alpha': 10.0}, 'accuracy': [68.34861755371094, 69.26605224609375, 72.01834869384766, 71.10091400146484, 78.44036102294922], 'time': [0.763525728136301, 0.763863799162209, 0.7138637313619256, 0.8200020575895905, 0.7573280418291688]}\n"
     ]
    },
    {
     "data": {
      "application/vnd.jupyter.widget-view+json": {
       "model_id": "c0d11c54548245858b042a500487af9f",
       "version_major": 2,
       "version_minor": 0
      },
      "text/plain": [
       "  0%|          | 0/5 [00:00<?, ?it/s]"
      ]
     },
     "metadata": {},
     "output_type": "display_data"
    },
    {
     "name": "stderr",
     "output_type": "stream",
     "text": [
      "Some weights of the model checkpoint at bert-base-uncased were not used when initializing BertModel: ['cls.predictions.bias', 'cls.predictions.transform.dense.weight', 'cls.predictions.transform.LayerNorm.weight', 'cls.seq_relationship.weight', 'cls.predictions.decoder.weight', 'cls.seq_relationship.bias', 'cls.predictions.transform.dense.bias', 'cls.predictions.transform.LayerNorm.bias']\n",
      "- This IS expected if you are initializing BertModel from the checkpoint of a model trained on another task or with another architecture (e.g. initializing a BertForSequenceClassification model from a BertForPreTraining model).\n",
      "- This IS NOT expected if you are initializing BertModel from the checkpoint of a model that you expect to be exactly identical (initializing a BertForSequenceClassification model from a BertForSequenceClassification model).\n"
     ]
    },
    {
     "name": "stdout",
     "output_type": "stream",
     "text": [
      "Model downloaded: bert-base-uncased\n",
      "training time: 0.7479517981410027\n",
      "accuracy: 46.78899002075195\n",
      "{'params': {'reservoir_dim': 1000, 'spectral_radius': 1.5, 'leaking_rate': 0.1, 'input_scaling': 1.0, 'bias_scaling': 0.0, 'sparsity': 0.99, 'activation_function': 'relu', 'alpha': 0.1}, 'accuracy': [46.78899002075195], 'time': [0.7479517981410027]}\n"
     ]
    },
    {
     "name": "stderr",
     "output_type": "stream",
     "text": [
      "Some weights of the model checkpoint at bert-base-uncased were not used when initializing BertModel: ['cls.predictions.bias', 'cls.predictions.transform.dense.weight', 'cls.predictions.transform.LayerNorm.weight', 'cls.seq_relationship.weight', 'cls.predictions.decoder.weight', 'cls.seq_relationship.bias', 'cls.predictions.transform.dense.bias', 'cls.predictions.transform.LayerNorm.bias']\n",
      "- This IS expected if you are initializing BertModel from the checkpoint of a model trained on another task or with another architecture (e.g. initializing a BertForSequenceClassification model from a BertForPreTraining model).\n",
      "- This IS NOT expected if you are initializing BertModel from the checkpoint of a model that you expect to be exactly identical (initializing a BertForSequenceClassification model from a BertForSequenceClassification model).\n"
     ]
    },
    {
     "name": "stdout",
     "output_type": "stream",
     "text": [
      "Model downloaded: bert-base-uncased\n",
      "training time: 0.7873763050884008\n",
      "accuracy: 45.871559143066406\n",
      "{'params': {'reservoir_dim': 1000, 'spectral_radius': 1.5, 'leaking_rate': 0.1, 'input_scaling': 1.0, 'bias_scaling': 0.0, 'sparsity': 0.99, 'activation_function': 'relu', 'alpha': 0.1}, 'accuracy': [46.78899002075195, 45.871559143066406], 'time': [0.7479517981410027, 0.7873763050884008]}\n"
     ]
    },
    {
     "name": "stderr",
     "output_type": "stream",
     "text": [
      "Some weights of the model checkpoint at bert-base-uncased were not used when initializing BertModel: ['cls.predictions.bias', 'cls.predictions.transform.dense.weight', 'cls.predictions.transform.LayerNorm.weight', 'cls.seq_relationship.weight', 'cls.predictions.decoder.weight', 'cls.seq_relationship.bias', 'cls.predictions.transform.dense.bias', 'cls.predictions.transform.LayerNorm.bias']\n",
      "- This IS expected if you are initializing BertModel from the checkpoint of a model trained on another task or with another architecture (e.g. initializing a BertForSequenceClassification model from a BertForPreTraining model).\n",
      "- This IS NOT expected if you are initializing BertModel from the checkpoint of a model that you expect to be exactly identical (initializing a BertForSequenceClassification model from a BertForSequenceClassification model).\n"
     ]
    },
    {
     "name": "stdout",
     "output_type": "stream",
     "text": [
      "Model downloaded: bert-base-uncased\n",
      "training time: 0.7433281932026148\n",
      "accuracy: 45.871559143066406\n",
      "{'params': {'reservoir_dim': 1000, 'spectral_radius': 1.5, 'leaking_rate': 0.1, 'input_scaling': 1.0, 'bias_scaling': 0.0, 'sparsity': 0.99, 'activation_function': 'relu', 'alpha': 0.1}, 'accuracy': [46.78899002075195, 45.871559143066406, 45.871559143066406], 'time': [0.7479517981410027, 0.7873763050884008, 0.7433281932026148]}\n"
     ]
    },
    {
     "name": "stderr",
     "output_type": "stream",
     "text": [
      "Some weights of the model checkpoint at bert-base-uncased were not used when initializing BertModel: ['cls.predictions.bias', 'cls.predictions.transform.dense.weight', 'cls.predictions.transform.LayerNorm.weight', 'cls.seq_relationship.weight', 'cls.predictions.decoder.weight', 'cls.seq_relationship.bias', 'cls.predictions.transform.dense.bias', 'cls.predictions.transform.LayerNorm.bias']\n",
      "- This IS expected if you are initializing BertModel from the checkpoint of a model trained on another task or with another architecture (e.g. initializing a BertForSequenceClassification model from a BertForPreTraining model).\n",
      "- This IS NOT expected if you are initializing BertModel from the checkpoint of a model that you expect to be exactly identical (initializing a BertForSequenceClassification model from a BertForSequenceClassification model).\n"
     ]
    },
    {
     "name": "stdout",
     "output_type": "stream",
     "text": [
      "Model downloaded: bert-base-uncased\n",
      "training time: 0.8622826961800456\n",
      "accuracy: 49.541282653808594\n",
      "{'params': {'reservoir_dim': 1000, 'spectral_radius': 1.5, 'leaking_rate': 0.1, 'input_scaling': 1.0, 'bias_scaling': 0.0, 'sparsity': 0.99, 'activation_function': 'relu', 'alpha': 0.1}, 'accuracy': [46.78899002075195, 45.871559143066406, 45.871559143066406, 49.541282653808594], 'time': [0.7479517981410027, 0.7873763050884008, 0.7433281932026148, 0.8622826961800456]}\n"
     ]
    },
    {
     "name": "stderr",
     "output_type": "stream",
     "text": [
      "Some weights of the model checkpoint at bert-base-uncased were not used when initializing BertModel: ['cls.predictions.bias', 'cls.predictions.transform.dense.weight', 'cls.predictions.transform.LayerNorm.weight', 'cls.seq_relationship.weight', 'cls.predictions.decoder.weight', 'cls.seq_relationship.bias', 'cls.predictions.transform.dense.bias', 'cls.predictions.transform.LayerNorm.bias']\n",
      "- This IS expected if you are initializing BertModel from the checkpoint of a model trained on another task or with another architecture (e.g. initializing a BertForSequenceClassification model from a BertForPreTraining model).\n",
      "- This IS NOT expected if you are initializing BertModel from the checkpoint of a model that you expect to be exactly identical (initializing a BertForSequenceClassification model from a BertForSequenceClassification model).\n"
     ]
    },
    {
     "name": "stdout",
     "output_type": "stream",
     "text": [
      "Model downloaded: bert-base-uncased\n",
      "training time: 0.7035407545045018\n",
      "accuracy: 45.871559143066406\n",
      "{'params': {'reservoir_dim': 1000, 'spectral_radius': 1.5, 'leaking_rate': 0.1, 'input_scaling': 1.0, 'bias_scaling': 0.0, 'sparsity': 0.99, 'activation_function': 'relu', 'alpha': 0.1}, 'accuracy': [46.78899002075195, 45.871559143066406, 45.871559143066406, 49.541282653808594, 45.871559143066406], 'time': [0.7479517981410027, 0.7873763050884008, 0.7433281932026148, 0.8622826961800456, 0.7035407545045018]}\n"
     ]
    },
    {
     "data": {
      "application/vnd.jupyter.widget-view+json": {
       "model_id": "d66e890a7eea44e3ad035fb720d513e5",
       "version_major": 2,
       "version_minor": 0
      },
      "text/plain": [
       "  0%|          | 0/5 [00:00<?, ?it/s]"
      ]
     },
     "metadata": {},
     "output_type": "display_data"
    },
    {
     "name": "stderr",
     "output_type": "stream",
     "text": [
      "Some weights of the model checkpoint at bert-base-uncased were not used when initializing BertModel: ['cls.predictions.bias', 'cls.predictions.transform.dense.weight', 'cls.predictions.transform.LayerNorm.weight', 'cls.seq_relationship.weight', 'cls.predictions.decoder.weight', 'cls.seq_relationship.bias', 'cls.predictions.transform.dense.bias', 'cls.predictions.transform.LayerNorm.bias']\n",
      "- This IS expected if you are initializing BertModel from the checkpoint of a model trained on another task or with another architecture (e.g. initializing a BertForSequenceClassification model from a BertForPreTraining model).\n",
      "- This IS NOT expected if you are initializing BertModel from the checkpoint of a model that you expect to be exactly identical (initializing a BertForSequenceClassification model from a BertForSequenceClassification model).\n"
     ]
    },
    {
     "name": "stdout",
     "output_type": "stream",
     "text": [
      "Model downloaded: bert-base-uncased\n",
      "training time: 0.7635846808552742\n",
      "accuracy: 54.587154388427734\n",
      "{'params': {'reservoir_dim': 1000, 'spectral_radius': 1.5, 'leaking_rate': 0.1, 'input_scaling': 1.0, 'bias_scaling': 0.0, 'sparsity': 0.99, 'activation_function': 'relu', 'alpha': 1.0}, 'accuracy': [54.587154388427734], 'time': [0.7635846808552742]}\n"
     ]
    },
    {
     "name": "stderr",
     "output_type": "stream",
     "text": [
      "Some weights of the model checkpoint at bert-base-uncased were not used when initializing BertModel: ['cls.predictions.bias', 'cls.predictions.transform.dense.weight', 'cls.predictions.transform.LayerNorm.weight', 'cls.seq_relationship.weight', 'cls.predictions.decoder.weight', 'cls.seq_relationship.bias', 'cls.predictions.transform.dense.bias', 'cls.predictions.transform.LayerNorm.bias']\n",
      "- This IS expected if you are initializing BertModel from the checkpoint of a model trained on another task or with another architecture (e.g. initializing a BertForSequenceClassification model from a BertForPreTraining model).\n",
      "- This IS NOT expected if you are initializing BertModel from the checkpoint of a model that you expect to be exactly identical (initializing a BertForSequenceClassification model from a BertForSequenceClassification model).\n"
     ]
    },
    {
     "name": "stdout",
     "output_type": "stream",
     "text": [
      "Model downloaded: bert-base-uncased\n",
      "training time: 0.745001352392137\n",
      "accuracy: 53.66972351074219\n",
      "{'params': {'reservoir_dim': 1000, 'spectral_radius': 1.5, 'leaking_rate': 0.1, 'input_scaling': 1.0, 'bias_scaling': 0.0, 'sparsity': 0.99, 'activation_function': 'relu', 'alpha': 1.0}, 'accuracy': [54.587154388427734, 53.66972351074219], 'time': [0.7635846808552742, 0.745001352392137]}\n"
     ]
    },
    {
     "name": "stderr",
     "output_type": "stream",
     "text": [
      "Some weights of the model checkpoint at bert-base-uncased were not used when initializing BertModel: ['cls.predictions.bias', 'cls.predictions.transform.dense.weight', 'cls.predictions.transform.LayerNorm.weight', 'cls.seq_relationship.weight', 'cls.predictions.decoder.weight', 'cls.seq_relationship.bias', 'cls.predictions.transform.dense.bias', 'cls.predictions.transform.LayerNorm.bias']\n",
      "- This IS expected if you are initializing BertModel from the checkpoint of a model trained on another task or with another architecture (e.g. initializing a BertForSequenceClassification model from a BertForPreTraining model).\n",
      "- This IS NOT expected if you are initializing BertModel from the checkpoint of a model that you expect to be exactly identical (initializing a BertForSequenceClassification model from a BertForSequenceClassification model).\n"
     ]
    },
    {
     "name": "stdout",
     "output_type": "stream",
     "text": [
      "Model downloaded: bert-base-uncased\n",
      "training time: 0.7194110611453652\n",
      "accuracy: 62.385318756103516\n",
      "{'params': {'reservoir_dim': 1000, 'spectral_radius': 1.5, 'leaking_rate': 0.1, 'input_scaling': 1.0, 'bias_scaling': 0.0, 'sparsity': 0.99, 'activation_function': 'relu', 'alpha': 1.0}, 'accuracy': [54.587154388427734, 53.66972351074219, 62.385318756103516], 'time': [0.7635846808552742, 0.745001352392137, 0.7194110611453652]}\n"
     ]
    },
    {
     "name": "stderr",
     "output_type": "stream",
     "text": [
      "Some weights of the model checkpoint at bert-base-uncased were not used when initializing BertModel: ['cls.predictions.bias', 'cls.predictions.transform.dense.weight', 'cls.predictions.transform.LayerNorm.weight', 'cls.seq_relationship.weight', 'cls.predictions.decoder.weight', 'cls.seq_relationship.bias', 'cls.predictions.transform.dense.bias', 'cls.predictions.transform.LayerNorm.bias']\n",
      "- This IS expected if you are initializing BertModel from the checkpoint of a model trained on another task or with another architecture (e.g. initializing a BertForSequenceClassification model from a BertForPreTraining model).\n",
      "- This IS NOT expected if you are initializing BertModel from the checkpoint of a model that you expect to be exactly identical (initializing a BertForSequenceClassification model from a BertForSequenceClassification model).\n"
     ]
    },
    {
     "name": "stdout",
     "output_type": "stream",
     "text": [
      "Model downloaded: bert-base-uncased\n",
      "training time: 0.7506937198340893\n",
      "accuracy: 61.92660140991211\n",
      "{'params': {'reservoir_dim': 1000, 'spectral_radius': 1.5, 'leaking_rate': 0.1, 'input_scaling': 1.0, 'bias_scaling': 0.0, 'sparsity': 0.99, 'activation_function': 'relu', 'alpha': 1.0}, 'accuracy': [54.587154388427734, 53.66972351074219, 62.385318756103516, 61.92660140991211], 'time': [0.7635846808552742, 0.745001352392137, 0.7194110611453652, 0.7506937198340893]}\n"
     ]
    },
    {
     "name": "stderr",
     "output_type": "stream",
     "text": [
      "Some weights of the model checkpoint at bert-base-uncased were not used when initializing BertModel: ['cls.predictions.bias', 'cls.predictions.transform.dense.weight', 'cls.predictions.transform.LayerNorm.weight', 'cls.seq_relationship.weight', 'cls.predictions.decoder.weight', 'cls.seq_relationship.bias', 'cls.predictions.transform.dense.bias', 'cls.predictions.transform.LayerNorm.bias']\n",
      "- This IS expected if you are initializing BertModel from the checkpoint of a model trained on another task or with another architecture (e.g. initializing a BertForSequenceClassification model from a BertForPreTraining model).\n",
      "- This IS NOT expected if you are initializing BertModel from the checkpoint of a model that you expect to be exactly identical (initializing a BertForSequenceClassification model from a BertForSequenceClassification model).\n"
     ]
    },
    {
     "name": "stdout",
     "output_type": "stream",
     "text": [
      "Model downloaded: bert-base-uncased\n",
      "training time: 0.7248701686039567\n",
      "accuracy: 55.50458526611328\n",
      "{'params': {'reservoir_dim': 1000, 'spectral_radius': 1.5, 'leaking_rate': 0.1, 'input_scaling': 1.0, 'bias_scaling': 0.0, 'sparsity': 0.99, 'activation_function': 'relu', 'alpha': 1.0}, 'accuracy': [54.587154388427734, 53.66972351074219, 62.385318756103516, 61.92660140991211, 55.50458526611328], 'time': [0.7635846808552742, 0.745001352392137, 0.7194110611453652, 0.7506937198340893, 0.7248701686039567]}\n"
     ]
    },
    {
     "data": {
      "application/vnd.jupyter.widget-view+json": {
       "model_id": "b4e7a6b64f6c4e6d846e20ded48fea8c",
       "version_major": 2,
       "version_minor": 0
      },
      "text/plain": [
       "  0%|          | 0/5 [00:00<?, ?it/s]"
      ]
     },
     "metadata": {},
     "output_type": "display_data"
    },
    {
     "name": "stderr",
     "output_type": "stream",
     "text": [
      "Some weights of the model checkpoint at bert-base-uncased were not used when initializing BertModel: ['cls.predictions.bias', 'cls.predictions.transform.dense.weight', 'cls.predictions.transform.LayerNorm.weight', 'cls.seq_relationship.weight', 'cls.predictions.decoder.weight', 'cls.seq_relationship.bias', 'cls.predictions.transform.dense.bias', 'cls.predictions.transform.LayerNorm.bias']\n",
      "- This IS expected if you are initializing BertModel from the checkpoint of a model trained on another task or with another architecture (e.g. initializing a BertForSequenceClassification model from a BertForPreTraining model).\n",
      "- This IS NOT expected if you are initializing BertModel from the checkpoint of a model that you expect to be exactly identical (initializing a BertForSequenceClassification model from a BertForSequenceClassification model).\n"
     ]
    },
    {
     "name": "stdout",
     "output_type": "stream",
     "text": [
      "Model downloaded: bert-base-uncased\n",
      "training time: 0.7711504297330976\n",
      "accuracy: 71.55963134765625\n",
      "{'params': {'reservoir_dim': 1000, 'spectral_radius': 1.5, 'leaking_rate': 0.1, 'input_scaling': 1.0, 'bias_scaling': 0.0, 'sparsity': 0.99, 'activation_function': 'relu', 'alpha': 10.0}, 'accuracy': [71.55963134765625], 'time': [0.7711504297330976]}\n"
     ]
    },
    {
     "name": "stderr",
     "output_type": "stream",
     "text": [
      "Some weights of the model checkpoint at bert-base-uncased were not used when initializing BertModel: ['cls.predictions.bias', 'cls.predictions.transform.dense.weight', 'cls.predictions.transform.LayerNorm.weight', 'cls.seq_relationship.weight', 'cls.predictions.decoder.weight', 'cls.seq_relationship.bias', 'cls.predictions.transform.dense.bias', 'cls.predictions.transform.LayerNorm.bias']\n",
      "- This IS expected if you are initializing BertModel from the checkpoint of a model trained on another task or with another architecture (e.g. initializing a BertForSequenceClassification model from a BertForPreTraining model).\n",
      "- This IS NOT expected if you are initializing BertModel from the checkpoint of a model that you expect to be exactly identical (initializing a BertForSequenceClassification model from a BertForSequenceClassification model).\n"
     ]
    },
    {
     "name": "stdout",
     "output_type": "stream",
     "text": [
      "Model downloaded: bert-base-uncased\n",
      "training time: 0.7038641134276986\n",
      "accuracy: 69.72476959228516\n",
      "{'params': {'reservoir_dim': 1000, 'spectral_radius': 1.5, 'leaking_rate': 0.1, 'input_scaling': 1.0, 'bias_scaling': 0.0, 'sparsity': 0.99, 'activation_function': 'relu', 'alpha': 10.0}, 'accuracy': [71.55963134765625, 69.72476959228516], 'time': [0.7711504297330976, 0.7038641134276986]}\n"
     ]
    },
    {
     "name": "stderr",
     "output_type": "stream",
     "text": [
      "Some weights of the model checkpoint at bert-base-uncased were not used when initializing BertModel: ['cls.predictions.bias', 'cls.predictions.transform.dense.weight', 'cls.predictions.transform.LayerNorm.weight', 'cls.seq_relationship.weight', 'cls.predictions.decoder.weight', 'cls.seq_relationship.bias', 'cls.predictions.transform.dense.bias', 'cls.predictions.transform.LayerNorm.bias']\n",
      "- This IS expected if you are initializing BertModel from the checkpoint of a model trained on another task or with another architecture (e.g. initializing a BertForSequenceClassification model from a BertForPreTraining model).\n",
      "- This IS NOT expected if you are initializing BertModel from the checkpoint of a model that you expect to be exactly identical (initializing a BertForSequenceClassification model from a BertForSequenceClassification model).\n"
     ]
    },
    {
     "name": "stdout",
     "output_type": "stream",
     "text": [
      "Model downloaded: bert-base-uncased\n",
      "training time: 0.7918552039191127\n",
      "accuracy: 75.22935485839844\n",
      "{'params': {'reservoir_dim': 1000, 'spectral_radius': 1.5, 'leaking_rate': 0.1, 'input_scaling': 1.0, 'bias_scaling': 0.0, 'sparsity': 0.99, 'activation_function': 'relu', 'alpha': 10.0}, 'accuracy': [71.55963134765625, 69.72476959228516, 75.22935485839844], 'time': [0.7711504297330976, 0.7038641134276986, 0.7918552039191127]}\n"
     ]
    },
    {
     "name": "stderr",
     "output_type": "stream",
     "text": [
      "Some weights of the model checkpoint at bert-base-uncased were not used when initializing BertModel: ['cls.predictions.bias', 'cls.predictions.transform.dense.weight', 'cls.predictions.transform.LayerNorm.weight', 'cls.seq_relationship.weight', 'cls.predictions.decoder.weight', 'cls.seq_relationship.bias', 'cls.predictions.transform.dense.bias', 'cls.predictions.transform.LayerNorm.bias']\n",
      "- This IS expected if you are initializing BertModel from the checkpoint of a model trained on another task or with another architecture (e.g. initializing a BertForSequenceClassification model from a BertForPreTraining model).\n",
      "- This IS NOT expected if you are initializing BertModel from the checkpoint of a model that you expect to be exactly identical (initializing a BertForSequenceClassification model from a BertForSequenceClassification model).\n"
     ]
    },
    {
     "name": "stdout",
     "output_type": "stream",
     "text": [
      "Model downloaded: bert-base-uncased\n",
      "training time: 0.7390338107943535\n",
      "accuracy: 74.31192016601562\n",
      "{'params': {'reservoir_dim': 1000, 'spectral_radius': 1.5, 'leaking_rate': 0.1, 'input_scaling': 1.0, 'bias_scaling': 0.0, 'sparsity': 0.99, 'activation_function': 'relu', 'alpha': 10.0}, 'accuracy': [71.55963134765625, 69.72476959228516, 75.22935485839844, 74.31192016601562], 'time': [0.7711504297330976, 0.7038641134276986, 0.7918552039191127, 0.7390338107943535]}\n"
     ]
    },
    {
     "name": "stderr",
     "output_type": "stream",
     "text": [
      "Some weights of the model checkpoint at bert-base-uncased were not used when initializing BertModel: ['cls.predictions.bias', 'cls.predictions.transform.dense.weight', 'cls.predictions.transform.LayerNorm.weight', 'cls.seq_relationship.weight', 'cls.predictions.decoder.weight', 'cls.seq_relationship.bias', 'cls.predictions.transform.dense.bias', 'cls.predictions.transform.LayerNorm.bias']\n",
      "- This IS expected if you are initializing BertModel from the checkpoint of a model trained on another task or with another architecture (e.g. initializing a BertForSequenceClassification model from a BertForPreTraining model).\n",
      "- This IS NOT expected if you are initializing BertModel from the checkpoint of a model that you expect to be exactly identical (initializing a BertForSequenceClassification model from a BertForSequenceClassification model).\n"
     ]
    },
    {
     "name": "stdout",
     "output_type": "stream",
     "text": [
      "Model downloaded: bert-base-uncased\n",
      "training time: 0.7051882436499\n",
      "accuracy: 74.77063751220703\n",
      "{'params': {'reservoir_dim': 1000, 'spectral_radius': 1.5, 'leaking_rate': 0.1, 'input_scaling': 1.0, 'bias_scaling': 0.0, 'sparsity': 0.99, 'activation_function': 'relu', 'alpha': 10.0}, 'accuracy': [71.55963134765625, 69.72476959228516, 75.22935485839844, 74.31192016601562, 74.77063751220703], 'time': [0.7711504297330976, 0.7038641134276986, 0.7918552039191127, 0.7390338107943535, 0.7051882436499]}\n"
     ]
    },
    {
     "data": {
      "application/vnd.jupyter.widget-view+json": {
       "model_id": "631bc8b3c500402fae8cfe4210a589d1",
       "version_major": 2,
       "version_minor": 0
      },
      "text/plain": [
       "  0%|          | 0/5 [00:00<?, ?it/s]"
      ]
     },
     "metadata": {},
     "output_type": "display_data"
    },
    {
     "name": "stderr",
     "output_type": "stream",
     "text": [
      "Some weights of the model checkpoint at bert-base-uncased were not used when initializing BertModel: ['cls.predictions.bias', 'cls.predictions.transform.dense.weight', 'cls.predictions.transform.LayerNorm.weight', 'cls.seq_relationship.weight', 'cls.predictions.decoder.weight', 'cls.seq_relationship.bias', 'cls.predictions.transform.dense.bias', 'cls.predictions.transform.LayerNorm.bias']\n",
      "- This IS expected if you are initializing BertModel from the checkpoint of a model trained on another task or with another architecture (e.g. initializing a BertForSequenceClassification model from a BertForPreTraining model).\n",
      "- This IS NOT expected if you are initializing BertModel from the checkpoint of a model that you expect to be exactly identical (initializing a BertForSequenceClassification model from a BertForSequenceClassification model).\n"
     ]
    },
    {
     "name": "stdout",
     "output_type": "stream",
     "text": [
      "Model downloaded: bert-base-uncased\n",
      "training time: 0.7077665170654655\n",
      "accuracy: 66.51375579833984\n",
      "{'params': {'reservoir_dim': 1000, 'spectral_radius': 1.5, 'leaking_rate': 0.5, 'input_scaling': 0.1, 'bias_scaling': 0.0, 'sparsity': 0.0, 'activation_function': 'relu', 'alpha': 0.1}, 'accuracy': [66.51375579833984], 'time': [0.7077665170654655]}\n"
     ]
    },
    {
     "name": "stderr",
     "output_type": "stream",
     "text": [
      "Some weights of the model checkpoint at bert-base-uncased were not used when initializing BertModel: ['cls.predictions.bias', 'cls.predictions.transform.dense.weight', 'cls.predictions.transform.LayerNorm.weight', 'cls.seq_relationship.weight', 'cls.predictions.decoder.weight', 'cls.seq_relationship.bias', 'cls.predictions.transform.dense.bias', 'cls.predictions.transform.LayerNorm.bias']\n",
      "- This IS expected if you are initializing BertModel from the checkpoint of a model trained on another task or with another architecture (e.g. initializing a BertForSequenceClassification model from a BertForPreTraining model).\n",
      "- This IS NOT expected if you are initializing BertModel from the checkpoint of a model that you expect to be exactly identical (initializing a BertForSequenceClassification model from a BertForSequenceClassification model).\n"
     ]
    },
    {
     "name": "stdout",
     "output_type": "stream",
     "text": [
      "Model downloaded: bert-base-uncased\n",
      "training time: 0.8469348279759288\n",
      "accuracy: 60.091739654541016\n",
      "{'params': {'reservoir_dim': 1000, 'spectral_radius': 1.5, 'leaking_rate': 0.5, 'input_scaling': 0.1, 'bias_scaling': 0.0, 'sparsity': 0.0, 'activation_function': 'relu', 'alpha': 0.1}, 'accuracy': [66.51375579833984, 60.091739654541016], 'time': [0.7077665170654655, 0.8469348279759288]}\n"
     ]
    },
    {
     "name": "stderr",
     "output_type": "stream",
     "text": [
      "Some weights of the model checkpoint at bert-base-uncased were not used when initializing BertModel: ['cls.predictions.bias', 'cls.predictions.transform.dense.weight', 'cls.predictions.transform.LayerNorm.weight', 'cls.seq_relationship.weight', 'cls.predictions.decoder.weight', 'cls.seq_relationship.bias', 'cls.predictions.transform.dense.bias', 'cls.predictions.transform.LayerNorm.bias']\n",
      "- This IS expected if you are initializing BertModel from the checkpoint of a model trained on another task or with another architecture (e.g. initializing a BertForSequenceClassification model from a BertForPreTraining model).\n",
      "- This IS NOT expected if you are initializing BertModel from the checkpoint of a model that you expect to be exactly identical (initializing a BertForSequenceClassification model from a BertForSequenceClassification model).\n"
     ]
    },
    {
     "name": "stdout",
     "output_type": "stream",
     "text": [
      "Model downloaded: bert-base-uncased\n",
      "training time: 0.7901794202625751\n",
      "accuracy: 62.385318756103516\n",
      "{'params': {'reservoir_dim': 1000, 'spectral_radius': 1.5, 'leaking_rate': 0.5, 'input_scaling': 0.1, 'bias_scaling': 0.0, 'sparsity': 0.0, 'activation_function': 'relu', 'alpha': 0.1}, 'accuracy': [66.51375579833984, 60.091739654541016, 62.385318756103516], 'time': [0.7077665170654655, 0.8469348279759288, 0.7901794202625751]}\n"
     ]
    },
    {
     "name": "stderr",
     "output_type": "stream",
     "text": [
      "Some weights of the model checkpoint at bert-base-uncased were not used when initializing BertModel: ['cls.predictions.bias', 'cls.predictions.transform.dense.weight', 'cls.predictions.transform.LayerNorm.weight', 'cls.seq_relationship.weight', 'cls.predictions.decoder.weight', 'cls.seq_relationship.bias', 'cls.predictions.transform.dense.bias', 'cls.predictions.transform.LayerNorm.bias']\n",
      "- This IS expected if you are initializing BertModel from the checkpoint of a model trained on another task or with another architecture (e.g. initializing a BertForSequenceClassification model from a BertForPreTraining model).\n",
      "- This IS NOT expected if you are initializing BertModel from the checkpoint of a model that you expect to be exactly identical (initializing a BertForSequenceClassification model from a BertForSequenceClassification model).\n"
     ]
    },
    {
     "name": "stdout",
     "output_type": "stream",
     "text": [
      "Model downloaded: bert-base-uncased\n",
      "training time: 0.7472472479566932\n",
      "accuracy: 61.46788787841797\n",
      "{'params': {'reservoir_dim': 1000, 'spectral_radius': 1.5, 'leaking_rate': 0.5, 'input_scaling': 0.1, 'bias_scaling': 0.0, 'sparsity': 0.0, 'activation_function': 'relu', 'alpha': 0.1}, 'accuracy': [66.51375579833984, 60.091739654541016, 62.385318756103516, 61.46788787841797], 'time': [0.7077665170654655, 0.8469348279759288, 0.7901794202625751, 0.7472472479566932]}\n"
     ]
    },
    {
     "name": "stderr",
     "output_type": "stream",
     "text": [
      "Some weights of the model checkpoint at bert-base-uncased were not used when initializing BertModel: ['cls.predictions.bias', 'cls.predictions.transform.dense.weight', 'cls.predictions.transform.LayerNorm.weight', 'cls.seq_relationship.weight', 'cls.predictions.decoder.weight', 'cls.seq_relationship.bias', 'cls.predictions.transform.dense.bias', 'cls.predictions.transform.LayerNorm.bias']\n",
      "- This IS expected if you are initializing BertModel from the checkpoint of a model trained on another task or with another architecture (e.g. initializing a BertForSequenceClassification model from a BertForPreTraining model).\n",
      "- This IS NOT expected if you are initializing BertModel from the checkpoint of a model that you expect to be exactly identical (initializing a BertForSequenceClassification model from a BertForSequenceClassification model).\n"
     ]
    },
    {
     "name": "stdout",
     "output_type": "stream",
     "text": [
      "Model downloaded: bert-base-uncased\n",
      "training time: 0.708527933806181\n",
      "accuracy: 61.92660140991211\n",
      "{'params': {'reservoir_dim': 1000, 'spectral_radius': 1.5, 'leaking_rate': 0.5, 'input_scaling': 0.1, 'bias_scaling': 0.0, 'sparsity': 0.0, 'activation_function': 'relu', 'alpha': 0.1}, 'accuracy': [66.51375579833984, 60.091739654541016, 62.385318756103516, 61.46788787841797, 61.92660140991211], 'time': [0.7077665170654655, 0.8469348279759288, 0.7901794202625751, 0.7472472479566932, 0.708527933806181]}\n"
     ]
    },
    {
     "data": {
      "application/vnd.jupyter.widget-view+json": {
       "model_id": "e5e173bbb7764fbd9a40417603e2143d",
       "version_major": 2,
       "version_minor": 0
      },
      "text/plain": [
       "  0%|          | 0/5 [00:00<?, ?it/s]"
      ]
     },
     "metadata": {},
     "output_type": "display_data"
    },
    {
     "name": "stderr",
     "output_type": "stream",
     "text": [
      "Some weights of the model checkpoint at bert-base-uncased were not used when initializing BertModel: ['cls.predictions.bias', 'cls.predictions.transform.dense.weight', 'cls.predictions.transform.LayerNorm.weight', 'cls.seq_relationship.weight', 'cls.predictions.decoder.weight', 'cls.seq_relationship.bias', 'cls.predictions.transform.dense.bias', 'cls.predictions.transform.LayerNorm.bias']\n",
      "- This IS expected if you are initializing BertModel from the checkpoint of a model trained on another task or with another architecture (e.g. initializing a BertForSequenceClassification model from a BertForPreTraining model).\n",
      "- This IS NOT expected if you are initializing BertModel from the checkpoint of a model that you expect to be exactly identical (initializing a BertForSequenceClassification model from a BertForSequenceClassification model).\n"
     ]
    },
    {
     "name": "stdout",
     "output_type": "stream",
     "text": [
      "Model downloaded: bert-base-uncased\n",
      "training time: 0.7049868162721395\n",
      "accuracy: 72.01834869384766\n",
      "{'params': {'reservoir_dim': 1000, 'spectral_radius': 1.5, 'leaking_rate': 0.5, 'input_scaling': 0.1, 'bias_scaling': 0.0, 'sparsity': 0.0, 'activation_function': 'relu', 'alpha': 1.0}, 'accuracy': [72.01834869384766], 'time': [0.7049868162721395]}\n"
     ]
    },
    {
     "name": "stderr",
     "output_type": "stream",
     "text": [
      "Some weights of the model checkpoint at bert-base-uncased were not used when initializing BertModel: ['cls.predictions.bias', 'cls.predictions.transform.dense.weight', 'cls.predictions.transform.LayerNorm.weight', 'cls.seq_relationship.weight', 'cls.predictions.decoder.weight', 'cls.seq_relationship.bias', 'cls.predictions.transform.dense.bias', 'cls.predictions.transform.LayerNorm.bias']\n",
      "- This IS expected if you are initializing BertModel from the checkpoint of a model trained on another task or with another architecture (e.g. initializing a BertForSequenceClassification model from a BertForPreTraining model).\n",
      "- This IS NOT expected if you are initializing BertModel from the checkpoint of a model that you expect to be exactly identical (initializing a BertForSequenceClassification model from a BertForSequenceClassification model).\n"
     ]
    },
    {
     "name": "stdout",
     "output_type": "stream",
     "text": [
      "Model downloaded: bert-base-uncased\n",
      "training time: 0.8033284451812506\n",
      "accuracy: 70.18348693847656\n",
      "{'params': {'reservoir_dim': 1000, 'spectral_radius': 1.5, 'leaking_rate': 0.5, 'input_scaling': 0.1, 'bias_scaling': 0.0, 'sparsity': 0.0, 'activation_function': 'relu', 'alpha': 1.0}, 'accuracy': [72.01834869384766, 70.18348693847656], 'time': [0.7049868162721395, 0.8033284451812506]}\n"
     ]
    },
    {
     "name": "stderr",
     "output_type": "stream",
     "text": [
      "Some weights of the model checkpoint at bert-base-uncased were not used when initializing BertModel: ['cls.predictions.bias', 'cls.predictions.transform.dense.weight', 'cls.predictions.transform.LayerNorm.weight', 'cls.seq_relationship.weight', 'cls.predictions.decoder.weight', 'cls.seq_relationship.bias', 'cls.predictions.transform.dense.bias', 'cls.predictions.transform.LayerNorm.bias']\n",
      "- This IS expected if you are initializing BertModel from the checkpoint of a model trained on another task or with another architecture (e.g. initializing a BertForSequenceClassification model from a BertForPreTraining model).\n",
      "- This IS NOT expected if you are initializing BertModel from the checkpoint of a model that you expect to be exactly identical (initializing a BertForSequenceClassification model from a BertForSequenceClassification model).\n"
     ]
    },
    {
     "name": "stdout",
     "output_type": "stream",
     "text": [
      "Model downloaded: bert-base-uncased\n",
      "training time: 0.7428996684029698\n",
      "accuracy: 69.72476959228516\n",
      "{'params': {'reservoir_dim': 1000, 'spectral_radius': 1.5, 'leaking_rate': 0.5, 'input_scaling': 0.1, 'bias_scaling': 0.0, 'sparsity': 0.0, 'activation_function': 'relu', 'alpha': 1.0}, 'accuracy': [72.01834869384766, 70.18348693847656, 69.72476959228516], 'time': [0.7049868162721395, 0.8033284451812506, 0.7428996684029698]}\n"
     ]
    },
    {
     "name": "stderr",
     "output_type": "stream",
     "text": [
      "Some weights of the model checkpoint at bert-base-uncased were not used when initializing BertModel: ['cls.predictions.bias', 'cls.predictions.transform.dense.weight', 'cls.predictions.transform.LayerNorm.weight', 'cls.seq_relationship.weight', 'cls.predictions.decoder.weight', 'cls.seq_relationship.bias', 'cls.predictions.transform.dense.bias', 'cls.predictions.transform.LayerNorm.bias']\n",
      "- This IS expected if you are initializing BertModel from the checkpoint of a model trained on another task or with another architecture (e.g. initializing a BertForSequenceClassification model from a BertForPreTraining model).\n",
      "- This IS NOT expected if you are initializing BertModel from the checkpoint of a model that you expect to be exactly identical (initializing a BertForSequenceClassification model from a BertForSequenceClassification model).\n"
     ]
    },
    {
     "name": "stdout",
     "output_type": "stream",
     "text": [
      "Model downloaded: bert-base-uncased\n",
      "training time: 0.7687972690910101\n",
      "accuracy: 70.18348693847656\n",
      "{'params': {'reservoir_dim': 1000, 'spectral_radius': 1.5, 'leaking_rate': 0.5, 'input_scaling': 0.1, 'bias_scaling': 0.0, 'sparsity': 0.0, 'activation_function': 'relu', 'alpha': 1.0}, 'accuracy': [72.01834869384766, 70.18348693847656, 69.72476959228516, 70.18348693847656], 'time': [0.7049868162721395, 0.8033284451812506, 0.7428996684029698, 0.7687972690910101]}\n"
     ]
    },
    {
     "name": "stderr",
     "output_type": "stream",
     "text": [
      "Some weights of the model checkpoint at bert-base-uncased were not used when initializing BertModel: ['cls.predictions.bias', 'cls.predictions.transform.dense.weight', 'cls.predictions.transform.LayerNorm.weight', 'cls.seq_relationship.weight', 'cls.predictions.decoder.weight', 'cls.seq_relationship.bias', 'cls.predictions.transform.dense.bias', 'cls.predictions.transform.LayerNorm.bias']\n",
      "- This IS expected if you are initializing BertModel from the checkpoint of a model trained on another task or with another architecture (e.g. initializing a BertForSequenceClassification model from a BertForPreTraining model).\n",
      "- This IS NOT expected if you are initializing BertModel from the checkpoint of a model that you expect to be exactly identical (initializing a BertForSequenceClassification model from a BertForSequenceClassification model).\n"
     ]
    },
    {
     "name": "stdout",
     "output_type": "stream",
     "text": [
      "Model downloaded: bert-base-uncased\n",
      "training time: 0.7644395399838686\n",
      "accuracy: 70.18348693847656\n",
      "{'params': {'reservoir_dim': 1000, 'spectral_radius': 1.5, 'leaking_rate': 0.5, 'input_scaling': 0.1, 'bias_scaling': 0.0, 'sparsity': 0.0, 'activation_function': 'relu', 'alpha': 1.0}, 'accuracy': [72.01834869384766, 70.18348693847656, 69.72476959228516, 70.18348693847656, 70.18348693847656], 'time': [0.7049868162721395, 0.8033284451812506, 0.7428996684029698, 0.7687972690910101, 0.7644395399838686]}\n"
     ]
    },
    {
     "data": {
      "application/vnd.jupyter.widget-view+json": {
       "model_id": "5bebed2febd74a079873a223c17ae66e",
       "version_major": 2,
       "version_minor": 0
      },
      "text/plain": [
       "  0%|          | 0/5 [00:00<?, ?it/s]"
      ]
     },
     "metadata": {},
     "output_type": "display_data"
    },
    {
     "name": "stderr",
     "output_type": "stream",
     "text": [
      "Some weights of the model checkpoint at bert-base-uncased were not used when initializing BertModel: ['cls.predictions.bias', 'cls.predictions.transform.dense.weight', 'cls.predictions.transform.LayerNorm.weight', 'cls.seq_relationship.weight', 'cls.predictions.decoder.weight', 'cls.seq_relationship.bias', 'cls.predictions.transform.dense.bias', 'cls.predictions.transform.LayerNorm.bias']\n",
      "- This IS expected if you are initializing BertModel from the checkpoint of a model trained on another task or with another architecture (e.g. initializing a BertForSequenceClassification model from a BertForPreTraining model).\n",
      "- This IS NOT expected if you are initializing BertModel from the checkpoint of a model that you expect to be exactly identical (initializing a BertForSequenceClassification model from a BertForSequenceClassification model).\n"
     ]
    },
    {
     "name": "stdout",
     "output_type": "stream",
     "text": [
      "Model downloaded: bert-base-uncased\n",
      "training time: 0.6895883632823825\n",
      "accuracy: 76.14678192138672\n",
      "{'params': {'reservoir_dim': 1000, 'spectral_radius': 1.5, 'leaking_rate': 0.5, 'input_scaling': 0.1, 'bias_scaling': 0.0, 'sparsity': 0.0, 'activation_function': 'relu', 'alpha': 10.0}, 'accuracy': [76.14678192138672], 'time': [0.6895883632823825]}\n"
     ]
    },
    {
     "name": "stderr",
     "output_type": "stream",
     "text": [
      "Some weights of the model checkpoint at bert-base-uncased were not used when initializing BertModel: ['cls.predictions.bias', 'cls.predictions.transform.dense.weight', 'cls.predictions.transform.LayerNorm.weight', 'cls.seq_relationship.weight', 'cls.predictions.decoder.weight', 'cls.seq_relationship.bias', 'cls.predictions.transform.dense.bias', 'cls.predictions.transform.LayerNorm.bias']\n",
      "- This IS expected if you are initializing BertModel from the checkpoint of a model trained on another task or with another architecture (e.g. initializing a BertForSequenceClassification model from a BertForPreTraining model).\n",
      "- This IS NOT expected if you are initializing BertModel from the checkpoint of a model that you expect to be exactly identical (initializing a BertForSequenceClassification model from a BertForSequenceClassification model).\n"
     ]
    },
    {
     "name": "stdout",
     "output_type": "stream",
     "text": [
      "Model downloaded: bert-base-uncased\n",
      "training time: 0.737330892123282\n",
      "accuracy: 75.68807220458984\n",
      "{'params': {'reservoir_dim': 1000, 'spectral_radius': 1.5, 'leaking_rate': 0.5, 'input_scaling': 0.1, 'bias_scaling': 0.0, 'sparsity': 0.0, 'activation_function': 'relu', 'alpha': 10.0}, 'accuracy': [76.14678192138672, 75.68807220458984], 'time': [0.6895883632823825, 0.737330892123282]}\n"
     ]
    },
    {
     "name": "stderr",
     "output_type": "stream",
     "text": [
      "Some weights of the model checkpoint at bert-base-uncased were not used when initializing BertModel: ['cls.predictions.bias', 'cls.predictions.transform.dense.weight', 'cls.predictions.transform.LayerNorm.weight', 'cls.seq_relationship.weight', 'cls.predictions.decoder.weight', 'cls.seq_relationship.bias', 'cls.predictions.transform.dense.bias', 'cls.predictions.transform.LayerNorm.bias']\n",
      "- This IS expected if you are initializing BertModel from the checkpoint of a model trained on another task or with another architecture (e.g. initializing a BertForSequenceClassification model from a BertForPreTraining model).\n",
      "- This IS NOT expected if you are initializing BertModel from the checkpoint of a model that you expect to be exactly identical (initializing a BertForSequenceClassification model from a BertForSequenceClassification model).\n"
     ]
    },
    {
     "name": "stdout",
     "output_type": "stream",
     "text": [
      "Model downloaded: bert-base-uncased\n",
      "training time: 0.7560845520347357\n",
      "accuracy: 76.60549926757812\n",
      "{'params': {'reservoir_dim': 1000, 'spectral_radius': 1.5, 'leaking_rate': 0.5, 'input_scaling': 0.1, 'bias_scaling': 0.0, 'sparsity': 0.0, 'activation_function': 'relu', 'alpha': 10.0}, 'accuracy': [76.14678192138672, 75.68807220458984, 76.60549926757812], 'time': [0.6895883632823825, 0.737330892123282, 0.7560845520347357]}\n"
     ]
    },
    {
     "name": "stderr",
     "output_type": "stream",
     "text": [
      "Some weights of the model checkpoint at bert-base-uncased were not used when initializing BertModel: ['cls.predictions.bias', 'cls.predictions.transform.dense.weight', 'cls.predictions.transform.LayerNorm.weight', 'cls.seq_relationship.weight', 'cls.predictions.decoder.weight', 'cls.seq_relationship.bias', 'cls.predictions.transform.dense.bias', 'cls.predictions.transform.LayerNorm.bias']\n",
      "- This IS expected if you are initializing BertModel from the checkpoint of a model trained on another task or with another architecture (e.g. initializing a BertForSequenceClassification model from a BertForPreTraining model).\n",
      "- This IS NOT expected if you are initializing BertModel from the checkpoint of a model that you expect to be exactly identical (initializing a BertForSequenceClassification model from a BertForSequenceClassification model).\n"
     ]
    },
    {
     "name": "stdout",
     "output_type": "stream",
     "text": [
      "Model downloaded: bert-base-uncased\n",
      "training time: 0.7160661229863763\n",
      "accuracy: 77.06421661376953\n",
      "{'params': {'reservoir_dim': 1000, 'spectral_radius': 1.5, 'leaking_rate': 0.5, 'input_scaling': 0.1, 'bias_scaling': 0.0, 'sparsity': 0.0, 'activation_function': 'relu', 'alpha': 10.0}, 'accuracy': [76.14678192138672, 75.68807220458984, 76.60549926757812, 77.06421661376953], 'time': [0.6895883632823825, 0.737330892123282, 0.7560845520347357, 0.7160661229863763]}\n"
     ]
    },
    {
     "name": "stderr",
     "output_type": "stream",
     "text": [
      "Some weights of the model checkpoint at bert-base-uncased were not used when initializing BertModel: ['cls.predictions.bias', 'cls.predictions.transform.dense.weight', 'cls.predictions.transform.LayerNorm.weight', 'cls.seq_relationship.weight', 'cls.predictions.decoder.weight', 'cls.seq_relationship.bias', 'cls.predictions.transform.dense.bias', 'cls.predictions.transform.LayerNorm.bias']\n",
      "- This IS expected if you are initializing BertModel from the checkpoint of a model trained on another task or with another architecture (e.g. initializing a BertForSequenceClassification model from a BertForPreTraining model).\n",
      "- This IS NOT expected if you are initializing BertModel from the checkpoint of a model that you expect to be exactly identical (initializing a BertForSequenceClassification model from a BertForSequenceClassification model).\n"
     ]
    },
    {
     "name": "stdout",
     "output_type": "stream",
     "text": [
      "Model downloaded: bert-base-uncased\n",
      "training time: 0.8812878672033548\n",
      "accuracy: 77.06421661376953\n",
      "{'params': {'reservoir_dim': 1000, 'spectral_radius': 1.5, 'leaking_rate': 0.5, 'input_scaling': 0.1, 'bias_scaling': 0.0, 'sparsity': 0.0, 'activation_function': 'relu', 'alpha': 10.0}, 'accuracy': [76.14678192138672, 75.68807220458984, 76.60549926757812, 77.06421661376953, 77.06421661376953], 'time': [0.6895883632823825, 0.737330892123282, 0.7560845520347357, 0.7160661229863763, 0.8812878672033548]}\n"
     ]
    },
    {
     "data": {
      "application/vnd.jupyter.widget-view+json": {
       "model_id": "5957afa7d9f647448f3856e1135371c1",
       "version_major": 2,
       "version_minor": 0
      },
      "text/plain": [
       "  0%|          | 0/5 [00:00<?, ?it/s]"
      ]
     },
     "metadata": {},
     "output_type": "display_data"
    },
    {
     "name": "stderr",
     "output_type": "stream",
     "text": [
      "Some weights of the model checkpoint at bert-base-uncased were not used when initializing BertModel: ['cls.predictions.bias', 'cls.predictions.transform.dense.weight', 'cls.predictions.transform.LayerNorm.weight', 'cls.seq_relationship.weight', 'cls.predictions.decoder.weight', 'cls.seq_relationship.bias', 'cls.predictions.transform.dense.bias', 'cls.predictions.transform.LayerNorm.bias']\n",
      "- This IS expected if you are initializing BertModel from the checkpoint of a model trained on another task or with another architecture (e.g. initializing a BertForSequenceClassification model from a BertForPreTraining model).\n",
      "- This IS NOT expected if you are initializing BertModel from the checkpoint of a model that you expect to be exactly identical (initializing a BertForSequenceClassification model from a BertForSequenceClassification model).\n"
     ]
    },
    {
     "name": "stdout",
     "output_type": "stream",
     "text": [
      "Model downloaded: bert-base-uncased\n",
      "training time: 0.6804515710100532\n",
      "accuracy: 61.46788787841797\n",
      "{'params': {'reservoir_dim': 1000, 'spectral_radius': 1.5, 'leaking_rate': 0.5, 'input_scaling': 0.1, 'bias_scaling': 0.0, 'sparsity': 0.99, 'activation_function': 'relu', 'alpha': 0.1}, 'accuracy': [61.46788787841797], 'time': [0.6804515710100532]}\n"
     ]
    },
    {
     "name": "stderr",
     "output_type": "stream",
     "text": [
      "Some weights of the model checkpoint at bert-base-uncased were not used when initializing BertModel: ['cls.predictions.bias', 'cls.predictions.transform.dense.weight', 'cls.predictions.transform.LayerNorm.weight', 'cls.seq_relationship.weight', 'cls.predictions.decoder.weight', 'cls.seq_relationship.bias', 'cls.predictions.transform.dense.bias', 'cls.predictions.transform.LayerNorm.bias']\n",
      "- This IS expected if you are initializing BertModel from the checkpoint of a model trained on another task or with another architecture (e.g. initializing a BertForSequenceClassification model from a BertForPreTraining model).\n",
      "- This IS NOT expected if you are initializing BertModel from the checkpoint of a model that you expect to be exactly identical (initializing a BertForSequenceClassification model from a BertForSequenceClassification model).\n"
     ]
    },
    {
     "name": "stdout",
     "output_type": "stream",
     "text": [
      "Model downloaded: bert-base-uncased\n",
      "training time: 0.770328663289547\n",
      "accuracy: 57.339447021484375\n",
      "{'params': {'reservoir_dim': 1000, 'spectral_radius': 1.5, 'leaking_rate': 0.5, 'input_scaling': 0.1, 'bias_scaling': 0.0, 'sparsity': 0.99, 'activation_function': 'relu', 'alpha': 0.1}, 'accuracy': [61.46788787841797, 57.339447021484375], 'time': [0.6804515710100532, 0.770328663289547]}\n"
     ]
    },
    {
     "name": "stderr",
     "output_type": "stream",
     "text": [
      "Some weights of the model checkpoint at bert-base-uncased were not used when initializing BertModel: ['cls.predictions.bias', 'cls.predictions.transform.dense.weight', 'cls.predictions.transform.LayerNorm.weight', 'cls.seq_relationship.weight', 'cls.predictions.decoder.weight', 'cls.seq_relationship.bias', 'cls.predictions.transform.dense.bias', 'cls.predictions.transform.LayerNorm.bias']\n",
      "- This IS expected if you are initializing BertModel from the checkpoint of a model trained on another task or with another architecture (e.g. initializing a BertForSequenceClassification model from a BertForPreTraining model).\n",
      "- This IS NOT expected if you are initializing BertModel from the checkpoint of a model that you expect to be exactly identical (initializing a BertForSequenceClassification model from a BertForSequenceClassification model).\n"
     ]
    },
    {
     "name": "stdout",
     "output_type": "stream",
     "text": [
      "Model downloaded: bert-base-uncased\n",
      "training time: 0.8078582873567939\n",
      "accuracy: 59.17430877685547\n",
      "{'params': {'reservoir_dim': 1000, 'spectral_radius': 1.5, 'leaking_rate': 0.5, 'input_scaling': 0.1, 'bias_scaling': 0.0, 'sparsity': 0.99, 'activation_function': 'relu', 'alpha': 0.1}, 'accuracy': [61.46788787841797, 57.339447021484375, 59.17430877685547], 'time': [0.6804515710100532, 0.770328663289547, 0.8078582873567939]}\n"
     ]
    },
    {
     "name": "stderr",
     "output_type": "stream",
     "text": [
      "Some weights of the model checkpoint at bert-base-uncased were not used when initializing BertModel: ['cls.predictions.bias', 'cls.predictions.transform.dense.weight', 'cls.predictions.transform.LayerNorm.weight', 'cls.seq_relationship.weight', 'cls.predictions.decoder.weight', 'cls.seq_relationship.bias', 'cls.predictions.transform.dense.bias', 'cls.predictions.transform.LayerNorm.bias']\n",
      "- This IS expected if you are initializing BertModel from the checkpoint of a model trained on another task or with another architecture (e.g. initializing a BertForSequenceClassification model from a BertForPreTraining model).\n",
      "- This IS NOT expected if you are initializing BertModel from the checkpoint of a model that you expect to be exactly identical (initializing a BertForSequenceClassification model from a BertForSequenceClassification model).\n"
     ]
    },
    {
     "name": "stdout",
     "output_type": "stream",
     "text": [
      "Model downloaded: bert-base-uncased\n",
      "training time: 0.710809325799346\n",
      "accuracy: 58.71559524536133\n",
      "{'params': {'reservoir_dim': 1000, 'spectral_radius': 1.5, 'leaking_rate': 0.5, 'input_scaling': 0.1, 'bias_scaling': 0.0, 'sparsity': 0.99, 'activation_function': 'relu', 'alpha': 0.1}, 'accuracy': [61.46788787841797, 57.339447021484375, 59.17430877685547, 58.71559524536133], 'time': [0.6804515710100532, 0.770328663289547, 0.8078582873567939, 0.710809325799346]}\n"
     ]
    },
    {
     "name": "stderr",
     "output_type": "stream",
     "text": [
      "Some weights of the model checkpoint at bert-base-uncased were not used when initializing BertModel: ['cls.predictions.bias', 'cls.predictions.transform.dense.weight', 'cls.predictions.transform.LayerNorm.weight', 'cls.seq_relationship.weight', 'cls.predictions.decoder.weight', 'cls.seq_relationship.bias', 'cls.predictions.transform.dense.bias', 'cls.predictions.transform.LayerNorm.bias']\n",
      "- This IS expected if you are initializing BertModel from the checkpoint of a model trained on another task or with another architecture (e.g. initializing a BertForSequenceClassification model from a BertForPreTraining model).\n",
      "- This IS NOT expected if you are initializing BertModel from the checkpoint of a model that you expect to be exactly identical (initializing a BertForSequenceClassification model from a BertForSequenceClassification model).\n"
     ]
    },
    {
     "name": "stdout",
     "output_type": "stream",
     "text": [
      "Model downloaded: bert-base-uncased\n",
      "training time: 0.6992192026227713\n",
      "accuracy: 65.13761138916016\n",
      "{'params': {'reservoir_dim': 1000, 'spectral_radius': 1.5, 'leaking_rate': 0.5, 'input_scaling': 0.1, 'bias_scaling': 0.0, 'sparsity': 0.99, 'activation_function': 'relu', 'alpha': 0.1}, 'accuracy': [61.46788787841797, 57.339447021484375, 59.17430877685547, 58.71559524536133, 65.13761138916016], 'time': [0.6804515710100532, 0.770328663289547, 0.8078582873567939, 0.710809325799346, 0.6992192026227713]}\n"
     ]
    },
    {
     "data": {
      "application/vnd.jupyter.widget-view+json": {
       "model_id": "f8ac5eff9fb042a9a393ff967f0e8113",
       "version_major": 2,
       "version_minor": 0
      },
      "text/plain": [
       "  0%|          | 0/5 [00:00<?, ?it/s]"
      ]
     },
     "metadata": {},
     "output_type": "display_data"
    },
    {
     "name": "stderr",
     "output_type": "stream",
     "text": [
      "Some weights of the model checkpoint at bert-base-uncased were not used when initializing BertModel: ['cls.predictions.bias', 'cls.predictions.transform.dense.weight', 'cls.predictions.transform.LayerNorm.weight', 'cls.seq_relationship.weight', 'cls.predictions.decoder.weight', 'cls.seq_relationship.bias', 'cls.predictions.transform.dense.bias', 'cls.predictions.transform.LayerNorm.bias']\n",
      "- This IS expected if you are initializing BertModel from the checkpoint of a model trained on another task or with another architecture (e.g. initializing a BertForSequenceClassification model from a BertForPreTraining model).\n",
      "- This IS NOT expected if you are initializing BertModel from the checkpoint of a model that you expect to be exactly identical (initializing a BertForSequenceClassification model from a BertForSequenceClassification model).\n"
     ]
    },
    {
     "name": "stdout",
     "output_type": "stream",
     "text": [
      "Model downloaded: bert-base-uncased\n",
      "training time: 0.6889346782118082\n",
      "accuracy: 63.30274963378906\n",
      "{'params': {'reservoir_dim': 1000, 'spectral_radius': 1.5, 'leaking_rate': 0.5, 'input_scaling': 0.1, 'bias_scaling': 0.0, 'sparsity': 0.99, 'activation_function': 'relu', 'alpha': 1.0}, 'accuracy': [63.30274963378906], 'time': [0.6889346782118082]}\n"
     ]
    },
    {
     "name": "stderr",
     "output_type": "stream",
     "text": [
      "Some weights of the model checkpoint at bert-base-uncased were not used when initializing BertModel: ['cls.predictions.bias', 'cls.predictions.transform.dense.weight', 'cls.predictions.transform.LayerNorm.weight', 'cls.seq_relationship.weight', 'cls.predictions.decoder.weight', 'cls.seq_relationship.bias', 'cls.predictions.transform.dense.bias', 'cls.predictions.transform.LayerNorm.bias']\n",
      "- This IS expected if you are initializing BertModel from the checkpoint of a model trained on another task or with another architecture (e.g. initializing a BertForSequenceClassification model from a BertForPreTraining model).\n",
      "- This IS NOT expected if you are initializing BertModel from the checkpoint of a model that you expect to be exactly identical (initializing a BertForSequenceClassification model from a BertForSequenceClassification model).\n"
     ]
    },
    {
     "name": "stdout",
     "output_type": "stream",
     "text": [
      "Model downloaded: bert-base-uncased\n",
      "training time: 0.698128622956574\n",
      "accuracy: 71.55963134765625\n",
      "{'params': {'reservoir_dim': 1000, 'spectral_radius': 1.5, 'leaking_rate': 0.5, 'input_scaling': 0.1, 'bias_scaling': 0.0, 'sparsity': 0.99, 'activation_function': 'relu', 'alpha': 1.0}, 'accuracy': [63.30274963378906, 71.55963134765625], 'time': [0.6889346782118082, 0.698128622956574]}\n"
     ]
    },
    {
     "name": "stderr",
     "output_type": "stream",
     "text": [
      "Some weights of the model checkpoint at bert-base-uncased were not used when initializing BertModel: ['cls.predictions.bias', 'cls.predictions.transform.dense.weight', 'cls.predictions.transform.LayerNorm.weight', 'cls.seq_relationship.weight', 'cls.predictions.decoder.weight', 'cls.seq_relationship.bias', 'cls.predictions.transform.dense.bias', 'cls.predictions.transform.LayerNorm.bias']\n",
      "- This IS expected if you are initializing BertModel from the checkpoint of a model trained on another task or with another architecture (e.g. initializing a BertForSequenceClassification model from a BertForPreTraining model).\n",
      "- This IS NOT expected if you are initializing BertModel from the checkpoint of a model that you expect to be exactly identical (initializing a BertForSequenceClassification model from a BertForSequenceClassification model).\n"
     ]
    },
    {
     "name": "stdout",
     "output_type": "stream",
     "text": [
      "Model downloaded: bert-base-uncased\n",
      "training time: 0.7274452932178974\n",
      "accuracy: 67.88990783691406\n",
      "{'params': {'reservoir_dim': 1000, 'spectral_radius': 1.5, 'leaking_rate': 0.5, 'input_scaling': 0.1, 'bias_scaling': 0.0, 'sparsity': 0.99, 'activation_function': 'relu', 'alpha': 1.0}, 'accuracy': [63.30274963378906, 71.55963134765625, 67.88990783691406], 'time': [0.6889346782118082, 0.698128622956574, 0.7274452932178974]}\n"
     ]
    },
    {
     "name": "stderr",
     "output_type": "stream",
     "text": [
      "Some weights of the model checkpoint at bert-base-uncased were not used when initializing BertModel: ['cls.predictions.bias', 'cls.predictions.transform.dense.weight', 'cls.predictions.transform.LayerNorm.weight', 'cls.seq_relationship.weight', 'cls.predictions.decoder.weight', 'cls.seq_relationship.bias', 'cls.predictions.transform.dense.bias', 'cls.predictions.transform.LayerNorm.bias']\n",
      "- This IS expected if you are initializing BertModel from the checkpoint of a model trained on another task or with another architecture (e.g. initializing a BertForSequenceClassification model from a BertForPreTraining model).\n",
      "- This IS NOT expected if you are initializing BertModel from the checkpoint of a model that you expect to be exactly identical (initializing a BertForSequenceClassification model from a BertForSequenceClassification model).\n"
     ]
    },
    {
     "name": "stdout",
     "output_type": "stream",
     "text": [
      "Model downloaded: bert-base-uncased\n",
      "training time: 0.7881485754624009\n",
      "accuracy: 67.43119049072266\n",
      "{'params': {'reservoir_dim': 1000, 'spectral_radius': 1.5, 'leaking_rate': 0.5, 'input_scaling': 0.1, 'bias_scaling': 0.0, 'sparsity': 0.99, 'activation_function': 'relu', 'alpha': 1.0}, 'accuracy': [63.30274963378906, 71.55963134765625, 67.88990783691406, 67.43119049072266], 'time': [0.6889346782118082, 0.698128622956574, 0.7274452932178974, 0.7881485754624009]}\n"
     ]
    },
    {
     "name": "stderr",
     "output_type": "stream",
     "text": [
      "Some weights of the model checkpoint at bert-base-uncased were not used when initializing BertModel: ['cls.predictions.bias', 'cls.predictions.transform.dense.weight', 'cls.predictions.transform.LayerNorm.weight', 'cls.seq_relationship.weight', 'cls.predictions.decoder.weight', 'cls.seq_relationship.bias', 'cls.predictions.transform.dense.bias', 'cls.predictions.transform.LayerNorm.bias']\n",
      "- This IS expected if you are initializing BertModel from the checkpoint of a model trained on another task or with another architecture (e.g. initializing a BertForSequenceClassification model from a BertForPreTraining model).\n",
      "- This IS NOT expected if you are initializing BertModel from the checkpoint of a model that you expect to be exactly identical (initializing a BertForSequenceClassification model from a BertForSequenceClassification model).\n"
     ]
    },
    {
     "name": "stdout",
     "output_type": "stream",
     "text": [
      "Model downloaded: bert-base-uncased\n",
      "training time: 0.7022469565272331\n",
      "accuracy: 66.51375579833984\n",
      "{'params': {'reservoir_dim': 1000, 'spectral_radius': 1.5, 'leaking_rate': 0.5, 'input_scaling': 0.1, 'bias_scaling': 0.0, 'sparsity': 0.99, 'activation_function': 'relu', 'alpha': 1.0}, 'accuracy': [63.30274963378906, 71.55963134765625, 67.88990783691406, 67.43119049072266, 66.51375579833984], 'time': [0.6889346782118082, 0.698128622956574, 0.7274452932178974, 0.7881485754624009, 0.7022469565272331]}\n"
     ]
    },
    {
     "data": {
      "application/vnd.jupyter.widget-view+json": {
       "model_id": "8849c3a23fb14856a24579b014ed215e",
       "version_major": 2,
       "version_minor": 0
      },
      "text/plain": [
       "  0%|          | 0/5 [00:00<?, ?it/s]"
      ]
     },
     "metadata": {},
     "output_type": "display_data"
    },
    {
     "name": "stderr",
     "output_type": "stream",
     "text": [
      "Some weights of the model checkpoint at bert-base-uncased were not used when initializing BertModel: ['cls.predictions.bias', 'cls.predictions.transform.dense.weight', 'cls.predictions.transform.LayerNorm.weight', 'cls.seq_relationship.weight', 'cls.predictions.decoder.weight', 'cls.seq_relationship.bias', 'cls.predictions.transform.dense.bias', 'cls.predictions.transform.LayerNorm.bias']\n",
      "- This IS expected if you are initializing BertModel from the checkpoint of a model trained on another task or with another architecture (e.g. initializing a BertForSequenceClassification model from a BertForPreTraining model).\n",
      "- This IS NOT expected if you are initializing BertModel from the checkpoint of a model that you expect to be exactly identical (initializing a BertForSequenceClassification model from a BertForSequenceClassification model).\n"
     ]
    },
    {
     "name": "stdout",
     "output_type": "stream",
     "text": [
      "Model downloaded: bert-base-uncased\n",
      "training time: 0.6899666525423527\n",
      "accuracy: 73.39449310302734\n",
      "{'params': {'reservoir_dim': 1000, 'spectral_radius': 1.5, 'leaking_rate': 0.5, 'input_scaling': 0.1, 'bias_scaling': 0.0, 'sparsity': 0.99, 'activation_function': 'relu', 'alpha': 10.0}, 'accuracy': [73.39449310302734], 'time': [0.6899666525423527]}\n"
     ]
    },
    {
     "name": "stderr",
     "output_type": "stream",
     "text": [
      "Some weights of the model checkpoint at bert-base-uncased were not used when initializing BertModel: ['cls.predictions.bias', 'cls.predictions.transform.dense.weight', 'cls.predictions.transform.LayerNorm.weight', 'cls.seq_relationship.weight', 'cls.predictions.decoder.weight', 'cls.seq_relationship.bias', 'cls.predictions.transform.dense.bias', 'cls.predictions.transform.LayerNorm.bias']\n",
      "- This IS expected if you are initializing BertModel from the checkpoint of a model trained on another task or with another architecture (e.g. initializing a BertForSequenceClassification model from a BertForPreTraining model).\n",
      "- This IS NOT expected if you are initializing BertModel from the checkpoint of a model that you expect to be exactly identical (initializing a BertForSequenceClassification model from a BertForSequenceClassification model).\n"
     ]
    },
    {
     "name": "stdout",
     "output_type": "stream",
     "text": [
      "Model downloaded: bert-base-uncased\n",
      "training time: 0.8150058528408408\n",
      "accuracy: 77.06421661376953\n",
      "{'params': {'reservoir_dim': 1000, 'spectral_radius': 1.5, 'leaking_rate': 0.5, 'input_scaling': 0.1, 'bias_scaling': 0.0, 'sparsity': 0.99, 'activation_function': 'relu', 'alpha': 10.0}, 'accuracy': [73.39449310302734, 77.06421661376953], 'time': [0.6899666525423527, 0.8150058528408408]}\n"
     ]
    },
    {
     "name": "stderr",
     "output_type": "stream",
     "text": [
      "Some weights of the model checkpoint at bert-base-uncased were not used when initializing BertModel: ['cls.predictions.bias', 'cls.predictions.transform.dense.weight', 'cls.predictions.transform.LayerNorm.weight', 'cls.seq_relationship.weight', 'cls.predictions.decoder.weight', 'cls.seq_relationship.bias', 'cls.predictions.transform.dense.bias', 'cls.predictions.transform.LayerNorm.bias']\n",
      "- This IS expected if you are initializing BertModel from the checkpoint of a model trained on another task or with another architecture (e.g. initializing a BertForSequenceClassification model from a BertForPreTraining model).\n",
      "- This IS NOT expected if you are initializing BertModel from the checkpoint of a model that you expect to be exactly identical (initializing a BertForSequenceClassification model from a BertForSequenceClassification model).\n"
     ]
    },
    {
     "name": "stdout",
     "output_type": "stream",
     "text": [
      "Model downloaded: bert-base-uncased\n",
      "training time: 0.695906188338995\n",
      "accuracy: 76.14678192138672\n",
      "{'params': {'reservoir_dim': 1000, 'spectral_radius': 1.5, 'leaking_rate': 0.5, 'input_scaling': 0.1, 'bias_scaling': 0.0, 'sparsity': 0.99, 'activation_function': 'relu', 'alpha': 10.0}, 'accuracy': [73.39449310302734, 77.06421661376953, 76.14678192138672], 'time': [0.6899666525423527, 0.8150058528408408, 0.695906188338995]}\n"
     ]
    },
    {
     "name": "stderr",
     "output_type": "stream",
     "text": [
      "Some weights of the model checkpoint at bert-base-uncased were not used when initializing BertModel: ['cls.predictions.bias', 'cls.predictions.transform.dense.weight', 'cls.predictions.transform.LayerNorm.weight', 'cls.seq_relationship.weight', 'cls.predictions.decoder.weight', 'cls.seq_relationship.bias', 'cls.predictions.transform.dense.bias', 'cls.predictions.transform.LayerNorm.bias']\n",
      "- This IS expected if you are initializing BertModel from the checkpoint of a model trained on another task or with another architecture (e.g. initializing a BertForSequenceClassification model from a BertForPreTraining model).\n",
      "- This IS NOT expected if you are initializing BertModel from the checkpoint of a model that you expect to be exactly identical (initializing a BertForSequenceClassification model from a BertForSequenceClassification model).\n"
     ]
    },
    {
     "name": "stdout",
     "output_type": "stream",
     "text": [
      "Model downloaded: bert-base-uncased\n",
      "training time: 0.713997982442379\n",
      "accuracy: 75.22935485839844\n",
      "{'params': {'reservoir_dim': 1000, 'spectral_radius': 1.5, 'leaking_rate': 0.5, 'input_scaling': 0.1, 'bias_scaling': 0.0, 'sparsity': 0.99, 'activation_function': 'relu', 'alpha': 10.0}, 'accuracy': [73.39449310302734, 77.06421661376953, 76.14678192138672, 75.22935485839844], 'time': [0.6899666525423527, 0.8150058528408408, 0.695906188338995, 0.713997982442379]}\n"
     ]
    },
    {
     "name": "stderr",
     "output_type": "stream",
     "text": [
      "Some weights of the model checkpoint at bert-base-uncased were not used when initializing BertModel: ['cls.predictions.bias', 'cls.predictions.transform.dense.weight', 'cls.predictions.transform.LayerNorm.weight', 'cls.seq_relationship.weight', 'cls.predictions.decoder.weight', 'cls.seq_relationship.bias', 'cls.predictions.transform.dense.bias', 'cls.predictions.transform.LayerNorm.bias']\n",
      "- This IS expected if you are initializing BertModel from the checkpoint of a model trained on another task or with another architecture (e.g. initializing a BertForSequenceClassification model from a BertForPreTraining model).\n",
      "- This IS NOT expected if you are initializing BertModel from the checkpoint of a model that you expect to be exactly identical (initializing a BertForSequenceClassification model from a BertForSequenceClassification model).\n"
     ]
    },
    {
     "name": "stdout",
     "output_type": "stream",
     "text": [
      "Model downloaded: bert-base-uncased\n",
      "training time: 0.6549661410972476\n",
      "accuracy: 77.52293395996094\n",
      "{'params': {'reservoir_dim': 1000, 'spectral_radius': 1.5, 'leaking_rate': 0.5, 'input_scaling': 0.1, 'bias_scaling': 0.0, 'sparsity': 0.99, 'activation_function': 'relu', 'alpha': 10.0}, 'accuracy': [73.39449310302734, 77.06421661376953, 76.14678192138672, 75.22935485839844, 77.52293395996094], 'time': [0.6899666525423527, 0.8150058528408408, 0.695906188338995, 0.713997982442379, 0.6549661410972476]}\n"
     ]
    },
    {
     "data": {
      "application/vnd.jupyter.widget-view+json": {
       "model_id": "f923a54c8a5742f9bfd8c8d1851012b8",
       "version_major": 2,
       "version_minor": 0
      },
      "text/plain": [
       "  0%|          | 0/5 [00:00<?, ?it/s]"
      ]
     },
     "metadata": {},
     "output_type": "display_data"
    },
    {
     "name": "stderr",
     "output_type": "stream",
     "text": [
      "Some weights of the model checkpoint at bert-base-uncased were not used when initializing BertModel: ['cls.predictions.bias', 'cls.predictions.transform.dense.weight', 'cls.predictions.transform.LayerNorm.weight', 'cls.seq_relationship.weight', 'cls.predictions.decoder.weight', 'cls.seq_relationship.bias', 'cls.predictions.transform.dense.bias', 'cls.predictions.transform.LayerNorm.bias']\n",
      "- This IS expected if you are initializing BertModel from the checkpoint of a model trained on another task or with another architecture (e.g. initializing a BertForSequenceClassification model from a BertForPreTraining model).\n",
      "- This IS NOT expected if you are initializing BertModel from the checkpoint of a model that you expect to be exactly identical (initializing a BertForSequenceClassification model from a BertForSequenceClassification model).\n"
     ]
    },
    {
     "name": "stdout",
     "output_type": "stream",
     "text": [
      "Model downloaded: bert-base-uncased\n",
      "training time: 0.7609838545322418\n",
      "accuracy: 56.88072967529297\n",
      "{'params': {'reservoir_dim': 1000, 'spectral_radius': 1.5, 'leaking_rate': 0.5, 'input_scaling': 1.0, 'bias_scaling': 0.0, 'sparsity': 0.0, 'activation_function': 'relu', 'alpha': 0.1}, 'accuracy': [56.88072967529297], 'time': [0.7609838545322418]}\n"
     ]
    },
    {
     "name": "stderr",
     "output_type": "stream",
     "text": [
      "Some weights of the model checkpoint at bert-base-uncased were not used when initializing BertModel: ['cls.predictions.bias', 'cls.predictions.transform.dense.weight', 'cls.predictions.transform.LayerNorm.weight', 'cls.seq_relationship.weight', 'cls.predictions.decoder.weight', 'cls.seq_relationship.bias', 'cls.predictions.transform.dense.bias', 'cls.predictions.transform.LayerNorm.bias']\n",
      "- This IS expected if you are initializing BertModel from the checkpoint of a model trained on another task or with another architecture (e.g. initializing a BertForSequenceClassification model from a BertForPreTraining model).\n",
      "- This IS NOT expected if you are initializing BertModel from the checkpoint of a model that you expect to be exactly identical (initializing a BertForSequenceClassification model from a BertForSequenceClassification model).\n"
     ]
    },
    {
     "name": "stdout",
     "output_type": "stream",
     "text": [
      "Model downloaded: bert-base-uncased\n",
      "training time: 0.7417885176837444\n",
      "accuracy: 52.293575286865234\n",
      "{'params': {'reservoir_dim': 1000, 'spectral_radius': 1.5, 'leaking_rate': 0.5, 'input_scaling': 1.0, 'bias_scaling': 0.0, 'sparsity': 0.0, 'activation_function': 'relu', 'alpha': 0.1}, 'accuracy': [56.88072967529297, 52.293575286865234], 'time': [0.7609838545322418, 0.7417885176837444]}\n"
     ]
    },
    {
     "name": "stderr",
     "output_type": "stream",
     "text": [
      "Some weights of the model checkpoint at bert-base-uncased were not used when initializing BertModel: ['cls.predictions.bias', 'cls.predictions.transform.dense.weight', 'cls.predictions.transform.LayerNorm.weight', 'cls.seq_relationship.weight', 'cls.predictions.decoder.weight', 'cls.seq_relationship.bias', 'cls.predictions.transform.dense.bias', 'cls.predictions.transform.LayerNorm.bias']\n",
      "- This IS expected if you are initializing BertModel from the checkpoint of a model trained on another task or with another architecture (e.g. initializing a BertForSequenceClassification model from a BertForPreTraining model).\n",
      "- This IS NOT expected if you are initializing BertModel from the checkpoint of a model that you expect to be exactly identical (initializing a BertForSequenceClassification model from a BertForSequenceClassification model).\n"
     ]
    },
    {
     "name": "stdout",
     "output_type": "stream",
     "text": [
      "Model downloaded: bert-base-uncased\n",
      "training time: 0.6967047909274697\n",
      "accuracy: 54.587154388427734\n",
      "{'params': {'reservoir_dim': 1000, 'spectral_radius': 1.5, 'leaking_rate': 0.5, 'input_scaling': 1.0, 'bias_scaling': 0.0, 'sparsity': 0.0, 'activation_function': 'relu', 'alpha': 0.1}, 'accuracy': [56.88072967529297, 52.293575286865234, 54.587154388427734], 'time': [0.7609838545322418, 0.7417885176837444, 0.6967047909274697]}\n"
     ]
    },
    {
     "name": "stderr",
     "output_type": "stream",
     "text": [
      "Some weights of the model checkpoint at bert-base-uncased were not used when initializing BertModel: ['cls.predictions.bias', 'cls.predictions.transform.dense.weight', 'cls.predictions.transform.LayerNorm.weight', 'cls.seq_relationship.weight', 'cls.predictions.decoder.weight', 'cls.seq_relationship.bias', 'cls.predictions.transform.dense.bias', 'cls.predictions.transform.LayerNorm.bias']\n",
      "- This IS expected if you are initializing BertModel from the checkpoint of a model trained on another task or with another architecture (e.g. initializing a BertForSequenceClassification model from a BertForPreTraining model).\n",
      "- This IS NOT expected if you are initializing BertModel from the checkpoint of a model that you expect to be exactly identical (initializing a BertForSequenceClassification model from a BertForSequenceClassification model).\n"
     ]
    },
    {
     "name": "stdout",
     "output_type": "stream",
     "text": [
      "Model downloaded: bert-base-uncased\n",
      "training time: 0.7675549248233438\n",
      "accuracy: 46.33027267456055\n",
      "{'params': {'reservoir_dim': 1000, 'spectral_radius': 1.5, 'leaking_rate': 0.5, 'input_scaling': 1.0, 'bias_scaling': 0.0, 'sparsity': 0.0, 'activation_function': 'relu', 'alpha': 0.1}, 'accuracy': [56.88072967529297, 52.293575286865234, 54.587154388427734, 46.33027267456055], 'time': [0.7609838545322418, 0.7417885176837444, 0.6967047909274697, 0.7675549248233438]}\n"
     ]
    },
    {
     "name": "stderr",
     "output_type": "stream",
     "text": [
      "Some weights of the model checkpoint at bert-base-uncased were not used when initializing BertModel: ['cls.predictions.bias', 'cls.predictions.transform.dense.weight', 'cls.predictions.transform.LayerNorm.weight', 'cls.seq_relationship.weight', 'cls.predictions.decoder.weight', 'cls.seq_relationship.bias', 'cls.predictions.transform.dense.bias', 'cls.predictions.transform.LayerNorm.bias']\n",
      "- This IS expected if you are initializing BertModel from the checkpoint of a model trained on another task or with another architecture (e.g. initializing a BertForSequenceClassification model from a BertForPreTraining model).\n",
      "- This IS NOT expected if you are initializing BertModel from the checkpoint of a model that you expect to be exactly identical (initializing a BertForSequenceClassification model from a BertForSequenceClassification model).\n"
     ]
    },
    {
     "name": "stdout",
     "output_type": "stream",
     "text": [
      "Model downloaded: bert-base-uncased\n",
      "training time: 0.6995743894949555\n",
      "accuracy: 44.49541091918945\n",
      "{'params': {'reservoir_dim': 1000, 'spectral_radius': 1.5, 'leaking_rate': 0.5, 'input_scaling': 1.0, 'bias_scaling': 0.0, 'sparsity': 0.0, 'activation_function': 'relu', 'alpha': 0.1}, 'accuracy': [56.88072967529297, 52.293575286865234, 54.587154388427734, 46.33027267456055, 44.49541091918945], 'time': [0.7609838545322418, 0.7417885176837444, 0.6967047909274697, 0.7675549248233438, 0.6995743894949555]}\n"
     ]
    },
    {
     "data": {
      "application/vnd.jupyter.widget-view+json": {
       "model_id": "97da6994e6eb4438a066876a6c7e6b67",
       "version_major": 2,
       "version_minor": 0
      },
      "text/plain": [
       "  0%|          | 0/5 [00:00<?, ?it/s]"
      ]
     },
     "metadata": {},
     "output_type": "display_data"
    },
    {
     "name": "stderr",
     "output_type": "stream",
     "text": [
      "Some weights of the model checkpoint at bert-base-uncased were not used when initializing BertModel: ['cls.predictions.bias', 'cls.predictions.transform.dense.weight', 'cls.predictions.transform.LayerNorm.weight', 'cls.seq_relationship.weight', 'cls.predictions.decoder.weight', 'cls.seq_relationship.bias', 'cls.predictions.transform.dense.bias', 'cls.predictions.transform.LayerNorm.bias']\n",
      "- This IS expected if you are initializing BertModel from the checkpoint of a model trained on another task or with another architecture (e.g. initializing a BertForSequenceClassification model from a BertForPreTraining model).\n",
      "- This IS NOT expected if you are initializing BertModel from the checkpoint of a model that you expect to be exactly identical (initializing a BertForSequenceClassification model from a BertForSequenceClassification model).\n"
     ]
    },
    {
     "name": "stdout",
     "output_type": "stream",
     "text": [
      "Model downloaded: bert-base-uncased\n",
      "training time: 0.759836457669735\n",
      "accuracy: 58.71559524536133\n",
      "{'params': {'reservoir_dim': 1000, 'spectral_radius': 1.5, 'leaking_rate': 0.5, 'input_scaling': 1.0, 'bias_scaling': 0.0, 'sparsity': 0.0, 'activation_function': 'relu', 'alpha': 1.0}, 'accuracy': [58.71559524536133], 'time': [0.759836457669735]}\n"
     ]
    },
    {
     "name": "stderr",
     "output_type": "stream",
     "text": [
      "Some weights of the model checkpoint at bert-base-uncased were not used when initializing BertModel: ['cls.predictions.bias', 'cls.predictions.transform.dense.weight', 'cls.predictions.transform.LayerNorm.weight', 'cls.seq_relationship.weight', 'cls.predictions.decoder.weight', 'cls.seq_relationship.bias', 'cls.predictions.transform.dense.bias', 'cls.predictions.transform.LayerNorm.bias']\n",
      "- This IS expected if you are initializing BertModel from the checkpoint of a model trained on another task or with another architecture (e.g. initializing a BertForSequenceClassification model from a BertForPreTraining model).\n",
      "- This IS NOT expected if you are initializing BertModel from the checkpoint of a model that you expect to be exactly identical (initializing a BertForSequenceClassification model from a BertForSequenceClassification model).\n"
     ]
    },
    {
     "name": "stdout",
     "output_type": "stream",
     "text": [
      "Model downloaded: bert-base-uncased\n",
      "training time: 0.6933288481086493\n",
      "accuracy: 55.045867919921875\n",
      "{'params': {'reservoir_dim': 1000, 'spectral_radius': 1.5, 'leaking_rate': 0.5, 'input_scaling': 1.0, 'bias_scaling': 0.0, 'sparsity': 0.0, 'activation_function': 'relu', 'alpha': 1.0}, 'accuracy': [58.71559524536133, 55.045867919921875], 'time': [0.759836457669735, 0.6933288481086493]}\n"
     ]
    },
    {
     "name": "stderr",
     "output_type": "stream",
     "text": [
      "Some weights of the model checkpoint at bert-base-uncased were not used when initializing BertModel: ['cls.predictions.bias', 'cls.predictions.transform.dense.weight', 'cls.predictions.transform.LayerNorm.weight', 'cls.seq_relationship.weight', 'cls.predictions.decoder.weight', 'cls.seq_relationship.bias', 'cls.predictions.transform.dense.bias', 'cls.predictions.transform.LayerNorm.bias']\n",
      "- This IS expected if you are initializing BertModel from the checkpoint of a model trained on another task or with another architecture (e.g. initializing a BertForSequenceClassification model from a BertForPreTraining model).\n",
      "- This IS NOT expected if you are initializing BertModel from the checkpoint of a model that you expect to be exactly identical (initializing a BertForSequenceClassification model from a BertForSequenceClassification model).\n"
     ]
    },
    {
     "name": "stdout",
     "output_type": "stream",
     "text": [
      "Model downloaded: bert-base-uncased\n",
      "training time: 0.7263298416510224\n",
      "accuracy: 56.88072967529297\n",
      "{'params': {'reservoir_dim': 1000, 'spectral_radius': 1.5, 'leaking_rate': 0.5, 'input_scaling': 1.0, 'bias_scaling': 0.0, 'sparsity': 0.0, 'activation_function': 'relu', 'alpha': 1.0}, 'accuracy': [58.71559524536133, 55.045867919921875, 56.88072967529297], 'time': [0.759836457669735, 0.6933288481086493, 0.7263298416510224]}\n"
     ]
    },
    {
     "name": "stderr",
     "output_type": "stream",
     "text": [
      "Some weights of the model checkpoint at bert-base-uncased were not used when initializing BertModel: ['cls.predictions.bias', 'cls.predictions.transform.dense.weight', 'cls.predictions.transform.LayerNorm.weight', 'cls.seq_relationship.weight', 'cls.predictions.decoder.weight', 'cls.seq_relationship.bias', 'cls.predictions.transform.dense.bias', 'cls.predictions.transform.LayerNorm.bias']\n",
      "- This IS expected if you are initializing BertModel from the checkpoint of a model trained on another task or with another architecture (e.g. initializing a BertForSequenceClassification model from a BertForPreTraining model).\n",
      "- This IS NOT expected if you are initializing BertModel from the checkpoint of a model that you expect to be exactly identical (initializing a BertForSequenceClassification model from a BertForSequenceClassification model).\n"
     ]
    },
    {
     "name": "stdout",
     "output_type": "stream",
     "text": [
      "Model downloaded: bert-base-uncased\n",
      "training time: 0.7247612336650491\n",
      "accuracy: 50.45871353149414\n",
      "{'params': {'reservoir_dim': 1000, 'spectral_radius': 1.5, 'leaking_rate': 0.5, 'input_scaling': 1.0, 'bias_scaling': 0.0, 'sparsity': 0.0, 'activation_function': 'relu', 'alpha': 1.0}, 'accuracy': [58.71559524536133, 55.045867919921875, 56.88072967529297, 50.45871353149414], 'time': [0.759836457669735, 0.6933288481086493, 0.7263298416510224, 0.7247612336650491]}\n"
     ]
    },
    {
     "name": "stderr",
     "output_type": "stream",
     "text": [
      "Some weights of the model checkpoint at bert-base-uncased were not used when initializing BertModel: ['cls.predictions.bias', 'cls.predictions.transform.dense.weight', 'cls.predictions.transform.LayerNorm.weight', 'cls.seq_relationship.weight', 'cls.predictions.decoder.weight', 'cls.seq_relationship.bias', 'cls.predictions.transform.dense.bias', 'cls.predictions.transform.LayerNorm.bias']\n",
      "- This IS expected if you are initializing BertModel from the checkpoint of a model trained on another task or with another architecture (e.g. initializing a BertForSequenceClassification model from a BertForPreTraining model).\n",
      "- This IS NOT expected if you are initializing BertModel from the checkpoint of a model that you expect to be exactly identical (initializing a BertForSequenceClassification model from a BertForSequenceClassification model).\n"
     ]
    },
    {
     "name": "stdout",
     "output_type": "stream",
     "text": [
      "Model downloaded: bert-base-uncased\n",
      "training time: 0.8268410684540868\n",
      "accuracy: 49.541282653808594\n",
      "{'params': {'reservoir_dim': 1000, 'spectral_radius': 1.5, 'leaking_rate': 0.5, 'input_scaling': 1.0, 'bias_scaling': 0.0, 'sparsity': 0.0, 'activation_function': 'relu', 'alpha': 1.0}, 'accuracy': [58.71559524536133, 55.045867919921875, 56.88072967529297, 50.45871353149414, 49.541282653808594], 'time': [0.759836457669735, 0.6933288481086493, 0.7263298416510224, 0.7247612336650491, 0.8268410684540868]}\n"
     ]
    },
    {
     "data": {
      "application/vnd.jupyter.widget-view+json": {
       "model_id": "edd81751c7324418b11c77f75198ec29",
       "version_major": 2,
       "version_minor": 0
      },
      "text/plain": [
       "  0%|          | 0/5 [00:00<?, ?it/s]"
      ]
     },
     "metadata": {},
     "output_type": "display_data"
    },
    {
     "name": "stderr",
     "output_type": "stream",
     "text": [
      "Some weights of the model checkpoint at bert-base-uncased were not used when initializing BertModel: ['cls.predictions.bias', 'cls.predictions.transform.dense.weight', 'cls.predictions.transform.LayerNorm.weight', 'cls.seq_relationship.weight', 'cls.predictions.decoder.weight', 'cls.seq_relationship.bias', 'cls.predictions.transform.dense.bias', 'cls.predictions.transform.LayerNorm.bias']\n",
      "- This IS expected if you are initializing BertModel from the checkpoint of a model trained on another task or with another architecture (e.g. initializing a BertForSequenceClassification model from a BertForPreTraining model).\n",
      "- This IS NOT expected if you are initializing BertModel from the checkpoint of a model that you expect to be exactly identical (initializing a BertForSequenceClassification model from a BertForSequenceClassification model).\n"
     ]
    },
    {
     "name": "stdout",
     "output_type": "stream",
     "text": [
      "Model downloaded: bert-base-uncased\n",
      "training time: 0.6971759935840964\n",
      "accuracy: 64.22018432617188\n",
      "{'params': {'reservoir_dim': 1000, 'spectral_radius': 1.5, 'leaking_rate': 0.5, 'input_scaling': 1.0, 'bias_scaling': 0.0, 'sparsity': 0.0, 'activation_function': 'relu', 'alpha': 10.0}, 'accuracy': [64.22018432617188], 'time': [0.6971759935840964]}\n"
     ]
    },
    {
     "name": "stderr",
     "output_type": "stream",
     "text": [
      "Some weights of the model checkpoint at bert-base-uncased were not used when initializing BertModel: ['cls.predictions.bias', 'cls.predictions.transform.dense.weight', 'cls.predictions.transform.LayerNorm.weight', 'cls.seq_relationship.weight', 'cls.predictions.decoder.weight', 'cls.seq_relationship.bias', 'cls.predictions.transform.dense.bias', 'cls.predictions.transform.LayerNorm.bias']\n",
      "- This IS expected if you are initializing BertModel from the checkpoint of a model trained on another task or with another architecture (e.g. initializing a BertForSequenceClassification model from a BertForPreTraining model).\n",
      "- This IS NOT expected if you are initializing BertModel from the checkpoint of a model that you expect to be exactly identical (initializing a BertForSequenceClassification model from a BertForSequenceClassification model).\n"
     ]
    },
    {
     "name": "stdout",
     "output_type": "stream",
     "text": [
      "Model downloaded: bert-base-uncased\n",
      "training time: 0.6998198768123984\n",
      "accuracy: 60.091739654541016\n",
      "{'params': {'reservoir_dim': 1000, 'spectral_radius': 1.5, 'leaking_rate': 0.5, 'input_scaling': 1.0, 'bias_scaling': 0.0, 'sparsity': 0.0, 'activation_function': 'relu', 'alpha': 10.0}, 'accuracy': [64.22018432617188, 60.091739654541016], 'time': [0.6971759935840964, 0.6998198768123984]}\n"
     ]
    },
    {
     "name": "stderr",
     "output_type": "stream",
     "text": [
      "Some weights of the model checkpoint at bert-base-uncased were not used when initializing BertModel: ['cls.predictions.bias', 'cls.predictions.transform.dense.weight', 'cls.predictions.transform.LayerNorm.weight', 'cls.seq_relationship.weight', 'cls.predictions.decoder.weight', 'cls.seq_relationship.bias', 'cls.predictions.transform.dense.bias', 'cls.predictions.transform.LayerNorm.bias']\n",
      "- This IS expected if you are initializing BertModel from the checkpoint of a model trained on another task or with another architecture (e.g. initializing a BertForSequenceClassification model from a BertForPreTraining model).\n",
      "- This IS NOT expected if you are initializing BertModel from the checkpoint of a model that you expect to be exactly identical (initializing a BertForSequenceClassification model from a BertForSequenceClassification model).\n"
     ]
    },
    {
     "name": "stdout",
     "output_type": "stream",
     "text": [
      "Model downloaded: bert-base-uncased\n",
      "training time: 0.7487272741273046\n",
      "accuracy: 61.46788787841797\n",
      "{'params': {'reservoir_dim': 1000, 'spectral_radius': 1.5, 'leaking_rate': 0.5, 'input_scaling': 1.0, 'bias_scaling': 0.0, 'sparsity': 0.0, 'activation_function': 'relu', 'alpha': 10.0}, 'accuracy': [64.22018432617188, 60.091739654541016, 61.46788787841797], 'time': [0.6971759935840964, 0.6998198768123984, 0.7487272741273046]}\n"
     ]
    },
    {
     "name": "stderr",
     "output_type": "stream",
     "text": [
      "Some weights of the model checkpoint at bert-base-uncased were not used when initializing BertModel: ['cls.predictions.bias', 'cls.predictions.transform.dense.weight', 'cls.predictions.transform.LayerNorm.weight', 'cls.seq_relationship.weight', 'cls.predictions.decoder.weight', 'cls.seq_relationship.bias', 'cls.predictions.transform.dense.bias', 'cls.predictions.transform.LayerNorm.bias']\n",
      "- This IS expected if you are initializing BertModel from the checkpoint of a model trained on another task or with another architecture (e.g. initializing a BertForSequenceClassification model from a BertForPreTraining model).\n",
      "- This IS NOT expected if you are initializing BertModel from the checkpoint of a model that you expect to be exactly identical (initializing a BertForSequenceClassification model from a BertForSequenceClassification model).\n"
     ]
    },
    {
     "name": "stdout",
     "output_type": "stream",
     "text": [
      "Model downloaded: bert-base-uncased\n",
      "training time: 0.7142944624647498\n",
      "accuracy: 61.46788787841797\n",
      "{'params': {'reservoir_dim': 1000, 'spectral_radius': 1.5, 'leaking_rate': 0.5, 'input_scaling': 1.0, 'bias_scaling': 0.0, 'sparsity': 0.0, 'activation_function': 'relu', 'alpha': 10.0}, 'accuracy': [64.22018432617188, 60.091739654541016, 61.46788787841797, 61.46788787841797], 'time': [0.6971759935840964, 0.6998198768123984, 0.7487272741273046, 0.7142944624647498]}\n"
     ]
    },
    {
     "name": "stderr",
     "output_type": "stream",
     "text": [
      "Some weights of the model checkpoint at bert-base-uncased were not used when initializing BertModel: ['cls.predictions.bias', 'cls.predictions.transform.dense.weight', 'cls.predictions.transform.LayerNorm.weight', 'cls.seq_relationship.weight', 'cls.predictions.decoder.weight', 'cls.seq_relationship.bias', 'cls.predictions.transform.dense.bias', 'cls.predictions.transform.LayerNorm.bias']\n",
      "- This IS expected if you are initializing BertModel from the checkpoint of a model trained on another task or with another architecture (e.g. initializing a BertForSequenceClassification model from a BertForPreTraining model).\n",
      "- This IS NOT expected if you are initializing BertModel from the checkpoint of a model that you expect to be exactly identical (initializing a BertForSequenceClassification model from a BertForSequenceClassification model).\n"
     ]
    },
    {
     "name": "stdout",
     "output_type": "stream",
     "text": [
      "Model downloaded: bert-base-uncased\n",
      "training time: 0.7610450861975551\n",
      "accuracy: 62.385318756103516\n",
      "{'params': {'reservoir_dim': 1000, 'spectral_radius': 1.5, 'leaking_rate': 0.5, 'input_scaling': 1.0, 'bias_scaling': 0.0, 'sparsity': 0.0, 'activation_function': 'relu', 'alpha': 10.0}, 'accuracy': [64.22018432617188, 60.091739654541016, 61.46788787841797, 61.46788787841797, 62.385318756103516], 'time': [0.6971759935840964, 0.6998198768123984, 0.7487272741273046, 0.7142944624647498, 0.7610450861975551]}\n"
     ]
    },
    {
     "data": {
      "application/vnd.jupyter.widget-view+json": {
       "model_id": "4867e5f42b45427baea7969086a6a770",
       "version_major": 2,
       "version_minor": 0
      },
      "text/plain": [
       "  0%|          | 0/5 [00:00<?, ?it/s]"
      ]
     },
     "metadata": {},
     "output_type": "display_data"
    },
    {
     "name": "stderr",
     "output_type": "stream",
     "text": [
      "Some weights of the model checkpoint at bert-base-uncased were not used when initializing BertModel: ['cls.predictions.bias', 'cls.predictions.transform.dense.weight', 'cls.predictions.transform.LayerNorm.weight', 'cls.seq_relationship.weight', 'cls.predictions.decoder.weight', 'cls.seq_relationship.bias', 'cls.predictions.transform.dense.bias', 'cls.predictions.transform.LayerNorm.bias']\n",
      "- This IS expected if you are initializing BertModel from the checkpoint of a model trained on another task or with another architecture (e.g. initializing a BertForSequenceClassification model from a BertForPreTraining model).\n",
      "- This IS NOT expected if you are initializing BertModel from the checkpoint of a model that you expect to be exactly identical (initializing a BertForSequenceClassification model from a BertForSequenceClassification model).\n"
     ]
    },
    {
     "name": "stdout",
     "output_type": "stream",
     "text": [
      "Model downloaded: bert-base-uncased\n",
      "training time: 0.7375222984701395\n",
      "accuracy: 61.46788787841797\n",
      "{'params': {'reservoir_dim': 1000, 'spectral_radius': 1.5, 'leaking_rate': 0.5, 'input_scaling': 1.0, 'bias_scaling': 0.0, 'sparsity': 0.99, 'activation_function': 'relu', 'alpha': 0.1}, 'accuracy': [61.46788787841797], 'time': [0.7375222984701395]}\n"
     ]
    },
    {
     "name": "stderr",
     "output_type": "stream",
     "text": [
      "Some weights of the model checkpoint at bert-base-uncased were not used when initializing BertModel: ['cls.predictions.bias', 'cls.predictions.transform.dense.weight', 'cls.predictions.transform.LayerNorm.weight', 'cls.seq_relationship.weight', 'cls.predictions.decoder.weight', 'cls.seq_relationship.bias', 'cls.predictions.transform.dense.bias', 'cls.predictions.transform.LayerNorm.bias']\n",
      "- This IS expected if you are initializing BertModel from the checkpoint of a model trained on another task or with another architecture (e.g. initializing a BertForSequenceClassification model from a BertForPreTraining model).\n",
      "- This IS NOT expected if you are initializing BertModel from the checkpoint of a model that you expect to be exactly identical (initializing a BertForSequenceClassification model from a BertForSequenceClassification model).\n"
     ]
    },
    {
     "name": "stdout",
     "output_type": "stream",
     "text": [
      "Model downloaded: bert-base-uncased\n",
      "training time: 0.8302512150257826\n",
      "accuracy: 38.07339096069336\n",
      "{'params': {'reservoir_dim': 1000, 'spectral_radius': 1.5, 'leaking_rate': 0.5, 'input_scaling': 1.0, 'bias_scaling': 0.0, 'sparsity': 0.99, 'activation_function': 'relu', 'alpha': 0.1}, 'accuracy': [61.46788787841797, 38.07339096069336], 'time': [0.7375222984701395, 0.8302512150257826]}\n"
     ]
    },
    {
     "name": "stderr",
     "output_type": "stream",
     "text": [
      "Some weights of the model checkpoint at bert-base-uncased were not used when initializing BertModel: ['cls.predictions.bias', 'cls.predictions.transform.dense.weight', 'cls.predictions.transform.LayerNorm.weight', 'cls.seq_relationship.weight', 'cls.predictions.decoder.weight', 'cls.seq_relationship.bias', 'cls.predictions.transform.dense.bias', 'cls.predictions.transform.LayerNorm.bias']\n",
      "- This IS expected if you are initializing BertModel from the checkpoint of a model trained on another task or with another architecture (e.g. initializing a BertForSequenceClassification model from a BertForPreTraining model).\n",
      "- This IS NOT expected if you are initializing BertModel from the checkpoint of a model that you expect to be exactly identical (initializing a BertForSequenceClassification model from a BertForSequenceClassification model).\n"
     ]
    },
    {
     "name": "stdout",
     "output_type": "stream",
     "text": [
      "Model downloaded: bert-base-uncased\n",
      "training time: 0.7906291671097279\n",
      "accuracy: 35.32109832763672\n",
      "{'params': {'reservoir_dim': 1000, 'spectral_radius': 1.5, 'leaking_rate': 0.5, 'input_scaling': 1.0, 'bias_scaling': 0.0, 'sparsity': 0.99, 'activation_function': 'relu', 'alpha': 0.1}, 'accuracy': [61.46788787841797, 38.07339096069336, 35.32109832763672], 'time': [0.7375222984701395, 0.8302512150257826, 0.7906291671097279]}\n"
     ]
    },
    {
     "name": "stderr",
     "output_type": "stream",
     "text": [
      "Some weights of the model checkpoint at bert-base-uncased were not used when initializing BertModel: ['cls.predictions.bias', 'cls.predictions.transform.dense.weight', 'cls.predictions.transform.LayerNorm.weight', 'cls.seq_relationship.weight', 'cls.predictions.decoder.weight', 'cls.seq_relationship.bias', 'cls.predictions.transform.dense.bias', 'cls.predictions.transform.LayerNorm.bias']\n",
      "- This IS expected if you are initializing BertModel from the checkpoint of a model trained on another task or with another architecture (e.g. initializing a BertForSequenceClassification model from a BertForPreTraining model).\n",
      "- This IS NOT expected if you are initializing BertModel from the checkpoint of a model that you expect to be exactly identical (initializing a BertForSequenceClassification model from a BertForSequenceClassification model).\n"
     ]
    },
    {
     "name": "stdout",
     "output_type": "stream",
     "text": [
      "Model downloaded: bert-base-uncased\n",
      "training time: 0.7794102663174272\n",
      "accuracy: 38.532108306884766\n",
      "{'params': {'reservoir_dim': 1000, 'spectral_radius': 1.5, 'leaking_rate': 0.5, 'input_scaling': 1.0, 'bias_scaling': 0.0, 'sparsity': 0.99, 'activation_function': 'relu', 'alpha': 0.1}, 'accuracy': [61.46788787841797, 38.07339096069336, 35.32109832763672, 38.532108306884766], 'time': [0.7375222984701395, 0.8302512150257826, 0.7906291671097279, 0.7794102663174272]}\n"
     ]
    },
    {
     "name": "stderr",
     "output_type": "stream",
     "text": [
      "Some weights of the model checkpoint at bert-base-uncased were not used when initializing BertModel: ['cls.predictions.bias', 'cls.predictions.transform.dense.weight', 'cls.predictions.transform.LayerNorm.weight', 'cls.seq_relationship.weight', 'cls.predictions.decoder.weight', 'cls.seq_relationship.bias', 'cls.predictions.transform.dense.bias', 'cls.predictions.transform.LayerNorm.bias']\n",
      "- This IS expected if you are initializing BertModel from the checkpoint of a model trained on another task or with another architecture (e.g. initializing a BertForSequenceClassification model from a BertForPreTraining model).\n",
      "- This IS NOT expected if you are initializing BertModel from the checkpoint of a model that you expect to be exactly identical (initializing a BertForSequenceClassification model from a BertForSequenceClassification model).\n"
     ]
    },
    {
     "name": "stdout",
     "output_type": "stream",
     "text": [
      "Model downloaded: bert-base-uncased\n",
      "training time: 0.7799209300428629\n",
      "accuracy: 63.76146697998047\n",
      "{'params': {'reservoir_dim': 1000, 'spectral_radius': 1.5, 'leaking_rate': 0.5, 'input_scaling': 1.0, 'bias_scaling': 0.0, 'sparsity': 0.99, 'activation_function': 'relu', 'alpha': 0.1}, 'accuracy': [61.46788787841797, 38.07339096069336, 35.32109832763672, 38.532108306884766, 63.76146697998047], 'time': [0.7375222984701395, 0.8302512150257826, 0.7906291671097279, 0.7794102663174272, 0.7799209300428629]}\n"
     ]
    },
    {
     "data": {
      "application/vnd.jupyter.widget-view+json": {
       "model_id": "e4f94d68b3a6484bb540b1b2efeea8a2",
       "version_major": 2,
       "version_minor": 0
      },
      "text/plain": [
       "  0%|          | 0/5 [00:00<?, ?it/s]"
      ]
     },
     "metadata": {},
     "output_type": "display_data"
    },
    {
     "name": "stderr",
     "output_type": "stream",
     "text": [
      "Some weights of the model checkpoint at bert-base-uncased were not used when initializing BertModel: ['cls.predictions.bias', 'cls.predictions.transform.dense.weight', 'cls.predictions.transform.LayerNorm.weight', 'cls.seq_relationship.weight', 'cls.predictions.decoder.weight', 'cls.seq_relationship.bias', 'cls.predictions.transform.dense.bias', 'cls.predictions.transform.LayerNorm.bias']\n",
      "- This IS expected if you are initializing BertModel from the checkpoint of a model trained on another task or with another architecture (e.g. initializing a BertForSequenceClassification model from a BertForPreTraining model).\n",
      "- This IS NOT expected if you are initializing BertModel from the checkpoint of a model that you expect to be exactly identical (initializing a BertForSequenceClassification model from a BertForSequenceClassification model).\n"
     ]
    },
    {
     "name": "stdout",
     "output_type": "stream",
     "text": [
      "Model downloaded: bert-base-uncased\n",
      "training time: 0.7131613763049245\n",
      "accuracy: 51.834861755371094\n",
      "{'params': {'reservoir_dim': 1000, 'spectral_radius': 1.5, 'leaking_rate': 0.5, 'input_scaling': 1.0, 'bias_scaling': 0.0, 'sparsity': 0.99, 'activation_function': 'relu', 'alpha': 1.0}, 'accuracy': [51.834861755371094], 'time': [0.7131613763049245]}\n"
     ]
    },
    {
     "name": "stderr",
     "output_type": "stream",
     "text": [
      "Some weights of the model checkpoint at bert-base-uncased were not used when initializing BertModel: ['cls.predictions.bias', 'cls.predictions.transform.dense.weight', 'cls.predictions.transform.LayerNorm.weight', 'cls.seq_relationship.weight', 'cls.predictions.decoder.weight', 'cls.seq_relationship.bias', 'cls.predictions.transform.dense.bias', 'cls.predictions.transform.LayerNorm.bias']\n",
      "- This IS expected if you are initializing BertModel from the checkpoint of a model trained on another task or with another architecture (e.g. initializing a BertForSequenceClassification model from a BertForPreTraining model).\n",
      "- This IS NOT expected if you are initializing BertModel from the checkpoint of a model that you expect to be exactly identical (initializing a BertForSequenceClassification model from a BertForSequenceClassification model).\n"
     ]
    },
    {
     "name": "stdout",
     "output_type": "stream",
     "text": [
      "Model downloaded: bert-base-uncased\n",
      "training time: 0.7419713139533997\n",
      "accuracy: 44.49541091918945\n",
      "{'params': {'reservoir_dim': 1000, 'spectral_radius': 1.5, 'leaking_rate': 0.5, 'input_scaling': 1.0, 'bias_scaling': 0.0, 'sparsity': 0.99, 'activation_function': 'relu', 'alpha': 1.0}, 'accuracy': [51.834861755371094, 44.49541091918945], 'time': [0.7131613763049245, 0.7419713139533997]}\n"
     ]
    },
    {
     "name": "stderr",
     "output_type": "stream",
     "text": [
      "Some weights of the model checkpoint at bert-base-uncased were not used when initializing BertModel: ['cls.predictions.bias', 'cls.predictions.transform.dense.weight', 'cls.predictions.transform.LayerNorm.weight', 'cls.seq_relationship.weight', 'cls.predictions.decoder.weight', 'cls.seq_relationship.bias', 'cls.predictions.transform.dense.bias', 'cls.predictions.transform.LayerNorm.bias']\n",
      "- This IS expected if you are initializing BertModel from the checkpoint of a model trained on another task or with another architecture (e.g. initializing a BertForSequenceClassification model from a BertForPreTraining model).\n",
      "- This IS NOT expected if you are initializing BertModel from the checkpoint of a model that you expect to be exactly identical (initializing a BertForSequenceClassification model from a BertForSequenceClassification model).\n"
     ]
    },
    {
     "name": "stdout",
     "output_type": "stream",
     "text": [
      "Model downloaded: bert-base-uncased\n",
      "training time: 0.8713372815400362\n",
      "accuracy: 46.78899002075195\n",
      "{'params': {'reservoir_dim': 1000, 'spectral_radius': 1.5, 'leaking_rate': 0.5, 'input_scaling': 1.0, 'bias_scaling': 0.0, 'sparsity': 0.99, 'activation_function': 'relu', 'alpha': 1.0}, 'accuracy': [51.834861755371094, 44.49541091918945, 46.78899002075195], 'time': [0.7131613763049245, 0.7419713139533997, 0.8713372815400362]}\n"
     ]
    },
    {
     "name": "stderr",
     "output_type": "stream",
     "text": [
      "Some weights of the model checkpoint at bert-base-uncased were not used when initializing BertModel: ['cls.predictions.bias', 'cls.predictions.transform.dense.weight', 'cls.predictions.transform.LayerNorm.weight', 'cls.seq_relationship.weight', 'cls.predictions.decoder.weight', 'cls.seq_relationship.bias', 'cls.predictions.transform.dense.bias', 'cls.predictions.transform.LayerNorm.bias']\n",
      "- This IS expected if you are initializing BertModel from the checkpoint of a model trained on another task or with another architecture (e.g. initializing a BertForSequenceClassification model from a BertForPreTraining model).\n",
      "- This IS NOT expected if you are initializing BertModel from the checkpoint of a model that you expect to be exactly identical (initializing a BertForSequenceClassification model from a BertForSequenceClassification model).\n"
     ]
    },
    {
     "name": "stdout",
     "output_type": "stream",
     "text": [
      "Model downloaded: bert-base-uncased\n",
      "training time: 0.7841059491038322\n",
      "accuracy: 43.1192626953125\n",
      "{'params': {'reservoir_dim': 1000, 'spectral_radius': 1.5, 'leaking_rate': 0.5, 'input_scaling': 1.0, 'bias_scaling': 0.0, 'sparsity': 0.99, 'activation_function': 'relu', 'alpha': 1.0}, 'accuracy': [51.834861755371094, 44.49541091918945, 46.78899002075195, 43.1192626953125], 'time': [0.7131613763049245, 0.7419713139533997, 0.8713372815400362, 0.7841059491038322]}\n"
     ]
    },
    {
     "name": "stderr",
     "output_type": "stream",
     "text": [
      "Some weights of the model checkpoint at bert-base-uncased were not used when initializing BertModel: ['cls.predictions.bias', 'cls.predictions.transform.dense.weight', 'cls.predictions.transform.LayerNorm.weight', 'cls.seq_relationship.weight', 'cls.predictions.decoder.weight', 'cls.seq_relationship.bias', 'cls.predictions.transform.dense.bias', 'cls.predictions.transform.LayerNorm.bias']\n",
      "- This IS expected if you are initializing BertModel from the checkpoint of a model trained on another task or with another architecture (e.g. initializing a BertForSequenceClassification model from a BertForPreTraining model).\n",
      "- This IS NOT expected if you are initializing BertModel from the checkpoint of a model that you expect to be exactly identical (initializing a BertForSequenceClassification model from a BertForSequenceClassification model).\n"
     ]
    },
    {
     "name": "stdout",
     "output_type": "stream",
     "text": [
      "Model downloaded: bert-base-uncased\n",
      "training time: 0.692131775431335\n",
      "accuracy: 63.76146697998047\n",
      "{'params': {'reservoir_dim': 1000, 'spectral_radius': 1.5, 'leaking_rate': 0.5, 'input_scaling': 1.0, 'bias_scaling': 0.0, 'sparsity': 0.99, 'activation_function': 'relu', 'alpha': 1.0}, 'accuracy': [51.834861755371094, 44.49541091918945, 46.78899002075195, 43.1192626953125, 63.76146697998047], 'time': [0.7131613763049245, 0.7419713139533997, 0.8713372815400362, 0.7841059491038322, 0.692131775431335]}\n"
     ]
    },
    {
     "data": {
      "application/vnd.jupyter.widget-view+json": {
       "model_id": "fc7620d6041147d1b45cfbc8d32c55a7",
       "version_major": 2,
       "version_minor": 0
      },
      "text/plain": [
       "  0%|          | 0/5 [00:00<?, ?it/s]"
      ]
     },
     "metadata": {},
     "output_type": "display_data"
    },
    {
     "name": "stderr",
     "output_type": "stream",
     "text": [
      "Some weights of the model checkpoint at bert-base-uncased were not used when initializing BertModel: ['cls.predictions.bias', 'cls.predictions.transform.dense.weight', 'cls.predictions.transform.LayerNorm.weight', 'cls.seq_relationship.weight', 'cls.predictions.decoder.weight', 'cls.seq_relationship.bias', 'cls.predictions.transform.dense.bias', 'cls.predictions.transform.LayerNorm.bias']\n",
      "- This IS expected if you are initializing BertModel from the checkpoint of a model trained on another task or with another architecture (e.g. initializing a BertForSequenceClassification model from a BertForPreTraining model).\n",
      "- This IS NOT expected if you are initializing BertModel from the checkpoint of a model that you expect to be exactly identical (initializing a BertForSequenceClassification model from a BertForSequenceClassification model).\n"
     ]
    },
    {
     "name": "stdout",
     "output_type": "stream",
     "text": [
      "Model downloaded: bert-base-uncased\n",
      "training time: 0.6807467499747872\n",
      "accuracy: 25.22935676574707\n",
      "{'params': {'reservoir_dim': 1000, 'spectral_radius': 1.5, 'leaking_rate': 0.5, 'input_scaling': 1.0, 'bias_scaling': 0.0, 'sparsity': 0.99, 'activation_function': 'relu', 'alpha': 10.0}, 'accuracy': [25.22935676574707], 'time': [0.6807467499747872]}\n"
     ]
    },
    {
     "name": "stderr",
     "output_type": "stream",
     "text": [
      "Some weights of the model checkpoint at bert-base-uncased were not used when initializing BertModel: ['cls.predictions.bias', 'cls.predictions.transform.dense.weight', 'cls.predictions.transform.LayerNorm.weight', 'cls.seq_relationship.weight', 'cls.predictions.decoder.weight', 'cls.seq_relationship.bias', 'cls.predictions.transform.dense.bias', 'cls.predictions.transform.LayerNorm.bias']\n",
      "- This IS expected if you are initializing BertModel from the checkpoint of a model trained on another task or with another architecture (e.g. initializing a BertForSequenceClassification model from a BertForPreTraining model).\n",
      "- This IS NOT expected if you are initializing BertModel from the checkpoint of a model that you expect to be exactly identical (initializing a BertForSequenceClassification model from a BertForSequenceClassification model).\n"
     ]
    },
    {
     "name": "stdout",
     "output_type": "stream",
     "text": [
      "Model downloaded: bert-base-uncased\n",
      "training time: 0.708630483597517\n",
      "accuracy: 58.25687789916992\n",
      "{'params': {'reservoir_dim': 1000, 'spectral_radius': 1.5, 'leaking_rate': 0.5, 'input_scaling': 1.0, 'bias_scaling': 0.0, 'sparsity': 0.99, 'activation_function': 'relu', 'alpha': 10.0}, 'accuracy': [25.22935676574707, 58.25687789916992], 'time': [0.6807467499747872, 0.708630483597517]}\n"
     ]
    },
    {
     "name": "stderr",
     "output_type": "stream",
     "text": [
      "Some weights of the model checkpoint at bert-base-uncased were not used when initializing BertModel: ['cls.predictions.bias', 'cls.predictions.transform.dense.weight', 'cls.predictions.transform.LayerNorm.weight', 'cls.seq_relationship.weight', 'cls.predictions.decoder.weight', 'cls.seq_relationship.bias', 'cls.predictions.transform.dense.bias', 'cls.predictions.transform.LayerNorm.bias']\n",
      "- This IS expected if you are initializing BertModel from the checkpoint of a model trained on another task or with another architecture (e.g. initializing a BertForSequenceClassification model from a BertForPreTraining model).\n",
      "- This IS NOT expected if you are initializing BertModel from the checkpoint of a model that you expect to be exactly identical (initializing a BertForSequenceClassification model from a BertForSequenceClassification model).\n"
     ]
    },
    {
     "name": "stdout",
     "output_type": "stream",
     "text": [
      "Model downloaded: bert-base-uncased\n",
      "training time: 0.8544198600575328\n",
      "accuracy: 57.79816436767578\n",
      "{'params': {'reservoir_dim': 1000, 'spectral_radius': 1.5, 'leaking_rate': 0.5, 'input_scaling': 1.0, 'bias_scaling': 0.0, 'sparsity': 0.99, 'activation_function': 'relu', 'alpha': 10.0}, 'accuracy': [25.22935676574707, 58.25687789916992, 57.79816436767578], 'time': [0.6807467499747872, 0.708630483597517, 0.8544198600575328]}\n"
     ]
    },
    {
     "name": "stderr",
     "output_type": "stream",
     "text": [
      "Some weights of the model checkpoint at bert-base-uncased were not used when initializing BertModel: ['cls.predictions.bias', 'cls.predictions.transform.dense.weight', 'cls.predictions.transform.LayerNorm.weight', 'cls.seq_relationship.weight', 'cls.predictions.decoder.weight', 'cls.seq_relationship.bias', 'cls.predictions.transform.dense.bias', 'cls.predictions.transform.LayerNorm.bias']\n",
      "- This IS expected if you are initializing BertModel from the checkpoint of a model trained on another task or with another architecture (e.g. initializing a BertForSequenceClassification model from a BertForPreTraining model).\n",
      "- This IS NOT expected if you are initializing BertModel from the checkpoint of a model that you expect to be exactly identical (initializing a BertForSequenceClassification model from a BertForSequenceClassification model).\n"
     ]
    },
    {
     "name": "stdout",
     "output_type": "stream",
     "text": [
      "Model downloaded: bert-base-uncased\n",
      "training time: 0.7308837631717324\n",
      "accuracy: 57.79816436767578\n",
      "{'params': {'reservoir_dim': 1000, 'spectral_radius': 1.5, 'leaking_rate': 0.5, 'input_scaling': 1.0, 'bias_scaling': 0.0, 'sparsity': 0.99, 'activation_function': 'relu', 'alpha': 10.0}, 'accuracy': [25.22935676574707, 58.25687789916992, 57.79816436767578, 57.79816436767578], 'time': [0.6807467499747872, 0.708630483597517, 0.8544198600575328, 0.7308837631717324]}\n"
     ]
    },
    {
     "name": "stderr",
     "output_type": "stream",
     "text": [
      "Some weights of the model checkpoint at bert-base-uncased were not used when initializing BertModel: ['cls.predictions.bias', 'cls.predictions.transform.dense.weight', 'cls.predictions.transform.LayerNorm.weight', 'cls.seq_relationship.weight', 'cls.predictions.decoder.weight', 'cls.seq_relationship.bias', 'cls.predictions.transform.dense.bias', 'cls.predictions.transform.LayerNorm.bias']\n",
      "- This IS expected if you are initializing BertModel from the checkpoint of a model trained on another task or with another architecture (e.g. initializing a BertForSequenceClassification model from a BertForPreTraining model).\n",
      "- This IS NOT expected if you are initializing BertModel from the checkpoint of a model that you expect to be exactly identical (initializing a BertForSequenceClassification model from a BertForSequenceClassification model).\n"
     ]
    },
    {
     "name": "stdout",
     "output_type": "stream",
     "text": [
      "Model downloaded: bert-base-uncased\n",
      "training time: 0.7280571674928069\n",
      "accuracy: 62.844032287597656\n",
      "{'params': {'reservoir_dim': 1000, 'spectral_radius': 1.5, 'leaking_rate': 0.5, 'input_scaling': 1.0, 'bias_scaling': 0.0, 'sparsity': 0.99, 'activation_function': 'relu', 'alpha': 10.0}, 'accuracy': [25.22935676574707, 58.25687789916992, 57.79816436767578, 57.79816436767578, 62.844032287597656], 'time': [0.6807467499747872, 0.708630483597517, 0.8544198600575328, 0.7308837631717324, 0.7280571674928069]}\n"
     ]
    },
    {
     "data": {
      "application/vnd.jupyter.widget-view+json": {
       "model_id": "90164ba440434166b307bbd340649278",
       "version_major": 2,
       "version_minor": 0
      },
      "text/plain": [
       "  0%|          | 0/5 [00:00<?, ?it/s]"
      ]
     },
     "metadata": {},
     "output_type": "display_data"
    },
    {
     "name": "stderr",
     "output_type": "stream",
     "text": [
      "Some weights of the model checkpoint at bert-base-uncased were not used when initializing BertModel: ['cls.predictions.bias', 'cls.predictions.transform.dense.weight', 'cls.predictions.transform.LayerNorm.weight', 'cls.seq_relationship.weight', 'cls.predictions.decoder.weight', 'cls.seq_relationship.bias', 'cls.predictions.transform.dense.bias', 'cls.predictions.transform.LayerNorm.bias']\n",
      "- This IS expected if you are initializing BertModel from the checkpoint of a model trained on another task or with another architecture (e.g. initializing a BertForSequenceClassification model from a BertForPreTraining model).\n",
      "- This IS NOT expected if you are initializing BertModel from the checkpoint of a model that you expect to be exactly identical (initializing a BertForSequenceClassification model from a BertForSequenceClassification model).\n"
     ]
    },
    {
     "name": "stdout",
     "output_type": "stream",
     "text": [
      "Model downloaded: bert-base-uncased\n",
      "training time: 0.6834773374721408\n",
      "accuracy: 18.80733871459961\n",
      "{'params': {'reservoir_dim': 1000, 'spectral_radius': 1.5, 'leaking_rate': 0.9, 'input_scaling': 0.1, 'bias_scaling': 0.0, 'sparsity': 0.0, 'activation_function': 'relu', 'alpha': 0.1}, 'accuracy': [18.80733871459961], 'time': [0.6834773374721408]}\n"
     ]
    },
    {
     "name": "stderr",
     "output_type": "stream",
     "text": [
      "Some weights of the model checkpoint at bert-base-uncased were not used when initializing BertModel: ['cls.predictions.bias', 'cls.predictions.transform.dense.weight', 'cls.predictions.transform.LayerNorm.weight', 'cls.seq_relationship.weight', 'cls.predictions.decoder.weight', 'cls.seq_relationship.bias', 'cls.predictions.transform.dense.bias', 'cls.predictions.transform.LayerNorm.bias']\n",
      "- This IS expected if you are initializing BertModel from the checkpoint of a model trained on another task or with another architecture (e.g. initializing a BertForSequenceClassification model from a BertForPreTraining model).\n",
      "- This IS NOT expected if you are initializing BertModel from the checkpoint of a model that you expect to be exactly identical (initializing a BertForSequenceClassification model from a BertForSequenceClassification model).\n"
     ]
    },
    {
     "name": "stdout",
     "output_type": "stream",
     "text": [
      "Model downloaded: bert-base-uncased\n",
      "training time: 0.7096646279096603\n",
      "accuracy: 57.79816436767578\n",
      "{'params': {'reservoir_dim': 1000, 'spectral_radius': 1.5, 'leaking_rate': 0.9, 'input_scaling': 0.1, 'bias_scaling': 0.0, 'sparsity': 0.0, 'activation_function': 'relu', 'alpha': 0.1}, 'accuracy': [18.80733871459961, 57.79816436767578], 'time': [0.6834773374721408, 0.7096646279096603]}\n"
     ]
    },
    {
     "name": "stderr",
     "output_type": "stream",
     "text": [
      "Some weights of the model checkpoint at bert-base-uncased were not used when initializing BertModel: ['cls.predictions.bias', 'cls.predictions.transform.dense.weight', 'cls.predictions.transform.LayerNorm.weight', 'cls.seq_relationship.weight', 'cls.predictions.decoder.weight', 'cls.seq_relationship.bias', 'cls.predictions.transform.dense.bias', 'cls.predictions.transform.LayerNorm.bias']\n",
      "- This IS expected if you are initializing BertModel from the checkpoint of a model trained on another task or with another architecture (e.g. initializing a BertForSequenceClassification model from a BertForPreTraining model).\n",
      "- This IS NOT expected if you are initializing BertModel from the checkpoint of a model that you expect to be exactly identical (initializing a BertForSequenceClassification model from a BertForSequenceClassification model).\n"
     ]
    },
    {
     "name": "stdout",
     "output_type": "stream",
     "text": [
      "Model downloaded: bert-base-uncased\n",
      "training time: 0.6978373723104596\n",
      "accuracy: 60.55045700073242\n",
      "{'params': {'reservoir_dim': 1000, 'spectral_radius': 1.5, 'leaking_rate': 0.9, 'input_scaling': 0.1, 'bias_scaling': 0.0, 'sparsity': 0.0, 'activation_function': 'relu', 'alpha': 0.1}, 'accuracy': [18.80733871459961, 57.79816436767578, 60.55045700073242], 'time': [0.6834773374721408, 0.7096646279096603, 0.6978373723104596]}\n"
     ]
    },
    {
     "name": "stderr",
     "output_type": "stream",
     "text": [
      "Some weights of the model checkpoint at bert-base-uncased were not used when initializing BertModel: ['cls.predictions.bias', 'cls.predictions.transform.dense.weight', 'cls.predictions.transform.LayerNorm.weight', 'cls.seq_relationship.weight', 'cls.predictions.decoder.weight', 'cls.seq_relationship.bias', 'cls.predictions.transform.dense.bias', 'cls.predictions.transform.LayerNorm.bias']\n",
      "- This IS expected if you are initializing BertModel from the checkpoint of a model trained on another task or with another architecture (e.g. initializing a BertForSequenceClassification model from a BertForPreTraining model).\n",
      "- This IS NOT expected if you are initializing BertModel from the checkpoint of a model that you expect to be exactly identical (initializing a BertForSequenceClassification model from a BertForSequenceClassification model).\n"
     ]
    },
    {
     "name": "stdout",
     "output_type": "stream",
     "text": [
      "Model downloaded: bert-base-uncased\n",
      "training time: 0.7954800082370639\n",
      "accuracy: 56.42201614379883\n",
      "{'params': {'reservoir_dim': 1000, 'spectral_radius': 1.5, 'leaking_rate': 0.9, 'input_scaling': 0.1, 'bias_scaling': 0.0, 'sparsity': 0.0, 'activation_function': 'relu', 'alpha': 0.1}, 'accuracy': [18.80733871459961, 57.79816436767578, 60.55045700073242, 56.42201614379883], 'time': [0.6834773374721408, 0.7096646279096603, 0.6978373723104596, 0.7954800082370639]}\n"
     ]
    },
    {
     "name": "stderr",
     "output_type": "stream",
     "text": [
      "Some weights of the model checkpoint at bert-base-uncased were not used when initializing BertModel: ['cls.predictions.bias', 'cls.predictions.transform.dense.weight', 'cls.predictions.transform.LayerNorm.weight', 'cls.seq_relationship.weight', 'cls.predictions.decoder.weight', 'cls.seq_relationship.bias', 'cls.predictions.transform.dense.bias', 'cls.predictions.transform.LayerNorm.bias']\n",
      "- This IS expected if you are initializing BertModel from the checkpoint of a model trained on another task or with another architecture (e.g. initializing a BertForSequenceClassification model from a BertForPreTraining model).\n",
      "- This IS NOT expected if you are initializing BertModel from the checkpoint of a model that you expect to be exactly identical (initializing a BertForSequenceClassification model from a BertForSequenceClassification model).\n"
     ]
    },
    {
     "name": "stdout",
     "output_type": "stream",
     "text": [
      "Model downloaded: bert-base-uncased\n",
      "training time: 0.8657328365370631\n",
      "accuracy: 56.42201614379883\n",
      "{'params': {'reservoir_dim': 1000, 'spectral_radius': 1.5, 'leaking_rate': 0.9, 'input_scaling': 0.1, 'bias_scaling': 0.0, 'sparsity': 0.0, 'activation_function': 'relu', 'alpha': 0.1}, 'accuracy': [18.80733871459961, 57.79816436767578, 60.55045700073242, 56.42201614379883, 56.42201614379883], 'time': [0.6834773374721408, 0.7096646279096603, 0.6978373723104596, 0.7954800082370639, 0.8657328365370631]}\n"
     ]
    },
    {
     "data": {
      "application/vnd.jupyter.widget-view+json": {
       "model_id": "69f8bbbe40444c4786606e245316318c",
       "version_major": 2,
       "version_minor": 0
      },
      "text/plain": [
       "  0%|          | 0/5 [00:00<?, ?it/s]"
      ]
     },
     "metadata": {},
     "output_type": "display_data"
    },
    {
     "name": "stderr",
     "output_type": "stream",
     "text": [
      "Some weights of the model checkpoint at bert-base-uncased were not used when initializing BertModel: ['cls.predictions.bias', 'cls.predictions.transform.dense.weight', 'cls.predictions.transform.LayerNorm.weight', 'cls.seq_relationship.weight', 'cls.predictions.decoder.weight', 'cls.seq_relationship.bias', 'cls.predictions.transform.dense.bias', 'cls.predictions.transform.LayerNorm.bias']\n",
      "- This IS expected if you are initializing BertModel from the checkpoint of a model trained on another task or with another architecture (e.g. initializing a BertForSequenceClassification model from a BertForPreTraining model).\n",
      "- This IS NOT expected if you are initializing BertModel from the checkpoint of a model that you expect to be exactly identical (initializing a BertForSequenceClassification model from a BertForSequenceClassification model).\n"
     ]
    },
    {
     "name": "stdout",
     "output_type": "stream",
     "text": [
      "Model downloaded: bert-base-uncased\n",
      "training time: 0.7479535387828946\n",
      "accuracy: 59.633026123046875\n",
      "{'params': {'reservoir_dim': 1000, 'spectral_radius': 1.5, 'leaking_rate': 0.9, 'input_scaling': 0.1, 'bias_scaling': 0.0, 'sparsity': 0.0, 'activation_function': 'relu', 'alpha': 1.0}, 'accuracy': [59.633026123046875], 'time': [0.7479535387828946]}\n"
     ]
    },
    {
     "name": "stderr",
     "output_type": "stream",
     "text": [
      "Some weights of the model checkpoint at bert-base-uncased were not used when initializing BertModel: ['cls.predictions.bias', 'cls.predictions.transform.dense.weight', 'cls.predictions.transform.LayerNorm.weight', 'cls.seq_relationship.weight', 'cls.predictions.decoder.weight', 'cls.seq_relationship.bias', 'cls.predictions.transform.dense.bias', 'cls.predictions.transform.LayerNorm.bias']\n",
      "- This IS expected if you are initializing BertModel from the checkpoint of a model trained on another task or with another architecture (e.g. initializing a BertForSequenceClassification model from a BertForPreTraining model).\n",
      "- This IS NOT expected if you are initializing BertModel from the checkpoint of a model that you expect to be exactly identical (initializing a BertForSequenceClassification model from a BertForSequenceClassification model).\n"
     ]
    },
    {
     "name": "stdout",
     "output_type": "stream",
     "text": [
      "Model downloaded: bert-base-uncased\n",
      "training time: 0.750487606972456\n",
      "accuracy: 64.67889404296875\n",
      "{'params': {'reservoir_dim': 1000, 'spectral_radius': 1.5, 'leaking_rate': 0.9, 'input_scaling': 0.1, 'bias_scaling': 0.0, 'sparsity': 0.0, 'activation_function': 'relu', 'alpha': 1.0}, 'accuracy': [59.633026123046875, 64.67889404296875], 'time': [0.7479535387828946, 0.750487606972456]}\n"
     ]
    },
    {
     "name": "stderr",
     "output_type": "stream",
     "text": [
      "Some weights of the model checkpoint at bert-base-uncased were not used when initializing BertModel: ['cls.predictions.bias', 'cls.predictions.transform.dense.weight', 'cls.predictions.transform.LayerNorm.weight', 'cls.seq_relationship.weight', 'cls.predictions.decoder.weight', 'cls.seq_relationship.bias', 'cls.predictions.transform.dense.bias', 'cls.predictions.transform.LayerNorm.bias']\n",
      "- This IS expected if you are initializing BertModel from the checkpoint of a model trained on another task or with another architecture (e.g. initializing a BertForSequenceClassification model from a BertForPreTraining model).\n",
      "- This IS NOT expected if you are initializing BertModel from the checkpoint of a model that you expect to be exactly identical (initializing a BertForSequenceClassification model from a BertForSequenceClassification model).\n"
     ]
    },
    {
     "name": "stdout",
     "output_type": "stream",
     "text": [
      "Model downloaded: bert-base-uncased\n",
      "training time: 0.7671553334221244\n",
      "accuracy: 65.59632873535156\n",
      "{'params': {'reservoir_dim': 1000, 'spectral_radius': 1.5, 'leaking_rate': 0.9, 'input_scaling': 0.1, 'bias_scaling': 0.0, 'sparsity': 0.0, 'activation_function': 'relu', 'alpha': 1.0}, 'accuracy': [59.633026123046875, 64.67889404296875, 65.59632873535156], 'time': [0.7479535387828946, 0.750487606972456, 0.7671553334221244]}\n"
     ]
    },
    {
     "name": "stderr",
     "output_type": "stream",
     "text": [
      "Some weights of the model checkpoint at bert-base-uncased were not used when initializing BertModel: ['cls.predictions.bias', 'cls.predictions.transform.dense.weight', 'cls.predictions.transform.LayerNorm.weight', 'cls.seq_relationship.weight', 'cls.predictions.decoder.weight', 'cls.seq_relationship.bias', 'cls.predictions.transform.dense.bias', 'cls.predictions.transform.LayerNorm.bias']\n",
      "- This IS expected if you are initializing BertModel from the checkpoint of a model trained on another task or with another architecture (e.g. initializing a BertForSequenceClassification model from a BertForPreTraining model).\n",
      "- This IS NOT expected if you are initializing BertModel from the checkpoint of a model that you expect to be exactly identical (initializing a BertForSequenceClassification model from a BertForSequenceClassification model).\n"
     ]
    },
    {
     "name": "stdout",
     "output_type": "stream",
     "text": [
      "Model downloaded: bert-base-uncased\n",
      "training time: 0.8041273895651102\n",
      "accuracy: 65.13761138916016\n",
      "{'params': {'reservoir_dim': 1000, 'spectral_radius': 1.5, 'leaking_rate': 0.9, 'input_scaling': 0.1, 'bias_scaling': 0.0, 'sparsity': 0.0, 'activation_function': 'relu', 'alpha': 1.0}, 'accuracy': [59.633026123046875, 64.67889404296875, 65.59632873535156, 65.13761138916016], 'time': [0.7479535387828946, 0.750487606972456, 0.7671553334221244, 0.8041273895651102]}\n"
     ]
    },
    {
     "name": "stderr",
     "output_type": "stream",
     "text": [
      "Some weights of the model checkpoint at bert-base-uncased were not used when initializing BertModel: ['cls.predictions.bias', 'cls.predictions.transform.dense.weight', 'cls.predictions.transform.LayerNorm.weight', 'cls.seq_relationship.weight', 'cls.predictions.decoder.weight', 'cls.seq_relationship.bias', 'cls.predictions.transform.dense.bias', 'cls.predictions.transform.LayerNorm.bias']\n",
      "- This IS expected if you are initializing BertModel from the checkpoint of a model trained on another task or with another architecture (e.g. initializing a BertForSequenceClassification model from a BertForPreTraining model).\n",
      "- This IS NOT expected if you are initializing BertModel from the checkpoint of a model that you expect to be exactly identical (initializing a BertForSequenceClassification model from a BertForSequenceClassification model).\n"
     ]
    },
    {
     "name": "stdout",
     "output_type": "stream",
     "text": [
      "Model downloaded: bert-base-uncased\n",
      "training time: 0.7962644258514047\n",
      "accuracy: 72.01834869384766\n",
      "{'params': {'reservoir_dim': 1000, 'spectral_radius': 1.5, 'leaking_rate': 0.9, 'input_scaling': 0.1, 'bias_scaling': 0.0, 'sparsity': 0.0, 'activation_function': 'relu', 'alpha': 1.0}, 'accuracy': [59.633026123046875, 64.67889404296875, 65.59632873535156, 65.13761138916016, 72.01834869384766], 'time': [0.7479535387828946, 0.750487606972456, 0.7671553334221244, 0.8041273895651102, 0.7962644258514047]}\n"
     ]
    },
    {
     "data": {
      "application/vnd.jupyter.widget-view+json": {
       "model_id": "b150ea02b4a1411a9f1d016db5b1973c",
       "version_major": 2,
       "version_minor": 0
      },
      "text/plain": [
       "  0%|          | 0/5 [00:00<?, ?it/s]"
      ]
     },
     "metadata": {},
     "output_type": "display_data"
    },
    {
     "name": "stderr",
     "output_type": "stream",
     "text": [
      "Some weights of the model checkpoint at bert-base-uncased were not used when initializing BertModel: ['cls.predictions.bias', 'cls.predictions.transform.dense.weight', 'cls.predictions.transform.LayerNorm.weight', 'cls.seq_relationship.weight', 'cls.predictions.decoder.weight', 'cls.seq_relationship.bias', 'cls.predictions.transform.dense.bias', 'cls.predictions.transform.LayerNorm.bias']\n",
      "- This IS expected if you are initializing BertModel from the checkpoint of a model trained on another task or with another architecture (e.g. initializing a BertForSequenceClassification model from a BertForPreTraining model).\n",
      "- This IS NOT expected if you are initializing BertModel from the checkpoint of a model that you expect to be exactly identical (initializing a BertForSequenceClassification model from a BertForSequenceClassification model).\n"
     ]
    },
    {
     "name": "stdout",
     "output_type": "stream",
     "text": [
      "Model downloaded: bert-base-uncased\n",
      "training time: 0.7561849299818277\n",
      "accuracy: 71.10091400146484\n",
      "{'params': {'reservoir_dim': 1000, 'spectral_radius': 1.5, 'leaking_rate': 0.9, 'input_scaling': 0.1, 'bias_scaling': 0.0, 'sparsity': 0.0, 'activation_function': 'relu', 'alpha': 10.0}, 'accuracy': [71.10091400146484], 'time': [0.7561849299818277]}\n"
     ]
    },
    {
     "name": "stderr",
     "output_type": "stream",
     "text": [
      "Some weights of the model checkpoint at bert-base-uncased were not used when initializing BertModel: ['cls.predictions.bias', 'cls.predictions.transform.dense.weight', 'cls.predictions.transform.LayerNorm.weight', 'cls.seq_relationship.weight', 'cls.predictions.decoder.weight', 'cls.seq_relationship.bias', 'cls.predictions.transform.dense.bias', 'cls.predictions.transform.LayerNorm.bias']\n",
      "- This IS expected if you are initializing BertModel from the checkpoint of a model trained on another task or with another architecture (e.g. initializing a BertForSequenceClassification model from a BertForPreTraining model).\n",
      "- This IS NOT expected if you are initializing BertModel from the checkpoint of a model that you expect to be exactly identical (initializing a BertForSequenceClassification model from a BertForSequenceClassification model).\n"
     ]
    },
    {
     "name": "stdout",
     "output_type": "stream",
     "text": [
      "Model downloaded: bert-base-uncased\n",
      "training time: 0.7378010461106896\n",
      "accuracy: 73.85321044921875\n",
      "{'params': {'reservoir_dim': 1000, 'spectral_radius': 1.5, 'leaking_rate': 0.9, 'input_scaling': 0.1, 'bias_scaling': 0.0, 'sparsity': 0.0, 'activation_function': 'relu', 'alpha': 10.0}, 'accuracy': [71.10091400146484, 73.85321044921875], 'time': [0.7561849299818277, 0.7378010461106896]}\n"
     ]
    },
    {
     "name": "stderr",
     "output_type": "stream",
     "text": [
      "Some weights of the model checkpoint at bert-base-uncased were not used when initializing BertModel: ['cls.predictions.bias', 'cls.predictions.transform.dense.weight', 'cls.predictions.transform.LayerNorm.weight', 'cls.seq_relationship.weight', 'cls.predictions.decoder.weight', 'cls.seq_relationship.bias', 'cls.predictions.transform.dense.bias', 'cls.predictions.transform.LayerNorm.bias']\n",
      "- This IS expected if you are initializing BertModel from the checkpoint of a model trained on another task or with another architecture (e.g. initializing a BertForSequenceClassification model from a BertForPreTraining model).\n",
      "- This IS NOT expected if you are initializing BertModel from the checkpoint of a model that you expect to be exactly identical (initializing a BertForSequenceClassification model from a BertForSequenceClassification model).\n"
     ]
    },
    {
     "name": "stdout",
     "output_type": "stream",
     "text": [
      "Model downloaded: bert-base-uncased\n",
      "training time: 0.7149936277419329\n",
      "accuracy: 74.77063751220703\n",
      "{'params': {'reservoir_dim': 1000, 'spectral_radius': 1.5, 'leaking_rate': 0.9, 'input_scaling': 0.1, 'bias_scaling': 0.0, 'sparsity': 0.0, 'activation_function': 'relu', 'alpha': 10.0}, 'accuracy': [71.10091400146484, 73.85321044921875, 74.77063751220703], 'time': [0.7561849299818277, 0.7378010461106896, 0.7149936277419329]}\n"
     ]
    },
    {
     "name": "stderr",
     "output_type": "stream",
     "text": [
      "Some weights of the model checkpoint at bert-base-uncased were not used when initializing BertModel: ['cls.predictions.bias', 'cls.predictions.transform.dense.weight', 'cls.predictions.transform.LayerNorm.weight', 'cls.seq_relationship.weight', 'cls.predictions.decoder.weight', 'cls.seq_relationship.bias', 'cls.predictions.transform.dense.bias', 'cls.predictions.transform.LayerNorm.bias']\n",
      "- This IS expected if you are initializing BertModel from the checkpoint of a model trained on another task or with another architecture (e.g. initializing a BertForSequenceClassification model from a BertForPreTraining model).\n",
      "- This IS NOT expected if you are initializing BertModel from the checkpoint of a model that you expect to be exactly identical (initializing a BertForSequenceClassification model from a BertForSequenceClassification model).\n"
     ]
    },
    {
     "name": "stdout",
     "output_type": "stream",
     "text": [
      "Model downloaded: bert-base-uncased\n",
      "training time: 0.7217974057421088\n",
      "accuracy: 77.52293395996094\n",
      "{'params': {'reservoir_dim': 1000, 'spectral_radius': 1.5, 'leaking_rate': 0.9, 'input_scaling': 0.1, 'bias_scaling': 0.0, 'sparsity': 0.0, 'activation_function': 'relu', 'alpha': 10.0}, 'accuracy': [71.10091400146484, 73.85321044921875, 74.77063751220703, 77.52293395996094], 'time': [0.7561849299818277, 0.7378010461106896, 0.7149936277419329, 0.7217974057421088]}\n"
     ]
    },
    {
     "name": "stderr",
     "output_type": "stream",
     "text": [
      "Some weights of the model checkpoint at bert-base-uncased were not used when initializing BertModel: ['cls.predictions.bias', 'cls.predictions.transform.dense.weight', 'cls.predictions.transform.LayerNorm.weight', 'cls.seq_relationship.weight', 'cls.predictions.decoder.weight', 'cls.seq_relationship.bias', 'cls.predictions.transform.dense.bias', 'cls.predictions.transform.LayerNorm.bias']\n",
      "- This IS expected if you are initializing BertModel from the checkpoint of a model trained on another task or with another architecture (e.g. initializing a BertForSequenceClassification model from a BertForPreTraining model).\n",
      "- This IS NOT expected if you are initializing BertModel from the checkpoint of a model that you expect to be exactly identical (initializing a BertForSequenceClassification model from a BertForSequenceClassification model).\n"
     ]
    },
    {
     "name": "stdout",
     "output_type": "stream",
     "text": [
      "Model downloaded: bert-base-uncased\n",
      "training time: 0.6917505068704486\n",
      "accuracy: 77.98165130615234\n",
      "{'params': {'reservoir_dim': 1000, 'spectral_radius': 1.5, 'leaking_rate': 0.9, 'input_scaling': 0.1, 'bias_scaling': 0.0, 'sparsity': 0.0, 'activation_function': 'relu', 'alpha': 10.0}, 'accuracy': [71.10091400146484, 73.85321044921875, 74.77063751220703, 77.52293395996094, 77.98165130615234], 'time': [0.7561849299818277, 0.7378010461106896, 0.7149936277419329, 0.7217974057421088, 0.6917505068704486]}\n"
     ]
    },
    {
     "data": {
      "application/vnd.jupyter.widget-view+json": {
       "model_id": "99eb26d2e492442bad5384a8db42e6ef",
       "version_major": 2,
       "version_minor": 0
      },
      "text/plain": [
       "  0%|          | 0/5 [00:00<?, ?it/s]"
      ]
     },
     "metadata": {},
     "output_type": "display_data"
    },
    {
     "name": "stderr",
     "output_type": "stream",
     "text": [
      "Some weights of the model checkpoint at bert-base-uncased were not used when initializing BertModel: ['cls.predictions.bias', 'cls.predictions.transform.dense.weight', 'cls.predictions.transform.LayerNorm.weight', 'cls.seq_relationship.weight', 'cls.predictions.decoder.weight', 'cls.seq_relationship.bias', 'cls.predictions.transform.dense.bias', 'cls.predictions.transform.LayerNorm.bias']\n",
      "- This IS expected if you are initializing BertModel from the checkpoint of a model trained on another task or with another architecture (e.g. initializing a BertForSequenceClassification model from a BertForPreTraining model).\n",
      "- This IS NOT expected if you are initializing BertModel from the checkpoint of a model that you expect to be exactly identical (initializing a BertForSequenceClassification model from a BertForSequenceClassification model).\n"
     ]
    },
    {
     "name": "stdout",
     "output_type": "stream",
     "text": [
      "Model downloaded: bert-base-uncased\n",
      "training time: 0.6605508700013161\n",
      "accuracy: 12.385320663452148\n",
      "{'params': {'reservoir_dim': 1000, 'spectral_radius': 1.5, 'leaking_rate': 0.9, 'input_scaling': 0.1, 'bias_scaling': 0.0, 'sparsity': 0.99, 'activation_function': 'relu', 'alpha': 0.1}, 'accuracy': [12.385320663452148], 'time': [0.6605508700013161]}\n"
     ]
    },
    {
     "name": "stderr",
     "output_type": "stream",
     "text": [
      "Some weights of the model checkpoint at bert-base-uncased were not used when initializing BertModel: ['cls.predictions.bias', 'cls.predictions.transform.dense.weight', 'cls.predictions.transform.LayerNorm.weight', 'cls.seq_relationship.weight', 'cls.predictions.decoder.weight', 'cls.seq_relationship.bias', 'cls.predictions.transform.dense.bias', 'cls.predictions.transform.LayerNorm.bias']\n",
      "- This IS expected if you are initializing BertModel from the checkpoint of a model trained on another task or with another architecture (e.g. initializing a BertForSequenceClassification model from a BertForPreTraining model).\n",
      "- This IS NOT expected if you are initializing BertModel from the checkpoint of a model that you expect to be exactly identical (initializing a BertForSequenceClassification model from a BertForSequenceClassification model).\n"
     ]
    },
    {
     "name": "stdout",
     "output_type": "stream",
     "text": [
      "Model downloaded: bert-base-uncased\n",
      "training time: 0.7331121079623699\n",
      "accuracy: 59.17430877685547\n",
      "{'params': {'reservoir_dim': 1000, 'spectral_radius': 1.5, 'leaking_rate': 0.9, 'input_scaling': 0.1, 'bias_scaling': 0.0, 'sparsity': 0.99, 'activation_function': 'relu', 'alpha': 0.1}, 'accuracy': [12.385320663452148, 59.17430877685547], 'time': [0.6605508700013161, 0.7331121079623699]}\n"
     ]
    },
    {
     "name": "stderr",
     "output_type": "stream",
     "text": [
      "Some weights of the model checkpoint at bert-base-uncased were not used when initializing BertModel: ['cls.predictions.bias', 'cls.predictions.transform.dense.weight', 'cls.predictions.transform.LayerNorm.weight', 'cls.seq_relationship.weight', 'cls.predictions.decoder.weight', 'cls.seq_relationship.bias', 'cls.predictions.transform.dense.bias', 'cls.predictions.transform.LayerNorm.bias']\n",
      "- This IS expected if you are initializing BertModel from the checkpoint of a model trained on another task or with another architecture (e.g. initializing a BertForSequenceClassification model from a BertForPreTraining model).\n",
      "- This IS NOT expected if you are initializing BertModel from the checkpoint of a model that you expect to be exactly identical (initializing a BertForSequenceClassification model from a BertForSequenceClassification model).\n"
     ]
    },
    {
     "name": "stdout",
     "output_type": "stream",
     "text": [
      "Model downloaded: bert-base-uncased\n",
      "training time: 0.8435182608664036\n",
      "accuracy: 52.75229263305664\n",
      "{'params': {'reservoir_dim': 1000, 'spectral_radius': 1.5, 'leaking_rate': 0.9, 'input_scaling': 0.1, 'bias_scaling': 0.0, 'sparsity': 0.99, 'activation_function': 'relu', 'alpha': 0.1}, 'accuracy': [12.385320663452148, 59.17430877685547, 52.75229263305664], 'time': [0.6605508700013161, 0.7331121079623699, 0.8435182608664036]}\n"
     ]
    },
    {
     "name": "stderr",
     "output_type": "stream",
     "text": [
      "Some weights of the model checkpoint at bert-base-uncased were not used when initializing BertModel: ['cls.predictions.bias', 'cls.predictions.transform.dense.weight', 'cls.predictions.transform.LayerNorm.weight', 'cls.seq_relationship.weight', 'cls.predictions.decoder.weight', 'cls.seq_relationship.bias', 'cls.predictions.transform.dense.bias', 'cls.predictions.transform.LayerNorm.bias']\n",
      "- This IS expected if you are initializing BertModel from the checkpoint of a model trained on another task or with another architecture (e.g. initializing a BertForSequenceClassification model from a BertForPreTraining model).\n",
      "- This IS NOT expected if you are initializing BertModel from the checkpoint of a model that you expect to be exactly identical (initializing a BertForSequenceClassification model from a BertForSequenceClassification model).\n"
     ]
    },
    {
     "name": "stdout",
     "output_type": "stream",
     "text": [
      "Model downloaded: bert-base-uncased\n",
      "training time: 0.7103065680712461\n",
      "accuracy: 51.37614440917969\n",
      "{'params': {'reservoir_dim': 1000, 'spectral_radius': 1.5, 'leaking_rate': 0.9, 'input_scaling': 0.1, 'bias_scaling': 0.0, 'sparsity': 0.99, 'activation_function': 'relu', 'alpha': 0.1}, 'accuracy': [12.385320663452148, 59.17430877685547, 52.75229263305664, 51.37614440917969], 'time': [0.6605508700013161, 0.7331121079623699, 0.8435182608664036, 0.7103065680712461]}\n"
     ]
    },
    {
     "name": "stderr",
     "output_type": "stream",
     "text": [
      "Some weights of the model checkpoint at bert-base-uncased were not used when initializing BertModel: ['cls.predictions.bias', 'cls.predictions.transform.dense.weight', 'cls.predictions.transform.LayerNorm.weight', 'cls.seq_relationship.weight', 'cls.predictions.decoder.weight', 'cls.seq_relationship.bias', 'cls.predictions.transform.dense.bias', 'cls.predictions.transform.LayerNorm.bias']\n",
      "- This IS expected if you are initializing BertModel from the checkpoint of a model trained on another task or with another architecture (e.g. initializing a BertForSequenceClassification model from a BertForPreTraining model).\n",
      "- This IS NOT expected if you are initializing BertModel from the checkpoint of a model that you expect to be exactly identical (initializing a BertForSequenceClassification model from a BertForSequenceClassification model).\n"
     ]
    },
    {
     "name": "stdout",
     "output_type": "stream",
     "text": [
      "Model downloaded: bert-base-uncased\n",
      "training time: 0.6721517350524664\n",
      "accuracy: 53.66972351074219\n",
      "{'params': {'reservoir_dim': 1000, 'spectral_radius': 1.5, 'leaking_rate': 0.9, 'input_scaling': 0.1, 'bias_scaling': 0.0, 'sparsity': 0.99, 'activation_function': 'relu', 'alpha': 0.1}, 'accuracy': [12.385320663452148, 59.17430877685547, 52.75229263305664, 51.37614440917969, 53.66972351074219], 'time': [0.6605508700013161, 0.7331121079623699, 0.8435182608664036, 0.7103065680712461, 0.6721517350524664]}\n"
     ]
    },
    {
     "data": {
      "application/vnd.jupyter.widget-view+json": {
       "model_id": "310868f51d9046b9ab08edf8a07aba00",
       "version_major": 2,
       "version_minor": 0
      },
      "text/plain": [
       "  0%|          | 0/5 [00:00<?, ?it/s]"
      ]
     },
     "metadata": {},
     "output_type": "display_data"
    },
    {
     "name": "stderr",
     "output_type": "stream",
     "text": [
      "Some weights of the model checkpoint at bert-base-uncased were not used when initializing BertModel: ['cls.predictions.bias', 'cls.predictions.transform.dense.weight', 'cls.predictions.transform.LayerNorm.weight', 'cls.seq_relationship.weight', 'cls.predictions.decoder.weight', 'cls.seq_relationship.bias', 'cls.predictions.transform.dense.bias', 'cls.predictions.transform.LayerNorm.bias']\n",
      "- This IS expected if you are initializing BertModel from the checkpoint of a model trained on another task or with another architecture (e.g. initializing a BertForSequenceClassification model from a BertForPreTraining model).\n",
      "- This IS NOT expected if you are initializing BertModel from the checkpoint of a model that you expect to be exactly identical (initializing a BertForSequenceClassification model from a BertForSequenceClassification model).\n"
     ]
    },
    {
     "name": "stdout",
     "output_type": "stream",
     "text": [
      "Model downloaded: bert-base-uncased\n",
      "training time: 0.7136356690898538\n",
      "accuracy: 24.770641326904297\n",
      "{'params': {'reservoir_dim': 1000, 'spectral_radius': 1.5, 'leaking_rate': 0.9, 'input_scaling': 0.1, 'bias_scaling': 0.0, 'sparsity': 0.99, 'activation_function': 'relu', 'alpha': 1.0}, 'accuracy': [24.770641326904297], 'time': [0.7136356690898538]}\n"
     ]
    },
    {
     "name": "stderr",
     "output_type": "stream",
     "text": [
      "Some weights of the model checkpoint at bert-base-uncased were not used when initializing BertModel: ['cls.predictions.bias', 'cls.predictions.transform.dense.weight', 'cls.predictions.transform.LayerNorm.weight', 'cls.seq_relationship.weight', 'cls.predictions.decoder.weight', 'cls.seq_relationship.bias', 'cls.predictions.transform.dense.bias', 'cls.predictions.transform.LayerNorm.bias']\n",
      "- This IS expected if you are initializing BertModel from the checkpoint of a model trained on another task or with another architecture (e.g. initializing a BertForSequenceClassification model from a BertForPreTraining model).\n",
      "- This IS NOT expected if you are initializing BertModel from the checkpoint of a model that you expect to be exactly identical (initializing a BertForSequenceClassification model from a BertForSequenceClassification model).\n"
     ]
    },
    {
     "name": "stdout",
     "output_type": "stream",
     "text": [
      "Model downloaded: bert-base-uncased\n",
      "training time: 0.6911875959485769\n",
      "accuracy: 67.88990783691406\n",
      "{'params': {'reservoir_dim': 1000, 'spectral_radius': 1.5, 'leaking_rate': 0.9, 'input_scaling': 0.1, 'bias_scaling': 0.0, 'sparsity': 0.99, 'activation_function': 'relu', 'alpha': 1.0}, 'accuracy': [24.770641326904297, 67.88990783691406], 'time': [0.7136356690898538, 0.6911875959485769]}\n"
     ]
    },
    {
     "name": "stderr",
     "output_type": "stream",
     "text": [
      "Some weights of the model checkpoint at bert-base-uncased were not used when initializing BertModel: ['cls.predictions.bias', 'cls.predictions.transform.dense.weight', 'cls.predictions.transform.LayerNorm.weight', 'cls.seq_relationship.weight', 'cls.predictions.decoder.weight', 'cls.seq_relationship.bias', 'cls.predictions.transform.dense.bias', 'cls.predictions.transform.LayerNorm.bias']\n",
      "- This IS expected if you are initializing BertModel from the checkpoint of a model trained on another task or with another architecture (e.g. initializing a BertForSequenceClassification model from a BertForPreTraining model).\n",
      "- This IS NOT expected if you are initializing BertModel from the checkpoint of a model that you expect to be exactly identical (initializing a BertForSequenceClassification model from a BertForSequenceClassification model).\n"
     ]
    },
    {
     "name": "stdout",
     "output_type": "stream",
     "text": [
      "Model downloaded: bert-base-uncased\n",
      "training time: 0.7286559753119946\n",
      "accuracy: 67.43119049072266\n",
      "{'params': {'reservoir_dim': 1000, 'spectral_radius': 1.5, 'leaking_rate': 0.9, 'input_scaling': 0.1, 'bias_scaling': 0.0, 'sparsity': 0.99, 'activation_function': 'relu', 'alpha': 1.0}, 'accuracy': [24.770641326904297, 67.88990783691406, 67.43119049072266], 'time': [0.7136356690898538, 0.6911875959485769, 0.7286559753119946]}\n"
     ]
    },
    {
     "name": "stderr",
     "output_type": "stream",
     "text": [
      "Some weights of the model checkpoint at bert-base-uncased were not used when initializing BertModel: ['cls.predictions.bias', 'cls.predictions.transform.dense.weight', 'cls.predictions.transform.LayerNorm.weight', 'cls.seq_relationship.weight', 'cls.predictions.decoder.weight', 'cls.seq_relationship.bias', 'cls.predictions.transform.dense.bias', 'cls.predictions.transform.LayerNorm.bias']\n",
      "- This IS expected if you are initializing BertModel from the checkpoint of a model trained on another task or with another architecture (e.g. initializing a BertForSequenceClassification model from a BertForPreTraining model).\n",
      "- This IS NOT expected if you are initializing BertModel from the checkpoint of a model that you expect to be exactly identical (initializing a BertForSequenceClassification model from a BertForSequenceClassification model).\n"
     ]
    },
    {
     "name": "stdout",
     "output_type": "stream",
     "text": [
      "Model downloaded: bert-base-uncased\n",
      "training time: 0.7647938672453165\n",
      "accuracy: 62.844032287597656\n",
      "{'params': {'reservoir_dim': 1000, 'spectral_radius': 1.5, 'leaking_rate': 0.9, 'input_scaling': 0.1, 'bias_scaling': 0.0, 'sparsity': 0.99, 'activation_function': 'relu', 'alpha': 1.0}, 'accuracy': [24.770641326904297, 67.88990783691406, 67.43119049072266, 62.844032287597656], 'time': [0.7136356690898538, 0.6911875959485769, 0.7286559753119946, 0.7647938672453165]}\n"
     ]
    },
    {
     "name": "stderr",
     "output_type": "stream",
     "text": [
      "Some weights of the model checkpoint at bert-base-uncased were not used when initializing BertModel: ['cls.predictions.bias', 'cls.predictions.transform.dense.weight', 'cls.predictions.transform.LayerNorm.weight', 'cls.seq_relationship.weight', 'cls.predictions.decoder.weight', 'cls.seq_relationship.bias', 'cls.predictions.transform.dense.bias', 'cls.predictions.transform.LayerNorm.bias']\n",
      "- This IS expected if you are initializing BertModel from the checkpoint of a model trained on another task or with another architecture (e.g. initializing a BertForSequenceClassification model from a BertForPreTraining model).\n",
      "- This IS NOT expected if you are initializing BertModel from the checkpoint of a model that you expect to be exactly identical (initializing a BertForSequenceClassification model from a BertForSequenceClassification model).\n"
     ]
    },
    {
     "name": "stdout",
     "output_type": "stream",
     "text": [
      "Model downloaded: bert-base-uncased\n",
      "training time: 0.7201898526400328\n",
      "accuracy: 49.08256530761719\n",
      "{'params': {'reservoir_dim': 1000, 'spectral_radius': 1.5, 'leaking_rate': 0.9, 'input_scaling': 0.1, 'bias_scaling': 0.0, 'sparsity': 0.99, 'activation_function': 'relu', 'alpha': 1.0}, 'accuracy': [24.770641326904297, 67.88990783691406, 67.43119049072266, 62.844032287597656, 49.08256530761719], 'time': [0.7136356690898538, 0.6911875959485769, 0.7286559753119946, 0.7647938672453165, 0.7201898526400328]}\n"
     ]
    },
    {
     "data": {
      "application/vnd.jupyter.widget-view+json": {
       "model_id": "91acf2e9f29f4b5fad914ba8f9381467",
       "version_major": 2,
       "version_minor": 0
      },
      "text/plain": [
       "  0%|          | 0/5 [00:00<?, ?it/s]"
      ]
     },
     "metadata": {},
     "output_type": "display_data"
    },
    {
     "name": "stderr",
     "output_type": "stream",
     "text": [
      "Some weights of the model checkpoint at bert-base-uncased were not used when initializing BertModel: ['cls.predictions.bias', 'cls.predictions.transform.dense.weight', 'cls.predictions.transform.LayerNorm.weight', 'cls.seq_relationship.weight', 'cls.predictions.decoder.weight', 'cls.seq_relationship.bias', 'cls.predictions.transform.dense.bias', 'cls.predictions.transform.LayerNorm.bias']\n",
      "- This IS expected if you are initializing BertModel from the checkpoint of a model trained on another task or with another architecture (e.g. initializing a BertForSequenceClassification model from a BertForPreTraining model).\n",
      "- This IS NOT expected if you are initializing BertModel from the checkpoint of a model that you expect to be exactly identical (initializing a BertForSequenceClassification model from a BertForSequenceClassification model).\n"
     ]
    },
    {
     "name": "stdout",
     "output_type": "stream",
     "text": [
      "Model downloaded: bert-base-uncased\n",
      "training time: 0.6478355098515749\n",
      "accuracy: 3.2110090255737305\n",
      "{'params': {'reservoir_dim': 1000, 'spectral_radius': 1.5, 'leaking_rate': 0.9, 'input_scaling': 0.1, 'bias_scaling': 0.0, 'sparsity': 0.99, 'activation_function': 'relu', 'alpha': 10.0}, 'accuracy': [3.2110090255737305], 'time': [0.6478355098515749]}\n"
     ]
    },
    {
     "name": "stderr",
     "output_type": "stream",
     "text": [
      "Some weights of the model checkpoint at bert-base-uncased were not used when initializing BertModel: ['cls.predictions.bias', 'cls.predictions.transform.dense.weight', 'cls.predictions.transform.LayerNorm.weight', 'cls.seq_relationship.weight', 'cls.predictions.decoder.weight', 'cls.seq_relationship.bias', 'cls.predictions.transform.dense.bias', 'cls.predictions.transform.LayerNorm.bias']\n",
      "- This IS expected if you are initializing BertModel from the checkpoint of a model trained on another task or with another architecture (e.g. initializing a BertForSequenceClassification model from a BertForPreTraining model).\n",
      "- This IS NOT expected if you are initializing BertModel from the checkpoint of a model that you expect to be exactly identical (initializing a BertForSequenceClassification model from a BertForSequenceClassification model).\n"
     ]
    },
    {
     "name": "stdout",
     "output_type": "stream",
     "text": [
      "Model downloaded: bert-base-uncased\n",
      "training time: 0.7276058457791805\n",
      "accuracy: 77.98165130615234\n",
      "{'params': {'reservoir_dim': 1000, 'spectral_radius': 1.5, 'leaking_rate': 0.9, 'input_scaling': 0.1, 'bias_scaling': 0.0, 'sparsity': 0.99, 'activation_function': 'relu', 'alpha': 10.0}, 'accuracy': [3.2110090255737305, 77.98165130615234], 'time': [0.6478355098515749, 0.7276058457791805]}\n"
     ]
    },
    {
     "name": "stderr",
     "output_type": "stream",
     "text": [
      "Some weights of the model checkpoint at bert-base-uncased were not used when initializing BertModel: ['cls.predictions.bias', 'cls.predictions.transform.dense.weight', 'cls.predictions.transform.LayerNorm.weight', 'cls.seq_relationship.weight', 'cls.predictions.decoder.weight', 'cls.seq_relationship.bias', 'cls.predictions.transform.dense.bias', 'cls.predictions.transform.LayerNorm.bias']\n",
      "- This IS expected if you are initializing BertModel from the checkpoint of a model trained on another task or with another architecture (e.g. initializing a BertForSequenceClassification model from a BertForPreTraining model).\n",
      "- This IS NOT expected if you are initializing BertModel from the checkpoint of a model that you expect to be exactly identical (initializing a BertForSequenceClassification model from a BertForSequenceClassification model).\n"
     ]
    },
    {
     "name": "stdout",
     "output_type": "stream",
     "text": [
      "Model downloaded: bert-base-uncased\n",
      "training time: 0.7021713284775615\n",
      "accuracy: 76.60549926757812\n",
      "{'params': {'reservoir_dim': 1000, 'spectral_radius': 1.5, 'leaking_rate': 0.9, 'input_scaling': 0.1, 'bias_scaling': 0.0, 'sparsity': 0.99, 'activation_function': 'relu', 'alpha': 10.0}, 'accuracy': [3.2110090255737305, 77.98165130615234, 76.60549926757812], 'time': [0.6478355098515749, 0.7276058457791805, 0.7021713284775615]}\n"
     ]
    },
    {
     "name": "stderr",
     "output_type": "stream",
     "text": [
      "Some weights of the model checkpoint at bert-base-uncased were not used when initializing BertModel: ['cls.predictions.bias', 'cls.predictions.transform.dense.weight', 'cls.predictions.transform.LayerNorm.weight', 'cls.seq_relationship.weight', 'cls.predictions.decoder.weight', 'cls.seq_relationship.bias', 'cls.predictions.transform.dense.bias', 'cls.predictions.transform.LayerNorm.bias']\n",
      "- This IS expected if you are initializing BertModel from the checkpoint of a model trained on another task or with another architecture (e.g. initializing a BertForSequenceClassification model from a BertForPreTraining model).\n",
      "- This IS NOT expected if you are initializing BertModel from the checkpoint of a model that you expect to be exactly identical (initializing a BertForSequenceClassification model from a BertForSequenceClassification model).\n"
     ]
    },
    {
     "name": "stdout",
     "output_type": "stream",
     "text": [
      "Model downloaded: bert-base-uncased\n",
      "training time: 0.7741093467921019\n",
      "accuracy: 70.64219665527344\n",
      "{'params': {'reservoir_dim': 1000, 'spectral_radius': 1.5, 'leaking_rate': 0.9, 'input_scaling': 0.1, 'bias_scaling': 0.0, 'sparsity': 0.99, 'activation_function': 'relu', 'alpha': 10.0}, 'accuracy': [3.2110090255737305, 77.98165130615234, 76.60549926757812, 70.64219665527344], 'time': [0.6478355098515749, 0.7276058457791805, 0.7021713284775615, 0.7741093467921019]}\n"
     ]
    },
    {
     "name": "stderr",
     "output_type": "stream",
     "text": [
      "Some weights of the model checkpoint at bert-base-uncased were not used when initializing BertModel: ['cls.predictions.bias', 'cls.predictions.transform.dense.weight', 'cls.predictions.transform.LayerNorm.weight', 'cls.seq_relationship.weight', 'cls.predictions.decoder.weight', 'cls.seq_relationship.bias', 'cls.predictions.transform.dense.bias', 'cls.predictions.transform.LayerNorm.bias']\n",
      "- This IS expected if you are initializing BertModel from the checkpoint of a model trained on another task or with another architecture (e.g. initializing a BertForSequenceClassification model from a BertForPreTraining model).\n",
      "- This IS NOT expected if you are initializing BertModel from the checkpoint of a model that you expect to be exactly identical (initializing a BertForSequenceClassification model from a BertForSequenceClassification model).\n"
     ]
    },
    {
     "name": "stdout",
     "output_type": "stream",
     "text": [
      "Model downloaded: bert-base-uncased\n",
      "training time: 0.7553377505391836\n",
      "accuracy: 50.45871353149414\n",
      "{'params': {'reservoir_dim': 1000, 'spectral_radius': 1.5, 'leaking_rate': 0.9, 'input_scaling': 0.1, 'bias_scaling': 0.0, 'sparsity': 0.99, 'activation_function': 'relu', 'alpha': 10.0}, 'accuracy': [3.2110090255737305, 77.98165130615234, 76.60549926757812, 70.64219665527344, 50.45871353149414], 'time': [0.6478355098515749, 0.7276058457791805, 0.7021713284775615, 0.7741093467921019, 0.7553377505391836]}\n"
     ]
    },
    {
     "data": {
      "application/vnd.jupyter.widget-view+json": {
       "model_id": "9654ff34368d421aa28e51616526d8c7",
       "version_major": 2,
       "version_minor": 0
      },
      "text/plain": [
       "  0%|          | 0/5 [00:00<?, ?it/s]"
      ]
     },
     "metadata": {},
     "output_type": "display_data"
    },
    {
     "name": "stderr",
     "output_type": "stream",
     "text": [
      "Some weights of the model checkpoint at bert-base-uncased were not used when initializing BertModel: ['cls.predictions.bias', 'cls.predictions.transform.dense.weight', 'cls.predictions.transform.LayerNorm.weight', 'cls.seq_relationship.weight', 'cls.predictions.decoder.weight', 'cls.seq_relationship.bias', 'cls.predictions.transform.dense.bias', 'cls.predictions.transform.LayerNorm.bias']\n",
      "- This IS expected if you are initializing BertModel from the checkpoint of a model trained on another task or with another architecture (e.g. initializing a BertForSequenceClassification model from a BertForPreTraining model).\n",
      "- This IS NOT expected if you are initializing BertModel from the checkpoint of a model that you expect to be exactly identical (initializing a BertForSequenceClassification model from a BertForSequenceClassification model).\n"
     ]
    },
    {
     "name": "stdout",
     "output_type": "stream",
     "text": [
      "Model downloaded: bert-base-uncased\n",
      "training time: 0.8086278280243278\n",
      "accuracy: 61.46788787841797\n",
      "{'params': {'reservoir_dim': 1000, 'spectral_radius': 1.5, 'leaking_rate': 0.9, 'input_scaling': 1.0, 'bias_scaling': 0.0, 'sparsity': 0.0, 'activation_function': 'relu', 'alpha': 0.1}, 'accuracy': [61.46788787841797], 'time': [0.8086278280243278]}\n"
     ]
    },
    {
     "name": "stderr",
     "output_type": "stream",
     "text": [
      "Some weights of the model checkpoint at bert-base-uncased were not used when initializing BertModel: ['cls.predictions.bias', 'cls.predictions.transform.dense.weight', 'cls.predictions.transform.LayerNorm.weight', 'cls.seq_relationship.weight', 'cls.predictions.decoder.weight', 'cls.seq_relationship.bias', 'cls.predictions.transform.dense.bias', 'cls.predictions.transform.LayerNorm.bias']\n",
      "- This IS expected if you are initializing BertModel from the checkpoint of a model trained on another task or with another architecture (e.g. initializing a BertForSequenceClassification model from a BertForPreTraining model).\n",
      "- This IS NOT expected if you are initializing BertModel from the checkpoint of a model that you expect to be exactly identical (initializing a BertForSequenceClassification model from a BertForSequenceClassification model).\n"
     ]
    },
    {
     "name": "stdout",
     "output_type": "stream",
     "text": [
      "Model downloaded: bert-base-uncased\n",
      "training time: 0.7384754344820976\n",
      "accuracy: 51.37614440917969\n",
      "{'params': {'reservoir_dim': 1000, 'spectral_radius': 1.5, 'leaking_rate': 0.9, 'input_scaling': 1.0, 'bias_scaling': 0.0, 'sparsity': 0.0, 'activation_function': 'relu', 'alpha': 0.1}, 'accuracy': [61.46788787841797, 51.37614440917969], 'time': [0.8086278280243278, 0.7384754344820976]}\n"
     ]
    },
    {
     "name": "stderr",
     "output_type": "stream",
     "text": [
      "Some weights of the model checkpoint at bert-base-uncased were not used when initializing BertModel: ['cls.predictions.bias', 'cls.predictions.transform.dense.weight', 'cls.predictions.transform.LayerNorm.weight', 'cls.seq_relationship.weight', 'cls.predictions.decoder.weight', 'cls.seq_relationship.bias', 'cls.predictions.transform.dense.bias', 'cls.predictions.transform.LayerNorm.bias']\n",
      "- This IS expected if you are initializing BertModel from the checkpoint of a model trained on another task or with another architecture (e.g. initializing a BertForSequenceClassification model from a BertForPreTraining model).\n",
      "- This IS NOT expected if you are initializing BertModel from the checkpoint of a model that you expect to be exactly identical (initializing a BertForSequenceClassification model from a BertForSequenceClassification model).\n"
     ]
    },
    {
     "name": "stdout",
     "output_type": "stream",
     "text": [
      "Model downloaded: bert-base-uncased\n",
      "training time: 0.772357183508575\n",
      "accuracy: 62.844032287597656\n",
      "{'params': {'reservoir_dim': 1000, 'spectral_radius': 1.5, 'leaking_rate': 0.9, 'input_scaling': 1.0, 'bias_scaling': 0.0, 'sparsity': 0.0, 'activation_function': 'relu', 'alpha': 0.1}, 'accuracy': [61.46788787841797, 51.37614440917969, 62.844032287597656], 'time': [0.8086278280243278, 0.7384754344820976, 0.772357183508575]}\n"
     ]
    },
    {
     "name": "stderr",
     "output_type": "stream",
     "text": [
      "Some weights of the model checkpoint at bert-base-uncased were not used when initializing BertModel: ['cls.predictions.bias', 'cls.predictions.transform.dense.weight', 'cls.predictions.transform.LayerNorm.weight', 'cls.seq_relationship.weight', 'cls.predictions.decoder.weight', 'cls.seq_relationship.bias', 'cls.predictions.transform.dense.bias', 'cls.predictions.transform.LayerNorm.bias']\n",
      "- This IS expected if you are initializing BertModel from the checkpoint of a model trained on another task or with another architecture (e.g. initializing a BertForSequenceClassification model from a BertForPreTraining model).\n",
      "- This IS NOT expected if you are initializing BertModel from the checkpoint of a model that you expect to be exactly identical (initializing a BertForSequenceClassification model from a BertForSequenceClassification model).\n"
     ]
    },
    {
     "name": "stdout",
     "output_type": "stream",
     "text": [
      "Model downloaded: bert-base-uncased\n",
      "training time: 0.7271115258336067\n",
      "accuracy: 47.247703552246094\n",
      "{'params': {'reservoir_dim': 1000, 'spectral_radius': 1.5, 'leaking_rate': 0.9, 'input_scaling': 1.0, 'bias_scaling': 0.0, 'sparsity': 0.0, 'activation_function': 'relu', 'alpha': 0.1}, 'accuracy': [61.46788787841797, 51.37614440917969, 62.844032287597656, 47.247703552246094], 'time': [0.8086278280243278, 0.7384754344820976, 0.772357183508575, 0.7271115258336067]}\n"
     ]
    },
    {
     "name": "stderr",
     "output_type": "stream",
     "text": [
      "Some weights of the model checkpoint at bert-base-uncased were not used when initializing BertModel: ['cls.predictions.bias', 'cls.predictions.transform.dense.weight', 'cls.predictions.transform.LayerNorm.weight', 'cls.seq_relationship.weight', 'cls.predictions.decoder.weight', 'cls.seq_relationship.bias', 'cls.predictions.transform.dense.bias', 'cls.predictions.transform.LayerNorm.bias']\n",
      "- This IS expected if you are initializing BertModel from the checkpoint of a model trained on another task or with another architecture (e.g. initializing a BertForSequenceClassification model from a BertForPreTraining model).\n",
      "- This IS NOT expected if you are initializing BertModel from the checkpoint of a model that you expect to be exactly identical (initializing a BertForSequenceClassification model from a BertForSequenceClassification model).\n"
     ]
    },
    {
     "name": "stdout",
     "output_type": "stream",
     "text": [
      "Model downloaded: bert-base-uncased\n",
      "training time: 0.7943942230194807\n",
      "accuracy: 44.49541091918945\n",
      "{'params': {'reservoir_dim': 1000, 'spectral_radius': 1.5, 'leaking_rate': 0.9, 'input_scaling': 1.0, 'bias_scaling': 0.0, 'sparsity': 0.0, 'activation_function': 'relu', 'alpha': 0.1}, 'accuracy': [61.46788787841797, 51.37614440917969, 62.844032287597656, 47.247703552246094, 44.49541091918945], 'time': [0.8086278280243278, 0.7384754344820976, 0.772357183508575, 0.7271115258336067, 0.7943942230194807]}\n"
     ]
    },
    {
     "data": {
      "application/vnd.jupyter.widget-view+json": {
       "model_id": "df821ad335f84759a09d559f3bf64172",
       "version_major": 2,
       "version_minor": 0
      },
      "text/plain": [
       "  0%|          | 0/5 [00:00<?, ?it/s]"
      ]
     },
     "metadata": {},
     "output_type": "display_data"
    },
    {
     "name": "stderr",
     "output_type": "stream",
     "text": [
      "Some weights of the model checkpoint at bert-base-uncased were not used when initializing BertModel: ['cls.predictions.bias', 'cls.predictions.transform.dense.weight', 'cls.predictions.transform.LayerNorm.weight', 'cls.seq_relationship.weight', 'cls.predictions.decoder.weight', 'cls.seq_relationship.bias', 'cls.predictions.transform.dense.bias', 'cls.predictions.transform.LayerNorm.bias']\n",
      "- This IS expected if you are initializing BertModel from the checkpoint of a model trained on another task or with another architecture (e.g. initializing a BertForSequenceClassification model from a BertForPreTraining model).\n",
      "- This IS NOT expected if you are initializing BertModel from the checkpoint of a model that you expect to be exactly identical (initializing a BertForSequenceClassification model from a BertForSequenceClassification model).\n"
     ]
    },
    {
     "name": "stdout",
     "output_type": "stream",
     "text": [
      "Model downloaded: bert-base-uncased\n",
      "training time: 0.7258976576849818\n",
      "accuracy: 56.88072967529297\n",
      "{'params': {'reservoir_dim': 1000, 'spectral_radius': 1.5, 'leaking_rate': 0.9, 'input_scaling': 1.0, 'bias_scaling': 0.0, 'sparsity': 0.0, 'activation_function': 'relu', 'alpha': 1.0}, 'accuracy': [56.88072967529297], 'time': [0.7258976576849818]}\n"
     ]
    },
    {
     "name": "stderr",
     "output_type": "stream",
     "text": [
      "Some weights of the model checkpoint at bert-base-uncased were not used when initializing BertModel: ['cls.predictions.bias', 'cls.predictions.transform.dense.weight', 'cls.predictions.transform.LayerNorm.weight', 'cls.seq_relationship.weight', 'cls.predictions.decoder.weight', 'cls.seq_relationship.bias', 'cls.predictions.transform.dense.bias', 'cls.predictions.transform.LayerNorm.bias']\n",
      "- This IS expected if you are initializing BertModel from the checkpoint of a model trained on another task or with another architecture (e.g. initializing a BertForSequenceClassification model from a BertForPreTraining model).\n",
      "- This IS NOT expected if you are initializing BertModel from the checkpoint of a model that you expect to be exactly identical (initializing a BertForSequenceClassification model from a BertForSequenceClassification model).\n"
     ]
    },
    {
     "name": "stdout",
     "output_type": "stream",
     "text": [
      "Model downloaded: bert-base-uncased\n",
      "training time: 0.7537799756973982\n",
      "accuracy: 51.834861755371094\n",
      "{'params': {'reservoir_dim': 1000, 'spectral_radius': 1.5, 'leaking_rate': 0.9, 'input_scaling': 1.0, 'bias_scaling': 0.0, 'sparsity': 0.0, 'activation_function': 'relu', 'alpha': 1.0}, 'accuracy': [56.88072967529297, 51.834861755371094], 'time': [0.7258976576849818, 0.7537799756973982]}\n"
     ]
    },
    {
     "name": "stderr",
     "output_type": "stream",
     "text": [
      "Some weights of the model checkpoint at bert-base-uncased were not used when initializing BertModel: ['cls.predictions.bias', 'cls.predictions.transform.dense.weight', 'cls.predictions.transform.LayerNorm.weight', 'cls.seq_relationship.weight', 'cls.predictions.decoder.weight', 'cls.seq_relationship.bias', 'cls.predictions.transform.dense.bias', 'cls.predictions.transform.LayerNorm.bias']\n",
      "- This IS expected if you are initializing BertModel from the checkpoint of a model trained on another task or with another architecture (e.g. initializing a BertForSequenceClassification model from a BertForPreTraining model).\n",
      "- This IS NOT expected if you are initializing BertModel from the checkpoint of a model that you expect to be exactly identical (initializing a BertForSequenceClassification model from a BertForSequenceClassification model).\n"
     ]
    },
    {
     "name": "stdout",
     "output_type": "stream",
     "text": [
      "Model downloaded: bert-base-uncased\n",
      "training time: 0.6760690407827497\n",
      "accuracy: 60.55045700073242\n",
      "{'params': {'reservoir_dim': 1000, 'spectral_radius': 1.5, 'leaking_rate': 0.9, 'input_scaling': 1.0, 'bias_scaling': 0.0, 'sparsity': 0.0, 'activation_function': 'relu', 'alpha': 1.0}, 'accuracy': [56.88072967529297, 51.834861755371094, 60.55045700073242], 'time': [0.7258976576849818, 0.7537799756973982, 0.6760690407827497]}\n"
     ]
    },
    {
     "name": "stderr",
     "output_type": "stream",
     "text": [
      "Some weights of the model checkpoint at bert-base-uncased were not used when initializing BertModel: ['cls.predictions.bias', 'cls.predictions.transform.dense.weight', 'cls.predictions.transform.LayerNorm.weight', 'cls.seq_relationship.weight', 'cls.predictions.decoder.weight', 'cls.seq_relationship.bias', 'cls.predictions.transform.dense.bias', 'cls.predictions.transform.LayerNorm.bias']\n",
      "- This IS expected if you are initializing BertModel from the checkpoint of a model trained on another task or with another architecture (e.g. initializing a BertForSequenceClassification model from a BertForPreTraining model).\n",
      "- This IS NOT expected if you are initializing BertModel from the checkpoint of a model that you expect to be exactly identical (initializing a BertForSequenceClassification model from a BertForSequenceClassification model).\n"
     ]
    },
    {
     "name": "stdout",
     "output_type": "stream",
     "text": [
      "Model downloaded: bert-base-uncased\n",
      "training time: 0.7331203278154135\n",
      "accuracy: 51.37614440917969\n",
      "{'params': {'reservoir_dim': 1000, 'spectral_radius': 1.5, 'leaking_rate': 0.9, 'input_scaling': 1.0, 'bias_scaling': 0.0, 'sparsity': 0.0, 'activation_function': 'relu', 'alpha': 1.0}, 'accuracy': [56.88072967529297, 51.834861755371094, 60.55045700073242, 51.37614440917969], 'time': [0.7258976576849818, 0.7537799756973982, 0.6760690407827497, 0.7331203278154135]}\n"
     ]
    },
    {
     "name": "stderr",
     "output_type": "stream",
     "text": [
      "Some weights of the model checkpoint at bert-base-uncased were not used when initializing BertModel: ['cls.predictions.bias', 'cls.predictions.transform.dense.weight', 'cls.predictions.transform.LayerNorm.weight', 'cls.seq_relationship.weight', 'cls.predictions.decoder.weight', 'cls.seq_relationship.bias', 'cls.predictions.transform.dense.bias', 'cls.predictions.transform.LayerNorm.bias']\n",
      "- This IS expected if you are initializing BertModel from the checkpoint of a model trained on another task or with another architecture (e.g. initializing a BertForSequenceClassification model from a BertForPreTraining model).\n",
      "- This IS NOT expected if you are initializing BertModel from the checkpoint of a model that you expect to be exactly identical (initializing a BertForSequenceClassification model from a BertForSequenceClassification model).\n"
     ]
    },
    {
     "name": "stdout",
     "output_type": "stream",
     "text": [
      "Model downloaded: bert-base-uncased\n",
      "training time: 0.73955147434026\n",
      "accuracy: 49.541282653808594\n",
      "{'params': {'reservoir_dim': 1000, 'spectral_radius': 1.5, 'leaking_rate': 0.9, 'input_scaling': 1.0, 'bias_scaling': 0.0, 'sparsity': 0.0, 'activation_function': 'relu', 'alpha': 1.0}, 'accuracy': [56.88072967529297, 51.834861755371094, 60.55045700073242, 51.37614440917969, 49.541282653808594], 'time': [0.7258976576849818, 0.7537799756973982, 0.6760690407827497, 0.7331203278154135, 0.73955147434026]}\n"
     ]
    },
    {
     "data": {
      "application/vnd.jupyter.widget-view+json": {
       "model_id": "f97f4c0b1bcf479a926ac3c96e1a477c",
       "version_major": 2,
       "version_minor": 0
      },
      "text/plain": [
       "  0%|          | 0/5 [00:00<?, ?it/s]"
      ]
     },
     "metadata": {},
     "output_type": "display_data"
    },
    {
     "name": "stderr",
     "output_type": "stream",
     "text": [
      "Some weights of the model checkpoint at bert-base-uncased were not used when initializing BertModel: ['cls.predictions.bias', 'cls.predictions.transform.dense.weight', 'cls.predictions.transform.LayerNorm.weight', 'cls.seq_relationship.weight', 'cls.predictions.decoder.weight', 'cls.seq_relationship.bias', 'cls.predictions.transform.dense.bias', 'cls.predictions.transform.LayerNorm.bias']\n",
      "- This IS expected if you are initializing BertModel from the checkpoint of a model trained on another task or with another architecture (e.g. initializing a BertForSequenceClassification model from a BertForPreTraining model).\n",
      "- This IS NOT expected if you are initializing BertModel from the checkpoint of a model that you expect to be exactly identical (initializing a BertForSequenceClassification model from a BertForSequenceClassification model).\n"
     ]
    },
    {
     "name": "stdout",
     "output_type": "stream",
     "text": [
      "Model downloaded: bert-base-uncased\n",
      "training time: 0.6732055749744177\n",
      "accuracy: 56.88072967529297\n",
      "{'params': {'reservoir_dim': 1000, 'spectral_radius': 1.5, 'leaking_rate': 0.9, 'input_scaling': 1.0, 'bias_scaling': 0.0, 'sparsity': 0.0, 'activation_function': 'relu', 'alpha': 10.0}, 'accuracy': [56.88072967529297], 'time': [0.6732055749744177]}\n"
     ]
    },
    {
     "name": "stderr",
     "output_type": "stream",
     "text": [
      "Some weights of the model checkpoint at bert-base-uncased were not used when initializing BertModel: ['cls.predictions.bias', 'cls.predictions.transform.dense.weight', 'cls.predictions.transform.LayerNorm.weight', 'cls.seq_relationship.weight', 'cls.predictions.decoder.weight', 'cls.seq_relationship.bias', 'cls.predictions.transform.dense.bias', 'cls.predictions.transform.LayerNorm.bias']\n",
      "- This IS expected if you are initializing BertModel from the checkpoint of a model trained on another task or with another architecture (e.g. initializing a BertForSequenceClassification model from a BertForPreTraining model).\n",
      "- This IS NOT expected if you are initializing BertModel from the checkpoint of a model that you expect to be exactly identical (initializing a BertForSequenceClassification model from a BertForSequenceClassification model).\n"
     ]
    },
    {
     "name": "stdout",
     "output_type": "stream",
     "text": [
      "Model downloaded: bert-base-uncased\n",
      "training time: 0.6888116234913468\n",
      "accuracy: 55.50458526611328\n",
      "{'params': {'reservoir_dim': 1000, 'spectral_radius': 1.5, 'leaking_rate': 0.9, 'input_scaling': 1.0, 'bias_scaling': 0.0, 'sparsity': 0.0, 'activation_function': 'relu', 'alpha': 10.0}, 'accuracy': [56.88072967529297, 55.50458526611328], 'time': [0.6732055749744177, 0.6888116234913468]}\n"
     ]
    },
    {
     "name": "stderr",
     "output_type": "stream",
     "text": [
      "Some weights of the model checkpoint at bert-base-uncased were not used when initializing BertModel: ['cls.predictions.bias', 'cls.predictions.transform.dense.weight', 'cls.predictions.transform.LayerNorm.weight', 'cls.seq_relationship.weight', 'cls.predictions.decoder.weight', 'cls.seq_relationship.bias', 'cls.predictions.transform.dense.bias', 'cls.predictions.transform.LayerNorm.bias']\n",
      "- This IS expected if you are initializing BertModel from the checkpoint of a model trained on another task or with another architecture (e.g. initializing a BertForSequenceClassification model from a BertForPreTraining model).\n",
      "- This IS NOT expected if you are initializing BertModel from the checkpoint of a model that you expect to be exactly identical (initializing a BertForSequenceClassification model from a BertForSequenceClassification model).\n"
     ]
    },
    {
     "name": "stdout",
     "output_type": "stream",
     "text": [
      "Model downloaded: bert-base-uncased\n",
      "training time: 0.9042959986254573\n",
      "accuracy: 58.71559524536133\n",
      "{'params': {'reservoir_dim': 1000, 'spectral_radius': 1.5, 'leaking_rate': 0.9, 'input_scaling': 1.0, 'bias_scaling': 0.0, 'sparsity': 0.0, 'activation_function': 'relu', 'alpha': 10.0}, 'accuracy': [56.88072967529297, 55.50458526611328, 58.71559524536133], 'time': [0.6732055749744177, 0.6888116234913468, 0.9042959986254573]}\n"
     ]
    },
    {
     "name": "stderr",
     "output_type": "stream",
     "text": [
      "Some weights of the model checkpoint at bert-base-uncased were not used when initializing BertModel: ['cls.predictions.bias', 'cls.predictions.transform.dense.weight', 'cls.predictions.transform.LayerNorm.weight', 'cls.seq_relationship.weight', 'cls.predictions.decoder.weight', 'cls.seq_relationship.bias', 'cls.predictions.transform.dense.bias', 'cls.predictions.transform.LayerNorm.bias']\n",
      "- This IS expected if you are initializing BertModel from the checkpoint of a model trained on another task or with another architecture (e.g. initializing a BertForSequenceClassification model from a BertForPreTraining model).\n",
      "- This IS NOT expected if you are initializing BertModel from the checkpoint of a model that you expect to be exactly identical (initializing a BertForSequenceClassification model from a BertForSequenceClassification model).\n"
     ]
    },
    {
     "name": "stdout",
     "output_type": "stream",
     "text": [
      "Model downloaded: bert-base-uncased\n",
      "training time: 0.7401770064607263\n",
      "accuracy: 55.50458526611328\n",
      "{'params': {'reservoir_dim': 1000, 'spectral_radius': 1.5, 'leaking_rate': 0.9, 'input_scaling': 1.0, 'bias_scaling': 0.0, 'sparsity': 0.0, 'activation_function': 'relu', 'alpha': 10.0}, 'accuracy': [56.88072967529297, 55.50458526611328, 58.71559524536133, 55.50458526611328], 'time': [0.6732055749744177, 0.6888116234913468, 0.9042959986254573, 0.7401770064607263]}\n"
     ]
    },
    {
     "name": "stderr",
     "output_type": "stream",
     "text": [
      "Some weights of the model checkpoint at bert-base-uncased were not used when initializing BertModel: ['cls.predictions.bias', 'cls.predictions.transform.dense.weight', 'cls.predictions.transform.LayerNorm.weight', 'cls.seq_relationship.weight', 'cls.predictions.decoder.weight', 'cls.seq_relationship.bias', 'cls.predictions.transform.dense.bias', 'cls.predictions.transform.LayerNorm.bias']\n",
      "- This IS expected if you are initializing BertModel from the checkpoint of a model trained on another task or with another architecture (e.g. initializing a BertForSequenceClassification model from a BertForPreTraining model).\n",
      "- This IS NOT expected if you are initializing BertModel from the checkpoint of a model that you expect to be exactly identical (initializing a BertForSequenceClassification model from a BertForSequenceClassification model).\n"
     ]
    },
    {
     "name": "stdout",
     "output_type": "stream",
     "text": [
      "Model downloaded: bert-base-uncased\n",
      "training time: 0.7603365499526262\n",
      "accuracy: 56.42201614379883\n",
      "{'params': {'reservoir_dim': 1000, 'spectral_radius': 1.5, 'leaking_rate': 0.9, 'input_scaling': 1.0, 'bias_scaling': 0.0, 'sparsity': 0.0, 'activation_function': 'relu', 'alpha': 10.0}, 'accuracy': [56.88072967529297, 55.50458526611328, 58.71559524536133, 55.50458526611328, 56.42201614379883], 'time': [0.6732055749744177, 0.6888116234913468, 0.9042959986254573, 0.7401770064607263, 0.7603365499526262]}\n"
     ]
    },
    {
     "data": {
      "application/vnd.jupyter.widget-view+json": {
       "model_id": "db3370d9688446bdb0e41ade80806c2d",
       "version_major": 2,
       "version_minor": 0
      },
      "text/plain": [
       "  0%|          | 0/5 [00:00<?, ?it/s]"
      ]
     },
     "metadata": {},
     "output_type": "display_data"
    },
    {
     "name": "stderr",
     "output_type": "stream",
     "text": [
      "Some weights of the model checkpoint at bert-base-uncased were not used when initializing BertModel: ['cls.predictions.bias', 'cls.predictions.transform.dense.weight', 'cls.predictions.transform.LayerNorm.weight', 'cls.seq_relationship.weight', 'cls.predictions.decoder.weight', 'cls.seq_relationship.bias', 'cls.predictions.transform.dense.bias', 'cls.predictions.transform.LayerNorm.bias']\n",
      "- This IS expected if you are initializing BertModel from the checkpoint of a model trained on another task or with another architecture (e.g. initializing a BertForSequenceClassification model from a BertForPreTraining model).\n",
      "- This IS NOT expected if you are initializing BertModel from the checkpoint of a model that you expect to be exactly identical (initializing a BertForSequenceClassification model from a BertForSequenceClassification model).\n"
     ]
    },
    {
     "name": "stdout",
     "output_type": "stream",
     "text": [
      "Model downloaded: bert-base-uncased\n",
      "training time: 0.6340726800262928\n",
      "accuracy: 25.688072204589844\n",
      "{'params': {'reservoir_dim': 1000, 'spectral_radius': 1.5, 'leaking_rate': 0.9, 'input_scaling': 1.0, 'bias_scaling': 0.0, 'sparsity': 0.99, 'activation_function': 'relu', 'alpha': 0.1}, 'accuracy': [25.688072204589844], 'time': [0.6340726800262928]}\n"
     ]
    },
    {
     "name": "stderr",
     "output_type": "stream",
     "text": [
      "Some weights of the model checkpoint at bert-base-uncased were not used when initializing BertModel: ['cls.predictions.bias', 'cls.predictions.transform.dense.weight', 'cls.predictions.transform.LayerNorm.weight', 'cls.seq_relationship.weight', 'cls.predictions.decoder.weight', 'cls.seq_relationship.bias', 'cls.predictions.transform.dense.bias', 'cls.predictions.transform.LayerNorm.bias']\n",
      "- This IS expected if you are initializing BertModel from the checkpoint of a model trained on another task or with another architecture (e.g. initializing a BertForSequenceClassification model from a BertForPreTraining model).\n",
      "- This IS NOT expected if you are initializing BertModel from the checkpoint of a model that you expect to be exactly identical (initializing a BertForSequenceClassification model from a BertForSequenceClassification model).\n"
     ]
    },
    {
     "name": "stdout",
     "output_type": "stream",
     "text": [
      "Model downloaded: bert-base-uncased\n",
      "training time: 0.7079671192914248\n",
      "accuracy: 31.192659378051758\n",
      "{'params': {'reservoir_dim': 1000, 'spectral_radius': 1.5, 'leaking_rate': 0.9, 'input_scaling': 1.0, 'bias_scaling': 0.0, 'sparsity': 0.99, 'activation_function': 'relu', 'alpha': 0.1}, 'accuracy': [25.688072204589844, 31.192659378051758], 'time': [0.6340726800262928, 0.7079671192914248]}\n"
     ]
    },
    {
     "name": "stderr",
     "output_type": "stream",
     "text": [
      "Some weights of the model checkpoint at bert-base-uncased were not used when initializing BertModel: ['cls.predictions.bias', 'cls.predictions.transform.dense.weight', 'cls.predictions.transform.LayerNorm.weight', 'cls.seq_relationship.weight', 'cls.predictions.decoder.weight', 'cls.seq_relationship.bias', 'cls.predictions.transform.dense.bias', 'cls.predictions.transform.LayerNorm.bias']\n",
      "- This IS expected if you are initializing BertModel from the checkpoint of a model trained on another task or with another architecture (e.g. initializing a BertForSequenceClassification model from a BertForPreTraining model).\n",
      "- This IS NOT expected if you are initializing BertModel from the checkpoint of a model that you expect to be exactly identical (initializing a BertForSequenceClassification model from a BertForSequenceClassification model).\n"
     ]
    },
    {
     "name": "stdout",
     "output_type": "stream",
     "text": [
      "Model downloaded: bert-base-uncased\n",
      "training time: 0.7491265032440424\n",
      "accuracy: 30.27522850036621\n",
      "{'params': {'reservoir_dim': 1000, 'spectral_radius': 1.5, 'leaking_rate': 0.9, 'input_scaling': 1.0, 'bias_scaling': 0.0, 'sparsity': 0.99, 'activation_function': 'relu', 'alpha': 0.1}, 'accuracy': [25.688072204589844, 31.192659378051758, 30.27522850036621], 'time': [0.6340726800262928, 0.7079671192914248, 0.7491265032440424]}\n"
     ]
    },
    {
     "name": "stderr",
     "output_type": "stream",
     "text": [
      "Some weights of the model checkpoint at bert-base-uncased were not used when initializing BertModel: ['cls.predictions.bias', 'cls.predictions.transform.dense.weight', 'cls.predictions.transform.LayerNorm.weight', 'cls.seq_relationship.weight', 'cls.predictions.decoder.weight', 'cls.seq_relationship.bias', 'cls.predictions.transform.dense.bias', 'cls.predictions.transform.LayerNorm.bias']\n",
      "- This IS expected if you are initializing BertModel from the checkpoint of a model trained on another task or with another architecture (e.g. initializing a BertForSequenceClassification model from a BertForPreTraining model).\n",
      "- This IS NOT expected if you are initializing BertModel from the checkpoint of a model that you expect to be exactly identical (initializing a BertForSequenceClassification model from a BertForSequenceClassification model).\n"
     ]
    },
    {
     "name": "stdout",
     "output_type": "stream",
     "text": [
      "Model downloaded: bert-base-uncased\n",
      "training time: 0.7192012295126915\n",
      "accuracy: 30.27522850036621\n",
      "{'params': {'reservoir_dim': 1000, 'spectral_radius': 1.5, 'leaking_rate': 0.9, 'input_scaling': 1.0, 'bias_scaling': 0.0, 'sparsity': 0.99, 'activation_function': 'relu', 'alpha': 0.1}, 'accuracy': [25.688072204589844, 31.192659378051758, 30.27522850036621, 30.27522850036621], 'time': [0.6340726800262928, 0.7079671192914248, 0.7491265032440424, 0.7192012295126915]}\n"
     ]
    },
    {
     "name": "stderr",
     "output_type": "stream",
     "text": [
      "Some weights of the model checkpoint at bert-base-uncased were not used when initializing BertModel: ['cls.predictions.bias', 'cls.predictions.transform.dense.weight', 'cls.predictions.transform.LayerNorm.weight', 'cls.seq_relationship.weight', 'cls.predictions.decoder.weight', 'cls.seq_relationship.bias', 'cls.predictions.transform.dense.bias', 'cls.predictions.transform.LayerNorm.bias']\n",
      "- This IS expected if you are initializing BertModel from the checkpoint of a model trained on another task or with another architecture (e.g. initializing a BertForSequenceClassification model from a BertForPreTraining model).\n",
      "- This IS NOT expected if you are initializing BertModel from the checkpoint of a model that you expect to be exactly identical (initializing a BertForSequenceClassification model from a BertForSequenceClassification model).\n"
     ]
    },
    {
     "name": "stdout",
     "output_type": "stream",
     "text": [
      "Model downloaded: bert-base-uncased\n",
      "training time: 0.6676253592595458\n",
      "accuracy: 57.339447021484375\n",
      "{'params': {'reservoir_dim': 1000, 'spectral_radius': 1.5, 'leaking_rate': 0.9, 'input_scaling': 1.0, 'bias_scaling': 0.0, 'sparsity': 0.99, 'activation_function': 'relu', 'alpha': 0.1}, 'accuracy': [25.688072204589844, 31.192659378051758, 30.27522850036621, 30.27522850036621, 57.339447021484375], 'time': [0.6340726800262928, 0.7079671192914248, 0.7491265032440424, 0.7192012295126915, 0.6676253592595458]}\n"
     ]
    },
    {
     "data": {
      "application/vnd.jupyter.widget-view+json": {
       "model_id": "93ca18cd7c3f4ffcaf8126d34485ca07",
       "version_major": 2,
       "version_minor": 0
      },
      "text/plain": [
       "  0%|          | 0/5 [00:00<?, ?it/s]"
      ]
     },
     "metadata": {},
     "output_type": "display_data"
    },
    {
     "name": "stderr",
     "output_type": "stream",
     "text": [
      "Some weights of the model checkpoint at bert-base-uncased were not used when initializing BertModel: ['cls.predictions.bias', 'cls.predictions.transform.dense.weight', 'cls.predictions.transform.LayerNorm.weight', 'cls.seq_relationship.weight', 'cls.predictions.decoder.weight', 'cls.seq_relationship.bias', 'cls.predictions.transform.dense.bias', 'cls.predictions.transform.LayerNorm.bias']\n",
      "- This IS expected if you are initializing BertModel from the checkpoint of a model trained on another task or with another architecture (e.g. initializing a BertForSequenceClassification model from a BertForPreTraining model).\n",
      "- This IS NOT expected if you are initializing BertModel from the checkpoint of a model that you expect to be exactly identical (initializing a BertForSequenceClassification model from a BertForSequenceClassification model).\n"
     ]
    },
    {
     "name": "stdout",
     "output_type": "stream",
     "text": [
      "Model downloaded: bert-base-uncased\n",
      "training time: 0.6469981679692864\n",
      "accuracy: 30.27522850036621\n",
      "{'params': {'reservoir_dim': 1000, 'spectral_radius': 1.5, 'leaking_rate': 0.9, 'input_scaling': 1.0, 'bias_scaling': 0.0, 'sparsity': 0.99, 'activation_function': 'relu', 'alpha': 1.0}, 'accuracy': [30.27522850036621], 'time': [0.6469981679692864]}\n"
     ]
    },
    {
     "name": "stderr",
     "output_type": "stream",
     "text": [
      "Some weights of the model checkpoint at bert-base-uncased were not used when initializing BertModel: ['cls.predictions.bias', 'cls.predictions.transform.dense.weight', 'cls.predictions.transform.LayerNorm.weight', 'cls.seq_relationship.weight', 'cls.predictions.decoder.weight', 'cls.seq_relationship.bias', 'cls.predictions.transform.dense.bias', 'cls.predictions.transform.LayerNorm.bias']\n",
      "- This IS expected if you are initializing BertModel from the checkpoint of a model trained on another task or with another architecture (e.g. initializing a BertForSequenceClassification model from a BertForPreTraining model).\n",
      "- This IS NOT expected if you are initializing BertModel from the checkpoint of a model that you expect to be exactly identical (initializing a BertForSequenceClassification model from a BertForSequenceClassification model).\n"
     ]
    },
    {
     "name": "stdout",
     "output_type": "stream",
     "text": [
      "Model downloaded: bert-base-uncased\n",
      "training time: 0.7846032604575157\n",
      "accuracy: 44.95412826538086\n",
      "{'params': {'reservoir_dim': 1000, 'spectral_radius': 1.5, 'leaking_rate': 0.9, 'input_scaling': 1.0, 'bias_scaling': 0.0, 'sparsity': 0.99, 'activation_function': 'relu', 'alpha': 1.0}, 'accuracy': [30.27522850036621, 44.95412826538086], 'time': [0.6469981679692864, 0.7846032604575157]}\n"
     ]
    },
    {
     "name": "stderr",
     "output_type": "stream",
     "text": [
      "Some weights of the model checkpoint at bert-base-uncased were not used when initializing BertModel: ['cls.predictions.bias', 'cls.predictions.transform.dense.weight', 'cls.predictions.transform.LayerNorm.weight', 'cls.seq_relationship.weight', 'cls.predictions.decoder.weight', 'cls.seq_relationship.bias', 'cls.predictions.transform.dense.bias', 'cls.predictions.transform.LayerNorm.bias']\n",
      "- This IS expected if you are initializing BertModel from the checkpoint of a model trained on another task or with another architecture (e.g. initializing a BertForSequenceClassification model from a BertForPreTraining model).\n",
      "- This IS NOT expected if you are initializing BertModel from the checkpoint of a model that you expect to be exactly identical (initializing a BertForSequenceClassification model from a BertForSequenceClassification model).\n"
     ]
    },
    {
     "name": "stdout",
     "output_type": "stream",
     "text": [
      "Model downloaded: bert-base-uncased\n",
      "training time: 0.7866819873452187\n",
      "accuracy: 39.44953918457031\n",
      "{'params': {'reservoir_dim': 1000, 'spectral_radius': 1.5, 'leaking_rate': 0.9, 'input_scaling': 1.0, 'bias_scaling': 0.0, 'sparsity': 0.99, 'activation_function': 'relu', 'alpha': 1.0}, 'accuracy': [30.27522850036621, 44.95412826538086, 39.44953918457031], 'time': [0.6469981679692864, 0.7846032604575157, 0.7866819873452187]}\n"
     ]
    },
    {
     "name": "stderr",
     "output_type": "stream",
     "text": [
      "Some weights of the model checkpoint at bert-base-uncased were not used when initializing BertModel: ['cls.predictions.bias', 'cls.predictions.transform.dense.weight', 'cls.predictions.transform.LayerNorm.weight', 'cls.seq_relationship.weight', 'cls.predictions.decoder.weight', 'cls.seq_relationship.bias', 'cls.predictions.transform.dense.bias', 'cls.predictions.transform.LayerNorm.bias']\n",
      "- This IS expected if you are initializing BertModel from the checkpoint of a model trained on another task or with another architecture (e.g. initializing a BertForSequenceClassification model from a BertForPreTraining model).\n",
      "- This IS NOT expected if you are initializing BertModel from the checkpoint of a model that you expect to be exactly identical (initializing a BertForSequenceClassification model from a BertForSequenceClassification model).\n"
     ]
    },
    {
     "name": "stdout",
     "output_type": "stream",
     "text": [
      "Model downloaded: bert-base-uncased\n",
      "training time: 0.7332699382677674\n",
      "accuracy: 22.018346786499023\n",
      "{'params': {'reservoir_dim': 1000, 'spectral_radius': 1.5, 'leaking_rate': 0.9, 'input_scaling': 1.0, 'bias_scaling': 0.0, 'sparsity': 0.99, 'activation_function': 'relu', 'alpha': 1.0}, 'accuracy': [30.27522850036621, 44.95412826538086, 39.44953918457031, 22.018346786499023], 'time': [0.6469981679692864, 0.7846032604575157, 0.7866819873452187, 0.7332699382677674]}\n"
     ]
    },
    {
     "name": "stderr",
     "output_type": "stream",
     "text": [
      "Some weights of the model checkpoint at bert-base-uncased were not used when initializing BertModel: ['cls.predictions.bias', 'cls.predictions.transform.dense.weight', 'cls.predictions.transform.LayerNorm.weight', 'cls.seq_relationship.weight', 'cls.predictions.decoder.weight', 'cls.seq_relationship.bias', 'cls.predictions.transform.dense.bias', 'cls.predictions.transform.LayerNorm.bias']\n",
      "- This IS expected if you are initializing BertModel from the checkpoint of a model trained on another task or with another architecture (e.g. initializing a BertForSequenceClassification model from a BertForPreTraining model).\n",
      "- This IS NOT expected if you are initializing BertModel from the checkpoint of a model that you expect to be exactly identical (initializing a BertForSequenceClassification model from a BertForSequenceClassification model).\n"
     ]
    },
    {
     "name": "stdout",
     "output_type": "stream",
     "text": [
      "Model downloaded: bert-base-uncased\n",
      "training time: 0.7323137260973454\n",
      "accuracy: 42.20183181762695\n",
      "{'params': {'reservoir_dim': 1000, 'spectral_radius': 1.5, 'leaking_rate': 0.9, 'input_scaling': 1.0, 'bias_scaling': 0.0, 'sparsity': 0.99, 'activation_function': 'relu', 'alpha': 1.0}, 'accuracy': [30.27522850036621, 44.95412826538086, 39.44953918457031, 22.018346786499023, 42.20183181762695], 'time': [0.6469981679692864, 0.7846032604575157, 0.7866819873452187, 0.7332699382677674, 0.7323137260973454]}\n"
     ]
    },
    {
     "data": {
      "application/vnd.jupyter.widget-view+json": {
       "model_id": "95ff9a82c2da419ab3398aec22eca274",
       "version_major": 2,
       "version_minor": 0
      },
      "text/plain": [
       "  0%|          | 0/5 [00:00<?, ?it/s]"
      ]
     },
     "metadata": {},
     "output_type": "display_data"
    },
    {
     "name": "stderr",
     "output_type": "stream",
     "text": [
      "Some weights of the model checkpoint at bert-base-uncased were not used when initializing BertModel: ['cls.predictions.bias', 'cls.predictions.transform.dense.weight', 'cls.predictions.transform.LayerNorm.weight', 'cls.seq_relationship.weight', 'cls.predictions.decoder.weight', 'cls.seq_relationship.bias', 'cls.predictions.transform.dense.bias', 'cls.predictions.transform.LayerNorm.bias']\n",
      "- This IS expected if you are initializing BertModel from the checkpoint of a model trained on another task or with another architecture (e.g. initializing a BertForSequenceClassification model from a BertForPreTraining model).\n",
      "- This IS NOT expected if you are initializing BertModel from the checkpoint of a model that you expect to be exactly identical (initializing a BertForSequenceClassification model from a BertForSequenceClassification model).\n"
     ]
    },
    {
     "name": "stdout",
     "output_type": "stream",
     "text": [
      "Model downloaded: bert-base-uncased\n",
      "training time: 0.7177361743524671\n",
      "accuracy: 36.69724655151367\n",
      "{'params': {'reservoir_dim': 1000, 'spectral_radius': 1.5, 'leaking_rate': 0.9, 'input_scaling': 1.0, 'bias_scaling': 0.0, 'sparsity': 0.99, 'activation_function': 'relu', 'alpha': 10.0}, 'accuracy': [36.69724655151367], 'time': [0.7177361743524671]}\n"
     ]
    },
    {
     "name": "stderr",
     "output_type": "stream",
     "text": [
      "Some weights of the model checkpoint at bert-base-uncased were not used when initializing BertModel: ['cls.predictions.bias', 'cls.predictions.transform.dense.weight', 'cls.predictions.transform.LayerNorm.weight', 'cls.seq_relationship.weight', 'cls.predictions.decoder.weight', 'cls.seq_relationship.bias', 'cls.predictions.transform.dense.bias', 'cls.predictions.transform.LayerNorm.bias']\n",
      "- This IS expected if you are initializing BertModel from the checkpoint of a model trained on another task or with another architecture (e.g. initializing a BertForSequenceClassification model from a BertForPreTraining model).\n",
      "- This IS NOT expected if you are initializing BertModel from the checkpoint of a model that you expect to be exactly identical (initializing a BertForSequenceClassification model from a BertForSequenceClassification model).\n"
     ]
    },
    {
     "name": "stdout",
     "output_type": "stream",
     "text": [
      "Model downloaded: bert-base-uncased\n",
      "training time: 0.7457960853353143\n",
      "accuracy: 57.339447021484375\n",
      "{'params': {'reservoir_dim': 1000, 'spectral_radius': 1.5, 'leaking_rate': 0.9, 'input_scaling': 1.0, 'bias_scaling': 0.0, 'sparsity': 0.99, 'activation_function': 'relu', 'alpha': 10.0}, 'accuracy': [36.69724655151367, 57.339447021484375], 'time': [0.7177361743524671, 0.7457960853353143]}\n"
     ]
    },
    {
     "name": "stderr",
     "output_type": "stream",
     "text": [
      "Some weights of the model checkpoint at bert-base-uncased were not used when initializing BertModel: ['cls.predictions.bias', 'cls.predictions.transform.dense.weight', 'cls.predictions.transform.LayerNorm.weight', 'cls.seq_relationship.weight', 'cls.predictions.decoder.weight', 'cls.seq_relationship.bias', 'cls.predictions.transform.dense.bias', 'cls.predictions.transform.LayerNorm.bias']\n",
      "- This IS expected if you are initializing BertModel from the checkpoint of a model trained on another task or with another architecture (e.g. initializing a BertForSequenceClassification model from a BertForPreTraining model).\n",
      "- This IS NOT expected if you are initializing BertModel from the checkpoint of a model that you expect to be exactly identical (initializing a BertForSequenceClassification model from a BertForSequenceClassification model).\n"
     ]
    },
    {
     "name": "stdout",
     "output_type": "stream",
     "text": [
      "Model downloaded: bert-base-uncased\n",
      "training time: 0.7898914348334074\n",
      "accuracy: 55.045867919921875\n",
      "{'params': {'reservoir_dim': 1000, 'spectral_radius': 1.5, 'leaking_rate': 0.9, 'input_scaling': 1.0, 'bias_scaling': 0.0, 'sparsity': 0.99, 'activation_function': 'relu', 'alpha': 10.0}, 'accuracy': [36.69724655151367, 57.339447021484375, 55.045867919921875], 'time': [0.7177361743524671, 0.7457960853353143, 0.7898914348334074]}\n"
     ]
    },
    {
     "name": "stderr",
     "output_type": "stream",
     "text": [
      "Some weights of the model checkpoint at bert-base-uncased were not used when initializing BertModel: ['cls.predictions.bias', 'cls.predictions.transform.dense.weight', 'cls.predictions.transform.LayerNorm.weight', 'cls.seq_relationship.weight', 'cls.predictions.decoder.weight', 'cls.seq_relationship.bias', 'cls.predictions.transform.dense.bias', 'cls.predictions.transform.LayerNorm.bias']\n",
      "- This IS expected if you are initializing BertModel from the checkpoint of a model trained on another task or with another architecture (e.g. initializing a BertForSequenceClassification model from a BertForPreTraining model).\n",
      "- This IS NOT expected if you are initializing BertModel from the checkpoint of a model that you expect to be exactly identical (initializing a BertForSequenceClassification model from a BertForSequenceClassification model).\n"
     ]
    },
    {
     "name": "stdout",
     "output_type": "stream",
     "text": [
      "Model downloaded: bert-base-uncased\n",
      "training time: 0.747077438980341\n",
      "accuracy: 49.999996185302734\n",
      "{'params': {'reservoir_dim': 1000, 'spectral_radius': 1.5, 'leaking_rate': 0.9, 'input_scaling': 1.0, 'bias_scaling': 0.0, 'sparsity': 0.99, 'activation_function': 'relu', 'alpha': 10.0}, 'accuracy': [36.69724655151367, 57.339447021484375, 55.045867919921875, 49.999996185302734], 'time': [0.7177361743524671, 0.7457960853353143, 0.7898914348334074, 0.747077438980341]}\n"
     ]
    },
    {
     "name": "stderr",
     "output_type": "stream",
     "text": [
      "Some weights of the model checkpoint at bert-base-uncased were not used when initializing BertModel: ['cls.predictions.bias', 'cls.predictions.transform.dense.weight', 'cls.predictions.transform.LayerNorm.weight', 'cls.seq_relationship.weight', 'cls.predictions.decoder.weight', 'cls.seq_relationship.bias', 'cls.predictions.transform.dense.bias', 'cls.predictions.transform.LayerNorm.bias']\n",
      "- This IS expected if you are initializing BertModel from the checkpoint of a model trained on another task or with another architecture (e.g. initializing a BertForSequenceClassification model from a BertForPreTraining model).\n",
      "- This IS NOT expected if you are initializing BertModel from the checkpoint of a model that you expect to be exactly identical (initializing a BertForSequenceClassification model from a BertForSequenceClassification model).\n"
     ]
    },
    {
     "name": "stdout",
     "output_type": "stream",
     "text": [
      "Model downloaded: bert-base-uncased\n",
      "training time: 0.6860917471349239\n",
      "accuracy: 53.66972351074219\n",
      "{'params': {'reservoir_dim': 1000, 'spectral_radius': 1.5, 'leaking_rate': 0.9, 'input_scaling': 1.0, 'bias_scaling': 0.0, 'sparsity': 0.99, 'activation_function': 'relu', 'alpha': 10.0}, 'accuracy': [36.69724655151367, 57.339447021484375, 55.045867919921875, 49.999996185302734, 53.66972351074219], 'time': [0.7177361743524671, 0.7457960853353143, 0.7898914348334074, 0.747077438980341, 0.6860917471349239]}\n"
     ]
    }
   ],
   "source": [
    "esn_results_l = []\n",
    "# cbs_results_l = []\n",
    "\n",
    "# loop over params\n",
    "for params in tqdm(params_l):\n",
    "\n",
    "    esn_d = {}\n",
    "    esn_d['params'] = params\n",
    "    esn_d['accuracy'] = []\n",
    "    esn_d['time'] = []\n",
    "\n",
    "#     cbs_d = {}\n",
    "#     cbs_d['params'] = params\n",
    "#     cbs_d['accuracy'] = []\n",
    "#     cbs_d['time'] = []\n",
    "\n",
    "    # loop over seeds\n",
    "    for seed in tqdm([42, 127, 74684, 888, 7716843]):\n",
    "\n",
    "        torch.manual_seed(seed)\n",
    "        random.seed(seed)\n",
    "        np.random.seed(seed)\n",
    "\n",
    "#         # loop over modes...\n",
    "#         for mode in tqdm(['esn', 'linear_layer']):\n",
    "\n",
    "        # ESN parameters\n",
    "        esn_params = {\n",
    "                    'embedding': 'bert-base-uncased', # TEXT.vocab.vectors,\n",
    "                    'distribution' : 'gaussian',              # uniform, gaussian\n",
    "                    'input_dim' : 768,                        # dim of BERT encoding!\n",
    "                    'reservoir_dim' : None,\n",
    "                    'bias_scaling' : None,\n",
    "                    'sparsity' : None,\n",
    "                    'spectral_radius' : None,\n",
    "                    'leaking_rate': None,\n",
    "                    'activation_function' : None,\n",
    "                    'input_scaling' : None,\n",
    "                    'mean' : 0.0,\n",
    "                    'std' : 1.0,\n",
    "                    'pooling_strategy' : 'mean',\n",
    "                    'bidirectional' : False,\n",
    "                    'device' : device,\n",
    "                    'mode' : 'esn', #None,\n",
    "                    'seed' : seed\n",
    "                     }\n",
    "\n",
    "        # Fill up the reservoir\n",
    "        for k, v in params.items():\n",
    "            if k in esn_params.keys():\n",
    "                esn_params[k] = v\n",
    "#         esn_params['mode'] = mode\n",
    "\n",
    "        # Instantiate the ESN\n",
    "        ESN = esn.EchoStateNetwork(**esn_params)\n",
    "        ESN.learning_algo = la.RidgeRegression(alpha=params['alpha'])\n",
    "        ESN = ESN.to(device)\n",
    "\n",
    "        # Warm up the ESN\n",
    "        nb_sentences = 10\n",
    "\n",
    "        for i in range(nb_sentences): \n",
    "            sentence = dataset_d[\"train\"].select([i])\n",
    "            dataloader_tmp = torch.utils.data.DataLoader(sentence, \n",
    "                                                         batch_size=1, \n",
    "                                                         collate_fn=DataCollatorWithPadding(tokenizer))  \n",
    "\n",
    "            for sentence in dataloader_tmp:\n",
    "                ESN.warm_up(sentence)\n",
    "\n",
    "        # train on mini train set\n",
    "        t0 = timer()\n",
    "        ESN.fit(dataloader_d[\"train\"])\n",
    "        t1 = timer()\n",
    "        time = t1 - t0\n",
    "        print(f'training time: {time}')\n",
    "\n",
    "        # acc on mini validation set\n",
    "        val_pred, val_acc = ESN.predict(dataloader_d[\"val\"], verbose=False)\n",
    "        print(f'accuracy: {val_acc.item()}')\n",
    "\n",
    "        # save results\n",
    "        if esn_params['mode'] == 'esn':\n",
    "            esn_d['time'].append(time)\n",
    "            esn_d['accuracy'].append(val_acc.item())\n",
    "            print(esn_d)\n",
    "\n",
    "#         elif mode == 'linear_layer':\n",
    "#             cbs_d['time'].append(time)\n",
    "#             cbs_d['accuracy'].append(val_acc.item())\n",
    "\n",
    "        # clean objects\n",
    "        del ESN\n",
    "        torch.cuda.empty_cache()\n",
    "\n",
    "    esn_results_l.append(esn_d)\n",
    "#     cbs_results_l.append(cbs_d)"
   ]
  },
  {
   "cell_type": "code",
   "execution_count": 24,
   "metadata": {
    "scrolled": true
   },
   "outputs": [],
   "source": [
    "# esn_results_l"
   ]
  },
  {
   "cell_type": "code",
   "execution_count": 22,
   "metadata": {},
   "outputs": [],
   "source": [
    "for d in esn_results_l:\n",
    "    d['accuracy_mean'] = np.mean(d['accuracy'])\n",
    "    d['accuracy_std'] = np.std(d['accuracy'])"
   ]
  },
  {
   "cell_type": "code",
   "execution_count": null,
   "metadata": {},
   "outputs": [],
   "source": []
  },
  {
   "cell_type": "code",
   "execution_count": 27,
   "metadata": {
    "scrolled": true
   },
   "outputs": [],
   "source": [
    "with open(os.path.join(RESULTS_PATH, RESULTS_FILE), 'wb') as fh:\n",
    "    pickle.dump(esn_results_l, fh)"
   ]
  },
  {
   "cell_type": "code",
   "execution_count": 6,
   "metadata": {},
   "outputs": [],
   "source": [
    "# with open(os.path.join(RESULTS_PATH, RESULTS_FILE), 'rb') as fh:\n",
    "#     esn_results_l = pickle.load(fh)"
   ]
  },
  {
   "cell_type": "code",
   "execution_count": null,
   "metadata": {},
   "outputs": [],
   "source": []
  }
 ],
 "metadata": {
  "kernelspec": {
   "display_name": "Python 3",
   "language": "python",
   "name": "python3"
  },
  "language_info": {
   "codemirror_mode": {
    "name": "ipython",
    "version": 3
   },
   "file_extension": ".py",
   "mimetype": "text/x-python",
   "name": "python",
   "nbconvert_exporter": "python",
   "pygments_lexer": "ipython3",
   "version": "3.7.9"
  }
 },
 "nbformat": 4,
 "nbformat_minor": 4
}
